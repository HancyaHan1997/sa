{
 "cells": [
  {
   "cell_type": "code",
   "execution_count": 1,
   "metadata": {},
   "outputs": [],
   "source": [
    "import pandas as pd\n",
    "import numpy as np\n",
    "import astropy as ap\n",
    "from tqdm import tqdm\n",
    "\n",
    "from astropy.coordinates import SkyCoord  # High-level coordinates\n",
    "from astropy.coordinates import ICRS, Galactic, FK4, FK5  # Low-level frames\n",
    "from astropy.coordinates import Angle, Latitude, Longitude  # Angles\n",
    "import astropy.units as u\n",
    "\n",
    "def print_full(x):\n",
    "    pd.set_option('display.max_rows', len(x))\n",
    "    print(x)\n",
    "    pd.reset_option('display.max_rows')"
   ]
  },
  {
   "cell_type": "code",
   "execution_count": 2,
   "metadata": {},
   "outputs": [],
   "source": [
    "clusters=pd.read_pickle('/home/cz136/project/sa/data/cluster.pkl')\n",
    "shapes=pd.read_pickle('/home/cz136/project/sa/data/shape.pkl')"
   ]
  },
  {
   "cell_type": "code",
   "execution_count": 3,
   "metadata": {},
   "outputs": [],
   "source": [
    "def get_theta_for_obj(obj1,obj2):\n",
    "    ra1,dec1=(obj1[('All', 'ra')],obj1[('All', 'dec')])\n",
    "    ra2,dec2=(obj2[('All', 'ra')],obj2[('All', 'dec')])\n",
    "    c1=SkyCoord(ra1*u.deg,dec1*u.deg)\n",
    "    c2=SkyCoord(ra2*u.deg,dec2*u.deg)\n",
    "    \n",
    "    return(90-c1.position_angle(c2).degree)\n",
    "    "
   ]
  },
  {
   "cell_type": "code",
   "execution_count": 4,
   "metadata": {},
   "outputs": [],
   "source": [
    "def get_pa_for_obj(obj):\n",
    "    e1=obj['All']['e1']\n",
    "    e2=obj['All']['e1']\n",
    "    \n",
    "    α =0.5*np.arctan2(e2,e1)\n",
    "    return(α)"
   ]
  },
  {
   "cell_type": "code",
   "execution_count": 5,
   "metadata": {},
   "outputs": [],
   "source": [
    "def get_phi_for_cluster(cluster):\n",
    "    center_id=cluster[('Alt', 'Alt1', 'ID_CENT')]\n",
    "    center = shapes[shapes.index==center_id]\n",
    "    \n",
    "    mem_match_id=cluster.name\n",
    "    members=shapes[shapes['All','MEM_MATCH_ID']==mem_match_id]\n",
    "    \n",
    "    pa=np.array([get_pa_for_obj(member[1]) for member in members.iterrows()]).flatten()\n",
    "    theta= np.array([get_theta_for_obj(member[1],center) for member in members.iterrows()]).flatten()\n",
    "    phi=pa-theta\n",
    "    return(phi)    "
   ]
  },
  {
   "cell_type": "code",
   "execution_count": 6,
   "metadata": {},
   "outputs": [
    {
     "name": "stderr",
     "output_type": "stream",
     "text": [
      "100%|██████████| 7066/7066 [17:22<00:00,  6.78it/s]\n"
     ]
    }
   ],
   "source": [
    "phi_list=[]\n",
    "for mem_matching_id in tqdm(clusters.index):\n",
    "    phi_array=get_phi_for_cluster(clusters.loc[mem_matching_id])\n",
    "    phi_list.append(phi_array)"
   ]
  },
  {
   "cell_type": "code",
   "execution_count": 15,
   "metadata": {},
   "outputs": [],
   "source": [
    "np.save(\"/home/cz136/project/sa/data/phi_list\",phi_list)"
   ]
  },
  {
   "cell_type": "code",
   "execution_count": 34,
   "metadata": {},
   "outputs": [
    {
     "data": {
      "text/plain": [
       "True"
      ]
     },
     "execution_count": 34,
     "metadata": {},
     "output_type": "execute_result"
    }
   ],
   "source": [
    "phi_1d[1]>=90 and phi_1d[1]<180"
   ]
  },
  {
   "cell_type": "code",
   "execution_count": 55,
   "metadata": {},
   "outputs": [
    {
     "data": {
      "text/plain": [
       "array([57.29509629, 62.80005532, 69.57661541, ..., 70.63442668,\n",
       "       71.34136119, 66.70996701])"
      ]
     },
     "execution_count": 55,
     "metadata": {},
     "output_type": "execute_result"
    }
   ],
   "source": [
    "phi_1d=np.concatenate(phi_list)\n",
    "phi_norm=np.zeros(len(phi_1d))\n",
    "\n",
    "phi_1d=np.where(phi_1d<=0,-phi_1d,phi_1d)\n",
    "phi_1d=np.where(phi_1d>=180,phi_1d-180,phi_1d)\n",
    "phi_1d=np.where(phi_1d>=90,180-phi_1d,phi_1d)\n",
    "\n",
    "#     if phi>=0 and phi<=90:\n",
    "#         np.append(phi_norm,phi)\n",
    "#     elif phi<=0:\n",
    "#         np.append(phi_norm,-phi)\n",
    "#     elif phi>=90 and phi<=180:\n",
    "#         np.append(phi_norm,180-phi)\n",
    "#     elif phi>=180:\n",
    "#         np.append(phi_norm,phi-180)\n",
    "#     else:\n",
    "#         print (\"Error\")\n",
    "#         print(phi)"
   ]
  },
  {
   "cell_type": "code",
   "execution_count": 56,
   "metadata": {},
   "outputs": [
    {
     "data": {
      "text/plain": [
       "count    394334.000000\n",
       "mean         45.717587\n",
       "std          26.406330\n",
       "min           0.000014\n",
       "25%          22.820737\n",
       "50%          45.676874\n",
       "75%          68.670759\n",
       "max          89.999089\n",
       "dtype: float64"
      ]
     },
     "execution_count": 56,
     "metadata": {},
     "output_type": "execute_result"
    }
   ],
   "source": [
    "pd.Series(phi_1d).describe()"
   ]
  },
  {
   "cell_type": "code",
   "execution_count": 44,
   "metadata": {},
   "outputs": [
    {
     "data": {
      "text/plain": [
       "array([117.19994468])"
      ]
     },
     "execution_count": 44,
     "metadata": {},
     "output_type": "execute_result"
    }
   ],
   "source": [
    "np.append(phi_norm,phi_1d[1])"
   ]
  },
  {
   "cell_type": "code",
   "execution_count": null,
   "metadata": {},
   "outputs": [],
   "source": [
    "phi_norm"
   ]
  },
  {
   "cell_type": "code",
   "execution_count": null,
   "metadata": {},
   "outputs": [],
   "source": []
  }
 ],
 "metadata": {
  "kernelspec": {
   "display_name": "Python 3",
   "language": "python",
   "name": "python3"
  },
  "language_info": {
   "codemirror_mode": {
    "name": "ipython",
    "version": 3
   },
   "file_extension": ".py",
   "mimetype": "text/x-python",
   "name": "python",
   "nbconvert_exporter": "python",
   "pygments_lexer": "ipython3",
   "version": "3.7.3"
  }
 },
 "nbformat": 4,
 "nbformat_minor": 4
}
