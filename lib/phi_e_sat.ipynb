{
 "cells": [
  {
   "cell_type": "code",
   "execution_count": 3,
   "metadata": {},
   "outputs": [],
   "source": [
    "%run /home/cz136/project/sa/lib/header.ipynb"
   ]
  },
  {
   "cell_type": "code",
   "execution_count": 4,
   "metadata": {},
   "outputs": [
    {
     "name": "stdout",
     "output_type": "stream",
     "text": [
      "394334\n",
      "7066\n",
      "244926\n"
     ]
    }
   ],
   "source": [
    "\n",
    "\n",
    "\n",
    "print(len(shapes))\n",
    "\n",
    "shapes=shapes[shapes[('All','PP')]>=0.55]\n",
    "shapes=shapes[shapes[('All','e1')]!=-9999]\n",
    "shapes=shapes[shapes[('All','e2')]!=-9999]\n",
    "\n",
    "clusters[('Alt', 'Alt1', 'P_CEN')]<=0.55\n",
    "\n",
    "# clusters.drop([202],inplace=True)\n",
    "\n",
    "print(len(clusters))\n",
    "print(len(shapes))"
   ]
  },
  {
   "cell_type": "code",
   "execution_count": 5,
   "metadata": {},
   "outputs": [
    {
     "data": {
      "text/html": [
       "<div>\n",
       "<style scoped>\n",
       "    .dataframe tbody tr th:only-of-type {\n",
       "        vertical-align: middle;\n",
       "    }\n",
       "\n",
       "    .dataframe tbody tr th {\n",
       "        vertical-align: top;\n",
       "    }\n",
       "\n",
       "    .dataframe thead tr th {\n",
       "        text-align: left;\n",
       "    }\n",
       "\n",
       "    .dataframe thead tr:last-of-type th {\n",
       "        text-align: right;\n",
       "    }\n",
       "</style>\n",
       "<table border=\"1\" class=\"dataframe\">\n",
       "  <thead>\n",
       "    <tr>\n",
       "      <th>Type</th>\n",
       "      <th>Alt</th>\n",
       "    </tr>\n",
       "    <tr>\n",
       "      <th>Kind</th>\n",
       "      <th>Alt1</th>\n",
       "    </tr>\n",
       "    <tr>\n",
       "      <th>Data</th>\n",
       "      <th>ID_CENT</th>\n",
       "    </tr>\n",
       "    <tr>\n",
       "      <th>(All, All, MEM_MATCH_ID)</th>\n",
       "      <th></th>\n",
       "    </tr>\n",
       "  </thead>\n",
       "  <tbody>\n",
       "    <tr>\n",
       "      <td>5</td>\n",
       "      <td>3138662814</td>\n",
       "    </tr>\n",
       "    <tr>\n",
       "      <td>32</td>\n",
       "      <td>3082542813</td>\n",
       "    </tr>\n",
       "    <tr>\n",
       "      <td>35</td>\n",
       "      <td>3158368426</td>\n",
       "    </tr>\n",
       "    <tr>\n",
       "      <td>48</td>\n",
       "      <td>3155802377</td>\n",
       "    </tr>\n",
       "    <tr>\n",
       "      <td>73</td>\n",
       "      <td>3093318168</td>\n",
       "    </tr>\n",
       "    <tr>\n",
       "      <td>...</td>\n",
       "      <td>...</td>\n",
       "    </tr>\n",
       "    <tr>\n",
       "      <td>22513</td>\n",
       "      <td>3041454014</td>\n",
       "    </tr>\n",
       "    <tr>\n",
       "      <td>23424</td>\n",
       "      <td>3132482488</td>\n",
       "    </tr>\n",
       "    <tr>\n",
       "      <td>23718</td>\n",
       "      <td>3027668464</td>\n",
       "    </tr>\n",
       "    <tr>\n",
       "      <td>30168</td>\n",
       "      <td>3034346942</td>\n",
       "    </tr>\n",
       "    <tr>\n",
       "      <td>32784</td>\n",
       "      <td>3119076931</td>\n",
       "    </tr>\n",
       "  </tbody>\n",
       "</table>\n",
       "<p>792 rows × 1 columns</p>\n",
       "</div>"
      ],
      "text/plain": [
       "Type                             Alt\n",
       "Kind                            Alt1\n",
       "Data                         ID_CENT\n",
       "(All, All, MEM_MATCH_ID)            \n",
       "5                         3138662814\n",
       "32                        3082542813\n",
       "35                        3158368426\n",
       "48                        3155802377\n",
       "73                        3093318168\n",
       "...                              ...\n",
       "22513                     3041454014\n",
       "23424                     3132482488\n",
       "23718                     3027668464\n",
       "30168                     3034346942\n",
       "32784                     3119076931\n",
       "\n",
       "[792 rows x 1 columns]"
      ]
     },
     "execution_count": 5,
     "metadata": {},
     "output_type": "execute_result"
    }
   ],
   "source": [
    "poor_index=clusters[clusters[('Alt', 'Alt1', 'P_CEN')]<=0.55][('Alt', 'Alt1', 'P_CEN')].index\n",
    "clusters.loc[poor_index][[('Alt', 'Alt1', 'ID_CENT')]]"
   ]
  },
  {
   "cell_type": "markdown",
   "metadata": {},
   "source": [
    "# Get phi "
   ]
  },
  {
   "cell_type": "code",
   "execution_count": 6,
   "metadata": {},
   "outputs": [],
   "source": [
    "def get_std_err_of_mean(np_array):\n",
    "    mean=np_array.mean()\n",
    "    std=np_array.std()\n",
    "    n=len(np_array)\n",
    "    return(std/np.sqrt(n))"
   ]
  },
  {
   "cell_type": "code",
   "execution_count": 7,
   "metadata": {},
   "outputs": [],
   "source": [
    "def get_theta_for_obj(obj1,obj2):\n",
    "    ra1,dec1=(obj1[('All', 'RA')],obj1[('All', 'DEC')])\n",
    "    ra2,dec2=(obj2[('All', 'RA')],obj2[('All', 'DEC')])\n",
    "    \n",
    "    \n",
    "    \n",
    "    c1=SkyCoord(ra1*u.deg,dec1*u.deg)\n",
    "    c2=SkyCoord(ra2*u.deg,dec2*u.deg)\n",
    "    \n",
    "    \n",
    "    return(90-c1.position_angle(c2).degree)\n",
    "    "
   ]
  },
  {
   "cell_type": "code",
   "execution_count": 8,
   "metadata": {},
   "outputs": [],
   "source": [
    "def get_pa_for_obj(obj):\n",
    "    e1=obj['All']['e1']\n",
    "    e2=obj['All']['e1']\n",
    "    \n",
    "    α =0.5*np.arctan2(e2,e1)*180/np.pi\n",
    "    return(α)"
   ]
  },
  {
   "cell_type": "code",
   "execution_count": 9,
   "metadata": {},
   "outputs": [],
   "source": [
    "error_list_phi=[]\n",
    "error_list_e=[]\n",
    "\n",
    "def get_phi_for_cluster(cluster):\n",
    "    \n",
    "    \n",
    "    \n",
    "    try:\n",
    "        center_id=cluster[('Alt', 'Alt1', 'ID_CENT')]\n",
    "        center = shapes.loc[center_id]\n",
    "\n",
    "        mem_match_id=cluster.name\n",
    "        members=shapes[shapes['All','MEM_MATCH_ID']==mem_match_id]\n",
    "\n",
    "\n",
    "\n",
    "        pa=np.array([get_pa_for_obj(member[1]) for member in members.iterrows()]).flatten()\n",
    "        theta= np.array([get_theta_for_obj(member[1],center) for member in members.iterrows()]).flatten()\n",
    "        phi=pa-theta\n",
    "    #     print(center.index)\n",
    "        return(phi)    \n",
    "    except KeyError as e:\n",
    "        error_list_phi.append(e)\n",
    "        \n",
    "        return(np.array([]))"
   ]
  },
  {
   "cell_type": "code",
   "execution_count": 10,
   "metadata": {},
   "outputs": [
    {
     "data": {
      "application/vnd.jupyter.widget-view+json": {
       "model_id": "1c1b86fce0334edca11b8816fcdef051",
       "version_major": 2,
       "version_minor": 0
      },
      "text/plain": [
       "HBox(children=(IntProgress(value=0, max=7066), HTML(value='')))"
      ]
     },
     "metadata": {},
     "output_type": "display_data"
    },
    {
     "name": "stdout",
     "output_type": "stream",
     "text": [
      "\n"
     ]
    }
   ],
   "source": [
    "phi_list=[]\n",
    "for mem_matching_id in tqdm(clusters.index):\n",
    "    phi_array=get_phi_for_cluster(clusters.loc[mem_matching_id])\n",
    "    phi_list.append(phi_array)\n",
    "phi_list=np.array(phi_list)"
   ]
  },
  {
   "cell_type": "code",
   "execution_count": 11,
   "metadata": {},
   "outputs": [],
   "source": [
    "phi_1d=np.concatenate(phi_list)\n",
    "\n",
    "phi_1d=np.where(phi_1d<=0,-phi_1d,phi_1d)\n",
    "phi_1d=np.where(phi_1d>=180,phi_1d-180,phi_1d)\n",
    "phi_1d=np.where(phi_1d>=90,180-phi_1d,phi_1d)\n",
    "\n",
    "phi_1d=np.sort(phi_1d)"
   ]
  },
  {
   "cell_type": "code",
   "execution_count": 12,
   "metadata": {},
   "outputs": [],
   "source": [
    "np.save(\"/home/cz136/project/sa/data/phi_1d\",phi_1d)"
   ]
  },
  {
   "cell_type": "code",
   "execution_count": 13,
   "metadata": {},
   "outputs": [
    {
     "name": "stdout",
     "output_type": "stream",
     "text": [
      " 44.844592532837375 0.05562359604641191 \n"
     ]
    }
   ],
   "source": [
    "phi_1d=np.load(\"/home/cz136/project/sa/data/phi_1d.npy\")\n",
    "pd.Series(phi_1d).describe()\n",
    "print(\" {} {} \".format(phi_1d.mean(),phi_1d.std()/np.sqrt(len(phi_1d))))"
   ]
  },
  {
   "cell_type": "code",
   "execution_count": 14,
   "metadata": {},
   "outputs": [
    {
     "data": {
      "text/plain": [
       "Text(0.5, 1.0, 'Histogram of $phi_{sat}$')"
      ]
     },
     "execution_count": 14,
     "metadata": {},
     "output_type": "execute_result"
    },
    {
     "data": {
      "image/png": "[encoded data removed]",
      "text/plain": [
       "<Figure size 432x288 with 1 Axes>"
      ]
     },
     "metadata": {},
     "output_type": "display_data"
    }
   ],
   "source": [
    "BINS=np.arange(0,90,1)\n",
    "ax = sns.distplot(phi_1d,bins=BINS)\n",
    "ax.set_title(\"Histogram of $phi_{sat}$\") "
   ]
  },
  {
   "cell_type": "code",
   "execution_count": 15,
   "metadata": {},
   "outputs": [
    {
     "name": "stdout",
     "output_type": "stream",
     "text": [
      "[22 67 17  3 59 14  9 51 12 13 19 52 15 26 18 24 62 33 28  7 61 68 43 88\n",
      " 42 27 76 20  5 45 87 79 25 16 38 69 47  4 46 35 23 72  8  6 37 10 29 64\n",
      " 82 78 41  0 50 83 66 71 81 30 60 80 70 21 32 75 49 54 40 58 85 57 56 86\n",
      " 34 73 74 11  1 65 77  2 53 63 44 31 55 39 84 36 48]\n",
      "[5447 5444 2471 2435 2431 2426 2423 2417 2415 2404 2404 2404 2400 2399\n",
      " 2399 2396 2395 2388 2385 2383 2380 2376 2376 2373 2370 2367 2366 2365\n",
      " 2363 2361 2361 2360 2359 2357 2356 2356 2355 2355 2352 2351 2350 2348\n",
      " 2347 2343 2340 2340 2334 2334 2334 2334 2331 2328 2327 2326 2325 2324\n",
      " 2323 2321 2321 2319 2316 2316 2315 2314 2313 2310 2309 2307 2305 2303\n",
      " 2300 2298 2298 2298 2297 2297 2295 2293 2292 2289 2288 2287 2286 2282\n",
      " 2268 2262 2260 2229 2192]\n"
     ]
    }
   ],
   "source": [
    "phi_count=np.histogram(phi_1d,bins=BINS)\n",
    "sort=np.argsort(-phi_count[0])\n",
    "print(phi_count[1][sort])\n",
    "print(phi_count[0][sort])"
   ]
  },
  {
   "cell_type": "code",
   "execution_count": 16,
   "metadata": {},
   "outputs": [
    {
     "data": {
      "text/plain": [
       "count    5447.000000\n",
       "mean       22.499381\n",
       "std         0.188050\n",
       "min        22.000249\n",
       "25%        22.500000\n",
       "50%        22.500000\n",
       "75%        22.500000\n",
       "max        22.999386\n",
       "dtype: float64"
      ]
     },
     "execution_count": 16,
     "metadata": {},
     "output_type": "execute_result"
    },
    {
     "data": {
      "image/png": "[encoded data removed]",
      "text/plain": [
       "<Figure size 432x288 with 1 Axes>"
      ]
     },
     "metadata": {},
     "output_type": "display_data"
    }
   ],
   "source": [
    "first_cluster_left=np.sum(phi_count[0][0:22])\n",
    "first_length=phi_count[0][sort][0]\n",
    "first_cluster=phi_1d[first_cluster_left:first_cluster_left+first_length]\n",
    "ax = sns.distplot(first_cluster)\n",
    "ax.set_title(\"$\\phi_{sat}$ Distribution Around 22.5 Degree\")\n",
    "pd.Series(first_cluster).describe()"
   ]
  },
  {
   "cell_type": "code",
   "execution_count": 17,
   "metadata": {},
   "outputs": [
    {
     "data": {
      "text/plain": [
       "count    5447.000000\n",
       "mean       67.496220\n",
       "std         0.188900\n",
       "min        67.000313\n",
       "25%        67.500000\n",
       "50%        67.500000\n",
       "75%        67.500000\n",
       "max        68.000689\n",
       "dtype: float64"
      ]
     },
     "execution_count": 17,
     "metadata": {},
     "output_type": "execute_result"
    },
    {
     "data": {
      "image/png": "[encoded data removed]",
      "text/plain": [
       "<Figure size 432x288 with 1 Axes>"
      ]
     },
     "metadata": {},
     "output_type": "display_data"
    }
   ],
   "source": [
    "second_cluster_left=np.sum(phi_count[0][0:67])\n",
    "second_length=phi_count[0][sort][0]\n",
    "second_cluster=phi_1d[second_cluster_left:second_cluster_left+second_length]\n",
    "ax = sns.distplot(second_cluster)\n",
    "ax.set_title(\"$\\phi_{sat}$ Distribution Around 67.5 Degree\")\n",
    "pd.Series(second_cluster).describe()"
   ]
  },
  {
   "cell_type": "markdown",
   "metadata": {},
   "source": [
    "# Get e"
   ]
  },
  {
   "cell_type": "code",
   "execution_count": 18,
   "metadata": {},
   "outputs": [
    {
     "data": {
      "text/plain": [
       "count    244926.000000\n",
       "mean          0.000053\n",
       "std           0.148712\n",
       "min          -0.988648\n",
       "25%          -0.079860\n",
       "50%          -0.000149\n",
       "75%           0.079905\n",
       "max           0.977076\n",
       "Name: (All, e1), dtype: float64"
      ]
     },
     "execution_count": 18,
     "metadata": {},
     "output_type": "execute_result"
    }
   ],
   "source": [
    "e1=shapes[('All','e1')].to_numpy()\n",
    "shapes[('All','e1')].describe()"
   ]
  },
  {
   "cell_type": "code",
   "execution_count": 19,
   "metadata": {},
   "outputs": [
    {
     "data": {
      "text/plain": [
       "count    244926.000000\n",
       "mean         -0.000403\n",
       "std           0.149548\n",
       "min          -0.845018\n",
       "25%          -0.081402\n",
       "50%          -0.000395\n",
       "75%           0.080491\n",
       "max           0.902807\n",
       "Name: (All, e2), dtype: float64"
      ]
     },
     "execution_count": 19,
     "metadata": {},
     "output_type": "execute_result"
    }
   ],
   "source": [
    "e2=shapes[('All','e1')].to_numpy()\n",
    "shapes[('All','e2')].describe()"
   ]
  },
  {
   "cell_type": "code",
   "execution_count": 20,
   "metadata": {},
   "outputs": [
    {
     "data": {
      "text/plain": [
       "(array([0, 0, 0, ..., 0, 0, 0]),\n",
       " array([-10000,  -9999,  -9998, ...,   9997,   9998,   9999]))"
      ]
     },
     "execution_count": 20,
     "metadata": {},
     "output_type": "execute_result"
    }
   ],
   "source": [
    "np.histogram(e1,bins=np.arange(-10000,10000,1))"
   ]
  },
  {
   "cell_type": "code",
   "execution_count": 21,
   "metadata": {},
   "outputs": [],
   "source": [
    "def get_e_for_pair(cen,sat):\n",
    "    e=np.sqrt(sat[('All','e1')]**2+sat[('All','e2')]**2)\n",
    "    delta=get_theta_for_obj(cen,sat)\n",
    "    alpha=get_pa_for_obj(sat)\n",
    "    ep,ex=(e*np.cos(2*(delta-alpha)),e*np.sin(2*(delta-alpha)))\n",
    "    return(ep,ex)"
   ]
  },
  {
   "cell_type": "code",
   "execution_count": 22,
   "metadata": {},
   "outputs": [],
   "source": [
    "def get_e_for_cluster(cluster):\n",
    "    \n",
    "    try:\n",
    "        center_id=cluster[('Alt', 'Alt1', 'ID_CENT')]\n",
    "        center = shapes.loc[center_id]\n",
    "\n",
    "        mem_match_id=cluster.name\n",
    "        members=shapes[shapes['All','MEM_MATCH_ID']==mem_match_id]\n",
    "\n",
    "        e_array=np.array([(get_e_for_pair(center,member[1])) for member in members.iterrows()])\n",
    "        return(e_array)    \n",
    "    except KeyError as e:\n",
    "        error_list_e.append(e)\n",
    "        return(np.array([]))"
   ]
  },
  {
   "cell_type": "code",
   "execution_count": 23,
   "metadata": {},
   "outputs": [
    {
     "data": {
      "application/vnd.jupyter.widget-view+json": {
       "model_id": "9760a0aadbf546d7bef1e3b6c2b35aed",
       "version_major": 2,
       "version_minor": 0
      },
      "text/plain": [
       "HBox(children=(IntProgress(value=0, max=7066), HTML(value='')))"
      ]
     },
     "metadata": {},
     "output_type": "display_data"
    },
    {
     "name": "stdout",
     "output_type": "stream",
     "text": [
      "\n"
     ]
    },
    {
     "name": "stderr",
     "output_type": "stream",
     "text": [
      "/home/cz136/anaconda3/envs/balrog/lib/python3.7/site-packages/ipykernel_launcher.py:6: DeprecationWarning: elementwise comparison failed; this will raise an error in the future.\n",
      "  \n",
      "/home/cz136/anaconda3/envs/balrog/lib/python3.7/site-packages/ipykernel_launcher.py:6: DeprecationWarning: The truth value of an empty array is ambiguous. Returning False, but in future this will result in an error. Use `array.size > 0` to check that an array is not empty.\n",
      "  \n"
     ]
    }
   ],
   "source": [
    "e_list=[]\n",
    "for mem_matching_id in tqdm(clusters.index[:]):\n",
    "    e_array=get_e_for_cluster(clusters.loc[mem_matching_id])\n",
    "    e_list.append(e_array)\n",
    "e_list=np.array(e_list)\n",
    "e_list=np.concatenate([e_array for e_array in e_list if e_array!=np.array([])])"
   ]
  },
  {
   "cell_type": "code",
   "execution_count": 24,
   "metadata": {},
   "outputs": [],
   "source": [
    "np.save(\"/home/cz136/project/sa/data/e_array\",e_list)"
   ]
  },
  {
   "cell_type": "code",
   "execution_count": 25,
   "metadata": {},
   "outputs": [],
   "source": [
    "e_p_1d=e_list[:,0].flatten()\n",
    "e_x_1d=e_list[:,1].flatten()"
   ]
  },
  {
   "cell_type": "code",
   "execution_count": 26,
   "metadata": {},
   "outputs": [
    {
     "name": "stdout",
     "output_type": "stream",
     "text": [
      "0.00016264716332850307 0.0003199814200987962\n"
     ]
    },
    {
     "data": {
      "text/plain": [
       "count    216924.000000\n",
       "mean          0.000163\n",
       "std           0.149032\n",
       "min          -0.994047\n",
       "25%          -0.081263\n",
       "50%           0.000392\n",
       "75%           0.081108\n",
       "max           0.818467\n",
       "dtype: float64"
      ]
     },
     "execution_count": 26,
     "metadata": {},
     "output_type": "execute_result"
    },
    {
     "data": {
      "image/png": "[encoded data removed]",
      "text/plain": [
       "<Figure size 432x288 with 1 Axes>"
      ]
     },
     "metadata": {},
     "output_type": "display_data"
    }
   ],
   "source": [
    "ax=sns.distplot(e_p_1d)\n",
    "ax.set_title(\"Distribution of $e_{+}$\")\n",
    "print (e_p_1d.mean(),get_std_err_of_mean(e_p_1d))\n",
    "pd.Series(e_p_1d).describe()"
   ]
  },
  {
   "cell_type": "code",
   "execution_count": 27,
   "metadata": {},
   "outputs": [
    {
     "name": "stdout",
     "output_type": "stream",
     "text": [
      "0.0012119510353652036 0.00031945249988138587\n"
     ]
    },
    {
     "data": {
      "text/plain": [
       "count    216924.000000\n",
       "mean          0.001212\n",
       "std           0.148786\n",
       "min          -0.908880\n",
       "25%          -0.078595\n",
       "50%           0.003332\n",
       "75%           0.081035\n",
       "max           0.939512\n",
       "dtype: float64"
      ]
     },
     "execution_count": 27,
     "metadata": {},
     "output_type": "execute_result"
    },
    {
     "data": {
      "image/png": "[encoded data removed]",
      "text/plain": [
       "<Figure size 432x288 with 1 Axes>"
      ]
     },
     "metadata": {},
     "output_type": "display_data"
    }
   ],
   "source": [
    "ax=sns.distplot(e_x_1d)\n",
    "ax.set_title(\"Distribution of $e_{x}$\")\n",
    "print (e_x_1d.mean(),get_std_err_of_mean(e_x_1d))\n",
    "pd.Series(e_x_1d).describe()"
   ]
  },
  {
   "cell_type": "code",
   "execution_count": null,
   "metadata": {},
   "outputs": [],
   "source": []
  }
 ],
 "metadata": {
  "kernelspec": {
   "display_name": "Python 3",
   "language": "python",
   "name": "python3"
  },
  "language_info": {
   "codemirror_mode": {
    "name": "ipython",
    "version": 3
   },
   "file_extension": ".py",
   "mimetype": "text/x-python",
   "name": "python",
   "nbconvert_exporter": "python",
   "pygments_lexer": "ipython3",
   "version": "3.7.3"
  }
 },
 "nbformat": 4,
 "nbformat_minor": 4
}
