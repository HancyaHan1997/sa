{
 "cells": [
  {
   "cell_type": "code",
   "execution_count": 1,
   "metadata": {},
   "outputs": [],
   "source": [
    "import papermill as pm\n",
    "import numpy as np"
   ]
  },
  {
   "cell_type": "markdown",
   "metadata": {},
   "source": [
    "# Data"
   ]
  },
  {
   "cell_type": "code",
   "execution_count": 2,
   "metadata": {},
   "outputs": [],
   "source": [
    "shape_list=[\"mcal\",\"im3\"]\n",
    "vol_list=[\"all\",\"vlim\"]\n",
    "z_list=[\"all_z\",\"high_z\",\"low_z\"]\n",
    "k_list=[\"lambda\",\"z\"]"
   ]
  },
  {
   "cell_type": "code",
   "execution_count": null,
   "metadata": {},
   "outputs": [],
   "source": [
    "pm.execute_notebook(\n",
    "   '/project/projectdirs/des/zhou/sa/lib/src/data_marshalling.ipynb',\n",
    "   '/project/projectdirs/des/zhou/sa/lib/output/data/mcal_all.ipynb',\n",
    "   parameters = dict(shape_cat=\"mcal\",vol=\"all\")\n",
    ")"
   ]
  },
  {
   "cell_type": "code",
   "execution_count": null,
   "metadata": {},
   "outputs": [],
   "source": [
    "pm.execute_notebook(\n",
    "   '/project/projectdirs/des/zhou/sa/lib/src/data_marshalling.ipynb',\n",
    "   '/project/projectdirs/des/zhou/sa/lib/output/data/mcal_vlim.ipynb',\n",
    "   parameters = dict(shape_cat=\"mcal\",vol=\"vlim\")\n",
    ")"
   ]
  },
  {
   "cell_type": "code",
   "execution_count": null,
   "metadata": {},
   "outputs": [],
   "source": [
    "pm.execute_notebook(\n",
    "   '/project/projectdirs/des/zhou/sa/lib/src/data_marshalling.ipynb',\n",
    "   '/project/projectdirs/des/zhou/sa/lib/output/data/im3_all.ipynb',\n",
    "   parameters = dict(shape_cat=\"im3\",vol=\"all\")\n",
    ")"
   ]
  },
  {
   "cell_type": "code",
   "execution_count": null,
   "metadata": {},
   "outputs": [],
   "source": [
    "pm.execute_notebook(\n",
    "   '/project/projectdirs/des/zhou/sa/lib/src/data_marshalling.ipynb',\n",
    "   '/project/projectdirs/des/zhou/sa/lib/output/data/im3_vlim.ipynb',\n",
    "   parameters = dict(shape_cat=\"im3\",vol=\"vlim\")\n",
    ")"
   ]
  },
  {
   "cell_type": "code",
   "execution_count": null,
   "metadata": {},
   "outputs": [],
   "source": [
    "pm.execute_notebook(\n",
    "   '/project/projectdirs/des/zhou/sa/lib/src/data_marshalling.ipynb',\n",
    "   '/project/projectdirs/des/zhou/sa/lib/output/data/mcal_uber.ipynb',\n",
    "   parameters = dict(shape_cat=\"mcal\",vol=\"uber\")\n",
    ")"
   ]
  },
  {
   "cell_type": "markdown",
   "metadata": {},
   "source": [
    "# Analysis"
   ]
  },
  {
   "cell_type": "code",
   "execution_count": null,
   "metadata": {},
   "outputs": [],
   "source": [
    "for shape in shape_list:\n",
    "    for vol_ in vol_list:\n",
    "        for z in z_list:\n",
    "            pm.execute_notebook(\n",
    "               '/project/projectdirs/des/zhou/sa/lib/src/phi_e_sat.ipynb',\n",
    "               '/project/projectdirs/des/zhou/sa/lib/output/{}/{}/{}/phi_e_sat_{}_{}_{}.ipynb'.format(shape,vol_,z,shape,vol_,z),\n",
    "               parameters = dict(shape_cat=shape,vol=vol_,z_range=z)\n",
    "            )"
   ]
  },
  {
   "cell_type": "code",
   "execution_count": 4,
   "metadata": {},
   "outputs": [
    {
     "name": "stdout",
     "output_type": "stream",
     "text": [
      "mcal all all_z\n"
     ]
    },
    {
     "data": {
      "application/vnd.jupyter.widget-view+json": {
       "model_id": "13ff960326bd462892c0c2dd19cb095b",
       "version_major": 2,
       "version_minor": 0
      },
      "text/plain": [
       "HBox(children=(FloatProgress(value=0.0, description='Executing', max=31.0, style=ProgressStyle(description_wid…"
      ]
     },
     "metadata": {},
     "output_type": "display_data"
    },
    {
     "name": "stdout",
     "output_type": "stream",
     "text": [
      "\n",
      "mcal all high_z\n"
     ]
    },
    {
     "data": {
      "application/vnd.jupyter.widget-view+json": {
       "model_id": "18da523d431e47eabe9b5c9ff45af036",
       "version_major": 2,
       "version_minor": 0
      },
      "text/plain": [
       "HBox(children=(FloatProgress(value=0.0, description='Executing', max=31.0, style=ProgressStyle(description_wid…"
      ]
     },
     "metadata": {},
     "output_type": "display_data"
    },
    {
     "name": "stdout",
     "output_type": "stream",
     "text": [
      "\n",
      "mcal all low_z\n"
     ]
    },
    {
     "data": {
      "application/vnd.jupyter.widget-view+json": {
       "model_id": "8a4bac402c3f4f6bb732db3b1e0838df",
       "version_major": 2,
       "version_minor": 0
      },
      "text/plain": [
       "HBox(children=(FloatProgress(value=0.0, description='Executing', max=31.0, style=ProgressStyle(description_wid…"
      ]
     },
     "metadata": {},
     "output_type": "display_data"
    },
    {
     "name": "stdout",
     "output_type": "stream",
     "text": [
      "\n",
      "mcal vlim all_z\n"
     ]
    },
    {
     "data": {
      "application/vnd.jupyter.widget-view+json": {
       "model_id": "7a56bdc2d5e7482f9160386cc1dacc66",
       "version_major": 2,
       "version_minor": 0
      },
      "text/plain": [
       "HBox(children=(FloatProgress(value=0.0, description='Executing', max=31.0, style=ProgressStyle(description_wid…"
      ]
     },
     "metadata": {},
     "output_type": "display_data"
    },
    {
     "name": "stdout",
     "output_type": "stream",
     "text": [
      "\n",
      "mcal vlim high_z\n"
     ]
    },
    {
     "data": {
      "application/vnd.jupyter.widget-view+json": {
       "model_id": "2b1853a43ec545ccafec41e93cec1ccc",
       "version_major": 2,
       "version_minor": 0
      },
      "text/plain": [
       "HBox(children=(FloatProgress(value=0.0, description='Executing', max=31.0, style=ProgressStyle(description_wid…"
      ]
     },
     "metadata": {},
     "output_type": "display_data"
    },
    {
     "name": "stdout",
     "output_type": "stream",
     "text": [
      "\n",
      "mcal vlim low_z\n"
     ]
    },
    {
     "data": {
      "application/vnd.jupyter.widget-view+json": {
       "model_id": "f45d7b206dab42adb98951b36c64ac95",
       "version_major": 2,
       "version_minor": 0
      },
      "text/plain": [
       "HBox(children=(FloatProgress(value=0.0, description='Executing', max=31.0, style=ProgressStyle(description_wid…"
      ]
     },
     "metadata": {},
     "output_type": "display_data"
    },
    {
     "name": "stdout",
     "output_type": "stream",
     "text": [
      "\n",
      "im3 all all_z\n"
     ]
    },
    {
     "data": {
      "application/vnd.jupyter.widget-view+json": {
       "model_id": "9a8f89a405c5427cbb0cdcb47f4825a0",
       "version_major": 2,
       "version_minor": 0
      },
      "text/plain": [
       "HBox(children=(FloatProgress(value=0.0, description='Executing', max=31.0, style=ProgressStyle(description_wid…"
      ]
     },
     "metadata": {},
     "output_type": "display_data"
    },
    {
     "name": "stdout",
     "output_type": "stream",
     "text": [
      "\n",
      "im3 all high_z\n"
     ]
    },
    {
     "data": {
      "application/vnd.jupyter.widget-view+json": {
       "model_id": "2934b5605b8f4af1ac8e2d5f5d885268",
       "version_major": 2,
       "version_minor": 0
      },
      "text/plain": [
       "HBox(children=(FloatProgress(value=0.0, description='Executing', max=31.0, style=ProgressStyle(description_wid…"
      ]
     },
     "metadata": {},
     "output_type": "display_data"
    },
    {
     "name": "stdout",
     "output_type": "stream",
     "text": [
      "\n",
      "im3 all low_z\n"
     ]
    },
    {
     "data": {
      "application/vnd.jupyter.widget-view+json": {
       "model_id": "a44d9d57f9614995bc95f81be8610fc2",
       "version_major": 2,
       "version_minor": 0
      },
      "text/plain": [
       "HBox(children=(FloatProgress(value=0.0, description='Executing', max=31.0, style=ProgressStyle(description_wid…"
      ]
     },
     "metadata": {},
     "output_type": "display_data"
    },
    {
     "name": "stdout",
     "output_type": "stream",
     "text": [
      "\n",
      "im3 vlim all_z\n"
     ]
    },
    {
     "data": {
      "application/vnd.jupyter.widget-view+json": {
       "model_id": "8f05e5b12b8843fab8cd36a7917e87b0",
       "version_major": 2,
       "version_minor": 0
      },
      "text/plain": [
       "HBox(children=(FloatProgress(value=0.0, description='Executing', max=31.0, style=ProgressStyle(description_wid…"
      ]
     },
     "metadata": {},
     "output_type": "display_data"
    },
    {
     "name": "stdout",
     "output_type": "stream",
     "text": [
      "\n",
      "im3 vlim high_z\n"
     ]
    },
    {
     "data": {
      "application/vnd.jupyter.widget-view+json": {
       "model_id": "48e3fa01ecbc49deb6a8210467b9874f",
       "version_major": 2,
       "version_minor": 0
      },
      "text/plain": [
       "HBox(children=(FloatProgress(value=0.0, description='Executing', max=31.0, style=ProgressStyle(description_wid…"
      ]
     },
     "metadata": {},
     "output_type": "display_data"
    },
    {
     "name": "stdout",
     "output_type": "stream",
     "text": [
      "\n",
      "im3 vlim low_z\n"
     ]
    },
    {
     "data": {
      "application/vnd.jupyter.widget-view+json": {
       "model_id": "2e6294b544ea4544840a4c03a036cf3e",
       "version_major": 2,
       "version_minor": 0
      },
      "text/plain": [
       "HBox(children=(FloatProgress(value=0.0, description='Executing', max=31.0, style=ProgressStyle(description_wid…"
      ]
     },
     "metadata": {},
     "output_type": "display_data"
    },
    {
     "name": "stdout",
     "output_type": "stream",
     "text": [
      "\n"
     ]
    }
   ],
   "source": [
    "for shape in shape_list:\n",
    "    for vol_ in vol_list:\n",
    "        for z in z_list:\n",
    "            print(shape,vol_,z)\n",
    "            pm.execute_notebook(\n",
    "               '/project/projectdirs/des/zhou/sa/lib/src/treecorr.ipynb',\n",
    "               '/project/projectdirs/des/zhou/sa/lib/output/{}/{}/{}/treecorr_{}_{}_{}.ipynb'.format(shape,vol_,z,shape,vol_,z),\n",
    "               parameters = dict(shape_cat=shape,vol=vol_,z_range=z)\n",
    "            )"
   ]
  },
  {
   "cell_type": "markdown",
   "metadata": {},
   "source": [
    "# 2pt comparison"
   ]
  },
  {
   "cell_type": "code",
   "execution_count": 3,
   "metadata": {},
   "outputs": [
    {
     "name": "stdout",
     "output_type": "stream",
     "text": [
      "mcal\n",
      "all\n"
     ]
    },
    {
     "ename": "NameError",
     "evalue": "name 'pm' is not defined",
     "output_type": "error",
     "traceback": [
      "\u001b[0;31m---------------------------------------------------------------------------\u001b[0m",
      "\u001b[0;31mNameError\u001b[0m                                 Traceback (most recent call last)",
      "\u001b[0;32m<ipython-input-3-56a4dd9d416b>\u001b[0m in \u001b[0;36m<module>\u001b[0;34m\u001b[0m\n\u001b[1;32m      6\u001b[0m         \u001b[0;32mfor\u001b[0m \u001b[0mkey_\u001b[0m \u001b[0;32min\u001b[0m \u001b[0mk_list\u001b[0m\u001b[0;34m:\u001b[0m\u001b[0;34m\u001b[0m\u001b[0;34m\u001b[0m\u001b[0m\n\u001b[1;32m      7\u001b[0m             \u001b[0;32mfor\u001b[0m \u001b[0mquantile_\u001b[0m \u001b[0;32min\u001b[0m \u001b[0;34m[\u001b[0m\u001b[0;34m\"0\"\u001b[0m\u001b[0;34m,\u001b[0m\u001b[0;34m\"1\"\u001b[0m\u001b[0;34m,\u001b[0m\u001b[0;34m\"2\"\u001b[0m\u001b[0;34m]\u001b[0m\u001b[0;34m:\u001b[0m\u001b[0;34m\u001b[0m\u001b[0;34m\u001b[0m\u001b[0m\n\u001b[0;32m----> 8\u001b[0;31m                 pm.execute_notebook(\n\u001b[0m\u001b[1;32m      9\u001b[0m                    \u001b[0;34m'/home/cz136/project/sa/lib/src/treecorr.ipynb'\u001b[0m\u001b[0;34m,\u001b[0m\u001b[0;34m\u001b[0m\u001b[0;34m\u001b[0m\u001b[0m\n\u001b[1;32m     10\u001b[0m                    \u001b[0;34m'/home/cz136/project/sa/lib/output/{}/{}/{}/{}_{}_treecorr_{}_{}_{}.ipynb'\u001b[0m\u001b[0;34m.\u001b[0m\u001b[0mformat\u001b[0m\u001b[0;34m(\u001b[0m\u001b[0mshape_\u001b[0m\u001b[0;34m,\u001b[0m\u001b[0mvol_\u001b[0m\u001b[0;34m,\u001b[0m\u001b[0mz_\u001b[0m\u001b[0;34m,\u001b[0m\u001b[0mkey_\u001b[0m\u001b[0;34m,\u001b[0m\u001b[0mquantile_\u001b[0m\u001b[0;34m,\u001b[0m\u001b[0mshape_\u001b[0m\u001b[0;34m,\u001b[0m\u001b[0mvol_\u001b[0m\u001b[0;34m,\u001b[0m\u001b[0mz_\u001b[0m\u001b[0;34m)\u001b[0m\u001b[0;34m,\u001b[0m\u001b[0;34m\u001b[0m\u001b[0;34m\u001b[0m\u001b[0m\n",
      "\u001b[0;31mNameError\u001b[0m: name 'pm' is not defined"
     ]
    }
   ],
   "source": [
    "z_=\"all_z\"\n",
    "for shape_ in shape_list:\n",
    "    print(shape_)\n",
    "    for vol_ in vol_list:\n",
    "        print(vol_)\n",
    "        for key_ in k_list:\n",
    "            for quantile_ in [\"0\",\"1\",\"2\"]:\n",
    "                pm.execute_notebook(\n",
    "                   '/project/projectdirs/des/zhou/sa/lib/src/treecorr.ipynb',\n",
    "                   '/project/projectdirs/des/zhou/sa/lib/output/{}/{}/{}/{}_{}_treecorr_{}_{}_{}.ipynb'.format(shape_,vol_,z_,key_,quantile_,shape_,vol_,z_),\n",
    "\n",
    "                   parameters = dict(shape_cat=shape_,vol=vol_,z_range=z_,key=key_,quantile=quantile_)\n",
    "                )"
   ]
  },
  {
   "cell_type": "code",
   "execution_count": null,
   "metadata": {},
   "outputs": [],
   "source": [
    "z_=\"all_z\"\n",
    "for shape_ in shape_list:\n",
    "    for vol_ in vol_list:\n",
    "        for key_ in k_list:\n",
    "            pm.execute_notebook(\n",
    "               '/project/projectdirs/des/zhou/sa/lib/src/quantile_compare.ipynb',\n",
    "               '/project/projectdirs/des/zhou/sa/lib/output/{}/{}/{}/{}_quantile_{}_{}_{}.ipynb'.format(shape_,vol_,z_,key_,shape_,vol_,z_),\n",
    "\n",
    "               parameters = dict(shape_cat=shape_,vol=vol_,z_range=z_,key=key_)\n",
    "            )"
   ]
  },
  {
   "cell_type": "markdown",
   "metadata": {},
   "source": [
    "# Systematics"
   ]
  },
  {
   "cell_type": "code",
   "execution_count": null,
   "metadata": {},
   "outputs": [],
   "source": [
    "def get_2pt(test_,z_diff_):\n",
    "    name=str(int(float(z_diff_)*100))\n",
    "    \n",
    "    pm.execute_notebook(\n",
    "   '/project/projectdirs/des/zhou/sa/lib/src/treecorr.ipynb',\n",
    "   '/project/projectdirs/des/zhou/sa/lib/output/{}/{}/{}{}_treecorr.ipynb'.format(shape_,vol_,test_,name),\n",
    "\n",
    "   parameters = dict(shape_cat=shape_,vol=vol_,z_range=z_,key=\"\",quantile=\"\",test=test_,z_diff=z_diff_)\n",
    ")"
   ]
  },
  {
   "cell_type": "code",
   "execution_count": null,
   "metadata": {},
   "outputs": [],
   "source": [
    "shape_=\"mcal\"\n",
    "vol_=\"uber\"\n",
    "z_=\"all_z\""
   ]
  },
  {
   "cell_type": "code",
   "execution_count": null,
   "metadata": {},
   "outputs": [],
   "source": [
    "get_2pt(\"background\",0.5)"
   ]
  },
  {
   "cell_type": "code",
   "execution_count": null,
   "metadata": {},
   "outputs": [],
   "source": [
    "get_2pt(\"foreground\",0.5)"
   ]
  },
  {
   "cell_type": "code",
   "execution_count": null,
   "metadata": {},
   "outputs": [],
   "source": [
    "get_2pt(\"background\",0.1)\n",
    "get_2pt(\"foreground\",0.1)"
   ]
  },
  {
   "cell_type": "code",
   "execution_count": null,
   "metadata": {},
   "outputs": [],
   "source": [
    "get_2pt(\"background\",0.05)\n",
    "get_2pt(\"foreground\",0.05)"
   ]
  },
  {
   "cell_type": "code",
   "execution_count": null,
   "metadata": {},
   "outputs": [],
   "source": [
    "get_2pt(\"background\",0.02)\n",
    "get_2pt(\"foreground\",0.02)"
   ]
  },
  {
   "cell_type": "code",
   "execution_count": null,
   "metadata": {},
   "outputs": [],
   "source": [
    "get_2pt(\"background\",0.01)\n",
    "get_2pt(\"foreground\",0.01)"
   ]
  },
  {
   "cell_type": "code",
   "execution_count": null,
   "metadata": {},
   "outputs": [],
   "source": [
    "get_2pt(\"background\",0.2)\n",
    "get_2pt(\"foreground\",0.2)"
   ]
  },
  {
   "cell_type": "markdown",
   "metadata": {},
   "source": [
    "# $\\gamma_T$"
   ]
  },
  {
   "cell_type": "code",
   "execution_count": null,
   "metadata": {},
   "outputs": [],
   "source": [
    "z_bin=np.array([[0.2,0.35],[0.35,0.5],[0.5,0.65]])\n",
    "lambda_bin=np.array([[20,30],[30,45],[45,60],[60,1000]])"
   ]
  },
  {
   "cell_type": "code",
   "execution_count": null,
   "metadata": {},
   "outputs": [],
   "source": []
  }
 ],
 "metadata": {
  "kernelspec": {
   "display_name": "Python 3",
   "language": "python",
   "name": "python3"
  },
  "language_info": {
   "codemirror_mode": {
    "name": "ipython",
    "version": 3
   },
   "file_extension": ".py",
   "mimetype": "text/x-python",
   "name": "python",
   "nbconvert_exporter": "python",
   "pygments_lexer": "ipython3",
   "version": "3.7.4"
  }
 },
 "nbformat": 4,
 "nbformat_minor": 4
}
