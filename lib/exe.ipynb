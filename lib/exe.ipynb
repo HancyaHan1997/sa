{
 "cells": [
  {
   "cell_type": "code",
   "execution_count": null,
   "metadata": {},
   "outputs": [],
   "source": [
    "import papermill as pm"
   ]
  },
  {
   "cell_type": "markdown",
   "metadata": {},
   "source": [
    "# Data"
   ]
  },
  {
   "cell_type": "code",
   "execution_count": null,
   "metadata": {},
   "outputs": [],
   "source": [
    "shape_list=[\"im3\",\"mcal\"]\n",
    "vol_list=[\"all\",\"vlim\"]\n",
    "z_list=[\"high_z\",\"low_z\",\"all_z\"]"
   ]
  },
  {
   "cell_type": "code",
   "execution_count": null,
   "metadata": {},
   "outputs": [],
   "source": [
    "pm.execute_notebook(\n",
    "   '/home/cz136/project/sa/lib/src/data_marshalling.ipynb',\n",
    "   '/home/cz136/project/sa/lib/output/data/mcal_all.ipynb',\n",
    "   parameters = dict(shape_cat=\"mcal\",vol=\"all\")\n",
    ")"
   ]
  },
  {
   "cell_type": "code",
   "execution_count": null,
   "metadata": {},
   "outputs": [
    {
     "data": {
      "application/vnd.jupyter.widget-view+json": {
       "model_id": "cf9d9e715f7b4efc9dcc887e54df7c44",
       "version_major": 2,
       "version_minor": 0
      },
      "text/plain": [
       "HBox(children=(IntProgress(value=0, description='Executing', max=69, style=ProgressStyle(description_width='in…"
      ]
     },
     "metadata": {},
     "output_type": "display_data"
    }
   ],
   "source": [
    "pm.execute_notebook(\n",
    "   '/home/cz136/project/sa/lib/src/data_marshalling.ipynb',\n",
    "   '/home/cz136/project/sa/lib/output/data/mcal_vlim.ipynb',\n",
    "   parameters = dict(shape_cat=\"mcal\",vol=\"vlim\")\n",
    ");"
   ]
  },
  {
   "cell_type": "code",
   "execution_count": null,
   "metadata": {},
   "outputs": [],
   "source": [
    "pm.execute_notebook(\n",
    "   '/home/cz136/project/sa/lib/src/data_marshalling.ipynb',\n",
    "   '/home/cz136/project/sa/lib/output/data/im3_all.ipynb',\n",
    "   parameters = dict(shape_cat=\"im3\",vol=\"all\")\n",
    ")"
   ]
  },
  {
   "cell_type": "code",
   "execution_count": null,
   "metadata": {},
   "outputs": [],
   "source": [
    "pm.execute_notebook(\n",
    "   '/home/cz136/project/sa/lib/src/data_marshalling.ipynb',\n",
    "   '/home/cz136/project/sa/lib/output/data/im3_vlim.ipynb',\n",
    "   parameters = dict(shape_cat=\"im3\",vol=\"vlim\")\n",
    ")"
   ]
  },
  {
   "cell_type": "markdown",
   "metadata": {},
   "source": [
    "# Analysis"
   ]
  },
  {
   "cell_type": "code",
   "execution_count": null,
   "metadata": {},
   "outputs": [],
   "source": [
    "for shape in shape_list:\n",
    "    for vol in vol_list:\n",
    "        for z in z_list:\n",
    "            pm.execute_notebook(\n",
    "               '/home/cz136/project/sa/lib/src/phi_e_sat.ipynb',\n",
    "               '/home/cz136/project/sa/lib/output/{}/{}/{}/phi_e_sat.ipynb'.format(shape,vol,z),\n",
    "               parameters = dict(shape_cat=shape,vol=vol,z_range=z)\n",
    "            )"
   ]
  },
  {
   "cell_type": "code",
   "execution_count": 27,
   "metadata": {},
   "outputs": [
    {
     "data": {
      "application/vnd.jupyter.widget-view+json": {
       "model_id": "5799104cfaf8430f9bc9bd524f6a6236",
       "version_major": 2,
       "version_minor": 0
      },
      "text/plain": [
       "HBox(children=(IntProgress(value=0, description='Executing', max=22, style=ProgressStyle(description_width='in…"
      ]
     },
     "metadata": {},
     "output_type": "display_data"
    },
    {
     "name": "stdout",
     "output_type": "stream",
     "text": [
      "\n"
     ]
    },
    {
     "data": {
      "application/vnd.jupyter.widget-view+json": {
       "model_id": "bce98282a33f449a948dca0be91f130e",
       "version_major": 2,
       "version_minor": 0
      },
      "text/plain": [
       "HBox(children=(IntProgress(value=0, description='Executing', max=22, style=ProgressStyle(description_width='in…"
      ]
     },
     "metadata": {},
     "output_type": "display_data"
    },
    {
     "name": "stdout",
     "output_type": "stream",
     "text": [
      "\n"
     ]
    },
    {
     "ename": "PapermillExecutionError",
     "evalue": "\n---------------------------------------------------------------------------\nException encountered at \"In [10]\":\n---------------------------------------------------------------------------\nIndexError                                Traceback (most recent call last)\n<ipython-input-10-4b84be47e57a> in <module>\n----> 1 ng_r=get_xi_meanlogr_varxi_npairs(clusters.iloc[1],'r','abs')\n\n~/anaconda3/envs/balrog/lib/python3.7/site-packages/pandas/core/indexing.py in __getitem__(self, key)\n   1422 \n   1423             maybe_callable = com.apply_if_callable(key, self.obj)\n-> 1424             return self._getitem_axis(maybe_callable, axis=axis)\n   1425 \n   1426     def _is_scalar_access(self, key: Tuple):\n\n~/anaconda3/envs/balrog/lib/python3.7/site-packages/pandas/core/indexing.py in _getitem_axis(self, key, axis)\n   2155 \n   2156             # validate the location\n-> 2157             self._validate_integer(key, axis)\n   2158 \n   2159             return self._get_loc(key, axis=axis)\n\n~/anaconda3/envs/balrog/lib/python3.7/site-packages/pandas/core/indexing.py in _validate_integer(self, key, axis)\n   2086         len_axis = len(self.obj._get_axis(axis))\n   2087         if key >= len_axis or key < -len_axis:\n-> 2088             raise IndexError(\"single positional indexer is out-of-bounds\")\n   2089 \n   2090     def _getitem_tuple(self, tup):\n\nIndexError: single positional indexer is out-of-bounds\n",
     "output_type": "error",
     "traceback": [
      "\u001b[0;31m---------------------------------------------------------------------------\u001b[0m",
      "\u001b[0;31mPapermillExecutionError\u001b[0m                   Traceback (most recent call last)",
      "\u001b[0;32m<ipython-input-27-d34535582131>\u001b[0m in \u001b[0;36m<module>\u001b[0;34m\u001b[0m\n\u001b[1;32m      5\u001b[0m                \u001b[0;34m'/home/cz136/project/sa/lib/src/treecorr_cross.ipynb'\u001b[0m\u001b[0;34m,\u001b[0m\u001b[0;34m\u001b[0m\u001b[0;34m\u001b[0m\u001b[0m\n\u001b[1;32m      6\u001b[0m                \u001b[0;34m'/home/cz136/project/sa/lib/output/{}/{}/{}/treecorr.ipynb'\u001b[0m\u001b[0;34m.\u001b[0m\u001b[0mformat\u001b[0m\u001b[0;34m(\u001b[0m\u001b[0mshape\u001b[0m\u001b[0;34m,\u001b[0m\u001b[0mvol\u001b[0m\u001b[0;34m,\u001b[0m\u001b[0mz\u001b[0m\u001b[0;34m)\u001b[0m\u001b[0;34m,\u001b[0m\u001b[0;34m\u001b[0m\u001b[0;34m\u001b[0m\u001b[0m\n\u001b[0;32m----> 7\u001b[0;31m                \u001b[0mparameters\u001b[0m \u001b[0;34m=\u001b[0m \u001b[0mdict\u001b[0m\u001b[0;34m(\u001b[0m\u001b[0mshape_cat\u001b[0m\u001b[0;34m=\u001b[0m\u001b[0mshape\u001b[0m\u001b[0;34m,\u001b[0m\u001b[0mvol\u001b[0m\u001b[0;34m=\u001b[0m\u001b[0mvol_\u001b[0m\u001b[0;34m,\u001b[0m\u001b[0mz_range\u001b[0m\u001b[0;34m=\u001b[0m\u001b[0mz\u001b[0m\u001b[0;34m)\u001b[0m\u001b[0;34m\u001b[0m\u001b[0;34m\u001b[0m\u001b[0m\n\u001b[0m\u001b[1;32m      8\u001b[0m             )\n",
      "\u001b[0;32m~/anaconda3/envs/balrog/lib/python3.7/site-packages/papermill/execute.py\u001b[0m in \u001b[0;36mexecute_notebook\u001b[0;34m(input_path, output_path, parameters, engine_name, request_save_on_cell_execute, prepare_only, kernel_name, progress_bar, log_output, stdout_file, stderr_file, start_timeout, report_mode, cwd, **engine_kwargs)\u001b[0m\n\u001b[1;32m    106\u001b[0m \u001b[0;34m\u001b[0m\u001b[0m\n\u001b[1;32m    107\u001b[0m             \u001b[0;31m# Check for errors first (it saves on error before raising)\u001b[0m\u001b[0;34m\u001b[0m\u001b[0;34m\u001b[0m\u001b[0;34m\u001b[0m\u001b[0m\n\u001b[0;32m--> 108\u001b[0;31m             \u001b[0mraise_for_execution_errors\u001b[0m\u001b[0;34m(\u001b[0m\u001b[0mnb\u001b[0m\u001b[0;34m,\u001b[0m \u001b[0moutput_path\u001b[0m\u001b[0;34m)\u001b[0m\u001b[0;34m\u001b[0m\u001b[0;34m\u001b[0m\u001b[0m\n\u001b[0m\u001b[1;32m    109\u001b[0m \u001b[0;34m\u001b[0m\u001b[0m\n\u001b[1;32m    110\u001b[0m         \u001b[0;31m# Write final output in case the engine didn't write it on cell completion.\u001b[0m\u001b[0;34m\u001b[0m\u001b[0;34m\u001b[0m\u001b[0;34m\u001b[0m\u001b[0m\n",
      "\u001b[0;32m~/anaconda3/envs/balrog/lib/python3.7/site-packages/papermill/execute.py\u001b[0m in \u001b[0;36mraise_for_execution_errors\u001b[0;34m(nb, output_path)\u001b[0m\n\u001b[1;32m    190\u001b[0m         \u001b[0mnb\u001b[0m\u001b[0;34m.\u001b[0m\u001b[0mcells\u001b[0m \u001b[0;34m=\u001b[0m \u001b[0;34m[\u001b[0m\u001b[0merror_msg_cell\u001b[0m\u001b[0;34m]\u001b[0m \u001b[0;34m+\u001b[0m \u001b[0mnb\u001b[0m\u001b[0;34m.\u001b[0m\u001b[0mcells\u001b[0m\u001b[0;34m\u001b[0m\u001b[0;34m\u001b[0m\u001b[0m\n\u001b[1;32m    191\u001b[0m         \u001b[0mwrite_ipynb\u001b[0m\u001b[0;34m(\u001b[0m\u001b[0mnb\u001b[0m\u001b[0;34m,\u001b[0m \u001b[0moutput_path\u001b[0m\u001b[0;34m)\u001b[0m\u001b[0;34m\u001b[0m\u001b[0;34m\u001b[0m\u001b[0m\n\u001b[0;32m--> 192\u001b[0;31m         \u001b[0;32mraise\u001b[0m \u001b[0merror\u001b[0m\u001b[0;34m\u001b[0m\u001b[0;34m\u001b[0m\u001b[0m\n\u001b[0m",
      "\u001b[0;31mPapermillExecutionError\u001b[0m: \n---------------------------------------------------------------------------\nException encountered at \"In [10]\":\n---------------------------------------------------------------------------\nIndexError                                Traceback (most recent call last)\n<ipython-input-10-4b84be47e57a> in <module>\n----> 1 ng_r=get_xi_meanlogr_varxi_npairs(clusters.iloc[1],'r','abs')\n\n~/anaconda3/envs/balrog/lib/python3.7/site-packages/pandas/core/indexing.py in __getitem__(self, key)\n   1422 \n   1423             maybe_callable = com.apply_if_callable(key, self.obj)\n-> 1424             return self._getitem_axis(maybe_callable, axis=axis)\n   1425 \n   1426     def _is_scalar_access(self, key: Tuple):\n\n~/anaconda3/envs/balrog/lib/python3.7/site-packages/pandas/core/indexing.py in _getitem_axis(self, key, axis)\n   2155 \n   2156             # validate the location\n-> 2157             self._validate_integer(key, axis)\n   2158 \n   2159             return self._get_loc(key, axis=axis)\n\n~/anaconda3/envs/balrog/lib/python3.7/site-packages/pandas/core/indexing.py in _validate_integer(self, key, axis)\n   2086         len_axis = len(self.obj._get_axis(axis))\n   2087         if key >= len_axis or key < -len_axis:\n-> 2088             raise IndexError(\"single positional indexer is out-of-bounds\")\n   2089 \n   2090     def _getitem_tuple(self, tup):\n\nIndexError: single positional indexer is out-of-bounds\n"
     ]
    }
   ],
   "source": [
    "for shape in shape_list:\n",
    "    for vol_ in vol_list:\n",
    "        for z in z_list:\n",
    "            pm.execute_notebook(\n",
    "               '/home/cz136/project/sa/lib/src/treecorr_cross.ipynb',\n",
    "               '/home/cz136/project/sa/lib/output/{}/{}/{}/treecorr.ipynb'.format(shape,vol,z),\n",
    "               parameters = dict(shape_cat=shape,vol=vol_,z_range=z)\n",
    "            )"
   ]
  }
 ],
 "metadata": {
  "kernelspec": {
   "display_name": "Python 3",
   "language": "python",
   "name": "python3"
  },
  "language_info": {
   "codemirror_mode": {
    "name": "ipython",
    "version": 3
   },
   "file_extension": ".py",
   "mimetype": "text/x-python",
   "name": "python",
   "nbconvert_exporter": "python",
   "pygments_lexer": "ipython3",
   "version": "3.7.3"
  }
 },
 "nbformat": 4,
 "nbformat_minor": 4
}
