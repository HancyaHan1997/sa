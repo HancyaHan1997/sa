{
 "cells": [
  {
   "cell_type": "code",
   "execution_count": 12,
   "metadata": {},
   "outputs": [],
   "source": [
    "import papermill as pm"
   ]
  },
  {
   "cell_type": "markdown",
   "metadata": {},
   "source": [
    "# Data"
   ]
  },
  {
   "cell_type": "code",
   "execution_count": 13,
   "metadata": {},
   "outputs": [],
   "source": [
    "shape_list=[\"mcal\",\"im3\"]\n",
    "vol_list=[\"all\",\"vlim\"]\n",
    "z_list=[\"all_z\",\"high_z\",\"low_z\"]"
   ]
  },
  {
   "cell_type": "code",
   "execution_count": null,
   "metadata": {},
   "outputs": [
    {
     "data": {
      "application/vnd.jupyter.widget-view+json": {
       "model_id": "7b41a88ab7a14e0686688a14e081317d",
       "version_major": 2,
       "version_minor": 0
      },
      "text/plain": [
       "HBox(children=(IntProgress(value=0, description='Executing', max=72, style=ProgressStyle(description_width='in…"
      ]
     },
     "metadata": {},
     "output_type": "display_data"
    }
   ],
   "source": [
    "pm.execute_notebook(\n",
    "   '/home/cz136/project/sa/lib/src/data_marshalling.ipynb',\n",
    "   '/home/cz136/project/sa/lib/output/data/mcal_all.ipynb',\n",
    "   parameters = dict(shape_cat=\"mcal\",vol=\"all\")\n",
    ")"
   ]
  },
  {
   "cell_type": "code",
   "execution_count": null,
   "metadata": {},
   "outputs": [],
   "source": [
    "pm.execute_notebook(\n",
    "   '/home/cz136/project/sa/lib/src/data_marshalling.ipynb',\n",
    "   '/home/cz136/project/sa/lib/output/data/mcal_vlim.ipynb',\n",
    "   parameters = dict(shape_cat=\"mcal\",vol=\"vlim\")\n",
    ")"
   ]
  },
  {
   "cell_type": "code",
   "execution_count": null,
   "metadata": {},
   "outputs": [],
   "source": [
    "pm.execute_notebook(\n",
    "   '/home/cz136/project/sa/lib/src/data_marshalling.ipynb',\n",
    "   '/home/cz136/project/sa/lib/output/data/im3_all.ipynb',\n",
    "   parameters = dict(shape_cat=\"im3\",vol=\"all\")\n",
    ")"
   ]
  },
  {
   "cell_type": "code",
   "execution_count": null,
   "metadata": {},
   "outputs": [],
   "source": [
    "pm.execute_notebook(\n",
    "   '/home/cz136/project/sa/lib/src/data_marshalling.ipynb',\n",
    "   '/home/cz136/project/sa/lib/output/data/im3_vlim.ipynb',\n",
    "   parameters = dict(shape_cat=\"im3\",vol=\"vlim\")\n",
    ")"
   ]
  },
  {
   "cell_type": "markdown",
   "metadata": {},
   "source": [
    "# Analysis"
   ]
  },
  {
   "cell_type": "code",
   "execution_count": null,
   "metadata": {},
   "outputs": [],
   "source": [
    "for shape in shape_list:\n",
    "    for vol_ in vol_list:\n",
    "        for z in z_list:\n",
    "            pm.execute_notebook(\n",
    "               '/home/cz136/project/sa/lib/src/phi_e_sat.ipynb',\n",
    "               '/home/cz136/project/sa/lib/output/{}/{}/{}/phi_e_sat_{}_{}_{}.ipynb'.format(shape,vol_,z,shape,vol_,z),\n",
    "               parameters = dict(shape_cat=shape,vol=vol_,z_range=z)\n",
    "            )"
   ]
  },
  {
   "cell_type": "code",
   "execution_count": null,
   "metadata": {},
   "outputs": [],
   "source": [
    "for shape in shape_list:\n",
    "    for vol_ in vol_list:\n",
    "        for z in z_list:\n",
    "            pm.execute_notebook(\n",
    "               '/home/cz136/project/sa/lib/src/treecorr_cross.ipynb',\n",
    "               '/home/cz136/project/sa/lib/output/{}/{}/{}/treecorr_{}_{}_{}.ipynb'.format(shape,vol_,z,shape,vol_,z),\n",
    "               parameters = dict(shape_cat=shape,vol=vol_,z_range=z)\n",
    "            )"
   ]
  }
 ],
 "metadata": {
  "kernelspec": {
   "display_name": "Python 3",
   "language": "python",
   "name": "python3"
  },
  "language_info": {
   "codemirror_mode": {
    "name": "ipython",
    "version": 3
   },
   "file_extension": ".py",
   "mimetype": "text/x-python",
   "name": "python",
   "nbconvert_exporter": "python",
   "pygments_lexer": "ipython3",
   "version": "3.7.3"
  }
 },
 "nbformat": 4,
 "nbformat_minor": 4
}
