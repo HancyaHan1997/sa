{
 "cells": [
  {
   "cell_type": "code",
   "execution_count": 37,
   "metadata": {},
   "outputs": [],
   "source": [
    "%run /home/cz136/project/sa/lib/header.ipynb"
   ]
  },
  {
   "cell_type": "code",
   "execution_count": 36,
   "metadata": {},
   "outputs": [
    {
     "data": {
      "text/plain": [
       "(All, All, MEM_MATCH_ID)\n",
       "1       -0.046391\n",
       "2       -0.009052\n",
       "3       -0.014365\n",
       "4       -0.021928\n",
       "5       -0.020119\n",
       "           ...   \n",
       "33538   -0.015772\n",
       "33839   -0.034509\n",
       "36361   -0.220499\n",
       "40510   -0.021441\n",
       "41578         NaN\n",
       "Name: (All, All, Q), Length: 7066, dtype: float64"
      ]
     },
     "execution_count": 36,
     "metadata": {},
     "output_type": "execute_result"
    }
   ],
   "source": []
  }
 ],
 "metadata": {
  "kernelspec": {
   "display_name": "Python 3",
   "language": "python",
   "name": "python3"
  },
  "language_info": {
   "codemirror_mode": {
    "name": "ipython",
    "version": 3
   },
   "file_extension": ".py",
   "mimetype": "text/x-python",
   "name": "python",
   "nbconvert_exporter": "python",
   "pygments_lexer": "ipython3",
   "version": "3.7.3"
  }
 },
 "nbformat": 4,
 "nbformat_minor": 4
}
