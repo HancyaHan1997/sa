{
 "cells": [
  {
   "cell_type": "code",
   "execution_count": 2,
   "metadata": {},
   "outputs": [],
   "source": [
    "#This header file contains all the common packages\n",
    "\n",
    "%run header.ipynb"
   ]
  },
  {
   "cell_type": "code",
   "execution_count": 25,
   "metadata": {},
   "outputs": [
    {
     "ename": "FileNotFoundError",
     "evalue": "[Errno 2] No such file or directory: '/home/cz136/project/sa/data/vol_all/phi_1d.npy'",
     "output_type": "error",
     "traceback": [
      "\u001b[0;31m---------------------------------------------------------------------------\u001b[0m",
      "\u001b[0;31mFileNotFoundError\u001b[0m                         Traceback (most recent call last)",
      "\u001b[0;32m<ipython-input-25-70229fb36920>\u001b[0m in \u001b[0;36m<module>\u001b[0;34m\u001b[0m\n\u001b[1;32m      1\u001b[0m \u001b[0;31m#This header file contains all the common packages\u001b[0m\u001b[0;34m\u001b[0m\u001b[0;34m\u001b[0m\u001b[0;34m\u001b[0m\u001b[0m\n\u001b[1;32m      2\u001b[0m \u001b[0mget_ipython\u001b[0m\u001b[0;34m(\u001b[0m\u001b[0;34m)\u001b[0m\u001b[0;34m.\u001b[0m\u001b[0mrun_line_magic\u001b[0m\u001b[0;34m(\u001b[0m\u001b[0;34m'run'\u001b[0m\u001b[0;34m,\u001b[0m \u001b[0;34m'header.ipynb'\u001b[0m\u001b[0;34m)\u001b[0m\u001b[0;34m\u001b[0m\u001b[0;34m\u001b[0m\u001b[0m\n\u001b[0;32m----> 3\u001b[0;31m \u001b[0mphi_1d\u001b[0m\u001b[0;34m=\u001b[0m\u001b[0mnp\u001b[0m\u001b[0;34m.\u001b[0m\u001b[0mload\u001b[0m\u001b[0;34m(\u001b[0m\u001b[0;34m\"/home/cz136/project/sa/data/{}/phi_1d.npy\"\u001b[0m\u001b[0;34m.\u001b[0m\u001b[0mformat\u001b[0m\u001b[0;34m(\u001b[0m\u001b[0mdir_string\u001b[0m\u001b[0;34m)\u001b[0m\u001b[0;34m)\u001b[0m\u001b[0;34m\u001b[0m\u001b[0;34m\u001b[0m\u001b[0m\n\u001b[0m\u001b[1;32m      4\u001b[0m \u001b[0mphi_w_1d\u001b[0m\u001b[0;34m=\u001b[0m\u001b[0mnp\u001b[0m\u001b[0;34m.\u001b[0m\u001b[0mload\u001b[0m\u001b[0;34m(\u001b[0m\u001b[0;34m\"/home/cz136/project/sa/data/{}/phi_1d.npy\"\u001b[0m\u001b[0;34m.\u001b[0m\u001b[0mformat\u001b[0m\u001b[0;34m(\u001b[0m\u001b[0mdir_string\u001b[0m\u001b[0;34m)\u001b[0m\u001b[0;34m)\u001b[0m\u001b[0;34m\u001b[0m\u001b[0;34m\u001b[0m\u001b[0m\n\u001b[1;32m      5\u001b[0m \u001b[0me_list\u001b[0m\u001b[0;34m=\u001b[0m\u001b[0mnp\u001b[0m\u001b[0;34m.\u001b[0m\u001b[0mload\u001b[0m\u001b[0;34m(\u001b[0m\u001b[0;34m\"/home/cz136/project/sa/data/{}/e_array.npy\"\u001b[0m\u001b[0;34m.\u001b[0m\u001b[0mformat\u001b[0m\u001b[0;34m(\u001b[0m\u001b[0mdir_string\u001b[0m\u001b[0;34m)\u001b[0m\u001b[0;34m)\u001b[0m\u001b[0;34m\u001b[0m\u001b[0;34m\u001b[0m\u001b[0m\n",
      "\u001b[0;32m~/anaconda3/envs/balrog/lib/python3.7/site-packages/numpy/lib/npyio.py\u001b[0m in \u001b[0;36mload\u001b[0;34m(file, mmap_mode, allow_pickle, fix_imports, encoding)\u001b[0m\n\u001b[1;32m    420\u001b[0m         \u001b[0mown_fid\u001b[0m \u001b[0;34m=\u001b[0m \u001b[0;32mFalse\u001b[0m\u001b[0;34m\u001b[0m\u001b[0;34m\u001b[0m\u001b[0m\n\u001b[1;32m    421\u001b[0m     \u001b[0;32melse\u001b[0m\u001b[0;34m:\u001b[0m\u001b[0;34m\u001b[0m\u001b[0;34m\u001b[0m\u001b[0m\n\u001b[0;32m--> 422\u001b[0;31m         \u001b[0mfid\u001b[0m \u001b[0;34m=\u001b[0m \u001b[0mopen\u001b[0m\u001b[0;34m(\u001b[0m\u001b[0mos_fspath\u001b[0m\u001b[0;34m(\u001b[0m\u001b[0mfile\u001b[0m\u001b[0;34m)\u001b[0m\u001b[0;34m,\u001b[0m \u001b[0;34m\"rb\"\u001b[0m\u001b[0;34m)\u001b[0m\u001b[0;34m\u001b[0m\u001b[0;34m\u001b[0m\u001b[0m\n\u001b[0m\u001b[1;32m    423\u001b[0m         \u001b[0mown_fid\u001b[0m \u001b[0;34m=\u001b[0m \u001b[0;32mTrue\u001b[0m\u001b[0;34m\u001b[0m\u001b[0;34m\u001b[0m\u001b[0m\n\u001b[1;32m    424\u001b[0m \u001b[0;34m\u001b[0m\u001b[0m\n",
      "\u001b[0;31mFileNotFoundError\u001b[0m: [Errno 2] No such file or directory: '/home/cz136/project/sa/data/vol_all/phi_1d.npy'"
     ]
    }
   ],
   "source": [
    "phi_1d=np.load(\"/home/cz136/project/sa/data/{}/phi_1d.npy\".format(dir_string))\n",
    "phi_w_1d=np.load(\"/home/cz136/project/sa/data/{}/phi_1d.npy\".format(dir_string))\n",
    "e_list=np.load(\"/home/cz136/project/sa/data/{}/e_array.npy\".format(dir_string))"
   ]
  },
  {
   "cell_type": "code",
   "execution_count": 3,
   "metadata": {},
   "outputs": [
    {
     "name": "stdout",
     "output_type": "stream",
     "text": [
      "553\n",
      "21621\n"
     ]
    }
   ],
   "source": [
    "print(len(clusters))\n",
    "print(len(shapes))"
   ]
  },
  {
   "cell_type": "code",
   "execution_count": 4,
   "metadata": {},
   "outputs": [
    {
     "name": "stdout",
     "output_type": "stream",
     "text": [
      "The number of clusters with no center shape data 0\n",
      "The number of clusters with low probability center 0\n"
     ]
    }
   ],
   "source": [
    "def drop_poor_centers():\n",
    "    \"\"\"Drop clusters with no center shape data from the cluster dataframe\"\"\"\n",
    "    center_id=clusters[('Alt', 'Alt1', 'ID_CENT')]\n",
    "    pp=shapes.loc[center_id][('All','PP')].to_numpy()\n",
    "    missing_mem_match_id=clusters[np.isnan(pp)].index\n",
    "    clusters.drop(missing_mem_match_id,inplace=True)\n",
    "    np.save(\"/home/cz136/project/sa/data/{}/missing_centers.npy\".format(dir_string),center_id[np.isnan(pp)].to_numpy())\n",
    "    print(\"The number of clusters with no center shape data {}\".format(np.sum(np.isnan(pp))))\n",
    "    print(\"The number of clusters with low probability center {}\".format(np.sum(pp[~np.isnan(pp)]<=0.55)))\n",
    "drop_poor_centers()"
   ]
  },
  {
   "cell_type": "code",
   "execution_count": 5,
   "metadata": {},
   "outputs": [
    {
     "name": "stdout",
     "output_type": "stream",
     "text": [
      "0\n",
      "0\n",
      "21621\n",
      "6247\n"
     ]
    }
   ],
   "source": [
    "# Print the numbers of galaxies that needed to be masked\n",
    "\n",
    "\n",
    "print(np.sum(shapes[('All','e1')]==-9999))\n",
    "print(np.sum(shapes[('All','e2')]==-9999))\n",
    "print(np.sum(shapes['All','flags_select']==0))\n",
    "print(np.sum(shapes[('All','PP')]<=0.55))"
   ]
  },
  {
   "cell_type": "code",
   "execution_count": 6,
   "metadata": {},
   "outputs": [
    {
     "name": "stdout",
     "output_type": "stream",
     "text": [
      "553\n",
      "15374\n"
     ]
    }
   ],
   "source": [
    "#masking\n",
    "\n",
    "\n",
    "shapes=shapes[shapes[('All','PP')]>=0.55]\n",
    "# shapes=shapes[shapes[('All','e1')]!=-9999]\n",
    "# shapes=shapes[shapes[('All','e2')]!=-9999]\n",
    "shapes=shapes[shapes[('All', 'flags_select')]==0]\n",
    "\n",
    "\n",
    "print(len(clusters))\n",
    "print(len(shapes))"
   ]
  },
  {
   "cell_type": "markdown",
   "metadata": {},
   "source": [
    "# Stats of e1,e2"
   ]
  },
  {
   "cell_type": "code",
   "execution_count": 7,
   "metadata": {},
   "outputs": [
    {
     "data": {
      "text/plain": [
       "count    15374.000000\n",
       "mean        -0.001151\n",
       "std          0.144523\n",
       "min         -0.659677\n",
       "25%         -0.074782\n",
       "50%         -0.000808\n",
       "75%          0.073361\n",
       "max          0.683530\n",
       "Name: (All, e2), dtype: float64"
      ]
     },
     "execution_count": 7,
     "metadata": {},
     "output_type": "execute_result"
    },
    {
     "data": {
      "image/png": "[encoded data removed]",
      "text/plain": [
       "<Figure size 432x288 with 1 Axes>"
      ]
     },
     "metadata": {},
     "output_type": "display_data"
    }
   ],
   "source": [
    "from matplotlib.colors import LogNorm \n",
    "plt.hist2d(shapes['All','e1'],shapes['All','e2'],bins=500,norm=LogNorm())\n",
    "plt.axis('equal')\n",
    "plt.title(\"2D Histogram of $e_1$ and $e_2$\")\n",
    "pd.Series(shapes['All','e1']).describe()\n",
    "pd.Series(shapes['All','e2']).describe()"
   ]
  },
  {
   "cell_type": "code",
   "execution_count": 8,
   "metadata": {},
   "outputs": [
    {
     "data": {
      "text/plain": [
       "count    15374.000000\n",
       "mean        -1.052036\n",
       "std        170.275772\n",
       "min     -20097.585018\n",
       "25%         -1.007394\n",
       "50%         -0.006972\n",
       "75%          0.987162\n",
       "max       3224.125134\n",
       "dtype: float64"
      ]
     },
     "execution_count": 8,
     "metadata": {},
     "output_type": "execute_result"
    },
    {
     "data": {
      "image/png": "[encoded data removed]",
      "text/plain": [
       "<Figure size 432x288 with 1 Axes>"
      ]
     },
     "metadata": {},
     "output_type": "display_data"
    }
   ],
   "source": [
    "#statistics and hisgoram of e2/e1\n",
    "plt.hist(shapes['All','e2']/shapes['All','e1'],bins=np.arange(-10,10,0.1))\n",
    "plt.title(\"Histogram of $e_2$/$e_1$\")\n",
    "pd.Series(shapes['All','e2']/shapes['All','e1']).describe()"
   ]
  },
  {
   "cell_type": "markdown",
   "metadata": {},
   "source": [
    "# Get phi "
   ]
  },
  {
   "cell_type": "code",
   "execution_count": 9,
   "metadata": {},
   "outputs": [],
   "source": [
    "def get_std_err_of_mean(np_array):\n",
    "    mean=np_array.mean()\n",
    "    std=np_array.std()\n",
    "    n=len(np_array)\n",
    "    return(std/np.sqrt(n))"
   ]
  },
  {
   "cell_type": "code",
   "execution_count": 10,
   "metadata": {},
   "outputs": [],
   "source": [
    "def get_theta_for_obj(obj1,obj2):\n",
    "    \n",
    "    \"\"\"Theta is the position angle of obj2 from north of east of obj1 \"\"\"\n",
    "    \n",
    "    ra1,dec1=(obj1[('All', 'RA')],obj1[('All', 'DEC')])\n",
    "    ra2,dec2=(obj2[('All', 'RA')],obj2[('All', 'DEC')])\n",
    "    \n",
    "    \n",
    "    \n",
    "    c1=SkyCoord(ra1*u.deg,dec1*u.deg)\n",
    "    c2=SkyCoord(ra2*u.deg,dec2*u.deg)\n",
    "    \n",
    "    \n",
    "    return(90-c1.position_angle(c2).degree)\n",
    "    "
   ]
  },
  {
   "cell_type": "code",
   "execution_count": 11,
   "metadata": {},
   "outputs": [],
   "source": [
    "def get_pa_for_obj(obj):\n",
    "    e1=obj['All']['e1']\n",
    "    e2=obj['All']['e1']\n",
    "    \n",
    "    α =0.5*np.arctan2(-e2,-e1)*180/np.pi\n",
    "    return(α)"
   ]
  },
  {
   "cell_type": "code",
   "execution_count": 12,
   "metadata": {},
   "outputs": [],
   "source": [
    "error_list_phi=[]\n",
    "error_list_e=[]\n",
    "\n",
    "def get_phi_for_cluster(cluster):\n",
    "    \n",
    "    \"\"\"Input: cluster series\n",
    "        Output: an array of position angle weighted by PP\n",
    "        Record KeyError in an array (usually caused by uncomplete shape catalog).\n",
    "    \"\"\"\n",
    "    \n",
    "    try:\n",
    "        center_id=cluster[('Alt', 'Alt1', 'ID_CENT')]\n",
    "        center = shapes.loc[center_id]\n",
    "\n",
    "        mem_match_id=cluster.name\n",
    "        members=shapes[shapes['All','MEM_MATCH_ID']==mem_match_id]\n",
    "\n",
    "\n",
    "\n",
    "        pa=np.array([get_pa_for_obj(member[1]) for member in members.iterrows()]).flatten()\n",
    "        theta= np.array([get_theta_for_obj(member[1],center) for member in members.iterrows()]).flatten()\n",
    "        pp=members[('All','PP')]\n",
    "        phi=(pa-theta)\n",
    "        phi_w=(pa-theta)*pp\n",
    "    #     print(center.index)\n",
    "        return(phi,phi_w)    \n",
    "    except KeyError as e:\n",
    "        error_list_phi.append(e)\n",
    "        return(np.array([]),np.array([]))"
   ]
  },
  {
   "cell_type": "code",
   "execution_count": 13,
   "metadata": {},
   "outputs": [
    {
     "data": {
      "application/vnd.jupyter.widget-view+json": {
       "model_id": "fc3883179a2c48339a3fc3b67b21962f",
       "version_major": 2,
       "version_minor": 0
      },
      "text/plain": [
       "HBox(children=(IntProgress(value=0, max=553), HTML(value='')))"
      ]
     },
     "metadata": {},
     "output_type": "display_data"
    },
    {
     "name": "stdout",
     "output_type": "stream",
     "text": [
      "\n"
     ]
    }
   ],
   "source": [
    "phi_list=[]\n",
    "phi_w_list=[]\n",
    "for mem_matching_id in tqdm(clusters.index):\n",
    "    phi_array=get_phi_for_cluster(clusters.loc[mem_matching_id])[0]\n",
    "    phi_w_array=get_phi_for_cluster(clusters.loc[mem_matching_id])[1]\n",
    "    phi_w_list.append(phi_w_array)\n",
    "    phi_list.append(phi_array)\n",
    "phi_list=np.array(phi_list)\n",
    "phi_w_list=np.array(phi_w_list)"
   ]
  },
  {
   "cell_type": "code",
   "execution_count": 14,
   "metadata": {},
   "outputs": [],
   "source": [
    "def process_phi(phi_list):\n",
    "\n",
    "    phi_1d=np.concatenate(phi_list)\n",
    "\n",
    "    phi_1d=np.where(phi_1d<=0,-phi_1d,phi_1d)\n",
    "    phi_1d=np.where(phi_1d>=180,phi_1d-180,phi_1d)\n",
    "    phi_1d=np.where(phi_1d>=90,180-phi_1d,phi_1d)\n",
    "\n",
    "    phi_1d=np.sort(phi_1d)\n",
    "    \n",
    "    return(phi_1d)\n",
    "\n",
    "phi_1d=process_phi(phi_list)\n",
    "phi_w_1d=process_phi(phi_w_list)"
   ]
  },
  {
   "cell_type": "code",
   "execution_count": 15,
   "metadata": {},
   "outputs": [],
   "source": [
    "np.save(\"/home/cz136/project/sa/data/{}/phi_1d.npy\".format(dir_string),phi_1d)\n",
    "np.save(\"/home/cz136/project/sa/data/{}/phi_w_1d.npy\".format(dir_string),phi_w_1d)"
   ]
  },
  {
   "cell_type": "markdown",
   "metadata": {},
   "source": [
    "## Stats for unweighted "
   ]
  },
  {
   "cell_type": "code",
   "execution_count": 16,
   "metadata": {},
   "outputs": [
    {
     "name": "stdout",
     "output_type": "stream",
     "text": [
      "Mean:4.488885e+01 \n",
      "StdE:2.099508e-01 \n"
     ]
    }
   ],
   "source": [
    "# phi_1d=np.load(\"/home/cz136/project/sa/data/phi_1d.npy\")\n",
    "pd.Series(phi_1d).describe()\n",
    "print(\"Mean:{:05e} \\nStdE:{:05e} \".format(phi_1d.mean(),phi_1d.std()/np.sqrt(len(phi_1d))))"
   ]
  },
  {
   "cell_type": "code",
   "execution_count": 17,
   "metadata": {},
   "outputs": [
    {
     "data": {
      "text/plain": [
       "count    15374.000000\n",
       "mean        44.888848\n",
       "std         26.033055\n",
       "min          0.000277\n",
       "25%         22.500000\n",
       "50%         44.998643\n",
       "75%         67.500000\n",
       "max         89.987996\n",
       "dtype: float64"
      ]
     },
     "execution_count": 17,
     "metadata": {},
     "output_type": "execute_result"
    },
    {
     "data": {
      "image/png": "[encoded data removed]",
      "text/plain": [
       "<Figure size 432x288 with 1 Axes>"
      ]
     },
     "metadata": {},
     "output_type": "display_data"
    }
   ],
   "source": [
    "BINS=np.arange(0,90,1)\n",
    "ax = sns.distplot(phi_1d,bins=BINS)\n",
    "ax.set_title(\"Histogram of $\\phi_{sat}$, unweighted\") \n",
    "pd.Series(phi_1d).describe()"
   ]
  },
  {
   "cell_type": "markdown",
   "metadata": {},
   "source": [
    "## Stats for weighted"
   ]
  },
  {
   "cell_type": "code",
   "execution_count": 18,
   "metadata": {},
   "outputs": [
    {
     "name": "stdout",
     "output_type": "stream",
     "text": [
      "Mean:4.488885e+01 \n",
      "StdE:2.099508e-01 \n"
     ]
    }
   ],
   "source": [
    "pd.Series(phi_w_1d).describe()\n",
    "print(\"Mean:{:05e} \\nStdE:{:05e} \".format(phi_1d.mean(),phi_1d.std()/np.sqrt(len(phi_1d))))"
   ]
  },
  {
   "cell_type": "code",
   "execution_count": 19,
   "metadata": {},
   "outputs": [
    {
     "data": {
      "text/plain": [
       "count    15374.000000\n",
       "mean        44.429642\n",
       "std         25.833833\n",
       "min          0.010829\n",
       "25%         22.500000\n",
       "50%         44.066296\n",
       "75%         67.500000\n",
       "max         89.997206\n",
       "dtype: float64"
      ]
     },
     "execution_count": 19,
     "metadata": {},
     "output_type": "execute_result"
    },
    {
     "data": {
      "image/png": "[encoded data removed]",
      "text/plain": [
       "<Figure size 432x288 with 1 Axes>"
      ]
     },
     "metadata": {},
     "output_type": "display_data"
    }
   ],
   "source": [
    "BINS=np.arange(0,90,1)\n",
    "ax = sns.distplot(phi_1d,bins=BINS)\n",
    "ax.set_title(\"Histogram of $\\phi_{sat}$ weighted by probability\") \n",
    "pd.Series(phi_w_1d).describe()"
   ]
  },
  {
   "cell_type": "markdown",
   "metadata": {},
   "source": [
    "# Analysis around 22.5 and 67.5"
   ]
  },
  {
   "cell_type": "code",
   "execution_count": 20,
   "metadata": {},
   "outputs": [
    {
     "name": "stdout",
     "output_type": "stream",
     "text": [
      "[22 67  9 65 48  0 19 69 60 77 56 38 74  2 76 36 10  3 73 81 82 86 70  1\n",
      " 53 88 12 18 44 27 28  5 16 80 50 51 25 66 68 32 46 62 61 57 30 87  4 21\n",
      "  7 14 31 54 55 23 85 33 34 20 29 49 41  6 39 40 72 35 42 84 75  8 11 83\n",
      " 15 79 52 78 24 45 17 47 63 43 37 58 64 26 59 71 13]\n",
      "[431 403 195 192 189 188 185 184 183 183 181 181 180 179 179 178 178 177\n",
      " 177 176 176 176 175 174 173 173 173 173 172 172 170 170 170 169 169 168\n",
      " 168 168 168 168 167 166 166 166 166 165 165 165 165 165 164 164 164 163\n",
      " 162 161 161 161 160 159 158 157 157 157 157 156 156 156 156 156 155 155\n",
      " 155 154 154 153 152 151 149 149 148 148 147 147 146 144 144 142 142]\n"
     ]
    }
   ],
   "source": [
    "#Print out the most crowded bins\n",
    "\n",
    "phi_count=np.histogram(phi_1d,bins=BINS)\n",
    "sort=np.argsort(-phi_count[0])\n",
    "print(phi_count[1][sort])\n",
    "print(phi_count[0][sort])"
   ]
  },
  {
   "cell_type": "code",
   "execution_count": 21,
   "metadata": {},
   "outputs": [
    {
     "data": {
      "text/plain": [
       "count    431.000000\n",
       "mean      22.492639\n",
       "std        0.166395\n",
       "min       22.001433\n",
       "25%       22.500000\n",
       "50%       22.500000\n",
       "75%       22.500000\n",
       "max       22.998843\n",
       "dtype: float64"
      ]
     },
     "execution_count": 21,
     "metadata": {},
     "output_type": "execute_result"
    },
    {
     "data": {
      "image/png": "[encoded data removed]",
      "text/plain": [
       "<Figure size 432x288 with 1 Axes>"
      ]
     },
     "metadata": {},
     "output_type": "display_data"
    }
   ],
   "source": [
    "#Statistics around 22.5\n",
    "first_cluster_left=np.sum(phi_count[0][0:22])\n",
    "first_length=phi_count[0][sort][0]\n",
    "first_cluster=phi_1d[first_cluster_left:first_cluster_left+first_length]\n",
    "ax = sns.distplot(first_cluster)\n",
    "ax.set_title(\"$\\phi_{sat}$ Distribution Around 22.5 $\\degree$\")\n",
    "pd.Series(first_cluster).describe()"
   ]
  },
  {
   "cell_type": "code",
   "execution_count": 22,
   "metadata": {},
   "outputs": [
    {
     "data": {
      "text/plain": [
       "count    431.000000\n",
       "mean      67.536623\n",
       "std        0.214945\n",
       "min       67.018678\n",
       "25%       67.500000\n",
       "50%       67.500000\n",
       "75%       67.500000\n",
       "max       68.141099\n",
       "dtype: float64"
      ]
     },
     "execution_count": 22,
     "metadata": {},
     "output_type": "execute_result"
    },
    {
     "data": {
      "image/png": "[encoded data removed]",
      "text/plain": [
       "<Figure size 432x288 with 1 Axes>"
      ]
     },
     "metadata": {},
     "output_type": "display_data"
    }
   ],
   "source": [
    "second_cluster_left=np.sum(phi_count[0][0:67])\n",
    "second_length=phi_count[0][sort][0]\n",
    "second_cluster=phi_1d[second_cluster_left:second_cluster_left+second_length]\n",
    "ax = sns.distplot(second_cluster)\n",
    "ax.set_title(\"$\\phi_{sat}$ Distribution Around 67.5 $\\degree$\")\n",
    "pd.Series(second_cluster).describe()"
   ]
  },
  {
   "cell_type": "markdown",
   "metadata": {},
   "source": [
    "# Get e"
   ]
  },
  {
   "cell_type": "markdown",
   "metadata": {},
   "source": [
    "## Statistics of e1 and e2"
   ]
  },
  {
   "cell_type": "code",
   "execution_count": 23,
   "metadata": {},
   "outputs": [
    {
     "data": {
      "text/plain": [
       "count    15374.000000\n",
       "mean         0.000431\n",
       "std          0.142445\n",
       "min         -0.838272\n",
       "25%         -0.073935\n",
       "50%         -0.000909\n",
       "75%          0.074437\n",
       "max          0.629636\n",
       "Name: (All, e1), dtype: float64"
      ]
     },
     "execution_count": 23,
     "metadata": {},
     "output_type": "execute_result"
    }
   ],
   "source": [
    "e1=shapes[('All','e1')].to_numpy()\n",
    "shapes[('All','e1')].describe()"
   ]
  },
  {
   "cell_type": "code",
   "execution_count": 24,
   "metadata": {},
   "outputs": [
    {
     "data": {
      "text/plain": [
       "count    15374.000000\n",
       "mean        -0.001151\n",
       "std          0.144523\n",
       "min         -0.659677\n",
       "25%         -0.074782\n",
       "50%         -0.000808\n",
       "75%          0.073361\n",
       "max          0.683530\n",
       "Name: (All, e2), dtype: float64"
      ]
     },
     "execution_count": 24,
     "metadata": {},
     "output_type": "execute_result"
    }
   ],
   "source": [
    "e2=shapes[('All','e1')].to_numpy()\n",
    "shapes[('All','e2')].describe()"
   ]
  },
  {
   "cell_type": "code",
   "execution_count": 25,
   "metadata": {},
   "outputs": [],
   "source": [
    "def get_e_for_pair(cen,sat):\n",
    "    e=np.sqrt(sat[('All','e1')]**2+sat[('All','e2')]**2)\n",
    "    delta=get_theta_for_obj(cen,sat)\n",
    "    alpha=get_pa_for_obj(sat)\n",
    "    ep,ex=(e*np.cos(2*(delta-alpha)),e*np.sin(2*(delta-alpha)))\n",
    "    return(ep,ex)"
   ]
  },
  {
   "cell_type": "code",
   "execution_count": 26,
   "metadata": {},
   "outputs": [],
   "source": [
    "def get_e_for_cluster(cluster):\n",
    "    \n",
    "    try:\n",
    "        center_id=cluster[('Alt', 'Alt1', 'ID_CENT')]\n",
    "        center = shapes.loc[center_id]\n",
    "\n",
    "        mem_match_id=cluster.name\n",
    "        members=shapes[shapes['All','MEM_MATCH_ID']==mem_match_id]\n",
    "\n",
    "        e_array=np.array([(get_e_for_pair(center,member[1])) for member in members.iterrows()])\n",
    "        return(e_array)    \n",
    "    except KeyError as e:\n",
    "        error_list_e.append(e)\n",
    "        return(np.array([]))"
   ]
  },
  {
   "cell_type": "code",
   "execution_count": 27,
   "metadata": {},
   "outputs": [
    {
     "data": {
      "application/vnd.jupyter.widget-view+json": {
       "model_id": "4fee4b5224a54c749ccbccbbdf1248be",
       "version_major": 2,
       "version_minor": 0
      },
      "text/plain": [
       "HBox(children=(IntProgress(value=0, max=553), HTML(value='')))"
      ]
     },
     "metadata": {},
     "output_type": "display_data"
    },
    {
     "name": "stdout",
     "output_type": "stream",
     "text": [
      "\n"
     ]
    },
    {
     "name": "stderr",
     "output_type": "stream",
     "text": [
      "/home/cz136/anaconda3/envs/balrog/lib/python3.7/site-packages/ipykernel_launcher.py:6: DeprecationWarning: elementwise comparison failed; this will raise an error in the future.\n",
      "  \n"
     ]
    }
   ],
   "source": [
    "e_list=[]\n",
    "for mem_matching_id in tqdm(clusters.index[:]):\n",
    "    e_array=get_e_for_cluster(clusters.loc[mem_matching_id])\n",
    "    e_list.append(e_array)\n",
    "e_list=np.array(e_list)\n",
    "e_list=np.concatenate([e_array for e_array in e_list if e_array!=np.array([])])"
   ]
  },
  {
   "cell_type": "code",
   "execution_count": 28,
   "metadata": {},
   "outputs": [],
   "source": [
    "np.save(\"/home/cz136/project/sa/data/{}/e_array\".format(dir_string),e_list)"
   ]
  },
  {
   "cell_type": "code",
   "execution_count": 29,
   "metadata": {},
   "outputs": [],
   "source": [
    "e_p_1d=e_list[:,0].flatten()\n",
    "e_x_1d=e_list[:,1].flatten()"
   ]
  },
  {
   "cell_type": "code",
   "execution_count": 30,
   "metadata": {},
   "outputs": [
    {
     "name": "stdout",
     "output_type": "stream",
     "text": [
      "mean=-1.016924e-03, std_mean=1.162613e-03\n"
     ]
    },
    {
     "data": {
      "text/plain": [
       "count    15374.000000\n",
       "mean        -0.001017\n",
       "std          0.144159\n",
       "min         -0.641451\n",
       "25%         -0.076386\n",
       "50%         -0.000137\n",
       "75%          0.073117\n",
       "max          0.684332\n",
       "dtype: float64"
      ]
     },
     "execution_count": 30,
     "metadata": {},
     "output_type": "execute_result"
    },
    {
     "data": {
      "image/png": "[encoded data removed]",
      "text/plain": [
       "<Figure size 432x288 with 1 Axes>"
      ]
     },
     "metadata": {},
     "output_type": "display_data"
    }
   ],
   "source": [
    "ax=sns.distplot(e_p_1d)\n",
    "ax.set_title(\"Distribution of $e_{+}$\")\n",
    "print (\"mean={:05e}, std_mean={:05e}\".format(e_p_1d.mean(),get_std_err_of_mean(e_p_1d)))\n",
    "pd.Series(e_p_1d).describe()"
   ]
  },
  {
   "cell_type": "code",
   "execution_count": 31,
   "metadata": {},
   "outputs": [
    {
     "name": "stdout",
     "output_type": "stream",
     "text": [
      "mean=5.403571e-04, std_mean=1.151760e-03\n"
     ]
    },
    {
     "data": {
      "text/plain": [
       "count    15374.000000\n",
       "mean         0.000540\n",
       "std          0.142814\n",
       "min         -0.636614\n",
       "25%         -0.071348\n",
       "50%          0.004076\n",
       "75%          0.073154\n",
       "max          0.663913\n",
       "dtype: float64"
      ]
     },
     "execution_count": 31,
     "metadata": {},
     "output_type": "execute_result"
    },
    {
     "data": {
      "image/png": "[encoded data removed]",
      "text/plain": [
       "<Figure size 432x288 with 1 Axes>"
      ]
     },
     "metadata": {},
     "output_type": "display_data"
    }
   ],
   "source": [
    "ax=sns.distplot(e_x_1d)\n",
    "ax.set_title(\"Distribution of $e_{x}$\")\n",
    "print (\"mean={:05e}, std_mean={:05e}\".format(e_x_1d.mean(),get_std_err_of_mean(e_x_1d)))\n",
    "pd.Series(e_x_1d).describe()"
   ]
  }
 ],
 "metadata": {
  "kernelspec": {
   "display_name": "Python 3",
   "language": "python",
   "name": "python3"
  },
  "language_info": {
   "codemirror_mode": {
    "name": "ipython",
    "version": 3
   },
   "file_extension": ".py",
   "mimetype": "text/x-python",
   "name": "python",
   "nbconvert_exporter": "python",
   "pygments_lexer": "ipython3",
   "version": "3.7.3"
  }
 },
 "nbformat": 4,
 "nbformat_minor": 4
}
