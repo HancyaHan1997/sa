{
 "cells": [
  {
   "cell_type": "code",
   "execution_count": 1,
   "metadata": {},
   "outputs": [],
   "source": [
    "import pandas as pd\n",
    "import numpy as np\n",
    "import astropy as ap\n",
    "from tqdm.notebook import trange, tqdm\n",
    "import matplotlib.pyplot as plt\n",
    "import seaborn as sns\n",
    "sns.set()\n",
    "\n",
    "from astropy.coordinates import SkyCoord  # High-level coordinates\n",
    "from astropy.coordinates import ICRS, Galactic, FK4, FK5  # Low-level frames\n",
    "from astropy.coordinates import Angle, Latitude, Longitude  # Angles\n",
    "import astropy.units as u\n",
    "\n",
    "from IPython.display import display, Math"
   ]
  },
  {
   "cell_type": "code",
   "execution_count": 5,
   "metadata": {},
   "outputs": [
    {
     "name": "stdout",
     "output_type": "stream",
     "text": [
      "/home/cz136/project/sa/lib/vol_limited\n"
     ]
    }
   ],
   "source": [
    "path=!pwd\n",
    "path=path[0]\n",
    "print(path)"
   ]
  },
  {
   "cell_type": "code",
   "execution_count": 9,
   "metadata": {},
   "outputs": [],
   "source": [
    "if \"limited\" in path:\n",
    "    vol_lim='_vollim'\n",
    "else:\n",
    "    vol_lim=\"\""
   ]
  },
  {
   "cell_type": "code",
   "execution_count": 10,
   "metadata": {},
   "outputs": [],
   "source": [
    "if \"high_z\" in path:\n",
    "    z=\"_high_z\"\n",
    "elif \"low_z\" in path:\n",
    "    z=\"_low_z\"\n",
    "else:\n",
    "    z=\"\""
   ]
  },
  {
   "cell_type": "code",
   "execution_count": 11,
   "metadata": {},
   "outputs": [],
   "source": [
    "clusters=pd.read_pickle('/home/cz136/project/sa/data/clusters{}{}.pkl'.format(vol_lim,z)) \n",
    "shapes=pd.read_pickle('/home/cz136/project/sa/data/shapes{}{}.pkl'.format(vol_lim,z)) \n",
    "random=pd.read_pickle('/home/cz136/project/sa/data/random.pkl')"
   ]
  },
  {
   "cell_type": "code",
   "execution_count": 12,
   "metadata": {},
   "outputs": [],
   "source": [
    "if \"limited\" in path:\n",
    "    dir_vol='vollim'\n",
    "else:\n",
    "    dir_vol=\"vol\"\n",
    "    \n",
    "if \"high_z\" in path:\n",
    "    z=\"_high_z\"\n",
    "elif \"low_z\" in path:\n",
    "    z=\"_low_z\"\n",
    "else:\n",
    "    z=\"_all\""
   ]
  },
  {
   "cell_type": "code",
   "execution_count": 13,
   "metadata": {},
   "outputs": [],
   "source": [
    "dir_string=dir_vol+z"
   ]
  }
 ],
 "metadata": {
  "kernelspec": {
   "display_name": "Python 3",
   "language": "python",
   "name": "python3"
  },
  "language_info": {
   "codemirror_mode": {
    "name": "ipython",
    "version": 3
   },
   "file_extension": ".py",
   "mimetype": "text/x-python",
   "name": "python",
   "nbconvert_exporter": "python",
   "pygments_lexer": "ipython3",
   "version": "3.7.3"
  }
 },
 "nbformat": 4,
 "nbformat_minor": 4
}
