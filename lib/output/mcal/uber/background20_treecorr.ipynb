{
 "cells": [
  {
   "cell_type": "code",
   "execution_count": 1,
   "metadata": {
    "papermill": {
     "duration": 0.043312,
     "end_time": "2019-11-15T11:36:09.657471",
     "exception": false,
     "start_time": "2019-11-15T11:36:09.614159",
     "status": "completed"
    },
    "tags": [
     "parameters"
    ]
   },
   "outputs": [],
   "source": [
    "shape_cat=\"\"\n",
    "vol=\"\"\n",
    "z_range=\"\"\n",
    "key=\"\"\n",
    "quantile=\"\"\n",
    "test=\"\"\n",
    "z_diff=\"\""
   ]
  },
  {
   "cell_type": "code",
   "execution_count": 2,
   "metadata": {
    "papermill": {
     "duration": 0.042143,
     "end_time": "2019-11-15T11:36:09.730253",
     "exception": false,
     "start_time": "2019-11-15T11:36:09.688110",
     "status": "completed"
    },
    "tags": [
     "injected-parameters"
    ]
   },
   "outputs": [],
   "source": [
    "# Parameters\n",
    "shape_cat = \"mcal\"\n",
    "vol = \"uber\"\n",
    "z_range = \"all_z\"\n",
    "key = \"\"\n",
    "quantile = \"\"\n",
    "test = \"background\"\n",
    "z_diff = 0.2"
   ]
  },
  {
   "cell_type": "code",
   "execution_count": 3,
   "metadata": {
    "papermill": {
     "duration": 11.009962,
     "end_time": "2019-11-15T11:36:20.765387",
     "exception": false,
     "start_time": "2019-11-15T11:36:09.755425",
     "status": "completed"
    },
    "tags": []
   },
   "outputs": [],
   "source": [
    "#This header file contains all the common packages\n",
    "%matplotlib inline\n",
    "%run /home/cz136/project/sa/lib/src/header.py $shape_cat $vol $z_range "
   ]
  },
  {
   "cell_type": "code",
   "execution_count": 4,
   "metadata": {},
   "outputs": [],
   "source": [
    "%run -i /home/cz136/project/sa/lib/src/func.py  "
   ]
  },
  {
   "cell_type": "code",
   "execution_count": 5,
   "metadata": {},
   "outputs": [],
   "source": [
    "# shapes=shapes[shapes[('All','PP')]<=0.2]"
   ]
  },
  {
   "cell_type": "code",
   "execution_count": 6,
   "metadata": {},
   "outputs": [
    {
     "name": "stdout",
     "output_type": "stream",
     "text": [
      "The number of clusters before masking 12472\n",
      "The number of clusters with no center shape data 0\n",
      "The number of clusters after masking 12472\n",
      "The number of members before masking:  1079244\n",
      "The number of members without a cluster:  0\n",
      "Number of galaxies after masking: 1079244\n"
     ]
    }
   ],
   "source": [
    "clusters=drop_poor_centers(clusters)\n",
    "shapes=drop_poor_members(clusters,shapes)"
   ]
  },
  {
   "cell_type": "code",
   "execution_count": 7,
   "metadata": {
    "papermill": {
     "duration": 0.04625,
     "end_time": "2019-11-15T11:36:20.841171",
     "exception": false,
     "start_time": "2019-11-15T11:36:20.794921",
     "status": "completed"
    },
    "tags": []
   },
   "outputs": [],
   "source": [
    "z_diff=float(z_diff)"
   ]
  },
  {
   "cell_type": "code",
   "execution_count": 8,
   "metadata": {
    "papermill": {
     "duration": 2.747137,
     "end_time": "2019-11-15T11:36:23.614097",
     "exception": false,
     "start_time": "2019-11-15T11:36:20.866960",
     "status": "completed"
    },
    "tags": []
   },
   "outputs": [],
   "source": [
    "# if test==\"foreground\":\n",
    "#     members=shapes[(shapes[('All','Z')]-shapes[('All','ZRED2')])>=z_diff]\n",
    "#     diff=members[('All','Z')]-members[('All','ZRED2')]\n",
    "#     diff.hist()\n",
    "#     diff.describe()\n",
    "    \n",
    "# elif test==\"background\":\n",
    "#     members=background=shapes[(shapes[('All','Z')]-shapes[('All','ZRED2')])<=-z_diff]\n",
    "#     diff=members[('All','Z')]-members[('All','ZRED2')]\n",
    "#     diff.hist()\n",
    "#     diff.describe()\n",
    "# elif test==\"\":\n",
    "#     members=shapes\n",
    "# else:\n",
    "#     raise TypeError\n",
    "\n",
    "members=shapes"
   ]
  },
  {
   "cell_type": "code",
   "execution_count": 9,
   "metadata": {
    "papermill": {
     "duration": 0.043088,
     "end_time": "2019-11-15T11:36:23.685565",
     "exception": false,
     "start_time": "2019-11-15T11:36:23.642477",
     "status": "completed"
    },
    "tags": []
   },
   "outputs": [],
   "source": [
    "if vol!=\"uber\":\n",
    "    members=shapes"
   ]
  },
  {
   "cell_type": "code",
   "execution_count": 10,
   "metadata": {
    "papermill": {
     "duration": 0.040283,
     "end_time": "2019-11-15T11:36:23.752578",
     "exception": false,
     "start_time": "2019-11-15T11:36:23.712295",
     "status": "completed"
    },
    "tags": []
   },
   "outputs": [],
   "source": [
    "if quantile!=\"\":\n",
    "    i=int(quantile)"
   ]
  },
  {
   "cell_type": "code",
   "execution_count": 11,
   "metadata": {
    "papermill": {
     "duration": 0.045153,
     "end_time": "2019-11-15T11:36:23.828424",
     "exception": false,
     "start_time": "2019-11-15T11:36:23.783271",
     "status": "completed"
    },
    "tags": []
   },
   "outputs": [],
   "source": [
    "if key==\"lambda\":\n",
    "    key=('All','All','LAMBDA_CHISQ')\n",
    "elif key==\"z\":\n",
    "    key=('All','All','Z_LAMBDA')"
   ]
  },
  {
   "cell_type": "code",
   "execution_count": 12,
   "metadata": {
    "papermill": {
     "duration": 0.044079,
     "end_time": "2019-11-15T11:36:23.898709",
     "exception": false,
     "start_time": "2019-11-15T11:36:23.854630",
     "status": "completed"
    },
    "tags": []
   },
   "outputs": [],
   "source": [
    "def thirds_by_key(catalog,key):\n",
    "    step0=catalog[key].quantile(0.0)\n",
    "    step1=catalog[key].quantile(0.333333)\n",
    "    step2=catalog[key].quantile(0.666666)\n",
    "    step3=catalog[key].quantile(1)\n",
    "    \n",
    "    catalog1=catalog[(catalog[key]>step0) & (catalog[key]<step1)]\n",
    "    catalog2=catalog[(catalog[key]>step1) & (catalog[key]<step2)]\n",
    "    catalog3=catalog[(catalog[key]>step2) & (catalog[key]<step3)]\n",
    "    \n",
    "    return (catalog1,catalog2,catalog3)"
   ]
  },
  {
   "cell_type": "code",
   "execution_count": 13,
   "metadata": {
    "papermill": {
     "duration": 0.040155,
     "end_time": "2019-11-15T11:36:23.970091",
     "exception": false,
     "start_time": "2019-11-15T11:36:23.929936",
     "status": "completed"
    },
    "tags": []
   },
   "outputs": [],
   "source": [
    "if key!=\"\":\n",
    "    clusters_list=thirds_by_key(clusters,key)\n",
    "    clusters=clusters_list[i]"
   ]
  },
  {
   "cell_type": "code",
   "execution_count": 14,
   "metadata": {
    "papermill": {
     "duration": 0.041588,
     "end_time": "2019-11-15T11:36:24.035721",
     "exception": false,
     "start_time": "2019-11-15T11:36:23.994133",
     "status": "completed"
    },
    "tags": []
   },
   "outputs": [],
   "source": [
    "sep=\"------------------------------------------------------------------------------\"\n",
    "np.set_printoptions(precision=4)"
   ]
  },
  {
   "cell_type": "code",
   "execution_count": 15,
   "metadata": {
    "papermill": {
     "duration": 0.041185,
     "end_time": "2019-11-15T11:36:24.104178",
     "exception": false,
     "start_time": "2019-11-15T11:36:24.062993",
     "status": "completed"
    },
    "tags": []
   },
   "outputs": [],
   "source": [
    "NBINS=10"
   ]
  },
  {
   "cell_type": "code",
   "execution_count": 16,
   "metadata": {
    "papermill": {
     "duration": 0.330176,
     "end_time": "2019-11-15T11:36:24.461283",
     "exception": false,
     "start_time": "2019-11-15T11:36:24.131107",
     "status": "completed"
    },
    "tags": []
   },
   "outputs": [],
   "source": [
    "import treecorr\n",
    "import astropy.cosmology\n",
    "from fastprogress import master_bar, progress_bar\n",
    "from ipywidgets import FloatProgress\n",
    "from IPython.display import display\n",
    "from tqdm import tqdm"
   ]
  },
  {
   "cell_type": "code",
   "execution_count": 17,
   "metadata": {
    "papermill": {
     "duration": 0.046261,
     "end_time": "2019-11-15T11:36:24.534474",
     "exception": false,
     "start_time": "2019-11-15T11:36:24.488213",
     "status": "completed"
    },
    "tags": []
   },
   "outputs": [
    {
     "data": {
      "text/plain": [
       "1079244"
      ]
     },
     "execution_count": 17,
     "metadata": {},
     "output_type": "execute_result"
    }
   ],
   "source": [
    "len(shapes)"
   ]
  },
  {
   "cell_type": "code",
   "execution_count": 18,
   "metadata": {
    "papermill": {
     "duration": 0.042056,
     "end_time": "2019-11-15T11:36:24.603195",
     "exception": false,
     "start_time": "2019-11-15T11:36:24.561139",
     "status": "completed"
    },
    "tags": []
   },
   "outputs": [
    {
     "data": {
      "text/plain": [
       "1079244"
      ]
     },
     "execution_count": 18,
     "metadata": {},
     "output_type": "execute_result"
    }
   ],
   "source": [
    "len(members)"
   ]
  },
  {
   "cell_type": "code",
   "execution_count": 19,
   "metadata": {
    "papermill": {
     "duration": 0.154345,
     "end_time": "2019-11-15T11:36:24.789355",
     "exception": false,
     "start_time": "2019-11-15T11:36:24.635010",
     "status": "completed"
    },
    "tags": []
   },
   "outputs": [],
   "source": [
    "if key==\"\":\n",
    "    assert np.isin(shapes['All','MEM_MATCH_ID'].to_numpy(),clusters.index.to_numpy()).all()==True"
   ]
  },
  {
   "cell_type": "code",
   "execution_count": 20,
   "metadata": {
    "papermill": {
     "duration": 0.056069,
     "end_time": "2019-11-15T11:36:24.876787",
     "exception": false,
     "start_time": "2019-11-15T11:36:24.820718",
     "status": "completed"
    },
    "tags": []
   },
   "outputs": [],
   "source": [
    "def get_ng(cluster,mode1,mode2):\n",
    "    if mode2==\"abs\":\n",
    "        UPPER_BOUND=np.max(shapes[('All','R')])\n",
    "        distance=('All','angR')\n",
    "        \n",
    "    elif mode2==\"rel\":\n",
    "        UPPER_BOUND=1.2\n",
    "        distance=('All','normLR')\n",
    "    else:\n",
    "        raise\n",
    "\n",
    "    if mode1 == \"s\":\n",
    "        def get_cluster_cen(cluster):\n",
    "            return (get_unique_center_for_cluster(cluster))\n",
    "        def get_cluster_sats(cluster):\n",
    "            cen_mat_id=cluster.name\n",
    "            cen_id=cluster[('Alt','Alt1','ID_CENT')]\n",
    "            sats=members[members['All','MEM_MATCH_ID']==cen_mat_id]\n",
    "            sats=sats[sats[('All','PP')]<=0.2]\n",
    "            sats=sats[sats[('All','ZRED2')]>=sats[('All','Z')]]\n",
    "            sats=sats[sats.index!=cen_id]\n",
    "            return (sats)\n",
    "    elif mode1=='r':\n",
    "        def get_cluster_sats(cluster):\n",
    "            return(shapes)\n",
    "        def get_cluster_cen(cluster):\n",
    "            return (random)\n",
    "\n",
    "    else:\n",
    "        raise\n",
    "\n",
    "\n",
    "    cen=get_cluster_cen(cluster)\n",
    "    sats=get_cluster_sats(cluster)\n",
    "\n",
    "\n",
    "    sats_e1=sats[('All','e1')].to_numpy()\n",
    "    sats_e2=sats[('All','e2')].to_numpy()\n",
    "    sats_angr=sats[distance]\n",
    "\n",
    "#     print(sats_e1,sats_e2)\n",
    "\n",
    "    if type(cen[('All','RA')])==np.float64:\n",
    "        cen_angr=np.array(cen[distance]).reshape(1)\n",
    "        cen_ra=np.array(cen[('All','RA')]).reshape(1)\n",
    "        cen_dec=np.array(cen[('All','DEC')]).reshape(1)\n",
    "    else:\n",
    "#         cen_e1=cen[('All','e1')].to_numpy\n",
    "#         cen_e2=cen[('All','e2')].to_numpy()\n",
    "        cen_angr=cen[distance].to_numpy()\n",
    "        cen_ra=cen[('All','RA')].to_numpy()\n",
    "        cen_dec=cen[('All','DEC')].to_numpy()\n",
    "\n",
    "\n",
    "\n",
    "\n",
    "#     print(cen_e1,cen_e2)\n",
    "\n",
    "    sats_ra=sats[('All','RA')].to_numpy()\n",
    "    sats_dec=sats[('All','DEC')].to_numpy()\n",
    "\n",
    "\n",
    "\n",
    "\n",
    "#     print(np.shape(cen_ra),np.shape(cen_dec))    \n",
    "#     print(cen_ra,cen_dec)    \n",
    "\n",
    "    sats_cat = treecorr.Catalog( g1 = sats_e1, g2   = sats_e2, \n",
    "                                 ra = sats_ra, dec = sats_dec,r=sats_angr,\n",
    "                                 ra_units='deg', dec_units='deg')\n",
    "\n",
    "    cen_cat = treecorr.Catalog( \n",
    "                                 ra = cen_ra, dec = cen_dec, r=cen_angr,\n",
    "                                 ra_units='deg', dec_units='deg')\n",
    "\n",
    "    ng = treecorr.NGCorrelation(nbins=NBINS, min_sep=0.01, max_sep=UPPER_BOUND, bin_slop=0.0,\n",
    "                               metric=\"Rperp\")\n",
    "    ng.process_cross(cen_cat,sats_cat)\n",
    "    \n",
    "\n",
    "    return(ng)"
   ]
  },
  {
   "cell_type": "code",
   "execution_count": 21,
   "metadata": {
    "papermill": {
     "duration": 0.03992,
     "end_time": "2019-11-15T11:36:24.944984",
     "exception": false,
     "start_time": "2019-11-15T11:36:24.905064",
     "status": "completed"
    },
    "tags": []
   },
   "outputs": [],
   "source": [
    "def get_xi_meanlogr_varxi_npairs(cluster,mode1,mode2):\n",
    "    ng=get_ng(cluster,mode1,mode2)\n",
    "    return(np.array([ng.xi,ng.meanlogr,ng.varxi,ng.npairs]))"
   ]
  },
  {
   "cell_type": "code",
   "execution_count": 22,
   "metadata": {
    "papermill": {
     "duration": 0.048562,
     "end_time": "2019-11-15T11:36:25.022693",
     "exception": false,
     "start_time": "2019-11-15T11:36:24.974131",
     "status": "completed"
    },
    "tags": []
   },
   "outputs": [],
   "source": [
    "length=len(clusters)\n",
    "\n",
    "def get_ng_list(mode2):\n",
    "    ng_list=np.empty([length,4,NBINS])\n",
    "    filler=np.zeros([1,4,NBINS])\n",
    "\n",
    "    i=0\n",
    "    e_count=0\n",
    "    for index,cluster in tqdm(clusters.iterrows()):\n",
    "        try:\n",
    "            ng_list[i,:,:]=get_xi_meanlogr_varxi_npairs(cluster,'s',mode2)\n",
    "            i=i+1\n",
    "        except ValueError as e:\n",
    "            ng_list[i,:,:]=filler\n",
    "            i=i+1\n",
    "            e_count=e_count+1\n",
    "    print(\"Number of empty sat catalogs is {}\".format(e_count))\n",
    "    return (ng_list)"
   ]
  },
  {
   "cell_type": "code",
   "execution_count": 23,
   "metadata": {
    "papermill": {
     "duration": 272.159535,
     "end_time": "2019-11-15T11:40:57.207220",
     "exception": false,
     "start_time": "2019-11-15T11:36:25.047685",
     "status": "completed"
    },
    "tags": []
   },
   "outputs": [
    {
     "name": "stderr",
     "output_type": "stream",
     "text": [
      "12472it [02:17, 90.58it/s] \n",
      "9it [00:00, 83.76it/s]"
     ]
    },
    {
     "name": "stdout",
     "output_type": "stream",
     "text": [
      "Number of empty sat catalogs is 1063\n"
     ]
    },
    {
     "name": "stderr",
     "output_type": "stream",
     "text": [
      "12472it [01:56, 107.43it/s]"
     ]
    },
    {
     "name": "stdout",
     "output_type": "stream",
     "text": [
      "Number of empty sat catalogs is 1063\n"
     ]
    },
    {
     "name": "stderr",
     "output_type": "stream",
     "text": [
      "\n"
     ]
    }
   ],
   "source": [
    "ng_abs=get_ng_list('abs')\n",
    "ng_rel=get_ng_list('rel')"
   ]
  },
  {
   "cell_type": "code",
   "execution_count": 24,
   "metadata": {
    "papermill": {
     "duration": 8.069855,
     "end_time": "2019-11-15T11:41:05.752236",
     "exception": false,
     "start_time": "2019-11-15T11:40:57.682381",
     "status": "completed"
    },
    "tags": []
   },
   "outputs": [],
   "source": [
    "try:\n",
    "    ng_r=get_xi_meanlogr_varxi_npairs(clusters,'r','abs')\n",
    "except ValueError as e:\n",
    "    print(e)\n",
    "    ng_r=np.array([[1],[1],[1],[1]])"
   ]
  },
  {
   "cell_type": "code",
   "execution_count": 25,
   "metadata": {
    "papermill": {
     "duration": 0.546988,
     "end_time": "2019-11-15T11:41:06.775612",
     "exception": false,
     "start_time": "2019-11-15T11:41:06.228624",
     "status": "completed"
    },
    "tags": []
   },
   "outputs": [],
   "source": [
    "# ng_list=np.load(\"/home/cz136/project/sa/data/{}/ng_list_cross.npy\".format(dir_string))\n",
    "# ng_r=np.load(\"/home/cz136/project/sa/data/{}/ng_r_list_cross.npy\".format(dir_string))"
   ]
  },
  {
   "cell_type": "code",
   "execution_count": 26,
   "metadata": {
    "papermill": {
     "duration": 0.482165,
     "end_time": "2019-11-15T11:41:07.796027",
     "exception": false,
     "start_time": "2019-11-15T11:41:07.313862",
     "status": "completed"
    },
    "tags": []
   },
   "outputs": [],
   "source": [
    "def get_sum(ng_list):\n",
    "    sum_xi_cross=np.sum(ng_list[:,0,:],axis=0)\n",
    "    sum_meanlogr=np.sum(ng_list[:,1,:],axis=0)\n",
    "    sum_npairs=np.sum(ng_list[:,3,:],axis=0)\n",
    "    return(sum_xi_cross,sum_meanlogr,sum_npairs)\n",
    "\n",
    "def get_mean(ng_list):\n",
    "    sum_xi_cross=np.sum(ng_list[:,0,:],axis=0)\n",
    "    sum_meanlogr=np.sum(ng_list[:,1,:],axis=0)\n",
    "    sum_npairs=np.sum(ng_list[:,3,:],axis=0)\n",
    "    return(sum_xi_cross/sum_npairs,sum_meanlogr/sum_npairs)"
   ]
  },
  {
   "cell_type": "code",
   "execution_count": 27,
   "metadata": {
    "papermill": {
     "duration": 0.489697,
     "end_time": "2019-11-15T11:41:08.763621",
     "exception": false,
     "start_time": "2019-11-15T11:41:08.273924",
     "status": "completed"
    },
    "tags": []
   },
   "outputs": [],
   "source": [
    "def get_sigma(ng_list):\n",
    "    xi_array=ng_list[:,0,:]\n",
    "    npairs_array=ng_list[:,3,:]\n",
    "    \n",
    "    N=len(xi_array)\n",
    "    \n",
    "    jk_xi_array=np.empty([N,NBINS])\n",
    "    \n",
    "    def get_xi(drop_1_xi,drop_1_npairs):\n",
    "        return(np.sum(drop_1_xi,axis=0)/np.sum(drop_1_npairs,axis=0))\n",
    "    \n",
    "    for i in range(N):\n",
    "        drop_1_xi=np.delete(xi_array,i,axis=0)\n",
    "        drop_1_npairs=np.delete(npairs_array,i,axis=0)\n",
    "        jk_xi_array[i,:]=get_xi(drop_1_xi,drop_1_npairs)\n",
    "        \n",
    "    return(np.sqrt(N)*np.std(jk_xi_array,axis=0))"
   ]
  },
  {
   "cell_type": "code",
   "execution_count": 28,
   "metadata": {
    "papermill": {
     "duration": 22.78115,
     "end_time": "2019-11-15T11:41:32.089480",
     "exception": false,
     "start_time": "2019-11-15T11:41:09.308330",
     "status": "completed"
    },
    "tags": []
   },
   "outputs": [],
   "source": [
    "sum_abs=get_sum(ng_abs)\n",
    "mean_abs=get_mean(ng_abs)\n",
    "sig_abs=get_sigma(ng_abs)\n",
    "\n",
    "sum_rel=get_sum(ng_rel)\n",
    "mean_rel=get_mean(ng_rel)\n",
    "sig_rel=get_sigma(ng_rel)"
   ]
  },
  {
   "cell_type": "code",
   "execution_count": 29,
   "metadata": {
    "papermill": {
     "duration": 0.491966,
     "end_time": "2019-11-15T11:41:33.060479",
     "exception": false,
     "start_time": "2019-11-15T11:41:32.568513",
     "status": "completed"
    },
    "tags": []
   },
   "outputs": [],
   "source": [
    "r_xi=ng_r[0]/ng_r[3]\n",
    "r_meanlogr=ng_r[1]/ng_r[3]\n",
    "r_sigma=r_xi/np.sqrt(len(clusters))"
   ]
  },
  {
   "cell_type": "code",
   "execution_count": 30,
   "metadata": {
    "papermill": {
     "duration": 0.489362,
     "end_time": "2019-11-15T11:41:34.044055",
     "exception": false,
     "start_time": "2019-11-15T11:41:33.554693",
     "status": "completed"
    },
    "tags": []
   },
   "outputs": [],
   "source": [
    "if key!=\"\":\n",
    "    np.savez(\"/home/cz136/project/sa/data/2pt/{}_{}_{}_{}.npz\".format(shape_cat,vol,key,quantile),sum_abs=sum_abs,mean_abs=mean_abs,sig_abs=sig_abs,sum_rel=sum_rel,mean_rel=mean_rel,sig_rel=sig_rel,r_xi=r_xi,r_meanlogr=r_meanlogr,r_sigma=r_sigma)"
   ]
  },
  {
   "cell_type": "code",
   "execution_count": 31,
   "metadata": {
    "papermill": {
     "duration": 0.498294,
     "end_time": "2019-11-15T11:41:35.019211",
     "exception": false,
     "start_time": "2019-11-15T11:41:34.520917",
     "status": "completed"
    },
    "tags": []
   },
   "outputs": [],
   "source": [
    "def plt_w_error(meanlogr,xi,varxi,title):\n",
    "    fig,ax=plt.subplots()\n",
    "    ax.errorbar(np.exp(meanlogr),xi,yerr=varxi)\n",
    "    ax.set_title(title)\n",
    "    ax.set_xscale('log')\n",
    "#     ax.set_ylim(-0.020,0.020)\n",
    "    plt.show()\n",
    "    \n",
    "    if title==r\"$\\gamma_+$ of Clusters, Normalized by R_LAMBDA\":\n",
    "        plt.savefig(\"/home/cz136/project/sa/image/rel_{}_{}_{}.png\".format(shape_cat,vol,z_range))\n",
    "#     plt.xscale('log')\n",
    "#     plt.yscale('log')"
   ]
  },
  {
   "cell_type": "markdown",
   "metadata": {
    "papermill": {
     "duration": 0.477689,
     "end_time": "2019-11-15T11:41:35.976143",
     "exception": false,
     "start_time": "2019-11-15T11:41:35.498454",
     "status": "completed"
    },
    "tags": []
   },
   "source": [
    "# Statistics"
   ]
  },
  {
   "cell_type": "code",
   "execution_count": 32,
   "metadata": {
    "papermill": {
     "duration": 0.542039,
     "end_time": "2019-11-15T11:41:36.993731",
     "exception": false,
     "start_time": "2019-11-15T11:41:36.451692",
     "status": "completed"
    },
    "tags": []
   },
   "outputs": [],
   "source": [
    "def print_data(sum_,mean_):\n",
    "    sum_string=[\"Aggregated xi:\", \"Aggregated meanlogr:\",\"Aggregated npairs:\"]\n",
    "    for i,data in enumerate(sum_):\n",
    "        print(sum_string[i])\n",
    "        print(sum_[i])\n",
    "        print(sep)\n",
    "    mean_string=[\"Mean xi:\", \"Mean meanlogr:\",\"Mean npairs:\"]\n",
    "    for i,data in enumerate(mean_):\n",
    "        print(mean_string[i])\n",
    "        print(mean_[i])\n",
    "        print(sep)"
   ]
  },
  {
   "cell_type": "markdown",
   "metadata": {
    "papermill": {
     "duration": 0.477956,
     "end_time": "2019-11-15T11:41:37.934195",
     "exception": false,
     "start_time": "2019-11-15T11:41:37.456239",
     "status": "completed"
    },
    "tags": []
   },
   "source": [
    "# Abs Plots"
   ]
  },
  {
   "cell_type": "code",
   "execution_count": 33,
   "metadata": {
    "papermill": {
     "duration": 2.882853,
     "end_time": "2019-11-15T11:41:41.288654",
     "exception": false,
     "start_time": "2019-11-15T11:41:38.405801",
     "status": "completed"
    },
    "tags": []
   },
   "outputs": [
    {
     "data": {
      "image/png": "[encoded data removed]",
      "text/plain": [
       "<Figure size 432x288 with 1 Axes>"
      ]
     },
     "metadata": {
      "needs_background": "light"
     },
     "output_type": "display_data"
    },
    {
     "name": "stdout",
     "output_type": "stream",
     "text": [
      "Aggregated xi:\n",
      "[ -1.0308  -4.3145  -1.7471   5.4524  14.6775  34.0213  64.0664 134.7896\n",
      " 192.9352 129.9854]\n",
      "------------------------------------------------------------------------------\n",
      "Aggregated meanlogr:\n",
      "[  -126.2032   -230.1245   -585.3982   -992.1483  -2224.7158  -4806.0719\n",
      "  -9104.9444 -15323.3617 -13257.5142   3746.4845]\n",
      "------------------------------------------------------------------------------\n",
      "Aggregated npairs:\n",
      "[2.9000e+01 6.1000e+01 1.7600e+02 3.6000e+02 9.8100e+02 2.7530e+03\n",
      " 7.3830e+03 2.1194e+04 6.3523e+04 3.8586e+04]\n",
      "------------------------------------------------------------------------------\n",
      "Mean xi:\n",
      "[-0.0355 -0.0707 -0.0099  0.0151  0.015   0.0124  0.0087  0.0064  0.003\n",
      "  0.0034]\n",
      "------------------------------------------------------------------------------\n",
      "Mean meanlogr:\n",
      "[-4.3518 -3.7725 -3.3261 -2.756  -2.2678 -1.7458 -1.2332 -0.723  -0.2087\n",
      "  0.0971]\n",
      "------------------------------------------------------------------------------\n"
     ]
    }
   ],
   "source": [
    "plt_w_error(mean_abs[1],-mean_abs[0],sig_abs,r\"$\\gamma_+$ of Clusters On a Absolute Scale \")\n",
    "print_data(sum_abs,mean_abs)"
   ]
  },
  {
   "cell_type": "code",
   "execution_count": 34,
   "metadata": {
    "papermill": {
     "duration": 0.97129,
     "end_time": "2019-11-15T11:41:42.738669",
     "exception": false,
     "start_time": "2019-11-15T11:41:41.767379",
     "status": "completed"
    },
    "tags": []
   },
   "outputs": [
    {
     "data": {
      "image/png": "[encoded data removed]",
      "text/plain": [
       "<Figure size 432x288 with 1 Axes>"
      ]
     },
     "metadata": {
      "needs_background": "light"
     },
     "output_type": "display_data"
    },
    {
     "name": "stdout",
     "output_type": "stream",
     "text": [
      "[ 4.9332e-04 -6.2438e-04 -1.6901e-03 -5.3002e-04 -2.2471e-04 -1.7261e-04\n",
      "  3.1751e-05  3.0225e-05 -1.3427e-04 -1.0015e-05]\n",
      "[-4.4173e-06  5.5909e-06  1.5134e-05  4.7459e-06  2.0121e-06  1.5456e-06\n",
      " -2.8431e-07 -2.7065e-07  1.2023e-06  8.9676e-08]\n"
     ]
    }
   ],
   "source": [
    "plt_w_error(r_meanlogr,-r_xi,r_sigma,r\"$\\gamma_+$ with Random Catalog\")\n",
    "print(-r_xi)\n",
    "print(r_sigma)"
   ]
  },
  {
   "cell_type": "code",
   "execution_count": 35,
   "metadata": {
    "papermill": {
     "duration": 0.948582,
     "end_time": "2019-11-15T11:41:44.159714",
     "exception": false,
     "start_time": "2019-11-15T11:41:43.211132",
     "status": "completed"
    },
    "tags": []
   },
   "outputs": [
    {
     "data": {
      "image/png": "[encoded data removed]",
      "text/plain": [
       "<Figure size 432x288 with 1 Axes>"
      ]
     },
     "metadata": {
      "needs_background": "light"
     },
     "output_type": "display_data"
    }
   ],
   "source": [
    "plt_w_error(mean_abs[1],-(mean_abs[0]+r_xi),np.hypot(r_sigma,sig_abs),r\"$\\gamma_+$ of Clusters - $\\gamma_T$ with Random Catalog\")"
   ]
  },
  {
   "cell_type": "markdown",
   "metadata": {
    "papermill": {
     "duration": 0.471011,
     "end_time": "2019-11-15T11:41:45.115359",
     "exception": false,
     "start_time": "2019-11-15T11:41:44.644348",
     "status": "completed"
    },
    "tags": []
   },
   "source": [
    "# Rel plots"
   ]
  },
  {
   "cell_type": "code",
   "execution_count": 36,
   "metadata": {
    "papermill": {
     "duration": 0.968574,
     "end_time": "2019-11-15T11:41:46.603696",
     "exception": false,
     "start_time": "2019-11-15T11:41:45.635122",
     "status": "completed"
    },
    "tags": []
   },
   "outputs": [
    {
     "data": {
      "image/png": "[encoded data removed]",
      "text/plain": [
       "<Figure size 432x288 with 1 Axes>"
      ]
     },
     "metadata": {
      "needs_background": "light"
     },
     "output_type": "display_data"
    },
    {
     "name": "stdout",
     "output_type": "stream",
     "text": [
      "Aggregated xi:\n",
      "[ -1.1349  -1.4667  -5.0077   0.8955   9.7498   7.1016  43.2565  56.528\n",
      " 126.0357 125.9927]\n",
      "------------------------------------------------------------------------------\n",
      "Aggregated meanlogr:\n",
      "[  -78.2879  -140.1763  -302.6466  -570.7802  -976.1629 -2002.0705\n",
      " -4155.8318 -6988.7956 -9454.5626  -842.5071]\n",
      "------------------------------------------------------------------------------\n",
      "Aggregated npairs:\n",
      "[1.8000e+01 3.6000e+01 9.0000e+01 1.9500e+02 4.0900e+02 1.0270e+03\n",
      " 2.8460e+03 7.1630e+03 1.9047e+04 5.2558e+04]\n",
      "------------------------------------------------------------------------------\n",
      "Mean xi:\n",
      "[-0.063  -0.0407 -0.0556  0.0046  0.0238  0.0069  0.0152  0.0079  0.0066\n",
      "  0.0024]\n",
      "------------------------------------------------------------------------------\n",
      "Mean meanlogr:\n",
      "[-4.3493 -3.8938 -3.3627 -2.9271 -2.3867 -1.9494 -1.4602 -0.9757 -0.4964\n",
      " -0.016 ]\n",
      "------------------------------------------------------------------------------\n"
     ]
    },
    {
     "data": {
      "text/plain": [
       "<Figure size 432x288 with 0 Axes>"
      ]
     },
     "metadata": {},
     "output_type": "display_data"
    }
   ],
   "source": [
    "plt_w_error(mean_rel[1],-mean_rel[0],sig_rel,r\"$\\gamma_+$ of Clusters, Normalized by R_LAMBDA\")\n",
    "print_data(sum_rel,mean_rel)"
   ]
  },
  {
   "cell_type": "code",
   "execution_count": null,
   "metadata": {},
   "outputs": [],
   "source": []
  },
  {
   "cell_type": "code",
   "execution_count": null,
   "metadata": {},
   "outputs": [],
   "source": []
  },
  {
   "cell_type": "code",
   "execution_count": null,
   "metadata": {},
   "outputs": [],
   "source": []
  }
 ],
 "metadata": {
  "kernelspec": {
   "display_name": "Python 3",
   "language": "python",
   "name": "python3"
  },
  "language_info": {
   "codemirror_mode": {
    "name": "ipython",
    "version": 3
   },
   "file_extension": ".py",
   "mimetype": "text/x-python",
   "name": "python",
   "nbconvert_exporter": "python",
   "pygments_lexer": "ipython3",
   "version": "3.7.3"
  },
  "papermill": {
   "duration": 341.877924,
   "end_time": "2019-11-15T11:41:48.296782",
   "environment_variables": {},
   "exception": null,
   "input_path": "/home/cz136/project/sa/lib/src/treecorr.ipynb",
   "output_path": "/home/cz136/project/sa/lib/output/mcal/uber/background20_treecorr.ipynb",
   "parameters": {
    "key": "",
    "quantile": "",
    "shape_cat": "mcal",
    "test": "background",
    "vol": "uber",
    "z_diff": 0.2,
    "z_range": "all_z"
   },
   "start_time": "2019-11-15T11:36:06.418858",
   "version": "1.2.0"
  }
 },
 "nbformat": 4,
 "nbformat_minor": 4
}
