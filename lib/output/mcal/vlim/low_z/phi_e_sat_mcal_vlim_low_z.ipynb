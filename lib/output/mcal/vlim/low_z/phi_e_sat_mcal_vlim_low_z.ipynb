{
 "cells": [
  {
   "cell_type": "code",
   "execution_count": 1,
   "metadata": {
    "papermill": {
     "duration": 0.030973,
     "end_time": "2020-01-20T15:34:42.319425",
     "exception": false,
     "start_time": "2020-01-20T15:34:42.288452",
     "status": "completed"
    },
    "tags": [
     "parameters"
    ]
   },
   "outputs": [],
   "source": [
    "shape_cat=\"\"\n",
    "vol=\"\"\n",
    "z_range=\"\""
   ]
  },
  {
   "cell_type": "code",
   "execution_count": 2,
   "metadata": {
    "papermill": {
     "duration": 0.02571,
     "end_time": "2020-01-20T15:34:42.366348",
     "exception": false,
     "start_time": "2020-01-20T15:34:42.340638",
     "status": "completed"
    },
    "tags": [
     "injected-parameters"
    ]
   },
   "outputs": [],
   "source": [
    "# Parameters\n",
    "shape_cat = \"mcal\"\n",
    "vol = \"vlim\"\n",
    "z_range = \"low_z\"\n"
   ]
  },
  {
   "cell_type": "code",
   "execution_count": 3,
   "metadata": {
    "papermill": {
     "duration": 2.996864,
     "end_time": "2020-01-20T15:34:45.384586",
     "exception": false,
     "start_time": "2020-01-20T15:34:42.387722",
     "status": "completed"
    },
    "tags": []
   },
   "outputs": [],
   "source": [
    "#This header file contains all the common packages\n",
    "%matplotlib inline\n",
    "%run /home/cz136/project/sa/lib/src/header.py $shape_cat $vol $z_range "
   ]
  },
  {
   "cell_type": "code",
   "execution_count": 4,
   "metadata": {
    "papermill": {
     "duration": 0.02818,
     "end_time": "2020-01-20T15:34:45.440279",
     "exception": false,
     "start_time": "2020-01-20T15:34:45.412099",
     "status": "completed"
    },
    "tags": []
   },
   "outputs": [
    {
     "name": "stdout",
     "output_type": "stream",
     "text": [
      "553\n",
      "15405\n"
     ]
    }
   ],
   "source": [
    "print(len(clusters))\n",
    "print(len(shapes))"
   ]
  },
  {
   "cell_type": "code",
   "execution_count": 5,
   "metadata": {
    "papermill": {
     "duration": 0.032566,
     "end_time": "2020-01-20T15:34:45.495323",
     "exception": false,
     "start_time": "2020-01-20T15:34:45.462757",
     "status": "completed"
    },
    "tags": []
   },
   "outputs": [],
   "source": [
    "# Print the numbers of galaxies that needed to be masked\n",
    "\n",
    "assert np.sum(shapes[('All','e1')]==-9999)==0\n",
    "assert np.sum(shapes[('All','e2')]==-9999)==0\n",
    "assert np.sum(shapes['All','flags_select'])==0\n",
    "assert np.sum(shapes[('All','PP')]<=0.55)==0"
   ]
  },
  {
   "cell_type": "code",
   "execution_count": 6,
   "metadata": {
    "papermill": {
     "duration": 0.02871,
     "end_time": "2020-01-20T15:34:45.548785",
     "exception": false,
     "start_time": "2020-01-20T15:34:45.520075",
     "status": "completed"
    },
    "tags": []
   },
   "outputs": [
    {
     "name": "stdout",
     "output_type": "stream",
     "text": [
      "553\n",
      "15405\n"
     ]
    }
   ],
   "source": [
    "#masking\n",
    "print(len(clusters))\n",
    "print(len(shapes))"
   ]
  },
  {
   "cell_type": "code",
   "execution_count": 7,
   "metadata": {
    "papermill": {
     "duration": 0.032601,
     "end_time": "2020-01-20T15:34:45.605152",
     "exception": false,
     "start_time": "2020-01-20T15:34:45.572551",
     "status": "completed"
    },
    "tags": []
   },
   "outputs": [],
   "source": [
    "center_ids=clusters[('Alt','Alt1','ID_CENT')]\n",
    "center_mask=~np.in1d(shapes.index,center_ids)\n",
    "shapes=shapes[center_mask]"
   ]
  },
  {
   "cell_type": "markdown",
   "metadata": {
    "papermill": {
     "duration": 0.020023,
     "end_time": "2020-01-20T15:34:45.648531",
     "exception": false,
     "start_time": "2020-01-20T15:34:45.628508",
     "status": "completed"
    },
    "tags": []
   },
   "source": [
    "# Stats of e1,e2"
   ]
  },
  {
   "cell_type": "code",
   "execution_count": 8,
   "metadata": {
    "papermill": {
     "duration": 0.699444,
     "end_time": "2020-01-20T15:34:46.367511",
     "exception": false,
     "start_time": "2020-01-20T15:34:45.668067",
     "status": "completed"
    },
    "tags": []
   },
   "outputs": [
    {
     "data": {
      "text/plain": [
       "count    14852.000000\n",
       "mean        -0.001201\n",
       "std          0.146186\n",
       "min         -0.659677\n",
       "25%         -0.076472\n",
       "50%         -0.000783\n",
       "75%          0.074872\n",
       "max          0.683530\n",
       "Name: (All, e2), dtype: float64"
      ]
     },
     "execution_count": 8,
     "metadata": {},
     "output_type": "execute_result"
    },
    {
     "data": {
      "image/png": "[encoded data removed]",
      "text/plain": [
       "<Figure size 432x288 with 1 Axes>"
      ]
     },
     "metadata": {},
     "output_type": "display_data"
    }
   ],
   "source": [
    "from matplotlib.colors import LogNorm \n",
    "plt.hist2d(shapes['All','e1'],shapes['All','e2'],bins=500,norm=LogNorm())\n",
    "plt.axis('equal')\n",
    "plt.title(\"2D Histogram of $e_1$ and $e_2$\")\n",
    "pd.Series(shapes['All','e1']).describe()\n",
    "pd.Series(shapes['All','e2']).describe()"
   ]
  },
  {
   "cell_type": "code",
   "execution_count": 9,
   "metadata": {
    "papermill": {
     "duration": 0.662386,
     "end_time": "2020-01-20T15:34:47.053689",
     "exception": false,
     "start_time": "2020-01-20T15:34:46.391303",
     "status": "completed"
    },
    "tags": []
   },
   "outputs": [
    {
     "data": {
      "text/plain": [
       "count    14852.000000\n",
       "mean        -1.102186\n",
       "std        173.225192\n",
       "min     -20097.585018\n",
       "25%         -1.007714\n",
       "50%         -0.005547\n",
       "75%          0.984620\n",
       "max       3224.125134\n",
       "dtype: float64"
      ]
     },
     "execution_count": 9,
     "metadata": {},
     "output_type": "execute_result"
    },
    {
     "data": {
      "image/png": "[encoded data removed]",
      "text/plain": [
       "<Figure size 432x288 with 1 Axes>"
      ]
     },
     "metadata": {},
     "output_type": "display_data"
    }
   ],
   "source": [
    "#statistics and hisgoram of e2/e1\n",
    "plt.hist(shapes['All','e2']/shapes['All','e1'],bins=np.arange(-10,10,0.1))\n",
    "plt.title(\"Histogram of $e_2$/$e_1$\")\n",
    "pd.Series(shapes['All','e2']/shapes['All','e1']).describe()"
   ]
  },
  {
   "cell_type": "markdown",
   "metadata": {
    "papermill": {
     "duration": 0.022902,
     "end_time": "2020-01-20T15:34:47.103012",
     "exception": false,
     "start_time": "2020-01-20T15:34:47.080110",
     "status": "completed"
    },
    "tags": []
   },
   "source": [
    "# Get phi "
   ]
  },
  {
   "cell_type": "code",
   "execution_count": 10,
   "metadata": {
    "papermill": {
     "duration": 0.030417,
     "end_time": "2020-01-20T15:34:47.155827",
     "exception": false,
     "start_time": "2020-01-20T15:34:47.125410",
     "status": "completed"
    },
    "tags": []
   },
   "outputs": [],
   "source": [
    "def get_std_err_of_mean(np_array):\n",
    "    mean=np_array.mean()\n",
    "    std=np_array.std()\n",
    "    n=len(np_array)\n",
    "    return(std/np.sqrt(n))"
   ]
  },
  {
   "cell_type": "code",
   "execution_count": 11,
   "metadata": {
    "papermill": {
     "duration": 0.030586,
     "end_time": "2020-01-20T15:34:47.212945",
     "exception": false,
     "start_time": "2020-01-20T15:34:47.182359",
     "status": "completed"
    },
    "tags": []
   },
   "outputs": [],
   "source": [
    "phi_1d=shapes[('All','phi')]"
   ]
  },
  {
   "cell_type": "markdown",
   "metadata": {
    "papermill": {
     "duration": 0.022331,
     "end_time": "2020-01-20T15:34:47.257791",
     "exception": false,
     "start_time": "2020-01-20T15:34:47.235460",
     "status": "completed"
    },
    "tags": []
   },
   "source": [
    "## Stats for unweighted"
   ]
  },
  {
   "cell_type": "code",
   "execution_count": 12,
   "metadata": {
    "papermill": {
     "duration": 0.039068,
     "end_time": "2020-01-20T15:34:47.319095",
     "exception": false,
     "start_time": "2020-01-20T15:34:47.280027",
     "status": "completed"
    },
    "tags": []
   },
   "outputs": [
    {
     "name": "stdout",
     "output_type": "stream",
     "text": [
      "Mean:4.524846e+01 \n",
      "StdE:2.127953e-01 \n"
     ]
    }
   ],
   "source": [
    "pd.Series(phi_1d).describe()\n",
    "print(\"Mean:{:05e} \\nStdE:{:05e} \".format(phi_1d.mean(),phi_1d.std()/np.sqrt(len(phi_1d))))"
   ]
  },
  {
   "cell_type": "code",
   "execution_count": 13,
   "metadata": {
    "papermill": {
     "duration": 0.031375,
     "end_time": "2020-01-20T15:34:47.378923",
     "exception": false,
     "start_time": "2020-01-20T15:34:47.347548",
     "status": "completed"
    },
    "tags": []
   },
   "outputs": [],
   "source": [
    "def plt_phi(df):\n",
    "    phi_1d=df[('All','phi')]\n",
    "    plt.hist(phi_1d,bins=9,weights=df[('All','PP')],histtype=\"step\",density=True)\n",
    "    plt.title(\"Histogram of $\\phi_{sat}$ weighted by probability\") \n",
    "    pd.Series(phi_1d).describe()"
   ]
  },
  {
   "cell_type": "code",
   "execution_count": 14,
   "metadata": {
    "papermill": {
     "duration": 0.350249,
     "end_time": "2020-01-20T15:34:47.751849",
     "exception": false,
     "start_time": "2020-01-20T15:34:47.401600",
     "status": "completed"
    },
    "tags": []
   },
   "outputs": [
    {
     "data": {
      "image/png": "[encoded data removed]",
      "text/plain": [
       "<Figure size 432x288 with 1 Axes>"
      ]
     },
     "metadata": {},
     "output_type": "display_data"
    }
   ],
   "source": [
    "plt_phi(shapes)"
   ]
  },
  {
   "cell_type": "markdown",
   "metadata": {
    "papermill": {
     "duration": 0.023353,
     "end_time": "2020-01-20T15:34:47.804220",
     "exception": false,
     "start_time": "2020-01-20T15:34:47.780867",
     "status": "completed"
    },
    "tags": []
   },
   "source": [
    "# Get e"
   ]
  },
  {
   "cell_type": "markdown",
   "metadata": {
    "papermill": {
     "duration": 0.023252,
     "end_time": "2020-01-20T15:34:47.851543",
     "exception": false,
     "start_time": "2020-01-20T15:34:47.828291",
     "status": "completed"
    },
    "tags": []
   },
   "source": [
    "## Statistics of e1 and e2"
   ]
  },
  {
   "cell_type": "code",
   "execution_count": 15,
   "metadata": {
    "papermill": {
     "duration": 0.039756,
     "end_time": "2020-01-20T15:34:47.914505",
     "exception": false,
     "start_time": "2020-01-20T15:34:47.874749",
     "status": "completed"
    },
    "tags": []
   },
   "outputs": [
    {
     "data": {
      "text/plain": [
       "count    14852.000000\n",
       "mean         0.000213\n",
       "std          0.143860\n",
       "min         -0.838272\n",
       "25%         -0.075537\n",
       "50%         -0.001084\n",
       "75%          0.075491\n",
       "max          0.629636\n",
       "Name: (All, e1), dtype: float64"
      ]
     },
     "execution_count": 15,
     "metadata": {},
     "output_type": "execute_result"
    }
   ],
   "source": [
    "e1=shapes[('All','e1')].to_numpy()\n",
    "shapes[('All','e1')].describe()"
   ]
  },
  {
   "cell_type": "code",
   "execution_count": 16,
   "metadata": {
    "papermill": {
     "duration": 0.037055,
     "end_time": "2020-01-20T15:34:47.978801",
     "exception": false,
     "start_time": "2020-01-20T15:34:47.941746",
     "status": "completed"
    },
    "tags": []
   },
   "outputs": [
    {
     "data": {
      "text/plain": [
       "count    14852.000000\n",
       "mean        -0.001201\n",
       "std          0.146186\n",
       "min         -0.659677\n",
       "25%         -0.076472\n",
       "50%         -0.000783\n",
       "75%          0.074872\n",
       "max          0.683530\n",
       "Name: (All, e2), dtype: float64"
      ]
     },
     "execution_count": 16,
     "metadata": {},
     "output_type": "execute_result"
    }
   ],
   "source": [
    "e2=shapes[('All','e1')].to_numpy()\n",
    "shapes[('All','e2')].describe()"
   ]
  },
  {
   "cell_type": "code",
   "execution_count": 17,
   "metadata": {
    "papermill": {
     "duration": 0.029441,
     "end_time": "2020-01-20T15:34:48.031621",
     "exception": false,
     "start_time": "2020-01-20T15:34:48.002180",
     "status": "completed"
    },
    "tags": []
   },
   "outputs": [],
   "source": [
    "# np.save(\"/home/cz136/project/sa/data/{}/e_array\".format(dir_string),e_list)"
   ]
  },
  {
   "cell_type": "code",
   "execution_count": 18,
   "metadata": {
    "papermill": {
     "duration": 0.030338,
     "end_time": "2020-01-20T15:34:48.087412",
     "exception": false,
     "start_time": "2020-01-20T15:34:48.057074",
     "status": "completed"
    },
    "tags": []
   },
   "outputs": [],
   "source": [
    "e_p_1d=shapes[('All','ep')]\n",
    "e_x_1d=shapes[('All','ex')]"
   ]
  },
  {
   "cell_type": "code",
   "execution_count": 19,
   "metadata": {
    "papermill": {
     "duration": 0.425358,
     "end_time": "2020-01-20T15:34:48.536246",
     "exception": false,
     "start_time": "2020-01-20T15:34:48.110888",
     "status": "completed"
    },
    "tags": []
   },
   "outputs": [
    {
     "name": "stdout",
     "output_type": "stream",
     "text": [
      "mean=1.497001e-04, std_mean=1.190385e-03\n"
     ]
    },
    {
     "data": {
      "text/plain": [
       "count    14852.000000\n",
       "mean         0.000150\n",
       "std          0.145071\n",
       "min         -0.754594\n",
       "25%         -0.073017\n",
       "50%          0.001500\n",
       "75%          0.074569\n",
       "max          0.594383\n",
       "Name: (All, ep), dtype: float64"
      ]
     },
     "execution_count": 19,
     "metadata": {},
     "output_type": "execute_result"
    },
    {
     "data": {
      "image/png": "[encoded data removed]",
      "text/plain": [
       "<Figure size 432x288 with 1 Axes>"
      ]
     },
     "metadata": {},
     "output_type": "display_data"
    }
   ],
   "source": [
    "ax=sns.distplot(e_p_1d,kde=False)\n",
    "ax.set_title(\"Distribution of $e_{+}$\")\n",
    "print (\"mean={:05e}, std_mean={:05e}\".format(e_p_1d.mean(),get_std_err_of_mean(e_p_1d)))\n",
    "pd.Series(e_p_1d).describe()"
   ]
  },
  {
   "cell_type": "code",
   "execution_count": 20,
   "metadata": {
    "papermill": {
     "duration": 0.429956,
     "end_time": "2020-01-20T15:34:48.994810",
     "exception": false,
     "start_time": "2020-01-20T15:34:48.564854",
     "status": "completed"
    },
    "tags": []
   },
   "outputs": [
    {
     "name": "stdout",
     "output_type": "stream",
     "text": [
      "mean=-1.964290e-03, std_mean=1.189612e-03\n"
     ]
    },
    {
     "data": {
      "text/plain": [
       "count    14852.000000\n",
       "mean        -0.001964\n",
       "std          0.144977\n",
       "min         -0.644570\n",
       "25%         -0.076914\n",
       "50%         -0.001320\n",
       "75%          0.072066\n",
       "max          0.676482\n",
       "Name: (All, ex), dtype: float64"
      ]
     },
     "execution_count": 20,
     "metadata": {},
     "output_type": "execute_result"
    },
    {
     "data": {
      "image/png": "[encoded data removed]",
      "text/plain": [
       "<Figure size 432x288 with 1 Axes>"
      ]
     },
     "metadata": {},
     "output_type": "display_data"
    }
   ],
   "source": [
    "ax=sns.distplot(e_x_1d)\n",
    "ax.set_title(\"Distribution of $e_{x}$\")\n",
    "print (\"mean={:05e}, std_mean={:05e}\".format(e_x_1d.mean(),get_std_err_of_mean(e_x_1d)))\n",
    "pd.Series(e_x_1d).describe()"
   ]
  },
  {
   "cell_type": "markdown",
   "metadata": {
    "papermill": {
     "duration": 0.027165,
     "end_time": "2020-01-20T15:34:49.050564",
     "exception": false,
     "start_time": "2020-01-20T15:34:49.023399",
     "status": "completed"
    },
    "tags": []
   },
   "source": [
    "# Percentile Data"
   ]
  },
  {
   "cell_type": "code",
   "execution_count": 21,
   "metadata": {
    "papermill": {
     "duration": 0.035986,
     "end_time": "2020-01-20T15:34:49.116274",
     "exception": false,
     "start_time": "2020-01-20T15:34:49.080288",
     "status": "completed"
    },
    "tags": []
   },
   "outputs": [],
   "source": [
    "def get_R_percent(lower,upper):\n",
    "    R_lower=shapes[('All','R')].quantile(lower)\n",
    "    R_upper=shapes[('All','R')].quantile(upper)\n",
    "    R_selected=shapes[(shapes[('All','R')]>=R_lower)&(shapes[('All','R')]<=R_upper) ]\n",
    "    return(R_selected)"
   ]
  },
  {
   "cell_type": "code",
   "execution_count": 22,
   "metadata": {
    "papermill": {
     "duration": 0.323406,
     "end_time": "2020-01-20T15:34:49.470628",
     "exception": false,
     "start_time": "2020-01-20T15:34:49.147222",
     "status": "completed"
    },
    "tags": []
   },
   "outputs": [
    {
     "data": {
      "image/png": "[encoded data removed]",
      "text/plain": [
       "<Figure size 432x288 with 1 Axes>"
      ]
     },
     "metadata": {},
     "output_type": "display_data"
    }
   ],
   "source": [
    "plt_phi(get_R_percent(0,0.1))"
   ]
  },
  {
   "cell_type": "code",
   "execution_count": 23,
   "metadata": {
    "papermill": {
     "duration": 0.301899,
     "end_time": "2020-01-20T15:34:49.803349",
     "exception": false,
     "start_time": "2020-01-20T15:34:49.501450",
     "status": "completed"
    },
    "tags": []
   },
   "outputs": [
    {
     "data": {
      "text/plain": [
       "Text(0.5, 1.0, '$e_+$ for R percentile [0,5%]')"
      ]
     },
     "execution_count": 23,
     "metadata": {},
     "output_type": "execute_result"
    },
    {
     "data": {
      "image/png": "[encoded data removed]",
      "text/plain": [
       "<Figure size 432x288 with 1 Axes>"
      ]
     },
     "metadata": {},
     "output_type": "display_data"
    }
   ],
   "source": [
    "plt.hist(get_R_percent(0,0.05)[('All','ep')],bins=20,density=True,histtype=\"step\")\n",
    "plt.title(r\"$e_+$ for R percentile [0,5%]\")"
   ]
  },
  {
   "cell_type": "code",
   "execution_count": 24,
   "metadata": {
    "papermill": {
     "duration": 0.049475,
     "end_time": "2020-01-20T15:34:49.884318",
     "exception": false,
     "start_time": "2020-01-20T15:34:49.834843",
     "status": "completed"
    },
    "tags": []
   },
   "outputs": [
    {
     "data": {
      "text/plain": [
       "0.0010310286289129944"
      ]
     },
     "execution_count": 24,
     "metadata": {},
     "output_type": "execute_result"
    }
   ],
   "source": [
    "get_R_percent(0,0.11)[('All','ep')].mean()"
   ]
  }
 ],
 "metadata": {
  "kernelspec": {
   "display_name": "Python 3",
   "language": "python",
   "name": "python3"
  },
  "language_info": {
   "codemirror_mode": {
    "name": "ipython",
    "version": 3
   },
   "file_extension": ".py",
   "mimetype": "text/x-python",
   "name": "python",
   "nbconvert_exporter": "python",
   "pygments_lexer": "ipython3",
   "version": "3.7.3"
  },
  "papermill": {
   "duration": 9.557303,
   "end_time": "2020-01-20T15:34:50.323187",
   "environment_variables": {},
   "exception": null,
   "input_path": "/home/cz136/project/sa/lib/src/phi_e_sat.ipynb",
   "output_path": "/home/cz136/project/sa/lib/output/mcal/vlim/low_z/phi_e_sat_mcal_vlim_low_z.ipynb",
   "parameters": {
    "shape_cat": "mcal",
    "vol": "vlim",
    "z_range": "low_z"
   },
   "start_time": "2020-01-20T15:34:40.765884",
   "version": "1.2.1"
  }
 },
 "nbformat": 4,
 "nbformat_minor": 4
}