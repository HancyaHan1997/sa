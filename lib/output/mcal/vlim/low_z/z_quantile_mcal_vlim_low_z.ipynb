{
 "cells": [
  {
   "cell_type": "code",
   "execution_count": 1,
   "metadata": {
    "papermill": {
     "duration": 0.027356,
     "end_time": "2019-11-04T00:03:07.571238",
     "exception": false,
     "start_time": "2019-11-04T00:03:07.543882",
     "status": "completed"
    },
    "tags": [
     "parameters"
    ]
   },
   "outputs": [],
   "source": [
    "shape_cat=\"\"\n",
    "vol=\"\"\n",
    "z_range=\"\"\n",
    "key=\"\""
   ]
  },
  {
   "cell_type": "code",
   "execution_count": 2,
   "metadata": {
    "papermill": {
     "duration": 0.018648,
     "end_time": "2019-11-04T00:03:07.601499",
     "exception": false,
     "start_time": "2019-11-04T00:03:07.582851",
     "status": "completed"
    },
    "tags": [
     "injected-parameters"
    ]
   },
   "outputs": [],
   "source": [
    "# Parameters\n",
    "shape_cat = \"mcal\"\n",
    "vol = \"vlim\"\n",
    "z_range = \"low_z\"\n",
    "key = \"z\"\n"
   ]
  },
  {
   "cell_type": "code",
   "execution_count": 3,
   "metadata": {
    "papermill": {
     "duration": 0.018543,
     "end_time": "2019-11-04T00:03:07.629087",
     "exception": false,
     "start_time": "2019-11-04T00:03:07.610544",
     "status": "completed"
    },
    "tags": []
   },
   "outputs": [],
   "source": [
    "if key==\"lambda\":\n",
    "    key=('All','All','LAMBDA_CHISQ')\n",
    "elif key==\"z\":\n",
    "    key=('All','All','Z_LAMBDA')"
   ]
  },
  {
   "cell_type": "code",
   "execution_count": 4,
   "metadata": {
    "papermill": {
     "duration": 3.551954,
     "end_time": "2019-11-04T00:03:11.190263",
     "exception": false,
     "start_time": "2019-11-04T00:03:07.638309",
     "status": "completed"
    },
    "tags": []
   },
   "outputs": [],
   "source": [
    "#This header file contains all the common packages\n",
    "%matplotlib inline\n",
    "%run /home/cz136/project/sa/lib/src/header.py $shape_cat $vol $z_range \n",
    "%run -i /home/cz136/project/sa/lib/src/func.py  "
   ]
  },
  {
   "cell_type": "code",
   "execution_count": 5,
   "metadata": {
    "papermill": {
     "duration": 0.02078,
     "end_time": "2019-11-04T00:03:11.222889",
     "exception": false,
     "start_time": "2019-11-04T00:03:11.202109",
     "status": "completed"
    },
    "tags": []
   },
   "outputs": [],
   "source": [
    "def thirds_by_key(catalog,key):\n",
    "    step0=catalog[key].quantile(0.0)\n",
    "    step1=catalog[key].quantile(0.333333)\n",
    "    step2=catalog[key].quantile(0.666666)\n",
    "    step3=catalog[key].quantile(1)\n",
    "    \n",
    "    catalog1=catalog[(catalog[key]>step0) & (catalog[key]<step1)]\n",
    "    catalog2=catalog[(catalog[key]>step1) & (catalog[key]<step2)]\n",
    "    catalog3=catalog[(catalog[key]>step2) & (catalog[key]<step3)]\n",
    "    \n",
    "    return (catalog1,catalog2,catalog3)"
   ]
  },
  {
   "cell_type": "code",
   "execution_count": 6,
   "metadata": {
    "papermill": {
     "duration": 0.038743,
     "end_time": "2019-11-04T00:03:11.269930",
     "exception": false,
     "start_time": "2019-11-04T00:03:11.231187",
     "status": "completed"
    },
    "tags": []
   },
   "outputs": [],
   "source": [
    "if key!=\"\":\n",
    "    clusters_list=thirds_by_key(clusters,key)"
   ]
  },
  {
   "cell_type": "code",
   "execution_count": 7,
   "metadata": {
    "papermill": {
     "duration": 0.023151,
     "end_time": "2019-11-04T00:03:11.301149",
     "exception": false,
     "start_time": "2019-11-04T00:03:11.277998",
     "status": "completed"
    },
    "tags": []
   },
   "outputs": [],
   "source": [
    "cluster_list=[None]*3\n",
    "for quantile in range(3):\n",
    "    cluster_list[quantile]=np.load(\"/home/cz136/project/sa/data/2pt/{}_{}_{}_{}.npz\".format(shape_cat,vol,key,quantile))"
   ]
  },
  {
   "cell_type": "code",
   "execution_count": 8,
   "metadata": {
    "papermill": {
     "duration": 0.023153,
     "end_time": "2019-11-04T00:03:11.334626",
     "exception": false,
     "start_time": "2019-11-04T00:03:11.311473",
     "status": "completed"
    },
    "tags": []
   },
   "outputs": [
    {
     "name": "stdout",
     "output_type": "stream",
     "text": [
      "0.21483197808265686\n",
      "0.28603214025497437\n",
      "0.3295515477657318\n"
     ]
    }
   ],
   "source": [
    "print(clusters_list[0][key].mean())\n",
    "print(clusters_list[1][key].mean())\n",
    "print(clusters_list[2][key].mean())"
   ]
  },
  {
   "cell_type": "code",
   "execution_count": 9,
   "metadata": {
    "papermill": {
     "duration": 0.016792,
     "end_time": "2019-11-04T00:03:11.360584",
     "exception": false,
     "start_time": "2019-11-04T00:03:11.343792",
     "status": "completed"
    },
    "tags": []
   },
   "outputs": [],
   "source": [
    "# sum_abs,mean_abs,sig_abs,sum_rel,mean_rel,sig_rel,r_xi,r_meanlogr,r_sigma"
   ]
  },
  {
   "cell_type": "code",
   "execution_count": 10,
   "metadata": {
    "papermill": {
     "duration": 0.019681,
     "end_time": "2019-11-04T00:03:11.388863",
     "exception": false,
     "start_time": "2019-11-04T00:03:11.369182",
     "status": "completed"
    },
    "tags": []
   },
   "outputs": [],
   "source": [
    "def plt_w_error(cluster_file,label_):\n",
    "    mean_rel=cluster_file['mean_abs']\n",
    "    sig_rel=cluster_file['sig_abs']\n",
    "    \n",
    "    meanlogr=mean_rel[1]\n",
    "    print(meanlogr)\n",
    "    xi=mean_rel[0]\n",
    "    varxi=sig_rel\n",
    "    \n",
    "    \n",
    "    ax.errorbar(np.exp(meanlogr),-xi,yerr=varxi,label=label_)\n",
    "    ax.set_xscale('log')"
   ]
  },
  {
   "cell_type": "code",
   "execution_count": 11,
   "metadata": {
    "papermill": {
     "duration": 0.787872,
     "end_time": "2019-11-04T00:03:12.185799",
     "exception": false,
     "start_time": "2019-11-04T00:03:11.397927",
     "status": "completed"
    },
    "tags": []
   },
   "outputs": [
    {
     "name": "stdout",
     "output_type": "stream",
     "text": [
      "[-4.25805938 -3.85109645 -3.40484325 -2.90015637 -2.43947387 -1.95106953\n",
      " -1.49243437 -1.02607902 -0.56368212 -0.19684449]\n",
      "[-4.3650783  -3.89831137 -3.40010749 -2.91869459 -2.44834907 -1.96266519\n",
      " -1.49767612 -1.0245941  -0.54218001 -0.17574576]\n",
      "[-4.35284188 -3.87592823 -3.39400349 -2.89018958 -2.43905065 -1.97487482\n",
      " -1.49017323 -1.01855333 -0.54685482 -0.18370393]\n"
     ]
    },
    {
     "data": {
      "image/png": "[encoded data removed]",
      "text/plain": [
       "<Figure size 432x288 with 1 Axes>"
      ]
     },
     "metadata": {
      "needs_background": "light"
     },
     "output_type": "display_data"
    }
   ],
   "source": [
    "fig,ax=plt.subplots()\n",
    "\n",
    "label_list=[\"First\",\"Second\",\"Third\"]\n",
    "\n",
    "for i,cluster_file in enumerate(cluster_list):\n",
    "    plt_w_error(cluster_file,label_list[i])\n",
    "    plt.legend()\n",
    "    plt.title(\"Quantile comparison of {}\".format(key))"
   ]
  },
  {
   "cell_type": "markdown",
   "metadata": {
    "papermill": {
     "duration": 0.011168,
     "end_time": "2019-11-04T00:03:12.209360",
     "exception": false,
     "start_time": "2019-11-04T00:03:12.198192",
     "status": "completed"
    },
    "tags": []
   },
   "source": [
    "# Statistics"
   ]
  },
  {
   "cell_type": "code",
   "execution_count": 12,
   "metadata": {
    "papermill": {
     "duration": 0.020796,
     "end_time": "2019-11-04T00:03:12.240665",
     "exception": false,
     "start_time": "2019-11-04T00:03:12.219869",
     "status": "completed"
    },
    "tags": []
   },
   "outputs": [],
   "source": [
    "def print_data(sum_,mean_):\n",
    "    sum_string=[\"Aggregated xi:\", \"Aggregated meanlogr:\",\"Aggregated npairs:\"]\n",
    "    for i,data in enumerate(sum_):\n",
    "        print(sum_string[i])\n",
    "        print(sum_[i])\n",
    "        print(sep)\n",
    "    mean_string=[\"Mean xi:\", \"Mean meanlogr:\",\"Mean npairs:\"]\n",
    "    for i,data in enumerate(mean_):\n",
    "        print(mean_string[i])\n",
    "        print(mean_[i])\n",
    "        print(sep)"
   ]
  }
 ],
 "metadata": {
  "kernelspec": {
   "display_name": "Python 3",
   "language": "python",
   "name": "python3"
  },
  "language_info": {
   "codemirror_mode": {
    "name": "ipython",
    "version": 3
   },
   "file_extension": ".py",
   "mimetype": "text/x-python",
   "name": "python",
   "nbconvert_exporter": "python",
   "pygments_lexer": "ipython3",
   "version": "3.7.3"
  },
  "papermill": {
   "duration": 7.521907,
   "end_time": "2019-11-04T00:03:13.064089",
   "environment_variables": {},
   "exception": null,
   "input_path": "/home/cz136/project/sa/lib/src/quantile_compare.ipynb",
   "output_path": "/home/cz136/project/sa/lib/output/mcal/vlim/low_z/z_quantile_mcal_vlim_low_z.ipynb",
   "parameters": {
    "key": "z",
    "shape_cat": "mcal",
    "vol": "vlim",
    "z_range": "low_z"
   },
   "start_time": "2019-11-04T00:03:05.542182",
   "version": "1.2.0"
  }
 },
 "nbformat": 4,
 "nbformat_minor": 4
}