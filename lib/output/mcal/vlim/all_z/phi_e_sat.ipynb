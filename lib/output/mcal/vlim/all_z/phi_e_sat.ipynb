{
 "cells": [
  {
   "cell_type": "code",
   "execution_count": 1,
   "metadata": {
    "papermill": {
     "duration": 0.021072,
     "end_time": "2019-10-22T03:35:29.010792",
     "exception": false,
     "start_time": "2019-10-22T03:35:28.989720",
     "status": "completed"
    },
    "tags": [
     "parameters"
    ]
   },
   "outputs": [],
   "source": [
    "shape_cat=\"\"\n",
    "vol=\"\"\n",
    "z_range=\"\""
   ]
  },
  {
   "cell_type": "code",
   "execution_count": 2,
   "metadata": {
    "papermill": {
     "duration": 0.019434,
     "end_time": "2019-10-22T03:35:29.046047",
     "exception": false,
     "start_time": "2019-10-22T03:35:29.026613",
     "status": "completed"
    },
    "tags": [
     "injected-parameters"
    ]
   },
   "outputs": [],
   "source": [
    "# Parameters\n",
    "shape_cat = \"mcal\"\n",
    "vol = \"vlim\"\n",
    "z_range = \"all_z\"\n"
   ]
  },
  {
   "cell_type": "code",
   "execution_count": 3,
   "metadata": {
    "papermill": {
     "duration": 2.379871,
     "end_time": "2019-10-22T03:35:31.441256",
     "exception": false,
     "start_time": "2019-10-22T03:35:29.061385",
     "status": "completed"
    },
    "tags": []
   },
   "outputs": [],
   "source": [
    "#This header file contains all the common packages\n",
    "%matplotlib inline\n",
    "%run /home/cz136/project/sa/lib/src/header.py $shape_cat $vol $z_range "
   ]
  },
  {
   "cell_type": "code",
   "execution_count": 4,
   "metadata": {
    "papermill": {
     "duration": 0.019435,
     "end_time": "2019-10-22T03:35:31.475994",
     "exception": false,
     "start_time": "2019-10-22T03:35:31.456559",
     "status": "completed"
    },
    "tags": []
   },
   "outputs": [
    {
     "name": "stdout",
     "output_type": "stream",
     "text": [
      "4322\n",
      "104848\n"
     ]
    }
   ],
   "source": [
    "print(len(clusters))\n",
    "print(len(shapes))"
   ]
  },
  {
   "cell_type": "code",
   "execution_count": 5,
   "metadata": {
    "papermill": {
     "duration": 0.024791,
     "end_time": "2019-10-22T03:35:31.514139",
     "exception": false,
     "start_time": "2019-10-22T03:35:31.489348",
     "status": "completed"
    },
    "tags": []
   },
   "outputs": [
    {
     "name": "stdout",
     "output_type": "stream",
     "text": [
      "0\n",
      "0\n",
      "104848\n",
      "0\n"
     ]
    }
   ],
   "source": [
    "# Print the numbers of galaxies that needed to be masked\n",
    "\n",
    "\n",
    "print(np.sum(shapes[('All','e1')]==-9999))\n",
    "print(np.sum(shapes[('All','e2')]==-9999))\n",
    "print(np.sum(shapes['All','flags_select']==0))\n",
    "print(np.sum(shapes[('All','PP')]<=0.55))"
   ]
  },
  {
   "cell_type": "code",
   "execution_count": 6,
   "metadata": {
    "papermill": {
     "duration": 0.019053,
     "end_time": "2019-10-22T03:35:31.546964",
     "exception": false,
     "start_time": "2019-10-22T03:35:31.527911",
     "status": "completed"
    },
    "tags": []
   },
   "outputs": [
    {
     "name": "stdout",
     "output_type": "stream",
     "text": [
      "4322\n",
      "104848\n"
     ]
    }
   ],
   "source": [
    "#masking\n",
    "print(len(clusters))\n",
    "print(len(shapes))"
   ]
  },
  {
   "cell_type": "code",
   "execution_count": null,
   "metadata": {
    "papermill": {
     "duration": 0.018725,
     "end_time": "2019-10-22T03:35:31.580603",
     "exception": false,
     "start_time": "2019-10-22T03:35:31.561878",
     "status": "completed"
    },
    "tags": []
   },
   "outputs": [],
   "source": []
  },
  {
   "cell_type": "markdown",
   "metadata": {
    "papermill": {
     "duration": 0.013893,
     "end_time": "2019-10-22T03:35:31.608230",
     "exception": false,
     "start_time": "2019-10-22T03:35:31.594337",
     "status": "completed"
    },
    "tags": []
   },
   "source": [
    "# Stats of e1,e2"
   ]
  },
  {
   "cell_type": "code",
   "execution_count": 7,
   "metadata": {
    "papermill": {
     "duration": 0.611141,
     "end_time": "2019-10-22T03:35:32.233036",
     "exception": false,
     "start_time": "2019-10-22T03:35:31.621895",
     "status": "completed"
    },
    "tags": []
   },
   "outputs": [
    {
     "data": {
      "text/plain": [
       "count    104848.000000\n",
       "mean         -0.000760\n",
       "std           0.149794\n",
       "min          -0.693726\n",
       "25%          -0.077797\n",
       "50%          -0.000543\n",
       "75%           0.076295\n",
       "max           0.775665\n",
       "Name: (All, e2), dtype: float64"
      ]
     },
     "execution_count": 7,
     "metadata": {},
     "output_type": "execute_result"
    },
    {
     "data": {
      "image/png": "[encoded data removed]",
      "text/plain": [
       "<Figure size 432x288 with 1 Axes>"
      ]
     },
     "metadata": {
      "needs_background": "light"
     },
     "output_type": "display_data"
    }
   ],
   "source": [
    "from matplotlib.colors import LogNorm \n",
    "plt.hist2d(shapes['All','e1'],shapes['All','e2'],bins=500,norm=LogNorm())\n",
    "plt.axis('equal')\n",
    "plt.title(\"2D Histogram of $e_1$ and $e_2$\")\n",
    "pd.Series(shapes['All','e1']).describe()\n",
    "pd.Series(shapes['All','e2']).describe()"
   ]
  },
  {
   "cell_type": "code",
   "execution_count": 8,
   "metadata": {
    "papermill": {
     "duration": 0.524974,
     "end_time": "2019-10-22T03:35:32.774783",
     "exception": false,
     "start_time": "2019-10-22T03:35:32.249809",
     "status": "completed"
    },
    "tags": []
   },
   "outputs": [
    {
     "data": {
      "text/plain": [
       "count    104848.000000\n",
       "mean          1.726009\n",
       "std         319.986440\n",
       "min      -20097.585018\n",
       "25%          -1.006475\n",
       "50%           0.000066\n",
       "75%           1.000332\n",
       "max       67310.028672\n",
       "dtype: float64"
      ]
     },
     "execution_count": 8,
     "metadata": {},
     "output_type": "execute_result"
    },
    {
     "data": {
      "image/png": "[encoded data removed]",
      "text/plain": [
       "<Figure size 432x288 with 1 Axes>"
      ]
     },
     "metadata": {
      "needs_background": "light"
     },
     "output_type": "display_data"
    }
   ],
   "source": [
    "#statistics and hisgoram of e2/e1\n",
    "plt.hist(shapes['All','e2']/shapes['All','e1'],bins=np.arange(-10,10,0.1))\n",
    "plt.title(\"Histogram of $e_2$/$e_1$\")\n",
    "pd.Series(shapes['All','e2']/shapes['All','e1']).describe()"
   ]
  },
  {
   "cell_type": "markdown",
   "metadata": {
    "papermill": {
     "duration": 0.015769,
     "end_time": "2019-10-22T03:35:32.807959",
     "exception": false,
     "start_time": "2019-10-22T03:35:32.792190",
     "status": "completed"
    },
    "tags": []
   },
   "source": [
    "# Get phi "
   ]
  },
  {
   "cell_type": "code",
   "execution_count": 9,
   "metadata": {
    "papermill": {
     "duration": 0.020468,
     "end_time": "2019-10-22T03:35:32.843888",
     "exception": false,
     "start_time": "2019-10-22T03:35:32.823420",
     "status": "completed"
    },
    "tags": []
   },
   "outputs": [],
   "source": [
    "def get_std_err_of_mean(np_array):\n",
    "    mean=np_array.mean()\n",
    "    std=np_array.std()\n",
    "    n=len(np_array)\n",
    "    return(std/np.sqrt(n))"
   ]
  },
  {
   "cell_type": "code",
   "execution_count": 10,
   "metadata": {
    "papermill": {
     "duration": 0.02334,
     "end_time": "2019-10-22T03:35:32.882553",
     "exception": false,
     "start_time": "2019-10-22T03:35:32.859213",
     "status": "completed"
    },
    "tags": []
   },
   "outputs": [],
   "source": [
    "phi_1d=shapes[('All','phi')]"
   ]
  },
  {
   "cell_type": "markdown",
   "metadata": {
    "papermill": {
     "duration": 0.015335,
     "end_time": "2019-10-22T03:35:32.914400",
     "exception": false,
     "start_time": "2019-10-22T03:35:32.899065",
     "status": "completed"
    },
    "tags": []
   },
   "source": [
    "## Stats for unweighted"
   ]
  },
  {
   "cell_type": "code",
   "execution_count": 11,
   "metadata": {
    "papermill": {
     "duration": 0.031138,
     "end_time": "2019-10-22T03:35:32.961278",
     "exception": false,
     "start_time": "2019-10-22T03:35:32.930140",
     "status": "completed"
    },
    "tags": []
   },
   "outputs": [
    {
     "name": "stdout",
     "output_type": "stream",
     "text": [
      "Mean:4.518603e+01 \n",
      "StdE:7.970528e-02 \n"
     ]
    }
   ],
   "source": [
    "pd.Series(phi_1d).describe()\n",
    "print(\"Mean:{:05e} \\nStdE:{:05e} \".format(phi_1d.mean(),phi_1d.std()/np.sqrt(len(phi_1d))))"
   ]
  },
  {
   "cell_type": "code",
   "execution_count": 12,
   "metadata": {
    "papermill": {
     "duration": 0.320897,
     "end_time": "2019-10-22T03:35:33.297382",
     "exception": false,
     "start_time": "2019-10-22T03:35:32.976485",
     "status": "completed"
    },
    "tags": []
   },
   "outputs": [
    {
     "data": {
      "text/plain": [
       "count    104848.000000\n",
       "mean         45.186029\n",
       "std          25.808762\n",
       "min           0.000277\n",
       "25%          22.500000\n",
       "50%          45.281651\n",
       "75%          67.500000\n",
       "max          89.998205\n",
       "Name: (All, phi), dtype: float64"
      ]
     },
     "execution_count": 12,
     "metadata": {},
     "output_type": "execute_result"
    },
    {
     "data": {
      "image/png": "[encoded data removed]",
      "text/plain": [
       "<Figure size 432x288 with 1 Axes>"
      ]
     },
     "metadata": {
      "needs_background": "light"
     },
     "output_type": "display_data"
    }
   ],
   "source": [
    "BINS=np.arange(0,90,1)\n",
    "ax = sns.distplot(shapes[('All','phi')],bins=BINS,kde=False)\n",
    "ax.set_title(\"Histogram of $\\phi_{sat}$ weighted by probability\") \n",
    "pd.Series(phi_1d).describe()"
   ]
  },
  {
   "cell_type": "markdown",
   "metadata": {
    "papermill": {
     "duration": 0.016071,
     "end_time": "2019-10-22T03:35:33.331353",
     "exception": false,
     "start_time": "2019-10-22T03:35:33.315282",
     "status": "completed"
    },
    "tags": []
   },
   "source": [
    "# Abnormal Analysis"
   ]
  },
  {
   "cell_type": "code",
   "execution_count": 13,
   "metadata": {
    "papermill": {
     "duration": 0.112661,
     "end_time": "2019-10-22T03:35:33.460067",
     "exception": false,
     "start_time": "2019-10-22T03:35:33.347406",
     "status": "completed"
    },
    "tags": []
   },
   "outputs": [],
   "source": [
    "np.sum((shapes[('All','phi')]>=22.4) &(shapes[('All','phi')]<=22.6)) \n",
    "abn_1 = shapes[(shapes[('All','phi')]>=22.4) &(shapes[('All','phi')]<=22.6)]\n",
    "abn_2 = shapes[(shapes[('All','phi')]>67.4) &(shapes[('All','phi')]<=67.6)]"
   ]
  },
  {
   "cell_type": "code",
   "execution_count": 14,
   "metadata": {
    "papermill": {
     "duration": 0.124271,
     "end_time": "2019-10-22T03:35:33.601291",
     "exception": false,
     "start_time": "2019-10-22T03:35:33.477020",
     "status": "completed"
    },
    "tags": []
   },
   "outputs": [],
   "source": [
    "corr_1=abn_1.corr(method='pearson')[('All','phi')]\n",
    "corr_2=abn_2.corr(method='pearson')[('All','phi')]"
   ]
  },
  {
   "cell_type": "code",
   "execution_count": 15,
   "metadata": {
    "papermill": {
     "duration": 0.041122,
     "end_time": "2019-10-22T03:35:33.658418",
     "exception": false,
     "start_time": "2019-10-22T03:35:33.617296",
     "status": "completed"
    },
    "tags": []
   },
   "outputs": [
    {
     "data": {
      "text/html": [
       "<table border=\"1\" class=\"dataframe\">\n",
       "  <thead>\n",
       "    <tr>\n",
       "      <th></th>\n",
       "      <th></th>\n",
       "      <th colspan=\"2\" halign=\"left\">All</th>\n",
       "    </tr>\n",
       "    <tr>\n",
       "      <th></th>\n",
       "      <th></th>\n",
       "      <th>phi</th>\n",
       "      <th>phi</th>\n",
       "    </tr>\n",
       "    <tr>\n",
       "      <th>Band</th>\n",
       "      <th>Data</th>\n",
       "      <th></th>\n",
       "      <th></th>\n",
       "    </tr>\n",
       "  </thead>\n",
       "  <tbody>\n",
       "    <tr>\n",
       "      <th rowspan=\"22\" valign=\"top\">All</th>\n",
       "      <th>MEM_MATCH_ID</th>\n",
       "      <td>-0.104203</td>\n",
       "      <td>0.040132</td>\n",
       "    </tr>\n",
       "    <tr>\n",
       "      <th>Z</th>\n",
       "      <td>-0.003364</td>\n",
       "      <td>-0.052628</td>\n",
       "    </tr>\n",
       "    <tr>\n",
       "      <th>RA</th>\n",
       "      <td>-0.467590</td>\n",
       "      <td>-0.200788</td>\n",
       "    </tr>\n",
       "    <tr>\n",
       "      <th>DEC</th>\n",
       "      <td>0.094333</td>\n",
       "      <td>0.009031</td>\n",
       "    </tr>\n",
       "    <tr>\n",
       "      <th>R</th>\n",
       "      <td>0.022267</td>\n",
       "      <td>-0.025958</td>\n",
       "    </tr>\n",
       "    <tr>\n",
       "      <th>P</th>\n",
       "      <td>0.016980</td>\n",
       "      <td>0.018695</td>\n",
       "    </tr>\n",
       "    <tr>\n",
       "      <th>PFREE</th>\n",
       "      <td>0.001230</td>\n",
       "      <td>-0.004757</td>\n",
       "    </tr>\n",
       "    <tr>\n",
       "      <th>THETA_I</th>\n",
       "      <td>0.009785</td>\n",
       "      <td>0.024630</td>\n",
       "    </tr>\n",
       "    <tr>\n",
       "      <th>THETA_R</th>\n",
       "      <td>0.018838</td>\n",
       "      <td>0.006002</td>\n",
       "    </tr>\n",
       "    <tr>\n",
       "      <th>REFMAG_FIT</th>\n",
       "      <td>-0.002725</td>\n",
       "      <td>-0.011201</td>\n",
       "    </tr>\n",
       "    <tr>\n",
       "      <th>REFMAG_FIT_E</th>\n",
       "      <td>0.021307</td>\n",
       "      <td>-0.023780</td>\n",
       "    </tr>\n",
       "    <tr>\n",
       "      <th>REFMAG</th>\n",
       "      <td>-0.002725</td>\n",
       "      <td>-0.011201</td>\n",
       "    </tr>\n",
       "    <tr>\n",
       "      <th>REFMAG_ERR</th>\n",
       "      <td>0.021307</td>\n",
       "      <td>-0.023780</td>\n",
       "    </tr>\n",
       "    <tr>\n",
       "      <th>ZRED</th>\n",
       "      <td>-0.009522</td>\n",
       "      <td>-0.048521</td>\n",
       "    </tr>\n",
       "    <tr>\n",
       "      <th>ZRED_E</th>\n",
       "      <td>0.035703</td>\n",
       "      <td>-0.003397</td>\n",
       "    </tr>\n",
       "    <tr>\n",
       "      <th>ZRED2</th>\n",
       "      <td>-0.007908</td>\n",
       "      <td>-0.048231</td>\n",
       "    </tr>\n",
       "    <tr>\n",
       "      <th>ZRED2_E</th>\n",
       "      <td>0.030664</td>\n",
       "      <td>-0.004812</td>\n",
       "    </tr>\n",
       "    <tr>\n",
       "      <th>CHISQ</th>\n",
       "      <td>0.006501</td>\n",
       "      <td>0.015020</td>\n",
       "    </tr>\n",
       "    <tr>\n",
       "      <th>EBV</th>\n",
       "      <td>NaN</td>\n",
       "      <td>NaN</td>\n",
       "    </tr>\n",
       "    <tr>\n",
       "      <th>ZSPEC</th>\n",
       "      <td>NaN</td>\n",
       "      <td>0.002378</td>\n",
       "    </tr>\n",
       "    <tr>\n",
       "      <th>ZMAG</th>\n",
       "      <td>-0.002725</td>\n",
       "      <td>-0.011201</td>\n",
       "    </tr>\n",
       "    <tr>\n",
       "      <th>ZMAG_ERR</th>\n",
       "      <td>0.021307</td>\n",
       "      <td>-0.023780</td>\n",
       "    </tr>\n",
       "    <tr>\n",
       "      <th rowspan=\"2\" valign=\"top\">g</th>\n",
       "      <th>MODEL_MAG</th>\n",
       "      <td>-0.007531</td>\n",
       "      <td>-0.020112</td>\n",
       "    </tr>\n",
       "    <tr>\n",
       "      <th>MODEL_MAGERR</th>\n",
       "      <td>-0.004592</td>\n",
       "      <td>-0.027254</td>\n",
       "    </tr>\n",
       "    <tr>\n",
       "      <th rowspan=\"2\" valign=\"top\">r</th>\n",
       "      <th>MODEL_MAG</th>\n",
       "      <td>-0.007390</td>\n",
       "      <td>-0.019991</td>\n",
       "    </tr>\n",
       "    <tr>\n",
       "      <th>MODEL_MAGERR</th>\n",
       "      <td>0.019038</td>\n",
       "      <td>-0.010595</td>\n",
       "    </tr>\n",
       "    <tr>\n",
       "      <th rowspan=\"2\" valign=\"top\">i</th>\n",
       "      <th>MODEL_MAG</th>\n",
       "      <td>-0.005262</td>\n",
       "      <td>-0.013332</td>\n",
       "    </tr>\n",
       "    <tr>\n",
       "      <th>MODEL_MAGERR</th>\n",
       "      <td>0.022424</td>\n",
       "      <td>-0.004021</td>\n",
       "    </tr>\n",
       "    <tr>\n",
       "      <th rowspan=\"2\" valign=\"top\">z</th>\n",
       "      <th>MODEL_MAG</th>\n",
       "      <td>-0.002725</td>\n",
       "      <td>-0.011201</td>\n",
       "    </tr>\n",
       "    <tr>\n",
       "      <th>MODEL_MAGERR</th>\n",
       "      <td>0.021307</td>\n",
       "      <td>-0.023780</td>\n",
       "    </tr>\n",
       "    <tr>\n",
       "      <th rowspan=\"87\" valign=\"top\">All</th>\n",
       "      <th>flags</th>\n",
       "      <td>NaN</td>\n",
       "      <td>NaN</td>\n",
       "    </tr>\n",
       "    <tr>\n",
       "      <th>mask_frac</th>\n",
       "      <td>-0.052399</td>\n",
       "      <td>-0.026515</td>\n",
       "    </tr>\n",
       "    <tr>\n",
       "      <th>psf_e1</th>\n",
       "      <td>0.079542</td>\n",
       "      <td>-0.087420</td>\n",
       "    </tr>\n",
       "    <tr>\n",
       "      <th>psf_e2</th>\n",
       "      <td>0.095954</td>\n",
       "      <td>0.018020</td>\n",
       "    </tr>\n",
       "    <tr>\n",
       "      <th>psf_size</th>\n",
       "      <td>0.032784</td>\n",
       "      <td>0.042996</td>\n",
       "    </tr>\n",
       "    <tr>\n",
       "      <th>mcal_psf_e1</th>\n",
       "      <td>0.076498</td>\n",
       "      <td>0.003686</td>\n",
       "    </tr>\n",
       "    <tr>\n",
       "      <th>mcal_psf_e2</th>\n",
       "      <td>0.044374</td>\n",
       "      <td>-0.040697</td>\n",
       "    </tr>\n",
       "    <tr>\n",
       "      <th>mcal_psf_size</th>\n",
       "      <td>0.033121</td>\n",
       "      <td>0.046310</td>\n",
       "    </tr>\n",
       "    <tr>\n",
       "      <th>e1</th>\n",
       "      <td>-0.029824</td>\n",
       "      <td>0.000669</td>\n",
       "    </tr>\n",
       "    <tr>\n",
       "      <th>e1_1p</th>\n",
       "      <td>-0.030507</td>\n",
       "      <td>-0.000115</td>\n",
       "    </tr>\n",
       "    <tr>\n",
       "      <th>e1_1m</th>\n",
       "      <td>-0.030352</td>\n",
       "      <td>0.000963</td>\n",
       "    </tr>\n",
       "    <tr>\n",
       "      <th>e1_2p</th>\n",
       "      <td>-0.029845</td>\n",
       "      <td>0.000041</td>\n",
       "    </tr>\n",
       "    <tr>\n",
       "      <th>e1_2m</th>\n",
       "      <td>-0.030314</td>\n",
       "      <td>0.001083</td>\n",
       "    </tr>\n",
       "    <tr>\n",
       "      <th>e2</th>\n",
       "      <td>-0.012357</td>\n",
       "      <td>0.000049</td>\n",
       "    </tr>\n",
       "    <tr>\n",
       "      <th>e2_1p</th>\n",
       "      <td>-0.012217</td>\n",
       "      <td>-0.000548</td>\n",
       "    </tr>\n",
       "    <tr>\n",
       "      <th>e2_1m</th>\n",
       "      <td>-0.011236</td>\n",
       "      <td>-0.000128</td>\n",
       "    </tr>\n",
       "    <tr>\n",
       "      <th>e2_2p</th>\n",
       "      <td>-0.011423</td>\n",
       "      <td>0.000583</td>\n",
       "    </tr>\n",
       "    <tr>\n",
       "      <th>e2_2m</th>\n",
       "      <td>-0.012000</td>\n",
       "      <td>0.000240</td>\n",
       "    </tr>\n",
       "    <tr>\n",
       "      <th>size</th>\n",
       "      <td>0.002056</td>\n",
       "      <td>0.018691</td>\n",
       "    </tr>\n",
       "    <tr>\n",
       "      <th>size_1p</th>\n",
       "      <td>0.002895</td>\n",
       "      <td>0.018860</td>\n",
       "    </tr>\n",
       "    <tr>\n",
       "      <th>size_1m</th>\n",
       "      <td>0.001683</td>\n",
       "      <td>0.018604</td>\n",
       "    </tr>\n",
       "    <tr>\n",
       "      <th>size_2p</th>\n",
       "      <td>0.002434</td>\n",
       "      <td>0.018850</td>\n",
       "    </tr>\n",
       "    <tr>\n",
       "      <th>size_2m</th>\n",
       "      <td>0.001908</td>\n",
       "      <td>0.018706</td>\n",
       "    </tr>\n",
       "    <tr>\n",
       "      <th>size_err</th>\n",
       "      <td>0.068991</td>\n",
       "      <td>-0.003164</td>\n",
       "    </tr>\n",
       "    <tr>\n",
       "      <th>size_err_1p</th>\n",
       "      <td>0.071134</td>\n",
       "      <td>-0.004531</td>\n",
       "    </tr>\n",
       "    <tr>\n",
       "      <th>size_err_1m</th>\n",
       "      <td>0.068744</td>\n",
       "      <td>-0.001158</td>\n",
       "    </tr>\n",
       "    <tr>\n",
       "      <th>size_err_2p</th>\n",
       "      <td>0.068961</td>\n",
       "      <td>-0.006949</td>\n",
       "    </tr>\n",
       "    <tr>\n",
       "      <th>size_err_2m</th>\n",
       "      <td>0.061097</td>\n",
       "      <td>-0.004249</td>\n",
       "    </tr>\n",
       "    <tr>\n",
       "      <th>snr</th>\n",
       "      <td>-0.032819</td>\n",
       "      <td>-0.025323</td>\n",
       "    </tr>\n",
       "    <tr>\n",
       "      <th>snr_1p</th>\n",
       "      <td>-0.032800</td>\n",
       "      <td>-0.025313</td>\n",
       "    </tr>\n",
       "    <tr>\n",
       "      <th>snr_1m</th>\n",
       "      <td>-0.032825</td>\n",
       "      <td>-0.025343</td>\n",
       "    </tr>\n",
       "    <tr>\n",
       "      <th>snr_2p</th>\n",
       "      <td>-0.032806</td>\n",
       "      <td>-0.025328</td>\n",
       "    </tr>\n",
       "    <tr>\n",
       "      <th>snr_2m</th>\n",
       "      <td>-0.032818</td>\n",
       "      <td>-0.025323</td>\n",
       "    </tr>\n",
       "    <tr>\n",
       "      <th>covmat_0_0</th>\n",
       "      <td>0.026141</td>\n",
       "      <td>-0.004920</td>\n",
       "    </tr>\n",
       "    <tr>\n",
       "      <th>covmat_0_0_1p</th>\n",
       "      <td>0.022172</td>\n",
       "      <td>-0.003010</td>\n",
       "    </tr>\n",
       "    <tr>\n",
       "      <th>covmat_0_0_1m</th>\n",
       "      <td>0.023048</td>\n",
       "      <td>-0.003823</td>\n",
       "    </tr>\n",
       "    <tr>\n",
       "      <th>covmat_0_0_2p</th>\n",
       "      <td>0.004901</td>\n",
       "      <td>-0.004873</td>\n",
       "    </tr>\n",
       "    <tr>\n",
       "      <th>covmat_0_0_2m</th>\n",
       "      <td>0.016560</td>\n",
       "      <td>-0.005220</td>\n",
       "    </tr>\n",
       "    <tr>\n",
       "      <th>covmat_0_1</th>\n",
       "      <td>-0.000357</td>\n",
       "      <td>0.015264</td>\n",
       "    </tr>\n",
       "    <tr>\n",
       "      <th>covmat_0_1_1p</th>\n",
       "      <td>0.007826</td>\n",
       "      <td>0.012703</td>\n",
       "    </tr>\n",
       "    <tr>\n",
       "      <th>covmat_0_1_1m</th>\n",
       "      <td>0.001435</td>\n",
       "      <td>0.017165</td>\n",
       "    </tr>\n",
       "    <tr>\n",
       "      <th>covmat_0_1_2p</th>\n",
       "      <td>0.003729</td>\n",
       "      <td>0.017005</td>\n",
       "    </tr>\n",
       "    <tr>\n",
       "      <th>covmat_0_1_2m</th>\n",
       "      <td>0.001261</td>\n",
       "      <td>0.012233</td>\n",
       "    </tr>\n",
       "    <tr>\n",
       "      <th>covmat_1_1</th>\n",
       "      <td>0.024280</td>\n",
       "      <td>-0.007190</td>\n",
       "    </tr>\n",
       "    <tr>\n",
       "      <th>covmat_1_1_1p</th>\n",
       "      <td>0.020634</td>\n",
       "      <td>-0.004333</td>\n",
       "    </tr>\n",
       "    <tr>\n",
       "      <th>covmat_1_1_1m</th>\n",
       "      <td>0.020096</td>\n",
       "      <td>-0.004559</td>\n",
       "    </tr>\n",
       "    <tr>\n",
       "      <th>covmat_1_1_2p</th>\n",
       "      <td>0.004147</td>\n",
       "      <td>-0.006539</td>\n",
       "    </tr>\n",
       "    <tr>\n",
       "      <th>covmat_1_1_2m</th>\n",
       "      <td>0.014723</td>\n",
       "      <td>-0.006299</td>\n",
       "    </tr>\n",
       "    <tr>\n",
       "      <th>flux_r</th>\n",
       "      <td>-0.024327</td>\n",
       "      <td>0.009894</td>\n",
       "    </tr>\n",
       "    <tr>\n",
       "      <th>flux_r_1p</th>\n",
       "      <td>-0.024241</td>\n",
       "      <td>0.009833</td>\n",
       "    </tr>\n",
       "    <tr>\n",
       "      <th>flux_r_1m</th>\n",
       "      <td>-0.024340</td>\n",
       "      <td>0.009894</td>\n",
       "    </tr>\n",
       "    <tr>\n",
       "      <th>flux_r_2p</th>\n",
       "      <td>-0.024292</td>\n",
       "      <td>0.009909</td>\n",
       "    </tr>\n",
       "    <tr>\n",
       "      <th>flux_r_2m</th>\n",
       "      <td>-0.024340</td>\n",
       "      <td>0.009861</td>\n",
       "    </tr>\n",
       "    <tr>\n",
       "      <th>flux_err_r</th>\n",
       "      <td>0.029562</td>\n",
       "      <td>0.060579</td>\n",
       "    </tr>\n",
       "    <tr>\n",
       "      <th>flux_i</th>\n",
       "      <td>-0.027024</td>\n",
       "      <td>0.007481</td>\n",
       "    </tr>\n",
       "    <tr>\n",
       "      <th>flux_i_1p</th>\n",
       "      <td>-0.026953</td>\n",
       "      <td>0.007436</td>\n",
       "    </tr>\n",
       "    <tr>\n",
       "      <th>flux_i_1m</th>\n",
       "      <td>-0.027035</td>\n",
       "      <td>0.007477</td>\n",
       "    </tr>\n",
       "    <tr>\n",
       "      <th>flux_i_2p</th>\n",
       "      <td>-0.026969</td>\n",
       "      <td>0.007502</td>\n",
       "    </tr>\n",
       "    <tr>\n",
       "      <th>flux_i_2m</th>\n",
       "      <td>-0.027056</td>\n",
       "      <td>0.007439</td>\n",
       "    </tr>\n",
       "    <tr>\n",
       "      <th>flux_err_i</th>\n",
       "      <td>0.023547</td>\n",
       "      <td>0.063537</td>\n",
       "    </tr>\n",
       "    <tr>\n",
       "      <th>flux_z</th>\n",
       "      <td>-0.024186</td>\n",
       "      <td>0.007154</td>\n",
       "    </tr>\n",
       "    <tr>\n",
       "      <th>flux_z_1p</th>\n",
       "      <td>-0.024136</td>\n",
       "      <td>0.007113</td>\n",
       "    </tr>\n",
       "    <tr>\n",
       "      <th>flux_z_1m</th>\n",
       "      <td>-0.024171</td>\n",
       "      <td>0.007158</td>\n",
       "    </tr>\n",
       "    <tr>\n",
       "      <th>flux_z_2p</th>\n",
       "      <td>-0.024145</td>\n",
       "      <td>0.007178</td>\n",
       "    </tr>\n",
       "    <tr>\n",
       "      <th>flux_z_2m</th>\n",
       "      <td>-0.024212</td>\n",
       "      <td>0.007117</td>\n",
       "    </tr>\n",
       "    <tr>\n",
       "      <th>flux_err_z</th>\n",
       "      <td>0.007352</td>\n",
       "      <td>0.006788</td>\n",
       "    </tr>\n",
       "    <tr>\n",
       "      <th>R11</th>\n",
       "      <td>-0.005093</td>\n",
       "      <td>-0.016645</td>\n",
       "    </tr>\n",
       "    <tr>\n",
       "      <th>R12</th>\n",
       "      <td>0.013803</td>\n",
       "      <td>-0.026555</td>\n",
       "    </tr>\n",
       "    <tr>\n",
       "      <th>R21</th>\n",
       "      <td>-0.031006</td>\n",
       "      <td>-0.011126</td>\n",
       "    </tr>\n",
       "    <tr>\n",
       "      <th>R22</th>\n",
       "      <td>0.015293</td>\n",
       "      <td>0.008837</td>\n",
       "    </tr>\n",
       "    <tr>\n",
       "      <th>region</th>\n",
       "      <td>NaN</td>\n",
       "      <td>NaN</td>\n",
       "    </tr>\n",
       "    <tr>\n",
       "      <th>ra</th>\n",
       "      <td>-0.467590</td>\n",
       "      <td>-0.200788</td>\n",
       "    </tr>\n",
       "    <tr>\n",
       "      <th>dec</th>\n",
       "      <td>0.094333</td>\n",
       "      <td>0.009031</td>\n",
       "    </tr>\n",
       "    <tr>\n",
       "      <th>flags_select</th>\n",
       "      <td>NaN</td>\n",
       "      <td>NaN</td>\n",
       "    </tr>\n",
       "    <tr>\n",
       "      <th>flags_select_1p</th>\n",
       "      <td>-0.010059</td>\n",
       "      <td>0.001120</td>\n",
       "    </tr>\n",
       "    <tr>\n",
       "      <th>flags_select_1m</th>\n",
       "      <td>0.000551</td>\n",
       "      <td>0.000792</td>\n",
       "    </tr>\n",
       "    <tr>\n",
       "      <th>flags_select_2p</th>\n",
       "      <td>-0.030979</td>\n",
       "      <td>0.000396</td>\n",
       "    </tr>\n",
       "    <tr>\n",
       "      <th>flags_select_2m</th>\n",
       "      <td>-0.031986</td>\n",
       "      <td>0.000885</td>\n",
       "    </tr>\n",
       "    <tr>\n",
       "      <th>PP</th>\n",
       "      <td>0.017040</td>\n",
       "      <td>0.018453</td>\n",
       "    </tr>\n",
       "    <tr>\n",
       "      <th>Theta_cen</th>\n",
       "      <td>-0.024193</td>\n",
       "      <td>0.096102</td>\n",
       "    </tr>\n",
       "    <tr>\n",
       "      <th>Theta_sat</th>\n",
       "      <td>0.039769</td>\n",
       "      <td>-0.083687</td>\n",
       "    </tr>\n",
       "    <tr>\n",
       "      <th>angR</th>\n",
       "      <td>0.004439</td>\n",
       "      <td>-0.048939</td>\n",
       "    </tr>\n",
       "    <tr>\n",
       "      <th>phi</th>\n",
       "      <td>1.000000</td>\n",
       "      <td>1.000000</td>\n",
       "    </tr>\n",
       "    <tr>\n",
       "      <th>ep</th>\n",
       "      <td>0.016353</td>\n",
       "      <td>-0.008996</td>\n",
       "    </tr>\n",
       "    <tr>\n",
       "      <th>ex</th>\n",
       "      <td>-0.000634</td>\n",
       "      <td>-0.022277</td>\n",
       "    </tr>\n",
       "    <tr>\n",
       "      <th>normLR</th>\n",
       "      <td>-0.035828</td>\n",
       "      <td>-0.021292</td>\n",
       "    </tr>\n",
       "    <tr>\n",
       "      <th>R_LAMBDA</th>\n",
       "      <td>0.111030</td>\n",
       "      <td>-0.025560</td>\n",
       "    </tr>\n",
       "  </tbody>\n",
       "</table>"
      ],
      "text/plain": [
       "<IPython.core.display.HTML object>"
      ]
     },
     "metadata": {},
     "output_type": "display_data"
    }
   ],
   "source": [
    "display(HTML((pd.concat([pd.DataFrame(corr_1),pd.DataFrame(corr_2)],axis=1)).to_html()))\n",
    "# display(corr_2.to_html())"
   ]
  },
  {
   "cell_type": "code",
   "execution_count": 16,
   "metadata": {
    "papermill": {
     "duration": 0.19903,
     "end_time": "2019-10-22T03:35:33.875091",
     "exception": false,
     "start_time": "2019-10-22T03:35:33.676061",
     "status": "completed"
    },
    "tags": []
   },
   "outputs": [
    {
     "data": {
      "text/plain": [
       "<matplotlib.axes._subplots.AxesSubplot at 0x7ff946c07588>"
      ]
     },
     "execution_count": 16,
     "metadata": {},
     "output_type": "execute_result"
    },
    {
     "data": {
      "image/png": "[encoded data removed]",
      "text/plain": [
       "<Figure size 432x288 with 1 Axes>"
      ]
     },
     "metadata": {
      "needs_background": "light"
     },
     "output_type": "display_data"
    }
   ],
   "source": [
    "abn_1[('All','RA')].hist()\n",
    "#RA of objects with ϕ=22.5"
   ]
  },
  {
   "cell_type": "code",
   "execution_count": 17,
   "metadata": {
    "papermill": {
     "duration": 0.218849,
     "end_time": "2019-10-22T03:35:34.111216",
     "exception": false,
     "start_time": "2019-10-22T03:35:33.892367",
     "status": "completed"
    },
    "tags": []
   },
   "outputs": [
    {
     "data": {
      "text/plain": [
       "<matplotlib.axes._subplots.AxesSubplot at 0x7ff946bc3d30>"
      ]
     },
     "execution_count": 17,
     "metadata": {},
     "output_type": "execute_result"
    },
    {
     "data": {
      "image/png": "[encoded data removed]",
      "text/plain": [
       "<Figure size 432x288 with 1 Axes>"
      ]
     },
     "metadata": {
      "needs_background": "light"
     },
     "output_type": "display_data"
    }
   ],
   "source": [
    "abn_2[('All','RA')].hist()\n",
    "#RA of objects with ϕ=67.5"
   ]
  },
  {
   "cell_type": "code",
   "execution_count": 18,
   "metadata": {
    "papermill": {
     "duration": 0.230881,
     "end_time": "2019-10-22T03:35:34.361324",
     "exception": false,
     "start_time": "2019-10-22T03:35:34.130443",
     "status": "completed"
    },
    "tags": []
   },
   "outputs": [
    {
     "data": {
      "text/plain": [
       "<matplotlib.axes._subplots.AxesSubplot at 0x7ff944817a58>"
      ]
     },
     "execution_count": 18,
     "metadata": {},
     "output_type": "execute_result"
    },
    {
     "data": {
      "image/png": "[encoded data removed]",
      "text/plain": [
       "<Figure size 432x288 with 1 Axes>"
      ]
     },
     "metadata": {
      "needs_background": "light"
     },
     "output_type": "display_data"
    }
   ],
   "source": [
    "shapes[('All','RA')].hist()\n",
    "#RA of all objects"
   ]
  },
  {
   "cell_type": "code",
   "execution_count": 19,
   "metadata": {
    "papermill": {
     "duration": 4.227257,
     "end_time": "2019-10-22T03:35:38.608774",
     "exception": false,
     "start_time": "2019-10-22T03:35:34.381517",
     "status": "completed"
    },
    "tags": []
   },
   "outputs": [
    {
     "data": {
      "image/png": "[encoded data removed]",
      "text/plain": [
       "<Figure size 432x288 with 1 Axes>"
      ]
     },
     "metadata": {
      "needs_background": "light"
     },
     "output_type": "display_data"
    }
   ],
   "source": [
    "abn_1_Coor=SkyCoord(abn_1['All','RA'],abn_1['All','DEC'],unit=u.deg)\n",
    "abn_2_Coor=SkyCoord(abn_2['All','RA'],abn_2['All','DEC'],unit=u.deg)\n",
    "shape_Coor=SkyCoord(shapes['All','RA'],shapes['All','DEC'],unit=u.deg)\n",
    "\n",
    "\n",
    "plt.figure()\n",
    "plt.subplot(111, projection=\"mollweide\")\n",
    "plt.title(\"Mollweide\")\n",
    "plt.grid(True)\n",
    "plt.scatter(shape_Coor.ra.radian, shape_Coor.dec.radian,color='y')\n",
    "plt.scatter(abn_1_Coor.ra.radian, abn_1_Coor.dec.radian,color='r')\n",
    "plt.scatter(abn_2_Coor.ra.radian, abn_2_Coor.dec.radian,color='m')\n",
    "plt.show()"
   ]
  },
  {
   "cell_type": "code",
   "execution_count": 20,
   "metadata": {
    "papermill": {
     "duration": 0.026109,
     "end_time": "2019-10-22T03:35:38.660685",
     "exception": false,
     "start_time": "2019-10-22T03:35:38.634576",
     "status": "completed"
    },
    "tags": []
   },
   "outputs": [],
   "source": [
    "# np.save(\"/home/cz136/project/sa/data/im3_225_id.npy\",abn_1.index.to_numpy())\n",
    "# np.save(\"/home/cz136/project/sa/data/im3_675_id.npy\",abn_2.index.to_numpy())\n",
    "# np.save(\"/home/cz136/project/sa/data/im3_225_ra.npy\",abn_1[('All','ra')].to_numpy())\n",
    "# np.save(\"/home/cz136/project/sa/data/im3_225_dec.npy\",abn_1[('All','dec')].to_numpy())\n",
    "# np.save(\"/home/cz136/project/sa/data/im3_675_ra.npy\",abn_2[('All','ra')].to_numpy())\n",
    "# np.save(\"/home/cz136/project/sa/data/im3_675_dec.npy\",abn_2[('All','dec')].to_numpy())"
   ]
  },
  {
   "cell_type": "markdown",
   "metadata": {
    "papermill": {
     "duration": 0.018688,
     "end_time": "2019-10-22T03:35:38.698612",
     "exception": false,
     "start_time": "2019-10-22T03:35:38.679924",
     "status": "completed"
    },
    "tags": []
   },
   "source": [
    "# Analysis around 22.5 and 67.5"
   ]
  },
  {
   "cell_type": "code",
   "execution_count": 21,
   "metadata": {
    "papermill": {
     "duration": 0.029485,
     "end_time": "2019-10-22T03:35:38.747101",
     "exception": false,
     "start_time": "2019-10-22T03:35:38.717616",
     "status": "completed"
    },
    "tags": []
   },
   "outputs": [
    {
     "name": "stdout",
     "output_type": "stream",
     "text": [
      "[67 22 56 46 27 77 65 21 68 80 75 61 19 70 69 38 76 71 73 72 48 82 64 30\n",
      " 81 28 17 43 40 74 44 36 86 47  9 23 16 39 85 60 66 42 55 11 34 37  1  8\n",
      "  5 32 10 31 58  0 88  6 57 18 63 49 20 53  2 51 62 25 54 87 59 15 33 41\n",
      "  3 26 84 13 83  7 79 78 29 14 24 35 50 45 52  4 12]\n",
      "[3285 3237 1184 1180 1170 1170 1168 1167 1166 1162 1161 1160 1156 1154\n",
      " 1153 1152 1152 1148 1147 1147 1145 1142 1139 1136 1135 1135 1133 1132\n",
      " 1131 1131 1130 1129 1129 1128 1126 1125 1124 1124 1123 1122 1119 1116\n",
      " 1116 1115 1115 1114 1114 1113 1112 1112 1112 1112 1111 1111 1111 1109\n",
      " 1108 1108 1107 1106 1106 1105 1104 1104 1104 1104 1102 1099 1098 1098\n",
      " 1095 1093 1093 1091 1091 1086 1086 1085 1084 1082 1073 1072 1067 1065\n",
      " 1064 1064 1061 1057 1051]\n"
     ]
    }
   ],
   "source": [
    "#Print out the most crowded bins\n",
    "\n",
    "phi_count=np.histogram(phi_1d,bins=BINS)\n",
    "sort=np.argsort(-phi_count[0])\n",
    "print(phi_count[1][sort])\n",
    "print(phi_count[0][sort])"
   ]
  },
  {
   "cell_type": "code",
   "execution_count": 22,
   "metadata": {
    "papermill": {
     "duration": 0.286355,
     "end_time": "2019-10-22T03:35:39.056517",
     "exception": false,
     "start_time": "2019-10-22T03:35:38.770162",
     "status": "completed"
    },
    "tags": []
   },
   "outputs": [
    {
     "data": {
      "text/plain": [
       "count    3285.000000\n",
       "mean       22.507348\n",
       "std         0.177324\n",
       "min        22.001433\n",
       "25%        22.500000\n",
       "50%        22.500000\n",
       "75%        22.500000\n",
       "max        23.046684\n",
       "Name: (All, phi), dtype: float64"
      ]
     },
     "execution_count": 22,
     "metadata": {},
     "output_type": "execute_result"
    },
    {
     "data": {
      "image/png": "[encoded data removed]",
      "text/plain": [
       "<Figure size 432x288 with 1 Axes>"
      ]
     },
     "metadata": {
      "needs_background": "light"
     },
     "output_type": "display_data"
    }
   ],
   "source": [
    "#Statistics around 22.5\n",
    "first_cluster_left=np.sum(phi_count[0][0:22])\n",
    "first_length=phi_count[0][sort][0]\n",
    "first_cluster=phi_1d[first_cluster_left:first_cluster_left+first_length]\n",
    "ax = sns.distplot(first_cluster,kde=False)\n",
    "ax.set_title(\"$\\phi_{sat}$ Distribution Around 22.5 $\\degree$\")\n",
    "pd.Series(first_cluster).describe()"
   ]
  },
  {
   "cell_type": "code",
   "execution_count": 23,
   "metadata": {
    "papermill": {
     "duration": 0.279708,
     "end_time": "2019-10-22T03:35:39.356953",
     "exception": false,
     "start_time": "2019-10-22T03:35:39.077245",
     "status": "completed"
    },
    "tags": []
   },
   "outputs": [
    {
     "data": {
      "text/plain": [
       "count    3285.000000\n",
       "mean       67.502562\n",
       "std         0.167488\n",
       "min        67.000614\n",
       "25%        67.500000\n",
       "50%        67.500000\n",
       "75%        67.500000\n",
       "max        67.999551\n",
       "Name: (All, phi), dtype: float64"
      ]
     },
     "execution_count": 23,
     "metadata": {},
     "output_type": "execute_result"
    },
    {
     "data": {
      "image/png": "[encoded data removed]",
      "text/plain": [
       "<Figure size 432x288 with 1 Axes>"
      ]
     },
     "metadata": {
      "needs_background": "light"
     },
     "output_type": "display_data"
    }
   ],
   "source": [
    "second_cluster_left=np.sum(phi_count[0][0:67])\n",
    "second_length=phi_count[0][sort][0]\n",
    "second_cluster=phi_1d[second_cluster_left:second_cluster_left+second_length]\n",
    "ax = sns.distplot(second_cluster,kde=False)\n",
    "ax.set_title(\"$\\phi_{sat}$ Distribution Around 67.5 $\\degree$\")\n",
    "pd.Series(second_cluster).describe()"
   ]
  },
  {
   "cell_type": "markdown",
   "metadata": {
    "papermill": {
     "duration": 0.020569,
     "end_time": "2019-10-22T03:35:39.402650",
     "exception": false,
     "start_time": "2019-10-22T03:35:39.382081",
     "status": "completed"
    },
    "tags": []
   },
   "source": [
    "# Get e"
   ]
  },
  {
   "cell_type": "markdown",
   "metadata": {
    "papermill": {
     "duration": 0.020305,
     "end_time": "2019-10-22T03:35:39.443105",
     "exception": false,
     "start_time": "2019-10-22T03:35:39.422800",
     "status": "completed"
    },
    "tags": []
   },
   "source": [
    "## Statistics of e1 and e2"
   ]
  },
  {
   "cell_type": "code",
   "execution_count": 24,
   "metadata": {
    "papermill": {
     "duration": 0.032763,
     "end_time": "2019-10-22T03:35:39.496255",
     "exception": false,
     "start_time": "2019-10-22T03:35:39.463492",
     "status": "completed"
    },
    "tags": []
   },
   "outputs": [
    {
     "data": {
      "text/plain": [
       "count    104848.000000\n",
       "mean         -0.000007\n",
       "std           0.149076\n",
       "min          -0.838272\n",
       "25%          -0.076308\n",
       "50%          -0.000409\n",
       "75%           0.076128\n",
       "max           0.756333\n",
       "Name: (All, e1), dtype: float64"
      ]
     },
     "execution_count": 24,
     "metadata": {},
     "output_type": "execute_result"
    }
   ],
   "source": [
    "e1=shapes[('All','e1')].to_numpy()\n",
    "shapes[('All','e1')].describe()"
   ]
  },
  {
   "cell_type": "code",
   "execution_count": 25,
   "metadata": {
    "papermill": {
     "duration": 0.036474,
     "end_time": "2019-10-22T03:35:39.560624",
     "exception": false,
     "start_time": "2019-10-22T03:35:39.524150",
     "status": "completed"
    },
    "tags": []
   },
   "outputs": [
    {
     "data": {
      "text/plain": [
       "count    104848.000000\n",
       "mean         -0.000760\n",
       "std           0.149794\n",
       "min          -0.693726\n",
       "25%          -0.077797\n",
       "50%          -0.000543\n",
       "75%           0.076295\n",
       "max           0.775665\n",
       "Name: (All, e2), dtype: float64"
      ]
     },
     "execution_count": 25,
     "metadata": {},
     "output_type": "execute_result"
    }
   ],
   "source": [
    "e2=shapes[('All','e1')].to_numpy()\n",
    "shapes[('All','e2')].describe()"
   ]
  },
  {
   "cell_type": "code",
   "execution_count": 26,
   "metadata": {
    "papermill": {
     "duration": 0.025044,
     "end_time": "2019-10-22T03:35:39.608142",
     "exception": false,
     "start_time": "2019-10-22T03:35:39.583098",
     "status": "completed"
    },
    "tags": []
   },
   "outputs": [],
   "source": [
    "# np.save(\"/home/cz136/project/sa/data/{}/e_array\".format(dir_string),e_list)"
   ]
  },
  {
   "cell_type": "code",
   "execution_count": 27,
   "metadata": {
    "papermill": {
     "duration": 0.026268,
     "end_time": "2019-10-22T03:35:39.655854",
     "exception": false,
     "start_time": "2019-10-22T03:35:39.629586",
     "status": "completed"
    },
    "tags": []
   },
   "outputs": [],
   "source": [
    "e_p_1d=shapes[('All','ep')]\n",
    "e_x_1d=shapes[('All','ex')]"
   ]
  },
  {
   "cell_type": "code",
   "execution_count": 28,
   "metadata": {
    "papermill": {
     "duration": 0.305966,
     "end_time": "2019-10-22T03:35:39.986174",
     "exception": false,
     "start_time": "2019-10-22T03:35:39.680208",
     "status": "completed"
    },
    "tags": []
   },
   "outputs": [
    {
     "name": "stdout",
     "output_type": "stream",
     "text": [
      "mean=-7.987008e-04, std_mean=4.633520e-04\n"
     ]
    },
    {
     "data": {
      "text/plain": [
       "count    104848.000000\n",
       "mean         -0.000799\n",
       "std           0.150034\n",
       "min          -0.705929\n",
       "25%          -0.079479\n",
       "50%          -0.000332\n",
       "75%           0.076972\n",
       "max           0.684332\n",
       "Name: (All, ep), dtype: float64"
      ]
     },
     "execution_count": 28,
     "metadata": {},
     "output_type": "execute_result"
    },
    {
     "data": {
      "image/png": "[encoded data removed]",
      "text/plain": [
       "<Figure size 432x288 with 1 Axes>"
      ]
     },
     "metadata": {
      "needs_background": "light"
     },
     "output_type": "display_data"
    }
   ],
   "source": [
    "ax=sns.distplot(e_p_1d,kde=False)\n",
    "ax.set_title(\"Distribution of $e_{+}$\")\n",
    "print (\"mean={:05e}, std_mean={:05e}\".format(e_p_1d.mean(),get_std_err_of_mean(e_p_1d)))\n",
    "pd.Series(e_p_1d).describe()"
   ]
  },
  {
   "cell_type": "code",
   "execution_count": 29,
   "metadata": {
    "papermill": {
     "duration": 0.344437,
     "end_time": "2019-10-22T03:35:40.354114",
     "exception": false,
     "start_time": "2019-10-22T03:35:40.009677",
     "status": "completed"
    },
    "tags": []
   },
   "outputs": [
    {
     "name": "stdout",
     "output_type": "stream",
     "text": [
      "mean=1.584812e-03, std_mean=4.596172e-04\n"
     ]
    },
    {
     "data": {
      "text/plain": [
       "count    104848.000000\n",
       "mean          0.001585\n",
       "std           0.148825\n",
       "min          -0.750668\n",
       "25%          -0.073790\n",
       "50%           0.004342\n",
       "75%           0.077084\n",
       "max           0.766395\n",
       "Name: (All, ex), dtype: float64"
      ]
     },
     "execution_count": 29,
     "metadata": {},
     "output_type": "execute_result"
    },
    {
     "data": {
      "image/png": "[encoded data removed]",
      "text/plain": [
       "<Figure size 432x288 with 1 Axes>"
      ]
     },
     "metadata": {
      "needs_background": "light"
     },
     "output_type": "display_data"
    }
   ],
   "source": [
    "ax=sns.distplot(e_x_1d)\n",
    "ax.set_title(\"Distribution of $e_{x}$\")\n",
    "print (\"mean={:05e}, std_mean={:05e}\".format(e_x_1d.mean(),get_std_err_of_mean(e_x_1d)))\n",
    "pd.Series(e_x_1d).describe()"
   ]
  }
 ],
 "metadata": {
  "kernelspec": {
   "display_name": "Python 3",
   "language": "python",
   "name": "python3"
  },
  "language_info": {
   "codemirror_mode": {
    "name": "ipython",
    "version": 3
   },
   "file_extension": ".py",
   "mimetype": "text/x-python",
   "name": "python",
   "nbconvert_exporter": "python",
   "pygments_lexer": "ipython3",
   "version": "3.7.3"
  },
  "papermill": {
   "duration": 14.454052,
   "end_time": "2019-10-22T03:35:40.785784",
   "environment_variables": {},
   "exception": null,
   "input_path": "/home/cz136/project/sa/lib/src/phi_e_sat.ipynb",
   "output_path": "/home/cz136/project/sa/lib/output/mcal/vlim/all_z/phi_e_sat.ipynb",
   "parameters": {
    "shape_cat": "mcal",
    "vol": "vlim",
    "z_range": "all_z"
   },
   "start_time": "2019-10-22T03:35:26.331732",
   "version": "1.2.0"
  }
 },
 "nbformat": 4,
 "nbformat_minor": 4
}