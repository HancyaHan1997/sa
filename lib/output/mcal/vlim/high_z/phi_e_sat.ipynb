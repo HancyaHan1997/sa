{
 "cells": [
  {
   "cell_type": "code",
   "execution_count": 1,
   "metadata": {
    "papermill": {
     "duration": 0.020334,
     "end_time": "2019-10-22T03:35:06.526139",
     "exception": false,
     "start_time": "2019-10-22T03:35:06.505805",
     "status": "completed"
    },
    "tags": [
     "parameters"
    ]
   },
   "outputs": [],
   "source": [
    "shape_cat=\"\"\n",
    "vol=\"\"\n",
    "z_range=\"\""
   ]
  },
  {
   "cell_type": "code",
   "execution_count": 2,
   "metadata": {
    "papermill": {
     "duration": 0.017588,
     "end_time": "2019-10-22T03:35:06.558244",
     "exception": false,
     "start_time": "2019-10-22T03:35:06.540656",
     "status": "completed"
    },
    "tags": [
     "injected-parameters"
    ]
   },
   "outputs": [],
   "source": [
    "# Parameters\n",
    "shape_cat = \"mcal\"\n",
    "vol = \"vlim\"\n",
    "z_range = \"high_z\"\n"
   ]
  },
  {
   "cell_type": "code",
   "execution_count": 3,
   "metadata": {
    "papermill": {
     "duration": 2.198244,
     "end_time": "2019-10-22T03:35:08.769619",
     "exception": false,
     "start_time": "2019-10-22T03:35:06.571375",
     "status": "completed"
    },
    "tags": []
   },
   "outputs": [],
   "source": [
    "#This header file contains all the common packages\n",
    "%matplotlib inline\n",
    "%run /home/cz136/project/sa/lib/src/header.py $shape_cat $vol $z_range "
   ]
  },
  {
   "cell_type": "code",
   "execution_count": 4,
   "metadata": {
    "papermill": {
     "duration": 0.021749,
     "end_time": "2019-10-22T03:35:08.805845",
     "exception": false,
     "start_time": "2019-10-22T03:35:08.784096",
     "status": "completed"
    },
    "tags": []
   },
   "outputs": [
    {
     "name": "stdout",
     "output_type": "stream",
     "text": [
      "3769\n",
      "89474\n"
     ]
    }
   ],
   "source": [
    "print(len(clusters))\n",
    "print(len(shapes))"
   ]
  },
  {
   "cell_type": "code",
   "execution_count": 5,
   "metadata": {
    "papermill": {
     "duration": 0.024259,
     "end_time": "2019-10-22T03:35:08.843403",
     "exception": false,
     "start_time": "2019-10-22T03:35:08.819144",
     "status": "completed"
    },
    "tags": []
   },
   "outputs": [
    {
     "name": "stdout",
     "output_type": "stream",
     "text": [
      "0\n",
      "0\n",
      "89474\n",
      "0\n"
     ]
    }
   ],
   "source": [
    "# Print the numbers of galaxies that needed to be masked\n",
    "\n",
    "\n",
    "print(np.sum(shapes[('All','e1')]==-9999))\n",
    "print(np.sum(shapes[('All','e2')]==-9999))\n",
    "print(np.sum(shapes['All','flags_select']==0))\n",
    "print(np.sum(shapes[('All','PP')]<=0.55))"
   ]
  },
  {
   "cell_type": "code",
   "execution_count": 6,
   "metadata": {
    "papermill": {
     "duration": 0.018688,
     "end_time": "2019-10-22T03:35:08.875329",
     "exception": false,
     "start_time": "2019-10-22T03:35:08.856641",
     "status": "completed"
    },
    "tags": []
   },
   "outputs": [
    {
     "name": "stdout",
     "output_type": "stream",
     "text": [
      "3769\n",
      "89474\n"
     ]
    }
   ],
   "source": [
    "#masking\n",
    "print(len(clusters))\n",
    "print(len(shapes))"
   ]
  },
  {
   "cell_type": "code",
   "execution_count": null,
   "metadata": {
    "papermill": {
     "duration": 0.015027,
     "end_time": "2019-10-22T03:35:08.904818",
     "exception": false,
     "start_time": "2019-10-22T03:35:08.889791",
     "status": "completed"
    },
    "tags": []
   },
   "outputs": [],
   "source": []
  },
  {
   "cell_type": "markdown",
   "metadata": {
    "papermill": {
     "duration": 0.01354,
     "end_time": "2019-10-22T03:35:08.931835",
     "exception": false,
     "start_time": "2019-10-22T03:35:08.918295",
     "status": "completed"
    },
    "tags": []
   },
   "source": [
    "# Stats of e1,e2"
   ]
  },
  {
   "cell_type": "code",
   "execution_count": 7,
   "metadata": {
    "papermill": {
     "duration": 0.577599,
     "end_time": "2019-10-22T03:35:09.522866",
     "exception": false,
     "start_time": "2019-10-22T03:35:08.945267",
     "status": "completed"
    },
    "tags": []
   },
   "outputs": [
    {
     "data": {
      "text/plain": [
       "count    89474.000000\n",
       "mean        -0.000693\n",
       "std          0.150682\n",
       "min         -0.693726\n",
       "25%         -0.078246\n",
       "50%         -0.000489\n",
       "75%          0.076832\n",
       "max          0.775665\n",
       "Name: (All, e2), dtype: float64"
      ]
     },
     "execution_count": 7,
     "metadata": {},
     "output_type": "execute_result"
    },
    {
     "data": {
      "image/png": "[encoded data removed]",
      "text/plain": [
       "<Figure size 432x288 with 1 Axes>"
      ]
     },
     "metadata": {
      "needs_background": "light"
     },
     "output_type": "display_data"
    }
   ],
   "source": [
    "from matplotlib.colors import LogNorm \n",
    "plt.hist2d(shapes['All','e1'],shapes['All','e2'],bins=500,norm=LogNorm())\n",
    "plt.axis('equal')\n",
    "plt.title(\"2D Histogram of $e_1$ and $e_2$\")\n",
    "pd.Series(shapes['All','e1']).describe()\n",
    "pd.Series(shapes['All','e2']).describe()"
   ]
  },
  {
   "cell_type": "code",
   "execution_count": 8,
   "metadata": {
    "papermill": {
     "duration": 0.510146,
     "end_time": "2019-10-22T03:35:10.048880",
     "exception": false,
     "start_time": "2019-10-22T03:35:09.538734",
     "status": "completed"
    },
    "tags": []
   },
   "outputs": [
    {
     "data": {
      "text/plain": [
       "count    89474.000000\n",
       "mean         2.203350\n",
       "std        339.119245\n",
       "min     -12001.081281\n",
       "25%         -1.006322\n",
       "50%          0.001233\n",
       "75%          1.001861\n",
       "max      67310.028672\n",
       "dtype: float64"
      ]
     },
     "execution_count": 8,
     "metadata": {},
     "output_type": "execute_result"
    },
    {
     "data": {
      "image/png": "[encoded data removed]",
      "text/plain": [
       "<Figure size 432x288 with 1 Axes>"
      ]
     },
     "metadata": {
      "needs_background": "light"
     },
     "output_type": "display_data"
    }
   ],
   "source": [
    "#statistics and hisgoram of e2/e1\n",
    "plt.hist(shapes['All','e2']/shapes['All','e1'],bins=np.arange(-10,10,0.1))\n",
    "plt.title(\"Histogram of $e_2$/$e_1$\")\n",
    "pd.Series(shapes['All','e2']/shapes['All','e1']).describe()"
   ]
  },
  {
   "cell_type": "markdown",
   "metadata": {
    "papermill": {
     "duration": 0.017557,
     "end_time": "2019-10-22T03:35:10.083420",
     "exception": false,
     "start_time": "2019-10-22T03:35:10.065863",
     "status": "completed"
    },
    "tags": []
   },
   "source": [
    "# Get phi "
   ]
  },
  {
   "cell_type": "code",
   "execution_count": 9,
   "metadata": {
    "papermill": {
     "duration": 0.020023,
     "end_time": "2019-10-22T03:35:10.118434",
     "exception": false,
     "start_time": "2019-10-22T03:35:10.098411",
     "status": "completed"
    },
    "tags": []
   },
   "outputs": [],
   "source": [
    "def get_std_err_of_mean(np_array):\n",
    "    mean=np_array.mean()\n",
    "    std=np_array.std()\n",
    "    n=len(np_array)\n",
    "    return(std/np.sqrt(n))"
   ]
  },
  {
   "cell_type": "code",
   "execution_count": 10,
   "metadata": {
    "papermill": {
     "duration": 0.021145,
     "end_time": "2019-10-22T03:35:10.154581",
     "exception": false,
     "start_time": "2019-10-22T03:35:10.133436",
     "status": "completed"
    },
    "tags": []
   },
   "outputs": [],
   "source": [
    "phi_1d=shapes[('All','phi')]"
   ]
  },
  {
   "cell_type": "markdown",
   "metadata": {
    "papermill": {
     "duration": 0.017357,
     "end_time": "2019-10-22T03:35:10.187928",
     "exception": false,
     "start_time": "2019-10-22T03:35:10.170571",
     "status": "completed"
    },
    "tags": []
   },
   "source": [
    "## Stats for unweighted"
   ]
  },
  {
   "cell_type": "code",
   "execution_count": 11,
   "metadata": {
    "papermill": {
     "duration": 0.025457,
     "end_time": "2019-10-22T03:35:10.228632",
     "exception": false,
     "start_time": "2019-10-22T03:35:10.203175",
     "status": "completed"
    },
    "tags": []
   },
   "outputs": [
    {
     "name": "stdout",
     "output_type": "stream",
     "text": [
      "Mean:4.523202e+01 \n",
      "StdE:8.617786e-02 \n"
     ]
    }
   ],
   "source": [
    "pd.Series(phi_1d).describe()\n",
    "print(\"Mean:{:05e} \\nStdE:{:05e} \".format(phi_1d.mean(),phi_1d.std()/np.sqrt(len(phi_1d))))"
   ]
  },
  {
   "cell_type": "code",
   "execution_count": 12,
   "metadata": {
    "papermill": {
     "duration": 0.321613,
     "end_time": "2019-10-22T03:35:10.565514",
     "exception": false,
     "start_time": "2019-10-22T03:35:10.243901",
     "status": "completed"
    },
    "tags": []
   },
   "outputs": [
    {
     "data": {
      "text/plain": [
       "count    89474.000000\n",
       "mean        45.232024\n",
       "std         25.777697\n",
       "min          0.000277\n",
       "25%         22.500000\n",
       "50%         45.246282\n",
       "75%         67.500000\n",
       "max         89.998205\n",
       "Name: (All, phi), dtype: float64"
      ]
     },
     "execution_count": 12,
     "metadata": {},
     "output_type": "execute_result"
    },
    {
     "data": {
      "image/png": "[encoded data removed]",
      "text/plain": [
       "<Figure size 432x288 with 1 Axes>"
      ]
     },
     "metadata": {
      "needs_background": "light"
     },
     "output_type": "display_data"
    }
   ],
   "source": [
    "BINS=np.arange(0,90,1)\n",
    "ax = sns.distplot(shapes[('All','phi')],bins=BINS,kde=False)\n",
    "ax.set_title(\"Histogram of $\\phi_{sat}$ weighted by probability\") \n",
    "pd.Series(phi_1d).describe()"
   ]
  },
  {
   "cell_type": "markdown",
   "metadata": {
    "papermill": {
     "duration": 0.016023,
     "end_time": "2019-10-22T03:35:10.599183",
     "exception": false,
     "start_time": "2019-10-22T03:35:10.583160",
     "status": "completed"
    },
    "tags": []
   },
   "source": [
    "# Abnormal Analysis"
   ]
  },
  {
   "cell_type": "code",
   "execution_count": 13,
   "metadata": {
    "papermill": {
     "duration": 0.029958,
     "end_time": "2019-10-22T03:35:10.645228",
     "exception": false,
     "start_time": "2019-10-22T03:35:10.615270",
     "status": "completed"
    },
    "tags": []
   },
   "outputs": [],
   "source": [
    "np.sum((shapes[('All','phi')]>=22.4) &(shapes[('All','phi')]<=22.6)) \n",
    "abn_1 = shapes[(shapes[('All','phi')]>=22.4) &(shapes[('All','phi')]<=22.6)]\n",
    "abn_2 = shapes[(shapes[('All','phi')]>67.4) &(shapes[('All','phi')]<=67.6)]"
   ]
  },
  {
   "cell_type": "code",
   "execution_count": 14,
   "metadata": {
    "papermill": {
     "duration": 0.107587,
     "end_time": "2019-10-22T03:35:10.768706",
     "exception": false,
     "start_time": "2019-10-22T03:35:10.661119",
     "status": "completed"
    },
    "tags": []
   },
   "outputs": [],
   "source": [
    "corr_1=abn_1.corr(method='pearson')[('All','phi')]\n",
    "corr_2=abn_2.corr(method='pearson')[('All','phi')]"
   ]
  },
  {
   "cell_type": "code",
   "execution_count": 15,
   "metadata": {
    "papermill": {
     "duration": 0.038122,
     "end_time": "2019-10-22T03:35:10.823980",
     "exception": false,
     "start_time": "2019-10-22T03:35:10.785858",
     "status": "completed"
    },
    "tags": []
   },
   "outputs": [
    {
     "data": {
      "text/html": [
       "<table border=\"1\" class=\"dataframe\">\n",
       "  <thead>\n",
       "    <tr>\n",
       "      <th></th>\n",
       "      <th></th>\n",
       "      <th colspan=\"2\" halign=\"left\">All</th>\n",
       "    </tr>\n",
       "    <tr>\n",
       "      <th></th>\n",
       "      <th></th>\n",
       "      <th>phi</th>\n",
       "      <th>phi</th>\n",
       "    </tr>\n",
       "    <tr>\n",
       "      <th>Band</th>\n",
       "      <th>Data</th>\n",
       "      <th></th>\n",
       "      <th></th>\n",
       "    </tr>\n",
       "  </thead>\n",
       "  <tbody>\n",
       "    <tr>\n",
       "      <th rowspan=\"22\" valign=\"top\">All</th>\n",
       "      <th>MEM_MATCH_ID</th>\n",
       "      <td>-0.061905</td>\n",
       "      <td>0.042986</td>\n",
       "    </tr>\n",
       "    <tr>\n",
       "      <th>Z</th>\n",
       "      <td>-0.070087</td>\n",
       "      <td>-0.060266</td>\n",
       "    </tr>\n",
       "    <tr>\n",
       "      <th>RA</th>\n",
       "      <td>-0.413641</td>\n",
       "      <td>-0.207389</td>\n",
       "    </tr>\n",
       "    <tr>\n",
       "      <th>DEC</th>\n",
       "      <td>0.051138</td>\n",
       "      <td>0.008559</td>\n",
       "    </tr>\n",
       "    <tr>\n",
       "      <th>R</th>\n",
       "      <td>-0.015774</td>\n",
       "      <td>-0.026861</td>\n",
       "    </tr>\n",
       "    <tr>\n",
       "      <th>P</th>\n",
       "      <td>0.036041</td>\n",
       "      <td>0.018991</td>\n",
       "    </tr>\n",
       "    <tr>\n",
       "      <th>PFREE</th>\n",
       "      <td>0.004654</td>\n",
       "      <td>-0.004825</td>\n",
       "    </tr>\n",
       "    <tr>\n",
       "      <th>THETA_I</th>\n",
       "      <td>0.026125</td>\n",
       "      <td>0.024629</td>\n",
       "    </tr>\n",
       "    <tr>\n",
       "      <th>THETA_R</th>\n",
       "      <td>0.016625</td>\n",
       "      <td>0.006039</td>\n",
       "    </tr>\n",
       "    <tr>\n",
       "      <th>REFMAG_FIT</th>\n",
       "      <td>-0.053031</td>\n",
       "      <td>-0.010544</td>\n",
       "    </tr>\n",
       "    <tr>\n",
       "      <th>REFMAG_FIT_E</th>\n",
       "      <td>0.003311</td>\n",
       "      <td>-0.023331</td>\n",
       "    </tr>\n",
       "    <tr>\n",
       "      <th>REFMAG</th>\n",
       "      <td>-0.053031</td>\n",
       "      <td>-0.010544</td>\n",
       "    </tr>\n",
       "    <tr>\n",
       "      <th>REFMAG_ERR</th>\n",
       "      <td>0.003311</td>\n",
       "      <td>-0.023331</td>\n",
       "    </tr>\n",
       "    <tr>\n",
       "      <th>ZRED</th>\n",
       "      <td>-0.074911</td>\n",
       "      <td>-0.053405</td>\n",
       "    </tr>\n",
       "    <tr>\n",
       "      <th>ZRED_E</th>\n",
       "      <td>0.021778</td>\n",
       "      <td>-0.002617</td>\n",
       "    </tr>\n",
       "    <tr>\n",
       "      <th>ZRED2</th>\n",
       "      <td>-0.073975</td>\n",
       "      <td>-0.053376</td>\n",
       "    </tr>\n",
       "    <tr>\n",
       "      <th>ZRED2_E</th>\n",
       "      <td>0.017327</td>\n",
       "      <td>-0.004189</td>\n",
       "    </tr>\n",
       "    <tr>\n",
       "      <th>CHISQ</th>\n",
       "      <td>0.003420</td>\n",
       "      <td>0.015532</td>\n",
       "    </tr>\n",
       "    <tr>\n",
       "      <th>EBV</th>\n",
       "      <td>NaN</td>\n",
       "      <td>NaN</td>\n",
       "    </tr>\n",
       "    <tr>\n",
       "      <th>ZSPEC</th>\n",
       "      <td>NaN</td>\n",
       "      <td>0.001788</td>\n",
       "    </tr>\n",
       "    <tr>\n",
       "      <th>ZMAG</th>\n",
       "      <td>-0.053031</td>\n",
       "      <td>-0.010544</td>\n",
       "    </tr>\n",
       "    <tr>\n",
       "      <th>ZMAG_ERR</th>\n",
       "      <td>0.003311</td>\n",
       "      <td>-0.023331</td>\n",
       "    </tr>\n",
       "    <tr>\n",
       "      <th rowspan=\"2\" valign=\"top\">g</th>\n",
       "      <th>MODEL_MAG</th>\n",
       "      <td>-0.071820</td>\n",
       "      <td>-0.020293</td>\n",
       "    </tr>\n",
       "    <tr>\n",
       "      <th>MODEL_MAGERR</th>\n",
       "      <td>-0.031884</td>\n",
       "      <td>-0.026851</td>\n",
       "    </tr>\n",
       "    <tr>\n",
       "      <th rowspan=\"2\" valign=\"top\">r</th>\n",
       "      <th>MODEL_MAG</th>\n",
       "      <td>-0.064914</td>\n",
       "      <td>-0.019934</td>\n",
       "    </tr>\n",
       "    <tr>\n",
       "      <th>MODEL_MAGERR</th>\n",
       "      <td>-0.004368</td>\n",
       "      <td>-0.009877</td>\n",
       "    </tr>\n",
       "    <tr>\n",
       "      <th rowspan=\"2\" valign=\"top\">i</th>\n",
       "      <th>MODEL_MAG</th>\n",
       "      <td>-0.058211</td>\n",
       "      <td>-0.012791</td>\n",
       "    </tr>\n",
       "    <tr>\n",
       "      <th>MODEL_MAGERR</th>\n",
       "      <td>0.001025</td>\n",
       "      <td>-0.003202</td>\n",
       "    </tr>\n",
       "    <tr>\n",
       "      <th rowspan=\"2\" valign=\"top\">z</th>\n",
       "      <th>MODEL_MAG</th>\n",
       "      <td>-0.053031</td>\n",
       "      <td>-0.010544</td>\n",
       "    </tr>\n",
       "    <tr>\n",
       "      <th>MODEL_MAGERR</th>\n",
       "      <td>0.003311</td>\n",
       "      <td>-0.023331</td>\n",
       "    </tr>\n",
       "    <tr>\n",
       "      <th rowspan=\"87\" valign=\"top\">All</th>\n",
       "      <th>flags</th>\n",
       "      <td>NaN</td>\n",
       "      <td>NaN</td>\n",
       "    </tr>\n",
       "    <tr>\n",
       "      <th>mask_frac</th>\n",
       "      <td>-0.057844</td>\n",
       "      <td>-0.026985</td>\n",
       "    </tr>\n",
       "    <tr>\n",
       "      <th>psf_e1</th>\n",
       "      <td>0.043070</td>\n",
       "      <td>-0.091514</td>\n",
       "    </tr>\n",
       "    <tr>\n",
       "      <th>psf_e2</th>\n",
       "      <td>0.097805</td>\n",
       "      <td>0.018361</td>\n",
       "    </tr>\n",
       "    <tr>\n",
       "      <th>psf_size</th>\n",
       "      <td>0.040381</td>\n",
       "      <td>0.045553</td>\n",
       "    </tr>\n",
       "    <tr>\n",
       "      <th>mcal_psf_e1</th>\n",
       "      <td>0.056559</td>\n",
       "      <td>0.003398</td>\n",
       "    </tr>\n",
       "    <tr>\n",
       "      <th>mcal_psf_e2</th>\n",
       "      <td>0.098167</td>\n",
       "      <td>-0.045118</td>\n",
       "    </tr>\n",
       "    <tr>\n",
       "      <th>mcal_psf_size</th>\n",
       "      <td>0.034897</td>\n",
       "      <td>0.048984</td>\n",
       "    </tr>\n",
       "    <tr>\n",
       "      <th>e1</th>\n",
       "      <td>-0.014957</td>\n",
       "      <td>0.000782</td>\n",
       "    </tr>\n",
       "    <tr>\n",
       "      <th>e1_1p</th>\n",
       "      <td>-0.016007</td>\n",
       "      <td>-0.000024</td>\n",
       "    </tr>\n",
       "    <tr>\n",
       "      <th>e1_1m</th>\n",
       "      <td>-0.015613</td>\n",
       "      <td>0.001089</td>\n",
       "    </tr>\n",
       "    <tr>\n",
       "      <th>e1_2p</th>\n",
       "      <td>-0.014791</td>\n",
       "      <td>0.000142</td>\n",
       "    </tr>\n",
       "    <tr>\n",
       "      <th>e1_2m</th>\n",
       "      <td>-0.015924</td>\n",
       "      <td>0.001209</td>\n",
       "    </tr>\n",
       "    <tr>\n",
       "      <th>e2</th>\n",
       "      <td>-0.006736</td>\n",
       "      <td>0.000116</td>\n",
       "    </tr>\n",
       "    <tr>\n",
       "      <th>e2_1p</th>\n",
       "      <td>-0.006322</td>\n",
       "      <td>-0.000498</td>\n",
       "    </tr>\n",
       "    <tr>\n",
       "      <th>e2_1m</th>\n",
       "      <td>-0.005360</td>\n",
       "      <td>-0.000067</td>\n",
       "    </tr>\n",
       "    <tr>\n",
       "      <th>e2_2p</th>\n",
       "      <td>-0.005357</td>\n",
       "      <td>0.000660</td>\n",
       "    </tr>\n",
       "    <tr>\n",
       "      <th>e2_2m</th>\n",
       "      <td>-0.006340</td>\n",
       "      <td>0.000317</td>\n",
       "    </tr>\n",
       "    <tr>\n",
       "      <th>size</th>\n",
       "      <td>0.023930</td>\n",
       "      <td>0.019165</td>\n",
       "    </tr>\n",
       "    <tr>\n",
       "      <th>size_1p</th>\n",
       "      <td>0.025081</td>\n",
       "      <td>0.019333</td>\n",
       "    </tr>\n",
       "    <tr>\n",
       "      <th>size_1m</th>\n",
       "      <td>0.023321</td>\n",
       "      <td>0.019070</td>\n",
       "    </tr>\n",
       "    <tr>\n",
       "      <th>size_2p</th>\n",
       "      <td>0.024604</td>\n",
       "      <td>0.019322</td>\n",
       "    </tr>\n",
       "    <tr>\n",
       "      <th>size_2m</th>\n",
       "      <td>0.023831</td>\n",
       "      <td>0.019185</td>\n",
       "    </tr>\n",
       "    <tr>\n",
       "      <th>size_err</th>\n",
       "      <td>0.080527</td>\n",
       "      <td>-0.002718</td>\n",
       "    </tr>\n",
       "    <tr>\n",
       "      <th>size_err_1p</th>\n",
       "      <td>0.082518</td>\n",
       "      <td>-0.004063</td>\n",
       "    </tr>\n",
       "    <tr>\n",
       "      <th>size_err_1m</th>\n",
       "      <td>0.079534</td>\n",
       "      <td>-0.000822</td>\n",
       "    </tr>\n",
       "    <tr>\n",
       "      <th>size_err_2p</th>\n",
       "      <td>0.079581</td>\n",
       "      <td>-0.006537</td>\n",
       "    </tr>\n",
       "    <tr>\n",
       "      <th>size_err_2m</th>\n",
       "      <td>0.070265</td>\n",
       "      <td>-0.003881</td>\n",
       "    </tr>\n",
       "    <tr>\n",
       "      <th>snr</th>\n",
       "      <td>0.026796</td>\n",
       "      <td>-0.033559</td>\n",
       "    </tr>\n",
       "    <tr>\n",
       "      <th>snr_1p</th>\n",
       "      <td>0.026804</td>\n",
       "      <td>-0.033547</td>\n",
       "    </tr>\n",
       "    <tr>\n",
       "      <th>snr_1m</th>\n",
       "      <td>0.026807</td>\n",
       "      <td>-0.033583</td>\n",
       "    </tr>\n",
       "    <tr>\n",
       "      <th>snr_2p</th>\n",
       "      <td>0.026820</td>\n",
       "      <td>-0.033565</td>\n",
       "    </tr>\n",
       "    <tr>\n",
       "      <th>snr_2m</th>\n",
       "      <td>0.026790</td>\n",
       "      <td>-0.033559</td>\n",
       "    </tr>\n",
       "    <tr>\n",
       "      <th>covmat_0_0</th>\n",
       "      <td>0.023546</td>\n",
       "      <td>-0.004456</td>\n",
       "    </tr>\n",
       "    <tr>\n",
       "      <th>covmat_0_0_1p</th>\n",
       "      <td>0.017470</td>\n",
       "      <td>-0.002665</td>\n",
       "    </tr>\n",
       "    <tr>\n",
       "      <th>covmat_0_0_1m</th>\n",
       "      <td>0.022775</td>\n",
       "      <td>-0.003432</td>\n",
       "    </tr>\n",
       "    <tr>\n",
       "      <th>covmat_0_0_2p</th>\n",
       "      <td>0.001732</td>\n",
       "      <td>-0.004517</td>\n",
       "    </tr>\n",
       "    <tr>\n",
       "      <th>covmat_0_0_2m</th>\n",
       "      <td>0.014048</td>\n",
       "      <td>-0.006265</td>\n",
       "    </tr>\n",
       "    <tr>\n",
       "      <th>covmat_0_1</th>\n",
       "      <td>-0.002710</td>\n",
       "      <td>0.015281</td>\n",
       "    </tr>\n",
       "    <tr>\n",
       "      <th>covmat_0_1_1p</th>\n",
       "      <td>0.009456</td>\n",
       "      <td>0.012737</td>\n",
       "    </tr>\n",
       "    <tr>\n",
       "      <th>covmat_0_1_1m</th>\n",
       "      <td>0.001324</td>\n",
       "      <td>0.017175</td>\n",
       "    </tr>\n",
       "    <tr>\n",
       "      <th>covmat_0_1_2p</th>\n",
       "      <td>0.003877</td>\n",
       "      <td>0.017037</td>\n",
       "    </tr>\n",
       "    <tr>\n",
       "      <th>covmat_0_1_2m</th>\n",
       "      <td>0.000738</td>\n",
       "      <td>0.012248</td>\n",
       "    </tr>\n",
       "    <tr>\n",
       "      <th>covmat_1_1</th>\n",
       "      <td>0.021471</td>\n",
       "      <td>-0.006755</td>\n",
       "    </tr>\n",
       "    <tr>\n",
       "      <th>covmat_1_1_1p</th>\n",
       "      <td>0.016481</td>\n",
       "      <td>-0.004009</td>\n",
       "    </tr>\n",
       "    <tr>\n",
       "      <th>covmat_1_1_1m</th>\n",
       "      <td>0.019942</td>\n",
       "      <td>-0.004221</td>\n",
       "    </tr>\n",
       "    <tr>\n",
       "      <th>covmat_1_1_2p</th>\n",
       "      <td>0.001362</td>\n",
       "      <td>-0.006208</td>\n",
       "    </tr>\n",
       "    <tr>\n",
       "      <th>covmat_1_1_2m</th>\n",
       "      <td>0.011700</td>\n",
       "      <td>-0.007538</td>\n",
       "    </tr>\n",
       "    <tr>\n",
       "      <th>flux_r</th>\n",
       "      <td>0.049764</td>\n",
       "      <td>0.010592</td>\n",
       "    </tr>\n",
       "    <tr>\n",
       "      <th>flux_r_1p</th>\n",
       "      <td>0.049804</td>\n",
       "      <td>0.010510</td>\n",
       "    </tr>\n",
       "    <tr>\n",
       "      <th>flux_r_1m</th>\n",
       "      <td>0.049710</td>\n",
       "      <td>0.010592</td>\n",
       "    </tr>\n",
       "    <tr>\n",
       "      <th>flux_r_2p</th>\n",
       "      <td>0.049805</td>\n",
       "      <td>0.010614</td>\n",
       "    </tr>\n",
       "    <tr>\n",
       "      <th>flux_r_2m</th>\n",
       "      <td>0.049722</td>\n",
       "      <td>0.010550</td>\n",
       "    </tr>\n",
       "    <tr>\n",
       "      <th>flux_err_r</th>\n",
       "      <td>0.075599</td>\n",
       "      <td>0.066344</td>\n",
       "    </tr>\n",
       "    <tr>\n",
       "      <th>flux_i</th>\n",
       "      <td>0.041731</td>\n",
       "      <td>0.007223</td>\n",
       "    </tr>\n",
       "    <tr>\n",
       "      <th>flux_i_1p</th>\n",
       "      <td>0.041759</td>\n",
       "      <td>0.007166</td>\n",
       "    </tr>\n",
       "    <tr>\n",
       "      <th>flux_i_1m</th>\n",
       "      <td>0.041675</td>\n",
       "      <td>0.007217</td>\n",
       "    </tr>\n",
       "    <tr>\n",
       "      <th>flux_i_2p</th>\n",
       "      <td>0.041800</td>\n",
       "      <td>0.007250</td>\n",
       "    </tr>\n",
       "    <tr>\n",
       "      <th>flux_i_2m</th>\n",
       "      <td>0.041671</td>\n",
       "      <td>0.007171</td>\n",
       "    </tr>\n",
       "    <tr>\n",
       "      <th>flux_err_i</th>\n",
       "      <td>0.063682</td>\n",
       "      <td>0.067558</td>\n",
       "    </tr>\n",
       "    <tr>\n",
       "      <th>flux_z</th>\n",
       "      <td>0.041092</td>\n",
       "      <td>0.006817</td>\n",
       "    </tr>\n",
       "    <tr>\n",
       "      <th>flux_z_1p</th>\n",
       "      <td>0.041092</td>\n",
       "      <td>0.006766</td>\n",
       "    </tr>\n",
       "    <tr>\n",
       "      <th>flux_z_1m</th>\n",
       "      <td>0.041080</td>\n",
       "      <td>0.006822</td>\n",
       "    </tr>\n",
       "    <tr>\n",
       "      <th>flux_z_2p</th>\n",
       "      <td>0.041142</td>\n",
       "      <td>0.006847</td>\n",
       "    </tr>\n",
       "    <tr>\n",
       "      <th>flux_z_2m</th>\n",
       "      <td>0.041032</td>\n",
       "      <td>0.006772</td>\n",
       "    </tr>\n",
       "    <tr>\n",
       "      <th>flux_err_z</th>\n",
       "      <td>0.073725</td>\n",
       "      <td>0.006483</td>\n",
       "    </tr>\n",
       "    <tr>\n",
       "      <th>R11</th>\n",
       "      <td>-0.010972</td>\n",
       "      <td>-0.016830</td>\n",
       "    </tr>\n",
       "    <tr>\n",
       "      <th>R12</th>\n",
       "      <td>0.032986</td>\n",
       "      <td>-0.026588</td>\n",
       "    </tr>\n",
       "    <tr>\n",
       "      <th>R21</th>\n",
       "      <td>-0.028568</td>\n",
       "      <td>-0.011193</td>\n",
       "    </tr>\n",
       "    <tr>\n",
       "      <th>R22</th>\n",
       "      <td>0.024668</td>\n",
       "      <td>0.008687</td>\n",
       "    </tr>\n",
       "    <tr>\n",
       "      <th>region</th>\n",
       "      <td>NaN</td>\n",
       "      <td>NaN</td>\n",
       "    </tr>\n",
       "    <tr>\n",
       "      <th>ra</th>\n",
       "      <td>-0.413641</td>\n",
       "      <td>-0.207389</td>\n",
       "    </tr>\n",
       "    <tr>\n",
       "      <th>dec</th>\n",
       "      <td>0.051138</td>\n",
       "      <td>0.008559</td>\n",
       "    </tr>\n",
       "    <tr>\n",
       "      <th>flags_select</th>\n",
       "      <td>NaN</td>\n",
       "      <td>NaN</td>\n",
       "    </tr>\n",
       "    <tr>\n",
       "      <th>flags_select_1p</th>\n",
       "      <td>-0.015140</td>\n",
       "      <td>0.001191</td>\n",
       "    </tr>\n",
       "    <tr>\n",
       "      <th>flags_select_1m</th>\n",
       "      <td>-0.000698</td>\n",
       "      <td>0.000842</td>\n",
       "    </tr>\n",
       "    <tr>\n",
       "      <th>flags_select_2p</th>\n",
       "      <td>-0.047517</td>\n",
       "      <td>0.000420</td>\n",
       "    </tr>\n",
       "    <tr>\n",
       "      <th>flags_select_2m</th>\n",
       "      <td>-0.044301</td>\n",
       "      <td>0.000941</td>\n",
       "    </tr>\n",
       "    <tr>\n",
       "      <th>PP</th>\n",
       "      <td>0.036327</td>\n",
       "      <td>0.018739</td>\n",
       "    </tr>\n",
       "    <tr>\n",
       "      <th>Theta_cen</th>\n",
       "      <td>-0.020653</td>\n",
       "      <td>0.099674</td>\n",
       "    </tr>\n",
       "    <tr>\n",
       "      <th>Theta_sat</th>\n",
       "      <td>0.016561</td>\n",
       "      <td>-0.086155</td>\n",
       "    </tr>\n",
       "    <tr>\n",
       "      <th>angR</th>\n",
       "      <td>-0.067387</td>\n",
       "      <td>-0.060858</td>\n",
       "    </tr>\n",
       "    <tr>\n",
       "      <th>phi</th>\n",
       "      <td>1.000000</td>\n",
       "      <td>1.000000</td>\n",
       "    </tr>\n",
       "    <tr>\n",
       "      <th>ep</th>\n",
       "      <td>0.031725</td>\n",
       "      <td>-0.009249</td>\n",
       "    </tr>\n",
       "    <tr>\n",
       "      <th>ex</th>\n",
       "      <td>0.004196</td>\n",
       "      <td>-0.022727</td>\n",
       "    </tr>\n",
       "    <tr>\n",
       "      <th>normLR</th>\n",
       "      <td>-0.074796</td>\n",
       "      <td>-0.022268</td>\n",
       "    </tr>\n",
       "    <tr>\n",
       "      <th>R_LAMBDA</th>\n",
       "      <td>0.028947</td>\n",
       "      <td>-0.026752</td>\n",
       "    </tr>\n",
       "  </tbody>\n",
       "</table>"
      ],
      "text/plain": [
       "<IPython.core.display.HTML object>"
      ]
     },
     "metadata": {},
     "output_type": "display_data"
    }
   ],
   "source": [
    "display(HTML((pd.concat([pd.DataFrame(corr_1),pd.DataFrame(corr_2)],axis=1)).to_html()))\n",
    "# display(corr_2.to_html())"
   ]
  },
  {
   "cell_type": "code",
   "execution_count": 16,
   "metadata": {
    "papermill": {
     "duration": 0.198814,
     "end_time": "2019-10-22T03:35:11.046322",
     "exception": false,
     "start_time": "2019-10-22T03:35:10.847508",
     "status": "completed"
    },
    "tags": []
   },
   "outputs": [
    {
     "data": {
      "text/plain": [
       "<matplotlib.axes._subplots.AxesSubplot at 0x7f809a6b0c18>"
      ]
     },
     "execution_count": 16,
     "metadata": {},
     "output_type": "execute_result"
    },
    {
     "data": {
      "image/png": "[encoded data removed]",
      "text/plain": [
       "<Figure size 432x288 with 1 Axes>"
      ]
     },
     "metadata": {
      "needs_background": "light"
     },
     "output_type": "display_data"
    }
   ],
   "source": [
    "abn_1[('All','RA')].hist()\n",
    "#RA of objects with ϕ=22.5"
   ]
  },
  {
   "cell_type": "code",
   "execution_count": 17,
   "metadata": {
    "papermill": {
     "duration": 0.219516,
     "end_time": "2019-10-22T03:35:11.284530",
     "exception": false,
     "start_time": "2019-10-22T03:35:11.065014",
     "status": "completed"
    },
    "tags": []
   },
   "outputs": [
    {
     "data": {
      "text/plain": [
       "<matplotlib.axes._subplots.AxesSubplot at 0x7f80984718d0>"
      ]
     },
     "execution_count": 17,
     "metadata": {},
     "output_type": "execute_result"
    },
    {
     "data": {
      "image/png": "[encoded data removed]",
      "text/plain": [
       "<Figure size 432x288 with 1 Axes>"
      ]
     },
     "metadata": {
      "needs_background": "light"
     },
     "output_type": "display_data"
    }
   ],
   "source": [
    "abn_2[('All','RA')].hist()\n",
    "#RA of objects with ϕ=67.5"
   ]
  },
  {
   "cell_type": "code",
   "execution_count": 18,
   "metadata": {
    "papermill": {
     "duration": 0.222447,
     "end_time": "2019-10-22T03:35:11.530601",
     "exception": false,
     "start_time": "2019-10-22T03:35:11.308154",
     "status": "completed"
    },
    "tags": []
   },
   "outputs": [
    {
     "data": {
      "text/plain": [
       "<matplotlib.axes._subplots.AxesSubplot at 0x7f80983e3470>"
      ]
     },
     "execution_count": 18,
     "metadata": {},
     "output_type": "execute_result"
    },
    {
     "data": {
      "image/png": "[encoded data removed]",
      "text/plain": [
       "<Figure size 432x288 with 1 Axes>"
      ]
     },
     "metadata": {
      "needs_background": "light"
     },
     "output_type": "display_data"
    }
   ],
   "source": [
    "shapes[('All','RA')].hist()\n",
    "#RA of all objects"
   ]
  },
  {
   "cell_type": "code",
   "execution_count": 19,
   "metadata": {
    "papermill": {
     "duration": 3.605556,
     "end_time": "2019-10-22T03:35:15.156393",
     "exception": false,
     "start_time": "2019-10-22T03:35:11.550837",
     "status": "completed"
    },
    "tags": []
   },
   "outputs": [
    {
     "data": {
      "image/png": "[encoded data removed]",
      "text/plain": [
       "<Figure size 432x288 with 1 Axes>"
      ]
     },
     "metadata": {
      "needs_background": "light"
     },
     "output_type": "display_data"
    }
   ],
   "source": [
    "abn_1_Coor=SkyCoord(abn_1['All','RA'],abn_1['All','DEC'],unit=u.deg)\n",
    "abn_2_Coor=SkyCoord(abn_2['All','RA'],abn_2['All','DEC'],unit=u.deg)\n",
    "shape_Coor=SkyCoord(shapes['All','RA'],shapes['All','DEC'],unit=u.deg)\n",
    "\n",
    "\n",
    "plt.figure()\n",
    "plt.subplot(111, projection=\"mollweide\")\n",
    "plt.title(\"Mollweide\")\n",
    "plt.grid(True)\n",
    "plt.scatter(shape_Coor.ra.radian, shape_Coor.dec.radian,color='y')\n",
    "plt.scatter(abn_1_Coor.ra.radian, abn_1_Coor.dec.radian,color='r')\n",
    "plt.scatter(abn_2_Coor.ra.radian, abn_2_Coor.dec.radian,color='m')\n",
    "plt.show()"
   ]
  },
  {
   "cell_type": "code",
   "execution_count": 20,
   "metadata": {
    "papermill": {
     "duration": 0.026381,
     "end_time": "2019-10-22T03:35:15.208284",
     "exception": false,
     "start_time": "2019-10-22T03:35:15.181903",
     "status": "completed"
    },
    "tags": []
   },
   "outputs": [],
   "source": [
    "# np.save(\"/home/cz136/project/sa/data/im3_225_id.npy\",abn_1.index.to_numpy())\n",
    "# np.save(\"/home/cz136/project/sa/data/im3_675_id.npy\",abn_2.index.to_numpy())\n",
    "# np.save(\"/home/cz136/project/sa/data/im3_225_ra.npy\",abn_1[('All','ra')].to_numpy())\n",
    "# np.save(\"/home/cz136/project/sa/data/im3_225_dec.npy\",abn_1[('All','dec')].to_numpy())\n",
    "# np.save(\"/home/cz136/project/sa/data/im3_675_ra.npy\",abn_2[('All','ra')].to_numpy())\n",
    "# np.save(\"/home/cz136/project/sa/data/im3_675_dec.npy\",abn_2[('All','dec')].to_numpy())"
   ]
  },
  {
   "cell_type": "markdown",
   "metadata": {
    "papermill": {
     "duration": 0.018217,
     "end_time": "2019-10-22T03:35:15.245170",
     "exception": false,
     "start_time": "2019-10-22T03:35:15.226953",
     "status": "completed"
    },
    "tags": []
   },
   "source": [
    "# Analysis around 22.5 and 67.5"
   ]
  },
  {
   "cell_type": "code",
   "execution_count": 21,
   "metadata": {
    "papermill": {
     "duration": 0.026472,
     "end_time": "2019-10-22T03:35:15.290030",
     "exception": false,
     "start_time": "2019-10-22T03:35:15.263558",
     "status": "completed"
    },
    "tags": []
   },
   "outputs": [
    {
     "name": "stdout",
     "output_type": "stream",
     "text": [
      "[67 22 65 66 56 38 68 30 19 18 33 40 16 75 82 76 59 49 21 87  4 32  1 79\n",
      " 80 61 86 37 17 11 63 72 28 51 43 62 58  8 26 12 60 47 27 41 53 35 10 46\n",
      " 34 70  3 83 14 85 39 20 57 52  9 81  5  6 31 73  0 78 48 74 71 29 13 64\n",
      " 15 84 55 88 23 77 36 25 24 44 69 54 45 42  7 50  2]\n",
      "[3057 2730 1093 1081 1081 1077 1067 1066 1063 1056 1052 1045 1031 1027\n",
      " 1021 1018 1017 1016 1009 1008 1005 1004 1001  998  997  993  993  993\n",
      "  992  991  990  990  987  985  985  983  975  973  972  970  966  966\n",
      "  963  963  963  963  958  957  957  956  956  949  947  943  940  935\n",
      "  933  933  933  932  923  922  918  912  911  907  907  907  903  899\n",
      "  898  891  889  886  883  882  871  867  862  859  851  839  836  817\n",
      "  805  804  795  757  744]\n"
     ]
    }
   ],
   "source": [
    "#Print out the most crowded bins\n",
    "\n",
    "phi_count=np.histogram(phi_1d,bins=BINS)\n",
    "sort=np.argsort(-phi_count[0])\n",
    "print(phi_count[1][sort])\n",
    "print(phi_count[0][sort])"
   ]
  },
  {
   "cell_type": "code",
   "execution_count": 22,
   "metadata": {
    "papermill": {
     "duration": 0.361752,
     "end_time": "2019-10-22T03:35:15.672805",
     "exception": false,
     "start_time": "2019-10-22T03:35:15.311053",
     "status": "completed"
    },
    "tags": []
   },
   "outputs": [
    {
     "data": {
      "text/plain": [
       "count    3057.000000\n",
       "mean       22.577417\n",
       "std         0.272755\n",
       "min        22.001519\n",
       "25%        22.500000\n",
       "50%        22.500000\n",
       "75%        22.539473\n",
       "max        23.467325\n",
       "Name: (All, phi), dtype: float64"
      ]
     },
     "execution_count": 22,
     "metadata": {},
     "output_type": "execute_result"
    },
    {
     "data": {
      "image/png": "[encoded data removed]",
      "text/plain": [
       "<Figure size 432x288 with 1 Axes>"
      ]
     },
     "metadata": {
      "needs_background": "light"
     },
     "output_type": "display_data"
    }
   ],
   "source": [
    "#Statistics around 22.5\n",
    "first_cluster_left=np.sum(phi_count[0][0:22])\n",
    "first_length=phi_count[0][sort][0]\n",
    "first_cluster=phi_1d[first_cluster_left:first_cluster_left+first_length]\n",
    "ax = sns.distplot(first_cluster,kde=False)\n",
    "ax.set_title(\"$\\phi_{sat}$ Distribution Around 22.5 $\\degree$\")\n",
    "pd.Series(first_cluster).describe()"
   ]
  },
  {
   "cell_type": "code",
   "execution_count": 23,
   "metadata": {
    "papermill": {
     "duration": 0.290253,
     "end_time": "2019-10-22T03:35:15.983142",
     "exception": false,
     "start_time": "2019-10-22T03:35:15.692889",
     "status": "completed"
    },
    "tags": []
   },
   "outputs": [
    {
     "data": {
      "text/plain": [
       "count    3057.000000\n",
       "mean       67.498126\n",
       "std         0.165787\n",
       "min        67.000614\n",
       "25%        67.500000\n",
       "50%        67.500000\n",
       "75%        67.500000\n",
       "max        67.999551\n",
       "Name: (All, phi), dtype: float64"
      ]
     },
     "execution_count": 23,
     "metadata": {},
     "output_type": "execute_result"
    },
    {
     "data": {
      "image/png": "[encoded data removed]",
      "text/plain": [
       "<Figure size 432x288 with 1 Axes>"
      ]
     },
     "metadata": {
      "needs_background": "light"
     },
     "output_type": "display_data"
    }
   ],
   "source": [
    "second_cluster_left=np.sum(phi_count[0][0:67])\n",
    "second_length=phi_count[0][sort][0]\n",
    "second_cluster=phi_1d[second_cluster_left:second_cluster_left+second_length]\n",
    "ax = sns.distplot(second_cluster,kde=False)\n",
    "ax.set_title(\"$\\phi_{sat}$ Distribution Around 67.5 $\\degree$\")\n",
    "pd.Series(second_cluster).describe()"
   ]
  },
  {
   "cell_type": "markdown",
   "metadata": {
    "papermill": {
     "duration": 0.020611,
     "end_time": "2019-10-22T03:35:16.025669",
     "exception": false,
     "start_time": "2019-10-22T03:35:16.005058",
     "status": "completed"
    },
    "tags": []
   },
   "source": [
    "# Get e"
   ]
  },
  {
   "cell_type": "markdown",
   "metadata": {
    "papermill": {
     "duration": 0.019766,
     "end_time": "2019-10-22T03:35:16.065744",
     "exception": false,
     "start_time": "2019-10-22T03:35:16.045978",
     "status": "completed"
    },
    "tags": []
   },
   "source": [
    "## Statistics of e1 and e2"
   ]
  },
  {
   "cell_type": "code",
   "execution_count": 24,
   "metadata": {
    "papermill": {
     "duration": 0.032121,
     "end_time": "2019-10-22T03:35:16.117818",
     "exception": false,
     "start_time": "2019-10-22T03:35:16.085697",
     "status": "completed"
    },
    "tags": []
   },
   "outputs": [
    {
     "data": {
      "text/plain": [
       "count    89474.000000\n",
       "mean        -0.000082\n",
       "std          0.150186\n",
       "min         -0.687860\n",
       "25%         -0.076607\n",
       "50%         -0.000325\n",
       "75%          0.076491\n",
       "max          0.756333\n",
       "Name: (All, e1), dtype: float64"
      ]
     },
     "execution_count": 24,
     "metadata": {},
     "output_type": "execute_result"
    }
   ],
   "source": [
    "e1=shapes[('All','e1')].to_numpy()\n",
    "shapes[('All','e1')].describe()"
   ]
  },
  {
   "cell_type": "code",
   "execution_count": 25,
   "metadata": {
    "papermill": {
     "duration": 0.032247,
     "end_time": "2019-10-22T03:35:16.171508",
     "exception": false,
     "start_time": "2019-10-22T03:35:16.139261",
     "status": "completed"
    },
    "tags": []
   },
   "outputs": [
    {
     "data": {
      "text/plain": [
       "count    89474.000000\n",
       "mean        -0.000693\n",
       "std          0.150682\n",
       "min         -0.693726\n",
       "25%         -0.078246\n",
       "50%         -0.000489\n",
       "75%          0.076832\n",
       "max          0.775665\n",
       "Name: (All, e2), dtype: float64"
      ]
     },
     "execution_count": 25,
     "metadata": {},
     "output_type": "execute_result"
    }
   ],
   "source": [
    "e2=shapes[('All','e1')].to_numpy()\n",
    "shapes[('All','e2')].describe()"
   ]
  },
  {
   "cell_type": "code",
   "execution_count": 26,
   "metadata": {
    "papermill": {
     "duration": 0.025084,
     "end_time": "2019-10-22T03:35:16.222728",
     "exception": false,
     "start_time": "2019-10-22T03:35:16.197644",
     "status": "completed"
    },
    "tags": []
   },
   "outputs": [],
   "source": [
    "# np.save(\"/home/cz136/project/sa/data/{}/e_array\".format(dir_string),e_list)"
   ]
  },
  {
   "cell_type": "code",
   "execution_count": 27,
   "metadata": {
    "papermill": {
     "duration": 0.026276,
     "end_time": "2019-10-22T03:35:16.275197",
     "exception": false,
     "start_time": "2019-10-22T03:35:16.248921",
     "status": "completed"
    },
    "tags": []
   },
   "outputs": [],
   "source": [
    "e_p_1d=shapes[('All','ep')]\n",
    "e_x_1d=shapes[('All','ex')]"
   ]
  },
  {
   "cell_type": "code",
   "execution_count": 28,
   "metadata": {
    "papermill": {
     "duration": 0.29519,
     "end_time": "2019-10-22T03:35:16.593397",
     "exception": false,
     "start_time": "2019-10-22T03:35:16.298207",
     "status": "completed"
    },
    "tags": []
   },
   "outputs": [
    {
     "name": "stdout",
     "output_type": "stream",
     "text": [
      "mean=-7.612042e-04, std_mean=5.048833e-04\n"
     ]
    },
    {
     "data": {
      "text/plain": [
       "count    89474.000000\n",
       "mean        -0.000761\n",
       "std          0.151022\n",
       "min         -0.705929\n",
       "25%         -0.080033\n",
       "50%         -0.000385\n",
       "75%          0.077548\n",
       "max          0.683721\n",
       "Name: (All, ep), dtype: float64"
      ]
     },
     "execution_count": 28,
     "metadata": {},
     "output_type": "execute_result"
    },
    {
     "data": {
      "image/png": "[encoded data removed]",
      "text/plain": [
       "<Figure size 432x288 with 1 Axes>"
      ]
     },
     "metadata": {
      "needs_background": "light"
     },
     "output_type": "display_data"
    }
   ],
   "source": [
    "ax=sns.distplot(e_p_1d,kde=False)\n",
    "ax.set_title(\"Distribution of $e_{+}$\")\n",
    "print (\"mean={:05e}, std_mean={:05e}\".format(e_p_1d.mean(),get_std_err_of_mean(e_p_1d)))\n",
    "pd.Series(e_p_1d).describe()"
   ]
  },
  {
   "cell_type": "code",
   "execution_count": 29,
   "metadata": {
    "papermill": {
     "duration": 0.333054,
     "end_time": "2019-10-22T03:35:16.949889",
     "exception": false,
     "start_time": "2019-10-22T03:35:16.616835",
     "status": "completed"
    },
    "tags": []
   },
   "outputs": [
    {
     "name": "stdout",
     "output_type": "stream",
     "text": [
      "mean=1.764277e-03, std_mean=5.009121e-04\n"
     ]
    },
    {
     "data": {
      "text/plain": [
       "count    89474.000000\n",
       "mean         0.001764\n",
       "std          0.149834\n",
       "min         -0.750668\n",
       "25%         -0.074119\n",
       "50%          0.004397\n",
       "75%          0.077838\n",
       "max          0.766395\n",
       "Name: (All, ex), dtype: float64"
      ]
     },
     "execution_count": 29,
     "metadata": {},
     "output_type": "execute_result"
    },
    {
     "data": {
      "image/png": "[encoded data removed]",
      "text/plain": [
       "<Figure size 432x288 with 1 Axes>"
      ]
     },
     "metadata": {
      "needs_background": "light"
     },
     "output_type": "display_data"
    }
   ],
   "source": [
    "ax=sns.distplot(e_x_1d)\n",
    "ax.set_title(\"Distribution of $e_{x}$\")\n",
    "print (\"mean={:05e}, std_mean={:05e}\".format(e_x_1d.mean(),get_std_err_of_mean(e_x_1d)))\n",
    "pd.Series(e_x_1d).describe()"
   ]
  }
 ],
 "metadata": {
  "kernelspec": {
   "display_name": "Python 3",
   "language": "python",
   "name": "python3"
  },
  "language_info": {
   "codemirror_mode": {
    "name": "ipython",
    "version": 3
   },
   "file_extension": ".py",
   "mimetype": "text/x-python",
   "name": "python",
   "nbconvert_exporter": "python",
   "pygments_lexer": "ipython3",
   "version": "3.7.3"
  },
  "papermill": {
   "duration": 11.920111,
   "end_time": "2019-10-22T03:35:17.383002",
   "environment_variables": {},
   "exception": null,
   "input_path": "/home/cz136/project/sa/lib/src/phi_e_sat.ipynb",
   "output_path": "/home/cz136/project/sa/lib/output/mcal/vlim/high_z/phi_e_sat.ipynb",
   "parameters": {
    "shape_cat": "mcal",
    "vol": "vlim",
    "z_range": "high_z"
   },
   "start_time": "2019-10-22T03:35:05.462891",
   "version": "1.2.0"
  }
 },
 "nbformat": 4,
 "nbformat_minor": 4
}