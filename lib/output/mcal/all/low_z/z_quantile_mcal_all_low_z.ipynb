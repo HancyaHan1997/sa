{
 "cells": [
  {
   "cell_type": "code",
   "execution_count": 1,
   "metadata": {
    "papermill": {
     "duration": 0.020617,
     "end_time": "2019-11-04T00:02:19.192864",
     "exception": false,
     "start_time": "2019-11-04T00:02:19.172247",
     "status": "completed"
    },
    "tags": [
     "parameters"
    ]
   },
   "outputs": [],
   "source": [
    "shape_cat=\"\"\n",
    "vol=\"\"\n",
    "z_range=\"\"\n",
    "key=\"\""
   ]
  },
  {
   "cell_type": "code",
   "execution_count": 2,
   "metadata": {
    "papermill": {
     "duration": 0.019196,
     "end_time": "2019-11-04T00:02:19.223448",
     "exception": false,
     "start_time": "2019-11-04T00:02:19.204252",
     "status": "completed"
    },
    "tags": [
     "injected-parameters"
    ]
   },
   "outputs": [],
   "source": [
    "# Parameters\n",
    "shape_cat = \"mcal\"\n",
    "vol = \"all\"\n",
    "z_range = \"low_z\"\n",
    "key = \"z\"\n"
   ]
  },
  {
   "cell_type": "code",
   "execution_count": 3,
   "metadata": {
    "papermill": {
     "duration": 0.018642,
     "end_time": "2019-11-04T00:02:19.250981",
     "exception": false,
     "start_time": "2019-11-04T00:02:19.232339",
     "status": "completed"
    },
    "tags": []
   },
   "outputs": [],
   "source": [
    "if key==\"lambda\":\n",
    "    key=('All','All','LAMBDA_CHISQ')\n",
    "elif key==\"z\":\n",
    "    key=('All','All','Z_LAMBDA')"
   ]
  },
  {
   "cell_type": "code",
   "execution_count": 4,
   "metadata": {
    "papermill": {
     "duration": 3.664408,
     "end_time": "2019-11-04T00:02:22.928183",
     "exception": false,
     "start_time": "2019-11-04T00:02:19.263775",
     "status": "completed"
    },
    "tags": []
   },
   "outputs": [],
   "source": [
    "#This header file contains all the common packages\n",
    "%matplotlib inline\n",
    "%run /home/cz136/project/sa/lib/src/header.py $shape_cat $vol $z_range \n",
    "%run -i /home/cz136/project/sa/lib/src/func.py  "
   ]
  },
  {
   "cell_type": "code",
   "execution_count": 5,
   "metadata": {
    "papermill": {
     "duration": 0.020563,
     "end_time": "2019-11-04T00:02:22.959442",
     "exception": false,
     "start_time": "2019-11-04T00:02:22.938879",
     "status": "completed"
    },
    "tags": []
   },
   "outputs": [],
   "source": [
    "def thirds_by_key(catalog,key):\n",
    "    step0=catalog[key].quantile(0.0)\n",
    "    step1=catalog[key].quantile(0.333333)\n",
    "    step2=catalog[key].quantile(0.666666)\n",
    "    step3=catalog[key].quantile(1)\n",
    "    \n",
    "    catalog1=catalog[(catalog[key]>step0) & (catalog[key]<step1)]\n",
    "    catalog2=catalog[(catalog[key]>step1) & (catalog[key]<step2)]\n",
    "    catalog3=catalog[(catalog[key]>step2) & (catalog[key]<step3)]\n",
    "    \n",
    "    return (catalog1,catalog2,catalog3)"
   ]
  },
  {
   "cell_type": "code",
   "execution_count": 6,
   "metadata": {
    "papermill": {
     "duration": 0.038475,
     "end_time": "2019-11-04T00:02:23.006994",
     "exception": false,
     "start_time": "2019-11-04T00:02:22.968519",
     "status": "completed"
    },
    "tags": []
   },
   "outputs": [],
   "source": [
    "if key!=\"\":\n",
    "    clusters_list=thirds_by_key(clusters,key)"
   ]
  },
  {
   "cell_type": "code",
   "execution_count": 7,
   "metadata": {
    "papermill": {
     "duration": 0.024753,
     "end_time": "2019-11-04T00:02:23.040513",
     "exception": false,
     "start_time": "2019-11-04T00:02:23.015760",
     "status": "completed"
    },
    "tags": []
   },
   "outputs": [],
   "source": [
    "cluster_list=[None]*3\n",
    "for quantile in range(3):\n",
    "    cluster_list[quantile]=np.load(\"/home/cz136/project/sa/data/2pt/{}_{}_{}_{}.npz\".format(shape_cat,vol,key,quantile))"
   ]
  },
  {
   "cell_type": "code",
   "execution_count": 8,
   "metadata": {
    "papermill": {
     "duration": 0.024139,
     "end_time": "2019-11-04T00:02:23.075139",
     "exception": false,
     "start_time": "2019-11-04T00:02:23.051000",
     "status": "completed"
    },
    "tags": []
   },
   "outputs": [
    {
     "name": "stdout",
     "output_type": "stream",
     "text": [
      "0.21483197808265686\n",
      "0.28603214025497437\n",
      "0.3295515477657318\n"
     ]
    }
   ],
   "source": [
    "print(clusters_list[0][key].mean())\n",
    "print(clusters_list[1][key].mean())\n",
    "print(clusters_list[2][key].mean())"
   ]
  },
  {
   "cell_type": "code",
   "execution_count": 9,
   "metadata": {
    "papermill": {
     "duration": 0.017769,
     "end_time": "2019-11-04T00:02:23.101849",
     "exception": false,
     "start_time": "2019-11-04T00:02:23.084080",
     "status": "completed"
    },
    "tags": []
   },
   "outputs": [],
   "source": [
    "# sum_abs,mean_abs,sig_abs,sum_rel,mean_rel,sig_rel,r_xi,r_meanlogr,r_sigma"
   ]
  },
  {
   "cell_type": "code",
   "execution_count": 10,
   "metadata": {
    "papermill": {
     "duration": 0.020563,
     "end_time": "2019-11-04T00:02:23.136248",
     "exception": false,
     "start_time": "2019-11-04T00:02:23.115685",
     "status": "completed"
    },
    "tags": []
   },
   "outputs": [],
   "source": [
    "def plt_w_error(cluster_file,label_):\n",
    "    mean_rel=cluster_file['mean_abs']\n",
    "    sig_rel=cluster_file['sig_abs']\n",
    "    \n",
    "    meanlogr=mean_rel[1]\n",
    "    print(meanlogr)\n",
    "    xi=mean_rel[0]\n",
    "    varxi=sig_rel\n",
    "    \n",
    "    \n",
    "    ax.errorbar(np.exp(meanlogr),-xi,yerr=varxi,label=label_)\n",
    "    ax.set_xscale('log')"
   ]
  },
  {
   "cell_type": "code",
   "execution_count": 11,
   "metadata": {
    "papermill": {
     "duration": 0.78391,
     "end_time": "2019-11-04T00:02:23.931647",
     "exception": false,
     "start_time": "2019-11-04T00:02:23.147737",
     "status": "completed"
    },
    "tags": []
   },
   "outputs": [
    {
     "name": "stdout",
     "output_type": "stream",
     "text": [
      "[-4.25805938 -3.85109645 -3.40484325 -2.90015637 -2.43947387 -1.95157664\n",
      " -1.49243437 -1.02626616 -0.56368212 -0.19756855]\n",
      "[-4.3650783  -3.89831137 -3.40010749 -2.91869459 -2.44808387 -1.96266519\n",
      " -1.49767612 -1.02424197 -0.54091953 -0.17525162]\n",
      "[-4.35462269 -3.87592823 -3.39400349 -2.89295302 -2.43919913 -1.97568419\n",
      " -1.49100319 -1.01855333 -0.5458141  -0.18394611]\n"
     ]
    },
    {
     "data": {
      "image/png": "[encoded data removed]",
      "text/plain": [
       "<Figure size 432x288 with 1 Axes>"
      ]
     },
     "metadata": {
      "needs_background": "light"
     },
     "output_type": "display_data"
    }
   ],
   "source": [
    "fig,ax=plt.subplots()\n",
    "\n",
    "label_list=[\"First\",\"Second\",\"Third\"]\n",
    "\n",
    "for i,cluster_file in enumerate(cluster_list):\n",
    "    plt_w_error(cluster_file,label_list[i])\n",
    "    plt.legend()\n",
    "    plt.title(\"Quantile comparison of {}\".format(key))"
   ]
  },
  {
   "cell_type": "markdown",
   "metadata": {
    "papermill": {
     "duration": 0.010995,
     "end_time": "2019-11-04T00:02:23.955204",
     "exception": false,
     "start_time": "2019-11-04T00:02:23.944209",
     "status": "completed"
    },
    "tags": []
   },
   "source": [
    "# Statistics"
   ]
  },
  {
   "cell_type": "code",
   "execution_count": 12,
   "metadata": {
    "papermill": {
     "duration": 0.020745,
     "end_time": "2019-11-04T00:02:23.986236",
     "exception": false,
     "start_time": "2019-11-04T00:02:23.965491",
     "status": "completed"
    },
    "tags": []
   },
   "outputs": [],
   "source": [
    "def print_data(sum_,mean_):\n",
    "    sum_string=[\"Aggregated xi:\", \"Aggregated meanlogr:\",\"Aggregated npairs:\"]\n",
    "    for i,data in enumerate(sum_):\n",
    "        print(sum_string[i])\n",
    "        print(sum_[i])\n",
    "        print(sep)\n",
    "    mean_string=[\"Mean xi:\", \"Mean meanlogr:\",\"Mean npairs:\"]\n",
    "    for i,data in enumerate(mean_):\n",
    "        print(mean_string[i])\n",
    "        print(mean_[i])\n",
    "        print(sep)"
   ]
  }
 ],
 "metadata": {
  "kernelspec": {
   "display_name": "Python 3",
   "language": "python",
   "name": "python3"
  },
  "language_info": {
   "codemirror_mode": {
    "name": "ipython",
    "version": 3
   },
   "file_extension": ".py",
   "mimetype": "text/x-python",
   "name": "python",
   "nbconvert_exporter": "python",
   "pygments_lexer": "ipython3",
   "version": "3.7.3"
  },
  "papermill": {
   "duration": 7.787602,
   "end_time": "2019-11-04T00:02:24.812132",
   "environment_variables": {},
   "exception": null,
   "input_path": "/home/cz136/project/sa/lib/src/quantile_compare.ipynb",
   "output_path": "/home/cz136/project/sa/lib/output/mcal/all/low_z/z_quantile_mcal_all_low_z.ipynb",
   "parameters": {
    "key": "z",
    "shape_cat": "mcal",
    "vol": "all",
    "z_range": "low_z"
   },
   "start_time": "2019-11-04T00:02:17.024530",
   "version": "1.2.0"
  }
 },
 "nbformat": 4,
 "nbformat_minor": 4
}