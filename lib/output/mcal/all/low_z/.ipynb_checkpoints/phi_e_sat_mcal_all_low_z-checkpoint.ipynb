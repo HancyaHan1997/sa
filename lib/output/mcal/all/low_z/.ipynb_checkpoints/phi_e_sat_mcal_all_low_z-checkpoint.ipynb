{
 "cells": [
  {
   "cell_type": "code",
   "execution_count": 1,
   "metadata": {
    "papermill": {
     "duration": 0.016843,
     "end_time": "2019-10-28T04:47:08.423390",
     "exception": false,
     "start_time": "2019-10-28T04:47:08.406547",
     "status": "completed"
    },
    "tags": [
     "parameters"
    ]
   },
   "outputs": [],
   "source": [
    "shape_cat=\"\"\n",
    "vol=\"\"\n",
    "z_range=\"\""
   ]
  },
  {
   "cell_type": "code",
   "execution_count": 2,
   "metadata": {
    "papermill": {
     "duration": 0.016364,
     "end_time": "2019-10-28T04:47:08.452187",
     "exception": false,
     "start_time": "2019-10-28T04:47:08.435823",
     "status": "completed"
    },
    "tags": [
     "injected-parameters"
    ]
   },
   "outputs": [],
   "source": [
    "# Parameters\n",
    "shape_cat = \"mcal\"\n",
    "vol = \"all\"\n",
    "z_range = \"low_z\"\n"
   ]
  },
  {
   "cell_type": "code",
   "execution_count": 3,
   "metadata": {
    "papermill": {
     "duration": 2.053129,
     "end_time": "2019-10-28T04:47:10.516078",
     "exception": false,
     "start_time": "2019-10-28T04:47:08.462949",
     "status": "completed"
    },
    "tags": []
   },
   "outputs": [],
   "source": [
    "#This header file contains all the common packages\n",
    "%matplotlib inline\n",
    "%run /home/cz136/project/sa/lib/src/header.py $shape_cat $vol $z_range "
   ]
  },
  {
   "cell_type": "code",
   "execution_count": 4,
   "metadata": {
    "papermill": {
     "duration": 0.016796,
     "end_time": "2019-10-28T04:47:10.545412",
     "exception": false,
     "start_time": "2019-10-28T04:47:10.528616",
     "status": "completed"
    },
    "tags": []
   },
   "outputs": [
    {
     "name": "stdout",
     "output_type": "stream",
     "text": [
      "553\n",
      "15377\n"
     ]
    }
   ],
   "source": [
    "print(len(clusters))\n",
    "print(len(shapes))"
   ]
  },
  {
   "cell_type": "code",
   "execution_count": 5,
   "metadata": {
    "papermill": {
     "duration": 0.019298,
     "end_time": "2019-10-28T04:47:10.575725",
     "exception": false,
     "start_time": "2019-10-28T04:47:10.556427",
     "status": "completed"
    },
    "tags": []
   },
   "outputs": [],
   "source": [
    "# Print the numbers of galaxies that needed to be masked\n",
    "\n",
    "assert np.sum(shapes[('All','e1')]==-9999)==0\n",
    "assert np.sum(shapes[('All','e2')]==-9999)==0\n",
    "assert np.sum(shapes['All','flags_select'])==0\n",
    "assert np.sum(shapes[('All','PP')]<=0.55)==0"
   ]
  },
  {
   "cell_type": "code",
   "execution_count": 6,
   "metadata": {
    "papermill": {
     "duration": 0.017115,
     "end_time": "2019-10-28T04:47:10.603819",
     "exception": false,
     "start_time": "2019-10-28T04:47:10.586704",
     "status": "completed"
    },
    "tags": []
   },
   "outputs": [
    {
     "name": "stdout",
     "output_type": "stream",
     "text": [
      "553\n",
      "15377\n"
     ]
    }
   ],
   "source": [
    "#masking\n",
    "print(len(clusters))\n",
    "print(len(shapes))"
   ]
  },
  {
   "cell_type": "markdown",
   "metadata": {
    "papermill": {
     "duration": 0.011179,
     "end_time": "2019-10-28T04:47:10.626036",
     "exception": false,
     "start_time": "2019-10-28T04:47:10.614857",
     "status": "completed"
    },
    "tags": []
   },
   "source": [
    "# Stats of e1,e2"
   ]
  },
  {
   "cell_type": "code",
   "execution_count": 7,
   "metadata": {
    "papermill": {
     "duration": 0.59492,
     "end_time": "2019-10-28T04:47:11.233092",
     "exception": false,
     "start_time": "2019-10-28T04:47:10.638172",
     "status": "completed"
    },
    "tags": []
   },
   "outputs": [
    {
     "data": {
      "text/plain": [
       "count    15377.000000\n",
       "mean        -0.001163\n",
       "std          0.144476\n",
       "min         -0.659677\n",
       "25%         -0.074831\n",
       "50%         -0.000793\n",
       "75%          0.073394\n",
       "max          0.683530\n",
       "Name: (All, e2), dtype: float64"
      ]
     },
     "execution_count": 7,
     "metadata": {},
     "output_type": "execute_result"
    },
    {
     "data": {
      "image/png": "[encoded data removed]",
      "text/plain": [
       "<Figure size 432x288 with 1 Axes>"
      ]
     },
     "metadata": {
      "needs_background": "light"
     },
     "output_type": "display_data"
    }
   ],
   "source": [
    "from matplotlib.colors import LogNorm \n",
    "plt.hist2d(shapes['All','e1'],shapes['All','e2'],bins=500,norm=LogNorm())\n",
    "plt.axis('equal')\n",
    "plt.title(\"2D Histogram of $e_1$ and $e_2$\")\n",
    "pd.Series(shapes['All','e1']).describe()\n",
    "pd.Series(shapes['All','e2']).describe()"
   ]
  },
  {
   "cell_type": "code",
   "execution_count": 8,
   "metadata": {
    "papermill": {
     "duration": 0.427084,
     "end_time": "2019-10-28T04:47:11.673041",
     "exception": false,
     "start_time": "2019-10-28T04:47:11.245957",
     "status": "completed"
    },
    "tags": []
   },
   "outputs": [
    {
     "data": {
      "text/plain": [
       "count    15377.000000\n",
       "mean        -1.055218\n",
       "std        170.258909\n",
       "min     -20097.585018\n",
       "25%         -1.007700\n",
       "50%         -0.007954\n",
       "75%          0.986521\n",
       "max       3224.125134\n",
       "dtype: float64"
      ]
     },
     "execution_count": 8,
     "metadata": {},
     "output_type": "execute_result"
    },
    {
     "data": {
      "image/png": "[encoded data removed]",
      "text/plain": [
       "<Figure size 432x288 with 1 Axes>"
      ]
     },
     "metadata": {
      "needs_background": "light"
     },
     "output_type": "display_data"
    }
   ],
   "source": [
    "#statistics and hisgoram of e2/e1\n",
    "plt.hist(shapes['All','e2']/shapes['All','e1'],bins=np.arange(-10,10,0.1))\n",
    "plt.title(\"Histogram of $e_2$/$e_1$\")\n",
    "pd.Series(shapes['All','e2']/shapes['All','e1']).describe()"
   ]
  },
  {
   "cell_type": "markdown",
   "metadata": {
    "papermill": {
     "duration": 0.012678,
     "end_time": "2019-10-28T04:47:11.699428",
     "exception": false,
     "start_time": "2019-10-28T04:47:11.686750",
     "status": "completed"
    },
    "tags": []
   },
   "source": [
    "# Get phi "
   ]
  },
  {
   "cell_type": "code",
   "execution_count": 9,
   "metadata": {
    "papermill": {
     "duration": 0.017259,
     "end_time": "2019-10-28T04:47:11.729156",
     "exception": false,
     "start_time": "2019-10-28T04:47:11.711897",
     "status": "completed"
    },
    "tags": []
   },
   "outputs": [],
   "source": [
    "def get_std_err_of_mean(np_array):\n",
    "    mean=np_array.mean()\n",
    "    std=np_array.std()\n",
    "    n=len(np_array)\n",
    "    return(std/np.sqrt(n))"
   ]
  },
  {
   "cell_type": "code",
   "execution_count": 10,
   "metadata": {
    "papermill": {
     "duration": 0.016944,
     "end_time": "2019-10-28T04:47:11.758408",
     "exception": false,
     "start_time": "2019-10-28T04:47:11.741464",
     "status": "completed"
    },
    "tags": []
   },
   "outputs": [],
   "source": [
    "phi_1d=shapes[('All','phi')]"
   ]
  },
  {
   "cell_type": "markdown",
   "metadata": {
    "papermill": {
     "duration": 0.012263,
     "end_time": "2019-10-28T04:47:11.782792",
     "exception": false,
     "start_time": "2019-10-28T04:47:11.770529",
     "status": "completed"
    },
    "tags": []
   },
   "source": [
    "## Stats for unweighted"
   ]
  },
  {
   "cell_type": "code",
   "execution_count": 11,
   "metadata": {
    "papermill": {
     "duration": 0.022144,
     "end_time": "2019-10-28T04:47:11.818224",
     "exception": false,
     "start_time": "2019-10-28T04:47:11.796080",
     "status": "completed"
    },
    "tags": []
   },
   "outputs": [
    {
     "name": "stdout",
     "output_type": "stream",
     "text": [
      "Mean:4.530407e+01 \n",
      "StdE:2.091370e-01 \n"
     ]
    }
   ],
   "source": [
    "pd.Series(phi_1d).describe()\n",
    "print(\"Mean:{:05e} \\nStdE:{:05e} \".format(phi_1d.mean(),phi_1d.std()/np.sqrt(len(phi_1d))))"
   ]
  },
  {
   "cell_type": "code",
   "execution_count": 12,
   "metadata": {
    "papermill": {
     "duration": 0.018027,
     "end_time": "2019-10-28T04:47:11.848752",
     "exception": false,
     "start_time": "2019-10-28T04:47:11.830725",
     "status": "completed"
    },
    "tags": []
   },
   "outputs": [],
   "source": [
    "def plt_phi(df):\n",
    "    phi_1d=df[('All','phi')]\n",
    "    plt.hist(phi_1d,bins=9,weights=df[('All','PP')],histtype=\"step\",density=True)\n",
    "    plt.title(\"Histogram of $\\phi_{sat}$ weighted by probability\") \n",
    "    pd.Series(phi_1d).describe()"
   ]
  },
  {
   "cell_type": "code",
   "execution_count": 13,
   "metadata": {
    "papermill": {
     "duration": 0.201008,
     "end_time": "2019-10-28T04:47:12.062442",
     "exception": false,
     "start_time": "2019-10-28T04:47:11.861434",
     "status": "completed"
    },
    "tags": []
   },
   "outputs": [
    {
     "data": {
      "image/png": "[encoded data removed]",
      "text/plain": [
       "<Figure size 432x288 with 1 Axes>"
      ]
     },
     "metadata": {
      "needs_background": "light"
     },
     "output_type": "display_data"
    }
   ],
   "source": [
    "plt_phi(shapes)"
   ]
  },
  {
   "cell_type": "markdown",
   "metadata": {
    "papermill": {
     "duration": 0.01305,
     "end_time": "2019-10-28T04:47:12.089968",
     "exception": false,
     "start_time": "2019-10-28T04:47:12.076918",
     "status": "completed"
    },
    "tags": []
   },
   "source": [
    "# Get e"
   ]
  },
  {
   "cell_type": "markdown",
   "metadata": {
    "papermill": {
     "duration": 0.012724,
     "end_time": "2019-10-28T04:47:12.115705",
     "exception": false,
     "start_time": "2019-10-28T04:47:12.102981",
     "status": "completed"
    },
    "tags": []
   },
   "source": [
    "## Statistics of e1 and e2"
   ]
  },
  {
   "cell_type": "code",
   "execution_count": 14,
   "metadata": {
    "papermill": {
     "duration": 0.023367,
     "end_time": "2019-10-28T04:47:12.152012",
     "exception": false,
     "start_time": "2019-10-28T04:47:12.128645",
     "status": "completed"
    },
    "tags": []
   },
   "outputs": [
    {
     "data": {
      "text/plain": [
       "count    15377.000000\n",
       "mean         0.000464\n",
       "std          0.142475\n",
       "min         -0.838272\n",
       "25%         -0.073868\n",
       "50%         -0.000903\n",
       "75%          0.074467\n",
       "max          0.629636\n",
       "Name: (All, e1), dtype: float64"
      ]
     },
     "execution_count": 14,
     "metadata": {},
     "output_type": "execute_result"
    }
   ],
   "source": [
    "e1=shapes[('All','e1')].to_numpy()\n",
    "shapes[('All','e1')].describe()"
   ]
  },
  {
   "cell_type": "code",
   "execution_count": 15,
   "metadata": {
    "papermill": {
     "duration": 0.022203,
     "end_time": "2019-10-28T04:47:12.187536",
     "exception": false,
     "start_time": "2019-10-28T04:47:12.165333",
     "status": "completed"
    },
    "tags": []
   },
   "outputs": [
    {
     "data": {
      "text/plain": [
       "count    15377.000000\n",
       "mean        -0.001163\n",
       "std          0.144476\n",
       "min         -0.659677\n",
       "25%         -0.074831\n",
       "50%         -0.000793\n",
       "75%          0.073394\n",
       "max          0.683530\n",
       "Name: (All, e2), dtype: float64"
      ]
     },
     "execution_count": 15,
     "metadata": {},
     "output_type": "execute_result"
    }
   ],
   "source": [
    "e2=shapes[('All','e1')].to_numpy()\n",
    "shapes[('All','e2')].describe()"
   ]
  },
  {
   "cell_type": "code",
   "execution_count": 16,
   "metadata": {
    "papermill": {
     "duration": 0.017841,
     "end_time": "2019-10-28T04:47:12.219329",
     "exception": false,
     "start_time": "2019-10-28T04:47:12.201488",
     "status": "completed"
    },
    "tags": []
   },
   "outputs": [],
   "source": [
    "# np.save(\"/home/cz136/project/sa/data/{}/e_array\".format(dir_string),e_list)"
   ]
  },
  {
   "cell_type": "code",
   "execution_count": 17,
   "metadata": {
    "papermill": {
     "duration": 0.017756,
     "end_time": "2019-10-28T04:47:12.249855",
     "exception": false,
     "start_time": "2019-10-28T04:47:12.232099",
     "status": "completed"
    },
    "tags": []
   },
   "outputs": [],
   "source": [
    "e_p_1d=shapes[('All','ep')]\n",
    "e_x_1d=shapes[('All','ex')]"
   ]
  },
  {
   "cell_type": "code",
   "execution_count": 18,
   "metadata": {
    "papermill": {
     "duration": 0.284261,
     "end_time": "2019-10-28T04:47:12.547331",
     "exception": false,
     "start_time": "2019-10-28T04:47:12.263070",
     "status": "completed"
    },
    "tags": []
   },
   "outputs": [
    {
     "name": "stdout",
     "output_type": "stream",
     "text": [
      "mean=-2.300863e-04, std_mean=1.156844e-03\n"
     ]
    },
    {
     "data": {
      "text/plain": [
       "count    15377.000000\n",
       "mean        -0.000230\n",
       "std          0.143453\n",
       "min         -0.754594\n",
       "25%         -0.072114\n",
       "50%          0.001383\n",
       "75%          0.072291\n",
       "max          0.594383\n",
       "Name: (All, ep), dtype: float64"
      ]
     },
     "execution_count": 18,
     "metadata": {},
     "output_type": "execute_result"
    },
    {
     "data": {
      "image/png": "[encoded data removed]",
      "text/plain": [
       "<Figure size 432x288 with 1 Axes>"
      ]
     },
     "metadata": {
      "needs_background": "light"
     },
     "output_type": "display_data"
    }
   ],
   "source": [
    "ax=sns.distplot(e_p_1d,kde=False)\n",
    "ax.set_title(\"Distribution of $e_{+}$\")\n",
    "print (\"mean={:05e}, std_mean={:05e}\".format(e_p_1d.mean(),get_std_err_of_mean(e_p_1d)))\n",
    "pd.Series(e_p_1d).describe()"
   ]
  },
  {
   "cell_type": "code",
   "execution_count": 19,
   "metadata": {
    "papermill": {
     "duration": 0.340502,
     "end_time": "2019-10-28T04:47:12.903224",
     "exception": false,
     "start_time": "2019-10-28T04:47:12.562722",
     "status": "completed"
    },
    "tags": []
   },
   "outputs": [
    {
     "name": "stdout",
     "output_type": "stream",
     "text": [
      "mean=-1.773775e-03, std_mean=1.157210e-03\n"
     ]
    },
    {
     "data": {
      "text/plain": [
       "count    15377.000000\n",
       "mean        -0.001774\n",
       "std          0.143499\n",
       "min         -0.644570\n",
       "25%         -0.075481\n",
       "50%         -0.001099\n",
       "75%          0.071129\n",
       "max          0.676482\n",
       "Name: (All, ex), dtype: float64"
      ]
     },
     "execution_count": 19,
     "metadata": {},
     "output_type": "execute_result"
    },
    {
     "data": {
      "image/png": "[encoded data removed]",
      "text/plain": [
       "<Figure size 432x288 with 1 Axes>"
      ]
     },
     "metadata": {
      "needs_background": "light"
     },
     "output_type": "display_data"
    }
   ],
   "source": [
    "ax=sns.distplot(e_x_1d)\n",
    "ax.set_title(\"Distribution of $e_{x}$\")\n",
    "print (\"mean={:05e}, std_mean={:05e}\".format(e_x_1d.mean(),get_std_err_of_mean(e_x_1d)))\n",
    "pd.Series(e_x_1d).describe()"
   ]
  },
  {
   "cell_type": "markdown",
   "metadata": {
    "papermill": {
     "duration": 0.015235,
     "end_time": "2019-10-28T04:47:12.934761",
     "exception": false,
     "start_time": "2019-10-28T04:47:12.919526",
     "status": "completed"
    },
    "tags": []
   },
   "source": [
    "# Percentile Data"
   ]
  },
  {
   "cell_type": "code",
   "execution_count": 20,
   "metadata": {
    "papermill": {
     "duration": 0.021502,
     "end_time": "2019-10-28T04:47:12.972836",
     "exception": false,
     "start_time": "2019-10-28T04:47:12.951334",
     "status": "completed"
    },
    "tags": []
   },
   "outputs": [],
   "source": [
    "def get_R_percent(lower,upper):\n",
    "    R_lower=shapes[('All','R')].quantile(lower)\n",
    "    R_upper=shapes[('All','R')].quantile(upper)\n",
    "    R_selected=shapes[(shapes[('All','R')]>=R_lower)&(shapes[('All','R')]<=R_upper) ]\n",
    "    return(R_selected)"
   ]
  },
  {
   "cell_type": "code",
   "execution_count": 21,
   "metadata": {
    "papermill": {
     "duration": 0.202553,
     "end_time": "2019-10-28T04:47:13.190899",
     "exception": false,
     "start_time": "2019-10-28T04:47:12.988346",
     "status": "completed"
    },
    "tags": []
   },
   "outputs": [
    {
     "data": {
      "image/png": "[encoded data removed]",
      "text/plain": [
       "<Figure size 432x288 with 1 Axes>"
      ]
     },
     "metadata": {
      "needs_background": "light"
     },
     "output_type": "display_data"
    }
   ],
   "source": [
    "plt_phi(get_R_percent(0,0.1))"
   ]
  },
  {
   "cell_type": "code",
   "execution_count": 22,
   "metadata": {
    "papermill": {
     "duration": 0.199542,
     "end_time": "2019-10-28T04:47:13.407593",
     "exception": false,
     "start_time": "2019-10-28T04:47:13.208051",
     "status": "completed"
    },
    "tags": []
   },
   "outputs": [
    {
     "data": {
      "text/plain": [
       "Text(0.5, 1.0, '$e_+$ for R percentile [0,5%]')"
      ]
     },
     "execution_count": 22,
     "metadata": {},
     "output_type": "execute_result"
    },
    {
     "data": {
      "image/png": "[encoded data removed]",
      "text/plain": [
       "<Figure size 432x288 with 1 Axes>"
      ]
     },
     "metadata": {
      "needs_background": "light"
     },
     "output_type": "display_data"
    }
   ],
   "source": [
    "plt.hist(get_R_percent(0,0.05)[('All','ep')],bins=20,density=True,histtype=\"step\")\n",
    "plt.title(r\"$e_+$ for R percentile [0,5%]\")"
   ]
  },
  {
   "cell_type": "code",
   "execution_count": 23,
   "metadata": {
    "papermill": {
     "duration": 0.027891,
     "end_time": "2019-10-28T04:47:13.451250",
     "exception": false,
     "start_time": "2019-10-28T04:47:13.423359",
     "status": "completed"
    },
    "tags": []
   },
   "outputs": [
    {
     "data": {
      "text/plain": [
       "-0.0027004927499494815"
      ]
     },
     "execution_count": 23,
     "metadata": {},
     "output_type": "execute_result"
    }
   ],
   "source": [
    "get_R_percent(0,0.11)[('All','ep')].mean()"
   ]
  }
 ],
 "metadata": {
  "kernelspec": {
   "display_name": "Python 3",
   "language": "python",
   "name": "python3"
  },
  "language_info": {
   "codemirror_mode": {
    "name": "ipython",
    "version": 3
   },
   "file_extension": ".py",
   "mimetype": "text/x-python",
   "name": "python",
   "nbconvert_exporter": "python",
   "pygments_lexer": "ipython3",
   "version": "3.7.3"
  },
  "papermill": {
   "duration": 6.714874,
   "end_time": "2019-10-28T04:47:13.873794",
   "environment_variables": {},
   "exception": null,
   "input_path": "/home/cz136/project/sa/lib/src/phi_e_sat.ipynb",
   "output_path": "/home/cz136/project/sa/lib/output/mcal/all/low_z/phi_e_sat_mcal_all_low_z.ipynb",
   "parameters": {
    "shape_cat": "mcal",
    "vol": "all",
    "z_range": "low_z"
   },
   "start_time": "2019-10-28T04:47:07.158920",
   "version": "1.2.0"
  }
 },
 "nbformat": 4,
 "nbformat_minor": 4
}