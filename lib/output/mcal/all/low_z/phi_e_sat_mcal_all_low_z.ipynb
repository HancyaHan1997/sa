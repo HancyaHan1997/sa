{
 "cells": [
  {
   "cell_type": "code",
   "execution_count": 1,
   "metadata": {
    "papermill": {
     "duration": 0.026041,
     "end_time": "2019-11-03T17:19:05.470664",
     "exception": false,
     "start_time": "2019-11-03T17:19:05.444623",
     "status": "completed"
    },
    "tags": [
     "parameters"
    ]
   },
   "outputs": [],
   "source": [
    "shape_cat=\"\"\n",
    "vol=\"\"\n",
    "z_range=\"\""
   ]
  },
  {
   "cell_type": "code",
   "execution_count": 2,
   "metadata": {
    "papermill": {
     "duration": 0.024924,
     "end_time": "2019-11-03T17:19:05.512880",
     "exception": false,
     "start_time": "2019-11-03T17:19:05.487956",
     "status": "completed"
    },
    "tags": [
     "injected-parameters"
    ]
   },
   "outputs": [],
   "source": [
    "# Parameters\n",
    "shape_cat = \"mcal\"\n",
    "vol = \"all\"\n",
    "z_range = \"low_z\"\n"
   ]
  },
  {
   "cell_type": "code",
   "execution_count": 3,
   "metadata": {
    "papermill": {
     "duration": 3.673878,
     "end_time": "2019-11-03T17:19:09.200417",
     "exception": false,
     "start_time": "2019-11-03T17:19:05.526539",
     "status": "completed"
    },
    "tags": []
   },
   "outputs": [],
   "source": [
    "#This header file contains all the common packages\n",
    "%matplotlib inline\n",
    "%run /home/cz136/project/sa/lib/src/header.py $shape_cat $vol $z_range "
   ]
  },
  {
   "cell_type": "code",
   "execution_count": 4,
   "metadata": {
    "papermill": {
     "duration": 0.025891,
     "end_time": "2019-11-03T17:19:09.243165",
     "exception": false,
     "start_time": "2019-11-03T17:19:09.217274",
     "status": "completed"
    },
    "tags": []
   },
   "outputs": [
    {
     "name": "stdout",
     "output_type": "stream",
     "text": [
      "553\n",
      "15411\n"
     ]
    }
   ],
   "source": [
    "print(len(clusters))\n",
    "print(len(shapes))"
   ]
  },
  {
   "cell_type": "code",
   "execution_count": 5,
   "metadata": {
    "papermill": {
     "duration": 0.032119,
     "end_time": "2019-11-03T17:19:09.289797",
     "exception": false,
     "start_time": "2019-11-03T17:19:09.257678",
     "status": "completed"
    },
    "tags": []
   },
   "outputs": [],
   "source": [
    "# Print the numbers of galaxies that needed to be masked\n",
    "\n",
    "assert np.sum(shapes[('All','e1')]==-9999)==0\n",
    "assert np.sum(shapes[('All','e2')]==-9999)==0\n",
    "assert np.sum(shapes['All','flags_select'])==0\n",
    "assert np.sum(shapes[('All','PP')]<=0.55)==0"
   ]
  },
  {
   "cell_type": "code",
   "execution_count": 6,
   "metadata": {
    "papermill": {
     "duration": 0.025252,
     "end_time": "2019-11-03T17:19:09.330291",
     "exception": false,
     "start_time": "2019-11-03T17:19:09.305039",
     "status": "completed"
    },
    "tags": []
   },
   "outputs": [
    {
     "name": "stdout",
     "output_type": "stream",
     "text": [
      "553\n",
      "15411\n"
     ]
    }
   ],
   "source": [
    "#masking\n",
    "print(len(clusters))\n",
    "print(len(shapes))"
   ]
  },
  {
   "cell_type": "code",
   "execution_count": 7,
   "metadata": {
    "papermill": {
     "duration": 0.041796,
     "end_time": "2019-11-03T17:19:09.389403",
     "exception": false,
     "start_time": "2019-11-03T17:19:09.347607",
     "status": "completed"
    },
    "tags": []
   },
   "outputs": [],
   "source": [
    "center_ids=clusters[('Alt','Alt1','ID_CENT')]\n",
    "center_mask=~np.in1d(shapes.index,center_ids)\n",
    "shapes=shapes[center_mask]"
   ]
  },
  {
   "cell_type": "markdown",
   "metadata": {
    "papermill": {
     "duration": 0.014371,
     "end_time": "2019-11-03T17:19:09.418241",
     "exception": false,
     "start_time": "2019-11-03T17:19:09.403870",
     "status": "completed"
    },
    "tags": []
   },
   "source": [
    "# Stats of e1,e2"
   ]
  },
  {
   "cell_type": "code",
   "execution_count": 8,
   "metadata": {
    "papermill": {
     "duration": 0.718132,
     "end_time": "2019-11-03T17:19:10.150683",
     "exception": false,
     "start_time": "2019-11-03T17:19:09.432551",
     "status": "completed"
    },
    "tags": []
   },
   "outputs": [
    {
     "data": {
      "text/plain": [
       "count    14858.000000\n",
       "mean        -0.001226\n",
       "std          0.146088\n",
       "min         -0.659677\n",
       "25%         -0.076538\n",
       "50%         -0.000623\n",
       "75%          0.074951\n",
       "max          0.683530\n",
       "Name: (All, e2), dtype: float64"
      ]
     },
     "execution_count": 8,
     "metadata": {},
     "output_type": "execute_result"
    },
    {
     "data": {
      "image/png": "[encoded data removed]",
      "text/plain": [
       "<Figure size 432x288 with 1 Axes>"
      ]
     },
     "metadata": {
      "needs_background": "light"
     },
     "output_type": "display_data"
    }
   ],
   "source": [
    "from matplotlib.colors import LogNorm \n",
    "plt.hist2d(shapes['All','e1'],shapes['All','e2'],bins=500,norm=LogNorm())\n",
    "plt.axis('equal')\n",
    "plt.title(\"2D Histogram of $e_1$ and $e_2$\")\n",
    "pd.Series(shapes['All','e1']).describe()\n",
    "pd.Series(shapes['All','e2']).describe()"
   ]
  },
  {
   "cell_type": "code",
   "execution_count": 9,
   "metadata": {
    "papermill": {
     "duration": 0.608212,
     "end_time": "2019-11-03T17:19:10.776050",
     "exception": false,
     "start_time": "2019-11-03T17:19:10.167838",
     "status": "completed"
    },
    "tags": []
   },
   "outputs": [
    {
     "data": {
      "text/plain": [
       "count    14858.000000\n",
       "mean        -1.108753\n",
       "std        173.189697\n",
       "min     -20097.585018\n",
       "25%         -1.008333\n",
       "50%         -0.006972\n",
       "75%          0.979884\n",
       "max       3224.125134\n",
       "dtype: float64"
      ]
     },
     "execution_count": 9,
     "metadata": {},
     "output_type": "execute_result"
    },
    {
     "data": {
      "image/png": "[encoded data removed]",
      "text/plain": [
       "<Figure size 432x288 with 1 Axes>"
      ]
     },
     "metadata": {
      "needs_background": "light"
     },
     "output_type": "display_data"
    }
   ],
   "source": [
    "#statistics and hisgoram of e2/e1\n",
    "plt.hist(shapes['All','e2']/shapes['All','e1'],bins=np.arange(-10,10,0.1))\n",
    "plt.title(\"Histogram of $e_2$/$e_1$\")\n",
    "pd.Series(shapes['All','e2']/shapes['All','e1']).describe()"
   ]
  },
  {
   "cell_type": "markdown",
   "metadata": {
    "papermill": {
     "duration": 0.016369,
     "end_time": "2019-11-03T17:19:10.810349",
     "exception": false,
     "start_time": "2019-11-03T17:19:10.793980",
     "status": "completed"
    },
    "tags": []
   },
   "source": [
    "# Get phi "
   ]
  },
  {
   "cell_type": "code",
   "execution_count": 10,
   "metadata": {
    "papermill": {
     "duration": 0.02552,
     "end_time": "2019-11-03T17:19:10.851803",
     "exception": false,
     "start_time": "2019-11-03T17:19:10.826283",
     "status": "completed"
    },
    "tags": []
   },
   "outputs": [],
   "source": [
    "def get_std_err_of_mean(np_array):\n",
    "    mean=np_array.mean()\n",
    "    std=np_array.std()\n",
    "    n=len(np_array)\n",
    "    return(std/np.sqrt(n))"
   ]
  },
  {
   "cell_type": "code",
   "execution_count": 11,
   "metadata": {
    "papermill": {
     "duration": 0.026219,
     "end_time": "2019-11-03T17:19:10.893127",
     "exception": false,
     "start_time": "2019-11-03T17:19:10.866908",
     "status": "completed"
    },
    "tags": []
   },
   "outputs": [],
   "source": [
    "phi_1d=shapes[('All','phi')]"
   ]
  },
  {
   "cell_type": "markdown",
   "metadata": {
    "papermill": {
     "duration": 0.016002,
     "end_time": "2019-11-03T17:19:10.926164",
     "exception": false,
     "start_time": "2019-11-03T17:19:10.910162",
     "status": "completed"
    },
    "tags": []
   },
   "source": [
    "## Stats for unweighted"
   ]
  },
  {
   "cell_type": "code",
   "execution_count": 12,
   "metadata": {
    "papermill": {
     "duration": 0.034541,
     "end_time": "2019-11-03T17:19:10.977049",
     "exception": false,
     "start_time": "2019-11-03T17:19:10.942508",
     "status": "completed"
    },
    "tags": []
   },
   "outputs": [
    {
     "name": "stdout",
     "output_type": "stream",
     "text": [
      "Mean:4.529556e+01 \n",
      "StdE:2.128313e-01 \n"
     ]
    }
   ],
   "source": [
    "pd.Series(phi_1d).describe()\n",
    "print(\"Mean:{:05e} \\nStdE:{:05e} \".format(phi_1d.mean(),phi_1d.std()/np.sqrt(len(phi_1d))))"
   ]
  },
  {
   "cell_type": "code",
   "execution_count": 13,
   "metadata": {
    "papermill": {
     "duration": 0.028538,
     "end_time": "2019-11-03T17:19:11.021294",
     "exception": false,
     "start_time": "2019-11-03T17:19:10.992756",
     "status": "completed"
    },
    "tags": []
   },
   "outputs": [],
   "source": [
    "def plt_phi(df):\n",
    "    phi_1d=df[('All','phi')]\n",
    "    plt.hist(phi_1d,bins=9,weights=df[('All','PP')],histtype=\"step\",density=True)\n",
    "    plt.title(\"Histogram of $\\phi_{sat}$ weighted by probability\") \n",
    "    pd.Series(phi_1d).describe()"
   ]
  },
  {
   "cell_type": "code",
   "execution_count": 14,
   "metadata": {
    "papermill": {
     "duration": 0.331455,
     "end_time": "2019-11-03T17:19:11.380839",
     "exception": false,
     "start_time": "2019-11-03T17:19:11.049384",
     "status": "completed"
    },
    "tags": []
   },
   "outputs": [
    {
     "data": {
      "image/png": "[encoded data removed]",
      "text/plain": [
       "<Figure size 432x288 with 1 Axes>"
      ]
     },
     "metadata": {
      "needs_background": "light"
     },
     "output_type": "display_data"
    }
   ],
   "source": [
    "plt_phi(shapes)"
   ]
  },
  {
   "cell_type": "markdown",
   "metadata": {
    "papermill": {
     "duration": 0.015836,
     "end_time": "2019-11-03T17:19:11.418181",
     "exception": false,
     "start_time": "2019-11-03T17:19:11.402345",
     "status": "completed"
    },
    "tags": []
   },
   "source": [
    "# Get e"
   ]
  },
  {
   "cell_type": "markdown",
   "metadata": {
    "papermill": {
     "duration": 0.016738,
     "end_time": "2019-11-03T17:19:11.453624",
     "exception": false,
     "start_time": "2019-11-03T17:19:11.436886",
     "status": "completed"
    },
    "tags": []
   },
   "source": [
    "## Statistics of e1 and e2"
   ]
  },
  {
   "cell_type": "code",
   "execution_count": 15,
   "metadata": {
    "papermill": {
     "duration": 0.038728,
     "end_time": "2019-11-03T17:19:11.508864",
     "exception": false,
     "start_time": "2019-11-03T17:19:11.470136",
     "status": "completed"
    },
    "tags": []
   },
   "outputs": [
    {
     "data": {
      "text/plain": [
       "count    14858.000000\n",
       "mean         0.000282\n",
       "std          0.143922\n",
       "min         -0.838272\n",
       "25%         -0.075267\n",
       "50%         -0.001082\n",
       "75%          0.075647\n",
       "max          0.629636\n",
       "Name: (All, e1), dtype: float64"
      ]
     },
     "execution_count": 15,
     "metadata": {},
     "output_type": "execute_result"
    }
   ],
   "source": [
    "e1=shapes[('All','e1')].to_numpy()\n",
    "shapes[('All','e1')].describe()"
   ]
  },
  {
   "cell_type": "code",
   "execution_count": 16,
   "metadata": {
    "papermill": {
     "duration": 0.039679,
     "end_time": "2019-11-03T17:19:11.571125",
     "exception": false,
     "start_time": "2019-11-03T17:19:11.531446",
     "status": "completed"
    },
    "tags": []
   },
   "outputs": [
    {
     "data": {
      "text/plain": [
       "count    14858.000000\n",
       "mean        -0.001226\n",
       "std          0.146088\n",
       "min         -0.659677\n",
       "25%         -0.076538\n",
       "50%         -0.000623\n",
       "75%          0.074951\n",
       "max          0.683530\n",
       "Name: (All, e2), dtype: float64"
      ]
     },
     "execution_count": 16,
     "metadata": {},
     "output_type": "execute_result"
    }
   ],
   "source": [
    "e2=shapes[('All','e1')].to_numpy()\n",
    "shapes[('All','e2')].describe()"
   ]
  },
  {
   "cell_type": "code",
   "execution_count": 17,
   "metadata": {
    "papermill": {
     "duration": 0.027027,
     "end_time": "2019-11-03T17:19:11.620897",
     "exception": false,
     "start_time": "2019-11-03T17:19:11.593870",
     "status": "completed"
    },
    "tags": []
   },
   "outputs": [],
   "source": [
    "# np.save(\"/home/cz136/project/sa/data/{}/e_array\".format(dir_string),e_list)"
   ]
  },
  {
   "cell_type": "code",
   "execution_count": 18,
   "metadata": {
    "papermill": {
     "duration": 0.027053,
     "end_time": "2019-11-03T17:19:11.664257",
     "exception": false,
     "start_time": "2019-11-03T17:19:11.637204",
     "status": "completed"
    },
    "tags": []
   },
   "outputs": [],
   "source": [
    "e_p_1d=shapes[('All','ep')]\n",
    "e_x_1d=shapes[('All','ex')]"
   ]
  },
  {
   "cell_type": "code",
   "execution_count": 19,
   "metadata": {
    "papermill": {
     "duration": 0.575577,
     "end_time": "2019-11-03T17:19:12.256328",
     "exception": false,
     "start_time": "2019-11-03T17:19:11.680751",
     "status": "completed"
    },
    "tags": []
   },
   "outputs": [
    {
     "name": "stdout",
     "output_type": "stream",
     "text": [
      "mean=8.573779e-05, std_mean=1.188962e-03\n"
     ]
    },
    {
     "data": {
      "text/plain": [
       "count    14858.000000\n",
       "mean         0.000086\n",
       "std          0.144927\n",
       "min         -0.754594\n",
       "25%         -0.073201\n",
       "50%          0.001559\n",
       "75%          0.074429\n",
       "max          0.594383\n",
       "Name: (All, ep), dtype: float64"
      ]
     },
     "execution_count": 19,
     "metadata": {},
     "output_type": "execute_result"
    },
    {
     "data": {
      "image/png": "[encoded data removed]",
      "text/plain": [
       "<Figure size 432x288 with 1 Axes>"
      ]
     },
     "metadata": {
      "needs_background": "light"
     },
     "output_type": "display_data"
    }
   ],
   "source": [
    "ax=sns.distplot(e_p_1d,kde=False)\n",
    "ax.set_title(\"Distribution of $e_{+}$\")\n",
    "print (\"mean={:05e}, std_mean={:05e}\".format(e_p_1d.mean(),get_std_err_of_mean(e_p_1d)))\n",
    "pd.Series(e_p_1d).describe()"
   ]
  },
  {
   "cell_type": "code",
   "execution_count": 20,
   "metadata": {
    "papermill": {
     "duration": 0.441947,
     "end_time": "2019-11-03T17:19:12.717100",
     "exception": false,
     "start_time": "2019-11-03T17:19:12.275153",
     "status": "completed"
    },
    "tags": []
   },
   "outputs": [
    {
     "name": "stdout",
     "output_type": "stream",
     "text": [
      "mean=-1.819211e-03, std_mean=1.190266e-03\n"
     ]
    },
    {
     "data": {
      "text/plain": [
       "count    14858.000000\n",
       "mean        -0.001819\n",
       "std          0.145086\n",
       "min         -0.644570\n",
       "25%         -0.076693\n",
       "50%         -0.001265\n",
       "75%          0.072241\n",
       "max          0.676482\n",
       "Name: (All, ex), dtype: float64"
      ]
     },
     "execution_count": 20,
     "metadata": {},
     "output_type": "execute_result"
    },
    {
     "data": {
      "image/png": "[encoded data removed]",
      "text/plain": [
       "<Figure size 432x288 with 1 Axes>"
      ]
     },
     "metadata": {
      "needs_background": "light"
     },
     "output_type": "display_data"
    }
   ],
   "source": [
    "ax=sns.distplot(e_x_1d)\n",
    "ax.set_title(\"Distribution of $e_{x}$\")\n",
    "print (\"mean={:05e}, std_mean={:05e}\".format(e_x_1d.mean(),get_std_err_of_mean(e_x_1d)))\n",
    "pd.Series(e_x_1d).describe()"
   ]
  },
  {
   "cell_type": "markdown",
   "metadata": {
    "papermill": {
     "duration": 0.017815,
     "end_time": "2019-11-03T17:19:12.752971",
     "exception": false,
     "start_time": "2019-11-03T17:19:12.735156",
     "status": "completed"
    },
    "tags": []
   },
   "source": [
    "# Percentile Data"
   ]
  },
  {
   "cell_type": "code",
   "execution_count": 21,
   "metadata": {
    "papermill": {
     "duration": 0.031523,
     "end_time": "2019-11-03T17:19:12.804735",
     "exception": false,
     "start_time": "2019-11-03T17:19:12.773212",
     "status": "completed"
    },
    "tags": []
   },
   "outputs": [],
   "source": [
    "def get_R_percent(lower,upper):\n",
    "    R_lower=shapes[('All','R')].quantile(lower)\n",
    "    R_upper=shapes[('All','R')].quantile(upper)\n",
    "    R_selected=shapes[(shapes[('All','R')]>=R_lower)&(shapes[('All','R')]<=R_upper) ]\n",
    "    return(R_selected)"
   ]
  },
  {
   "cell_type": "code",
   "execution_count": 22,
   "metadata": {
    "papermill": {
     "duration": 0.331377,
     "end_time": "2019-11-03T17:19:13.156264",
     "exception": false,
     "start_time": "2019-11-03T17:19:12.824887",
     "status": "completed"
    },
    "tags": []
   },
   "outputs": [
    {
     "data": {
      "image/png": "[encoded data removed]",
      "text/plain": [
       "<Figure size 432x288 with 1 Axes>"
      ]
     },
     "metadata": {
      "needs_background": "light"
     },
     "output_type": "display_data"
    }
   ],
   "source": [
    "plt_phi(get_R_percent(0,0.1))"
   ]
  },
  {
   "cell_type": "code",
   "execution_count": 23,
   "metadata": {
    "papermill": {
     "duration": 0.321343,
     "end_time": "2019-11-03T17:19:13.497330",
     "exception": false,
     "start_time": "2019-11-03T17:19:13.175987",
     "status": "completed"
    },
    "tags": []
   },
   "outputs": [
    {
     "data": {
      "text/plain": [
       "Text(0.5, 1.0, '$e_+$ for R percentile [0,5%]')"
      ]
     },
     "execution_count": 23,
     "metadata": {},
     "output_type": "execute_result"
    },
    {
     "data": {
      "image/png": "[encoded data removed]",
      "text/plain": [
       "<Figure size 432x288 with 1 Axes>"
      ]
     },
     "metadata": {
      "needs_background": "light"
     },
     "output_type": "display_data"
    }
   ],
   "source": [
    "plt.hist(get_R_percent(0,0.05)[('All','ep')],bins=20,density=True,histtype=\"step\")\n",
    "plt.title(r\"$e_+$ for R percentile [0,5%]\")"
   ]
  },
  {
   "cell_type": "code",
   "execution_count": 24,
   "metadata": {
    "papermill": {
     "duration": 0.047056,
     "end_time": "2019-11-03T17:19:13.566710",
     "exception": false,
     "start_time": "2019-11-03T17:19:13.519654",
     "status": "completed"
    },
    "tags": []
   },
   "outputs": [
    {
     "data": {
      "text/plain": [
       "0.0006857255970995512"
      ]
     },
     "execution_count": 24,
     "metadata": {},
     "output_type": "execute_result"
    }
   ],
   "source": [
    "get_R_percent(0,0.11)[('All','ep')].mean()"
   ]
  }
 ],
 "metadata": {
  "kernelspec": {
   "display_name": "Python 3",
   "language": "python",
   "name": "python3"
  },
  "language_info": {
   "codemirror_mode": {
    "name": "ipython",
    "version": 3
   },
   "file_extension": ".py",
   "mimetype": "text/x-python",
   "name": "python",
   "nbconvert_exporter": "python",
   "pygments_lexer": "ipython3",
   "version": "3.7.3"
  },
  "papermill": {
   "duration": 11.171253,
   "end_time": "2019-11-03T17:19:14.504156",
   "environment_variables": {},
   "exception": null,
   "input_path": "/home/cz136/project/sa/lib/src/phi_e_sat.ipynb",
   "output_path": "/home/cz136/project/sa/lib/output/mcal/all/low_z/phi_e_sat_mcal_all_low_z.ipynb",
   "parameters": {
    "shape_cat": "mcal",
    "vol": "all",
    "z_range": "low_z"
   },
   "start_time": "2019-11-03T17:19:03.332903",
   "version": "1.2.0"
  }
 },
 "nbformat": 4,
 "nbformat_minor": 4
}