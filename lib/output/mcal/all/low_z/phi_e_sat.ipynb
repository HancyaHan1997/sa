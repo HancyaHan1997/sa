{
 "cells": [
  {
   "cell_type": "code",
   "execution_count": 1,
   "metadata": {
    "papermill": {
     "duration": 0.023589,
     "end_time": "2019-10-22T03:34:39.586692",
     "exception": false,
     "start_time": "2019-10-22T03:34:39.563103",
     "status": "completed"
    },
    "tags": [
     "parameters"
    ]
   },
   "outputs": [],
   "source": [
    "shape_cat=\"\"\n",
    "vol=\"\"\n",
    "z_range=\"\""
   ]
  },
  {
   "cell_type": "code",
   "execution_count": 2,
   "metadata": {
    "papermill": {
     "duration": 0.017879,
     "end_time": "2019-10-22T03:34:39.619293",
     "exception": false,
     "start_time": "2019-10-22T03:34:39.601414",
     "status": "completed"
    },
    "tags": [
     "injected-parameters"
    ]
   },
   "outputs": [],
   "source": [
    "# Parameters\n",
    "shape_cat = \"mcal\"\n",
    "vol = \"all\"\n",
    "z_range = \"low_z\"\n"
   ]
  },
  {
   "cell_type": "code",
   "execution_count": 3,
   "metadata": {
    "papermill": {
     "duration": 2.398777,
     "end_time": "2019-10-22T03:34:42.031053",
     "exception": false,
     "start_time": "2019-10-22T03:34:39.632276",
     "status": "completed"
    },
    "tags": []
   },
   "outputs": [],
   "source": [
    "#This header file contains all the common packages\n",
    "%matplotlib inline\n",
    "%run /home/cz136/project/sa/lib/src/header.py $shape_cat $vol $z_range "
   ]
  },
  {
   "cell_type": "code",
   "execution_count": 4,
   "metadata": {
    "papermill": {
     "duration": 0.018532,
     "end_time": "2019-10-22T03:34:42.064116",
     "exception": false,
     "start_time": "2019-10-22T03:34:42.045584",
     "status": "completed"
    },
    "tags": []
   },
   "outputs": [
    {
     "name": "stdout",
     "output_type": "stream",
     "text": [
      "553\n",
      "15377\n"
     ]
    }
   ],
   "source": [
    "print(len(clusters))\n",
    "print(len(shapes))"
   ]
  },
  {
   "cell_type": "code",
   "execution_count": 5,
   "metadata": {
    "papermill": {
     "duration": 0.06976,
     "end_time": "2019-10-22T03:34:42.146818",
     "exception": false,
     "start_time": "2019-10-22T03:34:42.077058",
     "status": "completed"
    },
    "tags": []
   },
   "outputs": [
    {
     "name": "stdout",
     "output_type": "stream",
     "text": [
      "0\n",
      "0\n",
      "15377\n",
      "0\n"
     ]
    }
   ],
   "source": [
    "# Print the numbers of galaxies that needed to be masked\n",
    "\n",
    "\n",
    "print(np.sum(shapes[('All','e1')]==-9999))\n",
    "print(np.sum(shapes[('All','e2')]==-9999))\n",
    "print(np.sum(shapes['All','flags_select']==0))\n",
    "print(np.sum(shapes[('All','PP')]<=0.55))"
   ]
  },
  {
   "cell_type": "code",
   "execution_count": 6,
   "metadata": {
    "papermill": {
     "duration": 0.018948,
     "end_time": "2019-10-22T03:34:42.180421",
     "exception": false,
     "start_time": "2019-10-22T03:34:42.161473",
     "status": "completed"
    },
    "tags": []
   },
   "outputs": [
    {
     "name": "stdout",
     "output_type": "stream",
     "text": [
      "553\n",
      "15377\n"
     ]
    }
   ],
   "source": [
    "#masking\n",
    "print(len(clusters))\n",
    "print(len(shapes))"
   ]
  },
  {
   "cell_type": "code",
   "execution_count": null,
   "metadata": {
    "papermill": {
     "duration": 0.01346,
     "end_time": "2019-10-22T03:34:42.207962",
     "exception": false,
     "start_time": "2019-10-22T03:34:42.194502",
     "status": "completed"
    },
    "tags": []
   },
   "outputs": [],
   "source": []
  },
  {
   "cell_type": "markdown",
   "metadata": {
    "papermill": {
     "duration": 0.013611,
     "end_time": "2019-10-22T03:34:42.235064",
     "exception": false,
     "start_time": "2019-10-22T03:34:42.221453",
     "status": "completed"
    },
    "tags": []
   },
   "source": [
    "# Stats of e1,e2"
   ]
  },
  {
   "cell_type": "code",
   "execution_count": 7,
   "metadata": {
    "papermill": {
     "duration": 0.561023,
     "end_time": "2019-10-22T03:34:42.809528",
     "exception": false,
     "start_time": "2019-10-22T03:34:42.248505",
     "status": "completed"
    },
    "tags": []
   },
   "outputs": [
    {
     "data": {
      "text/plain": [
       "count    15377.000000\n",
       "mean        -0.001163\n",
       "std          0.144476\n",
       "min         -0.659677\n",
       "25%         -0.074831\n",
       "50%         -0.000793\n",
       "75%          0.073394\n",
       "max          0.683530\n",
       "Name: (All, e2), dtype: float64"
      ]
     },
     "execution_count": 7,
     "metadata": {},
     "output_type": "execute_result"
    },
    {
     "data": {
      "image/png": "[encoded data removed]",
      "text/plain": [
       "<Figure size 432x288 with 1 Axes>"
      ]
     },
     "metadata": {
      "needs_background": "light"
     },
     "output_type": "display_data"
    }
   ],
   "source": [
    "from matplotlib.colors import LogNorm \n",
    "plt.hist2d(shapes['All','e1'],shapes['All','e2'],bins=500,norm=LogNorm())\n",
    "plt.axis('equal')\n",
    "plt.title(\"2D Histogram of $e_1$ and $e_2$\")\n",
    "pd.Series(shapes['All','e1']).describe()\n",
    "pd.Series(shapes['All','e2']).describe()"
   ]
  },
  {
   "cell_type": "code",
   "execution_count": 8,
   "metadata": {
    "papermill": {
     "duration": 0.509673,
     "end_time": "2019-10-22T03:34:43.335225",
     "exception": false,
     "start_time": "2019-10-22T03:34:42.825552",
     "status": "completed"
    },
    "tags": []
   },
   "outputs": [
    {
     "data": {
      "text/plain": [
       "count    15377.000000\n",
       "mean        -1.055218\n",
       "std        170.258909\n",
       "min     -20097.585018\n",
       "25%         -1.007700\n",
       "50%         -0.007954\n",
       "75%          0.986521\n",
       "max       3224.125134\n",
       "dtype: float64"
      ]
     },
     "execution_count": 8,
     "metadata": {},
     "output_type": "execute_result"
    },
    {
     "data": {
      "image/png": "[encoded data removed]",
      "text/plain": [
       "<Figure size 432x288 with 1 Axes>"
      ]
     },
     "metadata": {
      "needs_background": "light"
     },
     "output_type": "display_data"
    }
   ],
   "source": [
    "#statistics and hisgoram of e2/e1\n",
    "plt.hist(shapes['All','e2']/shapes['All','e1'],bins=np.arange(-10,10,0.1))\n",
    "plt.title(\"Histogram of $e_2$/$e_1$\")\n",
    "pd.Series(shapes['All','e2']/shapes['All','e1']).describe()"
   ]
  },
  {
   "cell_type": "markdown",
   "metadata": {
    "papermill": {
     "duration": 0.015276,
     "end_time": "2019-10-22T03:34:43.367914",
     "exception": false,
     "start_time": "2019-10-22T03:34:43.352638",
     "status": "completed"
    },
    "tags": []
   },
   "source": [
    "# Get phi "
   ]
  },
  {
   "cell_type": "code",
   "execution_count": 9,
   "metadata": {
    "papermill": {
     "duration": 0.020877,
     "end_time": "2019-10-22T03:34:43.403981",
     "exception": false,
     "start_time": "2019-10-22T03:34:43.383104",
     "status": "completed"
    },
    "tags": []
   },
   "outputs": [],
   "source": [
    "def get_std_err_of_mean(np_array):\n",
    "    mean=np_array.mean()\n",
    "    std=np_array.std()\n",
    "    n=len(np_array)\n",
    "    return(std/np.sqrt(n))"
   ]
  },
  {
   "cell_type": "code",
   "execution_count": 10,
   "metadata": {
    "papermill": {
     "duration": 0.01957,
     "end_time": "2019-10-22T03:34:43.438371",
     "exception": false,
     "start_time": "2019-10-22T03:34:43.418801",
     "status": "completed"
    },
    "tags": []
   },
   "outputs": [],
   "source": [
    "phi_1d=shapes[('All','phi')]"
   ]
  },
  {
   "cell_type": "markdown",
   "metadata": {
    "papermill": {
     "duration": 0.014566,
     "end_time": "2019-10-22T03:34:43.468734",
     "exception": false,
     "start_time": "2019-10-22T03:34:43.454168",
     "status": "completed"
    },
    "tags": []
   },
   "source": [
    "## Stats for unweighted"
   ]
  },
  {
   "cell_type": "code",
   "execution_count": 11,
   "metadata": {
    "papermill": {
     "duration": 0.023439,
     "end_time": "2019-10-22T03:34:43.507104",
     "exception": false,
     "start_time": "2019-10-22T03:34:43.483665",
     "status": "completed"
    },
    "tags": []
   },
   "outputs": [
    {
     "name": "stdout",
     "output_type": "stream",
     "text": [
      "Mean:4.441295e+01 \n",
      "StdE:2.027180e-01 \n"
     ]
    }
   ],
   "source": [
    "pd.Series(phi_1d).describe()\n",
    "print(\"Mean:{:05e} \\nStdE:{:05e} \".format(phi_1d.mean(),phi_1d.std()/np.sqrt(len(phi_1d))))"
   ]
  },
  {
   "cell_type": "code",
   "execution_count": 12,
   "metadata": {
    "papermill": {
     "duration": 0.320617,
     "end_time": "2019-10-22T03:34:43.843076",
     "exception": false,
     "start_time": "2019-10-22T03:34:43.522459",
     "status": "completed"
    },
    "tags": []
   },
   "outputs": [
    {
     "data": {
      "text/plain": [
       "count    15377.000000\n",
       "mean        44.412949\n",
       "std         25.137844\n",
       "min          0.611293\n",
       "25%         22.897635\n",
       "50%         44.098287\n",
       "75%         67.500000\n",
       "max         89.734250\n",
       "Name: (All, phi), dtype: float64"
      ]
     },
     "execution_count": 12,
     "metadata": {},
     "output_type": "execute_result"
    },
    {
     "data": {
      "image/png": "[encoded data removed]",
      "text/plain": [
       "<Figure size 432x288 with 1 Axes>"
      ]
     },
     "metadata": {
      "needs_background": "light"
     },
     "output_type": "display_data"
    }
   ],
   "source": [
    "BINS=np.arange(0,90,1)\n",
    "ax = sns.distplot(shapes[('All','phi')],bins=BINS,kde=False)\n",
    "ax.set_title(\"Histogram of $\\phi_{sat}$ weighted by probability\") \n",
    "pd.Series(phi_1d).describe()"
   ]
  },
  {
   "cell_type": "markdown",
   "metadata": {
    "papermill": {
     "duration": 0.015683,
     "end_time": "2019-10-22T03:34:43.876154",
     "exception": false,
     "start_time": "2019-10-22T03:34:43.860471",
     "status": "completed"
    },
    "tags": []
   },
   "source": [
    "# Abnormal Analysis"
   ]
  },
  {
   "cell_type": "code",
   "execution_count": 13,
   "metadata": {
    "papermill": {
     "duration": 0.027646,
     "end_time": "2019-10-22T03:34:43.919547",
     "exception": false,
     "start_time": "2019-10-22T03:34:43.891901",
     "status": "completed"
    },
    "tags": []
   },
   "outputs": [],
   "source": [
    "np.sum((shapes[('All','phi')]>=22.4) &(shapes[('All','phi')]<=22.6)) \n",
    "abn_1 = shapes[(shapes[('All','phi')]>=22.4) &(shapes[('All','phi')]<=22.6)]\n",
    "abn_2 = shapes[(shapes[('All','phi')]>67.4) &(shapes[('All','phi')]<=67.6)]"
   ]
  },
  {
   "cell_type": "code",
   "execution_count": 14,
   "metadata": {
    "papermill": {
     "duration": 0.040174,
     "end_time": "2019-10-22T03:34:43.975149",
     "exception": false,
     "start_time": "2019-10-22T03:34:43.934975",
     "status": "completed"
    },
    "tags": []
   },
   "outputs": [],
   "source": [
    "corr_1=abn_1.corr(method='pearson')[('All','phi')]\n",
    "corr_2=abn_2.corr(method='pearson')[('All','phi')]"
   ]
  },
  {
   "cell_type": "code",
   "execution_count": 15,
   "metadata": {
    "papermill": {
     "duration": 0.038047,
     "end_time": "2019-10-22T03:34:44.030125",
     "exception": false,
     "start_time": "2019-10-22T03:34:43.992078",
     "status": "completed"
    },
    "tags": []
   },
   "outputs": [
    {
     "data": {
      "text/html": [
       "<table border=\"1\" class=\"dataframe\">\n",
       "  <thead>\n",
       "    <tr>\n",
       "      <th></th>\n",
       "      <th></th>\n",
       "      <th colspan=\"2\" halign=\"left\">All</th>\n",
       "    </tr>\n",
       "    <tr>\n",
       "      <th></th>\n",
       "      <th></th>\n",
       "      <th>phi</th>\n",
       "      <th>phi</th>\n",
       "    </tr>\n",
       "    <tr>\n",
       "      <th>Band</th>\n",
       "      <th>Data</th>\n",
       "      <th></th>\n",
       "      <th></th>\n",
       "    </tr>\n",
       "  </thead>\n",
       "  <tbody>\n",
       "    <tr>\n",
       "      <th rowspan=\"22\" valign=\"top\">All</th>\n",
       "      <th>MEM_MATCH_ID</th>\n",
       "      <td>0.007721</td>\n",
       "      <td>0.018181</td>\n",
       "    </tr>\n",
       "    <tr>\n",
       "      <th>Z</th>\n",
       "      <td>-0.132171</td>\n",
       "      <td>0.173337</td>\n",
       "    </tr>\n",
       "    <tr>\n",
       "      <th>RA</th>\n",
       "      <td>-0.076781</td>\n",
       "      <td>-0.457702</td>\n",
       "    </tr>\n",
       "    <tr>\n",
       "      <th>DEC</th>\n",
       "      <td>0.032318</td>\n",
       "      <td>0.122089</td>\n",
       "    </tr>\n",
       "    <tr>\n",
       "      <th>R</th>\n",
       "      <td>0.077014</td>\n",
       "      <td>-0.119669</td>\n",
       "    </tr>\n",
       "    <tr>\n",
       "      <th>P</th>\n",
       "      <td>-0.002144</td>\n",
       "      <td>0.032786</td>\n",
       "    </tr>\n",
       "    <tr>\n",
       "      <th>PFREE</th>\n",
       "      <td>0.002004</td>\n",
       "      <td>NaN</td>\n",
       "    </tr>\n",
       "    <tr>\n",
       "      <th>THETA_I</th>\n",
       "      <td>0.007591</td>\n",
       "      <td>0.020874</td>\n",
       "    </tr>\n",
       "    <tr>\n",
       "      <th>THETA_R</th>\n",
       "      <td>-0.160891</td>\n",
       "      <td>0.037489</td>\n",
       "    </tr>\n",
       "    <tr>\n",
       "      <th>REFMAG_FIT</th>\n",
       "      <td>-0.047998</td>\n",
       "      <td>0.086613</td>\n",
       "    </tr>\n",
       "    <tr>\n",
       "      <th>REFMAG_FIT_E</th>\n",
       "      <td>-0.033212</td>\n",
       "      <td>0.087371</td>\n",
       "    </tr>\n",
       "    <tr>\n",
       "      <th>REFMAG</th>\n",
       "      <td>-0.047998</td>\n",
       "      <td>0.086613</td>\n",
       "    </tr>\n",
       "    <tr>\n",
       "      <th>REFMAG_ERR</th>\n",
       "      <td>-0.033212</td>\n",
       "      <td>0.087371</td>\n",
       "    </tr>\n",
       "    <tr>\n",
       "      <th>ZRED</th>\n",
       "      <td>-0.118737</td>\n",
       "      <td>0.170436</td>\n",
       "    </tr>\n",
       "    <tr>\n",
       "      <th>ZRED_E</th>\n",
       "      <td>-0.072527</td>\n",
       "      <td>0.125681</td>\n",
       "    </tr>\n",
       "    <tr>\n",
       "      <th>ZRED2</th>\n",
       "      <td>-0.117462</td>\n",
       "      <td>0.172386</td>\n",
       "    </tr>\n",
       "    <tr>\n",
       "      <th>ZRED2_E</th>\n",
       "      <td>-0.081976</td>\n",
       "      <td>0.114570</td>\n",
       "    </tr>\n",
       "    <tr>\n",
       "      <th>CHISQ</th>\n",
       "      <td>-0.049806</td>\n",
       "      <td>0.039040</td>\n",
       "    </tr>\n",
       "    <tr>\n",
       "      <th>EBV</th>\n",
       "      <td>NaN</td>\n",
       "      <td>NaN</td>\n",
       "    </tr>\n",
       "    <tr>\n",
       "      <th>ZSPEC</th>\n",
       "      <td>NaN</td>\n",
       "      <td>-0.033829</td>\n",
       "    </tr>\n",
       "    <tr>\n",
       "      <th>ZMAG</th>\n",
       "      <td>-0.047998</td>\n",
       "      <td>0.086613</td>\n",
       "    </tr>\n",
       "    <tr>\n",
       "      <th>ZMAG_ERR</th>\n",
       "      <td>-0.033212</td>\n",
       "      <td>0.087371</td>\n",
       "    </tr>\n",
       "    <tr>\n",
       "      <th rowspan=\"2\" valign=\"top\">g</th>\n",
       "      <th>MODEL_MAG</th>\n",
       "      <td>-0.070576</td>\n",
       "      <td>0.114073</td>\n",
       "    </tr>\n",
       "    <tr>\n",
       "      <th>MODEL_MAGERR</th>\n",
       "      <td>-0.035976</td>\n",
       "      <td>0.090021</td>\n",
       "    </tr>\n",
       "    <tr>\n",
       "      <th rowspan=\"2\" valign=\"top\">r</th>\n",
       "      <th>MODEL_MAG</th>\n",
       "      <td>-0.053159</td>\n",
       "      <td>0.091843</td>\n",
       "    </tr>\n",
       "    <tr>\n",
       "      <th>MODEL_MAGERR</th>\n",
       "      <td>-0.030375</td>\n",
       "      <td>0.099307</td>\n",
       "    </tr>\n",
       "    <tr>\n",
       "      <th rowspan=\"2\" valign=\"top\">i</th>\n",
       "      <th>MODEL_MAG</th>\n",
       "      <td>-0.048741</td>\n",
       "      <td>0.082753</td>\n",
       "    </tr>\n",
       "    <tr>\n",
       "      <th>MODEL_MAGERR</th>\n",
       "      <td>-0.031813</td>\n",
       "      <td>0.067482</td>\n",
       "    </tr>\n",
       "    <tr>\n",
       "      <th rowspan=\"2\" valign=\"top\">z</th>\n",
       "      <th>MODEL_MAG</th>\n",
       "      <td>-0.047998</td>\n",
       "      <td>0.086613</td>\n",
       "    </tr>\n",
       "    <tr>\n",
       "      <th>MODEL_MAGERR</th>\n",
       "      <td>-0.033212</td>\n",
       "      <td>0.087371</td>\n",
       "    </tr>\n",
       "    <tr>\n",
       "      <th rowspan=\"87\" valign=\"top\">All</th>\n",
       "      <th>flags</th>\n",
       "      <td>NaN</td>\n",
       "      <td>NaN</td>\n",
       "    </tr>\n",
       "    <tr>\n",
       "      <th>mask_frac</th>\n",
       "      <td>-0.005565</td>\n",
       "      <td>0.060354</td>\n",
       "    </tr>\n",
       "    <tr>\n",
       "      <th>psf_e1</th>\n",
       "      <td>0.012730</td>\n",
       "      <td>-0.004109</td>\n",
       "    </tr>\n",
       "    <tr>\n",
       "      <th>psf_e2</th>\n",
       "      <td>0.011786</td>\n",
       "      <td>0.159649</td>\n",
       "    </tr>\n",
       "    <tr>\n",
       "      <th>psf_size</th>\n",
       "      <td>-0.046442</td>\n",
       "      <td>0.247729</td>\n",
       "    </tr>\n",
       "    <tr>\n",
       "      <th>mcal_psf_e1</th>\n",
       "      <td>-0.018082</td>\n",
       "      <td>-0.269017</td>\n",
       "    </tr>\n",
       "    <tr>\n",
       "      <th>mcal_psf_e2</th>\n",
       "      <td>0.052979</td>\n",
       "      <td>-0.109937</td>\n",
       "    </tr>\n",
       "    <tr>\n",
       "      <th>mcal_psf_size</th>\n",
       "      <td>-0.054401</td>\n",
       "      <td>0.248670</td>\n",
       "    </tr>\n",
       "    <tr>\n",
       "      <th>e1</th>\n",
       "      <td>0.014117</td>\n",
       "      <td>-0.089493</td>\n",
       "    </tr>\n",
       "    <tr>\n",
       "      <th>e1_1p</th>\n",
       "      <td>0.014350</td>\n",
       "      <td>-0.089743</td>\n",
       "    </tr>\n",
       "    <tr>\n",
       "      <th>e1_1m</th>\n",
       "      <td>0.013904</td>\n",
       "      <td>-0.088114</td>\n",
       "    </tr>\n",
       "    <tr>\n",
       "      <th>e1_2p</th>\n",
       "      <td>0.014080</td>\n",
       "      <td>-0.090009</td>\n",
       "    </tr>\n",
       "    <tr>\n",
       "      <th>e1_2m</th>\n",
       "      <td>0.014236</td>\n",
       "      <td>-0.087707</td>\n",
       "    </tr>\n",
       "    <tr>\n",
       "      <th>e2</th>\n",
       "      <td>0.052508</td>\n",
       "      <td>-0.058916</td>\n",
       "    </tr>\n",
       "    <tr>\n",
       "      <th>e2_1p</th>\n",
       "      <td>0.052495</td>\n",
       "      <td>-0.058674</td>\n",
       "    </tr>\n",
       "    <tr>\n",
       "      <th>e2_1m</th>\n",
       "      <td>0.052549</td>\n",
       "      <td>-0.057558</td>\n",
       "    </tr>\n",
       "    <tr>\n",
       "      <th>e2_2p</th>\n",
       "      <td>0.052400</td>\n",
       "      <td>-0.058397</td>\n",
       "    </tr>\n",
       "    <tr>\n",
       "      <th>e2_2m</th>\n",
       "      <td>0.052522</td>\n",
       "      <td>-0.058256</td>\n",
       "    </tr>\n",
       "    <tr>\n",
       "      <th>size</th>\n",
       "      <td>-0.007492</td>\n",
       "      <td>-0.013064</td>\n",
       "    </tr>\n",
       "    <tr>\n",
       "      <th>size_1p</th>\n",
       "      <td>-0.007452</td>\n",
       "      <td>-0.012948</td>\n",
       "    </tr>\n",
       "    <tr>\n",
       "      <th>size_1m</th>\n",
       "      <td>-0.007406</td>\n",
       "      <td>-0.013572</td>\n",
       "    </tr>\n",
       "    <tr>\n",
       "      <th>size_2p</th>\n",
       "      <td>-0.007648</td>\n",
       "      <td>-0.013208</td>\n",
       "    </tr>\n",
       "    <tr>\n",
       "      <th>size_2m</th>\n",
       "      <td>-0.007466</td>\n",
       "      <td>-0.013298</td>\n",
       "    </tr>\n",
       "    <tr>\n",
       "      <th>size_err</th>\n",
       "      <td>-0.029663</td>\n",
       "      <td>0.058938</td>\n",
       "    </tr>\n",
       "    <tr>\n",
       "      <th>size_err_1p</th>\n",
       "      <td>-0.028758</td>\n",
       "      <td>0.047079</td>\n",
       "    </tr>\n",
       "    <tr>\n",
       "      <th>size_err_1m</th>\n",
       "      <td>-0.025677</td>\n",
       "      <td>0.052186</td>\n",
       "    </tr>\n",
       "    <tr>\n",
       "      <th>size_err_2p</th>\n",
       "      <td>-0.028788</td>\n",
       "      <td>0.035391</td>\n",
       "    </tr>\n",
       "    <tr>\n",
       "      <th>size_err_2m</th>\n",
       "      <td>-0.029982</td>\n",
       "      <td>0.013763</td>\n",
       "    </tr>\n",
       "    <tr>\n",
       "      <th>snr</th>\n",
       "      <td>0.093372</td>\n",
       "      <td>-0.073025</td>\n",
       "    </tr>\n",
       "    <tr>\n",
       "      <th>snr_1p</th>\n",
       "      <td>0.093378</td>\n",
       "      <td>-0.073003</td>\n",
       "    </tr>\n",
       "    <tr>\n",
       "      <th>snr_1m</th>\n",
       "      <td>0.093377</td>\n",
       "      <td>-0.073080</td>\n",
       "    </tr>\n",
       "    <tr>\n",
       "      <th>snr_2p</th>\n",
       "      <td>0.093331</td>\n",
       "      <td>-0.073010</td>\n",
       "    </tr>\n",
       "    <tr>\n",
       "      <th>snr_2m</th>\n",
       "      <td>0.093412</td>\n",
       "      <td>-0.073066</td>\n",
       "    </tr>\n",
       "    <tr>\n",
       "      <th>covmat_0_0</th>\n",
       "      <td>-0.007123</td>\n",
       "      <td>0.042936</td>\n",
       "    </tr>\n",
       "    <tr>\n",
       "      <th>covmat_0_0_1p</th>\n",
       "      <td>-0.004942</td>\n",
       "      <td>0.040545</td>\n",
       "    </tr>\n",
       "    <tr>\n",
       "      <th>covmat_0_0_1m</th>\n",
       "      <td>-0.004043</td>\n",
       "      <td>0.045624</td>\n",
       "    </tr>\n",
       "    <tr>\n",
       "      <th>covmat_0_0_2p</th>\n",
       "      <td>-0.006457</td>\n",
       "      <td>0.011298</td>\n",
       "    </tr>\n",
       "    <tr>\n",
       "      <th>covmat_0_0_2m</th>\n",
       "      <td>-0.006226</td>\n",
       "      <td>-0.006419</td>\n",
       "    </tr>\n",
       "    <tr>\n",
       "      <th>covmat_0_1</th>\n",
       "      <td>-0.001633</td>\n",
       "      <td>0.121026</td>\n",
       "    </tr>\n",
       "    <tr>\n",
       "      <th>covmat_0_1_1p</th>\n",
       "      <td>-0.001735</td>\n",
       "      <td>0.108976</td>\n",
       "    </tr>\n",
       "    <tr>\n",
       "      <th>covmat_0_1_1m</th>\n",
       "      <td>-0.001923</td>\n",
       "      <td>0.118844</td>\n",
       "    </tr>\n",
       "    <tr>\n",
       "      <th>covmat_0_1_2p</th>\n",
       "      <td>0.002667</td>\n",
       "      <td>0.107313</td>\n",
       "    </tr>\n",
       "    <tr>\n",
       "      <th>covmat_0_1_2m</th>\n",
       "      <td>-0.001661</td>\n",
       "      <td>0.010703</td>\n",
       "    </tr>\n",
       "    <tr>\n",
       "      <th>covmat_1_1</th>\n",
       "      <td>-0.005697</td>\n",
       "      <td>0.038478</td>\n",
       "    </tr>\n",
       "    <tr>\n",
       "      <th>covmat_1_1_1p</th>\n",
       "      <td>-0.004090</td>\n",
       "      <td>0.035959</td>\n",
       "    </tr>\n",
       "    <tr>\n",
       "      <th>covmat_1_1_1m</th>\n",
       "      <td>-0.003477</td>\n",
       "      <td>0.041119</td>\n",
       "    </tr>\n",
       "    <tr>\n",
       "      <th>covmat_1_1_2p</th>\n",
       "      <td>-0.005057</td>\n",
       "      <td>0.010435</td>\n",
       "    </tr>\n",
       "    <tr>\n",
       "      <th>covmat_1_1_2m</th>\n",
       "      <td>-0.005090</td>\n",
       "      <td>-0.006616</td>\n",
       "    </tr>\n",
       "    <tr>\n",
       "      <th>flux_r</th>\n",
       "      <td>0.055774</td>\n",
       "      <td>-0.069082</td>\n",
       "    </tr>\n",
       "    <tr>\n",
       "      <th>flux_r_1p</th>\n",
       "      <td>0.055803</td>\n",
       "      <td>-0.069028</td>\n",
       "    </tr>\n",
       "    <tr>\n",
       "      <th>flux_r_1m</th>\n",
       "      <td>0.055818</td>\n",
       "      <td>-0.069176</td>\n",
       "    </tr>\n",
       "    <tr>\n",
       "      <th>flux_r_2p</th>\n",
       "      <td>0.055650</td>\n",
       "      <td>-0.069015</td>\n",
       "    </tr>\n",
       "    <tr>\n",
       "      <th>flux_r_2m</th>\n",
       "      <td>0.055820</td>\n",
       "      <td>-0.069171</td>\n",
       "    </tr>\n",
       "    <tr>\n",
       "      <th>flux_err_r</th>\n",
       "      <td>0.019052</td>\n",
       "      <td>-0.091186</td>\n",
       "    </tr>\n",
       "    <tr>\n",
       "      <th>flux_i</th>\n",
       "      <td>0.044025</td>\n",
       "      <td>-0.063412</td>\n",
       "    </tr>\n",
       "    <tr>\n",
       "      <th>flux_i_1p</th>\n",
       "      <td>0.044049</td>\n",
       "      <td>-0.063340</td>\n",
       "    </tr>\n",
       "    <tr>\n",
       "      <th>flux_i_1m</th>\n",
       "      <td>0.044055</td>\n",
       "      <td>-0.063470</td>\n",
       "    </tr>\n",
       "    <tr>\n",
       "      <th>flux_i_2p</th>\n",
       "      <td>0.043891</td>\n",
       "      <td>-0.063358</td>\n",
       "    </tr>\n",
       "    <tr>\n",
       "      <th>flux_i_2m</th>\n",
       "      <td>0.044085</td>\n",
       "      <td>-0.063495</td>\n",
       "    </tr>\n",
       "    <tr>\n",
       "      <th>flux_err_i</th>\n",
       "      <td>0.015695</td>\n",
       "      <td>-0.102080</td>\n",
       "    </tr>\n",
       "    <tr>\n",
       "      <th>flux_z</th>\n",
       "      <td>0.042410</td>\n",
       "      <td>-0.066792</td>\n",
       "    </tr>\n",
       "    <tr>\n",
       "      <th>flux_z_1p</th>\n",
       "      <td>0.042426</td>\n",
       "      <td>-0.066706</td>\n",
       "    </tr>\n",
       "    <tr>\n",
       "      <th>flux_z_1m</th>\n",
       "      <td>0.042448</td>\n",
       "      <td>-0.066866</td>\n",
       "    </tr>\n",
       "    <tr>\n",
       "      <th>flux_z_2p</th>\n",
       "      <td>0.042308</td>\n",
       "      <td>-0.066698</td>\n",
       "    </tr>\n",
       "    <tr>\n",
       "      <th>flux_z_2m</th>\n",
       "      <td>0.042442</td>\n",
       "      <td>-0.066881</td>\n",
       "    </tr>\n",
       "    <tr>\n",
       "      <th>flux_err_z</th>\n",
       "      <td>0.017749</td>\n",
       "      <td>-0.088912</td>\n",
       "    </tr>\n",
       "    <tr>\n",
       "      <th>R11</th>\n",
       "      <td>0.026655</td>\n",
       "      <td>-0.085382</td>\n",
       "    </tr>\n",
       "    <tr>\n",
       "      <th>R12</th>\n",
       "      <td>-0.007232</td>\n",
       "      <td>-0.192434</td>\n",
       "    </tr>\n",
       "    <tr>\n",
       "      <th>R21</th>\n",
       "      <td>-0.006393</td>\n",
       "      <td>-0.070811</td>\n",
       "    </tr>\n",
       "    <tr>\n",
       "      <th>R22</th>\n",
       "      <td>-0.006147</td>\n",
       "      <td>-0.011386</td>\n",
       "    </tr>\n",
       "    <tr>\n",
       "      <th>region</th>\n",
       "      <td>NaN</td>\n",
       "      <td>NaN</td>\n",
       "    </tr>\n",
       "    <tr>\n",
       "      <th>ra</th>\n",
       "      <td>-0.076781</td>\n",
       "      <td>-0.457702</td>\n",
       "    </tr>\n",
       "    <tr>\n",
       "      <th>dec</th>\n",
       "      <td>0.032318</td>\n",
       "      <td>0.122089</td>\n",
       "    </tr>\n",
       "    <tr>\n",
       "      <th>flags_select</th>\n",
       "      <td>NaN</td>\n",
       "      <td>NaN</td>\n",
       "    </tr>\n",
       "    <tr>\n",
       "      <th>flags_select_1p</th>\n",
       "      <td>NaN</td>\n",
       "      <td>NaN</td>\n",
       "    </tr>\n",
       "    <tr>\n",
       "      <th>flags_select_1m</th>\n",
       "      <td>NaN</td>\n",
       "      <td>NaN</td>\n",
       "    </tr>\n",
       "    <tr>\n",
       "      <th>flags_select_2p</th>\n",
       "      <td>NaN</td>\n",
       "      <td>NaN</td>\n",
       "    </tr>\n",
       "    <tr>\n",
       "      <th>flags_select_2m</th>\n",
       "      <td>NaN</td>\n",
       "      <td>NaN</td>\n",
       "    </tr>\n",
       "    <tr>\n",
       "      <th>PP</th>\n",
       "      <td>-0.002111</td>\n",
       "      <td>0.032786</td>\n",
       "    </tr>\n",
       "    <tr>\n",
       "      <th>Theta_cen</th>\n",
       "      <td>0.031476</td>\n",
       "      <td>-0.086901</td>\n",
       "    </tr>\n",
       "    <tr>\n",
       "      <th>Theta_sat</th>\n",
       "      <td>-0.046073</td>\n",
       "      <td>0.145539</td>\n",
       "    </tr>\n",
       "    <tr>\n",
       "      <th>angR</th>\n",
       "      <td>-0.146375</td>\n",
       "      <td>0.167104</td>\n",
       "    </tr>\n",
       "    <tr>\n",
       "      <th>phi</th>\n",
       "      <td>1.000000</td>\n",
       "      <td>1.000000</td>\n",
       "    </tr>\n",
       "    <tr>\n",
       "      <th>ep</th>\n",
       "      <td>-0.018894</td>\n",
       "      <td>0.020229</td>\n",
       "    </tr>\n",
       "    <tr>\n",
       "      <th>ex</th>\n",
       "      <td>0.049456</td>\n",
       "      <td>-0.102692</td>\n",
       "    </tr>\n",
       "    <tr>\n",
       "      <th>normLR</th>\n",
       "      <td>-0.135221</td>\n",
       "      <td>0.174926</td>\n",
       "    </tr>\n",
       "    <tr>\n",
       "      <th>R_LAMBDA</th>\n",
       "      <td>-0.034605</td>\n",
       "      <td>-0.027469</td>\n",
       "    </tr>\n",
       "  </tbody>\n",
       "</table>"
      ],
      "text/plain": [
       "<IPython.core.display.HTML object>"
      ]
     },
     "metadata": {},
     "output_type": "display_data"
    }
   ],
   "source": [
    "display(HTML((pd.concat([pd.DataFrame(corr_1),pd.DataFrame(corr_2)],axis=1)).to_html()))\n",
    "# display(corr_2.to_html())"
   ]
  },
  {
   "cell_type": "code",
   "execution_count": 16,
   "metadata": {
    "papermill": {
     "duration": 0.219002,
     "end_time": "2019-10-22T03:34:44.273033",
     "exception": false,
     "start_time": "2019-10-22T03:34:44.054031",
     "status": "completed"
    },
    "tags": []
   },
   "outputs": [
    {
     "data": {
      "text/plain": [
       "<matplotlib.axes._subplots.AxesSubplot at 0x7ff09c127be0>"
      ]
     },
     "execution_count": 16,
     "metadata": {},
     "output_type": "execute_result"
    },
    {
     "data": {
      "image/png": "[encoded data removed]",
      "text/plain": [
       "<Figure size 432x288 with 1 Axes>"
      ]
     },
     "metadata": {
      "needs_background": "light"
     },
     "output_type": "display_data"
    }
   ],
   "source": [
    "abn_1[('All','RA')].hist()\n",
    "#RA of objects with ϕ=22.5"
   ]
  },
  {
   "cell_type": "code",
   "execution_count": 17,
   "metadata": {
    "papermill": {
     "duration": 0.218031,
     "end_time": "2019-10-22T03:34:44.512191",
     "exception": false,
     "start_time": "2019-10-22T03:34:44.294160",
     "status": "completed"
    },
    "tags": []
   },
   "outputs": [
    {
     "data": {
      "text/plain": [
       "<matplotlib.axes._subplots.AxesSubplot at 0x7ff09c046668>"
      ]
     },
     "execution_count": 17,
     "metadata": {},
     "output_type": "execute_result"
    },
    {
     "data": {
      "image/png": "[encoded data removed]",
      "text/plain": [
       "<Figure size 432x288 with 1 Axes>"
      ]
     },
     "metadata": {
      "needs_background": "light"
     },
     "output_type": "display_data"
    }
   ],
   "source": [
    "abn_2[('All','RA')].hist()\n",
    "#RA of objects with ϕ=67.5"
   ]
  },
  {
   "cell_type": "code",
   "execution_count": 18,
   "metadata": {
    "papermill": {
     "duration": 0.223463,
     "end_time": "2019-10-22T03:34:44.759280",
     "exception": false,
     "start_time": "2019-10-22T03:34:44.535817",
     "status": "completed"
    },
    "tags": []
   },
   "outputs": [
    {
     "data": {
      "text/plain": [
       "<matplotlib.axes._subplots.AxesSubplot at 0x7ff09c07b940>"
      ]
     },
     "execution_count": 18,
     "metadata": {},
     "output_type": "execute_result"
    },
    {
     "data": {
      "image/png": "[encoded data removed]",
      "text/plain": [
       "<Figure size 432x288 with 1 Axes>"
      ]
     },
     "metadata": {
      "needs_background": "light"
     },
     "output_type": "display_data"
    }
   ],
   "source": [
    "shapes[('All','RA')].hist()\n",
    "#RA of all objects"
   ]
  },
  {
   "cell_type": "code",
   "execution_count": 19,
   "metadata": {
    "papermill": {
     "duration": 0.855145,
     "end_time": "2019-10-22T03:34:45.634592",
     "exception": false,
     "start_time": "2019-10-22T03:34:44.779447",
     "status": "completed"
    },
    "tags": []
   },
   "outputs": [
    {
     "data": {
      "image/png": "[encoded data removed]",
      "text/plain": [
       "<Figure size 432x288 with 1 Axes>"
      ]
     },
     "metadata": {
      "needs_background": "light"
     },
     "output_type": "display_data"
    }
   ],
   "source": [
    "abn_1_Coor=SkyCoord(abn_1['All','RA'],abn_1['All','DEC'],unit=u.deg)\n",
    "abn_2_Coor=SkyCoord(abn_2['All','RA'],abn_2['All','DEC'],unit=u.deg)\n",
    "shape_Coor=SkyCoord(shapes['All','RA'],shapes['All','DEC'],unit=u.deg)\n",
    "\n",
    "\n",
    "plt.figure()\n",
    "plt.subplot(111, projection=\"mollweide\")\n",
    "plt.title(\"Mollweide\")\n",
    "plt.grid(True)\n",
    "plt.scatter(shape_Coor.ra.radian, shape_Coor.dec.radian,color='y')\n",
    "plt.scatter(abn_1_Coor.ra.radian, abn_1_Coor.dec.radian,color='r')\n",
    "plt.scatter(abn_2_Coor.ra.radian, abn_2_Coor.dec.radian,color='m')\n",
    "plt.show()"
   ]
  },
  {
   "cell_type": "code",
   "execution_count": 20,
   "metadata": {
    "papermill": {
     "duration": 0.024088,
     "end_time": "2019-10-22T03:34:45.679960",
     "exception": false,
     "start_time": "2019-10-22T03:34:45.655872",
     "status": "completed"
    },
    "tags": []
   },
   "outputs": [],
   "source": [
    "# np.save(\"/home/cz136/project/sa/data/im3_225_id.npy\",abn_1.index.to_numpy())\n",
    "# np.save(\"/home/cz136/project/sa/data/im3_675_id.npy\",abn_2.index.to_numpy())\n",
    "# np.save(\"/home/cz136/project/sa/data/im3_225_ra.npy\",abn_1[('All','ra')].to_numpy())\n",
    "# np.save(\"/home/cz136/project/sa/data/im3_225_dec.npy\",abn_1[('All','dec')].to_numpy())\n",
    "# np.save(\"/home/cz136/project/sa/data/im3_675_ra.npy\",abn_2[('All','ra')].to_numpy())\n",
    "# np.save(\"/home/cz136/project/sa/data/im3_675_dec.npy\",abn_2[('All','dec')].to_numpy())"
   ]
  },
  {
   "cell_type": "markdown",
   "metadata": {
    "papermill": {
     "duration": 0.019271,
     "end_time": "2019-10-22T03:34:45.718302",
     "exception": false,
     "start_time": "2019-10-22T03:34:45.699031",
     "status": "completed"
    },
    "tags": []
   },
   "source": [
    "# Analysis around 22.5 and 67.5"
   ]
  },
  {
   "cell_type": "code",
   "execution_count": 21,
   "metadata": {
    "papermill": {
     "duration": 0.025772,
     "end_time": "2019-10-22T03:34:45.763332",
     "exception": false,
     "start_time": "2019-10-22T03:34:45.737560",
     "status": "completed"
    },
    "tags": []
   },
   "outputs": [
    {
     "name": "stdout",
     "output_type": "stream",
     "text": [
      "[22 67 48 41 25 23 68 76 46 44  8  7 29  2 35 42 83 43 71  3 73 80 59 45\n",
      " 84 69 75 52 31  0 55 24 51 53 77 40 47 70 27 16 79 82 63 10 11 54 62 61\n",
      " 38  6 56 32 13 72 74 37 15 28 17 50 34 33 26 14 36 86 19 87 20 12  1  5\n",
      " 85 88 64 49 58 81  9 39 57 21 30 18 60 78  4 66 65]\n",
      "[736 429 337 332 317 302 276 272 269 269 269 257 254 246 245 241 238 229\n",
      " 228 226 224 221 214 213 209 209 208 207 200 200 194 186 179 176 176 176\n",
      " 174 173 166 165 163 163 161 157 154 150 148 147 143 143 141 139 137 137\n",
      " 136 129 125 124 123 120 120 112 111 111 109 106 105 104 104 104 102  98\n",
      "  98  98  96  95  94  94  91  88  84  83  82  75  71  59  37  26  18]\n"
     ]
    }
   ],
   "source": [
    "#Print out the most crowded bins\n",
    "\n",
    "phi_count=np.histogram(phi_1d,bins=BINS)\n",
    "sort=np.argsort(-phi_count[0])\n",
    "print(phi_count[1][sort])\n",
    "print(phi_count[0][sort])"
   ]
  },
  {
   "cell_type": "code",
   "execution_count": 22,
   "metadata": {
    "papermill": {
     "duration": 0.251651,
     "end_time": "2019-10-22T03:34:46.035519",
     "exception": false,
     "start_time": "2019-10-22T03:34:45.783868",
     "status": "completed"
    },
    "tags": []
   },
   "outputs": [
    {
     "data": {
      "text/plain": [
       "count    736.000000\n",
       "mean      22.516997\n",
       "std        0.171858\n",
       "min       22.031074\n",
       "25%       22.500000\n",
       "50%       22.500000\n",
       "75%       22.500000\n",
       "max       22.898874\n",
       "Name: (All, phi), dtype: float64"
      ]
     },
     "execution_count": 22,
     "metadata": {},
     "output_type": "execute_result"
    },
    {
     "data": {
      "image/png": "[encoded data removed]",
      "text/plain": [
       "<Figure size 432x288 with 1 Axes>"
      ]
     },
     "metadata": {
      "needs_background": "light"
     },
     "output_type": "display_data"
    }
   ],
   "source": [
    "#Statistics around 22.5\n",
    "first_cluster_left=np.sum(phi_count[0][0:22])\n",
    "first_length=phi_count[0][sort][0]\n",
    "first_cluster=phi_1d[first_cluster_left:first_cluster_left+first_length]\n",
    "ax = sns.distplot(first_cluster,kde=False)\n",
    "ax.set_title(\"$\\phi_{sat}$ Distribution Around 22.5 $\\degree$\")\n",
    "pd.Series(first_cluster).describe()"
   ]
  },
  {
   "cell_type": "code",
   "execution_count": 23,
   "metadata": {
    "papermill": {
     "duration": 0.264032,
     "end_time": "2019-10-22T03:34:46.320412",
     "exception": false,
     "start_time": "2019-10-22T03:34:46.056380",
     "status": "completed"
    },
    "tags": []
   },
   "outputs": [
    {
     "data": {
      "text/plain": [
       "count    736.000000\n",
       "mean      67.893840\n",
       "std        0.474960\n",
       "min       67.267599\n",
       "25%       67.500000\n",
       "50%       67.710294\n",
       "75%       68.123311\n",
       "max       69.175655\n",
       "Name: (All, phi), dtype: float64"
      ]
     },
     "execution_count": 23,
     "metadata": {},
     "output_type": "execute_result"
    },
    {
     "data": {
      "image/png": "[encoded data removed]",
      "text/plain": [
       "<Figure size 432x288 with 1 Axes>"
      ]
     },
     "metadata": {
      "needs_background": "light"
     },
     "output_type": "display_data"
    }
   ],
   "source": [
    "second_cluster_left=np.sum(phi_count[0][0:67])\n",
    "second_length=phi_count[0][sort][0]\n",
    "second_cluster=phi_1d[second_cluster_left:second_cluster_left+second_length]\n",
    "ax = sns.distplot(second_cluster,kde=False)\n",
    "ax.set_title(\"$\\phi_{sat}$ Distribution Around 67.5 $\\degree$\")\n",
    "pd.Series(second_cluster).describe()"
   ]
  },
  {
   "cell_type": "markdown",
   "metadata": {
    "papermill": {
     "duration": 0.020996,
     "end_time": "2019-10-22T03:34:46.370034",
     "exception": false,
     "start_time": "2019-10-22T03:34:46.349038",
     "status": "completed"
    },
    "tags": []
   },
   "source": [
    "# Get e"
   ]
  },
  {
   "cell_type": "markdown",
   "metadata": {
    "papermill": {
     "duration": 0.020164,
     "end_time": "2019-10-22T03:34:46.410278",
     "exception": false,
     "start_time": "2019-10-22T03:34:46.390114",
     "status": "completed"
    },
    "tags": []
   },
   "source": [
    "## Statistics of e1 and e2"
   ]
  },
  {
   "cell_type": "code",
   "execution_count": 24,
   "metadata": {
    "papermill": {
     "duration": 0.031701,
     "end_time": "2019-10-22T03:34:46.461759",
     "exception": false,
     "start_time": "2019-10-22T03:34:46.430058",
     "status": "completed"
    },
    "tags": []
   },
   "outputs": [
    {
     "data": {
      "text/plain": [
       "count    15377.000000\n",
       "mean         0.000464\n",
       "std          0.142475\n",
       "min         -0.838272\n",
       "25%         -0.073868\n",
       "50%         -0.000903\n",
       "75%          0.074467\n",
       "max          0.629636\n",
       "Name: (All, e1), dtype: float64"
      ]
     },
     "execution_count": 24,
     "metadata": {},
     "output_type": "execute_result"
    }
   ],
   "source": [
    "e1=shapes[('All','e1')].to_numpy()\n",
    "shapes[('All','e1')].describe()"
   ]
  },
  {
   "cell_type": "code",
   "execution_count": 25,
   "metadata": {
    "papermill": {
     "duration": 0.029781,
     "end_time": "2019-10-22T03:34:46.518473",
     "exception": false,
     "start_time": "2019-10-22T03:34:46.488692",
     "status": "completed"
    },
    "tags": []
   },
   "outputs": [
    {
     "data": {
      "text/plain": [
       "count    15377.000000\n",
       "mean        -0.001163\n",
       "std          0.144476\n",
       "min         -0.659677\n",
       "25%         -0.074831\n",
       "50%         -0.000793\n",
       "75%          0.073394\n",
       "max          0.683530\n",
       "Name: (All, e2), dtype: float64"
      ]
     },
     "execution_count": 25,
     "metadata": {},
     "output_type": "execute_result"
    }
   ],
   "source": [
    "e2=shapes[('All','e1')].to_numpy()\n",
    "shapes[('All','e2')].describe()"
   ]
  },
  {
   "cell_type": "code",
   "execution_count": 26,
   "metadata": {
    "papermill": {
     "duration": 0.024387,
     "end_time": "2019-10-22T03:34:46.567977",
     "exception": false,
     "start_time": "2019-10-22T03:34:46.543590",
     "status": "completed"
    },
    "tags": []
   },
   "outputs": [],
   "source": [
    "# np.save(\"/home/cz136/project/sa/data/{}/e_array\".format(dir_string),e_list)"
   ]
  },
  {
   "cell_type": "code",
   "execution_count": 27,
   "metadata": {
    "papermill": {
     "duration": 0.024951,
     "end_time": "2019-10-22T03:34:46.617591",
     "exception": false,
     "start_time": "2019-10-22T03:34:46.592640",
     "status": "completed"
    },
    "tags": []
   },
   "outputs": [],
   "source": [
    "e_p_1d=shapes[('All','ep')]\n",
    "e_x_1d=shapes[('All','ex')]"
   ]
  },
  {
   "cell_type": "code",
   "execution_count": 28,
   "metadata": {
    "papermill": {
     "duration": 0.365032,
     "end_time": "2019-10-22T03:34:47.006169",
     "exception": false,
     "start_time": "2019-10-22T03:34:46.641137",
     "status": "completed"
    },
    "tags": []
   },
   "outputs": [
    {
     "name": "stdout",
     "output_type": "stream",
     "text": [
      "mean=-9.867119e-04, std_mean=1.162572e-03\n"
     ]
    },
    {
     "data": {
      "text/plain": [
       "count    15377.000000\n",
       "mean        -0.000987\n",
       "std          0.144164\n",
       "min         -0.641451\n",
       "25%         -0.076376\n",
       "50%         -0.000099\n",
       "75%          0.073320\n",
       "max          0.684332\n",
       "Name: (All, ep), dtype: float64"
      ]
     },
     "execution_count": 28,
     "metadata": {},
     "output_type": "execute_result"
    },
    {
     "data": {
      "image/png": "[encoded data removed]",
      "text/plain": [
       "<Figure size 432x288 with 1 Axes>"
      ]
     },
     "metadata": {
      "needs_background": "light"
     },
     "output_type": "display_data"
    }
   ],
   "source": [
    "ax=sns.distplot(e_p_1d,kde=False)\n",
    "ax.set_title(\"Distribution of $e_{+}$\")\n",
    "print (\"mean={:05e}, std_mean={:05e}\".format(e_p_1d.mean(),get_std_err_of_mean(e_p_1d)))\n",
    "pd.Series(e_p_1d).describe()"
   ]
  },
  {
   "cell_type": "code",
   "execution_count": 29,
   "metadata": {
    "papermill": {
     "duration": 0.296931,
     "end_time": "2019-10-22T03:34:47.328974",
     "exception": false,
     "start_time": "2019-10-22T03:34:47.032043",
     "status": "completed"
    },
    "tags": []
   },
   "outputs": [
    {
     "name": "stdout",
     "output_type": "stream",
     "text": [
      "mean=4.688440e-04, std_mean=1.151512e-03\n"
     ]
    },
    {
     "data": {
      "text/plain": [
       "count    15377.000000\n",
       "mean         0.000469\n",
       "std          0.142792\n",
       "min         -0.636614\n",
       "25%         -0.071364\n",
       "50%          0.004032\n",
       "75%          0.073150\n",
       "max          0.663913\n",
       "Name: (All, ex), dtype: float64"
      ]
     },
     "execution_count": 29,
     "metadata": {},
     "output_type": "execute_result"
    },
    {
     "data": {
      "image/png": "[encoded data removed]",
      "text/plain": [
       "<Figure size 432x288 with 1 Axes>"
      ]
     },
     "metadata": {
      "needs_background": "light"
     },
     "output_type": "display_data"
    }
   ],
   "source": [
    "ax=sns.distplot(e_x_1d)\n",
    "ax.set_title(\"Distribution of $e_{x}$\")\n",
    "print (\"mean={:05e}, std_mean={:05e}\".format(e_x_1d.mean(),get_std_err_of_mean(e_x_1d)))\n",
    "pd.Series(e_x_1d).describe()"
   ]
  }
 ],
 "metadata": {
  "kernelspec": {
   "display_name": "Python 3",
   "language": "python",
   "name": "python3"
  },
  "language_info": {
   "codemirror_mode": {
    "name": "ipython",
    "version": 3
   },
   "file_extension": ".py",
   "mimetype": "text/x-python",
   "name": "python",
   "nbconvert_exporter": "python",
   "pygments_lexer": "ipython3",
   "version": "3.7.3"
  },
  "papermill": {
   "duration": 9.384736,
   "end_time": "2019-10-22T03:34:47.762497",
   "environment_variables": {},
   "exception": null,
   "input_path": "/home/cz136/project/sa/lib/src/phi_e_sat.ipynb",
   "output_path": "/home/cz136/project/sa/lib/output/mcal/all/low_z/phi_e_sat.ipynb",
   "parameters": {
    "shape_cat": "mcal",
    "vol": "all",
    "z_range": "low_z"
   },
   "start_time": "2019-10-22T03:34:38.377761",
   "version": "1.2.0"
  }
 },
 "nbformat": 4,
 "nbformat_minor": 4
}