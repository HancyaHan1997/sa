{
 "cells": [
  {
   "cell_type": "code",
   "execution_count": 1,
   "metadata": {
    "papermill": {
     "duration": 0.019449,
     "end_time": "2019-10-22T03:34:22.751467",
     "exception": false,
     "start_time": "2019-10-22T03:34:22.732018",
     "status": "completed"
    },
    "tags": [
     "parameters"
    ]
   },
   "outputs": [],
   "source": [
    "shape_cat=\"\"\n",
    "vol=\"\"\n",
    "z_range=\"\""
   ]
  },
  {
   "cell_type": "code",
   "execution_count": 2,
   "metadata": {
    "papermill": {
     "duration": 0.017489,
     "end_time": "2019-10-22T03:34:22.784151",
     "exception": false,
     "start_time": "2019-10-22T03:34:22.766662",
     "status": "completed"
    },
    "tags": [
     "injected-parameters"
    ]
   },
   "outputs": [],
   "source": [
    "# Parameters\n",
    "shape_cat = \"mcal\"\n",
    "vol = \"all\"\n",
    "z_range = \"high_z\"\n"
   ]
  },
  {
   "cell_type": "code",
   "execution_count": 3,
   "metadata": {
    "papermill": {
     "duration": 2.398366,
     "end_time": "2019-10-22T03:34:25.195625",
     "exception": false,
     "start_time": "2019-10-22T03:34:22.797259",
     "status": "completed"
    },
    "tags": []
   },
   "outputs": [],
   "source": [
    "#This header file contains all the common packages\n",
    "%matplotlib inline\n",
    "%run /home/cz136/project/sa/lib/src/header.py $shape_cat $vol $z_range "
   ]
  },
  {
   "cell_type": "code",
   "execution_count": 4,
   "metadata": {
    "papermill": {
     "duration": 0.019046,
     "end_time": "2019-10-22T03:34:25.237688",
     "exception": false,
     "start_time": "2019-10-22T03:34:25.218642",
     "status": "completed"
    },
    "tags": []
   },
   "outputs": [
    {
     "name": "stdout",
     "output_type": "stream",
     "text": [
      "11929\n",
      "187693\n"
     ]
    }
   ],
   "source": [
    "print(len(clusters))\n",
    "print(len(shapes))"
   ]
  },
  {
   "cell_type": "code",
   "execution_count": 5,
   "metadata": {
    "papermill": {
     "duration": 0.023649,
     "end_time": "2019-10-22T03:34:25.275203",
     "exception": false,
     "start_time": "2019-10-22T03:34:25.251554",
     "status": "completed"
    },
    "tags": []
   },
   "outputs": [
    {
     "name": "stdout",
     "output_type": "stream",
     "text": [
      "0\n",
      "0\n",
      "187693\n",
      "0\n"
     ]
    }
   ],
   "source": [
    "# Print the numbers of galaxies that needed to be masked\n",
    "\n",
    "\n",
    "print(np.sum(shapes[('All','e1')]==-9999))\n",
    "print(np.sum(shapes[('All','e2')]==-9999))\n",
    "print(np.sum(shapes['All','flags_select']==0))\n",
    "print(np.sum(shapes[('All','PP')]<=0.55))"
   ]
  },
  {
   "cell_type": "code",
   "execution_count": 6,
   "metadata": {
    "papermill": {
     "duration": 0.018482,
     "end_time": "2019-10-22T03:34:25.309011",
     "exception": false,
     "start_time": "2019-10-22T03:34:25.290529",
     "status": "completed"
    },
    "tags": []
   },
   "outputs": [
    {
     "name": "stdout",
     "output_type": "stream",
     "text": [
      "11929\n",
      "187693\n"
     ]
    }
   ],
   "source": [
    "#masking\n",
    "print(len(clusters))\n",
    "print(len(shapes))"
   ]
  },
  {
   "cell_type": "code",
   "execution_count": null,
   "metadata": {
    "papermill": {
     "duration": 0.013323,
     "end_time": "2019-10-22T03:34:25.342658",
     "exception": false,
     "start_time": "2019-10-22T03:34:25.329335",
     "status": "completed"
    },
    "tags": []
   },
   "outputs": [],
   "source": []
  },
  {
   "cell_type": "markdown",
   "metadata": {
    "papermill": {
     "duration": 0.013588,
     "end_time": "2019-10-22T03:34:25.370402",
     "exception": false,
     "start_time": "2019-10-22T03:34:25.356814",
     "status": "completed"
    },
    "tags": []
   },
   "source": [
    "# Stats of e1,e2"
   ]
  },
  {
   "cell_type": "code",
   "execution_count": 7,
   "metadata": {
    "papermill": {
     "duration": 0.62331,
     "end_time": "2019-10-22T03:34:26.007119",
     "exception": false,
     "start_time": "2019-10-22T03:34:25.383809",
     "status": "completed"
    },
    "tags": []
   },
   "outputs": [
    {
     "data": {
      "text/plain": [
       "count    187693.000000\n",
       "mean         -0.000250\n",
       "std           0.148246\n",
       "min          -0.728444\n",
       "25%          -0.081355\n",
       "50%          -0.000150\n",
       "75%           0.080657\n",
       "max           0.852003\n",
       "Name: (All, e2), dtype: float64"
      ]
     },
     "execution_count": 7,
     "metadata": {},
     "output_type": "execute_result"
    },
    {
     "data": {
      "image/png": "[encoded data removed]",
      "text/plain": [
       "<Figure size 432x288 with 1 Axes>"
      ]
     },
     "metadata": {
      "needs_background": "light"
     },
     "output_type": "display_data"
    }
   ],
   "source": [
    "from matplotlib.colors import LogNorm \n",
    "plt.hist2d(shapes['All','e1'],shapes['All','e2'],bins=500,norm=LogNorm())\n",
    "plt.axis('equal')\n",
    "plt.title(\"2D Histogram of $e_1$ and $e_2$\")\n",
    "pd.Series(shapes['All','e1']).describe()\n",
    "pd.Series(shapes['All','e2']).describe()"
   ]
  },
  {
   "cell_type": "code",
   "execution_count": 8,
   "metadata": {
    "papermill": {
     "duration": 0.523347,
     "end_time": "2019-10-22T03:34:26.547380",
     "exception": false,
     "start_time": "2019-10-22T03:34:26.024033",
     "status": "completed"
    },
    "tags": []
   },
   "outputs": [
    {
     "data": {
      "text/plain": [
       "count    187693.000000\n",
       "mean          0.810126\n",
       "std         280.932717\n",
       "min      -44173.333800\n",
       "25%          -1.006441\n",
       "50%           0.000629\n",
       "75%           0.999558\n",
       "max       67310.028672\n",
       "dtype: float64"
      ]
     },
     "execution_count": 8,
     "metadata": {},
     "output_type": "execute_result"
    },
    {
     "data": {
      "image/png": "[encoded data removed]",
      "text/plain": [
       "<Figure size 432x288 with 1 Axes>"
      ]
     },
     "metadata": {
      "needs_background": "light"
     },
     "output_type": "display_data"
    }
   ],
   "source": [
    "#statistics and hisgoram of e2/e1\n",
    "plt.hist(shapes['All','e2']/shapes['All','e1'],bins=np.arange(-10,10,0.1))\n",
    "plt.title(\"Histogram of $e_2$/$e_1$\")\n",
    "pd.Series(shapes['All','e2']/shapes['All','e1']).describe()"
   ]
  },
  {
   "cell_type": "markdown",
   "metadata": {
    "papermill": {
     "duration": 0.015812,
     "end_time": "2019-10-22T03:34:26.580200",
     "exception": false,
     "start_time": "2019-10-22T03:34:26.564388",
     "status": "completed"
    },
    "tags": []
   },
   "source": [
    "# Get phi "
   ]
  },
  {
   "cell_type": "code",
   "execution_count": 9,
   "metadata": {
    "papermill": {
     "duration": 0.019984,
     "end_time": "2019-10-22T03:34:26.615277",
     "exception": false,
     "start_time": "2019-10-22T03:34:26.595293",
     "status": "completed"
    },
    "tags": []
   },
   "outputs": [],
   "source": [
    "def get_std_err_of_mean(np_array):\n",
    "    mean=np_array.mean()\n",
    "    std=np_array.std()\n",
    "    n=len(np_array)\n",
    "    return(std/np.sqrt(n))"
   ]
  },
  {
   "cell_type": "code",
   "execution_count": 10,
   "metadata": {
    "papermill": {
     "duration": 0.020195,
     "end_time": "2019-10-22T03:34:26.652566",
     "exception": false,
     "start_time": "2019-10-22T03:34:26.632371",
     "status": "completed"
    },
    "tags": []
   },
   "outputs": [],
   "source": [
    "phi_1d=shapes[('All','phi')]"
   ]
  },
  {
   "cell_type": "markdown",
   "metadata": {
    "papermill": {
     "duration": 0.01549,
     "end_time": "2019-10-22T03:34:26.684071",
     "exception": false,
     "start_time": "2019-10-22T03:34:26.668581",
     "status": "completed"
    },
    "tags": []
   },
   "source": [
    "## Stats for unweighted"
   ]
  },
  {
   "cell_type": "code",
   "execution_count": 11,
   "metadata": {
    "papermill": {
     "duration": 0.028536,
     "end_time": "2019-10-22T03:34:26.727605",
     "exception": false,
     "start_time": "2019-10-22T03:34:26.699069",
     "status": "completed"
    },
    "tags": []
   },
   "outputs": [
    {
     "name": "stdout",
     "output_type": "stream",
     "text": [
      "Mean:4.531306e+01 \n",
      "StdE:5.959422e-02 \n"
     ]
    }
   ],
   "source": [
    "pd.Series(phi_1d).describe()\n",
    "print(\"Mean:{:05e} \\nStdE:{:05e} \".format(phi_1d.mean(),phi_1d.std()/np.sqrt(len(phi_1d))))"
   ]
  },
  {
   "cell_type": "code",
   "execution_count": 12,
   "metadata": {
    "papermill": {
     "duration": 0.326796,
     "end_time": "2019-10-22T03:34:27.076034",
     "exception": false,
     "start_time": "2019-10-22T03:34:26.749238",
     "status": "completed"
    },
    "tags": []
   },
   "outputs": [
    {
     "data": {
      "text/plain": [
       "count    187693.000000\n",
       "mean         45.313056\n",
       "std          25.818332\n",
       "min           0.000277\n",
       "25%          22.500000\n",
       "50%          45.560296\n",
       "75%          67.500000\n",
       "max          89.999729\n",
       "Name: (All, phi), dtype: float64"
      ]
     },
     "execution_count": 12,
     "metadata": {},
     "output_type": "execute_result"
    },
    {
     "data": {
      "image/png": "[encoded data removed]",
      "text/plain": [
       "<Figure size 432x288 with 1 Axes>"
      ]
     },
     "metadata": {
      "needs_background": "light"
     },
     "output_type": "display_data"
    }
   ],
   "source": [
    "BINS=np.arange(0,90,1)\n",
    "ax = sns.distplot(shapes[('All','phi')],bins=BINS,kde=False)\n",
    "ax.set_title(\"Histogram of $\\phi_{sat}$ weighted by probability\") \n",
    "pd.Series(phi_1d).describe()"
   ]
  },
  {
   "cell_type": "markdown",
   "metadata": {
    "papermill": {
     "duration": 0.016286,
     "end_time": "2019-10-22T03:34:27.111852",
     "exception": false,
     "start_time": "2019-10-22T03:34:27.095566",
     "status": "completed"
    },
    "tags": []
   },
   "source": [
    "# Abnormal Analysis"
   ]
  },
  {
   "cell_type": "code",
   "execution_count": 13,
   "metadata": {
    "papermill": {
     "duration": 0.035627,
     "end_time": "2019-10-22T03:34:27.163499",
     "exception": false,
     "start_time": "2019-10-22T03:34:27.127872",
     "status": "completed"
    },
    "tags": []
   },
   "outputs": [],
   "source": [
    "np.sum((shapes[('All','phi')]>=22.4) &(shapes[('All','phi')]<=22.6)) \n",
    "abn_1 = shapes[(shapes[('All','phi')]>=22.4) &(shapes[('All','phi')]<=22.6)]\n",
    "abn_2 = shapes[(shapes[('All','phi')]>67.4) &(shapes[('All','phi')]<=67.6)]"
   ]
  },
  {
   "cell_type": "code",
   "execution_count": 14,
   "metadata": {
    "papermill": {
     "duration": 0.268264,
     "end_time": "2019-10-22T03:34:27.447702",
     "exception": false,
     "start_time": "2019-10-22T03:34:27.179438",
     "status": "completed"
    },
    "tags": []
   },
   "outputs": [],
   "source": [
    "corr_1=abn_1.corr(method='pearson')[('All','phi')]\n",
    "corr_2=abn_2.corr(method='pearson')[('All','phi')]"
   ]
  },
  {
   "cell_type": "code",
   "execution_count": 15,
   "metadata": {
    "papermill": {
     "duration": 0.035565,
     "end_time": "2019-10-22T03:34:27.500848",
     "exception": false,
     "start_time": "2019-10-22T03:34:27.465283",
     "status": "completed"
    },
    "tags": []
   },
   "outputs": [
    {
     "data": {
      "text/html": [
       "<table border=\"1\" class=\"dataframe\">\n",
       "  <thead>\n",
       "    <tr>\n",
       "      <th></th>\n",
       "      <th></th>\n",
       "      <th colspan=\"2\" halign=\"left\">All</th>\n",
       "    </tr>\n",
       "    <tr>\n",
       "      <th></th>\n",
       "      <th></th>\n",
       "      <th>phi</th>\n",
       "      <th>phi</th>\n",
       "    </tr>\n",
       "    <tr>\n",
       "      <th>Band</th>\n",
       "      <th>Data</th>\n",
       "      <th></th>\n",
       "      <th></th>\n",
       "    </tr>\n",
       "  </thead>\n",
       "  <tbody>\n",
       "    <tr>\n",
       "      <th rowspan=\"22\" valign=\"top\">All</th>\n",
       "      <th>MEM_MATCH_ID</th>\n",
       "      <td>-0.035498</td>\n",
       "      <td>-0.028158</td>\n",
       "    </tr>\n",
       "    <tr>\n",
       "      <th>Z</th>\n",
       "      <td>-0.129518</td>\n",
       "      <td>0.152654</td>\n",
       "    </tr>\n",
       "    <tr>\n",
       "      <th>RA</th>\n",
       "      <td>-0.369020</td>\n",
       "      <td>-0.317772</td>\n",
       "    </tr>\n",
       "    <tr>\n",
       "      <th>DEC</th>\n",
       "      <td>0.034744</td>\n",
       "      <td>0.025669</td>\n",
       "    </tr>\n",
       "    <tr>\n",
       "      <th>R</th>\n",
       "      <td>0.016809</td>\n",
       "      <td>-0.008777</td>\n",
       "    </tr>\n",
       "    <tr>\n",
       "      <th>P</th>\n",
       "      <td>0.006709</td>\n",
       "      <td>0.011884</td>\n",
       "    </tr>\n",
       "    <tr>\n",
       "      <th>PFREE</th>\n",
       "      <td>-0.016752</td>\n",
       "      <td>0.009504</td>\n",
       "    </tr>\n",
       "    <tr>\n",
       "      <th>THETA_I</th>\n",
       "      <td>0.002620</td>\n",
       "      <td>-0.008685</td>\n",
       "    </tr>\n",
       "    <tr>\n",
       "      <th>THETA_R</th>\n",
       "      <td>-0.017639</td>\n",
       "      <td>0.005795</td>\n",
       "    </tr>\n",
       "    <tr>\n",
       "      <th>REFMAG_FIT</th>\n",
       "      <td>-0.076288</td>\n",
       "      <td>0.101403</td>\n",
       "    </tr>\n",
       "    <tr>\n",
       "      <th>REFMAG_FIT_E</th>\n",
       "      <td>-0.072210</td>\n",
       "      <td>0.090759</td>\n",
       "    </tr>\n",
       "    <tr>\n",
       "      <th>REFMAG</th>\n",
       "      <td>-0.076288</td>\n",
       "      <td>0.101403</td>\n",
       "    </tr>\n",
       "    <tr>\n",
       "      <th>REFMAG_ERR</th>\n",
       "      <td>-0.072210</td>\n",
       "      <td>0.090759</td>\n",
       "    </tr>\n",
       "    <tr>\n",
       "      <th>ZRED</th>\n",
       "      <td>-0.120274</td>\n",
       "      <td>0.141174</td>\n",
       "    </tr>\n",
       "    <tr>\n",
       "      <th>ZRED_E</th>\n",
       "      <td>-0.046929</td>\n",
       "      <td>0.070860</td>\n",
       "    </tr>\n",
       "    <tr>\n",
       "      <th>ZRED2</th>\n",
       "      <td>-0.119827</td>\n",
       "      <td>0.142284</td>\n",
       "    </tr>\n",
       "    <tr>\n",
       "      <th>ZRED2_E</th>\n",
       "      <td>-0.067217</td>\n",
       "      <td>0.101430</td>\n",
       "    </tr>\n",
       "    <tr>\n",
       "      <th>CHISQ</th>\n",
       "      <td>-0.003995</td>\n",
       "      <td>0.000074</td>\n",
       "    </tr>\n",
       "    <tr>\n",
       "      <th>EBV</th>\n",
       "      <td>NaN</td>\n",
       "      <td>NaN</td>\n",
       "    </tr>\n",
       "    <tr>\n",
       "      <th>ZSPEC</th>\n",
       "      <td>NaN</td>\n",
       "      <td>-0.001062</td>\n",
       "    </tr>\n",
       "    <tr>\n",
       "      <th>ZMAG</th>\n",
       "      <td>-0.076288</td>\n",
       "      <td>0.101403</td>\n",
       "    </tr>\n",
       "    <tr>\n",
       "      <th>ZMAG_ERR</th>\n",
       "      <td>-0.072210</td>\n",
       "      <td>0.090759</td>\n",
       "    </tr>\n",
       "    <tr>\n",
       "      <th rowspan=\"2\" valign=\"top\">g</th>\n",
       "      <th>MODEL_MAG</th>\n",
       "      <td>-0.102203</td>\n",
       "      <td>0.126601</td>\n",
       "    </tr>\n",
       "    <tr>\n",
       "      <th>MODEL_MAGERR</th>\n",
       "      <td>-0.073376</td>\n",
       "      <td>0.081816</td>\n",
       "    </tr>\n",
       "    <tr>\n",
       "      <th rowspan=\"2\" valign=\"top\">r</th>\n",
       "      <th>MODEL_MAG</th>\n",
       "      <td>-0.102578</td>\n",
       "      <td>0.126445</td>\n",
       "    </tr>\n",
       "    <tr>\n",
       "      <th>MODEL_MAGERR</th>\n",
       "      <td>-0.094104</td>\n",
       "      <td>0.110150</td>\n",
       "    </tr>\n",
       "    <tr>\n",
       "      <th rowspan=\"2\" valign=\"top\">i</th>\n",
       "      <th>MODEL_MAG</th>\n",
       "      <td>-0.085954</td>\n",
       "      <td>0.120518</td>\n",
       "    </tr>\n",
       "    <tr>\n",
       "      <th>MODEL_MAGERR</th>\n",
       "      <td>-0.074749</td>\n",
       "      <td>0.116326</td>\n",
       "    </tr>\n",
       "    <tr>\n",
       "      <th rowspan=\"2\" valign=\"top\">z</th>\n",
       "      <th>MODEL_MAG</th>\n",
       "      <td>-0.076288</td>\n",
       "      <td>0.101403</td>\n",
       "    </tr>\n",
       "    <tr>\n",
       "      <th>MODEL_MAGERR</th>\n",
       "      <td>-0.072210</td>\n",
       "      <td>0.090759</td>\n",
       "    </tr>\n",
       "    <tr>\n",
       "      <th rowspan=\"87\" valign=\"top\">All</th>\n",
       "      <th>flags</th>\n",
       "      <td>NaN</td>\n",
       "      <td>NaN</td>\n",
       "    </tr>\n",
       "    <tr>\n",
       "      <th>mask_frac</th>\n",
       "      <td>-0.012241</td>\n",
       "      <td>0.005756</td>\n",
       "    </tr>\n",
       "    <tr>\n",
       "      <th>psf_e1</th>\n",
       "      <td>0.047886</td>\n",
       "      <td>0.079304</td>\n",
       "    </tr>\n",
       "    <tr>\n",
       "      <th>psf_e2</th>\n",
       "      <td>0.115227</td>\n",
       "      <td>0.068977</td>\n",
       "    </tr>\n",
       "    <tr>\n",
       "      <th>psf_size</th>\n",
       "      <td>-0.130790</td>\n",
       "      <td>-0.129498</td>\n",
       "    </tr>\n",
       "    <tr>\n",
       "      <th>mcal_psf_e1</th>\n",
       "      <td>0.045327</td>\n",
       "      <td>-0.039373</td>\n",
       "    </tr>\n",
       "    <tr>\n",
       "      <th>mcal_psf_e2</th>\n",
       "      <td>-0.025105</td>\n",
       "      <td>0.012195</td>\n",
       "    </tr>\n",
       "    <tr>\n",
       "      <th>mcal_psf_size</th>\n",
       "      <td>-0.119949</td>\n",
       "      <td>-0.108353</td>\n",
       "    </tr>\n",
       "    <tr>\n",
       "      <th>e1</th>\n",
       "      <td>0.010216</td>\n",
       "      <td>-0.004444</td>\n",
       "    </tr>\n",
       "    <tr>\n",
       "      <th>e1_1p</th>\n",
       "      <td>0.010094</td>\n",
       "      <td>-0.005402</td>\n",
       "    </tr>\n",
       "    <tr>\n",
       "      <th>e1_1m</th>\n",
       "      <td>0.010215</td>\n",
       "      <td>-0.002973</td>\n",
       "    </tr>\n",
       "    <tr>\n",
       "      <th>e1_2p</th>\n",
       "      <td>0.009913</td>\n",
       "      <td>-0.003297</td>\n",
       "    </tr>\n",
       "    <tr>\n",
       "      <th>e1_2m</th>\n",
       "      <td>0.010235</td>\n",
       "      <td>-0.004587</td>\n",
       "    </tr>\n",
       "    <tr>\n",
       "      <th>e2</th>\n",
       "      <td>0.007571</td>\n",
       "      <td>-0.012739</td>\n",
       "    </tr>\n",
       "    <tr>\n",
       "      <th>e2_1p</th>\n",
       "      <td>0.008208</td>\n",
       "      <td>-0.012925</td>\n",
       "    </tr>\n",
       "    <tr>\n",
       "      <th>e2_1m</th>\n",
       "      <td>0.007631</td>\n",
       "      <td>-0.012695</td>\n",
       "    </tr>\n",
       "    <tr>\n",
       "      <th>e2_2p</th>\n",
       "      <td>0.007620</td>\n",
       "      <td>-0.012920</td>\n",
       "    </tr>\n",
       "    <tr>\n",
       "      <th>e2_2m</th>\n",
       "      <td>0.007738</td>\n",
       "      <td>-0.013018</td>\n",
       "    </tr>\n",
       "    <tr>\n",
       "      <th>size</th>\n",
       "      <td>-0.030041</td>\n",
       "      <td>-0.011608</td>\n",
       "    </tr>\n",
       "    <tr>\n",
       "      <th>size_1p</th>\n",
       "      <td>-0.030598</td>\n",
       "      <td>-0.011369</td>\n",
       "    </tr>\n",
       "    <tr>\n",
       "      <th>size_1m</th>\n",
       "      <td>-0.031275</td>\n",
       "      <td>-0.010545</td>\n",
       "    </tr>\n",
       "    <tr>\n",
       "      <th>size_2p</th>\n",
       "      <td>-0.030548</td>\n",
       "      <td>-0.011669</td>\n",
       "    </tr>\n",
       "    <tr>\n",
       "      <th>size_2m</th>\n",
       "      <td>-0.030689</td>\n",
       "      <td>-0.011973</td>\n",
       "    </tr>\n",
       "    <tr>\n",
       "      <th>size_err</th>\n",
       "      <td>-0.016796</td>\n",
       "      <td>0.043503</td>\n",
       "    </tr>\n",
       "    <tr>\n",
       "      <th>size_err_1p</th>\n",
       "      <td>-0.016814</td>\n",
       "      <td>0.038417</td>\n",
       "    </tr>\n",
       "    <tr>\n",
       "      <th>size_err_1m</th>\n",
       "      <td>-0.020246</td>\n",
       "      <td>0.040156</td>\n",
       "    </tr>\n",
       "    <tr>\n",
       "      <th>size_err_2p</th>\n",
       "      <td>-0.021120</td>\n",
       "      <td>0.035669</td>\n",
       "    </tr>\n",
       "    <tr>\n",
       "      <th>size_err_2m</th>\n",
       "      <td>-0.016499</td>\n",
       "      <td>0.035780</td>\n",
       "    </tr>\n",
       "    <tr>\n",
       "      <th>snr</th>\n",
       "      <td>0.077441</td>\n",
       "      <td>-0.103008</td>\n",
       "    </tr>\n",
       "    <tr>\n",
       "      <th>snr_1p</th>\n",
       "      <td>0.077438</td>\n",
       "      <td>-0.102994</td>\n",
       "    </tr>\n",
       "    <tr>\n",
       "      <th>snr_1m</th>\n",
       "      <td>0.077423</td>\n",
       "      <td>-0.103006</td>\n",
       "    </tr>\n",
       "    <tr>\n",
       "      <th>snr_2p</th>\n",
       "      <td>0.077415</td>\n",
       "      <td>-0.103006</td>\n",
       "    </tr>\n",
       "    <tr>\n",
       "      <th>snr_2m</th>\n",
       "      <td>0.077448</td>\n",
       "      <td>-0.103004</td>\n",
       "    </tr>\n",
       "    <tr>\n",
       "      <th>covmat_0_0</th>\n",
       "      <td>-0.041320</td>\n",
       "      <td>0.046773</td>\n",
       "    </tr>\n",
       "    <tr>\n",
       "      <th>covmat_0_0_1p</th>\n",
       "      <td>-0.030258</td>\n",
       "      <td>0.047945</td>\n",
       "    </tr>\n",
       "    <tr>\n",
       "      <th>covmat_0_0_1m</th>\n",
       "      <td>-0.030301</td>\n",
       "      <td>0.048532</td>\n",
       "    </tr>\n",
       "    <tr>\n",
       "      <th>covmat_0_0_2p</th>\n",
       "      <td>-0.036960</td>\n",
       "      <td>0.029310</td>\n",
       "    </tr>\n",
       "    <tr>\n",
       "      <th>covmat_0_0_2m</th>\n",
       "      <td>-0.017841</td>\n",
       "      <td>0.028127</td>\n",
       "    </tr>\n",
       "    <tr>\n",
       "      <th>covmat_0_1</th>\n",
       "      <td>-0.011376</td>\n",
       "      <td>0.002540</td>\n",
       "    </tr>\n",
       "    <tr>\n",
       "      <th>covmat_0_1_1p</th>\n",
       "      <td>-0.002483</td>\n",
       "      <td>0.005831</td>\n",
       "    </tr>\n",
       "    <tr>\n",
       "      <th>covmat_0_1_1m</th>\n",
       "      <td>-0.002664</td>\n",
       "      <td>0.012484</td>\n",
       "    </tr>\n",
       "    <tr>\n",
       "      <th>covmat_0_1_2p</th>\n",
       "      <td>-0.004216</td>\n",
       "      <td>0.005042</td>\n",
       "    </tr>\n",
       "    <tr>\n",
       "      <th>covmat_0_1_2m</th>\n",
       "      <td>-0.005242</td>\n",
       "      <td>0.005022</td>\n",
       "    </tr>\n",
       "    <tr>\n",
       "      <th>covmat_1_1</th>\n",
       "      <td>-0.040706</td>\n",
       "      <td>0.041191</td>\n",
       "    </tr>\n",
       "    <tr>\n",
       "      <th>covmat_1_1_1p</th>\n",
       "      <td>-0.024600</td>\n",
       "      <td>0.047047</td>\n",
       "    </tr>\n",
       "    <tr>\n",
       "      <th>covmat_1_1_1m</th>\n",
       "      <td>-0.030060</td>\n",
       "      <td>0.048822</td>\n",
       "    </tr>\n",
       "    <tr>\n",
       "      <th>covmat_1_1_2p</th>\n",
       "      <td>-0.038050</td>\n",
       "      <td>0.025983</td>\n",
       "    </tr>\n",
       "    <tr>\n",
       "      <th>covmat_1_1_2m</th>\n",
       "      <td>-0.017429</td>\n",
       "      <td>0.020776</td>\n",
       "    </tr>\n",
       "    <tr>\n",
       "      <th>flux_r</th>\n",
       "      <td>0.076839</td>\n",
       "      <td>-0.097535</td>\n",
       "    </tr>\n",
       "    <tr>\n",
       "      <th>flux_r_1p</th>\n",
       "      <td>0.076810</td>\n",
       "      <td>-0.097583</td>\n",
       "    </tr>\n",
       "    <tr>\n",
       "      <th>flux_r_1m</th>\n",
       "      <td>0.076760</td>\n",
       "      <td>-0.097561</td>\n",
       "    </tr>\n",
       "    <tr>\n",
       "      <th>flux_r_2p</th>\n",
       "      <td>0.076788</td>\n",
       "      <td>-0.097582</td>\n",
       "    </tr>\n",
       "    <tr>\n",
       "      <th>flux_r_2m</th>\n",
       "      <td>0.076838</td>\n",
       "      <td>-0.097646</td>\n",
       "    </tr>\n",
       "    <tr>\n",
       "      <th>flux_err_r</th>\n",
       "      <td>0.025891</td>\n",
       "      <td>-0.060878</td>\n",
       "    </tr>\n",
       "    <tr>\n",
       "      <th>flux_i</th>\n",
       "      <td>0.065529</td>\n",
       "      <td>-0.093412</td>\n",
       "    </tr>\n",
       "    <tr>\n",
       "      <th>flux_i_1p</th>\n",
       "      <td>0.065485</td>\n",
       "      <td>-0.093450</td>\n",
       "    </tr>\n",
       "    <tr>\n",
       "      <th>flux_i_1m</th>\n",
       "      <td>0.065444</td>\n",
       "      <td>-0.093367</td>\n",
       "    </tr>\n",
       "    <tr>\n",
       "      <th>flux_i_2p</th>\n",
       "      <td>0.065474</td>\n",
       "      <td>-0.093423</td>\n",
       "    </tr>\n",
       "    <tr>\n",
       "      <th>flux_i_2m</th>\n",
       "      <td>0.065516</td>\n",
       "      <td>-0.093483</td>\n",
       "    </tr>\n",
       "    <tr>\n",
       "      <th>flux_err_i</th>\n",
       "      <td>0.040632</td>\n",
       "      <td>-0.065859</td>\n",
       "    </tr>\n",
       "    <tr>\n",
       "      <th>flux_z</th>\n",
       "      <td>0.059317</td>\n",
       "      <td>-0.086289</td>\n",
       "    </tr>\n",
       "    <tr>\n",
       "      <th>flux_z_1p</th>\n",
       "      <td>0.059248</td>\n",
       "      <td>-0.086324</td>\n",
       "    </tr>\n",
       "    <tr>\n",
       "      <th>flux_z_1m</th>\n",
       "      <td>0.059215</td>\n",
       "      <td>-0.086234</td>\n",
       "    </tr>\n",
       "    <tr>\n",
       "      <th>flux_z_2p</th>\n",
       "      <td>0.059227</td>\n",
       "      <td>-0.086283</td>\n",
       "    </tr>\n",
       "    <tr>\n",
       "      <th>flux_z_2m</th>\n",
       "      <td>0.059286</td>\n",
       "      <td>-0.086374</td>\n",
       "    </tr>\n",
       "    <tr>\n",
       "      <th>flux_err_z</th>\n",
       "      <td>0.022910</td>\n",
       "      <td>-0.051858</td>\n",
       "    </tr>\n",
       "    <tr>\n",
       "      <th>R11</th>\n",
       "      <td>-0.002508</td>\n",
       "      <td>-0.037834</td>\n",
       "    </tr>\n",
       "    <tr>\n",
       "      <th>R12</th>\n",
       "      <td>-0.007665</td>\n",
       "      <td>0.025691</td>\n",
       "    </tr>\n",
       "    <tr>\n",
       "      <th>R21</th>\n",
       "      <td>0.011994</td>\n",
       "      <td>-0.004151</td>\n",
       "    </tr>\n",
       "    <tr>\n",
       "      <th>R22</th>\n",
       "      <td>-0.002255</td>\n",
       "      <td>0.001903</td>\n",
       "    </tr>\n",
       "    <tr>\n",
       "      <th>region</th>\n",
       "      <td>NaN</td>\n",
       "      <td>NaN</td>\n",
       "    </tr>\n",
       "    <tr>\n",
       "      <th>ra</th>\n",
       "      <td>-0.369020</td>\n",
       "      <td>-0.317772</td>\n",
       "    </tr>\n",
       "    <tr>\n",
       "      <th>dec</th>\n",
       "      <td>0.034744</td>\n",
       "      <td>0.025669</td>\n",
       "    </tr>\n",
       "    <tr>\n",
       "      <th>flags_select</th>\n",
       "      <td>NaN</td>\n",
       "      <td>NaN</td>\n",
       "    </tr>\n",
       "    <tr>\n",
       "      <th>flags_select_1p</th>\n",
       "      <td>-0.021760</td>\n",
       "      <td>0.013109</td>\n",
       "    </tr>\n",
       "    <tr>\n",
       "      <th>flags_select_1m</th>\n",
       "      <td>-0.015165</td>\n",
       "      <td>0.000915</td>\n",
       "    </tr>\n",
       "    <tr>\n",
       "      <th>flags_select_2p</th>\n",
       "      <td>-0.040328</td>\n",
       "      <td>0.021938</td>\n",
       "    </tr>\n",
       "    <tr>\n",
       "      <th>flags_select_2m</th>\n",
       "      <td>0.000357</td>\n",
       "      <td>0.000708</td>\n",
       "    </tr>\n",
       "    <tr>\n",
       "      <th>PP</th>\n",
       "      <td>0.005688</td>\n",
       "      <td>0.012882</td>\n",
       "    </tr>\n",
       "    <tr>\n",
       "      <th>Theta_cen</th>\n",
       "      <td>-0.013749</td>\n",
       "      <td>0.015155</td>\n",
       "    </tr>\n",
       "    <tr>\n",
       "      <th>Theta_sat</th>\n",
       "      <td>0.027126</td>\n",
       "      <td>0.000210</td>\n",
       "    </tr>\n",
       "    <tr>\n",
       "      <th>angR</th>\n",
       "      <td>-0.134144</td>\n",
       "      <td>0.147074</td>\n",
       "    </tr>\n",
       "    <tr>\n",
       "      <th>phi</th>\n",
       "      <td>1.000000</td>\n",
       "      <td>1.000000</td>\n",
       "    </tr>\n",
       "    <tr>\n",
       "      <th>ep</th>\n",
       "      <td>0.019375</td>\n",
       "      <td>0.005584</td>\n",
       "    </tr>\n",
       "    <tr>\n",
       "      <th>ex</th>\n",
       "      <td>0.004245</td>\n",
       "      <td>-0.015944</td>\n",
       "    </tr>\n",
       "    <tr>\n",
       "      <th>normLR</th>\n",
       "      <td>-0.103464</td>\n",
       "      <td>0.071237</td>\n",
       "    </tr>\n",
       "    <tr>\n",
       "      <th>R_LAMBDA</th>\n",
       "      <td>-0.020830</td>\n",
       "      <td>0.131602</td>\n",
       "    </tr>\n",
       "  </tbody>\n",
       "</table>"
      ],
      "text/plain": [
       "<IPython.core.display.HTML object>"
      ]
     },
     "metadata": {},
     "output_type": "display_data"
    }
   ],
   "source": [
    "display(HTML((pd.concat([pd.DataFrame(corr_1),pd.DataFrame(corr_2)],axis=1)).to_html()))\n",
    "# display(corr_2.to_html())"
   ]
  },
  {
   "cell_type": "code",
   "execution_count": 16,
   "metadata": {
    "papermill": {
     "duration": 0.224054,
     "end_time": "2019-10-22T03:34:27.741606",
     "exception": false,
     "start_time": "2019-10-22T03:34:27.517552",
     "status": "completed"
    },
    "tags": []
   },
   "outputs": [
    {
     "data": {
      "text/plain": [
       "<matplotlib.axes._subplots.AxesSubplot at 0x7f533f2ce128>"
      ]
     },
     "execution_count": 16,
     "metadata": {},
     "output_type": "execute_result"
    },
    {
     "data": {
      "image/png": "[encoded data removed]",
      "text/plain": [
       "<Figure size 432x288 with 1 Axes>"
      ]
     },
     "metadata": {
      "needs_background": "light"
     },
     "output_type": "display_data"
    }
   ],
   "source": [
    "abn_1[('All','RA')].hist()\n",
    "#RA of objects with ϕ=22.5"
   ]
  },
  {
   "cell_type": "code",
   "execution_count": 17,
   "metadata": {
    "papermill": {
     "duration": 0.235284,
     "end_time": "2019-10-22T03:34:28.000831",
     "exception": false,
     "start_time": "2019-10-22T03:34:27.765547",
     "status": "completed"
    },
    "tags": []
   },
   "outputs": [
    {
     "data": {
      "text/plain": [
       "<matplotlib.axes._subplots.AxesSubplot at 0x7f533f28fc88>"
      ]
     },
     "execution_count": 17,
     "metadata": {},
     "output_type": "execute_result"
    },
    {
     "data": {
      "image/png": "[encoded data removed]",
      "text/plain": [
       "<Figure size 432x288 with 1 Axes>"
      ]
     },
     "metadata": {
      "needs_background": "light"
     },
     "output_type": "display_data"
    }
   ],
   "source": [
    "abn_2[('All','RA')].hist()\n",
    "#RA of objects with ϕ=67.5"
   ]
  },
  {
   "cell_type": "code",
   "execution_count": 18,
   "metadata": {
    "papermill": {
     "duration": 0.23641,
     "end_time": "2019-10-22T03:34:28.260994",
     "exception": false,
     "start_time": "2019-10-22T03:34:28.024584",
     "status": "completed"
    },
    "tags": []
   },
   "outputs": [
    {
     "data": {
      "text/plain": [
       "<matplotlib.axes._subplots.AxesSubplot at 0x7f533f1c5e80>"
      ]
     },
     "execution_count": 18,
     "metadata": {},
     "output_type": "execute_result"
    },
    {
     "data": {
      "image/png": "[encoded data removed]",
      "text/plain": [
       "<Figure size 432x288 with 1 Axes>"
      ]
     },
     "metadata": {
      "needs_background": "light"
     },
     "output_type": "display_data"
    }
   ],
   "source": [
    "shapes[('All','RA')].hist()\n",
    "#RA of all objects"
   ]
  },
  {
   "cell_type": "code",
   "execution_count": 19,
   "metadata": {
    "papermill": {
     "duration": 7.628893,
     "end_time": "2019-10-22T03:34:35.909875",
     "exception": false,
     "start_time": "2019-10-22T03:34:28.280982",
     "status": "completed"
    },
    "tags": []
   },
   "outputs": [
    {
     "data": {
      "image/png": "[encoded data removed]",
      "text/plain": [
       "<Figure size 432x288 with 1 Axes>"
      ]
     },
     "metadata": {
      "needs_background": "light"
     },
     "output_type": "display_data"
    }
   ],
   "source": [
    "abn_1_Coor=SkyCoord(abn_1['All','RA'],abn_1['All','DEC'],unit=u.deg)\n",
    "abn_2_Coor=SkyCoord(abn_2['All','RA'],abn_2['All','DEC'],unit=u.deg)\n",
    "shape_Coor=SkyCoord(shapes['All','RA'],shapes['All','DEC'],unit=u.deg)\n",
    "\n",
    "\n",
    "plt.figure()\n",
    "plt.subplot(111, projection=\"mollweide\")\n",
    "plt.title(\"Mollweide\")\n",
    "plt.grid(True)\n",
    "plt.scatter(shape_Coor.ra.radian, shape_Coor.dec.radian,color='y')\n",
    "plt.scatter(abn_1_Coor.ra.radian, abn_1_Coor.dec.radian,color='r')\n",
    "plt.scatter(abn_2_Coor.ra.radian, abn_2_Coor.dec.radian,color='m')\n",
    "plt.show()"
   ]
  },
  {
   "cell_type": "code",
   "execution_count": 20,
   "metadata": {
    "papermill": {
     "duration": 0.028565,
     "end_time": "2019-10-22T03:34:35.966340",
     "exception": false,
     "start_time": "2019-10-22T03:34:35.937775",
     "status": "completed"
    },
    "tags": []
   },
   "outputs": [],
   "source": [
    "# np.save(\"/home/cz136/project/sa/data/im3_225_id.npy\",abn_1.index.to_numpy())\n",
    "# np.save(\"/home/cz136/project/sa/data/im3_675_id.npy\",abn_2.index.to_numpy())\n",
    "# np.save(\"/home/cz136/project/sa/data/im3_225_ra.npy\",abn_1[('All','ra')].to_numpy())\n",
    "# np.save(\"/home/cz136/project/sa/data/im3_225_dec.npy\",abn_1[('All','dec')].to_numpy())\n",
    "# np.save(\"/home/cz136/project/sa/data/im3_675_ra.npy\",abn_2[('All','ra')].to_numpy())\n",
    "# np.save(\"/home/cz136/project/sa/data/im3_675_dec.npy\",abn_2[('All','dec')].to_numpy())"
   ]
  },
  {
   "cell_type": "markdown",
   "metadata": {
    "papermill": {
     "duration": 0.020141,
     "end_time": "2019-10-22T03:34:36.005846",
     "exception": false,
     "start_time": "2019-10-22T03:34:35.985705",
     "status": "completed"
    },
    "tags": []
   },
   "source": [
    "# Analysis around 22.5 and 67.5"
   ]
  },
  {
   "cell_type": "code",
   "execution_count": 21,
   "metadata": {
    "papermill": {
     "duration": 0.029117,
     "end_time": "2019-10-22T03:34:36.054486",
     "exception": false,
     "start_time": "2019-10-22T03:34:36.025369",
     "status": "completed"
    },
    "tags": []
   },
   "outputs": [
    {
     "name": "stdout",
     "output_type": "stream",
     "text": [
      "[67 22 65 66 64 19 86  9 21 87 88 72 18 78 20 30 61 85 77 56 81 36 57 60\n",
      " 39 38 27 54 58 28  5 17 82  1 63 34  4 15 12 74 62 40 26 32 13 70 71 33\n",
      " 75 53 79 68 47 51  0 69 59 37 10 80 16 11 55 49 84  6 31 43 46 44 50 76\n",
      " 52 14 45 73  2 42  8 23 83 25 35 48 24  7  3 29 41]\n",
      "[7969 7593 2139 2113 2085 2084 2078 2077 2074 2069 2059 2053 2049 2048\n",
      " 2044 2042 2038 2034 2031 2030 2030 2028 2028 2024 2014 2011 2010 2005\n",
      " 2002 2002 1991 1991 1991 1987 1986 1981 1977 1975 1975 1971 1970 1969\n",
      " 1966 1966 1965 1963 1963 1963 1962 1958 1957 1953 1952 1950 1948 1943\n",
      " 1942 1940 1934 1932 1931 1928 1927 1927 1925 1924 1916 1911 1910 1901\n",
      " 1897 1887 1876 1862 1855 1844 1835 1833 1831 1831 1831 1826 1826 1823\n",
      " 1823 1799 1782 1780 1688]\n"
     ]
    }
   ],
   "source": [
    "#Print out the most crowded bins\n",
    "\n",
    "phi_count=np.histogram(phi_1d,bins=BINS)\n",
    "sort=np.argsort(-phi_count[0])\n",
    "print(phi_count[1][sort])\n",
    "print(phi_count[0][sort])"
   ]
  },
  {
   "cell_type": "code",
   "execution_count": 22,
   "metadata": {
    "papermill": {
     "duration": 0.322557,
     "end_time": "2019-10-22T03:34:36.400015",
     "exception": false,
     "start_time": "2019-10-22T03:34:36.077458",
     "status": "completed"
    },
    "tags": []
   },
   "outputs": [
    {
     "data": {
      "text/plain": [
       "count    7969.000000\n",
       "mean       22.526358\n",
       "std         0.186755\n",
       "min        22.001008\n",
       "25%        22.500000\n",
       "50%        22.500000\n",
       "75%        22.500000\n",
       "max        23.194023\n",
       "Name: (All, phi), dtype: float64"
      ]
     },
     "execution_count": 22,
     "metadata": {},
     "output_type": "execute_result"
    },
    {
     "data": {
      "image/png": "[encoded data removed]",
      "text/plain": [
       "<Figure size 432x288 with 1 Axes>"
      ]
     },
     "metadata": {
      "needs_background": "light"
     },
     "output_type": "display_data"
    }
   ],
   "source": [
    "#Statistics around 22.5\n",
    "first_cluster_left=np.sum(phi_count[0][0:22])\n",
    "first_length=phi_count[0][sort][0]\n",
    "first_cluster=phi_1d[first_cluster_left:first_cluster_left+first_length]\n",
    "ax = sns.distplot(first_cluster,kde=False)\n",
    "ax.set_title(\"$\\phi_{sat}$ Distribution Around 22.5 $\\degree$\")\n",
    "pd.Series(first_cluster).describe()"
   ]
  },
  {
   "cell_type": "code",
   "execution_count": 23,
   "metadata": {
    "papermill": {
     "duration": 0.295931,
     "end_time": "2019-10-22T03:34:36.718175",
     "exception": false,
     "start_time": "2019-10-22T03:34:36.422244",
     "status": "completed"
    },
    "tags": []
   },
   "outputs": [
    {
     "data": {
      "text/plain": [
       "count    7969.000000\n",
       "mean       67.496736\n",
       "std         0.145938\n",
       "min        67.000531\n",
       "25%        67.500000\n",
       "50%        67.500000\n",
       "75%        67.500000\n",
       "max        67.999551\n",
       "Name: (All, phi), dtype: float64"
      ]
     },
     "execution_count": 23,
     "metadata": {},
     "output_type": "execute_result"
    },
    {
     "data": {
      "image/png": "[encoded data removed]",
      "text/plain": [
       "<Figure size 432x288 with 1 Axes>"
      ]
     },
     "metadata": {
      "needs_background": "light"
     },
     "output_type": "display_data"
    }
   ],
   "source": [
    "second_cluster_left=np.sum(phi_count[0][0:67])\n",
    "second_length=phi_count[0][sort][0]\n",
    "second_cluster=phi_1d[second_cluster_left:second_cluster_left+second_length]\n",
    "ax = sns.distplot(second_cluster,kde=False)\n",
    "ax.set_title(\"$\\phi_{sat}$ Distribution Around 67.5 $\\degree$\")\n",
    "pd.Series(second_cluster).describe()"
   ]
  },
  {
   "cell_type": "markdown",
   "metadata": {
    "papermill": {
     "duration": 0.020889,
     "end_time": "2019-10-22T03:34:36.762357",
     "exception": false,
     "start_time": "2019-10-22T03:34:36.741468",
     "status": "completed"
    },
    "tags": []
   },
   "source": [
    "# Get e"
   ]
  },
  {
   "cell_type": "markdown",
   "metadata": {
    "papermill": {
     "duration": 0.020048,
     "end_time": "2019-10-22T03:34:36.802693",
     "exception": false,
     "start_time": "2019-10-22T03:34:36.782645",
     "status": "completed"
    },
    "tags": []
   },
   "source": [
    "## Statistics of e1 and e2"
   ]
  },
  {
   "cell_type": "code",
   "execution_count": 24,
   "metadata": {
    "papermill": {
     "duration": 0.047621,
     "end_time": "2019-10-22T03:34:36.871322",
     "exception": false,
     "start_time": "2019-10-22T03:34:36.823701",
     "status": "completed"
    },
    "tags": []
   },
   "outputs": [
    {
     "data": {
      "text/plain": [
       "count    187693.000000\n",
       "mean          0.000233\n",
       "std           0.147565\n",
       "min          -0.733436\n",
       "25%          -0.080044\n",
       "50%          -0.000124\n",
       "75%           0.080632\n",
       "max           0.789564\n",
       "Name: (All, e1), dtype: float64"
      ]
     },
     "execution_count": 24,
     "metadata": {},
     "output_type": "execute_result"
    }
   ],
   "source": [
    "e1=shapes[('All','e1')].to_numpy()\n",
    "shapes[('All','e1')].describe()"
   ]
  },
  {
   "cell_type": "code",
   "execution_count": 25,
   "metadata": {
    "papermill": {
     "duration": 0.034472,
     "end_time": "2019-10-22T03:34:36.932807",
     "exception": false,
     "start_time": "2019-10-22T03:34:36.898335",
     "status": "completed"
    },
    "tags": []
   },
   "outputs": [
    {
     "data": {
      "text/plain": [
       "count    187693.000000\n",
       "mean         -0.000250\n",
       "std           0.148246\n",
       "min          -0.728444\n",
       "25%          -0.081355\n",
       "50%          -0.000150\n",
       "75%           0.080657\n",
       "max           0.852003\n",
       "Name: (All, e2), dtype: float64"
      ]
     },
     "execution_count": 25,
     "metadata": {},
     "output_type": "execute_result"
    }
   ],
   "source": [
    "e2=shapes[('All','e1')].to_numpy()\n",
    "shapes[('All','e2')].describe()"
   ]
  },
  {
   "cell_type": "code",
   "execution_count": 26,
   "metadata": {
    "papermill": {
     "duration": 0.024861,
     "end_time": "2019-10-22T03:34:36.978721",
     "exception": false,
     "start_time": "2019-10-22T03:34:36.953860",
     "status": "completed"
    },
    "tags": []
   },
   "outputs": [],
   "source": [
    "# np.save(\"/home/cz136/project/sa/data/{}/e_array\".format(dir_string),e_list)"
   ]
  },
  {
   "cell_type": "code",
   "execution_count": 27,
   "metadata": {
    "papermill": {
     "duration": 0.027412,
     "end_time": "2019-10-22T03:34:37.028776",
     "exception": false,
     "start_time": "2019-10-22T03:34:37.001364",
     "status": "completed"
    },
    "tags": []
   },
   "outputs": [],
   "source": [
    "e_p_1d=shapes[('All','ep')]\n",
    "e_x_1d=shapes[('All','ex')]"
   ]
  },
  {
   "cell_type": "code",
   "execution_count": 28,
   "metadata": {
    "papermill": {
     "duration": 0.321246,
     "end_time": "2019-10-22T03:34:37.377270",
     "exception": false,
     "start_time": "2019-10-22T03:34:37.056024",
     "status": "completed"
    },
    "tags": []
   },
   "outputs": [
    {
     "name": "stdout",
     "output_type": "stream",
     "text": [
      "mean=-1.086872e-03, std_mean=3.439978e-04\n"
     ]
    },
    {
     "data": {
      "text/plain": [
       "count    187693.000000\n",
       "mean         -0.001087\n",
       "std           0.149032\n",
       "min          -0.707431\n",
       "25%          -0.084702\n",
       "50%          -0.000076\n",
       "75%           0.081266\n",
       "max           0.790708\n",
       "Name: (All, ep), dtype: float64"
      ]
     },
     "execution_count": 28,
     "metadata": {},
     "output_type": "execute_result"
    },
    {
     "data": {
      "image/png": "[encoded data removed]",
      "text/plain": [
       "<Figure size 432x288 with 1 Axes>"
      ]
     },
     "metadata": {
      "needs_background": "light"
     },
     "output_type": "display_data"
    }
   ],
   "source": [
    "ax=sns.distplot(e_p_1d,kde=False)\n",
    "ax.set_title(\"Distribution of $e_{+}$\")\n",
    "print (\"mean={:05e}, std_mean={:05e}\".format(e_p_1d.mean(),get_std_err_of_mean(e_p_1d)))\n",
    "pd.Series(e_p_1d).describe()"
   ]
  },
  {
   "cell_type": "code",
   "execution_count": 29,
   "metadata": {
    "papermill": {
     "duration": 0.358855,
     "end_time": "2019-10-22T03:34:37.760095",
     "exception": false,
     "start_time": "2019-10-22T03:34:37.401240",
     "status": "completed"
    },
    "tags": []
   },
   "outputs": [
    {
     "name": "stdout",
     "output_type": "stream",
     "text": [
      "mean=2.697903e-03, std_mean=3.387132e-04\n"
     ]
    },
    {
     "data": {
      "text/plain": [
       "count    187693.000000\n",
       "mean          0.002698\n",
       "std           0.146743\n",
       "min          -0.750668\n",
       "25%          -0.075867\n",
       "50%           0.006274\n",
       "75%           0.081558\n",
       "max           0.786804\n",
       "Name: (All, ex), dtype: float64"
      ]
     },
     "execution_count": 29,
     "metadata": {},
     "output_type": "execute_result"
    },
    {
     "data": {
      "image/png": "[encoded data removed]",
      "text/plain": [
       "<Figure size 432x288 with 1 Axes>"
      ]
     },
     "metadata": {
      "needs_background": "light"
     },
     "output_type": "display_data"
    }
   ],
   "source": [
    "ax=sns.distplot(e_x_1d)\n",
    "ax.set_title(\"Distribution of $e_{x}$\")\n",
    "print (\"mean={:05e}, std_mean={:05e}\".format(e_x_1d.mean(),get_std_err_of_mean(e_x_1d)))\n",
    "pd.Series(e_x_1d).describe()"
   ]
  }
 ],
 "metadata": {
  "kernelspec": {
   "display_name": "Python 3",
   "language": "python",
   "name": "python3"
  },
  "language_info": {
   "codemirror_mode": {
    "name": "ipython",
    "version": 3
   },
   "file_extension": ".py",
   "mimetype": "text/x-python",
   "name": "python",
   "nbconvert_exporter": "python",
   "pygments_lexer": "ipython3",
   "version": "3.7.3"
  },
  "papermill": {
   "duration": 16.580722,
   "end_time": "2019-10-22T03:34:38.295400",
   "environment_variables": {},
   "exception": null,
   "input_path": "/home/cz136/project/sa/lib/src/phi_e_sat.ipynb",
   "output_path": "/home/cz136/project/sa/lib/output/mcal/all/high_z/phi_e_sat.ipynb",
   "parameters": {
    "shape_cat": "mcal",
    "vol": "all",
    "z_range": "high_z"
   },
   "start_time": "2019-10-22T03:34:21.714678",
   "version": "1.2.0"
  }
 },
 "nbformat": 4,
 "nbformat_minor": 4
}