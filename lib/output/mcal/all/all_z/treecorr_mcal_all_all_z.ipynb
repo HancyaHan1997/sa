{
 "cells": [
  {
   "cell_type": "code",
   "execution_count": 1,
   "metadata": {
    "papermill": {
     "duration": 0.025891,
     "end_time": "2019-10-25T17:35:08.158725",
     "exception": false,
     "start_time": "2019-10-25T17:35:08.132834",
     "status": "completed"
    },
    "tags": [
     "parameters"
    ]
   },
   "outputs": [],
   "source": [
    "shape_cat=\"\"\n",
    "vol=\"\"\n",
    "z_range=\"\""
   ]
  },
  {
   "cell_type": "code",
   "execution_count": 2,
   "metadata": {
    "papermill": {
     "duration": 0.023084,
     "end_time": "2019-10-25T17:35:08.196304",
     "exception": false,
     "start_time": "2019-10-25T17:35:08.173220",
     "status": "completed"
    },
    "tags": [
     "injected-parameters"
    ]
   },
   "outputs": [],
   "source": [
    "# Parameters\n",
    "shape_cat = \"mcal\"\n",
    "vol = \"all\"\n",
    "z_range = \"all_z\"\n"
   ]
  },
  {
   "cell_type": "code",
   "execution_count": 3,
   "metadata": {
    "papermill": {
     "duration": 5.140275,
     "end_time": "2019-10-25T17:35:13.349258",
     "exception": false,
     "start_time": "2019-10-25T17:35:08.208983",
     "status": "completed"
    },
    "tags": []
   },
   "outputs": [],
   "source": [
    "#This header file contains all the common packages\n",
    "%matplotlib inline\n",
    "%run /home/cz136/project/sa/lib/src/header.py $shape_cat $vol $z_range "
   ]
  },
  {
   "cell_type": "code",
   "execution_count": 4,
   "metadata": {
    "papermill": {
     "duration": 0.023802,
     "end_time": "2019-10-25T17:35:13.389276",
     "exception": false,
     "start_time": "2019-10-25T17:35:13.365474",
     "status": "completed"
    },
    "tags": []
   },
   "outputs": [],
   "source": [
    "sep=\"------------------------------------------------------------------------------\"\n",
    "np.set_printoptions(precision=4)"
   ]
  },
  {
   "cell_type": "code",
   "execution_count": 5,
   "metadata": {},
   "outputs": [],
   "source": [
    "drop_id=clusters[('Alt','Alt1','ID_CENT')]"
   ]
  },
  {
   "cell_type": "code",
   "execution_count": 6,
   "metadata": {},
   "outputs": [],
   "source": [
    "satellite=shapes.drop(drop_id)"
   ]
  },
  {
   "cell_type": "code",
   "execution_count": 7,
   "metadata": {
    "papermill": {
     "duration": 0.022575,
     "end_time": "2019-10-25T17:35:13.424167",
     "exception": false,
     "start_time": "2019-10-25T17:35:13.401592",
     "status": "completed"
    },
    "tags": []
   },
   "outputs": [],
   "source": [
    "NBINS=10"
   ]
  },
  {
   "cell_type": "code",
   "execution_count": 8,
   "metadata": {},
   "outputs": [
    {
     "name": "stdout",
     "output_type": "stream",
     "text": [
      "12482\n"
     ]
    }
   ],
   "source": [
    "print(len(clusters))"
   ]
  },
  {
   "cell_type": "code",
   "execution_count": 9,
   "metadata": {
    "papermill": {
     "duration": 0.201633,
     "end_time": "2019-10-25T17:35:13.637891",
     "exception": false,
     "start_time": "2019-10-25T17:35:13.436258",
     "status": "completed"
    },
    "tags": []
   },
   "outputs": [],
   "source": [
    "import treecorr\n",
    "import astropy.cosmology\n",
    "from fastprogress import master_bar, progress_bar\n",
    "from ipywidgets import FloatProgress\n",
    "from IPython.display import display\n",
    "from tqdm import tqdm"
   ]
  },
  {
   "cell_type": "code",
   "execution_count": 10,
   "metadata": {
    "papermill": {
     "duration": 0.037562,
     "end_time": "2019-10-25T17:35:13.688887",
     "exception": false,
     "start_time": "2019-10-25T17:35:13.651325",
     "status": "completed"
    },
    "tags": []
   },
   "outputs": [],
   "source": [
    "assert np.isin(shapes['All','MEM_MATCH_ID'].to_numpy(),clusters.index.to_numpy()).all()==True"
   ]
  },
  {
   "cell_type": "code",
   "execution_count": 11,
   "metadata": {
    "papermill": {
     "duration": 0.029307,
     "end_time": "2019-10-25T17:35:13.730060",
     "exception": false,
     "start_time": "2019-10-25T17:35:13.700753",
     "status": "completed"
    },
    "tags": []
   },
   "outputs": [],
   "source": [
    "def get_ng(cluster,mode1,mode2):\n",
    "    if mode2==\"abs\":\n",
    "        UPPER_BOUND=np.max(shapes[('All','R')])\n",
    "        distance=('All','angR')\n",
    "        \n",
    "    elif mode2==\"rel\":\n",
    "        UPPER_BOUND=1.2\n",
    "        distance=('All','normLR')\n",
    "    else:\n",
    "        raise\n",
    "\n",
    "    if mode1 == \"s\":\n",
    "        def get_cluster_cen(cluster):\n",
    "            cen_id=cluster[('Alt','Alt1','ID_CENT')]\n",
    "            return (shapes.loc[cen_id])\n",
    "        def get_cluster_sats(cluster):\n",
    "            cen_mat_id=cluster.name\n",
    "            sats=satellite[satellite['All','MEM_MATCH_ID']==cen_mat_id]\n",
    "            return (sats)\n",
    "    elif mode1=='r':\n",
    "        def get_cluster_sats(cluster):\n",
    "            return(satellite)\n",
    "        def get_cluster_cen(cluster):\n",
    "            return (random)\n",
    "\n",
    "    else:\n",
    "        raise\n",
    "\n",
    "\n",
    "    cen=get_cluster_cen(cluster)\n",
    "    sats=get_cluster_sats(cluster)\n",
    "\n",
    "\n",
    "    sats_e1=sats[('All','e1')].to_numpy()\n",
    "    sats_e2=sats[('All','e2')].to_numpy()\n",
    "    sats_angr=sats[distance]\n",
    "\n",
    "#     print(sats_e1,sats_e2)\n",
    "\n",
    "    if type(cen[('All','RA')])==np.float64:\n",
    "        cen_angr=np.array(cen[distance]).reshape(1)\n",
    "        cen_ra=np.array(cen[('All','RA')]).reshape(1)\n",
    "        cen_dec=np.array(cen[('All','DEC')]).reshape(1)\n",
    "    else:\n",
    "#         cen_e1=cen[('All','e1')].to_numpy\n",
    "#         cen_e2=cen[('All','e2')].to_numpy()\n",
    "        cen_angr=cen[distance].to_numpy()\n",
    "        cen_ra=cen[('All','RA')].to_numpy()\n",
    "        cen_dec=cen[('All','DEC')].to_numpy()\n",
    "\n",
    "\n",
    "\n",
    "\n",
    "#     print(cen_e1,cen_e2)\n",
    "\n",
    "    sats_ra=sats[('All','RA')].to_numpy()\n",
    "    sats_dec=sats[('All','DEC')].to_numpy()\n",
    "\n",
    "\n",
    "\n",
    "\n",
    "#     print(np.shape(cen_ra),np.shape(cen_dec))    \n",
    "#     print(cen_ra,cen_dec)    \n",
    "\n",
    "    sats_cat = treecorr.Catalog( g1 = sats_e1, g2   = sats_e2, \n",
    "                                 ra = sats_ra, dec = sats_dec,r=sats_angr,\n",
    "                                 ra_units='deg', dec_units='deg')\n",
    "\n",
    "    cen_cat = treecorr.Catalog( \n",
    "                                 ra = cen_ra, dec = cen_dec, r=cen_angr,\n",
    "                                 ra_units='deg', dec_units='deg')\n",
    "\n",
    "    ng = treecorr.NGCorrelation(nbins=NBINS, min_sep=0.01, max_sep=UPPER_BOUND, bin_slop=0.0,\n",
    "                               metric=\"Rperp\")\n",
    "    ng.process_cross(cen_cat,sats_cat)\n",
    "\n",
    "    return(ng)"
   ]
  },
  {
   "cell_type": "code",
   "execution_count": 12,
   "metadata": {
    "papermill": {
     "duration": 0.021011,
     "end_time": "2019-10-25T17:35:13.762677",
     "exception": false,
     "start_time": "2019-10-25T17:35:13.741666",
     "status": "completed"
    },
    "tags": []
   },
   "outputs": [],
   "source": [
    "def get_xi_meanlogr_varxi_npairs(cluster,mode1,mode2):\n",
    "    ng=get_ng(cluster,mode1,mode2)\n",
    "    return(np.array([ng.xi,ng.meanlogr,ng.varxi,ng.npairs]))"
   ]
  },
  {
   "cell_type": "code",
   "execution_count": 13,
   "metadata": {
    "papermill": {
     "duration": 0.0217,
     "end_time": "2019-10-25T17:35:13.797537",
     "exception": false,
     "start_time": "2019-10-25T17:35:13.775837",
     "status": "completed"
    },
    "tags": []
   },
   "outputs": [],
   "source": [
    "length=len(clusters)\n",
    "\n",
    "def get_ng_list(mode2):\n",
    "    ng_list=np.empty([length,4,NBINS])\n",
    "\n",
    "    i=0\n",
    "    for index,cluster in tqdm(clusters.iterrows()):\n",
    "        try:\n",
    "            ng_list[(i),:,:]=get_xi_meanlogr_varxi_npairs(cluster,'s',mode2)\n",
    "            i=i+1\n",
    "        except ValueError as e:\n",
    "            print(e)\n",
    "    return (ng_list)"
   ]
  },
  {
   "cell_type": "code",
   "execution_count": 14,
   "metadata": {
    "papermill": {
     "duration": 153.204357,
     "end_time": "2019-10-25T17:37:47.013427",
     "exception": false,
     "start_time": "2019-10-25T17:35:13.809070",
     "status": "completed"
    },
    "tags": []
   },
   "outputs": [
    {
     "name": "stderr",
     "output_type": "stream",
     "text": [
      "7960it [00:24, 329.19it/s]"
     ]
    },
    {
     "name": "stdout",
     "output_type": "stream",
     "text": [
      "Catalog has no objects!\n"
     ]
    },
    {
     "name": "stderr",
     "output_type": "stream",
     "text": [
      "10927it [00:34, 339.31it/s]"
     ]
    },
    {
     "name": "stdout",
     "output_type": "stream",
     "text": [
      "Catalog has no objects!\n",
      "Catalog has no objects!\n"
     ]
    },
    {
     "name": "stderr",
     "output_type": "stream",
     "text": [
      "11096it [00:34, 331.26it/s]"
     ]
    },
    {
     "name": "stdout",
     "output_type": "stream",
     "text": [
      "Catalog has no objects!\n"
     ]
    },
    {
     "name": "stderr",
     "output_type": "stream",
     "text": [
      "11368it [00:35, 330.05it/s]"
     ]
    },
    {
     "name": "stdout",
     "output_type": "stream",
     "text": [
      "Catalog has no objects!\n"
     ]
    },
    {
     "name": "stderr",
     "output_type": "stream",
     "text": [
      "12300it [00:38, 304.49it/s]"
     ]
    },
    {
     "name": "stdout",
     "output_type": "stream",
     "text": [
      "Catalog has no objects!\n",
      "Catalog has no objects!\n"
     ]
    },
    {
     "name": "stderr",
     "output_type": "stream",
     "text": [
      "12458it [00:38, 309.57it/s]"
     ]
    },
    {
     "name": "stdout",
     "output_type": "stream",
     "text": [
      "Catalog has no objects!\n",
      "Catalog has no objects!\n",
      "Catalog has no objects!\n"
     ]
    },
    {
     "name": "stderr",
     "output_type": "stream",
     "text": [
      "12482it [00:38, 320.38it/s]\n",
      "7979it [00:22, 375.72it/s]"
     ]
    },
    {
     "name": "stdout",
     "output_type": "stream",
     "text": [
      "Catalog has no objects!\n"
     ]
    },
    {
     "name": "stderr",
     "output_type": "stream",
     "text": [
      "10911it [00:30, 364.83it/s]"
     ]
    },
    {
     "name": "stdout",
     "output_type": "stream",
     "text": [
      "Catalog has no objects!\n",
      "Catalog has no objects!\n"
     ]
    },
    {
     "name": "stderr",
     "output_type": "stream",
     "text": [
      "11098it [00:31, 353.44it/s]"
     ]
    },
    {
     "name": "stdout",
     "output_type": "stream",
     "text": [
      "Catalog has no objects!\n"
     ]
    },
    {
     "name": "stderr",
     "output_type": "stream",
     "text": [
      "11363it [00:32, 373.08it/s]"
     ]
    },
    {
     "name": "stdout",
     "output_type": "stream",
     "text": [
      "Catalog has no objects!\n"
     ]
    },
    {
     "name": "stderr",
     "output_type": "stream",
     "text": [
      "12314it [00:34, 370.08it/s]"
     ]
    },
    {
     "name": "stdout",
     "output_type": "stream",
     "text": [
      "Catalog has no objects!\n",
      "Catalog has no objects!\n"
     ]
    },
    {
     "name": "stderr",
     "output_type": "stream",
     "text": [
      "12482it [00:35, 355.68it/s]"
     ]
    },
    {
     "name": "stdout",
     "output_type": "stream",
     "text": [
      "Catalog has no objects!\n",
      "Catalog has no objects!\n",
      "Catalog has no objects!\n"
     ]
    },
    {
     "name": "stderr",
     "output_type": "stream",
     "text": [
      "\n"
     ]
    }
   ],
   "source": [
    "ng_abs=get_ng_list('abs')\n",
    "ng_rel=get_ng_list('rel')"
   ]
  },
  {
   "cell_type": "code",
   "execution_count": 15,
   "metadata": {
    "papermill": {
     "duration": 8.337267,
     "end_time": "2019-10-25T17:37:55.709709",
     "exception": false,
     "start_time": "2019-10-25T17:37:47.372442",
     "status": "completed"
    },
    "tags": []
   },
   "outputs": [],
   "source": [
    "try:\n",
    "    ng_r=get_xi_meanlogr_varxi_npairs(clusters,'r','abs')\n",
    "except ValueError as e:\n",
    "    print(e)\n",
    "    ng_r=np.array([[1],[1],[1],[1]])"
   ]
  },
  {
   "cell_type": "code",
   "execution_count": 16,
   "metadata": {
    "papermill": {
     "duration": 0.29261,
     "end_time": "2019-10-25T17:37:56.287163",
     "exception": false,
     "start_time": "2019-10-25T17:37:55.994553",
     "status": "completed"
    },
    "tags": []
   },
   "outputs": [],
   "source": [
    "# ng_list=np.load(\"/home/cz136/project/sa/data/{}/ng_list_cross.npy\".format(dir_string))\n",
    "# ng_r=np.load(\"/home/cz136/project/sa/data/{}/ng_r_list_cross.npy\".format(dir_string))\n",
    "length=len(clusters)"
   ]
  },
  {
   "cell_type": "code",
   "execution_count": 17,
   "metadata": {
    "papermill": {
     "duration": 2.169015,
     "end_time": "2019-10-25T17:37:58.738923",
     "exception": false,
     "start_time": "2019-10-25T17:37:56.569908",
     "status": "completed"
    },
    "tags": []
   },
   "outputs": [],
   "source": [
    "def get_sum(ng_list):\n",
    "    sum_xi_cross=np.sum(ng_list[:,0,:],axis=0)\n",
    "    sum_meanlogr=np.sum(ng_list[:,1,:],axis=0)\n",
    "    sum_npairs=np.sum(ng_list[:,3,:],axis=0)\n",
    "    return(sum_xi_cross,sum_meanlogr,sum_npairs)\n",
    "\n",
    "def get_mean(ng_list):\n",
    "    sum_xi_cross=np.sum(ng_list[:,0,:],axis=0)\n",
    "    sum_meanlogr=np.sum(ng_list[:,1,:],axis=0)\n",
    "    sum_npairs=np.sum(ng_list[:,3,:],axis=0)\n",
    "    return(sum_xi_cross/sum_npairs,sum_meanlogr/sum_npairs)"
   ]
  },
  {
   "cell_type": "code",
   "execution_count": 18,
   "metadata": {
    "papermill": {
     "duration": 0.287414,
     "end_time": "2019-10-25T17:37:59.305113",
     "exception": false,
     "start_time": "2019-10-25T17:37:59.017699",
     "status": "completed"
    },
    "tags": []
   },
   "outputs": [],
   "source": [
    "def get_sigma(ng_list):\n",
    "    xi_array=ng_list[:,0,:]\n",
    "    npairs_array=ng_list[:,3,:]\n",
    "    \n",
    "    N=len(xi_array)\n",
    "    \n",
    "    jk_xi_array=np.empty([N,NBINS])\n",
    "    \n",
    "    def get_xi(drop_1_xi,drop_1_npairs):\n",
    "        return(np.sum(drop_1_xi,axis=0)/np.sum(drop_1_npairs,axis=0))\n",
    "    \n",
    "    for i in range(N):\n",
    "        drop_1_xi=np.delete(xi_array,i,axis=0)\n",
    "        drop_1_npairs=np.delete(npairs_array,i,axis=0)\n",
    "        jk_xi_array[i,:]=get_xi(drop_1_xi,drop_1_npairs)\n",
    "        \n",
    "    return(np.sqrt(N)*np.std(jk_xi_array,axis=0))"
   ]
  },
  {
   "cell_type": "code",
   "execution_count": 19,
   "metadata": {
    "papermill": {
     "duration": 58.154817,
     "end_time": "2019-10-25T17:38:57.739255",
     "exception": false,
     "start_time": "2019-10-25T17:37:59.584438",
     "status": "completed"
    },
    "tags": []
   },
   "outputs": [],
   "source": [
    "sum_abs=get_sum(ng_abs)\n",
    "mean_abs=get_mean(ng_abs)\n",
    "sig_abs=get_sigma(ng_abs)\n",
    "\n",
    "sum_rel=get_sum(ng_rel)\n",
    "mean_rel=get_mean(ng_rel)\n",
    "sig_rel=get_sigma(ng_rel)"
   ]
  },
  {
   "cell_type": "code",
   "execution_count": 20,
   "metadata": {
    "papermill": {
     "duration": 0.29467,
     "end_time": "2019-10-25T17:38:58.485066",
     "exception": false,
     "start_time": "2019-10-25T17:38:58.190396",
     "status": "completed"
    },
    "tags": []
   },
   "outputs": [],
   "source": [
    "r_xi=ng_r[0]/ng_r[3]\n",
    "r_meanlogr=ng_r[1]/ng_r[3]\n",
    "r_sigma=r_xi/np.sqrt(length)"
   ]
  },
  {
   "cell_type": "code",
   "execution_count": 21,
   "metadata": {
    "papermill": {
     "duration": 0.296823,
     "end_time": "2019-10-25T17:38:59.233830",
     "exception": false,
     "start_time": "2019-10-25T17:38:58.937007",
     "status": "completed"
    },
    "tags": []
   },
   "outputs": [],
   "source": [
    "def plt_w_error(meanlogr,xi,varxi,title):\n",
    "    fig,ax=plt.subplots()\n",
    "    ax.errorbar(np.exp(meanlogr),xi,yerr=varxi)\n",
    "    ax.set_title(title)\n",
    "    ax.set_xscale('log')\n",
    "#     ax.set_ylim(-0.020,0.020)\n",
    "    plt.show()\n",
    "    \n",
    "    if title==r\"$\\gamma_T$ of Clusters, Normalized by R_LAMBDA\":\n",
    "        plt.savefig(\"/home/cz136/project/sa/image/rel_{}_{}_{}.png\".format(shape_cat,vol,z_range))\n",
    "#     plt.xscale('log')\n",
    "#     plt.yscale('log')"
   ]
  },
  {
   "cell_type": "markdown",
   "metadata": {
    "papermill": {
     "duration": 0.406332,
     "end_time": "2019-10-25T17:39:00.089086",
     "exception": false,
     "start_time": "2019-10-25T17:38:59.682754",
     "status": "completed"
    },
    "tags": []
   },
   "source": [
    "# Statistics"
   ]
  },
  {
   "cell_type": "markdown",
   "metadata": {
    "papermill": {
     "duration": 0.279365,
     "end_time": "2019-10-25T17:39:00.644042",
     "exception": false,
     "start_time": "2019-10-25T17:39:00.364677",
     "status": "completed"
    },
    "tags": []
   },
   "source": [
    "# Abs Plots"
   ]
  },
  {
   "cell_type": "code",
   "execution_count": 22,
   "metadata": {
    "papermill": {
     "duration": 0.97839,
     "end_time": "2019-10-25T17:39:01.900922",
     "exception": false,
     "start_time": "2019-10-25T17:39:00.922532",
     "status": "completed"
    },
    "tags": []
   },
   "outputs": [
    {
     "data": {
      "image/png": "[encoded data removed]",
      "text/plain": [
       "<Figure size 432x288 with 1 Axes>"
      ]
     },
     "metadata": {
      "needs_background": "light"
     },
     "output_type": "display_data"
    },
    {
     "name": "stdout",
     "output_type": "stream",
     "text": [
      "[-74.3541 -96.568  -54.9511 -51.8296  -9.5902  26.6949  16.2183  64.852\n",
      "  25.2328  -6.5631]\n",
      "------------------------------------------------------------------------------\n",
      "[ -6828.7228 -12722.1448 -17673.627  -25008.7117 -34585.9635 -44846.2807\n",
      " -49931.2637 -44189.503  -23020.9087  -1947.8307]\n",
      "------------------------------------------------------------------------------\n",
      "[ 1579.  3295.  5219.  8621. 14284. 23116. 34131. 44674. 43621. 11642.]\n",
      "------------------------------------------------------------------------------\n",
      "[-0.0471 -0.0293 -0.0105 -0.006  -0.0007  0.0012  0.0005  0.0015  0.0006\n",
      " -0.0006]\n",
      "------------------------------------------------------------------------------\n",
      "[-4.3247 -3.861  -3.3864 -2.9009 -2.4213 -1.9401 -1.4629 -0.9892 -0.5277\n",
      " -0.1673]\n",
      "------------------------------------------------------------------------------\n"
     ]
    }
   ],
   "source": [
    "plt_w_error(mean_abs[1],-mean_abs[0],sig_abs,r\"$\\gamma_T$ of Clusters On a Absolute Scale \")\n",
    "for data  in sum_abs:\n",
    "    print(data)\n",
    "    print(sep)\n",
    "for data in mean_abs:\n",
    "    print(data)\n",
    "    print(sep)"
   ]
  },
  {
   "cell_type": "code",
   "execution_count": 23,
   "metadata": {
    "papermill": {
     "duration": 0.826196,
     "end_time": "2019-10-25T17:39:03.017516",
     "exception": false,
     "start_time": "2019-10-25T17:39:02.191320",
     "status": "completed"
    },
    "tags": []
   },
   "outputs": [
    {
     "data": {
      "image/png": "[encoded data removed]",
      "text/plain": [
       "<Figure size 432x288 with 1 Axes>"
      ]
     },
     "metadata": {
      "needs_background": "light"
     },
     "output_type": "display_data"
    },
    {
     "name": "stdout",
     "output_type": "stream",
     "text": [
      "[ 1.4637e-03 -2.1491e-03  8.7399e-04  6.5203e-04 -3.2370e-04 -3.0057e-04\n",
      " -2.1715e-04  2.3727e-04 -2.4217e-05 -2.1984e-05]\n",
      "[-1.3101e-05  1.9236e-05 -7.8229e-06 -5.8361e-06  2.8973e-06  2.6904e-06\n",
      "  1.9436e-06 -2.1237e-06  2.1676e-07  1.9678e-07]\n"
     ]
    }
   ],
   "source": [
    "plt_w_error(r_meanlogr,-r_xi,r_sigma,r\"$\\gamma_T$ with Random Catalog\")\n",
    "print(-r_xi)\n",
    "print(r_sigma)"
   ]
  },
  {
   "cell_type": "code",
   "execution_count": 24,
   "metadata": {
    "papermill": {
     "duration": 0.993628,
     "end_time": "2019-10-25T17:39:04.362628",
     "exception": false,
     "start_time": "2019-10-25T17:39:03.369000",
     "status": "completed"
    },
    "tags": []
   },
   "outputs": [
    {
     "data": {
      "image/png": "[encoded data removed]",
      "text/plain": [
       "<Figure size 432x288 with 1 Axes>"
      ]
     },
     "metadata": {
      "needs_background": "light"
     },
     "output_type": "display_data"
    }
   ],
   "source": [
    "plt_w_error(mean_abs[1],-(mean_abs[0]+r_xi),np.hypot(r_sigma,sig_abs),r\"$\\gamma_T$ of Clusters - $\\gamma_T$ with Random Catalog\")"
   ]
  },
  {
   "cell_type": "markdown",
   "metadata": {
    "papermill": {
     "duration": 0.291403,
     "end_time": "2019-10-25T17:39:04.947459",
     "exception": false,
     "start_time": "2019-10-25T17:39:04.656056",
     "status": "completed"
    },
    "tags": []
   },
   "source": [
    "# Rel plots"
   ]
  },
  {
   "cell_type": "code",
   "execution_count": 25,
   "metadata": {
    "papermill": {
     "duration": 1.018944,
     "end_time": "2019-10-25T17:39:06.253231",
     "exception": false,
     "start_time": "2019-10-25T17:39:05.234287",
     "status": "completed"
    },
    "tags": []
   },
   "outputs": [
    {
     "data": {
      "image/png": "[encoded data removed]",
      "text/plain": [
       "<Figure size 432x288 with 1 Axes>"
      ]
     },
     "metadata": {
      "needs_background": "light"
     },
     "output_type": "display_data"
    },
    {
     "name": "stdout",
     "output_type": "stream",
     "text": [
      "[-23.962  -85.1854 -62.3736 -28.8491 -40.2158  43.9582  48.5851  18.3484\n",
      "  53.4146  51.7544]\n",
      "------------------------------------------------------------------------------\n",
      "[ -3683.7732  -9280.4294 -14142.5969 -19405.6229 -26680.63   -35365.9988\n",
      " -41474.4222 -40049.9839 -25344.599   -3553.924 ]\n",
      "------------------------------------------------------------------------------\n",
      "[  876.0972  2426.7471  4185.7973  6687.5944 10999.7975 18141.4734\n",
      " 28111.9078 39917.9197 47475.7547 31776.6933]\n",
      "------------------------------------------------------------------------------\n",
      "[-0.0274 -0.0351 -0.0149 -0.0043 -0.0037  0.0024  0.0017  0.0005  0.0011\n",
      "  0.0016]\n",
      "------------------------------------------------------------------------------\n",
      "[-4.2048 -3.8242 -3.3787 -2.9017 -2.4256 -1.9495 -1.4753 -1.0033 -0.5338\n",
      " -0.1118]\n",
      "------------------------------------------------------------------------------\n"
     ]
    },
    {
     "data": {
      "text/plain": [
       "<Figure size 432x288 with 0 Axes>"
      ]
     },
     "metadata": {},
     "output_type": "display_data"
    }
   ],
   "source": [
    "plt_w_error(mean_rel[1],-mean_rel[0],sig_rel,r\"$\\gamma_T$ of Clusters, Normalized by R_LAMBDA\")\n",
    "for data  in sum_rel:\n",
    "    print(data)\n",
    "    print(sep)\n",
    "for data in mean_rel:\n",
    "    print(data)\n",
    "    print(sep)"
   ]
  }
 ],
 "metadata": {
  "kernelspec": {
   "display_name": "Python 3",
   "language": "python",
   "name": "python3"
  },
  "language_info": {
   "codemirror_mode": {
    "name": "ipython",
    "version": 3
   },
   "file_extension": ".py",
   "mimetype": "text/x-python",
   "name": "python",
   "nbconvert_exporter": "python",
   "pygments_lexer": "ipython3",
   "version": "3.7.3"
  },
  "papermill": {
   "duration": 241.340425,
   "end_time": "2019-10-25T17:39:07.457660",
   "environment_variables": {},
   "exception": null,
   "input_path": "/home/cz136/project/sa/lib/src/treecorr_cross.ipynb",
   "output_path": "/home/cz136/project/sa/lib/output/mcal/all/all_z/treecorr_mcal_all_all_z.ipynb",
   "parameters": {
    "shape_cat": "mcal",
    "vol": "all",
    "z_range": "all_z"
   },
   "start_time": "2019-10-25T17:35:06.117235",
   "version": "1.2.0"
  }
 },
 "nbformat": 4,
 "nbformat_minor": 4
}
