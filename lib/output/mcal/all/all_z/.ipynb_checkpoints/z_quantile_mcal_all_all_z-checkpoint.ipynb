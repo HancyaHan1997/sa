{
 "cells": [
  {
   "cell_type": "code",
   "execution_count": 12,
   "metadata": {
    "papermill": {
     "duration": 0.021311,
     "end_time": "2019-11-04T00:01:46.093701",
     "exception": false,
     "start_time": "2019-11-04T00:01:46.072390",
     "status": "completed"
    },
    "tags": [
     "parameters"
    ]
   },
   "outputs": [],
   "source": [
    "shape_cat=\"\"\n",
    "vol=\"\"\n",
    "z_range=\"\"\n",
    "key=\"\""
   ]
  },
  {
   "cell_type": "code",
   "execution_count": 13,
   "metadata": {
    "papermill": {
     "duration": 0.019468,
     "end_time": "2019-11-04T00:01:46.124748",
     "exception": false,
     "start_time": "2019-11-04T00:01:46.105280",
     "status": "completed"
    },
    "tags": [
     "injected-parameters"
    ]
   },
   "outputs": [],
   "source": [
    "# Parameters\n",
    "shape_cat = \"mcal\"\n",
    "vol = \"all\"\n",
    "z_range = \"all_z\"\n",
    "key = \"z\"\n"
   ]
  },
  {
   "cell_type": "code",
   "execution_count": 14,
   "metadata": {
    "papermill": {
     "duration": 0.018657,
     "end_time": "2019-11-04T00:01:46.151564",
     "exception": false,
     "start_time": "2019-11-04T00:01:46.132907",
     "status": "completed"
    },
    "tags": []
   },
   "outputs": [],
   "source": [
    "if key==\"lambda\":\n",
    "    key=('All','All','LAMBDA_CHISQ')\n",
    "elif key==\"z\":\n",
    "    key=('All','All','Z_LAMBDA')"
   ]
  },
  {
   "cell_type": "code",
   "execution_count": 15,
   "metadata": {
    "papermill": {
     "duration": 4.454497,
     "end_time": "2019-11-04T00:01:50.617122",
     "exception": false,
     "start_time": "2019-11-04T00:01:46.162625",
     "status": "completed"
    },
    "tags": []
   },
   "outputs": [],
   "source": [
    "#This header file contains all the common packages\n",
    "%matplotlib inline\n",
    "%run /home/cz136/project/sa/lib/src/header.py $shape_cat $vol $z_range \n",
    "%run -i /home/cz136/project/sa/lib/src/func.py  "
   ]
  },
  {
   "cell_type": "code",
   "execution_count": 16,
   "metadata": {
    "papermill": {
     "duration": 0.026426,
     "end_time": "2019-11-04T00:01:50.660572",
     "exception": false,
     "start_time": "2019-11-04T00:01:50.634146",
     "status": "completed"
    },
    "tags": []
   },
   "outputs": [],
   "source": [
    "def thirds_by_key(catalog,key):\n",
    "    step0=catalog[key].quantile(0.0)\n",
    "    step1=catalog[key].quantile(0.333333)\n",
    "    step2=catalog[key].quantile(0.666666)\n",
    "    step3=catalog[key].quantile(1)\n",
    "    \n",
    "    catalog1=catalog[(catalog[key]>step0) & (catalog[key]<step1)]\n",
    "    catalog2=catalog[(catalog[key]>step1) & (catalog[key]<step2)]\n",
    "    catalog3=catalog[(catalog[key]>step2) & (catalog[key]<step3)]\n",
    "    \n",
    "    return (catalog1,catalog2,catalog3)"
   ]
  },
  {
   "cell_type": "code",
   "execution_count": 17,
   "metadata": {
    "papermill": {
     "duration": 0.055428,
     "end_time": "2019-11-04T00:01:50.728095",
     "exception": false,
     "start_time": "2019-11-04T00:01:50.672667",
     "status": "completed"
    },
    "tags": []
   },
   "outputs": [],
   "source": [
    "if key!=\"\":\n",
    "    clusters_list=thirds_by_key(clusters,key)"
   ]
  },
  {
   "cell_type": "code",
   "execution_count": 18,
   "metadata": {
    "papermill": {
     "duration": 0.029248,
     "end_time": "2019-11-04T00:01:50.775374",
     "exception": false,
     "start_time": "2019-11-04T00:01:50.746126",
     "status": "completed"
    },
    "tags": []
   },
   "outputs": [],
   "source": [
    "cluster_list=[None]*3\n",
    "for quantile in range(3):\n",
    "    cluster_list[quantile]=np.load(\"/home/cz136/project/sa/data/2pt/{}_{}_{}_{}.npz\".format(shape_cat,vol,key,quantile))"
   ]
  },
  {
   "cell_type": "code",
   "execution_count": 19,
   "metadata": {
    "papermill": {
     "duration": 0.02298,
     "end_time": "2019-11-04T00:01:50.808889",
     "exception": false,
     "start_time": "2019-11-04T00:01:50.785909",
     "status": "completed"
    },
    "tags": []
   },
   "outputs": [
    {
     "name": "stdout",
     "output_type": "stream",
     "text": [
      "0.47678202390670776\n",
      "0.7276058197021484\n",
      "0.8872956037521362\n"
     ]
    }
   ],
   "source": [
    "print(clusters_list[0][key].mean())\n",
    "print(clusters_list[1][key].mean())\n",
    "print(clusters_list[2][key].mean())"
   ]
  },
  {
   "cell_type": "code",
   "execution_count": 20,
   "metadata": {
    "papermill": {
     "duration": 0.018847,
     "end_time": "2019-11-04T00:01:50.842010",
     "exception": false,
     "start_time": "2019-11-04T00:01:50.823163",
     "status": "completed"
    },
    "tags": []
   },
   "outputs": [],
   "source": [
    "# sum_abs,mean_abs,sig_abs,sum_rel,mean_rel,sig_rel,r_xi,r_meanlogr,r_sigma"
   ]
  },
  {
   "cell_type": "code",
   "execution_count": 24,
   "metadata": {
    "papermill": {
     "duration": 0.022794,
     "end_time": "2019-11-04T00:01:50.877032",
     "exception": false,
     "start_time": "2019-11-04T00:01:50.854238",
     "status": "completed"
    },
    "tags": []
   },
   "outputs": [],
   "source": [
    "def plt_w_error(cluster_file,label_):\n",
    "    mean_rel=cluster_file['mean_abs']\n",
    "    sig_rel=cluster_file['sig_abs']\n",
    "    \n",
    "    meanlogr=mean_rel[1]\n",
    "    print(meanlogr)\n",
    "    xi=mean_rel[0]\n",
    "    varxi=sig_rel\n",
    "    \n",
    "    \n",
    "    ax.errorbar(np.exp(meanlogr),-xi,yerr=varxi,label=label_)\n",
    "    ax.set_xscale('log')"
   ]
  },
  {
   "cell_type": "code",
   "execution_count": 25,
   "metadata": {
    "papermill": {
     "duration": 0.80911,
     "end_time": "2019-11-04T00:01:51.698887",
     "exception": false,
     "start_time": "2019-11-04T00:01:50.889777",
     "status": "completed"
    },
    "tags": []
   },
   "outputs": [
    {
     "name": "stdout",
     "output_type": "stream",
     "text": [
      "[-4.32827555 -3.85546335 -3.38809134 -2.89970755 -2.42258157 -1.93795377\n",
      " -1.46327536 -0.98684275 -0.51708729 -0.1647072 ]\n",
      "[-4.31691562 -3.86596274 -3.38597638 -2.90395127 -2.41946254 -1.94157651\n",
      " -1.46219912 -0.99001049 -0.53891849 -0.16729648]\n",
      "[-4.3296466  -3.86668715 -3.3828792  -2.89851998 -2.42124072 -1.94251898\n",
      " -1.46337265 -0.99370208 -0.54307088 -0.181167  ]\n"
     ]
    },
    {
     "data": {
      "image/png": "[encoded data removed]",
      "text/plain": [
       "<Figure size 432x288 with 1 Axes>"
      ]
     },
     "metadata": {},
     "output_type": "display_data"
    }
   ],
   "source": [
    "fig,ax=plt.subplots()\n",
    "\n",
    "label_list=[\"First\",\"Second\",\"Third\"]\n",
    "\n",
    "for i,cluster_file in enumerate(cluster_list):\n",
    "    plt_w_error(cluster_file,label_list[i])\n",
    "    plt.legend()\n",
    "    plt.title(\"Quantile comparison of {}\".format(key))"
   ]
  },
  {
   "cell_type": "markdown",
   "metadata": {
    "papermill": {
     "duration": 0.010232,
     "end_time": "2019-11-04T00:01:51.721010",
     "exception": false,
     "start_time": "2019-11-04T00:01:51.710778",
     "status": "completed"
    },
    "tags": []
   },
   "source": [
    "# Statistics"
   ]
  },
  {
   "cell_type": "code",
   "execution_count": 23,
   "metadata": {
    "papermill": {
     "duration": 0.021066,
     "end_time": "2019-11-04T00:01:51.752867",
     "exception": false,
     "start_time": "2019-11-04T00:01:51.731801",
     "status": "completed"
    },
    "tags": []
   },
   "outputs": [],
   "source": [
    "def print_data(sum_,mean_):\n",
    "    sum_string=[\"Aggregated xi:\", \"Aggregated meanlogr:\",\"Aggregated npairs:\"]\n",
    "    for i,data in enumerate(sum_):\n",
    "        print(sum_string[i])\n",
    "        print(sum_[i])\n",
    "        print(sep)\n",
    "    mean_string=[\"Mean xi:\", \"Mean meanlogr:\",\"Mean npairs:\"]\n",
    "    for i,data in enumerate(mean_):\n",
    "        print(mean_string[i])\n",
    "        print(mean_[i])\n",
    "        print(sep)"
   ]
  }
 ],
 "metadata": {
  "kernelspec": {
   "display_name": "Python 3",
   "language": "python",
   "name": "python3"
  },
  "language_info": {
   "codemirror_mode": {
    "name": "ipython",
    "version": 3
   },
   "file_extension": ".py",
   "mimetype": "text/x-python",
   "name": "python",
   "nbconvert_exporter": "python",
   "pygments_lexer": "ipython3",
   "version": "3.7.3"
  },
  "papermill": {
   "duration": 8.747644,
   "end_time": "2019-11-04T00:01:52.679062",
   "environment_variables": {},
   "exception": null,
   "input_path": "/home/cz136/project/sa/lib/src/quantile_compare.ipynb",
   "output_path": "/home/cz136/project/sa/lib/output/mcal/all/all_z/z_quantile_mcal_all_all_z.ipynb",
   "parameters": {
    "key": "z",
    "shape_cat": "mcal",
    "vol": "all",
    "z_range": "all_z"
   },
   "start_time": "2019-11-04T00:01:43.931418",
   "version": "1.2.0"
  }
 },
 "nbformat": 4,
 "nbformat_minor": 4
}
