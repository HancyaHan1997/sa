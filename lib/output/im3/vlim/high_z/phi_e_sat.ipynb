{
 "cells": [
  {
   "cell_type": "code",
   "execution_count": 1,
   "metadata": {
    "papermill": {
     "duration": 0.015382,
     "end_time": "2019-10-27T18:10:27.500736",
     "exception": false,
     "start_time": "2019-10-27T18:10:27.485354",
     "status": "completed"
    },
    "tags": [
     "parameters"
    ]
   },
   "outputs": [],
   "source": [
    "shape_cat=\"\"\n",
    "vol=\"\"\n",
    "z_range=\"\""
   ]
  },
  {
   "cell_type": "code",
   "execution_count": 2,
   "metadata": {
    "papermill": {
     "duration": 0.013602,
     "end_time": "2019-10-27T18:10:27.525662",
     "exception": false,
     "start_time": "2019-10-27T18:10:27.512060",
     "status": "completed"
    },
    "tags": [
     "injected-parameters"
    ]
   },
   "outputs": [],
   "source": [
    "# Parameters\n",
    "shape_cat = \"im3\"\n",
    "vol = \"vlim\"\n",
    "z_range = \"high_z\"\n"
   ]
  },
  {
   "cell_type": "code",
   "execution_count": 3,
   "metadata": {
    "papermill": {
     "duration": 2.063517,
     "end_time": "2019-10-27T18:10:29.598448",
     "exception": false,
     "start_time": "2019-10-27T18:10:27.534931",
     "status": "completed"
    },
    "tags": []
   },
   "outputs": [],
   "source": [
    "#This header file contains all the common packages\n",
    "%matplotlib inline\n",
    "%run /home/cz136/project/sa/lib/src/header.py $shape_cat $vol $z_range "
   ]
  },
  {
   "cell_type": "code",
   "execution_count": 4,
   "metadata": {
    "papermill": {
     "duration": 0.015156,
     "end_time": "2019-10-27T18:10:29.624556",
     "exception": false,
     "start_time": "2019-10-27T18:10:29.609400",
     "status": "completed"
    },
    "tags": []
   },
   "outputs": [
    {
     "name": "stdout",
     "output_type": "stream",
     "text": [
      "645\n",
      "10072\n"
     ]
    }
   ],
   "source": [
    "print(len(clusters))\n",
    "print(len(shapes))"
   ]
  },
  {
   "cell_type": "code",
   "execution_count": 5,
   "metadata": {
    "papermill": {
     "duration": 0.017549,
     "end_time": "2019-10-27T18:10:29.652841",
     "exception": false,
     "start_time": "2019-10-27T18:10:29.635292",
     "status": "completed"
    },
    "tags": []
   },
   "outputs": [],
   "source": [
    "# Print the numbers of galaxies that needed to be masked\n",
    "\n",
    "assert np.sum(shapes[('All','e1')]==-9999)==0\n",
    "assert np.sum(shapes[('All','e2')]==-9999)==0\n",
    "assert np.sum(shapes['All','flags_select'])==0\n",
    "assert np.sum(shapes[('All','PP')]<=0.55)==0"
   ]
  },
  {
   "cell_type": "code",
   "execution_count": 6,
   "metadata": {
    "papermill": {
     "duration": 0.016472,
     "end_time": "2019-10-27T18:10:29.678448",
     "exception": false,
     "start_time": "2019-10-27T18:10:29.661976",
     "status": "completed"
    },
    "tags": []
   },
   "outputs": [
    {
     "name": "stdout",
     "output_type": "stream",
     "text": [
      "645\n",
      "10072\n"
     ]
    }
   ],
   "source": [
    "#masking\n",
    "print(len(clusters))\n",
    "print(len(shapes))"
   ]
  },
  {
   "cell_type": "markdown",
   "metadata": {
    "papermill": {
     "duration": 0.009467,
     "end_time": "2019-10-27T18:10:29.701583",
     "exception": false,
     "start_time": "2019-10-27T18:10:29.692116",
     "status": "completed"
    },
    "tags": []
   },
   "source": [
    "# Stats of e1,e2"
   ]
  },
  {
   "cell_type": "code",
   "execution_count": 7,
   "metadata": {
    "papermill": {
     "duration": 0.543582,
     "end_time": "2019-10-27T18:10:30.255788",
     "exception": false,
     "start_time": "2019-10-27T18:10:29.712206",
     "status": "completed"
    },
    "tags": []
   },
   "outputs": [
    {
     "data": {
      "text/plain": [
       "count    10072.000000\n",
       "mean        -0.000353\n",
       "std          0.232634\n",
       "min         -0.883585\n",
       "25%         -0.133464\n",
       "50%          0.000826\n",
       "75%          0.134257\n",
       "max          0.946818\n",
       "Name: (All, e2), dtype: float64"
      ]
     },
     "execution_count": 7,
     "metadata": {},
     "output_type": "execute_result"
    },
    {
     "data": {
      "image/png": "[encoded data removed]",
      "text/plain": [
       "<Figure size 432x288 with 1 Axes>"
      ]
     },
     "metadata": {
      "needs_background": "light"
     },
     "output_type": "display_data"
    }
   ],
   "source": [
    "from matplotlib.colors import LogNorm \n",
    "plt.hist2d(shapes['All','e1'],shapes['All','e2'],bins=500,norm=LogNorm())\n",
    "plt.axis('equal')\n",
    "plt.title(\"2D Histogram of $e_1$ and $e_2$\")\n",
    "pd.Series(shapes['All','e1']).describe()\n",
    "pd.Series(shapes['All','e2']).describe()"
   ]
  },
  {
   "cell_type": "code",
   "execution_count": 8,
   "metadata": {
    "papermill": {
     "duration": 0.515807,
     "end_time": "2019-10-27T18:10:30.782408",
     "exception": false,
     "start_time": "2019-10-27T18:10:30.266601",
     "status": "completed"
    },
    "tags": []
   },
   "outputs": [
    {
     "data": {
      "text/plain": [
       "count    10072.000000\n",
       "mean         4.205698\n",
       "std        432.960837\n",
       "min      -2533.680733\n",
       "25%         -1.020991\n",
       "50%         -0.006831\n",
       "75%          0.932307\n",
       "max      43081.033765\n",
       "dtype: float64"
      ]
     },
     "execution_count": 8,
     "metadata": {},
     "output_type": "execute_result"
    },
    {
     "data": {
      "image/png": "[encoded data removed]",
      "text/plain": [
       "<Figure size 432x288 with 1 Axes>"
      ]
     },
     "metadata": {
      "needs_background": "light"
     },
     "output_type": "display_data"
    }
   ],
   "source": [
    "#statistics and hisgoram of e2/e1\n",
    "plt.hist(shapes['All','e2']/shapes['All','e1'],bins=np.arange(-10,10,0.1))\n",
    "plt.title(\"Histogram of $e_2$/$e_1$\")\n",
    "pd.Series(shapes['All','e2']/shapes['All','e1']).describe()"
   ]
  },
  {
   "cell_type": "markdown",
   "metadata": {
    "papermill": {
     "duration": 0.01102,
     "end_time": "2019-10-27T18:10:30.805951",
     "exception": false,
     "start_time": "2019-10-27T18:10:30.794931",
     "status": "completed"
    },
    "tags": []
   },
   "source": [
    "# Get phi "
   ]
  },
  {
   "cell_type": "code",
   "execution_count": 9,
   "metadata": {
    "papermill": {
     "duration": 0.016154,
     "end_time": "2019-10-27T18:10:30.832831",
     "exception": false,
     "start_time": "2019-10-27T18:10:30.816677",
     "status": "completed"
    },
    "tags": []
   },
   "outputs": [],
   "source": [
    "def get_std_err_of_mean(np_array):\n",
    "    mean=np_array.mean()\n",
    "    std=np_array.std()\n",
    "    n=len(np_array)\n",
    "    return(std/np.sqrt(n))"
   ]
  },
  {
   "cell_type": "code",
   "execution_count": 10,
   "metadata": {
    "papermill": {
     "duration": 0.015453,
     "end_time": "2019-10-27T18:10:30.858910",
     "exception": false,
     "start_time": "2019-10-27T18:10:30.843457",
     "status": "completed"
    },
    "tags": []
   },
   "outputs": [],
   "source": [
    "phi_1d=shapes[('All','phi')]"
   ]
  },
  {
   "cell_type": "markdown",
   "metadata": {
    "papermill": {
     "duration": 0.010627,
     "end_time": "2019-10-27T18:10:30.880304",
     "exception": false,
     "start_time": "2019-10-27T18:10:30.869677",
     "status": "completed"
    },
    "tags": []
   },
   "source": [
    "## Stats for unweighted"
   ]
  },
  {
   "cell_type": "code",
   "execution_count": 11,
   "metadata": {
    "papermill": {
     "duration": 0.021317,
     "end_time": "2019-10-27T18:10:30.911959",
     "exception": false,
     "start_time": "2019-10-27T18:10:30.890642",
     "status": "completed"
    },
    "tags": []
   },
   "outputs": [
    {
     "name": "stdout",
     "output_type": "stream",
     "text": [
      "Mean:4.519584e+01 \n",
      "StdE:2.585816e-01 \n"
     ]
    }
   ],
   "source": [
    "pd.Series(phi_1d).describe()\n",
    "print(\"Mean:{:05e} \\nStdE:{:05e} \".format(phi_1d.mean(),phi_1d.std()/np.sqrt(len(phi_1d))))"
   ]
  },
  {
   "cell_type": "code",
   "execution_count": 12,
   "metadata": {
    "papermill": {
     "duration": 0.206939,
     "end_time": "2019-10-27T18:10:31.133490",
     "exception": false,
     "start_time": "2019-10-27T18:10:30.926551",
     "status": "completed"
    },
    "tags": []
   },
   "outputs": [
    {
     "data": {
      "text/plain": [
       "count    10072.000000\n",
       "mean        45.195843\n",
       "std         25.951078\n",
       "min          0.005213\n",
       "25%         23.154662\n",
       "50%         44.942246\n",
       "75%         67.650731\n",
       "max         89.991855\n",
       "Name: (All, phi), dtype: float64"
      ]
     },
     "execution_count": 12,
     "metadata": {},
     "output_type": "execute_result"
    },
    {
     "data": {
      "image/png": "[encoded data removed]",
      "text/plain": [
       "<Figure size 432x288 with 1 Axes>"
      ]
     },
     "metadata": {
      "needs_background": "light"
     },
     "output_type": "display_data"
    }
   ],
   "source": [
    "ax = sns.distplot(shapes[('All','phi')],bins=10,kde=False,hist=True, \n",
    "                  hist_kws={\"histtype\": \"step\", \"linewidth\": 3,\"alpha\": 1})\n",
    "ax.set_title(\"Histogram of $\\phi_{sat}$ weighted by probability\") \n",
    "pd.Series(phi_1d).describe()"
   ]
  },
  {
   "cell_type": "markdown",
   "metadata": {
    "papermill": {
     "duration": 0.011037,
     "end_time": "2019-10-27T18:10:31.156220",
     "exception": false,
     "start_time": "2019-10-27T18:10:31.145183",
     "status": "completed"
    },
    "tags": []
   },
   "source": [
    "# Get e"
   ]
  },
  {
   "cell_type": "markdown",
   "metadata": {
    "papermill": {
     "duration": 0.010973,
     "end_time": "2019-10-27T18:10:31.179360",
     "exception": false,
     "start_time": "2019-10-27T18:10:31.168387",
     "status": "completed"
    },
    "tags": []
   },
   "source": [
    "## Statistics of e1 and e2"
   ]
  },
  {
   "cell_type": "code",
   "execution_count": 13,
   "metadata": {
    "papermill": {
     "duration": 0.0228,
     "end_time": "2019-10-27T18:10:31.213413",
     "exception": false,
     "start_time": "2019-10-27T18:10:31.190613",
     "status": "completed"
    },
    "tags": []
   },
   "outputs": [
    {
     "data": {
      "text/plain": [
       "count    10072.000000\n",
       "mean        -0.001551\n",
       "std          0.234807\n",
       "min         -0.944842\n",
       "25%         -0.137203\n",
       "50%         -0.001012\n",
       "75%          0.130875\n",
       "max          0.916601\n",
       "Name: (All, e1), dtype: float64"
      ]
     },
     "execution_count": 13,
     "metadata": {},
     "output_type": "execute_result"
    }
   ],
   "source": [
    "e1=shapes[('All','e1')].to_numpy()\n",
    "shapes[('All','e1')].describe()"
   ]
  },
  {
   "cell_type": "code",
   "execution_count": 14,
   "metadata": {
    "papermill": {
     "duration": 0.024294,
     "end_time": "2019-10-27T18:10:31.250597",
     "exception": false,
     "start_time": "2019-10-27T18:10:31.226303",
     "status": "completed"
    },
    "tags": []
   },
   "outputs": [
    {
     "data": {
      "text/plain": [
       "count    10072.000000\n",
       "mean        -0.000353\n",
       "std          0.232634\n",
       "min         -0.883585\n",
       "25%         -0.133464\n",
       "50%          0.000826\n",
       "75%          0.134257\n",
       "max          0.946818\n",
       "Name: (All, e2), dtype: float64"
      ]
     },
     "execution_count": 14,
     "metadata": {},
     "output_type": "execute_result"
    }
   ],
   "source": [
    "e2=shapes[('All','e1')].to_numpy()\n",
    "shapes[('All','e2')].describe()"
   ]
  },
  {
   "cell_type": "code",
   "execution_count": 15,
   "metadata": {
    "papermill": {
     "duration": 0.015806,
     "end_time": "2019-10-27T18:10:31.282668",
     "exception": false,
     "start_time": "2019-10-27T18:10:31.266862",
     "status": "completed"
    },
    "tags": []
   },
   "outputs": [],
   "source": [
    "# np.save(\"/home/cz136/project/sa/data/{}/e_array\".format(dir_string),e_list)"
   ]
  },
  {
   "cell_type": "code",
   "execution_count": 16,
   "metadata": {
    "papermill": {
     "duration": 0.016574,
     "end_time": "2019-10-27T18:10:31.311907",
     "exception": false,
     "start_time": "2019-10-27T18:10:31.295333",
     "status": "completed"
    },
    "tags": []
   },
   "outputs": [],
   "source": [
    "e_p_1d=shapes[('All','ep')]\n",
    "e_x_1d=shapes[('All','ex')]"
   ]
  },
  {
   "cell_type": "code",
   "execution_count": 17,
   "metadata": {
    "papermill": {
     "duration": 0.293801,
     "end_time": "2019-10-27T18:10:31.617323",
     "exception": false,
     "start_time": "2019-10-27T18:10:31.323522",
     "status": "completed"
    },
    "tags": []
   },
   "outputs": [
    {
     "name": "stdout",
     "output_type": "stream",
     "text": [
      "mean=-1.652797e-03, std_mean=2.332237e-03\n"
     ]
    },
    {
     "data": {
      "text/plain": [
       "count    10072.000000\n",
       "mean        -0.001653\n",
       "std          0.234062\n",
       "min         -0.948492\n",
       "25%         -0.137789\n",
       "50%          0.000053\n",
       "75%          0.130675\n",
       "max          0.880501\n",
       "Name: (All, ep), dtype: float64"
      ]
     },
     "execution_count": 17,
     "metadata": {},
     "output_type": "execute_result"
    },
    {
     "data": {
      "image/png": "[encoded data removed]",
      "text/plain": [
       "<Figure size 432x288 with 1 Axes>"
      ]
     },
     "metadata": {
      "needs_background": "light"
     },
     "output_type": "display_data"
    }
   ],
   "source": [
    "ax=sns.distplot(e_p_1d,kde=False)\n",
    "ax.set_title(\"Distribution of $e_{+}$\")\n",
    "print (\"mean={:05e}, std_mean={:05e}\".format(e_p_1d.mean(),get_std_err_of_mean(e_p_1d)))\n",
    "pd.Series(e_p_1d).describe()"
   ]
  },
  {
   "cell_type": "code",
   "execution_count": 18,
   "metadata": {
    "papermill": {
     "duration": 0.294857,
     "end_time": "2019-10-27T18:10:31.926363",
     "exception": false,
     "start_time": "2019-10-27T18:10:31.631506",
     "status": "completed"
    },
    "tags": []
   },
   "outputs": [
    {
     "name": "stdout",
     "output_type": "stream",
     "text": [
      "mean=2.149321e-03, std_mean=2.325376e-03\n"
     ]
    },
    {
     "data": {
      "text/plain": [
       "count    10072.000000\n",
       "mean         0.002149\n",
       "std          0.233373\n",
       "min         -0.881503\n",
       "25%         -0.133412\n",
       "50%          0.000577\n",
       "75%          0.133621\n",
       "max          0.894273\n",
       "Name: (All, ex), dtype: float64"
      ]
     },
     "execution_count": 18,
     "metadata": {},
     "output_type": "execute_result"
    },
    {
     "data": {
      "image/png": "[encoded data removed]",
      "text/plain": [
       "<Figure size 432x288 with 1 Axes>"
      ]
     },
     "metadata": {
      "needs_background": "light"
     },
     "output_type": "display_data"
    }
   ],
   "source": [
    "ax=sns.distplot(e_x_1d)\n",
    "ax.set_title(\"Distribution of $e_{x}$\")\n",
    "print (\"mean={:05e}, std_mean={:05e}\".format(e_x_1d.mean(),get_std_err_of_mean(e_x_1d)))\n",
    "pd.Series(e_x_1d).describe()"
   ]
  }
 ],
 "metadata": {
  "kernelspec": {
   "display_name": "Python 3",
   "language": "python",
   "name": "python3"
  },
  "language_info": {
   "codemirror_mode": {
    "name": "ipython",
    "version": 3
   },
   "file_extension": ".py",
   "mimetype": "text/x-python",
   "name": "python",
   "nbconvert_exporter": "python",
   "pygments_lexer": "ipython3",
   "version": "3.7.3"
  },
  "papermill": {
   "duration": 6.043156,
   "end_time": "2019-10-27T18:10:32.450252",
   "environment_variables": {},
   "exception": null,
   "input_path": "/home/cz136/project/sa/lib/src/phi_e_sat.ipynb",
   "output_path": "/home/cz136/project/sa/lib/output/im3/vlim/high_z/phi_e_sat.ipynb",
   "parameters": {
    "shape_cat": "im3",
    "vol": "vlim",
    "z_range": "high_z"
   },
   "start_time": "2019-10-27T18:10:26.407096",
   "version": "1.2.0"
  }
 },
 "nbformat": 4,
 "nbformat_minor": 4
}