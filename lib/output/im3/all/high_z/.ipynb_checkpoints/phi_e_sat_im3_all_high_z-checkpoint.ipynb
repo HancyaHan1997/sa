{
 "cells": [
  {
   "cell_type": "code",
   "execution_count": 1,
   "metadata": {
    "papermill": {
     "duration": 0.022746,
     "end_time": "2019-10-28T14:41:44.016136",
     "exception": false,
     "start_time": "2019-10-28T14:41:43.993390",
     "status": "completed"
    },
    "tags": [
     "parameters"
    ]
   },
   "outputs": [],
   "source": [
    "shape_cat=\"\"\n",
    "vol=\"\"\n",
    "z_range=\"\""
   ]
  },
  {
   "cell_type": "code",
   "execution_count": 2,
   "metadata": {
    "papermill": {
     "duration": 0.019383,
     "end_time": "2019-10-28T14:41:44.047979",
     "exception": false,
     "start_time": "2019-10-28T14:41:44.028596",
     "status": "completed"
    },
    "tags": [
     "injected-parameters"
    ]
   },
   "outputs": [],
   "source": [
    "# Parameters\n",
    "shape_cat = \"im3\"\n",
    "vol = \"all\"\n",
    "z_range = \"high_z\"\n"
   ]
  },
  {
   "cell_type": "code",
   "execution_count": 3,
   "metadata": {
    "papermill": {
     "duration": 2.126384,
     "end_time": "2019-10-28T14:41:46.185313",
     "exception": false,
     "start_time": "2019-10-28T14:41:44.058929",
     "status": "completed"
    },
    "tags": []
   },
   "outputs": [],
   "source": [
    "#This header file contains all the common packages\n",
    "%matplotlib inline\n",
    "%run /home/cz136/project/sa/lib/src/header.py $shape_cat $vol $z_range "
   ]
  },
  {
   "cell_type": "code",
   "execution_count": 4,
   "metadata": {
    "papermill": {
     "duration": 0.017796,
     "end_time": "2019-10-28T14:41:46.215985",
     "exception": false,
     "start_time": "2019-10-28T14:41:46.198189",
     "status": "completed"
    },
    "tags": []
   },
   "outputs": [
    {
     "name": "stdout",
     "output_type": "stream",
     "text": [
      "4736\n",
      "36654\n"
     ]
    }
   ],
   "source": [
    "print(len(clusters))\n",
    "print(len(shapes))"
   ]
  },
  {
   "cell_type": "code",
   "execution_count": 5,
   "metadata": {
    "papermill": {
     "duration": 0.019535,
     "end_time": "2019-10-28T14:41:46.247194",
     "exception": false,
     "start_time": "2019-10-28T14:41:46.227659",
     "status": "completed"
    },
    "tags": []
   },
   "outputs": [],
   "source": [
    "# Print the numbers of galaxies that needed to be masked\n",
    "\n",
    "assert np.sum(shapes[('All','e1')]==-9999)==0\n",
    "assert np.sum(shapes[('All','e2')]==-9999)==0\n",
    "assert np.sum(shapes['All','flags_select'])==0\n",
    "assert np.sum(shapes[('All','PP')]<=0.55)==0"
   ]
  },
  {
   "cell_type": "code",
   "execution_count": 6,
   "metadata": {
    "papermill": {
     "duration": 0.016165,
     "end_time": "2019-10-28T14:41:46.276762",
     "exception": false,
     "start_time": "2019-10-28T14:41:46.260597",
     "status": "completed"
    },
    "tags": []
   },
   "outputs": [
    {
     "name": "stdout",
     "output_type": "stream",
     "text": [
      "4736\n",
      "36654\n"
     ]
    }
   ],
   "source": [
    "#masking\n",
    "print(len(clusters))\n",
    "print(len(shapes))"
   ]
  },
  {
   "cell_type": "code",
   "execution_count": 10,
   "metadata": {},
   "outputs": [
    {
     "data": {
      "text/plain": [
       "(All, All, MEM_MATCH_ID)\n",
       "17        3129061131\n",
       "142       3156921446\n",
       "164       3101516857\n",
       "190       3075634059\n",
       "191       3038011194\n",
       "             ...    \n",
       "277801    3126965446\n",
       "315958    3125690827\n",
       "322493    3127473420\n",
       "350542    3159918254\n",
       "370859    3099379687\n",
       "Name: (Alt, Alt1, ID_CENT), Length: 4736, dtype: int64"
      ]
     },
     "execution_count": 10,
     "metadata": {},
     "output_type": "execute_result"
    }
   ],
   "source": [
    "center_ids=clusters[('Alt','Alt1','ID_CENT')]\n",
    "center_mask=~np.in1d(shapes.index,center_ids)\n",
    "shapes=shapes[center_mask]"
   ]
  },
  {
   "cell_type": "markdown",
   "metadata": {
    "papermill": {
     "duration": 0.011104,
     "end_time": "2019-10-28T14:41:46.298977",
     "exception": false,
     "start_time": "2019-10-28T14:41:46.287873",
     "status": "completed"
    },
    "tags": []
   },
   "source": [
    "# Stats of e1,e2"
   ]
  },
  {
   "cell_type": "code",
   "execution_count": 7,
   "metadata": {
    "papermill": {
     "duration": 0.605495,
     "end_time": "2019-10-28T14:41:46.916418",
     "exception": false,
     "start_time": "2019-10-28T14:41:46.310923",
     "status": "completed"
    },
    "tags": []
   },
   "outputs": [
    {
     "data": {
      "text/plain": [
       "count    36654.000000\n",
       "mean        -0.002796\n",
       "std          0.239170\n",
       "min         -0.949853\n",
       "25%         -0.146052\n",
       "50%         -0.002002\n",
       "75%          0.140813\n",
       "max          0.947679\n",
       "Name: (All, e2), dtype: float64"
      ]
     },
     "execution_count": 7,
     "metadata": {},
     "output_type": "execute_result"
    },
    {
     "data": {
      "image/png": "[encoded data removed]",
      "text/plain": [
       "<Figure size 432x288 with 1 Axes>"
      ]
     },
     "metadata": {
      "needs_background": "light"
     },
     "output_type": "display_data"
    }
   ],
   "source": [
    "from matplotlib.colors import LogNorm \n",
    "plt.hist2d(shapes['All','e1'],shapes['All','e2'],bins=500,norm=LogNorm())\n",
    "plt.axis('equal')\n",
    "plt.title(\"2D Histogram of $e_1$ and $e_2$\")\n",
    "pd.Series(shapes['All','e1']).describe()\n",
    "pd.Series(shapes['All','e2']).describe()"
   ]
  },
  {
   "cell_type": "code",
   "execution_count": 8,
   "metadata": {
    "papermill": {
     "duration": 0.445796,
     "end_time": "2019-10-28T14:41:47.377417",
     "exception": false,
     "start_time": "2019-10-28T14:41:46.931621",
     "status": "completed"
    },
    "tags": []
   },
   "outputs": [
    {
     "data": {
      "text/plain": [
       "count    36654.000000\n",
       "mean         3.761622\n",
       "std        485.312485\n",
       "min     -19809.892125\n",
       "25%         -1.009133\n",
       "50%         -0.004710\n",
       "75%          0.975444\n",
       "max      64081.481319\n",
       "dtype: float64"
      ]
     },
     "execution_count": 8,
     "metadata": {},
     "output_type": "execute_result"
    },
    {
     "data": {
      "image/png": "[encoded data removed]",
      "text/plain": [
       "<Figure size 432x288 with 1 Axes>"
      ]
     },
     "metadata": {
      "needs_background": "light"
     },
     "output_type": "display_data"
    }
   ],
   "source": [
    "#statistics and hisgoram of e2/e1\n",
    "plt.hist(shapes['All','e2']/shapes['All','e1'],bins=np.arange(-10,10,0.1))\n",
    "plt.title(\"Histogram of $e_2$/$e_1$\")\n",
    "pd.Series(shapes['All','e2']/shapes['All','e1']).describe()"
   ]
  },
  {
   "cell_type": "markdown",
   "metadata": {
    "papermill": {
     "duration": 0.012977,
     "end_time": "2019-10-28T14:41:47.404456",
     "exception": false,
     "start_time": "2019-10-28T14:41:47.391479",
     "status": "completed"
    },
    "tags": []
   },
   "source": [
    "# Get phi "
   ]
  },
  {
   "cell_type": "code",
   "execution_count": 9,
   "metadata": {
    "papermill": {
     "duration": 0.017493,
     "end_time": "2019-10-28T14:41:47.434270",
     "exception": false,
     "start_time": "2019-10-28T14:41:47.416777",
     "status": "completed"
    },
    "tags": []
   },
   "outputs": [],
   "source": [
    "def get_std_err_of_mean(np_array):\n",
    "    mean=np_array.mean()\n",
    "    std=np_array.std()\n",
    "    n=len(np_array)\n",
    "    return(std/np.sqrt(n))"
   ]
  },
  {
   "cell_type": "code",
   "execution_count": 10,
   "metadata": {
    "papermill": {
     "duration": 0.017168,
     "end_time": "2019-10-28T14:41:47.463697",
     "exception": false,
     "start_time": "2019-10-28T14:41:47.446529",
     "status": "completed"
    },
    "tags": []
   },
   "outputs": [],
   "source": [
    "phi_1d=shapes[('All','phi')]"
   ]
  },
  {
   "cell_type": "markdown",
   "metadata": {
    "papermill": {
     "duration": 0.012186,
     "end_time": "2019-10-28T14:41:47.488306",
     "exception": false,
     "start_time": "2019-10-28T14:41:47.476120",
     "status": "completed"
    },
    "tags": []
   },
   "source": [
    "## Stats for unweighted"
   ]
  },
  {
   "cell_type": "code",
   "execution_count": 11,
   "metadata": {
    "papermill": {
     "duration": 0.024068,
     "end_time": "2019-10-28T14:41:47.525378",
     "exception": false,
     "start_time": "2019-10-28T14:41:47.501310",
     "status": "completed"
    },
    "tags": []
   },
   "outputs": [
    {
     "name": "stdout",
     "output_type": "stream",
     "text": [
      "Mean:4.492842e+01 \n",
      "StdE:1.358557e-01 \n"
     ]
    }
   ],
   "source": [
    "pd.Series(phi_1d).describe()\n",
    "print(\"Mean:{:05e} \\nStdE:{:05e} \".format(phi_1d.mean(),phi_1d.std()/np.sqrt(len(phi_1d))))"
   ]
  },
  {
   "cell_type": "code",
   "execution_count": 12,
   "metadata": {
    "papermill": {
     "duration": 0.017475,
     "end_time": "2019-10-28T14:41:47.558348",
     "exception": false,
     "start_time": "2019-10-28T14:41:47.540873",
     "status": "completed"
    },
    "tags": []
   },
   "outputs": [],
   "source": [
    "def plt_phi(df):\n",
    "    phi_1d=df[('All','phi')]\n",
    "    plt.hist(phi_1d,bins=9,weights=df[('All','PP')],histtype=\"step\",density=True)\n",
    "    plt.title(\"Histogram of $\\phi_{sat}$ weighted by probability\") \n",
    "    pd.Series(phi_1d).describe()"
   ]
  },
  {
   "cell_type": "code",
   "execution_count": 13,
   "metadata": {
    "papermill": {
     "duration": 0.20333,
     "end_time": "2019-10-28T14:41:47.773981",
     "exception": false,
     "start_time": "2019-10-28T14:41:47.570651",
     "status": "completed"
    },
    "tags": []
   },
   "outputs": [
    {
     "data": {
      "image/png": "[encoded data removed]",
      "text/plain": [
       "<Figure size 432x288 with 1 Axes>"
      ]
     },
     "metadata": {
      "needs_background": "light"
     },
     "output_type": "display_data"
    }
   ],
   "source": [
    "plt_phi(shapes)"
   ]
  },
  {
   "cell_type": "markdown",
   "metadata": {
    "papermill": {
     "duration": 0.013135,
     "end_time": "2019-10-28T14:41:47.801410",
     "exception": false,
     "start_time": "2019-10-28T14:41:47.788275",
     "status": "completed"
    },
    "tags": []
   },
   "source": [
    "# Get e"
   ]
  },
  {
   "cell_type": "markdown",
   "metadata": {
    "papermill": {
     "duration": 0.012596,
     "end_time": "2019-10-28T14:41:47.826966",
     "exception": false,
     "start_time": "2019-10-28T14:41:47.814370",
     "status": "completed"
    },
    "tags": []
   },
   "source": [
    "## Statistics of e1 and e2"
   ]
  },
  {
   "cell_type": "code",
   "execution_count": 14,
   "metadata": {
    "papermill": {
     "duration": 0.026392,
     "end_time": "2019-10-28T14:41:47.866280",
     "exception": false,
     "start_time": "2019-10-28T14:41:47.839888",
     "status": "completed"
    },
    "tags": []
   },
   "outputs": [
    {
     "data": {
      "text/plain": [
       "count    36654.000000\n",
       "mean         0.000375\n",
       "std          0.239710\n",
       "min         -0.960358\n",
       "25%         -0.143796\n",
       "50%          0.000211\n",
       "75%          0.144301\n",
       "max          0.940574\n",
       "Name: (All, e1), dtype: float64"
      ]
     },
     "execution_count": 14,
     "metadata": {},
     "output_type": "execute_result"
    }
   ],
   "source": [
    "e1=shapes[('All','e1')].to_numpy()\n",
    "shapes[('All','e1')].describe()"
   ]
  },
  {
   "cell_type": "code",
   "execution_count": 15,
   "metadata": {
    "papermill": {
     "duration": 0.023508,
     "end_time": "2019-10-28T14:41:47.906002",
     "exception": false,
     "start_time": "2019-10-28T14:41:47.882494",
     "status": "completed"
    },
    "tags": []
   },
   "outputs": [
    {
     "data": {
      "text/plain": [
       "count    36654.000000\n",
       "mean        -0.002796\n",
       "std          0.239170\n",
       "min         -0.949853\n",
       "25%         -0.146052\n",
       "50%         -0.002002\n",
       "75%          0.140813\n",
       "max          0.947679\n",
       "Name: (All, e2), dtype: float64"
      ]
     },
     "execution_count": 15,
     "metadata": {},
     "output_type": "execute_result"
    }
   ],
   "source": [
    "e2=shapes[('All','e1')].to_numpy()\n",
    "shapes[('All','e2')].describe()"
   ]
  },
  {
   "cell_type": "code",
   "execution_count": 16,
   "metadata": {
    "papermill": {
     "duration": 0.017615,
     "end_time": "2019-10-28T14:41:47.939277",
     "exception": false,
     "start_time": "2019-10-28T14:41:47.921662",
     "status": "completed"
    },
    "tags": []
   },
   "outputs": [],
   "source": [
    "# np.save(\"/home/cz136/project/sa/data/{}/e_array\".format(dir_string),e_list)"
   ]
  },
  {
   "cell_type": "code",
   "execution_count": 17,
   "metadata": {
    "papermill": {
     "duration": 0.017816,
     "end_time": "2019-10-28T14:41:47.970453",
     "exception": false,
     "start_time": "2019-10-28T14:41:47.952637",
     "status": "completed"
    },
    "tags": []
   },
   "outputs": [],
   "source": [
    "e_p_1d=shapes[('All','ep')]\n",
    "e_x_1d=shapes[('All','ex')]"
   ]
  },
  {
   "cell_type": "code",
   "execution_count": 18,
   "metadata": {
    "papermill": {
     "duration": 0.290306,
     "end_time": "2019-10-28T14:41:48.274259",
     "exception": false,
     "start_time": "2019-10-28T14:41:47.983953",
     "status": "completed"
    },
    "tags": []
   },
   "outputs": [
    {
     "name": "stdout",
     "output_type": "stream",
     "text": [
      "mean=-2.342662e-04, std_mean=1.257329e-03\n"
     ]
    },
    {
     "data": {
      "text/plain": [
       "count    36654.000000\n",
       "mean        -0.000234\n",
       "std          0.240719\n",
       "min         -0.949640\n",
       "25%         -0.144391\n",
       "50%         -0.001450\n",
       "75%          0.144152\n",
       "max          0.945409\n",
       "Name: (All, ep), dtype: float64"
      ]
     },
     "execution_count": 18,
     "metadata": {},
     "output_type": "execute_result"
    },
    {
     "data": {
      "image/png": "[encoded data removed]",
      "text/plain": [
       "<Figure size 432x288 with 1 Axes>"
      ]
     },
     "metadata": {
      "needs_background": "light"
     },
     "output_type": "display_data"
    }
   ],
   "source": [
    "ax=sns.distplot(e_p_1d,kde=False)\n",
    "ax.set_title(\"Distribution of $e_{+}$\")\n",
    "print (\"mean={:05e}, std_mean={:05e}\".format(e_p_1d.mean(),get_std_err_of_mean(e_p_1d)))\n",
    "pd.Series(e_p_1d).describe()"
   ]
  },
  {
   "cell_type": "code",
   "execution_count": 19,
   "metadata": {
    "papermill": {
     "duration": 0.358498,
     "end_time": "2019-10-28T14:41:48.647870",
     "exception": false,
     "start_time": "2019-10-28T14:41:48.289372",
     "status": "completed"
    },
    "tags": []
   },
   "outputs": [
    {
     "name": "stdout",
     "output_type": "stream",
     "text": [
      "mean=-6.182433e-04, std_mean=1.244021e-03\n"
     ]
    },
    {
     "data": {
      "text/plain": [
       "count    36654.000000\n",
       "mean        -0.000618\n",
       "std          0.238171\n",
       "min         -0.945247\n",
       "25%         -0.144226\n",
       "50%         -0.000441\n",
       "75%          0.143426\n",
       "max          0.945585\n",
       "Name: (All, ex), dtype: float64"
      ]
     },
     "execution_count": 19,
     "metadata": {},
     "output_type": "execute_result"
    },
    {
     "data": {
      "image/png": "[encoded data removed]",
      "text/plain": [
       "<Figure size 432x288 with 1 Axes>"
      ]
     },
     "metadata": {
      "needs_background": "light"
     },
     "output_type": "display_data"
    }
   ],
   "source": [
    "ax=sns.distplot(e_x_1d)\n",
    "ax.set_title(\"Distribution of $e_{x}$\")\n",
    "print (\"mean={:05e}, std_mean={:05e}\".format(e_x_1d.mean(),get_std_err_of_mean(e_x_1d)))\n",
    "pd.Series(e_x_1d).describe()"
   ]
  },
  {
   "cell_type": "markdown",
   "metadata": {
    "papermill": {
     "duration": 0.014751,
     "end_time": "2019-10-28T14:41:48.680419",
     "exception": false,
     "start_time": "2019-10-28T14:41:48.665668",
     "status": "completed"
    },
    "tags": []
   },
   "source": [
    "# Percentile Data"
   ]
  },
  {
   "cell_type": "code",
   "execution_count": 20,
   "metadata": {
    "papermill": {
     "duration": 0.02114,
     "end_time": "2019-10-28T14:41:48.717428",
     "exception": false,
     "start_time": "2019-10-28T14:41:48.696288",
     "status": "completed"
    },
    "tags": []
   },
   "outputs": [],
   "source": [
    "def get_R_percent(lower,upper):\n",
    "    R_lower=shapes[('All','R')].quantile(lower)\n",
    "    R_upper=shapes[('All','R')].quantile(upper)\n",
    "    R_selected=shapes[(shapes[('All','R')]>=R_lower)&(shapes[('All','R')]<=R_upper) ]\n",
    "    return(R_selected)"
   ]
  },
  {
   "cell_type": "code",
   "execution_count": 21,
   "metadata": {
    "papermill": {
     "duration": 0.215227,
     "end_time": "2019-10-28T14:41:48.947415",
     "exception": false,
     "start_time": "2019-10-28T14:41:48.732188",
     "status": "completed"
    },
    "tags": []
   },
   "outputs": [
    {
     "data": {
      "image/png": "[encoded data removed]",
      "text/plain": [
       "<Figure size 432x288 with 1 Axes>"
      ]
     },
     "metadata": {
      "needs_background": "light"
     },
     "output_type": "display_data"
    }
   ],
   "source": [
    "plt_phi(get_R_percent(0,0.1))"
   ]
  },
  {
   "cell_type": "code",
   "execution_count": 22,
   "metadata": {
    "papermill": {
     "duration": 0.233791,
     "end_time": "2019-10-28T14:41:49.200075",
     "exception": false,
     "start_time": "2019-10-28T14:41:48.966284",
     "status": "completed"
    },
    "tags": []
   },
   "outputs": [
    {
     "data": {
      "text/plain": [
       "Text(0.5, 1.0, '$e_+$ for R percentile [0,5%]')"
      ]
     },
     "execution_count": 22,
     "metadata": {},
     "output_type": "execute_result"
    },
    {
     "data": {
      "image/png": "[encoded data removed]",
      "text/plain": [
       "<Figure size 432x288 with 1 Axes>"
      ]
     },
     "metadata": {
      "needs_background": "light"
     },
     "output_type": "display_data"
    }
   ],
   "source": [
    "plt.hist(get_R_percent(0,0.05)[('All','ep')],bins=20,density=True,histtype=\"step\")\n",
    "plt.title(r\"$e_+$ for R percentile [0,5%]\")"
   ]
  },
  {
   "cell_type": "code",
   "execution_count": 23,
   "metadata": {
    "papermill": {
     "duration": 0.032417,
     "end_time": "2019-10-28T14:41:49.248848",
     "exception": false,
     "start_time": "2019-10-28T14:41:49.216431",
     "status": "completed"
    },
    "tags": []
   },
   "outputs": [
    {
     "data": {
      "text/plain": [
       "0.0048092678109475226"
      ]
     },
     "execution_count": 23,
     "metadata": {},
     "output_type": "execute_result"
    }
   ],
   "source": [
    "get_R_percent(0,0.11)[('All','ep')].mean()"
   ]
  }
 ],
 "metadata": {
  "kernelspec": {
   "display_name": "Python 3",
   "language": "python",
   "name": "python3"
  },
  "language_info": {
   "codemirror_mode": {
    "name": "ipython",
    "version": 3
   },
   "file_extension": ".py",
   "mimetype": "text/x-python",
   "name": "python",
   "nbconvert_exporter": "python",
   "pygments_lexer": "ipython3",
   "version": "3.7.3"
  },
  "papermill": {
   "duration": 7.018079,
   "end_time": "2019-10-28T14:41:49.773737",
   "environment_variables": {},
   "exception": null,
   "input_path": "/home/cz136/project/sa/lib/src/phi_e_sat.ipynb",
   "output_path": "/home/cz136/project/sa/lib/output/im3/all/high_z/phi_e_sat_im3_all_high_z.ipynb",
   "parameters": {
    "shape_cat": "im3",
    "vol": "all",
    "z_range": "high_z"
   },
   "start_time": "2019-10-28T14:41:42.755658",
   "version": "1.2.0"
  }
 },
 "nbformat": 4,
 "nbformat_minor": 4
}
