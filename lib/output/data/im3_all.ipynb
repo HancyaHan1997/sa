{
 "cells": [
  {
   "cell_type": "code",
   "execution_count": 1,
   "metadata": {
    "papermill": {
     "duration": 0.035236,
     "end_time": "2019-10-28T14:01:25.181295",
     "exception": false,
     "start_time": "2019-10-28T14:01:25.146059",
     "status": "completed"
    },
    "tags": [
     "parameters"
    ]
   },
   "outputs": [],
   "source": [
    "shape_cat=\"\"\n",
    "vol=\"\""
   ]
  },
  {
   "cell_type": "code",
   "execution_count": 2,
   "metadata": {
    "papermill": {
     "duration": 0.03425,
     "end_time": "2019-10-28T14:01:25.244889",
     "exception": false,
     "start_time": "2019-10-28T14:01:25.210639",
     "status": "completed"
    },
    "tags": [
     "injected-parameters"
    ]
   },
   "outputs": [],
   "source": [
    "# Parameters\n",
    "shape_cat = \"im3\"\n",
    "vol = \"all\"\n"
   ]
  },
  {
   "cell_type": "code",
   "execution_count": 3,
   "metadata": {
    "papermill": {
     "duration": 2.012288,
     "end_time": "2019-10-28T14:01:27.284862",
     "exception": false,
     "start_time": "2019-10-28T14:01:25.272574",
     "status": "completed"
    },
    "tags": []
   },
   "outputs": [],
   "source": [
    "from astropy.io import fits\n",
    "from astropy.table import Table\n",
    "import pandas as pd\n",
    "import fitsio as fio\n",
    "import numpy as np\n",
    "import ast\n",
    "\n",
    "import astropy.cosmology\n",
    "from astropy.coordinates import SkyCoord  # High-level coordinates\n",
    "from astropy.coordinates import ICRS, Galactic, FK4, FK5  # Low-level frames\n",
    "from astropy.coordinates import Angle, Latitude, Longitude  # Angles\n",
    "import astropy.units as u\n",
    "from IPython.display import display, Math"
   ]
  },
  {
   "cell_type": "code",
   "execution_count": 4,
   "metadata": {
    "papermill": {
     "duration": 0.954155,
     "end_time": "2019-10-28T14:01:28.267776",
     "exception": false,
     "start_time": "2019-10-28T14:01:27.313621",
     "status": "completed"
    },
    "tags": []
   },
   "outputs": [
    {
     "name": "stdout",
     "output_type": "stream",
     "text": [
      "Number of members:  809723\n",
      "Number of clusters:  16966\n",
      "Number of members associated with multiple clusters:  5621\n"
     ]
    }
   ],
   "source": [
    "if vol==\"vlim\":\n",
    "    cluster_table=Table(fits.open('/lsst/troxel/y1a1/y1a1_gold_1.0.3-d10-mof-001d_run_redmapper_v6.4.17-vlim_lgt20_desformat_catalog.fit')[1].data)\n",
    "    member_table=Table(fits.open('/lsst/troxel/y1a1/y1a1_gold_1.0.3-d10-mof-001d_run_redmapper_v6.4.17-vlim_lgt20_desformat_catalog_members.fit')[1].data)\n",
    "    random_table=Table(fits.open('/lsst/troxel/y1a1/y1a1_gold_1.0.3_wide+d10-mof-001d_run_redmapper_v6.4.17-2_randcat_z0.10-0.95_lgt020_vl50.fit')[1].data)\n",
    "elif vol==\"all\":\n",
    "    cluster_table=Table(fits.open('/lsst/troxel/y1a1/y1a1_gold_1.0.3-d10-mof-001d_run_redmapper_v6.4.17_lgt20_desformat_catalog.fit')[1].data)\n",
    "    member_table=Table(fits.open('/lsst/troxel/y1a1/y1a1_gold_1.0.3-d10-mof-001d_run_redmapper_v6.4.17_lgt20_desformat_catalog_members.fit')[1].data)\n",
    "    random_table=Table(fits.open('/lsst/troxel/y1a1/y1a1_gold_1.0.3_wide+d10-mof-001d_run_redmapper_v6.4.17-2_randcat_z0.10-0.95_lgt020_vl02.fit')[1].data)\n",
    "else:\n",
    "    raise TypeError(\"Wrong vol\")\n",
    "cluster_table.remove_columns(['P_C','C_LAMBDA','C_LAMBDA_ERR','Q_CEN']) #unknown columns\n",
    "\n",
    "print(\"Number of members: \",len(member_table))\n",
    "print(\"Number of clusters: \",len(cluster_table))\n",
    "print(\"Number of members associated with multiple clusters: \",len(member_table['ID'])-len(np.unique(member_table['ID'])))"
   ]
  },
  {
   "cell_type": "code",
   "execution_count": 5,
   "metadata": {
    "papermill": {
     "duration": 39.696709,
     "end_time": "2019-10-28T14:02:07.994409",
     "exception": false,
     "start_time": "2019-10-28T14:01:28.297700",
     "status": "completed"
    },
    "tags": []
   },
   "outputs": [
    {
     "name": "stdout",
     "output_type": "stream",
     "text": [
      "Metacal loaded\n"
     ]
    }
   ],
   "source": [
    "if shape_cat==\"mcal\":\n",
    "    mcal = fio.FITS('/lsst/troxel/y1a1/mcal-y1a1-combined-riz-unblind-v4-matched.fits',memmap=True,mode='r')[1]\n",
    "    print (\"Metacal loaded\")\n",
    "    shape_id=mcal['coadd_objects_id'][:] \n",
    "elif shape_cat==\"im3\":\n",
    "        mcal = fio.FITS('/lsst/troxel/y1a1/y1a1-im3shape_v5_unblind_v2_matched_v4.fits',memmap=True,mode='r')[1]\n",
    "        print (\"Metacal loaded\")\n",
    "        shape_id=mcal['coadd_objects_id'][:] \n",
    "else:\n",
    "    raise "
   ]
  },
  {
   "cell_type": "code",
   "execution_count": 6,
   "metadata": {
    "papermill": {
     "duration": 15.931915,
     "end_time": "2019-10-28T14:02:23.961562",
     "exception": false,
     "start_time": "2019-10-28T14:02:08.029647",
     "status": "completed"
    },
    "tags": []
   },
   "outputs": [
    {
     "name": "stdout",
     "output_type": "stream",
     "text": [
      "Number of members without shape:  3772\n"
     ]
    }
   ],
   "source": [
    "print(\"Number of members without shape: \",len(member_table['ID'])-np.sum(np.in1d(member_table['ID'],shape_id)))"
   ]
  },
  {
   "cell_type": "code",
   "execution_count": 7,
   "metadata": {
    "papermill": {
     "duration": 0.042503,
     "end_time": "2019-10-28T14:02:24.035504",
     "exception": false,
     "start_time": "2019-10-28T14:02:23.993001",
     "status": "completed"
    },
    "tags": []
   },
   "outputs": [
    {
     "data": {
      "text/plain": [
       "{'hdunum': 2,\n",
       " 'extnum': 1,\n",
       " 'hdutype': 2,\n",
       " 'extname': '',\n",
       " 'hduname': '',\n",
       " 'extver': 0,\n",
       " 'hduver': 0,\n",
       " 'is_compressed_image': 0,\n",
       " 'header_start': 2880,\n",
       " 'data_start': 8640,\n",
       " 'data_end': 27933932160,\n",
       " 'nrows': 136930995,\n",
       " 'ncols': 27,\n",
       " 'colinfo': [{'name': 'coadd_objects_id',\n",
       "   'tform': 'K',\n",
       "   'type': 81,\n",
       "   'repeat': 1,\n",
       "   'width': 8,\n",
       "   'eqtype': 81,\n",
       "   'tdim': [1],\n",
       "   'tscale': 1.0,\n",
       "   'tzero': 0.0},\n",
       "  {'name': 'e1',\n",
       "   'tform': 'D',\n",
       "   'type': 82,\n",
       "   'repeat': 1,\n",
       "   'width': 8,\n",
       "   'eqtype': 82,\n",
       "   'tdim': [1],\n",
       "   'tscale': 1.0,\n",
       "   'tzero': 0.0},\n",
       "  {'name': 'e2',\n",
       "   'tform': 'D',\n",
       "   'type': 82,\n",
       "   'repeat': 1,\n",
       "   'width': 8,\n",
       "   'eqtype': 82,\n",
       "   'tdim': [1],\n",
       "   'tscale': 1.0,\n",
       "   'tzero': 0.0},\n",
       "  {'name': 'm',\n",
       "   'tform': 'D',\n",
       "   'type': 82,\n",
       "   'repeat': 1,\n",
       "   'width': 8,\n",
       "   'eqtype': 82,\n",
       "   'tdim': [1],\n",
       "   'tscale': 1.0,\n",
       "   'tzero': 0.0},\n",
       "  {'name': 'c1',\n",
       "   'tform': 'D',\n",
       "   'type': 82,\n",
       "   'repeat': 1,\n",
       "   'width': 8,\n",
       "   'eqtype': 82,\n",
       "   'tdim': [1],\n",
       "   'tscale': 1.0,\n",
       "   'tzero': 0.0},\n",
       "  {'name': 'c2',\n",
       "   'tform': 'D',\n",
       "   'type': 82,\n",
       "   'repeat': 1,\n",
       "   'width': 8,\n",
       "   'eqtype': 82,\n",
       "   'tdim': [1],\n",
       "   'tscale': 1.0,\n",
       "   'tzero': 0.0},\n",
       "  {'name': 'weight',\n",
       "   'tform': 'D',\n",
       "   'type': 82,\n",
       "   'repeat': 1,\n",
       "   'width': 8,\n",
       "   'eqtype': 82,\n",
       "   'tdim': [1],\n",
       "   'tscale': 1.0,\n",
       "   'tzero': 0.0},\n",
       "  {'name': 'radius',\n",
       "   'tform': 'D',\n",
       "   'type': 82,\n",
       "   'repeat': 1,\n",
       "   'width': 8,\n",
       "   'eqtype': 82,\n",
       "   'tdim': [1],\n",
       "   'tscale': 1.0,\n",
       "   'tzero': 0.0},\n",
       "  {'name': 'snr',\n",
       "   'tform': 'D',\n",
       "   'type': 82,\n",
       "   'repeat': 1,\n",
       "   'width': 8,\n",
       "   'eqtype': 82,\n",
       "   'tdim': [1],\n",
       "   'tscale': 1.0,\n",
       "   'tzero': 0.0},\n",
       "  {'name': 'likelihood',\n",
       "   'tform': 'D',\n",
       "   'type': 82,\n",
       "   'repeat': 1,\n",
       "   'width': 8,\n",
       "   'eqtype': 82,\n",
       "   'tdim': [1],\n",
       "   'tscale': 1.0,\n",
       "   'tzero': 0.0},\n",
       "  {'name': 'chi2_pixel',\n",
       "   'tform': 'D',\n",
       "   'type': 82,\n",
       "   'repeat': 1,\n",
       "   'width': 8,\n",
       "   'eqtype': 82,\n",
       "   'tdim': [1],\n",
       "   'tscale': 1.0,\n",
       "   'tzero': 0.0},\n",
       "  {'name': 'flags',\n",
       "   'tform': 'J',\n",
       "   'type': 41,\n",
       "   'repeat': 1,\n",
       "   'width': 4,\n",
       "   'eqtype': 41,\n",
       "   'tdim': [1],\n",
       "   'tscale': 1.0,\n",
       "   'tzero': 0.0},\n",
       "  {'name': 'covmat_0_0',\n",
       "   'tform': 'D',\n",
       "   'type': 82,\n",
       "   'repeat': 1,\n",
       "   'width': 8,\n",
       "   'eqtype': 82,\n",
       "   'tdim': [1],\n",
       "   'tscale': 1.0,\n",
       "   'tzero': 0.0},\n",
       "  {'name': 'covmat_0_1',\n",
       "   'tform': 'D',\n",
       "   'type': 82,\n",
       "   'repeat': 1,\n",
       "   'width': 8,\n",
       "   'eqtype': 82,\n",
       "   'tdim': [1],\n",
       "   'tscale': 1.0,\n",
       "   'tzero': 0.0},\n",
       "  {'name': 'covmat_1_1',\n",
       "   'tform': 'D',\n",
       "   'type': 82,\n",
       "   'repeat': 1,\n",
       "   'width': 8,\n",
       "   'eqtype': 82,\n",
       "   'tdim': [1],\n",
       "   'tscale': 1.0,\n",
       "   'tzero': 0.0},\n",
       "  {'name': 'rgpp_rp',\n",
       "   'tform': 'D',\n",
       "   'type': 82,\n",
       "   'repeat': 1,\n",
       "   'width': 8,\n",
       "   'eqtype': 82,\n",
       "   'tdim': [1],\n",
       "   'tscale': 1.0,\n",
       "   'tzero': 0.0},\n",
       "  {'name': 'psf_e1',\n",
       "   'tform': 'D',\n",
       "   'type': 82,\n",
       "   'repeat': 1,\n",
       "   'width': 8,\n",
       "   'eqtype': 82,\n",
       "   'tdim': [1],\n",
       "   'tscale': 1.0,\n",
       "   'tzero': 0.0},\n",
       "  {'name': 'psf_e2',\n",
       "   'tform': 'D',\n",
       "   'type': 82,\n",
       "   'repeat': 1,\n",
       "   'width': 8,\n",
       "   'eqtype': 82,\n",
       "   'tdim': [1],\n",
       "   'tscale': 1.0,\n",
       "   'tzero': 0.0},\n",
       "  {'name': 'psf_size',\n",
       "   'tform': 'D',\n",
       "   'type': 82,\n",
       "   'repeat': 1,\n",
       "   'width': 8,\n",
       "   'eqtype': 82,\n",
       "   'tdim': [1],\n",
       "   'tscale': 1.0,\n",
       "   'tzero': 0.0},\n",
       "  {'name': 'bulge_fraction',\n",
       "   'tform': 'D',\n",
       "   'type': 82,\n",
       "   'repeat': 1,\n",
       "   'width': 8,\n",
       "   'eqtype': 82,\n",
       "   'tdim': [1],\n",
       "   'tscale': 1.0,\n",
       "   'tzero': 0.0},\n",
       "  {'name': 'nexp',\n",
       "   'tform': 'J',\n",
       "   'type': 41,\n",
       "   'repeat': 1,\n",
       "   'width': 4,\n",
       "   'eqtype': 41,\n",
       "   'tdim': [1],\n",
       "   'tscale': 1.0,\n",
       "   'tzero': 0.0},\n",
       "  {'name': 'stamp_size',\n",
       "   'tform': 'J',\n",
       "   'type': 41,\n",
       "   'repeat': 1,\n",
       "   'width': 4,\n",
       "   'eqtype': 41,\n",
       "   'tdim': [1],\n",
       "   'tscale': 1.0,\n",
       "   'tzero': 0.0},\n",
       "  {'name': 'mask_fraction',\n",
       "   'tform': 'D',\n",
       "   'type': 82,\n",
       "   'repeat': 1,\n",
       "   'width': 8,\n",
       "   'eqtype': 82,\n",
       "   'tdim': [1],\n",
       "   'tscale': 1.0,\n",
       "   'tzero': 0.0},\n",
       "  {'name': 'flags_select',\n",
       "   'tform': 'J',\n",
       "   'type': 41,\n",
       "   'repeat': 1,\n",
       "   'width': 4,\n",
       "   'eqtype': 41,\n",
       "   'tdim': [1],\n",
       "   'tscale': 1.0,\n",
       "   'tzero': 0.0},\n",
       "  {'name': 'ra',\n",
       "   'tform': 'D',\n",
       "   'type': 82,\n",
       "   'repeat': 1,\n",
       "   'width': 8,\n",
       "   'eqtype': 82,\n",
       "   'tdim': [1],\n",
       "   'tscale': 1.0,\n",
       "   'tzero': 0.0},\n",
       "  {'name': 'dec',\n",
       "   'tform': 'D',\n",
       "   'type': 82,\n",
       "   'repeat': 1,\n",
       "   'width': 8,\n",
       "   'eqtype': 82,\n",
       "   'tdim': [1],\n",
       "   'tscale': 1.0,\n",
       "   'tzero': 0.0},\n",
       "  {'name': 'tilename',\n",
       "   'tform': '12A',\n",
       "   'type': 16,\n",
       "   'repeat': 12,\n",
       "   'width': 12,\n",
       "   'eqtype': 16,\n",
       "   'tdim': [12],\n",
       "   'tscale': 1.0,\n",
       "   'tzero': 0.0}]}"
      ]
     },
     "execution_count": 7,
     "metadata": {},
     "output_type": "execute_result"
    }
   ],
   "source": [
    "mcal.get_info()"
   ]
  },
  {
   "cell_type": "code",
   "execution_count": 8,
   "metadata": {
    "papermill": {
     "duration": 0.036727,
     "end_time": "2019-10-28T14:02:24.105430",
     "exception": false,
     "start_time": "2019-10-28T14:02:24.068703",
     "status": "completed"
    },
    "tags": []
   },
   "outputs": [],
   "source": [
    "problem_list =['MODEL_MAG', 'MODEL_MAGERR', 'MAG_LAMBDA_ERR', 'PZBINS',\n",
    "               'PZ', 'RA_CENT', 'DEC_CENT', 'ID_CENT', 'LAMBDA_CHISQ_CENT',\n",
    "               'ZLAMBDA_CENT', 'P_BCG', 'P_CEN', 'P_FG', 'P_SAT']"
   ]
  },
  {
   "cell_type": "code",
   "execution_count": 9,
   "metadata": {
    "papermill": {
     "duration": 0.035925,
     "end_time": "2019-10-28T14:02:24.170354",
     "exception": false,
     "start_time": "2019-10-28T14:02:24.134429",
     "status": "completed"
    },
    "tags": []
   },
   "outputs": [],
   "source": [
    "band_col_list = []\n",
    "pz_col_list = []\n",
    "alt_col_list =[]\n",
    "for problem in problem_list:\n",
    "    if cluster_table[problem].shape[1]==4:\n",
    "        band_col_list.append(problem)\n",
    "    elif cluster_table[problem].shape[1]==5:\n",
    "        alt_col_list.append(problem)\n",
    "    elif cluster_table[problem].shape[1]==21:\n",
    "        pz_col_list.append(problem)\n",
    "    else:\n",
    "        print (\"error\")"
   ]
  },
  {
   "cell_type": "code",
   "execution_count": 10,
   "metadata": {
    "papermill": {
     "duration": 0.037765,
     "end_time": "2019-10-28T14:02:24.236202",
     "exception": false,
     "start_time": "2019-10-28T14:02:24.198437",
     "status": "completed"
    },
    "tags": []
   },
   "outputs": [],
   "source": [
    "band_list=['g','r','i','z','Y']\n",
    "pz_index_list=['pz'+str(i+1) for i in range(21)]\n",
    "alt_index_list=['Alt'+str(i+1) for i in range(5)]"
   ]
  },
  {
   "cell_type": "code",
   "execution_count": 11,
   "metadata": {
    "papermill": {
     "duration": 0.049501,
     "end_time": "2019-10-28T14:02:24.314746",
     "exception": false,
     "start_time": "2019-10-28T14:02:24.265245",
     "status": "completed"
    },
    "tags": []
   },
   "outputs": [],
   "source": [
    "for j in range(4):\n",
    "    for i,column in enumerate(band_col_list):\n",
    "        cluster_table[str(('Band',band_list[j],column))]=cluster_table[column].data[:,j]\n",
    "cluster_table.remove_columns(band_col_list)"
   ]
  },
  {
   "cell_type": "code",
   "execution_count": 12,
   "metadata": {
    "papermill": {
     "duration": 0.085226,
     "end_time": "2019-10-28T14:02:24.428445",
     "exception": false,
     "start_time": "2019-10-28T14:02:24.343219",
     "status": "completed"
    },
    "tags": []
   },
   "outputs": [],
   "source": [
    "for i,column in enumerate(pz_col_list):\n",
    "    for j in range(21):\n",
    "        cluster_table[str(('PZ',pz_index_list[j],column))]=cluster_table[column].data[:,j]\n",
    "cluster_table.remove_columns(pz_col_list)"
   ]
  },
  {
   "cell_type": "code",
   "execution_count": 13,
   "metadata": {
    "papermill": {
     "duration": 0.100741,
     "end_time": "2019-10-28T14:02:24.563517",
     "exception": false,
     "start_time": "2019-10-28T14:02:24.462776",
     "status": "completed"
    },
    "tags": []
   },
   "outputs": [],
   "source": [
    "for i,column in enumerate(alt_col_list):\n",
    "    for j in range(5):\n",
    "        cluster_table[str(('Alt',alt_index_list[j],column))]=cluster_table[column].data[:,j]\n",
    "cluster_table.remove_columns(alt_col_list)"
   ]
  },
  {
   "cell_type": "code",
   "execution_count": 14,
   "metadata": {
    "papermill": {
     "duration": 0.11868,
     "end_time": "2019-10-28T14:02:24.718324",
     "exception": false,
     "start_time": "2019-10-28T14:02:24.599644",
     "status": "completed"
    },
    "tags": []
   },
   "outputs": [],
   "source": [
    "all_col_list=list(cluster_table.columns[0:54])\n",
    "for i,column in enumerate(all_col_list):\n",
    "    cluster_table[str(('All','All',column))]=cluster_table[column].data[:]\n",
    "cluster_table.remove_columns(all_col_list)"
   ]
  },
  {
   "cell_type": "code",
   "execution_count": 15,
   "metadata": {
    "papermill": {
     "duration": 0.075673,
     "end_time": "2019-10-28T14:02:24.827427",
     "exception": false,
     "start_time": "2019-10-28T14:02:24.751754",
     "status": "completed"
    },
    "tags": []
   },
   "outputs": [],
   "source": [
    "for j in range(4):\n",
    "    for i,column in enumerate(band_col_list[0:2]):\n",
    "        member_table['('+band_list[j]+','+column+')']=member_table[column].data[:,j]\n",
    "member_table.remove_columns(band_col_list[0:2]) "
   ]
  },
  {
   "cell_type": "code",
   "execution_count": 16,
   "metadata": {
    "papermill": {
     "duration": 0.536633,
     "end_time": "2019-10-28T14:02:25.399038",
     "exception": false,
     "start_time": "2019-10-28T14:02:24.862405",
     "status": "completed"
    },
    "tags": []
   },
   "outputs": [],
   "source": [
    "clusters=cluster_table.to_pandas()\n",
    "member=member_table.to_pandas()\n",
    "random=random_table.to_pandas()\n",
    "# center_table=None\n",
    "# member_table=None"
   ]
  },
  {
   "cell_type": "code",
   "execution_count": 17,
   "metadata": {
    "papermill": {
     "duration": 0.046,
     "end_time": "2019-10-28T14:02:25.478401",
     "exception": false,
     "start_time": "2019-10-28T14:02:25.432401",
     "status": "completed"
    },
    "tags": []
   },
   "outputs": [],
   "source": [
    "member_cols = member.columns[0:22]\n",
    "shape_columns=pd.MultiIndex.from_product([['All'],list(mcal.get_colnames())],names=['Band','Data'])"
   ]
  },
  {
   "cell_type": "code",
   "execution_count": 18,
   "metadata": {
    "papermill": {
     "duration": 0.035225,
     "end_time": "2019-10-28T14:02:25.545322",
     "exception": false,
     "start_time": "2019-10-28T14:02:25.510097",
     "status": "completed"
    },
    "tags": []
   },
   "outputs": [],
   "source": [
    "center_bins=[m+str(n) for m,n in zip(['cen_']*5,np.arange(5)+1)]\n",
    "center=pd.MultiIndex.from_product([['Center'],center_bins,member_cols])"
   ]
  },
  {
   "cell_type": "code",
   "execution_count": 19,
   "metadata": {
    "papermill": {
     "duration": 0.03576,
     "end_time": "2019-10-28T14:02:25.615777",
     "exception": false,
     "start_time": "2019-10-28T14:02:25.580017",
     "status": "completed"
    },
    "tags": []
   },
   "outputs": [],
   "source": [
    "cluster_band_columns=pd.MultiIndex.from_product([['g','r','i','z'],\n",
    "                                       ['MODEL_MAG','MODEL_MAGERR','MAG_LAMBDA_ERR']],\n",
    "                                     names=['band','data'])"
   ]
  },
  {
   "cell_type": "code",
   "execution_count": 20,
   "metadata": {
    "papermill": {
     "duration": 0.035162,
     "end_time": "2019-10-28T14:02:25.683570",
     "exception": false,
     "start_time": "2019-10-28T14:02:25.648408",
     "status": "completed"
    },
    "tags": []
   },
   "outputs": [],
   "source": [
    "# alt_bins=[m+str(n) for m,n in zip(['alt_']*5,np.arange(5)+1)]\n",
    "# alt_columns=pd.MultiIndex.from_product([alt_bins,\n",
    "#                                        alt_col_list.append(shape_names)],\n",
    "#                                      names=['alt_index','data'])"
   ]
  },
  {
   "cell_type": "code",
   "execution_count": 21,
   "metadata": {
    "papermill": {
     "duration": 0.035235,
     "end_time": "2019-10-28T14:02:25.753457",
     "exception": false,
     "start_time": "2019-10-28T14:02:25.718222",
     "status": "completed"
    },
    "tags": []
   },
   "outputs": [],
   "source": [
    "member_band_columns=pd.MultiIndex.from_product([['g','r','i','z'],\n",
    "                                       ['MODEL_MAG','MODEL_MAGERR',]],\n",
    "                                     names=['Band','Data'])"
   ]
  },
  {
   "cell_type": "code",
   "execution_count": 22,
   "metadata": {
    "papermill": {
     "duration": 0.033908,
     "end_time": "2019-10-28T14:02:25.821472",
     "exception": false,
     "start_time": "2019-10-28T14:02:25.787564",
     "status": "completed"
    },
    "tags": []
   },
   "outputs": [],
   "source": [
    "shape_index=pd.MultiIndex.from_tuples([('MEM_MATCH_ID','TYPE')],names=['ClusterID','Type'])"
   ]
  },
  {
   "cell_type": "code",
   "execution_count": 23,
   "metadata": {
    "papermill": {
     "duration": 0.044276,
     "end_time": "2019-10-28T14:02:25.897610",
     "exception": false,
     "start_time": "2019-10-28T14:02:25.853334",
     "status": "completed"
    },
    "tags": []
   },
   "outputs": [],
   "source": [
    "random_columns=pd.MultiIndex.from_product([['All'],['RA', 'DEC', 'Z', 'LAMBDA_IN', 'AVG_LAMBDAOUT', 'SIGMA_LAMBDAOUT', 'WEIGHT']],\n",
    "                                       names=['Band','Data'])"
   ]
  },
  {
   "cell_type": "code",
   "execution_count": 24,
   "metadata": {
    "papermill": {
     "duration": 0.032546,
     "end_time": "2019-10-28T14:02:25.962972",
     "exception": false,
     "start_time": "2019-10-28T14:02:25.930426",
     "status": "completed"
    },
    "tags": []
   },
   "outputs": [],
   "source": [
    "random.columns=random_columns"
   ]
  },
  {
   "cell_type": "code",
   "execution_count": 25,
   "metadata": {
    "papermill": {
     "duration": 0.038084,
     "end_time": "2019-10-28T14:02:26.029922",
     "exception": false,
     "start_time": "2019-10-28T14:02:25.991838",
     "status": "completed"
    },
    "tags": []
   },
   "outputs": [],
   "source": [
    "member_id=member['ID'].values"
   ]
  },
  {
   "cell_type": "code",
   "execution_count": 26,
   "metadata": {
    "papermill": {
     "duration": 0.034964,
     "end_time": "2019-10-28T14:02:26.092215",
     "exception": false,
     "start_time": "2019-10-28T14:02:26.057251",
     "status": "completed"
    },
    "tags": []
   },
   "outputs": [],
   "source": [
    "# for id in member_id:\n",
    "#     mask = pd.Series(shape_id)==id"
   ]
  },
  {
   "cell_type": "code",
   "execution_count": 27,
   "metadata": {
    "papermill": {
     "duration": 0.03281,
     "end_time": "2019-10-28T14:02:26.158687",
     "exception": false,
     "start_time": "2019-10-28T14:02:26.125877",
     "status": "completed"
    },
    "tags": []
   },
   "outputs": [],
   "source": [
    "shape_id_series = pd.Series(shape_id)"
   ]
  },
  {
   "cell_type": "code",
   "execution_count": 28,
   "metadata": {
    "papermill": {
     "duration": 0.041807,
     "end_time": "2019-10-28T14:02:26.228901",
     "exception": false,
     "start_time": "2019-10-28T14:02:26.187094",
     "status": "completed"
    },
    "tags": []
   },
   "outputs": [],
   "source": [
    "def sort2n(x,y):\n",
    "    \"\"\"\n",
    "    Sorts and matches two arrays of object ids where x is unique and y is not (in DES this is coadd_objects_id).\n",
    "    Slower than sort2().\n",
    "    \"\"\"\n",
    "    \n",
    "    xsort = np.argsort(x)\n",
    "    ysort = np.argsort(y)\n",
    "    i_yx = np.sort(y[np.in1d(y, x, assume_unique=False)])\n",
    "    i_x = xsort[x[xsort].searchsorted(i_yx)]\n",
    "    i_y = ysort[y[ysort].searchsorted(i_yx)]\n",
    "    \n",
    "    return i_x, i_y"
   ]
  },
  {
   "cell_type": "code",
   "execution_count": 29,
   "metadata": {
    "papermill": {
     "duration": 27.140874,
     "end_time": "2019-10-28T14:02:53.402929",
     "exception": false,
     "start_time": "2019-10-28T14:02:26.262055",
     "status": "completed"
    },
    "tags": []
   },
   "outputs": [],
   "source": [
    "s2n_index=sort2n(member_id,shape_id)"
   ]
  },
  {
   "cell_type": "code",
   "execution_count": 30,
   "metadata": {
    "papermill": {
     "duration": 0.035914,
     "end_time": "2019-10-28T14:02:53.471415",
     "exception": false,
     "start_time": "2019-10-28T14:02:53.435501",
     "status": "completed"
    },
    "tags": []
   },
   "outputs": [
    {
     "name": "stdout",
     "output_type": "stream",
     "text": [
      "The members that does not have shape measurement:9391\n"
     ]
    }
   ],
   "source": [
    "print(\"The members that does not have shape measurement:{}\".format(len(member_id)-len(s2n_index[0])))"
   ]
  },
  {
   "cell_type": "code",
   "execution_count": 31,
   "metadata": {
    "papermill": {
     "duration": 11.184765,
     "end_time": "2019-10-28T14:03:04.684826",
     "exception": false,
     "start_time": "2019-10-28T14:02:53.500061",
     "status": "completed"
    },
    "tags": []
   },
   "outputs": [],
   "source": [
    "shape_half=pd.DataFrame(mcal.read(rows=[s2n_index[1]]).byteswap().newbyteorder())"
   ]
  },
  {
   "cell_type": "code",
   "execution_count": 32,
   "metadata": {
    "papermill": {
     "duration": 0.178541,
     "end_time": "2019-10-28T14:03:04.896788",
     "exception": false,
     "start_time": "2019-10-28T14:03:04.718247",
     "status": "completed"
    },
    "tags": []
   },
   "outputs": [],
   "source": [
    "member_half=member.iloc[s2n_index[0]]"
   ]
  },
  {
   "cell_type": "code",
   "execution_count": 33,
   "metadata": {
    "papermill": {
     "duration": 0.035637,
     "end_time": "2019-10-28T14:03:04.962224",
     "exception": false,
     "start_time": "2019-10-28T14:03:04.926587",
     "status": "completed"
    },
    "tags": []
   },
   "outputs": [],
   "source": [
    "member_half_index=pd.MultiIndex.from_tuples(list(zip(['All']*23,member_half.columns[0:23]))+list(member_band_columns),names=['Band','Data']) "
   ]
  },
  {
   "cell_type": "code",
   "execution_count": 34,
   "metadata": {
    "papermill": {
     "duration": 0.034657,
     "end_time": "2019-10-28T14:03:05.025165",
     "exception": false,
     "start_time": "2019-10-28T14:03:04.990508",
     "status": "completed"
    },
    "tags": []
   },
   "outputs": [],
   "source": [
    "shape_half.columns=shape_columns\n",
    "member_half.columns=member_half_index\n",
    "shape_half.set_index(('All','coadd_objects_id'),inplace=True)\n",
    "member_half.set_index(('All','ID'),inplace=True)"
   ]
  },
  {
   "cell_type": "code",
   "execution_count": 35,
   "metadata": {
    "papermill": {
     "duration": 0.184956,
     "end_time": "2019-10-28T14:03:05.241746",
     "exception": false,
     "start_time": "2019-10-28T14:03:05.056790",
     "status": "completed"
    },
    "tags": []
   },
   "outputs": [],
   "source": [
    "shapes=pd.concat([member_half,shape_half],axis=1,verify_integrity=True)\n",
    "shapes.index.name=\"ID\""
   ]
  },
  {
   "cell_type": "markdown",
   "metadata": {
    "papermill": {
     "duration": 0.028208,
     "end_time": "2019-10-28T14:03:05.302049",
     "exception": false,
     "start_time": "2019-10-28T14:03:05.273841",
     "status": "completed"
    },
    "tags": []
   },
   "source": [
    "# im3 e correction"
   ]
  },
  {
   "cell_type": "code",
   "execution_count": 36,
   "metadata": {
    "papermill": {
     "duration": 61.453969,
     "end_time": "2019-10-28T14:04:06.783590",
     "exception": false,
     "start_time": "2019-10-28T14:03:05.329621",
     "status": "completed"
    },
    "tags": []
   },
   "outputs": [],
   "source": [
    "if shape_cat == \"im3\":\n",
    "    shapes[('All','e1_old')]=shapes[('All','e1')]\n",
    "    shapes[('All','e2_old')]=shapes[('All','e2')]\n",
    "    shapes[('All','e1')]=shapes.apply(lambda x:x[('All','e1')]-x[('All','c1')],axis=1)\n",
    "    shapes[('All','e2')]=shapes.apply(lambda x:x[('All','e2')]-x[('All','c2')],axis=1)"
   ]
  },
  {
   "cell_type": "code",
   "execution_count": 37,
   "metadata": {
    "papermill": {
     "duration": 0.047579,
     "end_time": "2019-10-28T14:04:06.870296",
     "exception": false,
     "start_time": "2019-10-28T14:04:06.822717",
     "status": "completed"
    },
    "tags": []
   },
   "outputs": [],
   "source": [
    "cluster_col_list=[ast.literal_eval(name) for i,name in enumerate(clusters.columns)]\n",
    "cluster_col=pd.MultiIndex.from_tuples(cluster_col_list, names=['Type','Kind','Data'])"
   ]
  },
  {
   "cell_type": "code",
   "execution_count": 38,
   "metadata": {
    "papermill": {
     "duration": 0.039147,
     "end_time": "2019-10-28T14:04:06.940617",
     "exception": false,
     "start_time": "2019-10-28T14:04:06.901470",
     "status": "completed"
    },
    "tags": []
   },
   "outputs": [],
   "source": [
    "clusters.columns=cluster_col\n",
    "clusters.set_index(('All', 'All', 'MEM_MATCH_ID'),inplace=True);"
   ]
  },
  {
   "cell_type": "markdown",
   "metadata": {
    "papermill": {
     "duration": 0.029563,
     "end_time": "2019-10-28T14:04:07.002084",
     "exception": false,
     "start_time": "2019-10-28T14:04:06.972521",
     "status": "completed"
    },
    "tags": []
   },
   "source": [
    "# Add PP"
   ]
  },
  {
   "cell_type": "code",
   "execution_count": 39,
   "metadata": {
    "papermill": {
     "duration": 27.513131,
     "end_time": "2019-10-28T14:04:34.543965",
     "exception": false,
     "start_time": "2019-10-28T14:04:07.030834",
     "status": "completed"
    },
    "tags": []
   },
   "outputs": [
    {
     "name": "stdout",
     "output_type": "stream",
     "text": [
      "Added PP column.\n"
     ]
    }
   ],
   "source": [
    "shapes[('All','PP')]=shapes.apply(lambda x:x[('All','P')]*x[('All','PFREE')],axis=1)\n",
    "print (\"Added PP column.\")"
   ]
  },
  {
   "cell_type": "markdown",
   "metadata": {
    "papermill": {
     "duration": 0.028513,
     "end_time": "2019-10-28T14:04:34.602660",
     "exception": false,
     "start_time": "2019-10-28T14:04:34.574147",
     "status": "completed"
    },
    "tags": []
   },
   "source": [
    "# Shape and PP masking"
   ]
  },
  {
   "cell_type": "code",
   "execution_count": 40,
   "metadata": {
    "papermill": {
     "duration": 0.386123,
     "end_time": "2019-10-28T14:04:35.016569",
     "exception": false,
     "start_time": "2019-10-28T14:04:34.630446",
     "status": "completed"
    },
    "tags": []
   },
   "outputs": [
    {
     "name": "stdout",
     "output_type": "stream",
     "text": [
      "Members before flag_select mask:  800332\n"
     ]
    },
    {
     "name": "stdout",
     "output_type": "stream",
     "text": [
      "Members after flag_select mask:  275588\n"
     ]
    }
   ],
   "source": [
    "print(\"Members before flag_select mask: \",len(shapes))\n",
    "shapes=shapes[shapes[('All', 'flags_select')]==0]\n",
    "print(\"Members after flag_select mask: \",len(shapes))"
   ]
  },
  {
   "cell_type": "code",
   "execution_count": 41,
   "metadata": {
    "papermill": {
     "duration": 0.117776,
     "end_time": "2019-10-28T14:04:35.165085",
     "exception": false,
     "start_time": "2019-10-28T14:04:35.047309",
     "status": "completed"
    },
    "tags": []
   },
   "outputs": [
    {
     "name": "stdout",
     "output_type": "stream",
     "text": [
      "Members before probability mask:  275588\n",
      "Members after probability mask:  157970\n"
     ]
    }
   ],
   "source": [
    "print(\"Members before probability mask: \",len(shapes))\n",
    "shapes=shapes[shapes[('All','PP')]>=0.55]\n",
    "print(\"Members after probability mask: \",len(shapes))"
   ]
  },
  {
   "cell_type": "markdown",
   "metadata": {
    "papermill": {
     "duration": 0.029105,
     "end_time": "2019-10-28T14:04:35.225616",
     "exception": false,
     "start_time": "2019-10-28T14:04:35.196511",
     "status": "completed"
    },
    "tags": []
   },
   "source": [
    "# No center masking/ no cluster masking"
   ]
  },
  {
   "cell_type": "code",
   "execution_count": 42,
   "metadata": {
    "papermill": {
     "duration": 0.099334,
     "end_time": "2019-10-28T14:04:35.353555",
     "exception": false,
     "start_time": "2019-10-28T14:04:35.254221",
     "status": "completed"
    },
    "tags": []
   },
   "outputs": [
    {
     "name": "stdout",
     "output_type": "stream",
     "text": [
      "The number of clusters before masking 16966\n"
     ]
    },
    {
     "name": "stdout",
     "output_type": "stream",
     "text": [
      "The number of clusters with no center shape data 12230\n",
      "The number of clusters after masking 4736\n",
      "The number of members before masking:  157970\n",
      "The number of members without a cluster:  121316\n",
      "Number of galaxies after masking: 36654\n"
     ]
    },
    {
     "name": "stderr",
     "output_type": "stream",
     "text": [
      "/home/cz136/anaconda3/envs/balrog/lib/python3.7/site-packages/ipykernel_launcher.py:5: FutureWarning: \n",
      "Passing list-likes to .loc or [] with any missing label will raise\n",
      "KeyError in the future, you can use .reindex() as an alternative.\n",
      "\n",
      "See the documentation here:\n",
      "https://pandas.pydata.org/pandas-docs/stable/user_guide/indexing.html#deprecate-loc-reindex-listlike\n",
      "  \"\"\"\n"
     ]
    }
   ],
   "source": [
    "# Drop clusters with no center\n",
    "def drop_poor_centers(clusters_cat):\n",
    "    print(\"The number of clusters before masking\", len(clusters_cat))\n",
    "    center_id=clusters_cat[('Alt', 'Alt1', 'ID_CENT')]\n",
    "    p=shapes.loc[center_id][('All','P')].to_numpy()\n",
    "    missing_mem_match_id=clusters_cat[np.isnan(p)].index\n",
    "    cluster_masked=clusters_cat.drop(missing_mem_match_id)\n",
    "    print(\"The number of clusters with no center shape data {}\".format(np.sum(np.isnan(p))))\n",
    "    print(\"The number of clusters after masking\", len(cluster_masked))\n",
    "    return(cluster_masked)\n",
    "\n",
    "clusters=drop_poor_centers(clusters)\n",
    "\n",
    "# Drop members with no cluster\n",
    "def drop_poor_members(clusters_cat,shapes_cat):\n",
    "    print(\"The number of members before masking: \",len(shapes_cat))\n",
    "    valid_clusters_id=clusters_cat.index.to_numpy()\n",
    "    shapes_match_id=shapes_cat[('All','MEM_MATCH_ID')].to_numpy()\n",
    "    valid_members=np.isin(shapes_match_id,valid_clusters_id)\n",
    "    print(\"The number of members without a cluster: \",np.sum(~valid_members))\n",
    "    members_masked=shapes_cat[valid_members]\n",
    "    print(\"Number of galaxies after masking: {}\".format(len(members_masked)))\n",
    "    return(members_masked)\n",
    "    \n",
    "shapes=drop_poor_members(clusters,shapes)"
   ]
  },
  {
   "cell_type": "code",
   "execution_count": 43,
   "metadata": {
    "papermill": {
     "duration": 0.055491,
     "end_time": "2019-10-28T14:04:35.441890",
     "exception": false,
     "start_time": "2019-10-28T14:04:35.386399",
     "status": "completed"
    },
    "tags": []
   },
   "outputs": [
    {
     "name": "stdout",
     "output_type": "stream",
     "text": [
      "The number of clusters before masking 4736\n",
      "The number of clusters with no center shape data 0\n",
      "The number of clusters after masking 4736\n",
      "The number of members before masking:  36654\n",
      "The number of members without a cluster:  0\n",
      "Number of galaxies after masking: 36654\n"
     ]
    }
   ],
   "source": [
    "clusters=drop_poor_centers(clusters)\n",
    "shapes=drop_poor_members(clusters,shapes)"
   ]
  },
  {
   "cell_type": "markdown",
   "metadata": {
    "papermill": {
     "duration": 0.029572,
     "end_time": "2019-10-28T14:04:35.504302",
     "exception": false,
     "start_time": "2019-10-28T14:04:35.474730",
     "status": "completed"
    },
    "tags": []
   },
   "source": [
    "# Add $\\phi$"
   ]
  },
  {
   "cell_type": "code",
   "execution_count": 44,
   "metadata": {
    "papermill": {
     "duration": 0.037241,
     "end_time": "2019-10-28T14:04:35.572066",
     "exception": false,
     "start_time": "2019-10-28T14:04:35.534825",
     "status": "completed"
    },
    "tags": []
   },
   "outputs": [],
   "source": [
    "def get_theta_for_obj(obj1,obj2):\n",
    "    ra1,dec1=(obj1[('All', 'RA')],obj1[('All', 'DEC')])\n",
    "    ra2,dec2=(obj2[('All', 'RA')],obj2[('All', 'DEC')])\n",
    "    \n",
    "    \n",
    "    \n",
    "    c1=SkyCoord(ra1*u.deg,dec1*u.deg)\n",
    "    c2=SkyCoord(ra2*u.deg,dec2*u.deg)\n",
    "    \n",
    "    \n",
    "    return(90-c1.position_angle(c2).degree)"
   ]
  },
  {
   "cell_type": "code",
   "execution_count": 45,
   "metadata": {
    "papermill": {
     "duration": 0.035051,
     "end_time": "2019-10-28T14:04:35.636775",
     "exception": false,
     "start_time": "2019-10-28T14:04:35.601724",
     "status": "completed"
    },
    "tags": []
   },
   "outputs": [],
   "source": [
    "def get_rel_theta(member):\n",
    "    cluster=clusters.loc[member[('All','MEM_MATCH_ID')]]\n",
    "    center=shapes.loc[cluster[('Alt','Alt1','ID_CENT')]]\n",
    "    theta=get_theta_for_obj(center,member)\n",
    "    return(theta)"
   ]
  },
  {
   "cell_type": "code",
   "execution_count": 46,
   "metadata": {
    "papermill": {
     "duration": 0.036955,
     "end_time": "2019-10-28T14:04:35.706250",
     "exception": false,
     "start_time": "2019-10-28T14:04:35.669295",
     "status": "completed"
    },
    "tags": []
   },
   "outputs": [],
   "source": [
    "def get_pa_for_member(obj):\n",
    "    e1=obj['All']['e1']\n",
    "    e2=obj['All']['e2']\n",
    "    \n",
    "    alpha =0.5*np.arctan2(-e2,-e1)*180/np.pi\n",
    "    if alpha>=0:\n",
    "        alpha=(alpha-90)\n",
    "    elif alpha<0:\n",
    "        alpha=90+alpha\n",
    "    else:\n",
    "        raise \n",
    "    return(alpha)"
   ]
  },
  {
   "cell_type": "code",
   "execution_count": 47,
   "metadata": {
    "papermill": {
     "duration": 18.436029,
     "end_time": "2019-10-28T14:04:54.176153",
     "exception": false,
     "start_time": "2019-10-28T14:04:35.740124",
     "status": "completed"
    },
    "tags": []
   },
   "outputs": [],
   "source": [
    "shapes[('All','alpha')]=shapes.apply(lambda x:get_pa_for_member(x),axis=1)"
   ]
  },
  {
   "cell_type": "code",
   "execution_count": 48,
   "metadata": {
    "papermill": {
     "duration": 0.044126,
     "end_time": "2019-10-28T14:04:54.260683",
     "exception": false,
     "start_time": "2019-10-28T14:04:54.216557",
     "status": "completed"
    },
    "tags": []
   },
   "outputs": [],
   "source": [
    "error_list_phi=[]\n",
    "error_list_e=[]\n",
    "\n",
    "def get_phi_for_member(member):\n",
    "    \n",
    "    \"\"\"Input: cluster series\n",
    "        Output: an array of position angle weighted by PP\n",
    "        Record KeyError in an array (usually caused by uncomplete shape catalog).\n",
    "    \"\"\"\n",
    "    \n",
    "    cluster_id=member[('All','MEM_MATCH_ID')]\n",
    "    cluster=clusters.loc[cluster_id]\n",
    "    center_id=cluster[('Alt', 'Alt1', 'ID_CENT')]\n",
    "    center = shapes.loc[center_id]\n",
    "\n",
    "    pa=member[('All','alpha')]\n",
    "    theta= get_theta_for_obj(member,center)\n",
    "    phi=(pa-theta)\n",
    "    #     print(center.index)\n",
    "    return(phi)    "
   ]
  },
  {
   "cell_type": "code",
   "execution_count": 49,
   "metadata": {
    "papermill": {
     "duration": 72.000475,
     "end_time": "2019-10-28T14:06:06.295579",
     "exception": false,
     "start_time": "2019-10-28T14:04:54.295104",
     "status": "completed"
    },
    "tags": []
   },
   "outputs": [],
   "source": [
    "shapes[('All','phi')]=shapes.apply(lambda x:get_phi_for_member(x),axis=1)"
   ]
  },
  {
   "cell_type": "code",
   "execution_count": 50,
   "metadata": {
    "papermill": {
     "duration": 0.040268,
     "end_time": "2019-10-28T14:06:06.367758",
     "exception": false,
     "start_time": "2019-10-28T14:06:06.327490",
     "status": "completed"
    },
    "tags": []
   },
   "outputs": [],
   "source": [
    "def process_phi(phi_1d):\n",
    "\n",
    "    phi_1d=np.where(phi_1d<=0,-phi_1d,phi_1d)\n",
    "    phi_1d=np.where(phi_1d>=180,phi_1d-180,phi_1d)\n",
    "    phi_1d=np.where(phi_1d>=90,180-phi_1d,phi_1d)\n",
    "\n",
    "    \n",
    "    return(phi_1d)"
   ]
  },
  {
   "cell_type": "code",
   "execution_count": 51,
   "metadata": {
    "papermill": {
     "duration": 0.041399,
     "end_time": "2019-10-28T14:06:06.438387",
     "exception": false,
     "start_time": "2019-10-28T14:06:06.396988",
     "status": "completed"
    },
    "tags": []
   },
   "outputs": [],
   "source": [
    "shapes[('All','phi')]=process_phi(shapes[('All','phi')])"
   ]
  },
  {
   "cell_type": "markdown",
   "metadata": {
    "papermill": {
     "duration": 0.029721,
     "end_time": "2019-10-28T14:06:06.498420",
     "exception": false,
     "start_time": "2019-10-28T14:06:06.468699",
     "status": "completed"
    },
    "tags": []
   },
   "source": [
    "# Add theta"
   ]
  },
  {
   "cell_type": "code",
   "execution_count": 52,
   "metadata": {
    "papermill": {
     "duration": 72.253799,
     "end_time": "2019-10-28T14:07:18.781954",
     "exception": false,
     "start_time": "2019-10-28T14:06:06.528155",
     "status": "completed"
    },
    "tags": []
   },
   "outputs": [],
   "source": [
    "shapes[('All','Theta_cen')]=shapes.apply(lambda x:get_rel_theta(x),axis=1)"
   ]
  },
  {
   "cell_type": "code",
   "execution_count": 53,
   "metadata": {
    "papermill": {
     "duration": 3.795498,
     "end_time": "2019-10-28T14:07:22.616340",
     "exception": false,
     "start_time": "2019-10-28T14:07:18.820842",
     "status": "completed"
    },
    "tags": []
   },
   "outputs": [],
   "source": [
    "shapes[('All','Theta_cen')]=shapes.apply(lambda x:360-x[('All','Theta_cen')] if x[('All','Theta_cen')]>=180 else x[('All','Theta_cen')],axis=1)\n",
    "shapes[('All','Theta_cen')]=shapes.apply(lambda x:360+x[('All','Theta_cen')] if x[('All','Theta_cen')]<=-180 else x[('All','Theta_cen')],axis=1)\n",
    "shapes[('All','Theta_sat')]=shapes.apply(lambda x:-(180-x[('All','Theta_cen')]) if x[('All','Theta_cen')]>=0 else (180+x[('All','Theta_cen')]),axis=1)"
   ]
  },
  {
   "cell_type": "markdown",
   "metadata": {
    "papermill": {
     "duration": 0.03019,
     "end_time": "2019-10-28T14:07:22.678196",
     "exception": false,
     "start_time": "2019-10-28T14:07:22.648006",
     "status": "completed"
    },
    "tags": []
   },
   "source": [
    "# Add angR"
   ]
  },
  {
   "cell_type": "code",
   "execution_count": 54,
   "metadata": {
    "papermill": {
     "duration": 0.039859,
     "end_time": "2019-10-28T14:07:22.747791",
     "exception": false,
     "start_time": "2019-10-28T14:07:22.707932",
     "status": "completed"
    },
    "tags": []
   },
   "outputs": [],
   "source": [
    "H0=100 #km s-1 Mpc-1\n",
    "Om0=0.3\n",
    "Ode0=0.7\n",
    "lcdm=astropy.cosmology.FlatLambdaCDM(H0, Om0)"
   ]
  },
  {
   "cell_type": "code",
   "execution_count": 55,
   "metadata": {
    "papermill": {
     "duration": 454.003354,
     "end_time": "2019-10-28T14:14:56.783217",
     "exception": false,
     "start_time": "2019-10-28T14:07:22.779863",
     "status": "completed"
    },
    "tags": []
   },
   "outputs": [],
   "source": [
    "shapes[('All','angR')]=shapes.apply(lambda x:np.float(lcdm.angular_diameter_distance(x[('All','Z')])/u.Mpc),axis=1)\n",
    "random[('All','angR')]=random.apply(lambda x:np.float(lcdm.angular_diameter_distance(x[('All','Z')])/u.Mpc),axis=1)"
   ]
  },
  {
   "cell_type": "markdown",
   "metadata": {
    "papermill": {
     "duration": 0.03245,
     "end_time": "2019-10-28T14:14:56.857060",
     "exception": false,
     "start_time": "2019-10-28T14:14:56.824610",
     "status": "completed"
    },
    "tags": []
   },
   "source": [
    "# Add e"
   ]
  },
  {
   "cell_type": "code",
   "execution_count": 56,
   "metadata": {
    "papermill": {
     "duration": 0.044811,
     "end_time": "2019-10-28T14:14:56.937884",
     "exception": false,
     "start_time": "2019-10-28T14:14:56.893073",
     "status": "completed"
    },
    "tags": []
   },
   "outputs": [],
   "source": [
    "def get_e(sat):\n",
    "    cluster_id=sat[('All','MEM_MATCH_ID')]\n",
    "    cluster=clusters.loc[cluster_id]\n",
    "    center_id=cluster[('Alt', 'Alt1', 'ID_CENT')]\n",
    "    cen = shapes.loc[center_id]\n",
    "    \n",
    "    e=np.sqrt(sat[('All','e1')]**2+sat[('All','e2')]**2)\n",
    "    delta=get_theta_for_obj(cen,sat)\n",
    "    alpha=sat[('All','alpha')]\n",
    "    ep,ex=(e*np.cos(2*(delta-alpha)),e*np.sin(2*(delta-alpha)))\n",
    "    return(ep,ex,e)"
   ]
  },
  {
   "cell_type": "code",
   "execution_count": 57,
   "metadata": {
    "papermill": {
     "duration": 224.286838,
     "end_time": "2019-10-28T14:18:41.259189",
     "exception": false,
     "start_time": "2019-10-28T14:14:56.972351",
     "status": "completed"
    },
    "tags": []
   },
   "outputs": [],
   "source": [
    "shapes[('All','e')]=shapes.apply(lambda x:get_e(x)[2],axis=1)\n",
    "shapes[('All','ep')]=shapes.apply(lambda x:get_e(x)[0],axis=1)\n",
    "shapes[('All','ex')]=shapes.apply(lambda x:get_e(x)[1],axis=1)"
   ]
  },
  {
   "cell_type": "markdown",
   "metadata": {
    "papermill": {
     "duration": 0.030141,
     "end_time": "2019-10-28T14:18:41.322351",
     "exception": false,
     "start_time": "2019-10-28T14:18:41.292210",
     "status": "completed"
    },
    "tags": []
   },
   "source": [
    "# Calculate cluster elipticity"
   ]
  },
  {
   "cell_type": "code",
   "execution_count": 58,
   "metadata": {
    "papermill": {
     "duration": 0.03914,
     "end_time": "2019-10-28T14:18:41.390730",
     "exception": false,
     "start_time": "2019-10-28T14:18:41.351590",
     "status": "completed"
    },
    "tags": []
   },
   "outputs": [
    {
     "data": {
      "text/latex": [
       "$\\displaystyle M_{\\mathrm{xx}} \\equiv\\left\\langle\\frac{x^{2}}{r^{2}}\\right\\rangle=\\frac{\\sum_{i} p_{\\mathrm{mem}, i} \\frac{x_{i}^{2}}{r_{i}^{2}}}{\\sum_{i} p_{\\mathrm{mem}, i}}$"
      ],
      "text/plain": [
       "<IPython.core.display.Math object>"
      ]
     },
     "metadata": {},
     "output_type": "display_data"
    }
   ],
   "source": [
    "display(Math(r\"$M_{\\mathrm{xx}} \\equiv\\left\\langle\\frac{x^{2}}{r^{2}}\\right\\rangle=\\frac{\\sum_{i} p_{\\mathrm{mem}, i} \\frac{x_{i}^{2}}{r_{i}^{2}}}{\\sum_{i} p_{\\mathrm{mem}, i}}$\"))"
   ]
  },
  {
   "cell_type": "code",
   "execution_count": 59,
   "metadata": {
    "papermill": {
     "duration": 0.043619,
     "end_time": "2019-10-28T14:18:41.464794",
     "exception": false,
     "start_time": "2019-10-28T14:18:41.421175",
     "status": "completed"
    },
    "tags": []
   },
   "outputs": [],
   "source": [
    "def get_Q_U(cluster):\n",
    "    \n",
    "    mem_match_id=cluster.name\n",
    "    members=shapes[shapes['All','MEM_MATCH_ID']==mem_match_id]\n",
    "    \n",
    "    members=members[members[('All','PP')]>=0.2]\n",
    "    \n",
    "    def get_M_for_cluster():\n",
    "        p = members[('All','PP')]\n",
    "        r = members[('All','R')]\n",
    "        pa = members[('All','Theta_cen')]\n",
    "        x = r * np.cos(pa)\n",
    "        y = r * np.sin(pa)\n",
    "        \n",
    "        def mom_2(p,x,y,r):\n",
    "            return(np.sum(p*x*y/r**2)/np.sum(p))\n",
    "        \n",
    "        Mxx=mom_2(p,x,x,r)\n",
    "        Mxy=mom_2(p,x,y,r)\n",
    "        Myy=mom_2(p,y,y,r)\n",
    "        return(Mxx,Mxy,Myy)\n",
    "\n",
    "    Mxx,Mxy,Myy=get_M_for_cluster()\n",
    "    Q,U=Mxx-Myy,2*Mxy\n",
    "    \n",
    "    return (Q,U)\n",
    "\n",
    "\n",
    "def get_pa_from_Q_U(Q,U):\n",
    "    α =0.5*np.arctan2(U,Q)*180/np.pi\n",
    "    return(α)"
   ]
  },
  {
   "cell_type": "code",
   "execution_count": 60,
   "metadata": {
    "papermill": {
     "duration": 35.17808,
     "end_time": "2019-10-28T14:19:16.672416",
     "exception": false,
     "start_time": "2019-10-28T14:18:41.494336",
     "status": "completed"
    },
    "tags": []
   },
   "outputs": [],
   "source": [
    "clusters[('All','All','Q')]=clusters.apply(lambda x:get_Q_U(x)[0],axis=1)\n",
    "clusters[('All','All','U')]=clusters.apply(lambda x:get_Q_U(x)[1],axis=1)\n",
    "clusters[('All','All','Beta')]=clusters.apply(lambda x:get_pa_from_Q_U(x[('All','All','Q')],x[('All','All','U')]),axis=1)\n",
    "clusters[('All','All','Ce')]=clusters.apply(lambda x:np.sqrt(x[('All','All','U')]**2+x[('All','All','U')]**2),axis=1)"
   ]
  },
  {
   "cell_type": "code",
   "execution_count": 61,
   "metadata": {
    "papermill": {
     "duration": 0.036032,
     "end_time": "2019-10-28T14:19:16.746458",
     "exception": false,
     "start_time": "2019-10-28T14:19:16.710426",
     "status": "completed"
    },
    "tags": []
   },
   "outputs": [],
   "source": [
    "def get_normLR(shape):\n",
    "    cluster_id=shape[('All','MEM_MATCH_ID')]\n",
    "    LR = clusters.loc[cluster_id][('All','All','R_LAMBDA')]\n",
    "    angR=shape[('All','angR')]\n",
    "    normR=angR/LR\n",
    "    return(normR)"
   ]
  },
  {
   "cell_type": "code",
   "execution_count": 62,
   "metadata": {
    "papermill": {
     "duration": 11.022493,
     "end_time": "2019-10-28T14:19:27.798652",
     "exception": false,
     "start_time": "2019-10-28T14:19:16.776159",
     "status": "completed"
    },
    "tags": []
   },
   "outputs": [],
   "source": [
    "shapes[('All','normLR')]=shapes.apply(lambda x:get_normLR(x),axis=1)"
   ]
  },
  {
   "cell_type": "code",
   "execution_count": 63,
   "metadata": {
    "papermill": {
     "duration": 0.037144,
     "end_time": "2019-10-28T14:19:27.870232",
     "exception": false,
     "start_time": "2019-10-28T14:19:27.833088",
     "status": "completed"
    },
    "tags": []
   },
   "outputs": [],
   "source": [
    "def add_r_lambda(shape):\n",
    "    cluster_id=shape[('All','MEM_MATCH_ID')]\n",
    "    LR = clusters.loc[cluster_id][('All','All','R_LAMBDA')]\n",
    "    return(LR)"
   ]
  },
  {
   "cell_type": "code",
   "execution_count": 64,
   "metadata": {
    "papermill": {
     "duration": 10.444732,
     "end_time": "2019-10-28T14:19:38.346346",
     "exception": false,
     "start_time": "2019-10-28T14:19:27.901614",
     "status": "completed"
    },
    "tags": []
   },
   "outputs": [],
   "source": [
    "shapes[('All','R_LAMBDA')]=shapes.apply(lambda x:add_r_lambda(x),axis=1)"
   ]
  },
  {
   "cell_type": "markdown",
   "metadata": {
    "papermill": {
     "duration": 0.030956,
     "end_time": "2019-10-28T14:19:38.409524",
     "exception": false,
     "start_time": "2019-10-28T14:19:38.378568",
     "status": "completed"
    },
    "tags": []
   },
   "source": [
    "# Save"
   ]
  },
  {
   "cell_type": "code",
   "execution_count": 65,
   "metadata": {
    "papermill": {
     "duration": 0.063747,
     "end_time": "2019-10-28T14:19:38.503161",
     "exception": false,
     "start_time": "2019-10-28T14:19:38.439414",
     "status": "completed"
    },
    "tags": []
   },
   "outputs": [],
   "source": [
    "clusters.to_pickle('/home/cz136/project/sa/data/{}/{}/clusters.pkl'.format(shape_cat,vol))"
   ]
  },
  {
   "cell_type": "code",
   "execution_count": 66,
   "metadata": {
    "papermill": {
     "duration": 0.140246,
     "end_time": "2019-10-28T14:19:38.681149",
     "exception": false,
     "start_time": "2019-10-28T14:19:38.540903",
     "status": "completed"
    },
    "tags": []
   },
   "outputs": [],
   "source": [
    "shapes.to_pickle('/home/cz136/project/sa/data/{}/{}/shapes.pkl'.format(shape_cat,vol))"
   ]
  },
  {
   "cell_type": "code",
   "execution_count": 67,
   "metadata": {
    "papermill": {
     "duration": 1.28761,
     "end_time": "2019-10-28T14:19:40.009989",
     "exception": false,
     "start_time": "2019-10-28T14:19:38.722379",
     "status": "completed"
    },
    "tags": []
   },
   "outputs": [],
   "source": [
    "random.to_pickle('/home/cz136/project/sa/data/{}/{}/random.pkl'.format(shape_cat,vol))"
   ]
  },
  {
   "cell_type": "markdown",
   "metadata": {
    "papermill": {
     "duration": 0.032434,
     "end_time": "2019-10-28T14:19:40.102641",
     "exception": false,
     "start_time": "2019-10-28T14:19:40.070207",
     "status": "completed"
    },
    "tags": []
   },
   "source": [
    "## z masking"
   ]
  },
  {
   "cell_type": "code",
   "execution_count": 68,
   "metadata": {
    "papermill": {
     "duration": 0.043782,
     "end_time": "2019-10-28T14:19:40.176112",
     "exception": false,
     "start_time": "2019-10-28T14:19:40.132330",
     "status": "completed"
    },
    "tags": []
   },
   "outputs": [],
   "source": [
    "def drop_shapes_wo_cluster(clusters,shapes):\n",
    "    valid_clusters_id=clusters.index.to_numpy()\n",
    "    shapes_match_id=shapes[('All','MEM_MATCH_ID')].to_numpy()\n",
    "    print(\"Number of galaxies before masking: {}\".format(len(shapes_match_id)))\n",
    "    valid_members=np.isin(shapes_match_id,valid_clusters_id)\n",
    "    shapes=shapes[valid_members]\n",
    "    return(shapes)"
   ]
  },
  {
   "cell_type": "code",
   "execution_count": 69,
   "metadata": {
    "papermill": {
     "duration": 0.049808,
     "end_time": "2019-10-28T14:19:40.261969",
     "exception": false,
     "start_time": "2019-10-28T14:19:40.212161",
     "status": "completed"
    },
    "tags": []
   },
   "outputs": [],
   "source": [
    "high_z=clusters[clusters['All','All','Z_LAMBDA']>=0.35]\n",
    "low_z=clusters[(clusters['All','All','Z_LAMBDA']<=0.35) & (clusters['All','All','Z_LAMBDA']>=0.1)]"
   ]
  },
  {
   "cell_type": "code",
   "execution_count": 70,
   "metadata": {
    "papermill": {
     "duration": 0.05403,
     "end_time": "2019-10-28T14:19:40.351980",
     "exception": false,
     "start_time": "2019-10-28T14:19:40.297950",
     "status": "completed"
    },
    "tags": []
   },
   "outputs": [
    {
     "name": "stdout",
     "output_type": "stream",
     "text": [
      "Number of galaxies before masking: 36654\n",
      "Number of galaxies before masking: 36654\n"
     ]
    }
   ],
   "source": [
    "high_z_shapes=drop_shapes_wo_cluster(high_z,shapes)\n",
    "low_z_shapes=drop_shapes_wo_cluster(low_z,shapes)"
   ]
  },
  {
   "cell_type": "code",
   "execution_count": 71,
   "metadata": {
    "papermill": {
     "duration": 0.16345,
     "end_time": "2019-10-28T14:19:40.548951",
     "exception": false,
     "start_time": "2019-10-28T14:19:40.385501",
     "status": "completed"
    },
    "tags": []
   },
   "outputs": [],
   "source": [
    "high_z.to_pickle('/home/cz136/project/sa/data/{}/{}/clusters_high_z.pkl'.format(shape_cat,vol))\n",
    "low_z.to_pickle('/home/cz136/project/sa/data/{}/{}/clusters_low_z.pkl'.format(shape_cat,vol))\n",
    "high_z_shapes.to_pickle('/home/cz136/project/sa/data/{}/{}/shapes_high_z.pkl'.format(shape_cat,vol))\n",
    "low_z_shapes.to_pickle('/home/cz136/project/sa/data/{}/{}/shapes_low_z.pkl'.format(shape_cat,vol))"
   ]
  }
 ],
 "metadata": {
  "kernelspec": {
   "display_name": "Python 3",
   "language": "python",
   "name": "python3"
  },
  "language_info": {
   "codemirror_mode": {
    "name": "ipython",
    "version": 3
   },
   "file_extension": ".py",
   "mimetype": "text/x-python",
   "name": "python",
   "nbconvert_exporter": "python",
   "pygments_lexer": "ipython3",
   "version": "3.7.3"
  },
  "papermill": {
   "duration": 1097.821093,
   "end_time": "2019-10-28T14:19:41.194198",
   "environment_variables": {},
   "exception": null,
   "input_path": "/home/cz136/project/sa/lib/src/data_marshalling.ipynb",
   "output_path": "/home/cz136/project/sa/lib/output/data/im3_all.ipynb",
   "parameters": {
    "shape_cat": "im3",
    "vol": "all"
   },
   "start_time": "2019-10-28T14:01:23.373105",
   "version": "1.2.0"
  }
 },
 "nbformat": 4,
 "nbformat_minor": 4
}