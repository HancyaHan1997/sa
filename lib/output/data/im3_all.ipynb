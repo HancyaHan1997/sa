{
 "cells": [
  {
   "cell_type": "code",
   "execution_count": 1,
   "metadata": {
    "papermill": {
     "duration": 0.029051,
     "end_time": "2019-10-26T08:27:14.183212",
     "exception": false,
     "start_time": "2019-10-26T08:27:14.154161",
     "status": "completed"
    },
    "tags": [
     "parameters"
    ]
   },
   "outputs": [],
   "source": [
    "shape_cat=\"\"\n",
    "vol=\"\""
   ]
  },
  {
   "cell_type": "code",
   "execution_count": 2,
   "metadata": {
    "papermill": {
     "duration": 0.029043,
     "end_time": "2019-10-26T08:27:14.237692",
     "exception": false,
     "start_time": "2019-10-26T08:27:14.208649",
     "status": "completed"
    },
    "tags": [
     "injected-parameters"
    ]
   },
   "outputs": [],
   "source": [
    "# Parameters\n",
    "shape_cat = \"im3\"\n",
    "vol = \"all\"\n"
   ]
  },
  {
   "cell_type": "code",
   "execution_count": 3,
   "metadata": {
    "papermill": {
     "duration": 1.772503,
     "end_time": "2019-10-26T08:27:16.033367",
     "exception": false,
     "start_time": "2019-10-26T08:27:14.260864",
     "status": "completed"
    },
    "tags": []
   },
   "outputs": [],
   "source": [
    "from astropy.io import fits\n",
    "from astropy.table import Table\n",
    "import pandas as pd\n",
    "import fitsio as fio\n",
    "import numpy as np\n",
    "import ast\n",
    "\n",
    "import astropy.cosmology\n",
    "from astropy.coordinates import SkyCoord  # High-level coordinates\n",
    "from astropy.coordinates import ICRS, Galactic, FK4, FK5  # Low-level frames\n",
    "from astropy.coordinates import Angle, Latitude, Longitude  # Angles\n",
    "import astropy.units as u\n",
    "from IPython.display import display, Math"
   ]
  },
  {
   "cell_type": "code",
   "execution_count": 4,
   "metadata": {
    "papermill": {
     "duration": 0.697825,
     "end_time": "2019-10-26T08:27:16.755803",
     "exception": false,
     "start_time": "2019-10-26T08:27:16.057978",
     "status": "completed"
    },
    "tags": []
   },
   "outputs": [
    {
     "name": "stdout",
     "output_type": "stream",
     "text": [
      "809723\n",
      "16966\n",
      "5621\n"
     ]
    }
   ],
   "source": [
    "if vol==\"vlim\":\n",
    "    cluster_table=Table(fits.open('/lsst/troxel/y1a1/y1a1_gold_1.0.3-d10-mof-001d_run_redmapper_v6.4.17-vlim_lgt20_desformat_catalog.fit')[1].data)\n",
    "    member_table=Table(fits.open('/lsst/troxel/y1a1/y1a1_gold_1.0.3-d10-mof-001d_run_redmapper_v6.4.17-vlim_lgt20_desformat_catalog_members.fit')[1].data)\n",
    "    random_table=Table(fits.open('/lsst/troxel/y1a1/y1a1_gold_1.0.3_wide+d10-mof-001d_run_redmapper_v6.4.17-2_randcat_z0.10-0.95_lgt020_vl50.fit')[1].data)\n",
    "elif vol==\"all\":\n",
    "    cluster_table=Table(fits.open('/lsst/troxel/y1a1/y1a1_gold_1.0.3-d10-mof-001d_run_redmapper_v6.4.17_lgt20_desformat_catalog.fit')[1].data)\n",
    "    member_table=Table(fits.open('/lsst/troxel/y1a1/y1a1_gold_1.0.3-d10-mof-001d_run_redmapper_v6.4.17_lgt20_desformat_catalog_members.fit')[1].data)\n",
    "    random_table=Table(fits.open('/lsst/troxel/y1a1/y1a1_gold_1.0.3_wide+d10-mof-001d_run_redmapper_v6.4.17-2_randcat_z0.10-0.95_lgt020_vl02.fit')[1].data)\n",
    "else:\n",
    "    raise TypeError(\"Wrong vol\")\n",
    "cluster_table.remove_columns(['P_C','C_LAMBDA','C_LAMBDA_ERR','Q_CEN']) #unknown columns\n",
    "\n",
    "print(len(member_table))\n",
    "print(len(cluster_table))\n",
    "print(len(member_table['ID'])-len(np.unique(member_table['ID'])))"
   ]
  },
  {
   "cell_type": "code",
   "execution_count": 5,
   "metadata": {
    "papermill": {
     "duration": 36.651039,
     "end_time": "2019-10-26T08:27:53.433425",
     "exception": false,
     "start_time": "2019-10-26T08:27:16.782386",
     "status": "completed"
    },
    "tags": []
   },
   "outputs": [
    {
     "name": "stdout",
     "output_type": "stream",
     "text": [
      "Metacal loaded\n"
     ]
    }
   ],
   "source": [
    "if shape_cat==\"mcal\":\n",
    "    mcal = fio.FITS('/lsst/troxel/y1a1/mcal-y1a1-combined-riz-unblind-v4-matched.fits',memmap=True,mode='r')[1]\n",
    "    print (\"Metacal loaded\")\n",
    "    shape_id=mcal['coadd_objects_id'][:] \n",
    "elif shape_cat==\"im3\":\n",
    "        mcal = fio.FITS('/lsst/troxel/y1a1/y1a1-im3shape_v5_unblind_v2_matched_v4.fits',memmap=True,mode='r')[1]\n",
    "        print (\"Metacal loaded\")\n",
    "        shape_id=mcal['coadd_objects_id'][:] \n",
    "else:\n",
    "    raise "
   ]
  },
  {
   "cell_type": "code",
   "execution_count": 6,
   "metadata": {
    "papermill": {
     "duration": 0.030238,
     "end_time": "2019-10-26T08:27:53.490608",
     "exception": false,
     "start_time": "2019-10-26T08:27:53.460370",
     "status": "completed"
    },
    "tags": []
   },
   "outputs": [],
   "source": [
    "problem_list =['MODEL_MAG', 'MODEL_MAGERR', 'MAG_LAMBDA_ERR', 'PZBINS',\n",
    "               'PZ', 'RA_CENT', 'DEC_CENT', 'ID_CENT', 'LAMBDA_CHISQ_CENT',\n",
    "               'ZLAMBDA_CENT', 'P_BCG', 'P_CEN', 'P_FG', 'P_SAT']"
   ]
  },
  {
   "cell_type": "code",
   "execution_count": 7,
   "metadata": {
    "papermill": {
     "duration": 0.030875,
     "end_time": "2019-10-26T08:27:53.548957",
     "exception": false,
     "start_time": "2019-10-26T08:27:53.518082",
     "status": "completed"
    },
    "tags": []
   },
   "outputs": [],
   "source": [
    "band_col_list = []\n",
    "pz_col_list = []\n",
    "alt_col_list =[]\n",
    "for problem in problem_list:\n",
    "    if cluster_table[problem].shape[1]==4:\n",
    "        band_col_list.append(problem)\n",
    "    elif cluster_table[problem].shape[1]==5:\n",
    "        alt_col_list.append(problem)\n",
    "    elif cluster_table[problem].shape[1]==21:\n",
    "        pz_col_list.append(problem)\n",
    "    else:\n",
    "        print (\"error\")"
   ]
  },
  {
   "cell_type": "code",
   "execution_count": 8,
   "metadata": {
    "papermill": {
     "duration": 0.031133,
     "end_time": "2019-10-26T08:27:53.605034",
     "exception": false,
     "start_time": "2019-10-26T08:27:53.573901",
     "status": "completed"
    },
    "tags": []
   },
   "outputs": [],
   "source": [
    "band_list=['g','r','i','z','Y']\n",
    "pz_index_list=['pz'+str(i+1) for i in range(21)]\n",
    "alt_index_list=['Alt'+str(i+1) for i in range(5)]"
   ]
  },
  {
   "cell_type": "code",
   "execution_count": 9,
   "metadata": {
    "papermill": {
     "duration": 0.04049,
     "end_time": "2019-10-26T08:27:53.669420",
     "exception": false,
     "start_time": "2019-10-26T08:27:53.628930",
     "status": "completed"
    },
    "tags": []
   },
   "outputs": [],
   "source": [
    "for j in range(4):\n",
    "    for i,column in enumerate(band_col_list):\n",
    "        cluster_table[str(('Band',band_list[j],column))]=cluster_table[column].data[:,j]\n",
    "cluster_table.remove_columns(band_col_list)"
   ]
  },
  {
   "cell_type": "code",
   "execution_count": 10,
   "metadata": {
    "papermill": {
     "duration": 0.070263,
     "end_time": "2019-10-26T08:27:53.767893",
     "exception": false,
     "start_time": "2019-10-26T08:27:53.697630",
     "status": "completed"
    },
    "tags": []
   },
   "outputs": [],
   "source": [
    "for i,column in enumerate(pz_col_list):\n",
    "    for j in range(21):\n",
    "        cluster_table[str(('PZ',pz_index_list[j],column))]=cluster_table[column].data[:,j]\n",
    "cluster_table.remove_columns(pz_col_list)"
   ]
  },
  {
   "cell_type": "code",
   "execution_count": 11,
   "metadata": {
    "papermill": {
     "duration": 0.08464,
     "end_time": "2019-10-26T08:27:53.880162",
     "exception": false,
     "start_time": "2019-10-26T08:27:53.795522",
     "status": "completed"
    },
    "tags": []
   },
   "outputs": [],
   "source": [
    "for i,column in enumerate(alt_col_list):\n",
    "    for j in range(5):\n",
    "        cluster_table[str(('Alt',alt_index_list[j],column))]=cluster_table[column].data[:,j]\n",
    "cluster_table.remove_columns(alt_col_list)"
   ]
  },
  {
   "cell_type": "code",
   "execution_count": 12,
   "metadata": {
    "papermill": {
     "duration": 0.108883,
     "end_time": "2019-10-26T08:27:54.016048",
     "exception": false,
     "start_time": "2019-10-26T08:27:53.907165",
     "status": "completed"
    },
    "tags": []
   },
   "outputs": [],
   "source": [
    "all_col_list=list(cluster_table.columns[0:54])\n",
    "for i,column in enumerate(all_col_list):\n",
    "    cluster_table[str(('All','All',column))]=cluster_table[column].data[:]\n",
    "cluster_table.remove_columns(all_col_list)"
   ]
  },
  {
   "cell_type": "code",
   "execution_count": 13,
   "metadata": {
    "papermill": {
     "duration": 0.066621,
     "end_time": "2019-10-26T08:27:54.107758",
     "exception": false,
     "start_time": "2019-10-26T08:27:54.041137",
     "status": "completed"
    },
    "tags": []
   },
   "outputs": [],
   "source": [
    "for j in range(4):\n",
    "    for i,column in enumerate(band_col_list[0:2]):\n",
    "        member_table['('+band_list[j]+','+column+')']=member_table[column].data[:,j]\n",
    "member_table.remove_columns(band_col_list[0:2]) "
   ]
  },
  {
   "cell_type": "code",
   "execution_count": 14,
   "metadata": {
    "papermill": {
     "duration": 0.701325,
     "end_time": "2019-10-26T08:27:54.837612",
     "exception": false,
     "start_time": "2019-10-26T08:27:54.136287",
     "status": "completed"
    },
    "tags": []
   },
   "outputs": [],
   "source": [
    "clusters=cluster_table.to_pandas()\n",
    "member=member_table.to_pandas()\n",
    "random=random_table.to_pandas()\n",
    "# center_table=None\n",
    "# member_table=None"
   ]
  },
  {
   "cell_type": "code",
   "execution_count": 15,
   "metadata": {
    "papermill": {
     "duration": 0.035847,
     "end_time": "2019-10-26T08:27:54.899742",
     "exception": false,
     "start_time": "2019-10-26T08:27:54.863895",
     "status": "completed"
    },
    "tags": []
   },
   "outputs": [],
   "source": [
    "member_cols = member.columns[0:22]\n",
    "shape_columns=pd.MultiIndex.from_product([['All'],list(mcal.get_colnames())],names=['Band','Data'])"
   ]
  },
  {
   "cell_type": "code",
   "execution_count": 16,
   "metadata": {
    "papermill": {
     "duration": 0.031174,
     "end_time": "2019-10-26T08:27:54.957030",
     "exception": false,
     "start_time": "2019-10-26T08:27:54.925856",
     "status": "completed"
    },
    "tags": []
   },
   "outputs": [],
   "source": [
    "center_bins=[m+str(n) for m,n in zip(['cen_']*5,np.arange(5)+1)]\n",
    "center=pd.MultiIndex.from_product([['Center'],center_bins,member_cols])"
   ]
  },
  {
   "cell_type": "code",
   "execution_count": 17,
   "metadata": {
    "papermill": {
     "duration": 0.030273,
     "end_time": "2019-10-26T08:27:55.011789",
     "exception": false,
     "start_time": "2019-10-26T08:27:54.981516",
     "status": "completed"
    },
    "tags": []
   },
   "outputs": [],
   "source": [
    "cluster_band_columns=pd.MultiIndex.from_product([['g','r','i','z'],\n",
    "                                       ['MODEL_MAG','MODEL_MAGERR','MAG_LAMBDA_ERR']],\n",
    "                                     names=['band','data'])"
   ]
  },
  {
   "cell_type": "code",
   "execution_count": 18,
   "metadata": {
    "papermill": {
     "duration": 0.027821,
     "end_time": "2019-10-26T08:27:55.063793",
     "exception": false,
     "start_time": "2019-10-26T08:27:55.035972",
     "status": "completed"
    },
    "tags": []
   },
   "outputs": [],
   "source": [
    "# alt_bins=[m+str(n) for m,n in zip(['alt_']*5,np.arange(5)+1)]\n",
    "# alt_columns=pd.MultiIndex.from_product([alt_bins,\n",
    "#                                        alt_col_list.append(shape_names)],\n",
    "#                                      names=['alt_index','data'])"
   ]
  },
  {
   "cell_type": "code",
   "execution_count": 19,
   "metadata": {
    "papermill": {
     "duration": 0.030754,
     "end_time": "2019-10-26T08:27:55.119817",
     "exception": false,
     "start_time": "2019-10-26T08:27:55.089063",
     "status": "completed"
    },
    "tags": []
   },
   "outputs": [],
   "source": [
    "member_band_columns=pd.MultiIndex.from_product([['g','r','i','z'],\n",
    "                                       ['MODEL_MAG','MODEL_MAGERR',]],\n",
    "                                     names=['Band','Data'])"
   ]
  },
  {
   "cell_type": "code",
   "execution_count": 20,
   "metadata": {
    "papermill": {
     "duration": 0.029849,
     "end_time": "2019-10-26T08:27:55.173485",
     "exception": false,
     "start_time": "2019-10-26T08:27:55.143636",
     "status": "completed"
    },
    "tags": []
   },
   "outputs": [],
   "source": [
    "shape_index=pd.MultiIndex.from_tuples([('MEM_MATCH_ID','TYPE')],names=['ClusterID','Type'])"
   ]
  },
  {
   "cell_type": "code",
   "execution_count": 21,
   "metadata": {
    "papermill": {
     "duration": 0.030472,
     "end_time": "2019-10-26T08:27:55.229219",
     "exception": false,
     "start_time": "2019-10-26T08:27:55.198747",
     "status": "completed"
    },
    "tags": []
   },
   "outputs": [],
   "source": [
    "random_columns=pd.MultiIndex.from_product([['All'],['RA', 'DEC', 'Z', 'LAMBDA_IN', 'AVG_LAMBDAOUT', 'SIGMA_LAMBDAOUT', 'WEIGHT']],\n",
    "                                       names=['Band','Data'])"
   ]
  },
  {
   "cell_type": "code",
   "execution_count": 22,
   "metadata": {
    "papermill": {
     "duration": 0.02854,
     "end_time": "2019-10-26T08:27:55.282028",
     "exception": false,
     "start_time": "2019-10-26T08:27:55.253488",
     "status": "completed"
    },
    "tags": []
   },
   "outputs": [],
   "source": [
    "random.columns=random_columns"
   ]
  },
  {
   "cell_type": "code",
   "execution_count": 23,
   "metadata": {
    "papermill": {
     "duration": 0.028971,
     "end_time": "2019-10-26T08:27:55.335849",
     "exception": false,
     "start_time": "2019-10-26T08:27:55.306878",
     "status": "completed"
    },
    "tags": []
   },
   "outputs": [],
   "source": [
    "member_id=member['ID'].values"
   ]
  },
  {
   "cell_type": "code",
   "execution_count": 24,
   "metadata": {
    "papermill": {
     "duration": 0.028332,
     "end_time": "2019-10-26T08:27:55.387676",
     "exception": false,
     "start_time": "2019-10-26T08:27:55.359344",
     "status": "completed"
    },
    "tags": []
   },
   "outputs": [],
   "source": [
    "# for id in member_id:\n",
    "#     mask = pd.Series(shape_id)==id"
   ]
  },
  {
   "cell_type": "code",
   "execution_count": 25,
   "metadata": {
    "papermill": {
     "duration": 0.028929,
     "end_time": "2019-10-26T08:27:55.441638",
     "exception": false,
     "start_time": "2019-10-26T08:27:55.412709",
     "status": "completed"
    },
    "tags": []
   },
   "outputs": [],
   "source": [
    "shape_id_series = pd.Series(shape_id)"
   ]
  },
  {
   "cell_type": "code",
   "execution_count": 26,
   "metadata": {
    "papermill": {
     "duration": 0.036236,
     "end_time": "2019-10-26T08:27:55.501983",
     "exception": false,
     "start_time": "2019-10-26T08:27:55.465747",
     "status": "completed"
    },
    "tags": []
   },
   "outputs": [],
   "source": [
    "def sort2n(x,y):\n",
    "    \"\"\"\n",
    "    Sorts and matches two arrays of object ids where x is unique and y is not (in DES this is coadd_objects_id).\n",
    "    Slower than sort2().\n",
    "    \"\"\"\n",
    "    \n",
    "    xsort = np.argsort(x)\n",
    "    ysort = np.argsort(y)\n",
    "    i_yx = np.sort(y[np.in1d(y, x, assume_unique=False)])\n",
    "    i_x = xsort[x[xsort].searchsorted(i_yx)]\n",
    "    i_y = ysort[y[ysort].searchsorted(i_yx)]\n",
    "    \n",
    "    return i_x, i_y"
   ]
  },
  {
   "cell_type": "code",
   "execution_count": 27,
   "metadata": {
    "papermill": {
     "duration": 30.823644,
     "end_time": "2019-10-26T08:28:26.351383",
     "exception": false,
     "start_time": "2019-10-26T08:27:55.527739",
     "status": "completed"
    },
    "tags": []
   },
   "outputs": [],
   "source": [
    "s2n_index=sort2n(member_id,shape_id)"
   ]
  },
  {
   "cell_type": "code",
   "execution_count": 28,
   "metadata": {
    "papermill": {
     "duration": 3.857069,
     "end_time": "2019-10-26T08:28:30.238861",
     "exception": false,
     "start_time": "2019-10-26T08:28:26.381792",
     "status": "completed"
    },
    "tags": []
   },
   "outputs": [],
   "source": [
    "shape_half=pd.DataFrame(mcal.read(rows=[s2n_index[1]]).byteswap().newbyteorder())"
   ]
  },
  {
   "cell_type": "code",
   "execution_count": 29,
   "metadata": {
    "papermill": {
     "duration": 0.211892,
     "end_time": "2019-10-26T08:28:30.488678",
     "exception": false,
     "start_time": "2019-10-26T08:28:30.276786",
     "status": "completed"
    },
    "tags": []
   },
   "outputs": [],
   "source": [
    "member_half=member.iloc[s2n_index[0]]"
   ]
  },
  {
   "cell_type": "code",
   "execution_count": 30,
   "metadata": {
    "papermill": {
     "duration": 0.040405,
     "end_time": "2019-10-26T08:28:30.560877",
     "exception": false,
     "start_time": "2019-10-26T08:28:30.520472",
     "status": "completed"
    },
    "tags": []
   },
   "outputs": [],
   "source": [
    "member_half_index=pd.MultiIndex.from_tuples(list(zip(['All']*23,member_half.columns[0:23]))+list(member_band_columns),names=['Band','Data']) "
   ]
  },
  {
   "cell_type": "code",
   "execution_count": 31,
   "metadata": {
    "papermill": {
     "duration": 0.030823,
     "end_time": "2019-10-26T08:28:30.619002",
     "exception": false,
     "start_time": "2019-10-26T08:28:30.588179",
     "status": "completed"
    },
    "tags": []
   },
   "outputs": [],
   "source": [
    "shape_half.columns=shape_columns\n",
    "member_half.columns=member_half_index\n",
    "shape_half.set_index(('All','coadd_objects_id'),inplace=True)\n",
    "member_half.set_index(('All','ID'),inplace=True)"
   ]
  },
  {
   "cell_type": "code",
   "execution_count": 32,
   "metadata": {
    "papermill": {
     "duration": 0.205647,
     "end_time": "2019-10-26T08:28:30.852267",
     "exception": false,
     "start_time": "2019-10-26T08:28:30.646620",
     "status": "completed"
    },
    "tags": []
   },
   "outputs": [],
   "source": [
    "shapes=pd.concat([member_half,shape_half],axis=1,verify_integrity=True)\n",
    "shapes.index.name=\"ID\""
   ]
  },
  {
   "cell_type": "markdown",
   "metadata": {
    "papermill": {
     "duration": 0.025027,
     "end_time": "2019-10-26T08:28:30.903778",
     "exception": false,
     "start_time": "2019-10-26T08:28:30.878751",
     "status": "completed"
    },
    "tags": []
   },
   "source": [
    "# im3 e correction"
   ]
  },
  {
   "cell_type": "code",
   "execution_count": 33,
   "metadata": {
    "papermill": {
     "duration": 55.171342,
     "end_time": "2019-10-26T08:29:26.099916",
     "exception": false,
     "start_time": "2019-10-26T08:28:30.928574",
     "status": "completed"
    },
    "tags": []
   },
   "outputs": [],
   "source": [
    "if shape_cat == \"im3\":\n",
    "    shapes[('All','e1_old')]=shapes[('All','e1')]\n",
    "    shapes[('All','e2_old')]=shapes[('All','e2')]\n",
    "    shapes[('All','e1')]=shapes.apply(lambda x:x[('All','e1')]-x[('All','c1')],axis=1)\n",
    "    shapes[('All','e2')]=shapes.apply(lambda x:x[('All','e2')]-x[('All','c2')],axis=1)"
   ]
  },
  {
   "cell_type": "code",
   "execution_count": 34,
   "metadata": {
    "papermill": {
     "duration": 0.041416,
     "end_time": "2019-10-26T08:29:26.176280",
     "exception": false,
     "start_time": "2019-10-26T08:29:26.134864",
     "status": "completed"
    },
    "tags": []
   },
   "outputs": [],
   "source": [
    "cluster_col_list=[ast.literal_eval(name) for i,name in enumerate(clusters.columns)]\n",
    "cluster_col=pd.MultiIndex.from_tuples(cluster_col_list, names=['Type','Kind','Data'])"
   ]
  },
  {
   "cell_type": "code",
   "execution_count": 35,
   "metadata": {
    "papermill": {
     "duration": 0.034359,
     "end_time": "2019-10-26T08:29:26.234861",
     "exception": false,
     "start_time": "2019-10-26T08:29:26.200502",
     "status": "completed"
    },
    "tags": []
   },
   "outputs": [],
   "source": [
    "clusters.columns=cluster_col\n",
    "clusters.set_index(('All', 'All', 'MEM_MATCH_ID'),inplace=True);"
   ]
  },
  {
   "cell_type": "code",
   "execution_count": 36,
   "metadata": {
    "papermill": {
     "duration": 0.035373,
     "end_time": "2019-10-26T08:29:26.295074",
     "exception": false,
     "start_time": "2019-10-26T08:29:26.259701",
     "status": "completed"
    },
    "tags": []
   },
   "outputs": [],
   "source": [
    "def get_theta_for_obj(obj1,obj2):\n",
    "    ra1,dec1=(obj1[('All', 'RA')],obj1[('All', 'DEC')])\n",
    "    ra2,dec2=(obj2[('All', 'RA')],obj2[('All', 'DEC')])\n",
    "    \n",
    "    \n",
    "    \n",
    "    c1=SkyCoord(ra1*u.deg,dec1*u.deg)\n",
    "    c2=SkyCoord(ra2*u.deg,dec2*u.deg)\n",
    "    \n",
    "    \n",
    "    return(90-c1.position_angle(c2).degree)"
   ]
  },
  {
   "cell_type": "code",
   "execution_count": 37,
   "metadata": {
    "papermill": {
     "duration": 0.033328,
     "end_time": "2019-10-26T08:29:26.352306",
     "exception": false,
     "start_time": "2019-10-26T08:29:26.318978",
     "status": "completed"
    },
    "tags": []
   },
   "outputs": [],
   "source": [
    "def get_rel_theta(member):\n",
    "    cluster=clusters.loc[member[('All','MEM_MATCH_ID')]]\n",
    "    center=shapes.loc[cluster[('Alt','Alt1','ID_CENT')]]\n",
    "    theta=get_theta_for_obj(center,member)\n",
    "    return(theta)"
   ]
  },
  {
   "cell_type": "code",
   "execution_count": 38,
   "metadata": {
    "papermill": {
     "duration": 28.002037,
     "end_time": "2019-10-26T08:29:54.378841",
     "exception": false,
     "start_time": "2019-10-26T08:29:26.376804",
     "status": "completed"
    },
    "tags": []
   },
   "outputs": [
    {
     "name": "stdout",
     "output_type": "stream",
     "text": [
      "Added PP column.\n"
     ]
    }
   ],
   "source": [
    "shapes[('All','PP')]=shapes.apply(lambda x:x[('All','P')]*x[('All','PFREE')],axis=1)\n",
    "print (\"Added PP column.\")"
   ]
  },
  {
   "cell_type": "code",
   "execution_count": 39,
   "metadata": {
    "papermill": {
     "duration": 0.448139,
     "end_time": "2019-10-26T08:29:54.856921",
     "exception": false,
     "start_time": "2019-10-26T08:29:54.408782",
     "status": "completed"
    },
    "tags": []
   },
   "outputs": [],
   "source": [
    "shapes=shapes[shapes[('All', 'flags_select')]==0]\n",
    "shapes=shapes[shapes[('All','PP')]>=0.55]"
   ]
  },
  {
   "cell_type": "code",
   "execution_count": 40,
   "metadata": {
    "papermill": {
     "duration": 0.113528,
     "end_time": "2019-10-26T08:29:55.002060",
     "exception": false,
     "start_time": "2019-10-26T08:29:54.888532",
     "status": "completed"
    },
    "tags": []
   },
   "outputs": [
    {
     "name": "stdout",
     "output_type": "stream",
     "text": [
      "The number of clusters with no center shape data 12230\n",
      "Number of galaxies before masking: 157970\n",
      "Number of galaxies after masking: 157970\n",
      "The number of clusters with no center shape data 0\n",
      "Number of galaxies before masking: 36654\n",
      "Number of galaxies after masking: 36654\n"
     ]
    },
    {
     "name": "stderr",
     "output_type": "stream",
     "text": [
      "/home/cz136/anaconda3/envs/balrog/lib/python3.7/site-packages/ipykernel_launcher.py:4: FutureWarning: \n",
      "Passing list-likes to .loc or [] with any missing label will raise\n",
      "KeyError in the future, you can use .reindex() as an alternative.\n",
      "\n",
      "See the documentation here:\n",
      "https://pandas.pydata.org/pandas-docs/stable/user_guide/indexing.html#deprecate-loc-reindex-listlike\n",
      "  after removing the cwd from sys.path.\n"
     ]
    }
   ],
   "source": [
    "# Drop clusters with no center\n",
    "def drop_poor_centers():\n",
    "    center_id=clusters[('Alt', 'Alt1', 'ID_CENT')]\n",
    "    p=shapes.loc[center_id][('All','P')].to_numpy()\n",
    "    missing_mem_match_id=clusters[np.isnan(p)].index\n",
    "    clusters.drop(missing_mem_match_id,inplace=True)\n",
    "#     np.save(\"/home/cz136/project/sa/data/missing_centers.npy\",center_id[np.isnan(p)].to_numpy())\n",
    "    print(\"The number of clusters with no center shape data {}\".format(np.sum(np.isnan(p))))\n",
    "drop_poor_centers()\n",
    "\n",
    "# Drop members with no cluster\n",
    "def drop_poor_members():\n",
    "    valid_clusters_id=clusters.index.to_numpy()\n",
    "    shapes_match_id=shapes[('All','MEM_MATCH_ID')].to_numpy()\n",
    "    print(\"Number of galaxies before masking: {}\".format(len(shapes_match_id)))\n",
    "    valid_members=np.isin(shapes_match_id,valid_clusters_id)\n",
    "    return(valid_members)\n",
    "    \n",
    "valid_members_id=drop_poor_members()\n",
    "print(\"Number of galaxies after masking: {}\".format(len(shapes)))\n",
    "shapes=shapes[valid_members_id]\n",
    "\n",
    "drop_poor_centers()\n",
    "valid_members_id=drop_poor_members()\n",
    "print(\"Number of galaxies after masking: {}\".format(len(shapes)))\n",
    "shapes=shapes[valid_members_id]"
   ]
  },
  {
   "cell_type": "code",
   "execution_count": 41,
   "metadata": {
    "papermill": {
     "duration": 71.697269,
     "end_time": "2019-10-26T08:31:06.727905",
     "exception": false,
     "start_time": "2019-10-26T08:29:55.030636",
     "status": "completed"
    },
    "tags": []
   },
   "outputs": [],
   "source": [
    "shapes[('All','Theta_cen')]=shapes.apply(lambda x:get_rel_theta(x),axis=1)"
   ]
  },
  {
   "cell_type": "code",
   "execution_count": 42,
   "metadata": {
    "papermill": {
     "duration": 3.707203,
     "end_time": "2019-10-26T08:31:10.471381",
     "exception": false,
     "start_time": "2019-10-26T08:31:06.764178",
     "status": "completed"
    },
    "tags": []
   },
   "outputs": [],
   "source": [
    "shapes[('All','Theta_cen')]=shapes.apply(lambda x:360-x[('All','Theta_cen')] if x[('All','Theta_cen')]>=180 else x[('All','Theta_cen')],axis=1)\n",
    "shapes[('All','Theta_cen')]=shapes.apply(lambda x:360+x[('All','Theta_cen')] if x[('All','Theta_cen')]<=-180 else x[('All','Theta_cen')],axis=1)\n",
    "shapes[('All','Theta_sat')]=shapes.apply(lambda x:-(180-x[('All','Theta_cen')]) if x[('All','Theta_cen')]>=0 else (180+x[('All','Theta_cen')]),axis=1)"
   ]
  },
  {
   "cell_type": "code",
   "execution_count": 43,
   "metadata": {
    "papermill": {
     "duration": 0.036935,
     "end_time": "2019-10-26T08:31:10.536637",
     "exception": false,
     "start_time": "2019-10-26T08:31:10.499702",
     "status": "completed"
    },
    "tags": []
   },
   "outputs": [],
   "source": [
    "H0=100 #km s-1 Mpc-1\n",
    "Om0=0.3\n",
    "Ode0=0.7\n",
    "lcdm=astropy.cosmology.FlatLambdaCDM(H0, Om0)"
   ]
  },
  {
   "cell_type": "code",
   "execution_count": 44,
   "metadata": {
    "papermill": {
     "duration": 464.081475,
     "end_time": "2019-10-26T08:38:54.643850",
     "exception": false,
     "start_time": "2019-10-26T08:31:10.562375",
     "status": "completed"
    },
    "tags": []
   },
   "outputs": [],
   "source": [
    "shapes[('All','angR')]=shapes.apply(lambda x:np.float(lcdm.angular_diameter_distance(x[('All','Z')])/u.Mpc),axis=1)\n",
    "random[('All','angR')]=random.apply(lambda x:np.float(lcdm.angular_diameter_distance(x[('All','Z')])/u.Mpc),axis=1)"
   ]
  },
  {
   "cell_type": "markdown",
   "metadata": {
    "papermill": {
     "duration": 0.025377,
     "end_time": "2019-10-26T08:38:54.704326",
     "exception": false,
     "start_time": "2019-10-26T08:38:54.678949",
     "status": "completed"
    },
    "tags": []
   },
   "source": [
    "# Add $\\phi$"
   ]
  },
  {
   "cell_type": "code",
   "execution_count": 45,
   "metadata": {
    "papermill": {
     "duration": 0.032412,
     "end_time": "2019-10-26T08:38:54.761784",
     "exception": false,
     "start_time": "2019-10-26T08:38:54.729372",
     "status": "completed"
    },
    "tags": []
   },
   "outputs": [],
   "source": [
    "def get_pa_for_member(obj):\n",
    "    e1=obj['All']['e1']\n",
    "    e2=obj['All']['e2']\n",
    "    \n",
    "    α =0.5*np.arctan2(-e2,-e1)*180/np.pi\n",
    "    return(α)"
   ]
  },
  {
   "cell_type": "code",
   "execution_count": 46,
   "metadata": {
    "papermill": {
     "duration": 0.032906,
     "end_time": "2019-10-26T08:38:54.821159",
     "exception": false,
     "start_time": "2019-10-26T08:38:54.788253",
     "status": "completed"
    },
    "tags": []
   },
   "outputs": [],
   "source": [
    "error_list_phi=[]\n",
    "error_list_e=[]\n",
    "\n",
    "def get_phi_for_member(member):\n",
    "    \n",
    "    \"\"\"Input: cluster series\n",
    "        Output: an array of position angle weighted by PP\n",
    "        Record KeyError in an array (usually caused by uncomplete shape catalog).\n",
    "    \"\"\"\n",
    "    \n",
    "    try:\n",
    "        cluster_id=member[('All','MEM_MATCH_ID')]\n",
    "        cluster=clusters.loc[cluster_id]\n",
    "        center_id=cluster[('Alt', 'Alt1', 'ID_CENT')]\n",
    "        center = shapes.loc[center_id]\n",
    "        \n",
    "        pa=get_pa_for_member(member)\n",
    "        theta= get_theta_for_obj(member,center)\n",
    "        phi=(pa-theta)\n",
    "    #     print(center.index)\n",
    "        return(phi)    \n",
    "    except KeyError as e:\n",
    "        error_list_phi.append(e)\n",
    "        print(e)\n",
    "        return(np.nan)"
   ]
  },
  {
   "cell_type": "code",
   "execution_count": 47,
   "metadata": {
    "papermill": {
     "duration": 92.500432,
     "end_time": "2019-10-26T08:40:27.346178",
     "exception": false,
     "start_time": "2019-10-26T08:38:54.845746",
     "status": "completed"
    },
    "tags": []
   },
   "outputs": [],
   "source": [
    "shapes[('All','phi')]=shapes.apply(lambda x:get_phi_for_member(x),axis=1)"
   ]
  },
  {
   "cell_type": "code",
   "execution_count": 48,
   "metadata": {
    "papermill": {
     "duration": 0.031129,
     "end_time": "2019-10-26T08:40:27.404225",
     "exception": false,
     "start_time": "2019-10-26T08:40:27.373096",
     "status": "completed"
    },
    "tags": []
   },
   "outputs": [],
   "source": [
    "def process_phi(phi_1d):\n",
    "\n",
    "    phi_1d=np.where(phi_1d<=0,-phi_1d,phi_1d)\n",
    "    phi_1d=np.where(phi_1d>=180,phi_1d-180,phi_1d)\n",
    "    phi_1d=np.where(phi_1d>=90,180-phi_1d,phi_1d)\n",
    "\n",
    "    \n",
    "    return(phi_1d)"
   ]
  },
  {
   "cell_type": "code",
   "execution_count": 49,
   "metadata": {
    "papermill": {
     "duration": 0.036568,
     "end_time": "2019-10-26T08:40:27.466035",
     "exception": false,
     "start_time": "2019-10-26T08:40:27.429467",
     "status": "completed"
    },
    "tags": []
   },
   "outputs": [],
   "source": [
    "shapes[('All','phi')]=process_phi(shapes[('All','phi')])"
   ]
  },
  {
   "cell_type": "markdown",
   "metadata": {
    "papermill": {
     "duration": 0.025134,
     "end_time": "2019-10-26T08:40:27.518238",
     "exception": false,
     "start_time": "2019-10-26T08:40:27.493104",
     "status": "completed"
    },
    "tags": []
   },
   "source": [
    "# Add e"
   ]
  },
  {
   "cell_type": "code",
   "execution_count": 50,
   "metadata": {
    "papermill": {
     "duration": 0.035492,
     "end_time": "2019-10-26T08:40:27.578951",
     "exception": false,
     "start_time": "2019-10-26T08:40:27.543459",
     "status": "completed"
    },
    "tags": []
   },
   "outputs": [],
   "source": [
    "def get_e(sat):\n",
    "    cluster_id=sat[('All','MEM_MATCH_ID')]\n",
    "    cluster=clusters.loc[cluster_id]\n",
    "    center_id=cluster[('Alt', 'Alt1', 'ID_CENT')]\n",
    "    cen = shapes.loc[center_id]\n",
    "    \n",
    "    e=np.sqrt(sat[('All','e1')]**2+sat[('All','e2')]**2)\n",
    "    delta=get_theta_for_obj(cen,sat)\n",
    "    alpha=get_pa_for_member(sat)\n",
    "    ep,ex=(e*np.cos(2*(delta-alpha)),e*np.sin(2*(delta-alpha)))\n",
    "    return(ep,ex)"
   ]
  },
  {
   "cell_type": "code",
   "execution_count": 51,
   "metadata": {
    "papermill": {
     "duration": 187.187096,
     "end_time": "2019-10-26T08:43:34.792127",
     "exception": false,
     "start_time": "2019-10-26T08:40:27.605031",
     "status": "completed"
    },
    "tags": []
   },
   "outputs": [],
   "source": [
    "shapes[('All','ep')]=shapes.apply(lambda x:get_e(x)[0],axis=1)\n",
    "shapes[('All','ex')]=shapes.apply(lambda x:get_e(x)[1],axis=1)"
   ]
  },
  {
   "cell_type": "markdown",
   "metadata": {
    "papermill": {
     "duration": 0.025527,
     "end_time": "2019-10-26T08:43:34.862211",
     "exception": false,
     "start_time": "2019-10-26T08:43:34.836684",
     "status": "completed"
    },
    "tags": []
   },
   "source": [
    "# Calculate cluster elipticity"
   ]
  },
  {
   "cell_type": "code",
   "execution_count": 52,
   "metadata": {
    "papermill": {
     "duration": 0.036261,
     "end_time": "2019-10-26T08:43:34.923263",
     "exception": false,
     "start_time": "2019-10-26T08:43:34.887002",
     "status": "completed"
    },
    "tags": []
   },
   "outputs": [
    {
     "data": {
      "text/latex": [
       "$\\displaystyle M_{\\mathrm{xx}} \\equiv\\left\\langle\\frac{x^{2}}{r^{2}}\\right\\rangle=\\frac{\\sum_{i} p_{\\mathrm{mem}, i} \\frac{x_{i}^{2}}{r_{i}^{2}}}{\\sum_{i} p_{\\mathrm{mem}, i}}$"
      ],
      "text/plain": [
       "<IPython.core.display.Math object>"
      ]
     },
     "metadata": {},
     "output_type": "display_data"
    }
   ],
   "source": [
    "display(Math(r\"$M_{\\mathrm{xx}} \\equiv\\left\\langle\\frac{x^{2}}{r^{2}}\\right\\rangle=\\frac{\\sum_{i} p_{\\mathrm{mem}, i} \\frac{x_{i}^{2}}{r_{i}^{2}}}{\\sum_{i} p_{\\mathrm{mem}, i}}$\"))"
   ]
  },
  {
   "cell_type": "code",
   "execution_count": 53,
   "metadata": {
    "papermill": {
     "duration": 0.04125,
     "end_time": "2019-10-26T08:43:34.990909",
     "exception": false,
     "start_time": "2019-10-26T08:43:34.949659",
     "status": "completed"
    },
    "tags": []
   },
   "outputs": [],
   "source": [
    "def get_Q_U(cluster):\n",
    "    \n",
    "    mem_match_id=cluster.name\n",
    "    members=shapes[shapes['All','MEM_MATCH_ID']==mem_match_id]\n",
    "    \n",
    "    members=members[members[('All','PP')]>=0.2]\n",
    "    \n",
    "    def get_M_for_cluster():\n",
    "        p = members[('All','PP')]\n",
    "        r = members[('All','R')]\n",
    "        pa = members[('All','Theta_cen')]\n",
    "        x = r * np.cos(pa)\n",
    "        y = r * np.sin(pa)\n",
    "        \n",
    "        def mom_2(p,x,y,r):\n",
    "            return(np.sum(p*x*y/r**2)/np.sum(p))\n",
    "        \n",
    "        Mxx=mom_2(p,x,x,r)\n",
    "        Mxy=mom_2(p,x,y,r)\n",
    "        Myy=mom_2(p,y,y,r)\n",
    "        return(Mxx,Mxy,Myy)\n",
    "\n",
    "    Mxx,Mxy,Myy=get_M_for_cluster()\n",
    "    Q,U=Mxx-Myy,2*Mxy\n",
    "    \n",
    "    return (Q,U)\n",
    "\n",
    "\n",
    "def get_pa_from_Q_U(Q,U):\n",
    "    α =0.5*np.arctan2(U,Q)*180/np.pi\n",
    "    return(α)"
   ]
  },
  {
   "cell_type": "code",
   "execution_count": 54,
   "metadata": {
    "papermill": {
     "duration": 34.285349,
     "end_time": "2019-10-26T08:44:09.308295",
     "exception": false,
     "start_time": "2019-10-26T08:43:35.022946",
     "status": "completed"
    },
    "tags": []
   },
   "outputs": [],
   "source": [
    "clusters[('All','All','Q')]=clusters.apply(lambda x:get_Q_U(x)[0],axis=1)\n",
    "clusters[('All','All','U')]=clusters.apply(lambda x:get_Q_U(x)[1],axis=1)\n",
    "clusters[('All','All','Beta')]=clusters.apply(lambda x:get_pa_from_Q_U(x[('All','All','Q')],x[('All','All','U')]),axis=1)\n",
    "clusters[('All','All','Ce')]=clusters.apply(lambda x:np.sqrt(x[('All','All','U')]**2+x[('All','All','U')]**2),axis=1)"
   ]
  },
  {
   "cell_type": "code",
   "execution_count": 55,
   "metadata": {
    "papermill": {
     "duration": 0.036102,
     "end_time": "2019-10-26T08:44:09.376540",
     "exception": false,
     "start_time": "2019-10-26T08:44:09.340438",
     "status": "completed"
    },
    "tags": []
   },
   "outputs": [],
   "source": [
    "def get_normLR(shape):\n",
    "    cluster_id=shape[('All','MEM_MATCH_ID')]\n",
    "    LR = clusters.loc[cluster_id][('All','All','R_LAMBDA')]\n",
    "    angR=shape[('All','angR')]\n",
    "    normR=angR/LR\n",
    "    return(normR)"
   ]
  },
  {
   "cell_type": "code",
   "execution_count": 56,
   "metadata": {
    "papermill": {
     "duration": 11.03498,
     "end_time": "2019-10-26T08:44:20.435928",
     "exception": false,
     "start_time": "2019-10-26T08:44:09.400948",
     "status": "completed"
    },
    "tags": []
   },
   "outputs": [],
   "source": [
    "shapes[('All','normLR')]=shapes.apply(lambda x:get_normLR(x),axis=1)"
   ]
  },
  {
   "cell_type": "code",
   "execution_count": 57,
   "metadata": {
    "papermill": {
     "duration": 0.030784,
     "end_time": "2019-10-26T08:44:20.498852",
     "exception": false,
     "start_time": "2019-10-26T08:44:20.468068",
     "status": "completed"
    },
    "tags": []
   },
   "outputs": [],
   "source": [
    "def add_r_lambda(shape):\n",
    "    cluster_id=shape[('All','MEM_MATCH_ID')]\n",
    "    LR = clusters.loc[cluster_id][('All','All','R_LAMBDA')]\n",
    "    return(LR)"
   ]
  },
  {
   "cell_type": "code",
   "execution_count": 58,
   "metadata": {
    "papermill": {
     "duration": 10.50633,
     "end_time": "2019-10-26T08:44:31.030099",
     "exception": false,
     "start_time": "2019-10-26T08:44:20.523769",
     "status": "completed"
    },
    "tags": []
   },
   "outputs": [],
   "source": [
    "shapes[('All','R_LAMBDA')]=shapes.apply(lambda x:add_r_lambda(x),axis=1)"
   ]
  },
  {
   "cell_type": "markdown",
   "metadata": {
    "papermill": {
     "duration": 0.025723,
     "end_time": "2019-10-26T08:44:31.088654",
     "exception": false,
     "start_time": "2019-10-26T08:44:31.062931",
     "status": "completed"
    },
    "tags": []
   },
   "source": [
    "# Save"
   ]
  },
  {
   "cell_type": "code",
   "execution_count": 59,
   "metadata": {
    "papermill": {
     "duration": 0.081011,
     "end_time": "2019-10-26T08:44:31.194920",
     "exception": false,
     "start_time": "2019-10-26T08:44:31.113909",
     "status": "completed"
    },
    "tags": []
   },
   "outputs": [],
   "source": [
    "clusters.to_pickle('/home/cz136/project/sa/data/{}/{}/clusters.pkl'.format(shape_cat,vol))"
   ]
  },
  {
   "cell_type": "code",
   "execution_count": 60,
   "metadata": {
    "papermill": {
     "duration": 0.13331,
     "end_time": "2019-10-26T08:44:31.356236",
     "exception": false,
     "start_time": "2019-10-26T08:44:31.222926",
     "status": "completed"
    },
    "tags": []
   },
   "outputs": [],
   "source": [
    "shapes.to_pickle('/home/cz136/project/sa/data/{}/{}/shapes.pkl'.format(shape_cat,vol))"
   ]
  },
  {
   "cell_type": "code",
   "execution_count": 61,
   "metadata": {
    "papermill": {
     "duration": 1.218927,
     "end_time": "2019-10-26T08:44:32.604643",
     "exception": false,
     "start_time": "2019-10-26T08:44:31.385716",
     "status": "completed"
    },
    "tags": []
   },
   "outputs": [],
   "source": [
    "random.to_pickle('/home/cz136/project/sa/data/{}/{}/random.pkl'.format(shape_cat,vol))"
   ]
  },
  {
   "cell_type": "markdown",
   "metadata": {
    "papermill": {
     "duration": 0.027531,
     "end_time": "2019-10-26T08:44:32.682868",
     "exception": false,
     "start_time": "2019-10-26T08:44:32.655337",
     "status": "completed"
    },
    "tags": []
   },
   "source": [
    "## z masking"
   ]
  },
  {
   "cell_type": "code",
   "execution_count": 62,
   "metadata": {
    "papermill": {
     "duration": 0.030056,
     "end_time": "2019-10-26T08:44:32.737596",
     "exception": false,
     "start_time": "2019-10-26T08:44:32.707540",
     "status": "completed"
    },
    "tags": []
   },
   "outputs": [],
   "source": [
    "def drop_shapes_wo_cluster(clusters,shapes):\n",
    "    valid_clusters_id=clusters.index.to_numpy()\n",
    "    shapes_match_id=shapes[('All','MEM_MATCH_ID')].to_numpy()\n",
    "    print(\"Number of galaxies before masking: {}\".format(len(shapes_match_id)))\n",
    "    valid_members=np.isin(shapes_match_id,valid_clusters_id)\n",
    "    shapes=shapes[valid_members]\n",
    "    return(shapes)"
   ]
  },
  {
   "cell_type": "code",
   "execution_count": 63,
   "metadata": {
    "papermill": {
     "duration": 0.03641,
     "end_time": "2019-10-26T08:44:32.799759",
     "exception": false,
     "start_time": "2019-10-26T08:44:32.763349",
     "status": "completed"
    },
    "tags": []
   },
   "outputs": [],
   "source": [
    "high_z=clusters[clusters['All','All','Z_LAMBDA']>=0.35]\n",
    "low_z=clusters[(clusters['All','All','Z_LAMBDA']<=0.35) & (clusters['All','All','Z_LAMBDA']>=0.1)]"
   ]
  },
  {
   "cell_type": "code",
   "execution_count": 64,
   "metadata": {
    "papermill": {
     "duration": 0.044953,
     "end_time": "2019-10-26T08:44:32.869178",
     "exception": false,
     "start_time": "2019-10-26T08:44:32.824225",
     "status": "completed"
    },
    "tags": []
   },
   "outputs": [
    {
     "name": "stdout",
     "output_type": "stream",
     "text": [
      "Number of galaxies before masking: 36654\n",
      "Number of galaxies before masking: 36654\n"
     ]
    }
   ],
   "source": [
    "high_z_shapes=drop_shapes_wo_cluster(high_z,shapes)\n",
    "low_z_shapes=drop_shapes_wo_cluster(low_z,shapes)"
   ]
  },
  {
   "cell_type": "code",
   "execution_count": 65,
   "metadata": {
    "papermill": {
     "duration": 0.143281,
     "end_time": "2019-10-26T08:44:33.038287",
     "exception": false,
     "start_time": "2019-10-26T08:44:32.895006",
     "status": "completed"
    },
    "tags": []
   },
   "outputs": [],
   "source": [
    "high_z.to_pickle('/home/cz136/project/sa/data/{}/{}/clusters_high_z.pkl'.format(shape_cat,vol))\n",
    "low_z.to_pickle('/home/cz136/project/sa/data/{}/{}/clusters_low_z.pkl'.format(shape_cat,vol))\n",
    "high_z_shapes.to_pickle('/home/cz136/project/sa/data/{}/{}/shapes_high_z.pkl'.format(shape_cat,vol))\n",
    "low_z_shapes.to_pickle('/home/cz136/project/sa/data/{}/{}/shapes_low_z.pkl'.format(shape_cat,vol))"
   ]
  }
 ],
 "metadata": {
  "kernelspec": {
   "display_name": "Python 3",
   "language": "python",
   "name": "python3"
  },
  "language_info": {
   "codemirror_mode": {
    "name": "ipython",
    "version": 3
   },
   "file_extension": ".py",
   "mimetype": "text/x-python",
   "name": "python",
   "nbconvert_exporter": "python",
   "pygments_lexer": "ipython3",
   "version": "3.7.3"
  },
  "papermill": {
   "duration": 1040.74503,
   "end_time": "2019-10-26T08:44:33.679418",
   "environment_variables": {},
   "exception": null,
   "input_path": "/home/cz136/project/sa/lib/src/data_marshalling.ipynb",
   "output_path": "/home/cz136/project/sa/lib/output/data/im3_all.ipynb",
   "parameters": {
    "shape_cat": "im3",
    "vol": "all"
   },
   "start_time": "2019-10-26T08:27:12.934388",
   "version": "1.2.0"
  }
 },
 "nbformat": 4,
 "nbformat_minor": 4
}