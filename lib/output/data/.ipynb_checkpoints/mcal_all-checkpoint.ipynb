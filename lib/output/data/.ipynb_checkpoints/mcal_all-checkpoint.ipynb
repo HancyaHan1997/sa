{
 "cells": [
  {
   "cell_type": "code",
   "execution_count": 1,
   "metadata": {
    "papermill": {
     "duration": 0.028145,
     "end_time": "2019-10-21T03:20:18.421683",
     "exception": false,
     "start_time": "2019-10-21T03:20:18.393538",
     "status": "completed"
    },
    "tags": [
     "parameters"
    ]
   },
   "outputs": [],
   "source": [
    "shape_cat=\"\"\n",
    "vol=\"\""
   ]
  },
  {
   "cell_type": "code",
   "execution_count": 2,
   "metadata": {
    "papermill": {
     "duration": 0.027747,
     "end_time": "2019-10-21T03:20:18.473267",
     "exception": false,
     "start_time": "2019-10-21T03:20:18.445520",
     "status": "completed"
    },
    "tags": [
     "injected-parameters"
    ]
   },
   "outputs": [],
   "source": [
    "# Parameters\n",
    "shape_cat = \"mcal\"\n",
    "vol = \"all\"\n"
   ]
  },
  {
   "cell_type": "code",
   "execution_count": 3,
   "metadata": {
    "papermill": {
     "duration": 1.63476,
     "end_time": "2019-10-21T03:20:20.130280",
     "exception": false,
     "start_time": "2019-10-21T03:20:18.495520",
     "status": "completed"
    },
    "tags": []
   },
   "outputs": [],
   "source": [
    "from astropy.io import fits\n",
    "from astropy.table import Table\n",
    "import pandas as pd\n",
    "import fitsio as fio\n",
    "import numpy as np\n",
    "import ast\n",
    "\n",
    "import astropy.cosmology\n",
    "from astropy.coordinates import SkyCoord  # High-level coordinates\n",
    "from astropy.coordinates import ICRS, Galactic, FK4, FK5  # Low-level frames\n",
    "from astropy.coordinates import Angle, Latitude, Longitude  # Angles\n",
    "import astropy.units as u\n",
    "from IPython.display import display, Math"
   ]
  },
  {
   "cell_type": "code",
   "execution_count": 4,
   "metadata": {
    "papermill": {
     "duration": 0.656432,
     "end_time": "2019-10-21T03:20:20.811428",
     "exception": false,
     "start_time": "2019-10-21T03:20:20.154996",
     "status": "completed"
    },
    "tags": []
   },
   "outputs": [
    {
     "name": "stdout",
     "output_type": "stream",
     "text": [
      "809723\n",
      "16966\n"
     ]
    }
   ],
   "source": [
    "if vol==\"vlim\":\n",
    "    cluster_table=Table(fits.open('/lsst/troxel/y1a1/y1a1_gold_1.0.3-d10-mof-001d_run_redmapper_v6.4.17-vlim_lgt20_desformat_catalog.fit')[1].data)\n",
    "    member_table=Table(fits.open('/lsst/troxel/y1a1/y1a1_gold_1.0.3-d10-mof-001d_run_redmapper_v6.4.17-vlim_lgt20_desformat_catalog_members.fit')[1].data)\n",
    "    random_table=Table(fits.open('/lsst/troxel/y1a1/y1a1_gold_1.0.3_wide+d10-mof-001d_run_redmapper_v6.4.17-2_randcat_z0.10-0.95_lgt020_vl50.fit')[1].data)\n",
    "elif vol==\"all\":\n",
    "    cluster_table=Table(fits.open('/lsst/troxel/y1a1/y1a1_gold_1.0.3-d10-mof-001d_run_redmapper_v6.4.17_lgt20_desformat_catalog.fit')[1].data)\n",
    "    member_table=Table(fits.open('/lsst/troxel/y1a1/y1a1_gold_1.0.3-d10-mof-001d_run_redmapper_v6.4.17_lgt20_desformat_catalog_members.fit')[1].data)\n",
    "    random_table=Table(fits.open('/lsst/troxel/y1a1/y1a1_gold_1.0.3_wide+d10-mof-001d_run_redmapper_v6.4.17-2_randcat_z0.10-0.95_lgt020_vl02.fit')[1].data)\n",
    "else:\n",
    "    raise\n",
    "cluster_table.remove_columns(['P_C','C_LAMBDA','C_LAMBDA_ERR','Q_CEN']) #unknown columns\n",
    "\n",
    "print(len(member_table))\n",
    "print(len(cluster_table))"
   ]
  },
  {
   "cell_type": "code",
   "execution_count": 5,
   "metadata": {
    "papermill": {
     "duration": 0.036876,
     "end_time": "2019-10-21T03:20:20.872843",
     "exception": false,
     "start_time": "2019-10-21T03:20:20.835967",
     "status": "completed"
    },
    "tags": []
   },
   "outputs": [
    {
     "data": {
      "text/plain": [
       "809723"
      ]
     },
     "execution_count": 5,
     "metadata": {},
     "output_type": "execute_result"
    }
   ],
   "source": [
    "len(member_table)"
   ]
  },
  {
   "cell_type": "code",
   "execution_count": 6,
   "metadata": {
    "papermill": {
     "duration": 106.79768,
     "end_time": "2019-10-21T03:22:07.693753",
     "exception": false,
     "start_time": "2019-10-21T03:20:20.896073",
     "status": "completed"
    },
    "tags": []
   },
   "outputs": [
    {
     "name": "stdout",
     "output_type": "stream",
     "text": [
      "Metacal loaded\n"
     ]
    }
   ],
   "source": [
    "if shape_cat==\"mcal\":\n",
    "    mcal = fio.FITS('/lsst/troxel/y1a1/mcal-y1a1-combined-riz-unblind-v4-matched.fits',memmap=True,mode='r')[1]\n",
    "    print (\"Metacal loaded\")\n",
    "    shape_id=mcal['coadd_objects_id'][:] \n",
    "elif shape_cat==\"im3\":\n",
    "        mcal = fio.FITS('/lsst/troxel/y1a1/y1a1-im3shape_v5_unblind_v2_matched_v4.fits',memmap=True,mode='r')[1]\n",
    "        print (\"Metacal loaded\")\n",
    "        shape_id=mcal['coadd_objects_id'][:] \n",
    "else:\n",
    "    raise "
   ]
  },
  {
   "cell_type": "code",
   "execution_count": 7,
   "metadata": {
    "papermill": {
     "duration": 0.030157,
     "end_time": "2019-10-21T03:22:07.752144",
     "exception": false,
     "start_time": "2019-10-21T03:22:07.721987",
     "status": "completed"
    },
    "tags": []
   },
   "outputs": [],
   "source": [
    "problem_list =['MODEL_MAG', 'MODEL_MAGERR', 'MAG_LAMBDA_ERR', 'PZBINS',\n",
    "               'PZ', 'RA_CENT', 'DEC_CENT', 'ID_CENT', 'LAMBDA_CHISQ_CENT',\n",
    "               'ZLAMBDA_CENT', 'P_BCG', 'P_CEN', 'P_FG', 'P_SAT']"
   ]
  },
  {
   "cell_type": "code",
   "execution_count": 8,
   "metadata": {
    "papermill": {
     "duration": 0.029039,
     "end_time": "2019-10-21T03:22:07.804053",
     "exception": false,
     "start_time": "2019-10-21T03:22:07.775014",
     "status": "completed"
    },
    "tags": []
   },
   "outputs": [],
   "source": [
    "band_col_list = []\n",
    "pz_col_list = []\n",
    "alt_col_list =[]\n",
    "for problem in problem_list:\n",
    "    if cluster_table[problem].shape[1]==4:\n",
    "        band_col_list.append(problem)\n",
    "    elif cluster_table[problem].shape[1]==5:\n",
    "        alt_col_list.append(problem)\n",
    "    elif cluster_table[problem].shape[1]==21:\n",
    "        pz_col_list.append(problem)\n",
    "    else:\n",
    "        print (\"error\")"
   ]
  },
  {
   "cell_type": "code",
   "execution_count": 9,
   "metadata": {
    "papermill": {
     "duration": 0.028717,
     "end_time": "2019-10-21T03:22:07.858875",
     "exception": false,
     "start_time": "2019-10-21T03:22:07.830158",
     "status": "completed"
    },
    "tags": []
   },
   "outputs": [],
   "source": [
    "band_list=['g','r','i','z','Y']\n",
    "pz_index_list=['pz'+str(i+1) for i in range(21)]\n",
    "alt_index_list=['Alt'+str(i+1) for i in range(5)]"
   ]
  },
  {
   "cell_type": "code",
   "execution_count": 10,
   "metadata": {
    "papermill": {
     "duration": 0.039868,
     "end_time": "2019-10-21T03:22:07.921689",
     "exception": false,
     "start_time": "2019-10-21T03:22:07.881821",
     "status": "completed"
    },
    "tags": []
   },
   "outputs": [],
   "source": [
    "for j in range(4):\n",
    "    for i,column in enumerate(band_col_list):\n",
    "        cluster_table[str(('Band',band_list[j],column))]=cluster_table[column].data[:,j]\n",
    "cluster_table.remove_columns(band_col_list)"
   ]
  },
  {
   "cell_type": "code",
   "execution_count": 11,
   "metadata": {
    "papermill": {
     "duration": 0.072164,
     "end_time": "2019-10-21T03:22:08.021478",
     "exception": false,
     "start_time": "2019-10-21T03:22:07.949314",
     "status": "completed"
    },
    "tags": []
   },
   "outputs": [],
   "source": [
    "for i,column in enumerate(pz_col_list):\n",
    "    for j in range(21):\n",
    "        cluster_table[str(('PZ',pz_index_list[j],column))]=cluster_table[column].data[:,j]\n",
    "cluster_table.remove_columns(pz_col_list)"
   ]
  },
  {
   "cell_type": "code",
   "execution_count": 12,
   "metadata": {
    "papermill": {
     "duration": 0.08837,
     "end_time": "2019-10-21T03:22:08.138328",
     "exception": false,
     "start_time": "2019-10-21T03:22:08.049958",
     "status": "completed"
    },
    "tags": []
   },
   "outputs": [],
   "source": [
    "for i,column in enumerate(alt_col_list):\n",
    "    for j in range(5):\n",
    "        cluster_table[str(('Alt',alt_index_list[j],column))]=cluster_table[column].data[:,j]\n",
    "cluster_table.remove_columns(alt_col_list)"
   ]
  },
  {
   "cell_type": "code",
   "execution_count": 13,
   "metadata": {
    "papermill": {
     "duration": 0.112522,
     "end_time": "2019-10-21T03:22:08.281336",
     "exception": false,
     "start_time": "2019-10-21T03:22:08.168814",
     "status": "completed"
    },
    "tags": []
   },
   "outputs": [],
   "source": [
    "all_col_list=list(cluster_table.columns[0:54])\n",
    "for i,column in enumerate(all_col_list):\n",
    "    cluster_table[str(('All','All',column))]=cluster_table[column].data[:]\n",
    "cluster_table.remove_columns(all_col_list)"
   ]
  },
  {
   "cell_type": "code",
   "execution_count": 14,
   "metadata": {
    "papermill": {
     "duration": 0.06834,
     "end_time": "2019-10-21T03:22:08.378353",
     "exception": false,
     "start_time": "2019-10-21T03:22:08.310013",
     "status": "completed"
    },
    "tags": []
   },
   "outputs": [],
   "source": [
    "for j in range(4):\n",
    "    for i,column in enumerate(band_col_list[0:2]):\n",
    "        member_table['('+band_list[j]+','+column+')']=member_table[column].data[:,j]\n",
    "member_table.remove_columns(band_col_list[0:2]) "
   ]
  },
  {
   "cell_type": "code",
   "execution_count": 15,
   "metadata": {
    "papermill": {
     "duration": 0.623684,
     "end_time": "2019-10-21T03:22:09.031757",
     "exception": false,
     "start_time": "2019-10-21T03:22:08.408073",
     "status": "completed"
    },
    "tags": []
   },
   "outputs": [],
   "source": [
    "clusters=cluster_table.to_pandas()\n",
    "member=member_table.to_pandas()\n",
    "random=random_table.to_pandas()\n",
    "# center_table=None\n",
    "# member_table=None"
   ]
  },
  {
   "cell_type": "code",
   "execution_count": 16,
   "metadata": {
    "papermill": {
     "duration": 0.031499,
     "end_time": "2019-10-21T03:22:09.092006",
     "exception": false,
     "start_time": "2019-10-21T03:22:09.060507",
     "status": "completed"
    },
    "tags": []
   },
   "outputs": [],
   "source": [
    "member_cols = member.columns[0:22]\n",
    "shape_columns=pd.MultiIndex.from_product([['All'],list(mcal.get_colnames())],names=['Band','Data'])"
   ]
  },
  {
   "cell_type": "code",
   "execution_count": 17,
   "metadata": {
    "papermill": {
     "duration": 0.030208,
     "end_time": "2019-10-21T03:22:09.145885",
     "exception": false,
     "start_time": "2019-10-21T03:22:09.115677",
     "status": "completed"
    },
    "tags": []
   },
   "outputs": [],
   "source": [
    "center_bins=[m+str(n) for m,n in zip(['cen_']*5,np.arange(5)+1)]\n",
    "center=pd.MultiIndex.from_product([['Center'],center_bins,member_cols])"
   ]
  },
  {
   "cell_type": "code",
   "execution_count": 18,
   "metadata": {
    "papermill": {
     "duration": 0.029479,
     "end_time": "2019-10-21T03:22:09.199353",
     "exception": false,
     "start_time": "2019-10-21T03:22:09.169874",
     "status": "completed"
    },
    "tags": []
   },
   "outputs": [],
   "source": [
    "cluster_band_columns=pd.MultiIndex.from_product([['g','r','i','z'],\n",
    "                                       ['MODEL_MAG','MODEL_MAGERR','MAG_LAMBDA_ERR']],\n",
    "                                     names=['band','data'])"
   ]
  },
  {
   "cell_type": "code",
   "execution_count": 19,
   "metadata": {
    "papermill": {
     "duration": 0.027545,
     "end_time": "2019-10-21T03:22:09.250145",
     "exception": false,
     "start_time": "2019-10-21T03:22:09.222600",
     "status": "completed"
    },
    "tags": []
   },
   "outputs": [],
   "source": [
    "# alt_bins=[m+str(n) for m,n in zip(['alt_']*5,np.arange(5)+1)]\n",
    "# alt_columns=pd.MultiIndex.from_product([alt_bins,\n",
    "#                                        alt_col_list.append(shape_names)],\n",
    "#                                      names=['alt_index','data'])"
   ]
  },
  {
   "cell_type": "code",
   "execution_count": 20,
   "metadata": {
    "papermill": {
     "duration": 0.03003,
     "end_time": "2019-10-21T03:22:09.304464",
     "exception": false,
     "start_time": "2019-10-21T03:22:09.274434",
     "status": "completed"
    },
    "tags": []
   },
   "outputs": [],
   "source": [
    "member_band_columns=pd.MultiIndex.from_product([['g','r','i','z'],\n",
    "                                       ['MODEL_MAG','MODEL_MAGERR',]],\n",
    "                                     names=['Band','Data'])"
   ]
  },
  {
   "cell_type": "code",
   "execution_count": 21,
   "metadata": {
    "papermill": {
     "duration": 0.028799,
     "end_time": "2019-10-21T03:22:09.356289",
     "exception": false,
     "start_time": "2019-10-21T03:22:09.327490",
     "status": "completed"
    },
    "tags": []
   },
   "outputs": [],
   "source": [
    "shape_index=pd.MultiIndex.from_tuples([('MEM_MATCH_ID','TYPE')],names=['ClusterID','Type'])"
   ]
  },
  {
   "cell_type": "code",
   "execution_count": 22,
   "metadata": {
    "papermill": {
     "duration": 0.030104,
     "end_time": "2019-10-21T03:22:09.410867",
     "exception": false,
     "start_time": "2019-10-21T03:22:09.380763",
     "status": "completed"
    },
    "tags": []
   },
   "outputs": [],
   "source": [
    "random_columns=pd.MultiIndex.from_product([['All'],['RA', 'DEC', 'Z', 'LAMBDA_IN', 'AVG_LAMBDAOUT', 'SIGMA_LAMBDAOUT', 'WEIGHT']],\n",
    "                                       names=['Band','Data'])"
   ]
  },
  {
   "cell_type": "code",
   "execution_count": 23,
   "metadata": {
    "papermill": {
     "duration": 0.027534,
     "end_time": "2019-10-21T03:22:09.461672",
     "exception": false,
     "start_time": "2019-10-21T03:22:09.434138",
     "status": "completed"
    },
    "tags": []
   },
   "outputs": [],
   "source": [
    "random.columns=random_columns"
   ]
  },
  {
   "cell_type": "code",
   "execution_count": 24,
   "metadata": {
    "papermill": {
     "duration": 0.028479,
     "end_time": "2019-10-21T03:22:09.514214",
     "exception": false,
     "start_time": "2019-10-21T03:22:09.485735",
     "status": "completed"
    },
    "tags": []
   },
   "outputs": [],
   "source": [
    "member_id=member['ID'].values"
   ]
  },
  {
   "cell_type": "code",
   "execution_count": 25,
   "metadata": {
    "papermill": {
     "duration": 0.027672,
     "end_time": "2019-10-21T03:22:09.567215",
     "exception": false,
     "start_time": "2019-10-21T03:22:09.539543",
     "status": "completed"
    },
    "tags": []
   },
   "outputs": [],
   "source": [
    "# for id in member_id:\n",
    "#     mask = pd.Series(shape_id)==id"
   ]
  },
  {
   "cell_type": "code",
   "execution_count": 26,
   "metadata": {
    "papermill": {
     "duration": 0.027596,
     "end_time": "2019-10-21T03:22:09.618926",
     "exception": false,
     "start_time": "2019-10-21T03:22:09.591330",
     "status": "completed"
    },
    "tags": []
   },
   "outputs": [],
   "source": [
    "shape_id_series = pd.Series(shape_id)"
   ]
  },
  {
   "cell_type": "code",
   "execution_count": 27,
   "metadata": {
    "papermill": {
     "duration": 0.029183,
     "end_time": "2019-10-21T03:22:09.671281",
     "exception": false,
     "start_time": "2019-10-21T03:22:09.642098",
     "status": "completed"
    },
    "tags": []
   },
   "outputs": [],
   "source": [
    "def sort2n(x,y):\n",
    "    \"\"\"\n",
    "    Sorts and matches two arrays of object ids where x is unique and y is not (in DES this is coadd_objects_id).\n",
    "    Slower than sort2().\n",
    "    \"\"\"\n",
    "    \n",
    "    xsort = np.argsort(x)\n",
    "    ysort = np.argsort(y)\n",
    "    i_yx = np.sort(y[np.in1d(y, x, assume_unique=False)])\n",
    "    i_x = xsort[x[xsort].searchsorted(i_yx)]\n",
    "    i_y = ysort[y[ysort].searchsorted(i_yx)]\n",
    "    \n",
    "    return i_x, i_y"
   ]
  },
  {
   "cell_type": "code",
   "execution_count": 28,
   "metadata": {
    "papermill": {
     "duration": 26.482419,
     "end_time": "2019-10-21T03:22:36.178150",
     "exception": false,
     "start_time": "2019-10-21T03:22:09.695731",
     "status": "completed"
    },
    "tags": []
   },
   "outputs": [],
   "source": [
    "s2n_index=sort2n(member_id,shape_id)"
   ]
  },
  {
   "cell_type": "code",
   "execution_count": 29,
   "metadata": {
    "papermill": {
     "duration": 7.23249,
     "end_time": "2019-10-21T03:22:43.441128",
     "exception": false,
     "start_time": "2019-10-21T03:22:36.208638",
     "status": "completed"
    },
    "tags": []
   },
   "outputs": [],
   "source": [
    "shape_half=pd.DataFrame(mcal.read(rows=[s2n_index[1]]).byteswap().newbyteorder())"
   ]
  },
  {
   "cell_type": "code",
   "execution_count": 30,
   "metadata": {
    "papermill": {
     "duration": 0.192081,
     "end_time": "2019-10-21T03:22:43.665074",
     "exception": false,
     "start_time": "2019-10-21T03:22:43.472993",
     "status": "completed"
    },
    "tags": []
   },
   "outputs": [],
   "source": [
    "member_half=member.iloc[s2n_index[0]]"
   ]
  },
  {
   "cell_type": "code",
   "execution_count": 31,
   "metadata": {
    "papermill": {
     "duration": 0.040336,
     "end_time": "2019-10-21T03:22:43.734051",
     "exception": false,
     "start_time": "2019-10-21T03:22:43.693715",
     "status": "completed"
    },
    "tags": []
   },
   "outputs": [],
   "source": [
    "member_half_index=pd.MultiIndex.from_tuples(list(zip(['All']*23,member_half.columns[0:23]))+list(member_band_columns),names=['Band','Data']) "
   ]
  },
  {
   "cell_type": "code",
   "execution_count": 32,
   "metadata": {
    "papermill": {
     "duration": 0.030364,
     "end_time": "2019-10-21T03:22:43.791783",
     "exception": false,
     "start_time": "2019-10-21T03:22:43.761419",
     "status": "completed"
    },
    "tags": []
   },
   "outputs": [],
   "source": [
    "shape_half.columns=shape_columns\n",
    "member_half.columns=member_half_index\n",
    "shape_half.set_index(('All','coadd_objects_id'),inplace=True)\n",
    "member_half.set_index(('All','ID'),inplace=True)"
   ]
  },
  {
   "cell_type": "code",
   "execution_count": 33,
   "metadata": {
    "papermill": {
     "duration": 0.355787,
     "end_time": "2019-10-21T03:22:44.171894",
     "exception": false,
     "start_time": "2019-10-21T03:22:43.816107",
     "status": "completed"
    },
    "tags": []
   },
   "outputs": [],
   "source": [
    "shapes=pd.concat([member_half,shape_half],axis=1,verify_integrity=True)\n",
    "shapes.index.name=\"ID\""
   ]
  },
  {
   "cell_type": "code",
   "execution_count": 34,
   "metadata": {
    "papermill": {
     "duration": 0.042572,
     "end_time": "2019-10-21T03:22:44.245658",
     "exception": false,
     "start_time": "2019-10-21T03:22:44.203086",
     "status": "completed"
    },
    "tags": []
   },
   "outputs": [],
   "source": [
    "cluster_col_list=[ast.literal_eval(name) for i,name in enumerate(clusters.columns)]\n",
    "cluster_col=pd.MultiIndex.from_tuples(cluster_col_list, names=['Type','Kind','Data'])"
   ]
  },
  {
   "cell_type": "code",
   "execution_count": 35,
   "metadata": {
    "papermill": {
     "duration": 0.034747,
     "end_time": "2019-10-21T03:22:44.307087",
     "exception": false,
     "start_time": "2019-10-21T03:22:44.272340",
     "status": "completed"
    },
    "tags": []
   },
   "outputs": [],
   "source": [
    "clusters.columns=cluster_col\n",
    "clusters.set_index(('All', 'All', 'MEM_MATCH_ID'),inplace=True);"
   ]
  },
  {
   "cell_type": "code",
   "execution_count": 36,
   "metadata": {
    "papermill": {
     "duration": 0.038309,
     "end_time": "2019-10-21T03:22:44.374553",
     "exception": false,
     "start_time": "2019-10-21T03:22:44.336244",
     "status": "completed"
    },
    "tags": []
   },
   "outputs": [],
   "source": [
    "def get_theta_for_obj(obj1,obj2):\n",
    "    ra1,dec1=(obj1[('All', 'RA')],obj1[('All', 'DEC')])\n",
    "    ra2,dec2=(obj2[('All', 'RA')],obj2[('All', 'DEC')])\n",
    "    \n",
    "    \n",
    "    \n",
    "    c1=SkyCoord(ra1*u.deg,dec1*u.deg)\n",
    "    c2=SkyCoord(ra2*u.deg,dec2*u.deg)\n",
    "    \n",
    "    \n",
    "    return(90-c1.position_angle(c2).degree)"
   ]
  },
  {
   "cell_type": "code",
   "execution_count": 37,
   "metadata": {
    "papermill": {
     "duration": 0.028488,
     "end_time": "2019-10-21T03:22:44.430365",
     "exception": false,
     "start_time": "2019-10-21T03:22:44.401877",
     "status": "completed"
    },
    "tags": []
   },
   "outputs": [],
   "source": [
    "def get_pa(member):\n",
    "    cluster=clusters.loc[member[('All','MEM_MATCH_ID')]]\n",
    "    center=shapes.loc[cluster[('Alt','Alt1','ID_CENT')]]\n",
    "    theta=get_theta_for_obj(center,member)\n",
    "    return(theta)"
   ]
  },
  {
   "cell_type": "code",
   "execution_count": 38,
   "metadata": {
    "papermill": {
     "duration": 31.321967,
     "end_time": "2019-10-21T03:23:15.779839",
     "exception": false,
     "start_time": "2019-10-21T03:22:44.457872",
     "status": "completed"
    },
    "tags": []
   },
   "outputs": [
    {
     "name": "stdout",
     "output_type": "stream",
     "text": [
      "Added PP column.\n"
     ]
    }
   ],
   "source": [
    "shapes[('All','PP')]=shapes.apply(lambda x:x[('All','P')]*x[('All','PFREE')],axis=1)\n",
    "print (\"Added PP column.\")"
   ]
  },
  {
   "cell_type": "code",
   "execution_count": 39,
   "metadata": {
    "papermill": {
     "duration": 1.604465,
     "end_time": "2019-10-21T03:23:17.433644",
     "exception": false,
     "start_time": "2019-10-21T03:23:15.829179",
     "status": "completed"
    },
    "tags": []
   },
   "outputs": [],
   "source": [
    "shapes=shapes[shapes[('All', 'flags_select')]==0]\n",
    "shapes=shapes[shapes[('All','PP')]>=0.55]"
   ]
  },
  {
   "cell_type": "code",
   "execution_count": 40,
   "metadata": {
    "papermill": {
     "duration": 0.558266,
     "end_time": "2019-10-21T03:23:18.030906",
     "exception": false,
     "start_time": "2019-10-21T03:23:17.472640",
     "status": "completed"
    },
    "tags": []
   },
   "outputs": [
    {
     "name": "stderr",
     "output_type": "stream",
     "text": [
      "/home/cz136/anaconda3/envs/balrog/lib/python3.7/site-packages/ipykernel_launcher.py:4: FutureWarning: \n",
      "Passing list-likes to .loc or [] with any missing label will raise\n",
      "KeyError in the future, you can use .reindex() as an alternative.\n",
      "\n",
      "See the documentation here:\n",
      "https://pandas.pydata.org/pandas-docs/stable/user_guide/indexing.html#deprecate-loc-reindex-listlike\n",
      "  after removing the cwd from sys.path.\n"
     ]
    },
    {
     "name": "stdout",
     "output_type": "stream",
     "text": [
      "The number of clusters with no center shape data 4483\n",
      "Number of galaxies before masking: 282735\n",
      "Number of galaxies after masking: 282735\n"
     ]
    },
    {
     "name": "stdout",
     "output_type": "stream",
     "text": [
      "The number of clusters with no center shape data 1\n",
      "Number of galaxies before masking: 203080\n",
      "Number of galaxies after masking: 203080\n"
     ]
    }
   ],
   "source": [
    "# Drop clusters with no center\n",
    "def drop_poor_centers():\n",
    "    center_id=clusters[('Alt', 'Alt1', 'ID_CENT')]\n",
    "    p=shapes.loc[center_id][('All','P')].to_numpy()\n",
    "    missing_mem_match_id=clusters[np.isnan(p)].index\n",
    "    clusters.drop(missing_mem_match_id,inplace=True)\n",
    "#     np.save(\"/home/cz136/project/sa/data/missing_centers.npy\",center_id[np.isnan(p)].to_numpy())\n",
    "    print(\"The number of clusters with no center shape data {}\".format(np.sum(np.isnan(p))))\n",
    "drop_poor_centers()\n",
    "\n",
    "# Drop members with no cluster\n",
    "def drop_poor_members():\n",
    "    valid_clusters_id=clusters.index.to_numpy()\n",
    "    shapes_match_id=shapes[('All','MEM_MATCH_ID')].to_numpy()\n",
    "    print(\"Number of galaxies before masking: {}\".format(len(shapes_match_id)))\n",
    "    valid_members=np.isin(shapes_match_id,valid_clusters_id)\n",
    "    return(valid_members)\n",
    "    \n",
    "valid_members_id=drop_poor_members()\n",
    "print(\"Number of galaxies after masking: {}\".format(len(shapes)))\n",
    "shapes=shapes[valid_members_id]\n",
    "\n",
    "drop_poor_centers()\n",
    "valid_members_id=drop_poor_members()\n",
    "print(\"Number of galaxies after masking: {}\".format(len(shapes)))\n",
    "shapes=shapes[valid_members_id]"
   ]
  },
  {
   "cell_type": "code",
   "execution_count": 41,
   "metadata": {
    "papermill": {
     "duration": 447.266617,
     "end_time": "2019-10-21T03:30:45.327157",
     "exception": false,
     "start_time": "2019-10-21T03:23:18.060540",
     "status": "completed"
    },
    "tags": []
   },
   "outputs": [],
   "source": [
    "shapes[('All','Theta_cen')]=shapes.apply(lambda x:get_pa(x),axis=1)"
   ]
  },
  {
   "cell_type": "code",
   "execution_count": 42,
   "metadata": {
    "papermill": {
     "duration": 22.493776,
     "end_time": "2019-10-21T03:31:07.850051",
     "exception": false,
     "start_time": "2019-10-21T03:30:45.356275",
     "status": "completed"
    },
    "tags": []
   },
   "outputs": [],
   "source": [
    "shapes[('All','Theta_cen')]=shapes.apply(lambda x:360-x[('All','Theta_cen')] if x[('All','Theta_cen')]>=180 else x[('All','Theta_cen')],axis=1)\n",
    "shapes[('All','Theta_cen')]=shapes.apply(lambda x:360+x[('All','Theta_cen')] if x[('All','Theta_cen')]<=-180 else x[('All','Theta_cen')],axis=1)\n",
    "shapes[('All','Theta_sat')]=shapes.apply(lambda x:-(180-x[('All','Theta_cen')]) if x[('All','Theta_cen')]>=0 else (180+x[('All','Theta_cen')]),axis=1)"
   ]
  },
  {
   "cell_type": "code",
   "execution_count": 43,
   "metadata": {
    "papermill": {
     "duration": 0.034587,
     "end_time": "2019-10-21T03:31:07.916401",
     "exception": false,
     "start_time": "2019-10-21T03:31:07.881814",
     "status": "completed"
    },
    "tags": []
   },
   "outputs": [],
   "source": [
    "H0=100 #km s-1 Mpc-1\n",
    "Om0=0.3\n",
    "Ode0=0.7\n",
    "lcdm=astropy.cosmology.FlatLambdaCDM(H0, Om0)"
   ]
  },
  {
   "cell_type": "code",
   "execution_count": 44,
   "metadata": {
    "papermill": {
     "duration": 513.535963,
     "end_time": "2019-10-21T03:39:41.481018",
     "exception": false,
     "start_time": "2019-10-21T03:31:07.945055",
     "status": "completed"
    },
    "tags": []
   },
   "outputs": [],
   "source": [
    "shapes[('All','angR')]=shapes.apply(lambda x:np.float(lcdm.angular_diameter_distance(x[('All','Z')])/u.Mpc),axis=1)\n",
    "random[('All','angR')]=random.apply(lambda x:np.float(lcdm.angular_diameter_distance(x[('All','Z')])/u.Mpc),axis=1)"
   ]
  },
  {
   "cell_type": "markdown",
   "metadata": {
    "papermill": {
     "duration": 0.026323,
     "end_time": "2019-10-21T03:39:41.536320",
     "exception": false,
     "start_time": "2019-10-21T03:39:41.509997",
     "status": "completed"
    },
    "tags": []
   },
   "source": [
    "# Add $\\phi$"
   ]
  },
  {
   "cell_type": "code",
   "execution_count": 45,
   "metadata": {
    "papermill": {
     "duration": 0.03889,
     "end_time": "2019-10-21T03:39:41.601250",
     "exception": false,
     "start_time": "2019-10-21T03:39:41.562360",
     "status": "completed"
    },
    "tags": []
   },
   "outputs": [],
   "source": [
    "def get_pa_for_member(obj):\n",
    "    e1=obj['All']['e1']\n",
    "    e2=obj['All']['e1']\n",
    "    \n",
    "    α =0.5*np.arctan2(-e2,-e1)*180/np.pi\n",
    "    return(α)"
   ]
  },
  {
   "cell_type": "code",
   "execution_count": 46,
   "metadata": {
    "papermill": {
     "duration": 0.032855,
     "end_time": "2019-10-21T03:39:41.664782",
     "exception": false,
     "start_time": "2019-10-21T03:39:41.631927",
     "status": "completed"
    },
    "tags": []
   },
   "outputs": [],
   "source": [
    "error_list_phi=[]\n",
    "error_list_e=[]\n",
    "\n",
    "def get_phi_for_member(member):\n",
    "    \n",
    "    \"\"\"Input: cluster series\n",
    "        Output: an array of position angle weighted by PP\n",
    "        Record KeyError in an array (usually caused by uncomplete shape catalog).\n",
    "    \"\"\"\n",
    "    \n",
    "    try:\n",
    "        cluster_id=member[('All','MEM_MATCH_ID')]\n",
    "        cluster=clusters.loc[cluster_id]\n",
    "        center_id=cluster[('Alt', 'Alt1', 'ID_CENT')]\n",
    "        center = shapes.loc[center_id]\n",
    "        \n",
    "        pa=get_pa_for_member(member)\n",
    "        theta= get_theta_for_obj(member,center)\n",
    "        phi=(pa-theta)\n",
    "    #     print(center.index)\n",
    "        return(phi)    \n",
    "    except KeyError as e:\n",
    "        error_list_phi.append(e)\n",
    "        print(e)\n",
    "        return(np.nan)"
   ]
  },
  {
   "cell_type": "code",
   "execution_count": 47,
   "metadata": {
    "papermill": {
     "duration": 569.113572,
     "end_time": "2019-10-21T03:49:10.805420",
     "exception": false,
     "start_time": "2019-10-21T03:39:41.691848",
     "status": "completed"
    },
    "tags": []
   },
   "outputs": [],
   "source": [
    "shapes[('All','phi')]=shapes.apply(lambda x:get_phi_for_member(x),axis=1)"
   ]
  },
  {
   "cell_type": "code",
   "execution_count": 48,
   "metadata": {
    "papermill": {
     "duration": 0.036353,
     "end_time": "2019-10-21T03:49:10.911740",
     "exception": false,
     "start_time": "2019-10-21T03:49:10.875387",
     "status": "completed"
    },
    "tags": []
   },
   "outputs": [],
   "source": [
    "def process_phi(phi_1d):\n",
    "\n",
    "    phi_1d=np.where(phi_1d<=0,-phi_1d,phi_1d)\n",
    "    phi_1d=np.where(phi_1d>=180,phi_1d-180,phi_1d)\n",
    "    phi_1d=np.where(phi_1d>=90,180-phi_1d,phi_1d)\n",
    "\n",
    "    phi_1d=np.sort(phi_1d)\n",
    "    \n",
    "    return(phi_1d)\n"
   ]
  },
  {
   "cell_type": "code",
   "execution_count": 49,
   "metadata": {
    "papermill": {
     "duration": 0.055115,
     "end_time": "2019-10-21T03:49:10.991806",
     "exception": false,
     "start_time": "2019-10-21T03:49:10.936691",
     "status": "completed"
    },
    "tags": []
   },
   "outputs": [],
   "source": [
    "shapes[('All','phi')]=process_phi(shapes[('All','phi')])"
   ]
  },
  {
   "cell_type": "markdown",
   "metadata": {
    "papermill": {
     "duration": 0.025296,
     "end_time": "2019-10-21T03:49:11.044536",
     "exception": false,
     "start_time": "2019-10-21T03:49:11.019240",
     "status": "completed"
    },
    "tags": []
   },
   "source": [
    "# Calculate cluster elipticity"
   ]
  },
  {
   "cell_type": "code",
   "execution_count": 50,
   "metadata": {
    "papermill": {
     "duration": 0.035486,
     "end_time": "2019-10-21T03:49:11.104477",
     "exception": false,
     "start_time": "2019-10-21T03:49:11.068991",
     "status": "completed"
    },
    "tags": []
   },
   "outputs": [
    {
     "data": {
      "text/latex": [
       "$\\displaystyle M_{\\mathrm{xx}} \\equiv\\left\\langle\\frac{x^{2}}{r^{2}}\\right\\rangle=\\frac{\\sum_{i} p_{\\mathrm{mem}, i} \\frac{x_{i}^{2}}{r_{i}^{2}}}{\\sum_{i} p_{\\mathrm{mem}, i}}$"
      ],
      "text/plain": [
       "<IPython.core.display.Math object>"
      ]
     },
     "metadata": {},
     "output_type": "display_data"
    }
   ],
   "source": [
    "display(Math(r\"$M_{\\mathrm{xx}} \\equiv\\left\\langle\\frac{x^{2}}{r^{2}}\\right\\rangle=\\frac{\\sum_{i} p_{\\mathrm{mem}, i} \\frac{x_{i}^{2}}{r_{i}^{2}}}{\\sum_{i} p_{\\mathrm{mem}, i}}$\"))"
   ]
  },
  {
   "cell_type": "code",
   "execution_count": 51,
   "metadata": {
    "papermill": {
     "duration": 0.040932,
     "end_time": "2019-10-21T03:49:11.170781",
     "exception": false,
     "start_time": "2019-10-21T03:49:11.129849",
     "status": "completed"
    },
    "tags": []
   },
   "outputs": [],
   "source": [
    "def get_Q_U(cluster):\n",
    "    \n",
    "    mem_match_id=cluster.name\n",
    "    members=shapes[shapes['All','MEM_MATCH_ID']==mem_match_id]\n",
    "    \n",
    "    members=members[members[('All','PP')]>=0.2]\n",
    "    \n",
    "    def get_M_for_cluster():\n",
    "        p = members[('All','PP')]\n",
    "        r = members[('All','R')]\n",
    "        pa = members[('All','Theta_cen')]\n",
    "        x = r * np.cos(pa)\n",
    "        y = r * np.sin(pa)\n",
    "        \n",
    "        def mom_2(p,x,y,r):\n",
    "            return(np.sum(p*x*y/r**2)/np.sum(p))\n",
    "        \n",
    "        Mxx=mom_2(p,x,x,r)\n",
    "        Mxy=mom_2(p,x,y,r)\n",
    "        Myy=mom_2(p,y,y,r)\n",
    "        return(Mxx,Mxy,Myy)\n",
    "\n",
    "    Mxx,Mxy,Myy=get_M_for_cluster()\n",
    "    Q,U=Mxx-Myy,2*Mxy\n",
    "    \n",
    "    return (Q,U)\n",
    "\n",
    "\n",
    "def get_pa_from_Q_U(Q,U):\n",
    "    α =0.5*np.arctan2(U,Q)*180/np.pi\n",
    "    return(α)"
   ]
  },
  {
   "cell_type": "code",
   "execution_count": 52,
   "metadata": {
    "papermill": {
     "duration": 95.742769,
     "end_time": "2019-10-21T03:50:46.946341",
     "exception": false,
     "start_time": "2019-10-21T03:49:11.203572",
     "status": "completed"
    },
    "tags": []
   },
   "outputs": [],
   "source": [
    "clusters[('All','All','Q')]=clusters.apply(lambda x:get_Q_U(x)[0],axis=1)\n",
    "clusters[('All','All','U')]=clusters.apply(lambda x:get_Q_U(x)[1],axis=1)\n",
    "clusters[('All','All','Beta')]=clusters.apply(lambda x:get_pa_from_Q_U(x[('All','All','Q')],x[('All','All','U')]),axis=1)\n",
    "clusters[('All','All','Ce')]=clusters.apply(lambda x:np.sqrt(x[('All','All','U')]**2+x[('All','All','U')]**2),axis=1)"
   ]
  },
  {
   "cell_type": "code",
   "execution_count": 53,
   "metadata": {
    "papermill": {
     "duration": 0.030203,
     "end_time": "2019-10-21T03:50:47.003650",
     "exception": false,
     "start_time": "2019-10-21T03:50:46.973447",
     "status": "completed"
    },
    "tags": []
   },
   "outputs": [],
   "source": [
    "def get_normR(shape):\n",
    "    cluster_id=shape[('All','MEM_MATCH_ID')]\n",
    "    R200 = 1.5*clusters.loc[cluster_id][('All','All','R_LAMBDA')]\n",
    "    R=shape[('All','R')]\n",
    "    normR=R/R200\n",
    "    return(normR)"
   ]
  },
  {
   "cell_type": "code",
   "execution_count": 54,
   "metadata": {
    "papermill": {
     "duration": 64.090828,
     "end_time": "2019-10-21T03:51:51.118655",
     "exception": false,
     "start_time": "2019-10-21T03:50:47.027827",
     "status": "completed"
    },
    "tags": []
   },
   "outputs": [],
   "source": [
    "shapes[('All','normR')]=shapes.apply(lambda x:get_normR(x),axis=1)"
   ]
  },
  {
   "cell_type": "code",
   "execution_count": 55,
   "metadata": {
    "papermill": {
     "duration": 0.036442,
     "end_time": "2019-10-21T03:51:51.182495",
     "exception": false,
     "start_time": "2019-10-21T03:51:51.146053",
     "status": "completed"
    },
    "tags": []
   },
   "outputs": [],
   "source": [
    "def get_normLR(shape):\n",
    "    cluster_id=shape[('All','MEM_MATCH_ID')]\n",
    "    LR = 1.5*clusters.loc[cluster_id][('All','All','R_LAMBDA')]\n",
    "    R=shape[('All','R')]\n",
    "    normR=R/LR\n",
    "    return(normR)"
   ]
  },
  {
   "cell_type": "code",
   "execution_count": 56,
   "metadata": {
    "papermill": {
     "duration": 65.427472,
     "end_time": "2019-10-21T03:52:56.637123",
     "exception": false,
     "start_time": "2019-10-21T03:51:51.209651",
     "status": "completed"
    },
    "tags": []
   },
   "outputs": [],
   "source": [
    "shapes[('All','normLR')]=shapes.apply(lambda x:get_normLR(x),axis=1)"
   ]
  },
  {
   "cell_type": "markdown",
   "metadata": {
    "papermill": {
     "duration": 0.024913,
     "end_time": "2019-10-21T03:52:56.694929",
     "exception": false,
     "start_time": "2019-10-21T03:52:56.670016",
     "status": "completed"
    },
    "tags": []
   },
   "source": [
    "# Add phi"
   ]
  },
  {
   "cell_type": "code",
   "execution_count": 57,
   "metadata": {
    "papermill": {
     "duration": 0.12567,
     "end_time": "2019-10-21T03:52:56.845168",
     "exception": false,
     "start_time": "2019-10-21T03:52:56.719498",
     "status": "completed"
    },
    "tags": []
   },
   "outputs": [],
   "source": [
    "clusters.to_pickle('/home/cz136/project/sa/data/{}/{}/clusters.pkl'.format(shape_cat,vol))"
   ]
  },
  {
   "cell_type": "code",
   "execution_count": 58,
   "metadata": {
    "papermill": {
     "duration": 1.132867,
     "end_time": "2019-10-21T03:52:58.009529",
     "exception": false,
     "start_time": "2019-10-21T03:52:56.876662",
     "status": "completed"
    },
    "tags": []
   },
   "outputs": [],
   "source": [
    "shapes.to_pickle('/home/cz136/project/sa/data/{}/{}/shapes.pkl'.format(shape_cat,vol))"
   ]
  },
  {
   "cell_type": "code",
   "execution_count": 59,
   "metadata": {
    "papermill": {
     "duration": 1.140117,
     "end_time": "2019-10-21T03:52:59.196710",
     "exception": false,
     "start_time": "2019-10-21T03:52:58.056593",
     "status": "completed"
    },
    "tags": []
   },
   "outputs": [],
   "source": [
    "random.to_pickle('/home/cz136/project/sa/data/{}/{}/random.pkl'.format(shape_cat,vol))"
   ]
  },
  {
   "cell_type": "markdown",
   "metadata": {
    "papermill": {
     "duration": 0.025332,
     "end_time": "2019-10-21T03:52:59.273299",
     "exception": false,
     "start_time": "2019-10-21T03:52:59.247967",
     "status": "completed"
    },
    "tags": []
   },
   "source": [
    "## z masking"
   ]
  },
  {
   "cell_type": "code",
   "execution_count": 60,
   "metadata": {
    "papermill": {
     "duration": 0.029954,
     "end_time": "2019-10-21T03:52:59.327692",
     "exception": false,
     "start_time": "2019-10-21T03:52:59.297738",
     "status": "completed"
    },
    "tags": []
   },
   "outputs": [],
   "source": [
    "def drop_shapes_wo_cluster(clusters,shapes):\n",
    "    valid_clusters_id=clusters.index.to_numpy()\n",
    "    shapes_match_id=shapes[('All','MEM_MATCH_ID')].to_numpy()\n",
    "    print(\"Number of galaxies before masking: {}\".format(len(shapes_match_id)))\n",
    "    valid_members=np.isin(shapes_match_id,valid_clusters_id)\n",
    "    shapes=shapes[valid_members]\n",
    "    return(shapes)"
   ]
  },
  {
   "cell_type": "code",
   "execution_count": 61,
   "metadata": {
    "papermill": {
     "duration": 0.041198,
     "end_time": "2019-10-21T03:52:59.395341",
     "exception": false,
     "start_time": "2019-10-21T03:52:59.354143",
     "status": "completed"
    },
    "tags": []
   },
   "outputs": [],
   "source": [
    "high_z=clusters[clusters['All','All','Z_LAMBDA']>=0.35]\n",
    "low_z=clusters[(clusters['All','All','Z_LAMBDA']<=0.35) & (clusters['All','All','Z_LAMBDA']>=0.1)]"
   ]
  },
  {
   "cell_type": "code",
   "execution_count": 62,
   "metadata": {
    "papermill": {
     "duration": 0.3319,
     "end_time": "2019-10-21T03:52:59.751128",
     "exception": false,
     "start_time": "2019-10-21T03:52:59.419228",
     "status": "completed"
    },
    "tags": []
   },
   "outputs": [
    {
     "name": "stdout",
     "output_type": "stream",
     "text": [
      "Number of galaxies before masking: 203070\n"
     ]
    },
    {
     "name": "stdout",
     "output_type": "stream",
     "text": [
      "Number of galaxies before masking: 203070\n"
     ]
    }
   ],
   "source": [
    "high_z_shapes=drop_shapes_wo_cluster(high_z,shapes)\n",
    "low_z_shapes=drop_shapes_wo_cluster(low_z,shapes)"
   ]
  },
  {
   "cell_type": "code",
   "execution_count": 63,
   "metadata": {
    "papermill": {
     "duration": 1.150373,
     "end_time": "2019-10-21T03:53:00.929689",
     "exception": false,
     "start_time": "2019-10-21T03:52:59.779316",
     "status": "completed"
    },
    "tags": []
   },
   "outputs": [],
   "source": [
    "high_z.to_pickle('/home/cz136/project/sa/data/{}/{}/clusters_high_z.pkl'.format(shape_cat,vol))\n",
    "low_z.to_pickle('/home/cz136/project/sa/data/{}/{}/clusters_low_z.pkl'.format(shape_cat,vol))\n",
    "high_z_shapes.to_pickle('/home/cz136/project/sa/data/{}/{}/shapes_high_z.pkl'.format(shape_cat,vol))\n",
    "low_z_shapes.to_pickle('/home/cz136/project/sa/data/{}/{}/shapes_low_z.pkl'.format(shape_cat,vol))"
   ]
  }
 ],
 "metadata": {
  "kernelspec": {
   "display_name": "Python 3",
   "language": "python",
   "name": "python3"
  },
  "language_info": {
   "codemirror_mode": {
    "name": "ipython",
    "version": 3
   },
   "file_extension": ".py",
   "mimetype": "text/x-python",
   "name": "python",
   "nbconvert_exporter": "python",
   "pygments_lexer": "ipython3",
   "version": "3.7.3"
  },
  "papermill": {
   "duration": 1964.55298,
   "end_time": "2019-10-21T03:53:01.663052",
   "environment_variables": {},
   "exception": null,
   "input_path": "/home/cz136/project/sa/lib/src/data_marshalling.ipynb",
   "output_path": "/home/cz136/project/sa/lib/output/data/mcal_all.ipynb",
   "parameters": {
    "shape_cat": "mcal",
    "vol": "all"
   },
   "start_time": "2019-10-21T03:20:17.110072",
   "version": "1.2.0"
  }
 },
 "nbformat": 4,
 "nbformat_minor": 4
}