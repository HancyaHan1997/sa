{
 "cells": [
  {
   "cell_type": "code",
   "execution_count": 1,
   "metadata": {
    "papermill": {
     "duration": 0.046351,
     "end_time": "2019-11-03T06:21:48.945600",
     "exception": false,
     "start_time": "2019-11-03T06:21:48.899249",
     "status": "completed"
    },
    "tags": [
     "parameters"
    ]
   },
   "outputs": [],
   "source": [
    "shape_cat=\"\"\n",
    "vol=\"\""
   ]
  },
  {
   "cell_type": "code",
   "execution_count": 2,
   "metadata": {
    "papermill": {
     "duration": 0.046843,
     "end_time": "2019-11-03T06:21:49.030543",
     "exception": false,
     "start_time": "2019-11-03T06:21:48.983700",
     "status": "completed"
    },
    "tags": [
     "injected-parameters"
    ]
   },
   "outputs": [],
   "source": [
    "# Parameters\n",
    "shape_cat = \"mcal\"\n",
    "vol = \"uber\"\n"
   ]
  },
  {
   "cell_type": "code",
   "execution_count": 3,
   "metadata": {
    "papermill": {
     "duration": 2.909244,
     "end_time": "2019-11-03T06:21:51.973280",
     "exception": false,
     "start_time": "2019-11-03T06:21:49.064036",
     "status": "completed"
    },
    "tags": []
   },
   "outputs": [],
   "source": [
    "from astropy.io import fits\n",
    "from astropy.table import Table\n",
    "import pandas as pd\n",
    "import fitsio as fio\n",
    "import numpy as np\n",
    "import ast\n",
    "\n",
    "import astropy.cosmology\n",
    "from astropy.coordinates import SkyCoord  # High-level coordinates\n",
    "from astropy.coordinates import ICRS, Galactic, FK4, FK5  # Low-level frames\n",
    "from astropy.coordinates import Angle, Latitude, Longitude  # Angles\n",
    "import astropy.units as u\n",
    "from IPython.display import display, Math"
   ]
  },
  {
   "cell_type": "code",
   "execution_count": 4,
   "metadata": {
    "papermill": {
     "duration": 0.078567,
     "end_time": "2019-11-03T06:21:52.108836",
     "exception": false,
     "start_time": "2019-11-03T06:21:52.030269",
     "status": "completed"
    },
    "tags": []
   },
   "outputs": [
    {
     "name": "stderr",
     "output_type": "stream",
     "text": [
      "/home/cz136/anaconda3/envs/balrog/lib/python3.7/site-packages/tqdm/std.py:648: FutureWarning: The Panel class is removed from pandas. Accessing it from the top-level namespace will also be removed in the next version\n",
      "  from pandas import Panel\n"
     ]
    }
   ],
   "source": [
    "from tqdm.notebook import tqdm\n",
    "tqdm.pandas()"
   ]
  },
  {
   "cell_type": "code",
   "execution_count": 5,
   "metadata": {
    "papermill": {
     "duration": 0.049745,
     "end_time": "2019-11-03T06:21:52.193878",
     "exception": false,
     "start_time": "2019-11-03T06:21:52.144133",
     "status": "completed"
    },
    "tags": []
   },
   "outputs": [],
   "source": [
    "%run -i /home/cz136/project/sa/lib/src/func.py"
   ]
  },
  {
   "cell_type": "code",
   "execution_count": 6,
   "metadata": {
    "papermill": {
     "duration": 13.968605,
     "end_time": "2019-11-03T06:22:06.196279",
     "exception": false,
     "start_time": "2019-11-03T06:21:52.227674",
     "status": "completed"
    },
    "tags": []
   },
   "outputs": [
    {
     "name": "stdout",
     "output_type": "stream",
     "text": [
      "Number of members:  15086376\n",
      "Number of clusters:  16966\n"
     ]
    },
    {
     "name": "stdout",
     "output_type": "stream",
     "text": [
      "Number of members associated with multiple clusters:  8851109\n"
     ]
    }
   ],
   "source": [
    "if vol==\"vlim\":\n",
    "    cluster_table=Table(fits.open('/lsst/troxel/y1a1/y1a1_gold_1.0.3-d10-mof-001d_run_redmapper_v6.4.17-vlim_lgt20_desformat_catalog.fit')[1].data)\n",
    "    member_table=Table(fits.open('/lsst/troxel/y1a1/y1a1_gold_1.0.3-d10-mof-001d_run_redmapper_v6.4.17-vlim_lgt20_desformat_catalog_members.fit')[1].data)\n",
    "    random_table=Table(fits.open('/lsst/troxel/y1a1/y1a1_gold_1.0.3_wide+d10-mof-001d_run_redmapper_v6.4.17-2_randcat_z0.10-0.95_lgt020_vl50.fit')[1].data)\n",
    "elif vol==\"all\":\n",
    "    cluster_table=Table(fits.open('/lsst/troxel/y1a1/y1a1_gold_1.0.3-d10-mof-001d_run_redmapper_v6.4.17_lgt20_desformat_catalog.fit')[1].data)\n",
    "    member_table=Table(fits.open('/lsst/troxel/y1a1/y1a1_gold_1.0.3-d10-mof-001d_run_redmapper_v6.4.17_lgt20_desformat_catalog_members.fit')[1].data)\n",
    "    random_table=Table(fits.open('/lsst/troxel/y1a1/y1a1_gold_1.0.3_wide+d10-mof-001d_run_redmapper_v6.4.17-2_randcat_z0.10-0.95_lgt020_vl02.fit')[1].data)\n",
    "elif vol==\"uber\":\n",
    "    cluster_table=Table(fits.open('/lsst/troxel/y1a1/y1a1_gold_1.0.3-d10-mof-001d_run_redmapper_v6.4.17_lgt20_desformat_catalog.fit')[1].data)\n",
    "    member_table=Table(fits.open('/lsst/troxel/y1a1/y1a1_gold_1.0.3_wide+d10-mof-001d_run_redmapper_v6.4.17_lgt5_vl50_catalog_ubermembers.fit')[1].data)\n",
    "    random_table=Table(fits.open('/lsst/troxel/y1a1/y1a1_gold_1.0.3_wide+d10-mof-001d_run_redmapper_v6.4.17-2_randcat_z0.10-0.95_lgt020_vl02.fit')[1].data)\n",
    "else:\n",
    "    raise TypeError(\"Wrong vol\")\n",
    "cluster_table.remove_columns(['P_C','C_LAMBDA','C_LAMBDA_ERR','Q_CEN']) #unknown columns\n",
    "\n",
    "print(\"Number of members: \",len(member_table))\n",
    "print(\"Number of clusters: \",len(cluster_table))\n",
    "print(\"Number of members associated with multiple clusters: \",len(member_table['ID'])-len(np.unique(member_table['ID'])))"
   ]
  },
  {
   "cell_type": "code",
   "execution_count": 7,
   "metadata": {
    "papermill": {
     "duration": 117.930068,
     "end_time": "2019-11-03T06:24:04.163800",
     "exception": false,
     "start_time": "2019-11-03T06:22:06.233732",
     "status": "completed"
    },
    "tags": []
   },
   "outputs": [
    {
     "name": "stdout",
     "output_type": "stream",
     "text": [
      "Metacal loaded\n"
     ]
    }
   ],
   "source": [
    "if shape_cat==\"mcal\":\n",
    "    mcal = fio.FITS('/lsst/troxel/y1a1/mcal-y1a1-combined-riz-unblind-v4-matched.fits',memmap=True,mode='r')[1]\n",
    "    print (\"Metacal loaded\")\n",
    "    shape_id=mcal['coadd_objects_id'][:] \n",
    "elif shape_cat==\"im3\":\n",
    "        mcal = fio.FITS('/lsst/troxel/y1a1/y1a1-im3shape_v5_unblind_v2_matched_v4.fits',memmap=True,mode='r')[1]\n",
    "        print (\"Metacal loaded\")\n",
    "        shape_id=mcal['coadd_objects_id'][:] \n",
    "else:\n",
    "    raise "
   ]
  },
  {
   "cell_type": "code",
   "execution_count": 8,
   "metadata": {
    "papermill": {
     "duration": 24.214423,
     "end_time": "2019-11-03T06:24:28.437316",
     "exception": false,
     "start_time": "2019-11-03T06:24:04.222893",
     "status": "completed"
    },
    "tags": []
   },
   "outputs": [
    {
     "name": "stdout",
     "output_type": "stream",
     "text": [
      "Number of members without shape:  63843\n"
     ]
    }
   ],
   "source": [
    "print(\"Number of members without shape: \",len(member_table['ID'])-np.sum(np.in1d(member_table['ID'],shape_id)))"
   ]
  },
  {
   "cell_type": "code",
   "execution_count": 9,
   "metadata": {
    "papermill": {
     "duration": 0.067989,
     "end_time": "2019-11-03T06:24:28.548362",
     "exception": false,
     "start_time": "2019-11-03T06:24:28.480373",
     "status": "completed"
    },
    "tags": []
   },
   "outputs": [
    {
     "data": {
      "text/plain": [
       "{'hdunum': 2,\n",
       " 'extnum': 1,\n",
       " 'hdutype': 2,\n",
       " 'extname': '',\n",
       " 'hduname': '',\n",
       " 'extver': 0,\n",
       " 'hduver': 0,\n",
       " 'is_compressed_image': 0,\n",
       " 'header_start': 2880,\n",
       " 'data_start': 17280,\n",
       " 'data_end': 84075649920,\n",
       " 'nrows': 136930995,\n",
       " 'ncols': 80,\n",
       " 'colinfo': [{'name': 'coadd_objects_id',\n",
       "   'tform': 'K',\n",
       "   'type': 81,\n",
       "   'repeat': 1,\n",
       "   'width': 8,\n",
       "   'eqtype': 81,\n",
       "   'tdim': [1],\n",
       "   'tscale': 1.0,\n",
       "   'tzero': 0.0},\n",
       "  {'name': 'flags',\n",
       "   'tform': 'J',\n",
       "   'type': 41,\n",
       "   'repeat': 1,\n",
       "   'width': 4,\n",
       "   'eqtype': 41,\n",
       "   'tdim': [1],\n",
       "   'tscale': 1.0,\n",
       "   'tzero': 0.0},\n",
       "  {'name': 'mask_frac',\n",
       "   'tform': 'D',\n",
       "   'type': 82,\n",
       "   'repeat': 1,\n",
       "   'width': 8,\n",
       "   'eqtype': 82,\n",
       "   'tdim': [1],\n",
       "   'tscale': 1.0,\n",
       "   'tzero': 0.0},\n",
       "  {'name': 'psf_e1',\n",
       "   'tform': 'D',\n",
       "   'type': 82,\n",
       "   'repeat': 1,\n",
       "   'width': 8,\n",
       "   'eqtype': 82,\n",
       "   'tdim': [1],\n",
       "   'tscale': 1.0,\n",
       "   'tzero': 0.0},\n",
       "  {'name': 'psf_e2',\n",
       "   'tform': 'D',\n",
       "   'type': 82,\n",
       "   'repeat': 1,\n",
       "   'width': 8,\n",
       "   'eqtype': 82,\n",
       "   'tdim': [1],\n",
       "   'tscale': 1.0,\n",
       "   'tzero': 0.0},\n",
       "  {'name': 'psf_size',\n",
       "   'tform': 'D',\n",
       "   'type': 82,\n",
       "   'repeat': 1,\n",
       "   'width': 8,\n",
       "   'eqtype': 82,\n",
       "   'tdim': [1],\n",
       "   'tscale': 1.0,\n",
       "   'tzero': 0.0},\n",
       "  {'name': 'mcal_psf_e1',\n",
       "   'tform': 'D',\n",
       "   'type': 82,\n",
       "   'repeat': 1,\n",
       "   'width': 8,\n",
       "   'eqtype': 82,\n",
       "   'tdim': [1],\n",
       "   'tscale': 1.0,\n",
       "   'tzero': 0.0},\n",
       "  {'name': 'mcal_psf_e2',\n",
       "   'tform': 'D',\n",
       "   'type': 82,\n",
       "   'repeat': 1,\n",
       "   'width': 8,\n",
       "   'eqtype': 82,\n",
       "   'tdim': [1],\n",
       "   'tscale': 1.0,\n",
       "   'tzero': 0.0},\n",
       "  {'name': 'mcal_psf_size',\n",
       "   'tform': 'D',\n",
       "   'type': 82,\n",
       "   'repeat': 1,\n",
       "   'width': 8,\n",
       "   'eqtype': 82,\n",
       "   'tdim': [1],\n",
       "   'tscale': 1.0,\n",
       "   'tzero': 0.0},\n",
       "  {'name': 'e1',\n",
       "   'tform': 'D',\n",
       "   'type': 82,\n",
       "   'repeat': 1,\n",
       "   'width': 8,\n",
       "   'eqtype': 82,\n",
       "   'tdim': [1],\n",
       "   'tscale': 1.0,\n",
       "   'tzero': 0.0},\n",
       "  {'name': 'e1_1p',\n",
       "   'tform': 'D',\n",
       "   'type': 82,\n",
       "   'repeat': 1,\n",
       "   'width': 8,\n",
       "   'eqtype': 82,\n",
       "   'tdim': [1],\n",
       "   'tscale': 1.0,\n",
       "   'tzero': 0.0},\n",
       "  {'name': 'e1_1m',\n",
       "   'tform': 'D',\n",
       "   'type': 82,\n",
       "   'repeat': 1,\n",
       "   'width': 8,\n",
       "   'eqtype': 82,\n",
       "   'tdim': [1],\n",
       "   'tscale': 1.0,\n",
       "   'tzero': 0.0},\n",
       "  {'name': 'e1_2p',\n",
       "   'tform': 'D',\n",
       "   'type': 82,\n",
       "   'repeat': 1,\n",
       "   'width': 8,\n",
       "   'eqtype': 82,\n",
       "   'tdim': [1],\n",
       "   'tscale': 1.0,\n",
       "   'tzero': 0.0},\n",
       "  {'name': 'e1_2m',\n",
       "   'tform': 'D',\n",
       "   'type': 82,\n",
       "   'repeat': 1,\n",
       "   'width': 8,\n",
       "   'eqtype': 82,\n",
       "   'tdim': [1],\n",
       "   'tscale': 1.0,\n",
       "   'tzero': 0.0},\n",
       "  {'name': 'e2',\n",
       "   'tform': 'D',\n",
       "   'type': 82,\n",
       "   'repeat': 1,\n",
       "   'width': 8,\n",
       "   'eqtype': 82,\n",
       "   'tdim': [1],\n",
       "   'tscale': 1.0,\n",
       "   'tzero': 0.0},\n",
       "  {'name': 'e2_1p',\n",
       "   'tform': 'D',\n",
       "   'type': 82,\n",
       "   'repeat': 1,\n",
       "   'width': 8,\n",
       "   'eqtype': 82,\n",
       "   'tdim': [1],\n",
       "   'tscale': 1.0,\n",
       "   'tzero': 0.0},\n",
       "  {'name': 'e2_1m',\n",
       "   'tform': 'D',\n",
       "   'type': 82,\n",
       "   'repeat': 1,\n",
       "   'width': 8,\n",
       "   'eqtype': 82,\n",
       "   'tdim': [1],\n",
       "   'tscale': 1.0,\n",
       "   'tzero': 0.0},\n",
       "  {'name': 'e2_2p',\n",
       "   'tform': 'D',\n",
       "   'type': 82,\n",
       "   'repeat': 1,\n",
       "   'width': 8,\n",
       "   'eqtype': 82,\n",
       "   'tdim': [1],\n",
       "   'tscale': 1.0,\n",
       "   'tzero': 0.0},\n",
       "  {'name': 'e2_2m',\n",
       "   'tform': 'D',\n",
       "   'type': 82,\n",
       "   'repeat': 1,\n",
       "   'width': 8,\n",
       "   'eqtype': 82,\n",
       "   'tdim': [1],\n",
       "   'tscale': 1.0,\n",
       "   'tzero': 0.0},\n",
       "  {'name': 'size',\n",
       "   'tform': 'D',\n",
       "   'type': 82,\n",
       "   'repeat': 1,\n",
       "   'width': 8,\n",
       "   'eqtype': 82,\n",
       "   'tdim': [1],\n",
       "   'tscale': 1.0,\n",
       "   'tzero': 0.0},\n",
       "  {'name': 'size_1p',\n",
       "   'tform': 'D',\n",
       "   'type': 82,\n",
       "   'repeat': 1,\n",
       "   'width': 8,\n",
       "   'eqtype': 82,\n",
       "   'tdim': [1],\n",
       "   'tscale': 1.0,\n",
       "   'tzero': 0.0},\n",
       "  {'name': 'size_1m',\n",
       "   'tform': 'D',\n",
       "   'type': 82,\n",
       "   'repeat': 1,\n",
       "   'width': 8,\n",
       "   'eqtype': 82,\n",
       "   'tdim': [1],\n",
       "   'tscale': 1.0,\n",
       "   'tzero': 0.0},\n",
       "  {'name': 'size_2p',\n",
       "   'tform': 'D',\n",
       "   'type': 82,\n",
       "   'repeat': 1,\n",
       "   'width': 8,\n",
       "   'eqtype': 82,\n",
       "   'tdim': [1],\n",
       "   'tscale': 1.0,\n",
       "   'tzero': 0.0},\n",
       "  {'name': 'size_2m',\n",
       "   'tform': 'D',\n",
       "   'type': 82,\n",
       "   'repeat': 1,\n",
       "   'width': 8,\n",
       "   'eqtype': 82,\n",
       "   'tdim': [1],\n",
       "   'tscale': 1.0,\n",
       "   'tzero': 0.0},\n",
       "  {'name': 'size_err',\n",
       "   'tform': 'D',\n",
       "   'type': 82,\n",
       "   'repeat': 1,\n",
       "   'width': 8,\n",
       "   'eqtype': 82,\n",
       "   'tdim': [1],\n",
       "   'tscale': 1.0,\n",
       "   'tzero': 0.0},\n",
       "  {'name': 'size_err_1p',\n",
       "   'tform': 'D',\n",
       "   'type': 82,\n",
       "   'repeat': 1,\n",
       "   'width': 8,\n",
       "   'eqtype': 82,\n",
       "   'tdim': [1],\n",
       "   'tscale': 1.0,\n",
       "   'tzero': 0.0},\n",
       "  {'name': 'size_err_1m',\n",
       "   'tform': 'D',\n",
       "   'type': 82,\n",
       "   'repeat': 1,\n",
       "   'width': 8,\n",
       "   'eqtype': 82,\n",
       "   'tdim': [1],\n",
       "   'tscale': 1.0,\n",
       "   'tzero': 0.0},\n",
       "  {'name': 'size_err_2p',\n",
       "   'tform': 'D',\n",
       "   'type': 82,\n",
       "   'repeat': 1,\n",
       "   'width': 8,\n",
       "   'eqtype': 82,\n",
       "   'tdim': [1],\n",
       "   'tscale': 1.0,\n",
       "   'tzero': 0.0},\n",
       "  {'name': 'size_err_2m',\n",
       "   'tform': 'D',\n",
       "   'type': 82,\n",
       "   'repeat': 1,\n",
       "   'width': 8,\n",
       "   'eqtype': 82,\n",
       "   'tdim': [1],\n",
       "   'tscale': 1.0,\n",
       "   'tzero': 0.0},\n",
       "  {'name': 'snr',\n",
       "   'tform': 'D',\n",
       "   'type': 82,\n",
       "   'repeat': 1,\n",
       "   'width': 8,\n",
       "   'eqtype': 82,\n",
       "   'tdim': [1],\n",
       "   'tscale': 1.0,\n",
       "   'tzero': 0.0},\n",
       "  {'name': 'snr_1p',\n",
       "   'tform': 'D',\n",
       "   'type': 82,\n",
       "   'repeat': 1,\n",
       "   'width': 8,\n",
       "   'eqtype': 82,\n",
       "   'tdim': [1],\n",
       "   'tscale': 1.0,\n",
       "   'tzero': 0.0},\n",
       "  {'name': 'snr_1m',\n",
       "   'tform': 'D',\n",
       "   'type': 82,\n",
       "   'repeat': 1,\n",
       "   'width': 8,\n",
       "   'eqtype': 82,\n",
       "   'tdim': [1],\n",
       "   'tscale': 1.0,\n",
       "   'tzero': 0.0},\n",
       "  {'name': 'snr_2p',\n",
       "   'tform': 'D',\n",
       "   'type': 82,\n",
       "   'repeat': 1,\n",
       "   'width': 8,\n",
       "   'eqtype': 82,\n",
       "   'tdim': [1],\n",
       "   'tscale': 1.0,\n",
       "   'tzero': 0.0},\n",
       "  {'name': 'snr_2m',\n",
       "   'tform': 'D',\n",
       "   'type': 82,\n",
       "   'repeat': 1,\n",
       "   'width': 8,\n",
       "   'eqtype': 82,\n",
       "   'tdim': [1],\n",
       "   'tscale': 1.0,\n",
       "   'tzero': 0.0},\n",
       "  {'name': 'covmat_0_0',\n",
       "   'tform': 'D',\n",
       "   'type': 82,\n",
       "   'repeat': 1,\n",
       "   'width': 8,\n",
       "   'eqtype': 82,\n",
       "   'tdim': [1],\n",
       "   'tscale': 1.0,\n",
       "   'tzero': 0.0},\n",
       "  {'name': 'covmat_0_0_1p',\n",
       "   'tform': 'D',\n",
       "   'type': 82,\n",
       "   'repeat': 1,\n",
       "   'width': 8,\n",
       "   'eqtype': 82,\n",
       "   'tdim': [1],\n",
       "   'tscale': 1.0,\n",
       "   'tzero': 0.0},\n",
       "  {'name': 'covmat_0_0_1m',\n",
       "   'tform': 'D',\n",
       "   'type': 82,\n",
       "   'repeat': 1,\n",
       "   'width': 8,\n",
       "   'eqtype': 82,\n",
       "   'tdim': [1],\n",
       "   'tscale': 1.0,\n",
       "   'tzero': 0.0},\n",
       "  {'name': 'covmat_0_0_2p',\n",
       "   'tform': 'D',\n",
       "   'type': 82,\n",
       "   'repeat': 1,\n",
       "   'width': 8,\n",
       "   'eqtype': 82,\n",
       "   'tdim': [1],\n",
       "   'tscale': 1.0,\n",
       "   'tzero': 0.0},\n",
       "  {'name': 'covmat_0_0_2m',\n",
       "   'tform': 'D',\n",
       "   'type': 82,\n",
       "   'repeat': 1,\n",
       "   'width': 8,\n",
       "   'eqtype': 82,\n",
       "   'tdim': [1],\n",
       "   'tscale': 1.0,\n",
       "   'tzero': 0.0},\n",
       "  {'name': 'covmat_0_1',\n",
       "   'tform': 'D',\n",
       "   'type': 82,\n",
       "   'repeat': 1,\n",
       "   'width': 8,\n",
       "   'eqtype': 82,\n",
       "   'tdim': [1],\n",
       "   'tscale': 1.0,\n",
       "   'tzero': 0.0},\n",
       "  {'name': 'covmat_0_1_1p',\n",
       "   'tform': 'D',\n",
       "   'type': 82,\n",
       "   'repeat': 1,\n",
       "   'width': 8,\n",
       "   'eqtype': 82,\n",
       "   'tdim': [1],\n",
       "   'tscale': 1.0,\n",
       "   'tzero': 0.0},\n",
       "  {'name': 'covmat_0_1_1m',\n",
       "   'tform': 'D',\n",
       "   'type': 82,\n",
       "   'repeat': 1,\n",
       "   'width': 8,\n",
       "   'eqtype': 82,\n",
       "   'tdim': [1],\n",
       "   'tscale': 1.0,\n",
       "   'tzero': 0.0},\n",
       "  {'name': 'covmat_0_1_2p',\n",
       "   'tform': 'D',\n",
       "   'type': 82,\n",
       "   'repeat': 1,\n",
       "   'width': 8,\n",
       "   'eqtype': 82,\n",
       "   'tdim': [1],\n",
       "   'tscale': 1.0,\n",
       "   'tzero': 0.0},\n",
       "  {'name': 'covmat_0_1_2m',\n",
       "   'tform': 'D',\n",
       "   'type': 82,\n",
       "   'repeat': 1,\n",
       "   'width': 8,\n",
       "   'eqtype': 82,\n",
       "   'tdim': [1],\n",
       "   'tscale': 1.0,\n",
       "   'tzero': 0.0},\n",
       "  {'name': 'covmat_1_1',\n",
       "   'tform': 'D',\n",
       "   'type': 82,\n",
       "   'repeat': 1,\n",
       "   'width': 8,\n",
       "   'eqtype': 82,\n",
       "   'tdim': [1],\n",
       "   'tscale': 1.0,\n",
       "   'tzero': 0.0},\n",
       "  {'name': 'covmat_1_1_1p',\n",
       "   'tform': 'D',\n",
       "   'type': 82,\n",
       "   'repeat': 1,\n",
       "   'width': 8,\n",
       "   'eqtype': 82,\n",
       "   'tdim': [1],\n",
       "   'tscale': 1.0,\n",
       "   'tzero': 0.0},\n",
       "  {'name': 'covmat_1_1_1m',\n",
       "   'tform': 'D',\n",
       "   'type': 82,\n",
       "   'repeat': 1,\n",
       "   'width': 8,\n",
       "   'eqtype': 82,\n",
       "   'tdim': [1],\n",
       "   'tscale': 1.0,\n",
       "   'tzero': 0.0},\n",
       "  {'name': 'covmat_1_1_2p',\n",
       "   'tform': 'D',\n",
       "   'type': 82,\n",
       "   'repeat': 1,\n",
       "   'width': 8,\n",
       "   'eqtype': 82,\n",
       "   'tdim': [1],\n",
       "   'tscale': 1.0,\n",
       "   'tzero': 0.0},\n",
       "  {'name': 'covmat_1_1_2m',\n",
       "   'tform': 'D',\n",
       "   'type': 82,\n",
       "   'repeat': 1,\n",
       "   'width': 8,\n",
       "   'eqtype': 82,\n",
       "   'tdim': [1],\n",
       "   'tscale': 1.0,\n",
       "   'tzero': 0.0},\n",
       "  {'name': 'flux_r',\n",
       "   'tform': 'D',\n",
       "   'type': 82,\n",
       "   'repeat': 1,\n",
       "   'width': 8,\n",
       "   'eqtype': 82,\n",
       "   'tdim': [1],\n",
       "   'tscale': 1.0,\n",
       "   'tzero': 0.0},\n",
       "  {'name': 'flux_r_1p',\n",
       "   'tform': 'D',\n",
       "   'type': 82,\n",
       "   'repeat': 1,\n",
       "   'width': 8,\n",
       "   'eqtype': 82,\n",
       "   'tdim': [1],\n",
       "   'tscale': 1.0,\n",
       "   'tzero': 0.0},\n",
       "  {'name': 'flux_r_1m',\n",
       "   'tform': 'D',\n",
       "   'type': 82,\n",
       "   'repeat': 1,\n",
       "   'width': 8,\n",
       "   'eqtype': 82,\n",
       "   'tdim': [1],\n",
       "   'tscale': 1.0,\n",
       "   'tzero': 0.0},\n",
       "  {'name': 'flux_r_2p',\n",
       "   'tform': 'D',\n",
       "   'type': 82,\n",
       "   'repeat': 1,\n",
       "   'width': 8,\n",
       "   'eqtype': 82,\n",
       "   'tdim': [1],\n",
       "   'tscale': 1.0,\n",
       "   'tzero': 0.0},\n",
       "  {'name': 'flux_r_2m',\n",
       "   'tform': 'D',\n",
       "   'type': 82,\n",
       "   'repeat': 1,\n",
       "   'width': 8,\n",
       "   'eqtype': 82,\n",
       "   'tdim': [1],\n",
       "   'tscale': 1.0,\n",
       "   'tzero': 0.0},\n",
       "  {'name': 'flux_err_r',\n",
       "   'tform': 'D',\n",
       "   'type': 82,\n",
       "   'repeat': 1,\n",
       "   'width': 8,\n",
       "   'eqtype': 82,\n",
       "   'tdim': [1],\n",
       "   'tscale': 1.0,\n",
       "   'tzero': 0.0},\n",
       "  {'name': 'flux_i',\n",
       "   'tform': 'D',\n",
       "   'type': 82,\n",
       "   'repeat': 1,\n",
       "   'width': 8,\n",
       "   'eqtype': 82,\n",
       "   'tdim': [1],\n",
       "   'tscale': 1.0,\n",
       "   'tzero': 0.0},\n",
       "  {'name': 'flux_i_1p',\n",
       "   'tform': 'D',\n",
       "   'type': 82,\n",
       "   'repeat': 1,\n",
       "   'width': 8,\n",
       "   'eqtype': 82,\n",
       "   'tdim': [1],\n",
       "   'tscale': 1.0,\n",
       "   'tzero': 0.0},\n",
       "  {'name': 'flux_i_1m',\n",
       "   'tform': 'D',\n",
       "   'type': 82,\n",
       "   'repeat': 1,\n",
       "   'width': 8,\n",
       "   'eqtype': 82,\n",
       "   'tdim': [1],\n",
       "   'tscale': 1.0,\n",
       "   'tzero': 0.0},\n",
       "  {'name': 'flux_i_2p',\n",
       "   'tform': 'D',\n",
       "   'type': 82,\n",
       "   'repeat': 1,\n",
       "   'width': 8,\n",
       "   'eqtype': 82,\n",
       "   'tdim': [1],\n",
       "   'tscale': 1.0,\n",
       "   'tzero': 0.0},\n",
       "  {'name': 'flux_i_2m',\n",
       "   'tform': 'D',\n",
       "   'type': 82,\n",
       "   'repeat': 1,\n",
       "   'width': 8,\n",
       "   'eqtype': 82,\n",
       "   'tdim': [1],\n",
       "   'tscale': 1.0,\n",
       "   'tzero': 0.0},\n",
       "  {'name': 'flux_err_i',\n",
       "   'tform': 'D',\n",
       "   'type': 82,\n",
       "   'repeat': 1,\n",
       "   'width': 8,\n",
       "   'eqtype': 82,\n",
       "   'tdim': [1],\n",
       "   'tscale': 1.0,\n",
       "   'tzero': 0.0},\n",
       "  {'name': 'flux_z',\n",
       "   'tform': 'D',\n",
       "   'type': 82,\n",
       "   'repeat': 1,\n",
       "   'width': 8,\n",
       "   'eqtype': 82,\n",
       "   'tdim': [1],\n",
       "   'tscale': 1.0,\n",
       "   'tzero': 0.0},\n",
       "  {'name': 'flux_z_1p',\n",
       "   'tform': 'D',\n",
       "   'type': 82,\n",
       "   'repeat': 1,\n",
       "   'width': 8,\n",
       "   'eqtype': 82,\n",
       "   'tdim': [1],\n",
       "   'tscale': 1.0,\n",
       "   'tzero': 0.0},\n",
       "  {'name': 'flux_z_1m',\n",
       "   'tform': 'D',\n",
       "   'type': 82,\n",
       "   'repeat': 1,\n",
       "   'width': 8,\n",
       "   'eqtype': 82,\n",
       "   'tdim': [1],\n",
       "   'tscale': 1.0,\n",
       "   'tzero': 0.0},\n",
       "  {'name': 'flux_z_2p',\n",
       "   'tform': 'D',\n",
       "   'type': 82,\n",
       "   'repeat': 1,\n",
       "   'width': 8,\n",
       "   'eqtype': 82,\n",
       "   'tdim': [1],\n",
       "   'tscale': 1.0,\n",
       "   'tzero': 0.0},\n",
       "  {'name': 'flux_z_2m',\n",
       "   'tform': 'D',\n",
       "   'type': 82,\n",
       "   'repeat': 1,\n",
       "   'width': 8,\n",
       "   'eqtype': 82,\n",
       "   'tdim': [1],\n",
       "   'tscale': 1.0,\n",
       "   'tzero': 0.0},\n",
       "  {'name': 'flux_err_z',\n",
       "   'tform': 'D',\n",
       "   'type': 82,\n",
       "   'repeat': 1,\n",
       "   'width': 8,\n",
       "   'eqtype': 82,\n",
       "   'tdim': [1],\n",
       "   'tscale': 1.0,\n",
       "   'tzero': 0.0},\n",
       "  {'name': 'R11',\n",
       "   'tform': 'D',\n",
       "   'type': 82,\n",
       "   'repeat': 1,\n",
       "   'width': 8,\n",
       "   'eqtype': 82,\n",
       "   'tdim': [1],\n",
       "   'tscale': 1.0,\n",
       "   'tzero': 0.0},\n",
       "  {'name': 'R12',\n",
       "   'tform': 'D',\n",
       "   'type': 82,\n",
       "   'repeat': 1,\n",
       "   'width': 8,\n",
       "   'eqtype': 82,\n",
       "   'tdim': [1],\n",
       "   'tscale': 1.0,\n",
       "   'tzero': 0.0},\n",
       "  {'name': 'R21',\n",
       "   'tform': 'D',\n",
       "   'type': 82,\n",
       "   'repeat': 1,\n",
       "   'width': 8,\n",
       "   'eqtype': 82,\n",
       "   'tdim': [1],\n",
       "   'tscale': 1.0,\n",
       "   'tzero': 0.0},\n",
       "  {'name': 'R22',\n",
       "   'tform': 'D',\n",
       "   'type': 82,\n",
       "   'repeat': 1,\n",
       "   'width': 8,\n",
       "   'eqtype': 82,\n",
       "   'tdim': [1],\n",
       "   'tscale': 1.0,\n",
       "   'tzero': 0.0},\n",
       "  {'name': 'region',\n",
       "   'tform': 'I',\n",
       "   'type': 21,\n",
       "   'repeat': 1,\n",
       "   'width': 2,\n",
       "   'eqtype': 21,\n",
       "   'tdim': [1],\n",
       "   'tscale': 1.0,\n",
       "   'tzero': 0.0},\n",
       "  {'name': 'ra',\n",
       "   'tform': 'D',\n",
       "   'type': 82,\n",
       "   'repeat': 1,\n",
       "   'width': 8,\n",
       "   'eqtype': 82,\n",
       "   'tdim': [1],\n",
       "   'tscale': 1.0,\n",
       "   'tzero': 0.0},\n",
       "  {'name': 'dec',\n",
       "   'tform': 'D',\n",
       "   'type': 82,\n",
       "   'repeat': 1,\n",
       "   'width': 8,\n",
       "   'eqtype': 82,\n",
       "   'tdim': [1],\n",
       "   'tscale': 1.0,\n",
       "   'tzero': 0.0},\n",
       "  {'name': 'tilename',\n",
       "   'tform': '12A',\n",
       "   'type': 16,\n",
       "   'repeat': 12,\n",
       "   'width': 12,\n",
       "   'eqtype': 16,\n",
       "   'tdim': [12],\n",
       "   'tscale': 1.0,\n",
       "   'tzero': 0.0},\n",
       "  {'name': 'flags_select',\n",
       "   'tform': 'J',\n",
       "   'type': 41,\n",
       "   'repeat': 1,\n",
       "   'width': 4,\n",
       "   'eqtype': 41,\n",
       "   'tdim': [1],\n",
       "   'tscale': 1.0,\n",
       "   'tzero': 0.0},\n",
       "  {'name': 'flags_select_1p',\n",
       "   'tform': 'J',\n",
       "   'type': 41,\n",
       "   'repeat': 1,\n",
       "   'width': 4,\n",
       "   'eqtype': 41,\n",
       "   'tdim': [1],\n",
       "   'tscale': 1.0,\n",
       "   'tzero': 0.0},\n",
       "  {'name': 'flags_select_1m',\n",
       "   'tform': 'J',\n",
       "   'type': 41,\n",
       "   'repeat': 1,\n",
       "   'width': 4,\n",
       "   'eqtype': 41,\n",
       "   'tdim': [1],\n",
       "   'tscale': 1.0,\n",
       "   'tzero': 0.0},\n",
       "  {'name': 'flags_select_2p',\n",
       "   'tform': 'J',\n",
       "   'type': 41,\n",
       "   'repeat': 1,\n",
       "   'width': 4,\n",
       "   'eqtype': 41,\n",
       "   'tdim': [1],\n",
       "   'tscale': 1.0,\n",
       "   'tzero': 0.0},\n",
       "  {'name': 'flags_select_2m',\n",
       "   'tform': 'J',\n",
       "   'type': 41,\n",
       "   'repeat': 1,\n",
       "   'width': 4,\n",
       "   'eqtype': 41,\n",
       "   'tdim': [1],\n",
       "   'tscale': 1.0,\n",
       "   'tzero': 0.0}]}"
      ]
     },
     "execution_count": 9,
     "metadata": {},
     "output_type": "execute_result"
    }
   ],
   "source": [
    "mcal.get_info()"
   ]
  },
  {
   "cell_type": "code",
   "execution_count": 10,
   "metadata": {
    "papermill": {
     "duration": 0.050957,
     "end_time": "2019-11-03T06:24:28.635586",
     "exception": false,
     "start_time": "2019-11-03T06:24:28.584629",
     "status": "completed"
    },
    "tags": []
   },
   "outputs": [],
   "source": [
    "problem_list =['MODEL_MAG', 'MODEL_MAGERR', 'MAG_LAMBDA_ERR', 'PZBINS',\n",
    "               'PZ', 'RA_CENT', 'DEC_CENT', 'ID_CENT', 'LAMBDA_CHISQ_CENT',\n",
    "               'ZLAMBDA_CENT', 'P_BCG', 'P_CEN', 'P_FG', 'P_SAT']"
   ]
  },
  {
   "cell_type": "code",
   "execution_count": 11,
   "metadata": {
    "papermill": {
     "duration": 0.053707,
     "end_time": "2019-11-03T06:24:28.725459",
     "exception": false,
     "start_time": "2019-11-03T06:24:28.671752",
     "status": "completed"
    },
    "tags": []
   },
   "outputs": [],
   "source": [
    "band_col_list = []\n",
    "pz_col_list = []\n",
    "alt_col_list =[]\n",
    "for problem in problem_list:\n",
    "    if cluster_table[problem].shape[1]==4:\n",
    "        band_col_list.append(problem)\n",
    "    elif cluster_table[problem].shape[1]==5:\n",
    "        alt_col_list.append(problem)\n",
    "    elif cluster_table[problem].shape[1]==21:\n",
    "        pz_col_list.append(problem)\n",
    "    else:\n",
    "        print (\"error\")"
   ]
  },
  {
   "cell_type": "code",
   "execution_count": 12,
   "metadata": {
    "papermill": {
     "duration": 0.052875,
     "end_time": "2019-11-03T06:24:28.814247",
     "exception": false,
     "start_time": "2019-11-03T06:24:28.761372",
     "status": "completed"
    },
    "tags": []
   },
   "outputs": [],
   "source": [
    "band_list=['g','r','i','z','Y']\n",
    "pz_index_list=['pz'+str(i+1) for i in range(21)]\n",
    "alt_index_list=['Alt'+str(i+1) for i in range(5)]"
   ]
  },
  {
   "cell_type": "code",
   "execution_count": 13,
   "metadata": {
    "papermill": {
     "duration": 0.059278,
     "end_time": "2019-11-03T06:24:28.907549",
     "exception": false,
     "start_time": "2019-11-03T06:24:28.848271",
     "status": "completed"
    },
    "tags": []
   },
   "outputs": [],
   "source": [
    "for j in range(4):\n",
    "    for i,column in enumerate(band_col_list):\n",
    "        cluster_table[str(('Band',band_list[j],column))]=cluster_table[column].data[:,j]\n",
    "cluster_table.remove_columns(band_col_list)"
   ]
  },
  {
   "cell_type": "code",
   "execution_count": 14,
   "metadata": {
    "papermill": {
     "duration": 0.097955,
     "end_time": "2019-11-03T06:24:29.042676",
     "exception": false,
     "start_time": "2019-11-03T06:24:28.944721",
     "status": "completed"
    },
    "tags": []
   },
   "outputs": [],
   "source": [
    "for i,column in enumerate(pz_col_list):\n",
    "    for j in range(21):\n",
    "        cluster_table[str(('PZ',pz_index_list[j],column))]=cluster_table[column].data[:,j]\n",
    "cluster_table.remove_columns(pz_col_list)"
   ]
  },
  {
   "cell_type": "code",
   "execution_count": 15,
   "metadata": {
    "papermill": {
     "duration": 0.111752,
     "end_time": "2019-11-03T06:24:29.194380",
     "exception": false,
     "start_time": "2019-11-03T06:24:29.082628",
     "status": "completed"
    },
    "tags": []
   },
   "outputs": [],
   "source": [
    "for i,column in enumerate(alt_col_list):\n",
    "    for j in range(5):\n",
    "        cluster_table[str(('Alt',alt_index_list[j],column))]=cluster_table[column].data[:,j]\n",
    "cluster_table.remove_columns(alt_col_list)"
   ]
  },
  {
   "cell_type": "code",
   "execution_count": 16,
   "metadata": {
    "papermill": {
     "duration": 0.13702,
     "end_time": "2019-11-03T06:24:29.379511",
     "exception": false,
     "start_time": "2019-11-03T06:24:29.242491",
     "status": "completed"
    },
    "tags": []
   },
   "outputs": [],
   "source": [
    "all_col_list=list(cluster_table.columns[0:54])\n",
    "for i,column in enumerate(all_col_list):\n",
    "    cluster_table[str(('All','All',column))]=cluster_table[column].data[:]\n",
    "cluster_table.remove_columns(all_col_list)"
   ]
  },
  {
   "cell_type": "code",
   "execution_count": 17,
   "metadata": {
    "papermill": {
     "duration": 0.726385,
     "end_time": "2019-11-03T06:24:30.144152",
     "exception": false,
     "start_time": "2019-11-03T06:24:29.417767",
     "status": "completed"
    },
    "tags": []
   },
   "outputs": [],
   "source": [
    "for j in range(4):\n",
    "    for i,column in enumerate(band_col_list[0:2]):\n",
    "        member_table['('+band_list[j]+','+column+')']=member_table[column].data[:,j]\n",
    "member_table.remove_columns(band_col_list[0:2]) "
   ]
  },
  {
   "cell_type": "code",
   "execution_count": 18,
   "metadata": {
    "papermill": {
     "duration": 8.233221,
     "end_time": "2019-11-03T06:24:38.414474",
     "exception": false,
     "start_time": "2019-11-03T06:24:30.181253",
     "status": "completed"
    },
    "tags": []
   },
   "outputs": [],
   "source": [
    "clusters=cluster_table.to_pandas()\n",
    "member=member_table.to_pandas()\n",
    "random=random_table.to_pandas()\n",
    "# center_table=None\n",
    "# member_table=None"
   ]
  },
  {
   "cell_type": "code",
   "execution_count": 19,
   "metadata": {
    "papermill": {
     "duration": 0.072213,
     "end_time": "2019-11-03T06:24:38.527789",
     "exception": false,
     "start_time": "2019-11-03T06:24:38.455576",
     "status": "completed"
    },
    "tags": []
   },
   "outputs": [],
   "source": [
    "member_cols = member.columns[0:22]\n",
    "shape_columns=pd.MultiIndex.from_product([['All'],list(mcal.get_colnames())],names=['Band','Data'])"
   ]
  },
  {
   "cell_type": "code",
   "execution_count": 20,
   "metadata": {
    "papermill": {
     "duration": 0.052136,
     "end_time": "2019-11-03T06:24:38.616747",
     "exception": false,
     "start_time": "2019-11-03T06:24:38.564611",
     "status": "completed"
    },
    "tags": []
   },
   "outputs": [],
   "source": [
    "center_bins=[m+str(n) for m,n in zip(['cen_']*5,np.arange(5)+1)]\n",
    "center=pd.MultiIndex.from_product([['Center'],center_bins,member_cols])"
   ]
  },
  {
   "cell_type": "code",
   "execution_count": 21,
   "metadata": {
    "papermill": {
     "duration": 0.056361,
     "end_time": "2019-11-03T06:24:38.709607",
     "exception": false,
     "start_time": "2019-11-03T06:24:38.653246",
     "status": "completed"
    },
    "tags": []
   },
   "outputs": [],
   "source": [
    "cluster_band_columns=pd.MultiIndex.from_product([['g','r','i','z'],\n",
    "                                       ['MODEL_MAG','MODEL_MAGERR','MAG_LAMBDA_ERR']],\n",
    "                                     names=['band','data'])"
   ]
  },
  {
   "cell_type": "code",
   "execution_count": 22,
   "metadata": {
    "papermill": {
     "duration": 0.051596,
     "end_time": "2019-11-03T06:24:38.804571",
     "exception": false,
     "start_time": "2019-11-03T06:24:38.752975",
     "status": "completed"
    },
    "tags": []
   },
   "outputs": [],
   "source": [
    "# alt_bins=[m+str(n) for m,n in zip(['alt_']*5,np.arange(5)+1)]\n",
    "# alt_columns=pd.MultiIndex.from_product([alt_bins,\n",
    "#                                        alt_col_list.append(shape_names)],\n",
    "#                                      names=['alt_index','data'])"
   ]
  },
  {
   "cell_type": "code",
   "execution_count": 23,
   "metadata": {
    "papermill": {
     "duration": 0.047963,
     "end_time": "2019-11-03T06:24:38.890886",
     "exception": false,
     "start_time": "2019-11-03T06:24:38.842923",
     "status": "completed"
    },
    "tags": []
   },
   "outputs": [],
   "source": [
    "member_band_columns=pd.MultiIndex.from_product([['g','r','i','z'],\n",
    "                                       ['MODEL_MAG','MODEL_MAGERR',]],\n",
    "                                     names=['Band','Data'])"
   ]
  },
  {
   "cell_type": "code",
   "execution_count": 24,
   "metadata": {
    "papermill": {
     "duration": 0.061913,
     "end_time": "2019-11-03T06:24:38.996192",
     "exception": false,
     "start_time": "2019-11-03T06:24:38.934279",
     "status": "completed"
    },
    "tags": []
   },
   "outputs": [],
   "source": [
    "shape_index=pd.MultiIndex.from_tuples([('MEM_MATCH_ID','TYPE')],names=['ClusterID','Type'])"
   ]
  },
  {
   "cell_type": "code",
   "execution_count": 25,
   "metadata": {
    "papermill": {
     "duration": 0.06291,
     "end_time": "2019-11-03T06:24:39.101609",
     "exception": false,
     "start_time": "2019-11-03T06:24:39.038699",
     "status": "completed"
    },
    "tags": []
   },
   "outputs": [],
   "source": [
    "random_columns=pd.MultiIndex.from_product([['All'],['RA', 'DEC', 'Z', 'LAMBDA_IN', 'AVG_LAMBDAOUT', 'SIGMA_LAMBDAOUT', 'WEIGHT']],\n",
    "                                       names=['Band','Data'])"
   ]
  },
  {
   "cell_type": "code",
   "execution_count": 26,
   "metadata": {
    "papermill": {
     "duration": 0.057852,
     "end_time": "2019-11-03T06:24:39.204775",
     "exception": false,
     "start_time": "2019-11-03T06:24:39.146923",
     "status": "completed"
    },
    "tags": []
   },
   "outputs": [],
   "source": [
    "random.columns=random_columns"
   ]
  },
  {
   "cell_type": "code",
   "execution_count": 27,
   "metadata": {
    "papermill": {
     "duration": 0.051915,
     "end_time": "2019-11-03T06:24:39.299259",
     "exception": false,
     "start_time": "2019-11-03T06:24:39.247344",
     "status": "completed"
    },
    "tags": []
   },
   "outputs": [],
   "source": [
    "member_id=member['ID'].values"
   ]
  },
  {
   "cell_type": "code",
   "execution_count": 28,
   "metadata": {
    "papermill": {
     "duration": 0.049064,
     "end_time": "2019-11-03T06:24:39.389797",
     "exception": false,
     "start_time": "2019-11-03T06:24:39.340733",
     "status": "completed"
    },
    "tags": []
   },
   "outputs": [],
   "source": [
    "# for id in member_id:\n",
    "#     mask = pd.Series(shape_id)==id"
   ]
  },
  {
   "cell_type": "code",
   "execution_count": 29,
   "metadata": {
    "papermill": {
     "duration": 0.054083,
     "end_time": "2019-11-03T06:24:39.486761",
     "exception": false,
     "start_time": "2019-11-03T06:24:39.432678",
     "status": "completed"
    },
    "tags": []
   },
   "outputs": [],
   "source": [
    "shape_id_series = pd.Series(shape_id)"
   ]
  },
  {
   "cell_type": "code",
   "execution_count": 30,
   "metadata": {
    "papermill": {
     "duration": 0.055308,
     "end_time": "2019-11-03T06:24:39.579848",
     "exception": false,
     "start_time": "2019-11-03T06:24:39.524540",
     "status": "completed"
    },
    "tags": []
   },
   "outputs": [],
   "source": [
    "def sort2n(x,y):\n",
    "    \"\"\"\n",
    "    Sorts and matches two arrays of object ids where x is unique and y is not (in DES this is coadd_objects_id).\n",
    "    Slower than sort2().\n",
    "    \"\"\"\n",
    "    \n",
    "    xsort = np.argsort(x)\n",
    "    ysort = np.argsort(y)\n",
    "    i_yx = np.sort(y[np.in1d(y, x, assume_unique=False)])\n",
    "    i_x = xsort[x[xsort].searchsorted(i_yx)]\n",
    "    i_y = ysort[y[ysort].searchsorted(i_yx)]\n",
    "    \n",
    "    return i_x, i_y"
   ]
  },
  {
   "cell_type": "code",
   "execution_count": 31,
   "metadata": {
    "papermill": {
     "duration": 40.329422,
     "end_time": "2019-11-03T06:25:19.946309",
     "exception": false,
     "start_time": "2019-11-03T06:24:39.616887",
     "status": "completed"
    },
    "tags": []
   },
   "outputs": [],
   "source": [
    "s2n_index=sort2n(shape_id,member_id)"
   ]
  },
  {
   "cell_type": "code",
   "execution_count": 32,
   "metadata": {
    "papermill": {
     "duration": 0.054738,
     "end_time": "2019-11-03T06:25:20.039339",
     "exception": false,
     "start_time": "2019-11-03T06:25:19.984601",
     "status": "completed"
    },
    "tags": []
   },
   "outputs": [
    {
     "name": "stdout",
     "output_type": "stream",
     "text": [
      "The members that does not have shape measurement:63843\n"
     ]
    }
   ],
   "source": [
    "print(\"The members that does not have shape measurement:{}\".format(len(member_id)-len(s2n_index[1])))"
   ]
  },
  {
   "cell_type": "code",
   "execution_count": 33,
   "metadata": {
    "papermill": {
     "duration": 212.565483,
     "end_time": "2019-11-03T06:28:52.640183",
     "exception": false,
     "start_time": "2019-11-03T06:25:20.074700",
     "status": "completed"
    },
    "tags": []
   },
   "outputs": [],
   "source": [
    "shape_half=pd.DataFrame(mcal.read(rows=[s2n_index[0]]).byteswap().newbyteorder())"
   ]
  },
  {
   "cell_type": "code",
   "execution_count": 34,
   "metadata": {
    "papermill": {
     "duration": 5.393086,
     "end_time": "2019-11-03T06:28:58.073847",
     "exception": false,
     "start_time": "2019-11-03T06:28:52.680761",
     "status": "completed"
    },
    "tags": []
   },
   "outputs": [],
   "source": [
    "member_half=member.iloc[s2n_index[1]]"
   ]
  },
  {
   "cell_type": "code",
   "execution_count": 35,
   "metadata": {
    "papermill": {
     "duration": 0.062764,
     "end_time": "2019-11-03T06:28:58.204628",
     "exception": false,
     "start_time": "2019-11-03T06:28:58.141864",
     "status": "completed"
    },
    "tags": []
   },
   "outputs": [],
   "source": [
    "if vol==\"uber\":\n",
    "    member_half_index=pd.MultiIndex.from_tuples(list(zip(['All']*21,member_half.columns[0:21]))+list(member_band_columns),names=['Band','Data']) \n",
    "else:\n",
    "    member_half_index=pd.MultiIndex.from_tuples(list(zip(['All']*23,member_half.columns[0:23]))+list(member_band_columns),names=['Band','Data']) "
   ]
  },
  {
   "cell_type": "code",
   "execution_count": 36,
   "metadata": {
    "papermill": {
     "duration": 0.079739,
     "end_time": "2019-11-03T06:28:58.319760",
     "exception": false,
     "start_time": "2019-11-03T06:28:58.240021",
     "status": "completed"
    },
    "tags": []
   },
   "outputs": [],
   "source": [
    "shape_half.columns=shape_columns\n",
    "member_half.columns=member_half_index\n",
    "shape_half.set_index(('All','coadd_objects_id'),inplace=True)\n",
    "member_half.set_index(('All','ID'),inplace=True)"
   ]
  },
  {
   "cell_type": "code",
   "execution_count": 37,
   "metadata": {
    "papermill": {
     "duration": 34.445813,
     "end_time": "2019-11-03T06:29:32.806480",
     "exception": false,
     "start_time": "2019-11-03T06:28:58.360667",
     "status": "completed"
    },
    "tags": []
   },
   "outputs": [],
   "source": [
    "shapes=pd.concat([member_half,shape_half],axis=1,verify_integrity=True)\n",
    "shapes.index.name=\"ID\""
   ]
  },
  {
   "cell_type": "markdown",
   "metadata": {
    "papermill": {
     "duration": 0.036269,
     "end_time": "2019-11-03T06:29:32.887873",
     "exception": false,
     "start_time": "2019-11-03T06:29:32.851604",
     "status": "completed"
    },
    "tags": []
   },
   "source": [
    "# im3 e correction"
   ]
  },
  {
   "cell_type": "code",
   "execution_count": 38,
   "metadata": {
    "papermill": {
     "duration": 0.053271,
     "end_time": "2019-11-03T06:29:32.977190",
     "exception": false,
     "start_time": "2019-11-03T06:29:32.923919",
     "status": "completed"
    },
    "tags": []
   },
   "outputs": [],
   "source": [
    "if shape_cat == \"im3\":\n",
    "    shapes[('All','e1_old')]=shapes[('All','e1')]\n",
    "    shapes[('All','e2_old')]=shapes[('All','e2')]\n",
    "    shapes[('All','e1')]=shapes.apply(lambda x:x[('All','e1')]-x[('All','c1')],axis=1)\n",
    "    shapes[('All','e2')]=shapes.apply(lambda x:x[('All','e2')]-x[('All','c2')],axis=1)"
   ]
  },
  {
   "cell_type": "code",
   "execution_count": 39,
   "metadata": {
    "papermill": {
     "duration": 0.059091,
     "end_time": "2019-11-03T06:29:33.079707",
     "exception": false,
     "start_time": "2019-11-03T06:29:33.020616",
     "status": "completed"
    },
    "tags": []
   },
   "outputs": [],
   "source": [
    "cluster_col_list=[ast.literal_eval(name) for i,name in enumerate(clusters.columns)]\n",
    "cluster_col=pd.MultiIndex.from_tuples(cluster_col_list, names=['Type','Kind','Data'])"
   ]
  },
  {
   "cell_type": "code",
   "execution_count": 40,
   "metadata": {
    "papermill": {
     "duration": 0.054809,
     "end_time": "2019-11-03T06:29:33.178122",
     "exception": false,
     "start_time": "2019-11-03T06:29:33.123313",
     "status": "completed"
    },
    "tags": []
   },
   "outputs": [],
   "source": [
    "clusters.columns=cluster_col\n",
    "clusters.set_index(('All', 'All', 'MEM_MATCH_ID'),inplace=True);"
   ]
  },
  {
   "cell_type": "markdown",
   "metadata": {
    "papermill": {
     "duration": 0.035348,
     "end_time": "2019-11-03T06:29:33.248423",
     "exception": false,
     "start_time": "2019-11-03T06:29:33.213075",
     "status": "completed"
    },
    "tags": []
   },
   "source": [
    "# Add PP"
   ]
  },
  {
   "cell_type": "code",
   "execution_count": 41,
   "metadata": {
    "papermill": {
     "duration": 0.228376,
     "end_time": "2019-11-03T06:29:33.513583",
     "exception": false,
     "start_time": "2019-11-03T06:29:33.285207",
     "status": "completed"
    },
    "tags": []
   },
   "outputs": [
    {
     "name": "stdout",
     "output_type": "stream",
     "text": [
      "Added PP column.\n"
     ]
    }
   ],
   "source": [
    "shapes[('All','PP')]=shapes[('All','P')]*shapes[('All','PFREE')]\n",
    "print (\"Added PP column.\")"
   ]
  },
  {
   "cell_type": "markdown",
   "metadata": {
    "papermill": {
     "duration": 0.036569,
     "end_time": "2019-11-03T06:29:33.590944",
     "exception": false,
     "start_time": "2019-11-03T06:29:33.554375",
     "status": "completed"
    },
    "tags": []
   },
   "source": [
    "# Shape and PP masking"
   ]
  },
  {
   "cell_type": "code",
   "execution_count": 42,
   "metadata": {
    "papermill": {
     "duration": 34.297777,
     "end_time": "2019-11-03T06:30:07.925336",
     "exception": false,
     "start_time": "2019-11-03T06:29:33.627559",
     "status": "completed"
    },
    "tags": []
   },
   "outputs": [
    {
     "name": "stdout",
     "output_type": "stream",
     "text": [
      "Members before flag_select mask:  15022533\n"
     ]
    },
    {
     "name": "stdout",
     "output_type": "stream",
     "text": [
      "Members after flag_select mask:  8865921\n"
     ]
    }
   ],
   "source": [
    "print(\"Members before flag_select mask: \",len(shapes))\n",
    "shapes=shapes[shapes[('All', 'flags_select')]==0]\n",
    "print(\"Members after flag_select mask: \",len(shapes))"
   ]
  },
  {
   "cell_type": "code",
   "execution_count": 43,
   "metadata": {
    "papermill": {
     "duration": 0.055027,
     "end_time": "2019-11-03T06:30:08.041746",
     "exception": false,
     "start_time": "2019-11-03T06:30:07.986719",
     "status": "completed"
    },
    "tags": []
   },
   "outputs": [],
   "source": [
    "if vol!=\"uber\":\n",
    "    print(\"Members before probability mask: \",len(shapes))\n",
    "    shapes=shapes[shapes[('All','PP')]>=0.55]\n",
    "    print(\"Members after probability mask: \",len(shapes))"
   ]
  },
  {
   "cell_type": "markdown",
   "metadata": {
    "papermill": {
     "duration": 0.034983,
     "end_time": "2019-11-03T06:30:08.119240",
     "exception": false,
     "start_time": "2019-11-03T06:30:08.084257",
     "status": "completed"
    },
    "tags": []
   },
   "source": [
    "# No center masking/ no cluster masking"
   ]
  },
  {
   "cell_type": "code",
   "execution_count": 44,
   "metadata": {
    "papermill": {
     "duration": 5.324752,
     "end_time": "2019-11-03T06:30:13.484461",
     "exception": false,
     "start_time": "2019-11-03T06:30:08.159709",
     "status": "completed"
    },
    "tags": []
   },
   "outputs": [
    {
     "name": "stdout",
     "output_type": "stream",
     "text": [
      "The number of clusters before masking 16966\n"
     ]
    },
    {
     "name": "stdout",
     "output_type": "stream",
     "text": [
      "The number of clusters with no center shape data 4467\n",
      "The number of clusters after masking 12499\n",
      "The number of members before masking:  8865921\n"
     ]
    },
    {
     "name": "stdout",
     "output_type": "stream",
     "text": [
      "The number of members without a cluster:  7784965\n"
     ]
    },
    {
     "name": "stdout",
     "output_type": "stream",
     "text": [
      "Number of galaxies after masking: 1080956\n"
     ]
    }
   ],
   "source": [
    "# Drop clusters with no center\n",
    "def drop_poor_centers(clusters_cat):\n",
    "    print(\"The number of clusters before masking\", len(clusters_cat))\n",
    "    center_id=clusters_cat[('Alt', 'Alt1', 'ID_CENT')]\n",
    "    shape_index=shapes.index\n",
    "    valid_clusters=np.isin(center_id,shape_index)\n",
    "    cluster_masked=clusters_cat[valid_clusters]\n",
    "    print(\"The number of clusters with no center shape data {}\".format(np.sum(~valid_clusters)))\n",
    "    print(\"The number of clusters after masking\", len(cluster_masked))\n",
    "    return(cluster_masked)\n",
    "\n",
    "clusters=drop_poor_centers(clusters)\n",
    "\n",
    "# Drop members with no cluster\n",
    "def drop_poor_members(clusters_cat,shapes_cat):\n",
    "    print(\"The number of members before masking: \",len(shapes_cat))\n",
    "    valid_clusters_id=clusters_cat.index.to_numpy()\n",
    "    shapes_match_id=shapes_cat[('All','MEM_MATCH_ID')].to_numpy()\n",
    "    valid_members=np.isin(shapes_match_id,valid_clusters_id)\n",
    "    print(\"The number of members without a cluster: \",np.sum(~valid_members))\n",
    "    members_masked=shapes_cat[valid_members]\n",
    "    print(\"Number of galaxies after masking: {}\".format(len(members_masked)))\n",
    "    return(members_masked)\n",
    "    \n",
    "shapes=drop_poor_members(clusters,shapes)"
   ]
  },
  {
   "cell_type": "code",
   "execution_count": 45,
   "metadata": {
    "papermill": {
     "duration": 1.268052,
     "end_time": "2019-11-03T06:30:14.808554",
     "exception": false,
     "start_time": "2019-11-03T06:30:13.540502",
     "status": "completed"
    },
    "tags": []
   },
   "outputs": [
    {
     "name": "stdout",
     "output_type": "stream",
     "text": [
      "The number of clusters before masking 12499\n",
      "The number of clusters with no center shape data 27\n",
      "The number of clusters after masking 12472\n",
      "The number of members before masking:  1080956\n"
     ]
    },
    {
     "name": "stdout",
     "output_type": "stream",
     "text": [
      "The number of members without a cluster:  1712\n"
     ]
    },
    {
     "name": "stdout",
     "output_type": "stream",
     "text": [
      "Number of galaxies after masking: 1079244\n"
     ]
    }
   ],
   "source": [
    "clusters=drop_poor_centers(clusters)\n",
    "shapes=drop_poor_members(clusters,shapes)"
   ]
  },
  {
   "cell_type": "markdown",
   "metadata": {
    "papermill": {
     "duration": 0.038654,
     "end_time": "2019-11-03T06:30:14.886726",
     "exception": false,
     "start_time": "2019-11-03T06:30:14.848072",
     "status": "completed"
    },
    "tags": []
   },
   "source": [
    "# $N_{eff}$"
   ]
  },
  {
   "cell_type": "code",
   "execution_count": 46,
   "metadata": {
    "papermill": {
     "duration": 0.062517,
     "end_time": "2019-11-03T06:30:14.987335",
     "exception": false,
     "start_time": "2019-11-03T06:30:14.924818",
     "status": "completed"
    },
    "tags": []
   },
   "outputs": [
    {
     "data": {
      "text/plain": [
       "489344.38"
      ]
     },
     "execution_count": 46,
     "metadata": {},
     "output_type": "execute_result"
    }
   ],
   "source": [
    "shapes[('All','PP')].sum()"
   ]
  },
  {
   "cell_type": "markdown",
   "metadata": {
    "papermill": {
     "duration": 0.036955,
     "end_time": "2019-11-03T06:30:15.066293",
     "exception": false,
     "start_time": "2019-11-03T06:30:15.029338",
     "status": "completed"
    },
    "tags": []
   },
   "source": [
    "# Add theta"
   ]
  },
  {
   "cell_type": "code",
   "execution_count": 47,
   "metadata": {
    "papermill": {
     "duration": 0.058209,
     "end_time": "2019-11-03T06:30:15.161138",
     "exception": false,
     "start_time": "2019-11-03T06:30:15.102929",
     "status": "completed"
    },
    "tags": []
   },
   "outputs": [],
   "source": [
    "def get_theta_for_obj(obj1,obj2):\n",
    "    ra1,dec1=(obj1[('All', 'RA')],obj1[('All', 'DEC')])\n",
    "    ra2,dec2=(obj2[('All', 'RA')],obj2[('All', 'DEC')])\n",
    "    \n",
    "    \n",
    "    \n",
    "    c1=SkyCoord(ra1*u.deg,dec1*u.deg)\n",
    "    c2=SkyCoord(ra2*u.deg,dec2*u.deg)\n",
    "    \n",
    "    \n",
    "    return(90-c1.position_angle(c2).degree)"
   ]
  },
  {
   "cell_type": "code",
   "execution_count": 48,
   "metadata": {
    "papermill": {
     "duration": 0.050189,
     "end_time": "2019-11-03T06:30:15.250526",
     "exception": false,
     "start_time": "2019-11-03T06:30:15.200337",
     "status": "completed"
    },
    "tags": []
   },
   "outputs": [],
   "source": [
    "def get_rel_theta(member):\n",
    "    cluster=clusters.loc[member[('All','MEM_MATCH_ID')]]\n",
    "    centers=get_unique_center_for_cluster(cluster,member=0)\n",
    "    theta=get_theta_for_obj(centers,member)\n",
    "    return(theta)"
   ]
  },
  {
   "cell_type": "code",
   "execution_count": 49,
   "metadata": {
    "papermill": {
     "duration": 11155.075714,
     "end_time": "2019-11-03T09:36:10.365469",
     "exception": false,
     "start_time": "2019-11-03T06:30:15.289755",
     "status": "completed"
    },
    "tags": []
   },
   "outputs": [
    {
     "data": {
      "application/vnd.jupyter.widget-view+json": {
       "model_id": "09c1ca4c2c1b4188870389dc6b43ac2c",
       "version_major": 2,
       "version_minor": 0
      },
      "text/plain": [
       "HBox(children=(IntProgress(value=0, max=1079244), HTML(value='')))"
      ]
     },
     "metadata": {},
     "output_type": "display_data"
    }
   ],
   "source": [
    "shapes[('All','Theta_cen')]=shapes.progress_apply(lambda x:get_rel_theta(x),axis=1)"
   ]
  },
  {
   "cell_type": "code",
   "execution_count": 50,
   "metadata": {
    "papermill": {
     "duration": 161.959624,
     "end_time": "2019-11-03T09:38:52.375441",
     "exception": false,
     "start_time": "2019-11-03T09:36:10.415817",
     "status": "completed"
    },
    "tags": []
   },
   "outputs": [
    {
     "data": {
      "application/vnd.jupyter.widget-view+json": {
       "model_id": "1aebd19c5db54435920f58ace5ed0649",
       "version_major": 2,
       "version_minor": 0
      },
      "text/plain": [
       "HBox(children=(IntProgress(value=0, max=1079244), HTML(value='')))"
      ]
     },
     "metadata": {},
     "output_type": "display_data"
    },
    {
     "name": "stdout",
     "output_type": "stream",
     "text": [
      "\n"
     ]
    },
    {
     "data": {
      "application/vnd.jupyter.widget-view+json": {
       "model_id": "169b807561964c22a07fbb6908ff808d",
       "version_major": 2,
       "version_minor": 0
      },
      "text/plain": [
       "HBox(children=(IntProgress(value=0, max=1079244), HTML(value='')))"
      ]
     },
     "metadata": {},
     "output_type": "display_data"
    },
    {
     "name": "stdout",
     "output_type": "stream",
     "text": [
      "\n"
     ]
    },
    {
     "data": {
      "application/vnd.jupyter.widget-view+json": {
       "model_id": "7fed1514979447c8a142b900440c56cb",
       "version_major": 2,
       "version_minor": 0
      },
      "text/plain": [
       "HBox(children=(IntProgress(value=0, max=1079244), HTML(value='')))"
      ]
     },
     "metadata": {},
     "output_type": "display_data"
    },
    {
     "name": "stdout",
     "output_type": "stream",
     "text": [
      "\n"
     ]
    }
   ],
   "source": [
    "shapes[('All','Theta_cen')]=shapes.progress_apply(lambda x:360-x[('All','Theta_cen')] if x[('All','Theta_cen')]>=180 else x[('All','Theta_cen')],axis=1)\n",
    "shapes[('All','Theta_cen')]=shapes.progress_apply(lambda x:360+x[('All','Theta_cen')] if x[('All','Theta_cen')]<=-180 else x[('All','Theta_cen')],axis=1)\n",
    "shapes[('All','Theta_sat')]=shapes.progress_apply(lambda x:-(180-x[('All','Theta_cen')]) if x[('All','Theta_cen')]>=0 else (180+x[('All','Theta_cen')]),axis=1)"
   ]
  },
  {
   "cell_type": "markdown",
   "metadata": {
    "papermill": {
     "duration": 0.041866,
     "end_time": "2019-11-03T09:38:52.461454",
     "exception": false,
     "start_time": "2019-11-03T09:38:52.419588",
     "status": "completed"
    },
    "tags": []
   },
   "source": [
    "# Add $\\phi$"
   ]
  },
  {
   "cell_type": "code",
   "execution_count": 51,
   "metadata": {
    "papermill": {
     "duration": 0.057111,
     "end_time": "2019-11-03T09:38:52.559404",
     "exception": false,
     "start_time": "2019-11-03T09:38:52.502293",
     "status": "completed"
    },
    "tags": []
   },
   "outputs": [],
   "source": [
    "def get_pa_for_member(obj):\n",
    "    e1=obj['All']['e1']\n",
    "    e2=obj['All']['e2']\n",
    "    \n",
    "    alpha =0.5*np.arctan2(-e2,-e1)*180/np.pi\n",
    "    if alpha>=0:\n",
    "        alpha=(alpha-90)\n",
    "    elif alpha<0:\n",
    "        alpha=90+alpha\n",
    "    else:\n",
    "        raise \n",
    "    return(alpha)"
   ]
  },
  {
   "cell_type": "code",
   "execution_count": 52,
   "metadata": {
    "papermill": {
     "duration": 753.875762,
     "end_time": "2019-11-03T09:51:26.476129",
     "exception": false,
     "start_time": "2019-11-03T09:38:52.600367",
     "status": "completed"
    },
    "tags": []
   },
   "outputs": [
    {
     "data": {
      "application/vnd.jupyter.widget-view+json": {
       "model_id": "2701c4900a944fc6b908acb19c7429e4",
       "version_major": 2,
       "version_minor": 0
      },
      "text/plain": [
       "HBox(children=(IntProgress(value=0, max=1079244), HTML(value='')))"
      ]
     },
     "metadata": {},
     "output_type": "display_data"
    }
   ],
   "source": [
    "shapes[('All','alpha')]=shapes.progress_apply(lambda x:get_pa_for_member(x),axis=1)"
   ]
  },
  {
   "cell_type": "code",
   "execution_count": 53,
   "metadata": {
    "papermill": {
     "duration": 0.056293,
     "end_time": "2019-11-03T09:51:26.582615",
     "exception": false,
     "start_time": "2019-11-03T09:51:26.526322",
     "status": "completed"
    },
    "tags": []
   },
   "outputs": [],
   "source": [
    "error_list_phi=[]\n",
    "error_list_e=[]\n",
    "\n",
    "def get_phi_for_member(member):\n",
    "    \n",
    "    \"\"\"Input: cluster series\n",
    "        Output: an array of position angle weighted by PP\n",
    "        Record KeyError in an array (usually caused by uncomplete shape catalog).\n",
    "    \"\"\"\n",
    "    \n",
    "    cluster_id=member[('All','MEM_MATCH_ID')]\n",
    "    cluster=clusters.loc[cluster_id]\n",
    "    center_id=cluster[('Alt', 'Alt1', 'ID_CENT')]\n",
    "    center = get_unique_center_for_cluster(cluster)\n",
    "\n",
    "    pa=member[('All','alpha')]\n",
    "    theta=member[('All','Theta_sat')]\n",
    "    phi=(pa-theta)\n",
    "    #     print(center.index)\n",
    "    return(phi)    "
   ]
  },
  {
   "cell_type": "code",
   "execution_count": 54,
   "metadata": {
    "papermill": {
     "duration": 8481.344997,
     "end_time": "2019-11-03T12:12:47.968078",
     "exception": false,
     "start_time": "2019-11-03T09:51:26.623081",
     "status": "completed"
    },
    "tags": []
   },
   "outputs": [
    {
     "data": {
      "application/vnd.jupyter.widget-view+json": {
       "model_id": "2f5451ed82b64822b932a508d5ec3f11",
       "version_major": 2,
       "version_minor": 0
      },
      "text/plain": [
       "HBox(children=(IntProgress(value=0, max=1079244), HTML(value='')))"
      ]
     },
     "metadata": {},
     "output_type": "display_data"
    }
   ],
   "source": [
    "shapes[('All','phi')]=shapes.progress_apply(lambda x:get_phi_for_member(x),axis=1)"
   ]
  },
  {
   "cell_type": "code",
   "execution_count": 55,
   "metadata": {
    "papermill": {
     "duration": 0.053058,
     "end_time": "2019-11-03T12:12:48.068846",
     "exception": false,
     "start_time": "2019-11-03T12:12:48.015788",
     "status": "completed"
    },
    "tags": []
   },
   "outputs": [],
   "source": [
    "def process_phi(phi_1d):\n",
    "\n",
    "    phi_1d=np.where(phi_1d<=0,-phi_1d,phi_1d)\n",
    "    phi_1d=np.where(phi_1d>=180,phi_1d-180,phi_1d)\n",
    "    phi_1d=np.where(phi_1d>=90,180-phi_1d,phi_1d)\n",
    "\n",
    "    \n",
    "    return(phi_1d)"
   ]
  },
  {
   "cell_type": "code",
   "execution_count": 56,
   "metadata": {
    "papermill": {
     "duration": 0.094806,
     "end_time": "2019-11-03T12:12:48.205065",
     "exception": false,
     "start_time": "2019-11-03T12:12:48.110259",
     "status": "completed"
    },
    "tags": []
   },
   "outputs": [],
   "source": [
    "shapes[('All','phi')]=process_phi(shapes[('All','phi')])"
   ]
  },
  {
   "cell_type": "markdown",
   "metadata": {
    "papermill": {
     "duration": 0.043498,
     "end_time": "2019-11-03T12:12:48.294673",
     "exception": false,
     "start_time": "2019-11-03T12:12:48.251175",
     "status": "completed"
    },
    "tags": []
   },
   "source": [
    "# Add angR"
   ]
  },
  {
   "cell_type": "code",
   "execution_count": 57,
   "metadata": {
    "papermill": {
     "duration": 0.057133,
     "end_time": "2019-11-03T12:12:48.393226",
     "exception": false,
     "start_time": "2019-11-03T12:12:48.336093",
     "status": "completed"
    },
    "tags": []
   },
   "outputs": [],
   "source": [
    "H0=100 #km s-1 Mpc-1\n",
    "Om0=0.3\n",
    "Ode0=0.7\n",
    "lcdm=astropy.cosmology.FlatLambdaCDM(H0, Om0)"
   ]
  },
  {
   "cell_type": "code",
   "execution_count": 58,
   "metadata": {
    "papermill": {
     "duration": 752.394418,
     "end_time": "2019-11-03T12:25:20.834509",
     "exception": false,
     "start_time": "2019-11-03T12:12:48.440091",
     "status": "completed"
    },
    "tags": []
   },
   "outputs": [
    {
     "data": {
      "application/vnd.jupyter.widget-view+json": {
       "model_id": "ca1087a2a7bf4c1fa54734bfc2d08713",
       "version_major": 2,
       "version_minor": 0
      },
      "text/plain": [
       "HBox(children=(IntProgress(value=0, max=1079244), HTML(value='')))"
      ]
     },
     "metadata": {},
     "output_type": "display_data"
    },
    {
     "name": "stdout",
     "output_type": "stream",
     "text": [
      "\n"
     ]
    },
    {
     "data": {
      "application/vnd.jupyter.widget-view+json": {
       "model_id": "65f538aa75f34497b91cb77acc02a945",
       "version_major": 2,
       "version_minor": 0
      },
      "text/plain": [
       "HBox(children=(IntProgress(value=0, max=4014626), HTML(value='')))"
      ]
     },
     "metadata": {},
     "output_type": "display_data"
    }
   ],
   "source": [
    "shapes[('All','angR')]=shapes.progress_apply(lambda x:np.float(lcdm.angular_diameter_distance(x[('All','Z')])/u.Mpc),axis=1)\n",
    "random[('All','angR')]=random.progress_apply(lambda x:np.float(lcdm.angular_diameter_distance(x[('All','Z')])/u.Mpc),axis=1)"
   ]
  },
  {
   "cell_type": "markdown",
   "metadata": {
    "papermill": {
     "duration": 0.042508,
     "end_time": "2019-11-03T12:25:20.925373",
     "exception": false,
     "start_time": "2019-11-03T12:25:20.882865",
     "status": "completed"
    },
    "tags": []
   },
   "source": [
    "# Add e"
   ]
  },
  {
   "cell_type": "code",
   "execution_count": 59,
   "metadata": {
    "papermill": {
     "duration": 0.055133,
     "end_time": "2019-11-03T12:25:21.021694",
     "exception": false,
     "start_time": "2019-11-03T12:25:20.966561",
     "status": "completed"
    },
    "tags": []
   },
   "outputs": [],
   "source": [
    "def get_e(sat):\n",
    "    cluster_id=sat[('All','MEM_MATCH_ID')]\n",
    "    cluster=clusters.loc[cluster_id]\n",
    "    cen=get_unique_center_for_cluster(cluster)\n",
    "    \n",
    "    e=np.sqrt(sat[('All','e1')]**2+sat[('All','e2')]**2)\n",
    "    delta=get_theta_for_obj(cen,sat)\n",
    "    alpha=sat[('All','alpha')]\n",
    "    ep,ex=(e*np.cos(2*(delta-alpha)),e*np.sin(2*(delta-alpha)))\n",
    "    return(e,ep,ex)"
   ]
  },
  {
   "cell_type": "code",
   "execution_count": 60,
   "metadata": {
    "papermill": {
     "duration": 11390.195593,
     "end_time": "2019-11-03T15:35:11.259978",
     "exception": false,
     "start_time": "2019-11-03T12:25:21.064385",
     "status": "completed"
    },
    "tags": []
   },
   "outputs": [
    {
     "data": {
      "application/vnd.jupyter.widget-view+json": {
       "model_id": "22756b5a317640658f430fe062e3b7f0",
       "version_major": 2,
       "version_minor": 0
      },
      "text/plain": [
       "HBox(children=(IntProgress(value=0, max=1079244), HTML(value='')))"
      ]
     },
     "metadata": {},
     "output_type": "display_data"
    }
   ],
   "source": [
    "shapes[('All','preprocessed_e')]=shapes.progress_apply(lambda x:get_e(x),axis=1)"
   ]
  },
  {
   "cell_type": "code",
   "execution_count": 61,
   "metadata": {
    "papermill": {
     "duration": 0.8033,
     "end_time": "2019-11-03T15:35:12.108973",
     "exception": false,
     "start_time": "2019-11-03T15:35:11.305673",
     "status": "completed"
    },
    "tags": []
   },
   "outputs": [],
   "source": [
    "e_array=shapes[('All','preprocessed_e')].to_list()\n",
    "shapes[('All','e')]=np.array([e_ind[0] for e_ind in e_array])\n",
    "shapes[('All','ep')]=np.array([e_ind[1] for e_ind in e_array])\n",
    "shapes[('All','ex')]=np.array([e_ind[2] for e_ind in e_array])"
   ]
  },
  {
   "cell_type": "markdown",
   "metadata": {
    "papermill": {
     "duration": 0.043438,
     "end_time": "2019-11-03T15:35:12.196198",
     "exception": false,
     "start_time": "2019-11-03T15:35:12.152760",
     "status": "completed"
    },
    "tags": []
   },
   "source": [
    "# Calculate cluster elipticity"
   ]
  },
  {
   "cell_type": "code",
   "execution_count": 62,
   "metadata": {
    "papermill": {
     "duration": 0.057896,
     "end_time": "2019-11-03T15:35:12.294343",
     "exception": false,
     "start_time": "2019-11-03T15:35:12.236447",
     "status": "completed"
    },
    "tags": []
   },
   "outputs": [
    {
     "data": {
      "text/latex": [
       "$\\displaystyle M_{\\mathrm{xx}} \\equiv\\left\\langle\\frac{x^{2}}{r^{2}}\\right\\rangle=\\frac{\\sum_{i} p_{\\mathrm{mem}, i} \\frac{x_{i}^{2}}{r_{i}^{2}}}{\\sum_{i} p_{\\mathrm{mem}, i}}$"
      ],
      "text/plain": [
       "<IPython.core.display.Math object>"
      ]
     },
     "metadata": {},
     "output_type": "display_data"
    }
   ],
   "source": [
    "display(Math(r\"$M_{\\mathrm{xx}} \\equiv\\left\\langle\\frac{x^{2}}{r^{2}}\\right\\rangle=\\frac{\\sum_{i} p_{\\mathrm{mem}, i} \\frac{x_{i}^{2}}{r_{i}^{2}}}{\\sum_{i} p_{\\mathrm{mem}, i}}$\"))"
   ]
  },
  {
   "cell_type": "code",
   "execution_count": 63,
   "metadata": {
    "papermill": {
     "duration": 0.089085,
     "end_time": "2019-11-03T15:35:12.453276",
     "exception": false,
     "start_time": "2019-11-03T15:35:12.364191",
     "status": "completed"
    },
    "tags": []
   },
   "outputs": [],
   "source": [
    "def get_Q_U(cluster):\n",
    "    \n",
    "    mem_match_id=cluster.name\n",
    "    members=shapes[shapes['All','MEM_MATCH_ID']==mem_match_id]\n",
    "    \n",
    "    members=members[members[('All','PP')]>=0.2]\n",
    "    \n",
    "    def get_M_for_cluster():\n",
    "        p = members[('All','PP')]\n",
    "        r = members[('All','R')]\n",
    "        pa = members[('All','Theta_cen')]\n",
    "        x = r * np.cos(pa)\n",
    "        y = r * np.sin(pa)\n",
    "        \n",
    "        def mom_2(p,x,y,r):\n",
    "            return(np.sum(p*x*y/r**2)/np.sum(p))\n",
    "        \n",
    "        Mxx=mom_2(p,x,x,r)\n",
    "        Mxy=mom_2(p,x,y,r)\n",
    "        Myy=mom_2(p,y,y,r)\n",
    "        return(Mxx,Mxy,Myy)\n",
    "\n",
    "    Mxx,Mxy,Myy=get_M_for_cluster()\n",
    "    Q,U=Mxx-Myy,2*Mxy\n",
    "    \n",
    "    return (Q,U)\n",
    "\n",
    "\n",
    "def get_pa_from_Q_U(Q,U):\n",
    "    α =0.5*np.arctan2(U,Q)*180/np.pi\n",
    "    return(α)"
   ]
  },
  {
   "cell_type": "code",
   "execution_count": 64,
   "metadata": {
    "papermill": {
     "duration": 216.930249,
     "end_time": "2019-11-03T15:38:49.428885",
     "exception": false,
     "start_time": "2019-11-03T15:35:12.498636",
     "status": "completed"
    },
    "tags": []
   },
   "outputs": [
    {
     "data": {
      "application/vnd.jupyter.widget-view+json": {
       "model_id": "00aebd02869e41b99f799597e93bb307",
       "version_major": 2,
       "version_minor": 0
      },
      "text/plain": [
       "HBox(children=(IntProgress(value=0, max=12472), HTML(value='')))"
      ]
     },
     "metadata": {},
     "output_type": "display_data"
    },
    {
     "name": "stdout",
     "output_type": "stream",
     "text": [
      "\n"
     ]
    },
    {
     "data": {
      "application/vnd.jupyter.widget-view+json": {
       "model_id": "2fdf463373e343f8a3640ac5907333c1",
       "version_major": 2,
       "version_minor": 0
      },
      "text/plain": [
       "HBox(children=(IntProgress(value=0, max=12472), HTML(value='')))"
      ]
     },
     "metadata": {},
     "output_type": "display_data"
    },
    {
     "name": "stdout",
     "output_type": "stream",
     "text": [
      "\n"
     ]
    },
    {
     "data": {
      "application/vnd.jupyter.widget-view+json": {
       "model_id": "aaf48420e323409d9804f662bcee8566",
       "version_major": 2,
       "version_minor": 0
      },
      "text/plain": [
       "HBox(children=(IntProgress(value=0, max=12472), HTML(value='')))"
      ]
     },
     "metadata": {},
     "output_type": "display_data"
    },
    {
     "name": "stdout",
     "output_type": "stream",
     "text": [
      "\n"
     ]
    },
    {
     "data": {
      "application/vnd.jupyter.widget-view+json": {
       "model_id": "0e90ecba63554862b08bf707bf3a1a82",
       "version_major": 2,
       "version_minor": 0
      },
      "text/plain": [
       "HBox(children=(IntProgress(value=0, max=12472), HTML(value='')))"
      ]
     },
     "metadata": {},
     "output_type": "display_data"
    },
    {
     "name": "stdout",
     "output_type": "stream",
     "text": [
      "\n"
     ]
    }
   ],
   "source": [
    "clusters[('All','All','Q')]=clusters.progress_apply(lambda x:get_Q_U(x)[0],axis=1)\n",
    "clusters[('All','All','U')]=clusters.progress_apply(lambda x:get_Q_U(x)[1],axis=1)\n",
    "clusters[('All','All','Beta')]=clusters.progress_apply(lambda x:get_pa_from_Q_U(x[('All','All','Q')],x[('All','All','U')]),axis=1)\n",
    "clusters[('All','All','Ce')]=clusters.progress_apply(lambda x:np.sqrt(x[('All','All','U')]**2+x[('All','All','U')]**2),axis=1)"
   ]
  },
  {
   "cell_type": "code",
   "execution_count": 65,
   "metadata": {
    "papermill": {
     "duration": 0.064603,
     "end_time": "2019-11-03T15:38:49.538330",
     "exception": false,
     "start_time": "2019-11-03T15:38:49.473727",
     "status": "completed"
    },
    "tags": []
   },
   "outputs": [],
   "source": [
    "def get_normLR(shape):\n",
    "    cluster_id=shape[('All','MEM_MATCH_ID')]\n",
    "    LR = clusters.loc[cluster_id][('All','All','R_LAMBDA')]\n",
    "    angR=shape[('All','angR')]\n",
    "    normR=angR/LR\n",
    "    return(normR)"
   ]
  },
  {
   "cell_type": "code",
   "execution_count": 66,
   "metadata": {
    "papermill": {
     "duration": 429.349836,
     "end_time": "2019-11-03T15:45:58.933758",
     "exception": false,
     "start_time": "2019-11-03T15:38:49.583922",
     "status": "completed"
    },
    "tags": []
   },
   "outputs": [
    {
     "data": {
      "application/vnd.jupyter.widget-view+json": {
       "model_id": "ed452bab8f1b41cb821ce307eb7718ed",
       "version_major": 2,
       "version_minor": 0
      },
      "text/plain": [
       "HBox(children=(IntProgress(value=0, max=1079244), HTML(value='')))"
      ]
     },
     "metadata": {},
     "output_type": "display_data"
    },
    {
     "name": "stdout",
     "output_type": "stream",
     "text": [
      "\n"
     ]
    }
   ],
   "source": [
    "shapes[('All','normLR')]=shapes.progress_apply(lambda x:get_normLR(x),axis=1)"
   ]
  },
  {
   "cell_type": "code",
   "execution_count": 67,
   "metadata": {
    "papermill": {
     "duration": 0.063898,
     "end_time": "2019-11-03T15:45:59.044624",
     "exception": false,
     "start_time": "2019-11-03T15:45:58.980726",
     "status": "completed"
    },
    "tags": []
   },
   "outputs": [],
   "source": [
    "def add_r_lambda(shape):\n",
    "    cluster_id=shape[('All','MEM_MATCH_ID')]\n",
    "    LR = clusters.loc[cluster_id][('All','All','R_LAMBDA')]\n",
    "    return(LR)"
   ]
  },
  {
   "cell_type": "code",
   "execution_count": 68,
   "metadata": {
    "papermill": {
     "duration": 416.010621,
     "end_time": "2019-11-03T15:52:55.103164",
     "exception": false,
     "start_time": "2019-11-03T15:45:59.092543",
     "status": "completed"
    },
    "tags": []
   },
   "outputs": [
    {
     "data": {
      "application/vnd.jupyter.widget-view+json": {
       "model_id": "0ac4db4b10cc4ee1b1b1652713f51805",
       "version_major": 2,
       "version_minor": 0
      },
      "text/plain": [
       "HBox(children=(IntProgress(value=0, max=1079244), HTML(value='')))"
      ]
     },
     "metadata": {},
     "output_type": "display_data"
    },
    {
     "name": "stdout",
     "output_type": "stream",
     "text": [
      "\n"
     ]
    }
   ],
   "source": [
    "shapes[('All','R_LAMBDA')]=shapes.progress_apply(lambda x:add_r_lambda(x),axis=1)"
   ]
  },
  {
   "cell_type": "markdown",
   "metadata": {
    "papermill": {
     "duration": 0.047419,
     "end_time": "2019-11-03T15:52:55.200300",
     "exception": false,
     "start_time": "2019-11-03T15:52:55.152881",
     "status": "completed"
    },
    "tags": []
   },
   "source": [
    "# Save"
   ]
  },
  {
   "cell_type": "code",
   "execution_count": 69,
   "metadata": {
    "papermill": {
     "duration": 0.171808,
     "end_time": "2019-11-03T15:52:55.417542",
     "exception": false,
     "start_time": "2019-11-03T15:52:55.245734",
     "status": "completed"
    },
    "tags": []
   },
   "outputs": [],
   "source": [
    "clusters.to_pickle('/home/cz136/project/sa/data/{}/{}/clusters.pkl'.format(shape_cat,vol))"
   ]
  },
  {
   "cell_type": "code",
   "execution_count": 70,
   "metadata": {
    "papermill": {
     "duration": 23.3281,
     "end_time": "2019-11-03T15:53:18.794784",
     "exception": false,
     "start_time": "2019-11-03T15:52:55.466684",
     "status": "completed"
    },
    "tags": []
   },
   "outputs": [],
   "source": [
    "shapes.to_pickle('/home/cz136/project/sa/data/{}/{}/shapes.pkl'.format(shape_cat,vol))"
   ]
  },
  {
   "cell_type": "code",
   "execution_count": 71,
   "metadata": {
    "papermill": {
     "duration": 1.440135,
     "end_time": "2019-11-03T15:53:20.398054",
     "exception": false,
     "start_time": "2019-11-03T15:53:18.957919",
     "status": "completed"
    },
    "tags": []
   },
   "outputs": [],
   "source": [
    "random.to_pickle('/home/cz136/project/sa/data/{}/{}/random.pkl'.format(shape_cat,vol))"
   ]
  },
  {
   "cell_type": "markdown",
   "metadata": {
    "papermill": {
     "duration": 0.071123,
     "end_time": "2019-11-03T15:53:20.568962",
     "exception": false,
     "start_time": "2019-11-03T15:53:20.497839",
     "status": "completed"
    },
    "tags": []
   },
   "source": [
    "## z masking"
   ]
  },
  {
   "cell_type": "code",
   "execution_count": 72,
   "metadata": {
    "papermill": {
     "duration": 0.062189,
     "end_time": "2019-11-03T15:53:20.676681",
     "exception": false,
     "start_time": "2019-11-03T15:53:20.614492",
     "status": "completed"
    },
    "tags": []
   },
   "outputs": [],
   "source": [
    "def drop_shapes_wo_cluster(clusters,shapes):\n",
    "    valid_clusters_id=clusters.index.to_numpy()\n",
    "    shapes_match_id=shapes[('All','MEM_MATCH_ID')].to_numpy()\n",
    "    print(\"Number of galaxies before masking: {}\".format(len(shapes_match_id)))\n",
    "    valid_members=np.isin(shapes_match_id,valid_clusters_id)\n",
    "    shapes=shapes[valid_members]\n",
    "    return(shapes)"
   ]
  },
  {
   "cell_type": "code",
   "execution_count": 73,
   "metadata": {
    "papermill": {
     "duration": 0.069298,
     "end_time": "2019-11-03T15:53:20.795529",
     "exception": false,
     "start_time": "2019-11-03T15:53:20.726231",
     "status": "completed"
    },
    "tags": []
   },
   "outputs": [],
   "source": [
    "high_z=clusters[clusters['All','All','Z_LAMBDA']>=0.35]\n",
    "low_z=clusters[(clusters['All','All','Z_LAMBDA']<=0.35) & (clusters['All','All','Z_LAMBDA']>=0.1)]"
   ]
  },
  {
   "cell_type": "code",
   "execution_count": 74,
   "metadata": {
    "papermill": {
     "duration": 3.020071,
     "end_time": "2019-11-03T15:53:23.861053",
     "exception": false,
     "start_time": "2019-11-03T15:53:20.840982",
     "status": "completed"
    },
    "tags": []
   },
   "outputs": [
    {
     "name": "stdout",
     "output_type": "stream",
     "text": [
      "Number of galaxies before masking: 1079244\n"
     ]
    },
    {
     "name": "stdout",
     "output_type": "stream",
     "text": [
      "Number of galaxies before masking: 1079244\n"
     ]
    }
   ],
   "source": [
    "high_z_shapes=drop_shapes_wo_cluster(high_z,shapes)\n",
    "low_z_shapes=drop_shapes_wo_cluster(low_z,shapes)"
   ]
  },
  {
   "cell_type": "code",
   "execution_count": 75,
   "metadata": {
    "papermill": {
     "duration": 21.075515,
     "end_time": "2019-11-03T15:53:45.023906",
     "exception": false,
     "start_time": "2019-11-03T15:53:23.948391",
     "status": "completed"
    },
    "tags": []
   },
   "outputs": [],
   "source": [
    "high_z.to_pickle('/home/cz136/project/sa/data/{}/{}/clusters_high_z.pkl'.format(shape_cat,vol))\n",
    "low_z.to_pickle('/home/cz136/project/sa/data/{}/{}/clusters_low_z.pkl'.format(shape_cat,vol))\n",
    "high_z_shapes.to_pickle('/home/cz136/project/sa/data/{}/{}/shapes_high_z.pkl'.format(shape_cat,vol))\n",
    "low_z_shapes.to_pickle('/home/cz136/project/sa/data/{}/{}/shapes_low_z.pkl'.format(shape_cat,vol))"
   ]
  }
 ],
 "metadata": {
  "kernelspec": {
   "display_name": "Python 3",
   "language": "python",
   "name": "python3"
  },
  "language_info": {
   "codemirror_mode": {
    "name": "ipython",
    "version": 3
   },
   "file_extension": ".py",
   "mimetype": "text/x-python",
   "name": "python",
   "nbconvert_exporter": "python",
   "pygments_lexer": "ipython3",
   "version": "3.7.3"
  },
  "papermill": {
   "duration": 34322.66398,
   "end_time": "2019-11-03T15:53:49.011098",
   "environment_variables": {},
   "exception": null,
   "input_path": "/home/cz136/project/sa/lib/src/data_marshalling.ipynb",
   "output_path": "/home/cz136/project/sa/lib/output/data/mcal_uber.ipynb",
   "parameters": {
    "shape_cat": "mcal",
    "vol": "uber"
   },
   "start_time": "2019-11-03T06:21:46.347118",
   "version": "1.2.0"
  },
  "widgets": {
   "application/vnd.jupyter.widget-state+json": {
    "state": {
     "0089988fcd1748e7b97392df6acd8a5c": {
      "model_module": "@jupyter-widgets/controls",
      "model_module_version": "1.5.0",
      "model_name": "DescriptionStyleModel",
      "state": {
       "_model_module": "@jupyter-widgets/controls",
       "_model_module_version": "1.5.0",
       "_model_name": "DescriptionStyleModel",
       "_view_count": null,
       "_view_module": "@jupyter-widgets/base",
       "_view_module_version": "1.2.0",
       "_view_name": "StyleView",
       "description_width": ""
      }
     },
     "00aebd02869e41b99f799597e93bb307": {
      "model_module": "@jupyter-widgets/controls",
      "model_module_version": "1.5.0",
      "model_name": "HBoxModel",
      "state": {
       "_dom_classes": [],
       "_model_module": "@jupyter-widgets/controls",
       "_model_module_version": "1.5.0",
       "_model_name": "HBoxModel",
       "_view_count": null,
       "_view_module": "@jupyter-widgets/controls",
       "_view_module_version": "1.5.0",
       "_view_name": "HBoxView",
       "box_style": "",
       "children": [
        "IPY_MODEL_f01c9a71025e495c8d7b3f64f752ff75",
        "IPY_MODEL_7377142a048e44deb8f7e362d41e6cdf"
       ],
       "layout": "IPY_MODEL_af8c57c8794b4848a1f1718665e12051"
      }
     },
     "032e491c11f04e9ea3b93ae5a1582f61": {
      "model_module": "@jupyter-widgets/controls",
      "model_module_version": "1.5.0",
      "model_name": "HTMLModel",
      "state": {
       "_dom_classes": [],
       "_model_module": "@jupyter-widgets/controls",
       "_model_module_version": "1.5.0",
       "_model_name": "HTMLModel",
       "_view_count": null,
       "_view_module": "@jupyter-widgets/controls",
       "_view_module_version": "1.5.0",
       "_view_name": "HTMLView",
       "description": "",
       "description_tooltip": null,
       "layout": "IPY_MODEL_21931f68db4e43a4b3962bc3963a26b0",
       "placeholder": "​",
       "style": "IPY_MODEL_062d51360cab491fa17be9493f026a64",
       "value": " 1079244/1079244 [2:34:15&lt;00:00, 116.61it/s]"
      }
     },
     "062d51360cab491fa17be9493f026a64": {
      "model_module": "@jupyter-widgets/controls",
      "model_module_version": "1.5.0",
      "model_name": "DescriptionStyleModel",
      "state": {
       "_model_module": "@jupyter-widgets/controls",
       "_model_module_version": "1.5.0",
       "_model_name": "DescriptionStyleModel",
       "_view_count": null,
       "_view_module": "@jupyter-widgets/base",
       "_view_module_version": "1.2.0",
       "_view_name": "StyleView",
       "description_width": ""
      }
     },
     "0691a64e2eda4c9e9547d34871f6d4fb": {
      "model_module": "@jupyter-widgets/controls",
      "model_module_version": "1.5.0",
      "model_name": "IntProgressModel",
      "state": {
       "_dom_classes": [],
       "_model_module": "@jupyter-widgets/controls",
       "_model_module_version": "1.5.0",
       "_model_name": "IntProgressModel",
       "_view_count": null,
       "_view_module": "@jupyter-widgets/controls",
       "_view_module_version": "1.5.0",
       "_view_name": "ProgressView",
       "bar_style": "",
       "description": " 98%",
       "description_tooltip": null,
       "layout": "IPY_MODEL_c5e9ab3a2b854a4d870ef402d499814a",
       "max": 1079244,
       "min": 0,
       "orientation": "horizontal",
       "style": "IPY_MODEL_2bca9cff9cd544268ca4994f2e6232e7",
       "value": 1054683
      }
     },
     "08c232f5cc964bfbb4996c4b06978359": {
      "model_module": "@jupyter-widgets/controls",
      "model_module_version": "1.5.0",
      "model_name": "ProgressStyleModel",
      "state": {
       "_model_module": "@jupyter-widgets/controls",
       "_model_module_version": "1.5.0",
       "_model_name": "ProgressStyleModel",
       "_view_count": null,
       "_view_module": "@jupyter-widgets/base",
       "_view_module_version": "1.2.0",
       "_view_name": "StyleView",
       "bar_color": null,
       "description_width": "initial"
      }
     },
     "09c1ca4c2c1b4188870389dc6b43ac2c": {
      "model_module": "@jupyter-widgets/controls",
      "model_module_version": "1.5.0",
      "model_name": "HBoxModel",
      "state": {
       "_dom_classes": [],
       "_model_module": "@jupyter-widgets/controls",
       "_model_module_version": "1.5.0",
       "_model_name": "HBoxModel",
       "_view_count": null,
       "_view_module": "@jupyter-widgets/controls",
       "_view_module_version": "1.5.0",
       "_view_name": "HBoxView",
       "box_style": "",
       "children": [
        "IPY_MODEL_0691a64e2eda4c9e9547d34871f6d4fb",
        "IPY_MODEL_6181849c2cbf4f1fb5d24574811830c7"
       ],
       "layout": "IPY_MODEL_a09f04c3ba9e453382ba9f8133969e85"
      }
     },
     "0ac4db4b10cc4ee1b1b1652713f51805": {
      "model_module": "@jupyter-widgets/controls",
      "model_module_version": "1.5.0",
      "model_name": "HBoxModel",
      "state": {
       "_dom_classes": [],
       "_model_module": "@jupyter-widgets/controls",
       "_model_module_version": "1.5.0",
       "_model_name": "HBoxModel",
       "_view_count": null,
       "_view_module": "@jupyter-widgets/controls",
       "_view_module_version": "1.5.0",
       "_view_name": "HBoxView",
       "box_style": "",
       "children": [
        "IPY_MODEL_ce98286c157644e0928c81caa82a03d5",
        "IPY_MODEL_6ace4e35094649ab96931db54e7975dc"
       ],
       "layout": "IPY_MODEL_4bd0e8bed43e4e209683ee6afed10770"
      }
     },
     "0e90ecba63554862b08bf707bf3a1a82": {
      "model_module": "@jupyter-widgets/controls",
      "model_module_version": "1.5.0",
      "model_name": "HBoxModel",
      "state": {
       "_dom_classes": [],
       "_model_module": "@jupyter-widgets/controls",
       "_model_module_version": "1.5.0",
       "_model_name": "HBoxModel",
       "_view_count": null,
       "_view_module": "@jupyter-widgets/controls",
       "_view_module_version": "1.5.0",
       "_view_name": "HBoxView",
       "box_style": "",
       "children": [
        "IPY_MODEL_e6d6557dd80a4c28a1ea44ce34740765",
        "IPY_MODEL_b5292f0ec841437d97b89cc63a5d4b4f"
       ],
       "layout": "IPY_MODEL_9f82cac23a28492a8705b61e12484327"
      }
     },
     "124612df44e94ebab1291520011e86a8": {
      "model_module": "@jupyter-widgets/controls",
      "model_module_version": "1.5.0",
      "model_name": "DescriptionStyleModel",
      "state": {
       "_model_module": "@jupyter-widgets/controls",
       "_model_module_version": "1.5.0",
       "_model_name": "DescriptionStyleModel",
       "_view_count": null,
       "_view_module": "@jupyter-widgets/base",
       "_view_module_version": "1.2.0",
       "_view_name": "StyleView",
       "description_width": ""
      }
     },
     "14899f1719d1419d9edcebf971ecd51c": {
      "model_module": "@jupyter-widgets/controls",
      "model_module_version": "1.5.0",
      "model_name": "DescriptionStyleModel",
      "state": {
       "_model_module": "@jupyter-widgets/controls",
       "_model_module_version": "1.5.0",
       "_model_name": "DescriptionStyleModel",
       "_view_count": null,
       "_view_module": "@jupyter-widgets/base",
       "_view_module_version": "1.2.0",
       "_view_name": "StyleView",
       "description_width": ""
      }
     },
     "14ab62c1c3fb4d1cb8f207e58f2b11a2": {
      "model_module": "@jupyter-widgets/controls",
      "model_module_version": "1.5.0",
      "model_name": "ProgressStyleModel",
      "state": {
       "_model_module": "@jupyter-widgets/controls",
       "_model_module_version": "1.5.0",
       "_model_name": "ProgressStyleModel",
       "_view_count": null,
       "_view_module": "@jupyter-widgets/base",
       "_view_module_version": "1.2.0",
       "_view_name": "StyleView",
       "bar_color": null,
       "description_width": "initial"
      }
     },
     "169b807561964c22a07fbb6908ff808d": {
      "model_module": "@jupyter-widgets/controls",
      "model_module_version": "1.5.0",
      "model_name": "HBoxModel",
      "state": {
       "_dom_classes": [],
       "_model_module": "@jupyter-widgets/controls",
       "_model_module_version": "1.5.0",
       "_model_name": "HBoxModel",
       "_view_count": null,
       "_view_module": "@jupyter-widgets/controls",
       "_view_module_version": "1.5.0",
       "_view_name": "HBoxView",
       "box_style": "",
       "children": [
        "IPY_MODEL_bce091841ecc47acb5cced4b8d65c69f",
        "IPY_MODEL_b159557fbc114f709d5201fe0f6d5354"
       ],
       "layout": "IPY_MODEL_daf619a38a4644aeb1e2e4349ec3ae09"
      }
     },
     "17d883bb72924402bceca8d6df9e45c3": {
      "model_module": "@jupyter-widgets/base",
      "model_module_version": "1.2.0",
      "model_name": "LayoutModel",
      "state": {
       "_model_module": "@jupyter-widgets/base",
       "_model_module_version": "1.2.0",
       "_model_name": "LayoutModel",
       "_view_count": null,
       "_view_module": "@jupyter-widgets/base",
       "_view_module_version": "1.2.0",
       "_view_name": "LayoutView",
       "align_content": null,
       "align_items": null,
       "align_self": null,
       "border": null,
       "bottom": null,
       "display": null,
       "flex": null,
       "flex_flow": null,
       "grid_area": null,
       "grid_auto_columns": null,
       "grid_auto_flow": null,
       "grid_auto_rows": null,
       "grid_column": null,
       "grid_gap": null,
       "grid_row": null,
       "grid_template_areas": null,
       "grid_template_columns": null,
       "grid_template_rows": null,
       "height": null,
       "justify_content": null,
       "justify_items": null,
       "left": null,
       "margin": null,
       "max_height": null,
       "max_width": null,
       "min_height": null,
       "min_width": null,
       "object_fit": null,
       "object_position": null,
       "order": null,
       "overflow": null,
       "overflow_x": null,
       "overflow_y": null,
       "padding": null,
       "right": null,
       "top": null,
       "visibility": null,
       "width": null
      }
     },
     "1875e0c2fc7a4586a6a4d48187d38592": {
      "model_module": "@jupyter-widgets/base",
      "model_module_version": "1.2.0",
      "model_name": "LayoutModel",
      "state": {
       "_model_module": "@jupyter-widgets/base",
       "_model_module_version": "1.2.0",
       "_model_name": "LayoutModel",
       "_view_count": null,
       "_view_module": "@jupyter-widgets/base",
       "_view_module_version": "1.2.0",
       "_view_name": "LayoutView",
       "align_content": null,
       "align_items": null,
       "align_self": null,
       "border": null,
       "bottom": null,
       "display": null,
       "flex": null,
       "flex_flow": null,
       "grid_area": null,
       "grid_auto_columns": null,
       "grid_auto_flow": null,
       "grid_auto_rows": null,
       "grid_column": null,
       "grid_gap": null,
       "grid_row": null,
       "grid_template_areas": null,
       "grid_template_columns": null,
       "grid_template_rows": null,
       "height": null,
       "justify_content": null,
       "justify_items": null,
       "left": null,
       "margin": null,
       "max_height": null,
       "max_width": null,
       "min_height": null,
       "min_width": null,
       "object_fit": null,
       "object_position": null,
       "order": null,
       "overflow": null,
       "overflow_x": null,
       "overflow_y": null,
       "padding": null,
       "right": null,
       "top": null,
       "visibility": null,
       "width": null
      }
     },
     "1aa5fe70cd9746ebae2d98bb752dd028": {
      "model_module": "@jupyter-widgets/base",
      "model_module_version": "1.2.0",
      "model_name": "LayoutModel",
      "state": {
       "_model_module": "@jupyter-widgets/base",
       "_model_module_version": "1.2.0",
       "_model_name": "LayoutModel",
       "_view_count": null,
       "_view_module": "@jupyter-widgets/base",
       "_view_module_version": "1.2.0",
       "_view_name": "LayoutView",
       "align_content": null,
       "align_items": null,
       "align_self": null,
       "border": null,
       "bottom": null,
       "display": null,
       "flex": null,
       "flex_flow": null,
       "grid_area": null,
       "grid_auto_columns": null,
       "grid_auto_flow": null,
       "grid_auto_rows": null,
       "grid_column": null,
       "grid_gap": null,
       "grid_row": null,
       "grid_template_areas": null,
       "grid_template_columns": null,
       "grid_template_rows": null,
       "height": null,
       "justify_content": null,
       "justify_items": null,
       "left": null,
       "margin": null,
       "max_height": null,
       "max_width": null,
       "min_height": null,
       "min_width": null,
       "object_fit": null,
       "object_position": null,
       "order": null,
       "overflow": null,
       "overflow_x": null,
       "overflow_y": null,
       "padding": null,
       "right": null,
       "top": null,
       "visibility": null,
       "width": null
      }
     },
     "1aebd19c5db54435920f58ace5ed0649": {
      "model_module": "@jupyter-widgets/controls",
      "model_module_version": "1.5.0",
      "model_name": "HBoxModel",
      "state": {
       "_dom_classes": [],
       "_model_module": "@jupyter-widgets/controls",
       "_model_module_version": "1.5.0",
       "_model_name": "HBoxModel",
       "_view_count": null,
       "_view_module": "@jupyter-widgets/controls",
       "_view_module_version": "1.5.0",
       "_view_name": "HBoxView",
       "box_style": "",
       "children": [
        "IPY_MODEL_72f5138902eb42de883138fc41356fae",
        "IPY_MODEL_dda4e02b3972454ea0042aea861d3ad3"
       ],
       "layout": "IPY_MODEL_9027ea4b16794ac9b662575b299d4048"
      }
     },
     "1b22f89b3da74e119e1f329289028354": {
      "model_module": "@jupyter-widgets/controls",
      "model_module_version": "1.5.0",
      "model_name": "DescriptionStyleModel",
      "state": {
       "_model_module": "@jupyter-widgets/controls",
       "_model_module_version": "1.5.0",
       "_model_name": "DescriptionStyleModel",
       "_view_count": null,
       "_view_module": "@jupyter-widgets/base",
       "_view_module_version": "1.2.0",
       "_view_name": "StyleView",
       "description_width": ""
      }
     },
     "1c888496c0414ab1b0cefc8e1de06b52": {
      "model_module": "@jupyter-widgets/base",
      "model_module_version": "1.2.0",
      "model_name": "LayoutModel",
      "state": {
       "_model_module": "@jupyter-widgets/base",
       "_model_module_version": "1.2.0",
       "_model_name": "LayoutModel",
       "_view_count": null,
       "_view_module": "@jupyter-widgets/base",
       "_view_module_version": "1.2.0",
       "_view_name": "LayoutView",
       "align_content": null,
       "align_items": null,
       "align_self": null,
       "border": null,
       "bottom": null,
       "display": null,
       "flex": null,
       "flex_flow": null,
       "grid_area": null,
       "grid_auto_columns": null,
       "grid_auto_flow": null,
       "grid_auto_rows": null,
       "grid_column": null,
       "grid_gap": null,
       "grid_row": null,
       "grid_template_areas": null,
       "grid_template_columns": null,
       "grid_template_rows": null,
       "height": null,
       "justify_content": null,
       "justify_items": null,
       "left": null,
       "margin": null,
       "max_height": null,
       "max_width": null,
       "min_height": null,
       "min_width": null,
       "object_fit": null,
       "object_position": null,
       "order": null,
       "overflow": null,
       "overflow_x": null,
       "overflow_y": null,
       "padding": null,
       "right": null,
       "top": null,
       "visibility": null,
       "width": null
      }
     },
     "1cf28fc63f0a4fc2abbdd623567af889": {
      "model_module": "@jupyter-widgets/controls",
      "model_module_version": "1.5.0",
      "model_name": "ProgressStyleModel",
      "state": {
       "_model_module": "@jupyter-widgets/controls",
       "_model_module_version": "1.5.0",
       "_model_name": "ProgressStyleModel",
       "_view_count": null,
       "_view_module": "@jupyter-widgets/base",
       "_view_module_version": "1.2.0",
       "_view_name": "StyleView",
       "bar_color": null,
       "description_width": "initial"
      }
     },
     "1cf5a16895974a1e88f9d42d6fa4d681": {
      "model_module": "@jupyter-widgets/base",
      "model_module_version": "1.2.0",
      "model_name": "LayoutModel",
      "state": {
       "_model_module": "@jupyter-widgets/base",
       "_model_module_version": "1.2.0",
       "_model_name": "LayoutModel",
       "_view_count": null,
       "_view_module": "@jupyter-widgets/base",
       "_view_module_version": "1.2.0",
       "_view_name": "LayoutView",
       "align_content": null,
       "align_items": null,
       "align_self": null,
       "border": null,
       "bottom": null,
       "display": null,
       "flex": null,
       "flex_flow": null,
       "grid_area": null,
       "grid_auto_columns": null,
       "grid_auto_flow": null,
       "grid_auto_rows": null,
       "grid_column": null,
       "grid_gap": null,
       "grid_row": null,
       "grid_template_areas": null,
       "grid_template_columns": null,
       "grid_template_rows": null,
       "height": null,
       "justify_content": null,
       "justify_items": null,
       "left": null,
       "margin": null,
       "max_height": null,
       "max_width": null,
       "min_height": null,
       "min_width": null,
       "object_fit": null,
       "object_position": null,
       "order": null,
       "overflow": null,
       "overflow_x": null,
       "overflow_y": null,
       "padding": null,
       "right": null,
       "top": null,
       "visibility": null,
       "width": null
      }
     },
     "21931f68db4e43a4b3962bc3963a26b0": {
      "model_module": "@jupyter-widgets/base",
      "model_module_version": "1.2.0",
      "model_name": "LayoutModel",
      "state": {
       "_model_module": "@jupyter-widgets/base",
       "_model_module_version": "1.2.0",
       "_model_name": "LayoutModel",
       "_view_count": null,
       "_view_module": "@jupyter-widgets/base",
       "_view_module_version": "1.2.0",
       "_view_name": "LayoutView",
       "align_content": null,
       "align_items": null,
       "align_self": null,
       "border": null,
       "bottom": null,
       "display": null,
       "flex": null,
       "flex_flow": null,
       "grid_area": null,
       "grid_auto_columns": null,
       "grid_auto_flow": null,
       "grid_auto_rows": null,
       "grid_column": null,
       "grid_gap": null,
       "grid_row": null,
       "grid_template_areas": null,
       "grid_template_columns": null,
       "grid_template_rows": null,
       "height": null,
       "justify_content": null,
       "justify_items": null,
       "left": null,
       "margin": null,
       "max_height": null,
       "max_width": null,
       "min_height": null,
       "min_width": null,
       "object_fit": null,
       "object_position": null,
       "order": null,
       "overflow": null,
       "overflow_x": null,
       "overflow_y": null,
       "padding": null,
       "right": null,
       "top": null,
       "visibility": null,
       "width": null
      }
     },
     "226f68d0f9904bd5bc5b45f2fbc72c3d": {
      "model_module": "@jupyter-widgets/controls",
      "model_module_version": "1.5.0",
      "model_name": "DescriptionStyleModel",
      "state": {
       "_model_module": "@jupyter-widgets/controls",
       "_model_module_version": "1.5.0",
       "_model_name": "DescriptionStyleModel",
       "_view_count": null,
       "_view_module": "@jupyter-widgets/base",
       "_view_module_version": "1.2.0",
       "_view_name": "StyleView",
       "description_width": ""
      }
     },
     "22756b5a317640658f430fe062e3b7f0": {
      "model_module": "@jupyter-widgets/controls",
      "model_module_version": "1.5.0",
      "model_name": "HBoxModel",
      "state": {
       "_dom_classes": [],
       "_model_module": "@jupyter-widgets/controls",
       "_model_module_version": "1.5.0",
       "_model_name": "HBoxModel",
       "_view_count": null,
       "_view_module": "@jupyter-widgets/controls",
       "_view_module_version": "1.5.0",
       "_view_name": "HBoxView",
       "box_style": "",
       "children": [
        "IPY_MODEL_39a5260e00f249ab974c3b05b50b035e",
        "IPY_MODEL_f1e57852134a4d36a1cc772f1550bae3"
       ],
       "layout": "IPY_MODEL_7d5be522d6104083a0b667f56d0473d6"
      }
     },
     "24b50dd7190f498c996d0fec095c56dd": {
      "model_module": "@jupyter-widgets/base",
      "model_module_version": "1.2.0",
      "model_name": "LayoutModel",
      "state": {
       "_model_module": "@jupyter-widgets/base",
       "_model_module_version": "1.2.0",
       "_model_name": "LayoutModel",
       "_view_count": null,
       "_view_module": "@jupyter-widgets/base",
       "_view_module_version": "1.2.0",
       "_view_name": "LayoutView",
       "align_content": null,
       "align_items": null,
       "align_self": null,
       "border": null,
       "bottom": null,
       "display": null,
       "flex": null,
       "flex_flow": null,
       "grid_area": null,
       "grid_auto_columns": null,
       "grid_auto_flow": null,
       "grid_auto_rows": null,
       "grid_column": null,
       "grid_gap": null,
       "grid_row": null,
       "grid_template_areas": null,
       "grid_template_columns": null,
       "grid_template_rows": null,
       "height": null,
       "justify_content": null,
       "justify_items": null,
       "left": null,
       "margin": null,
       "max_height": null,
       "max_width": null,
       "min_height": null,
       "min_width": null,
       "object_fit": null,
       "object_position": null,
       "order": null,
       "overflow": null,
       "overflow_x": null,
       "overflow_y": null,
       "padding": null,
       "right": null,
       "top": null,
       "visibility": null,
       "width": null
      }
     },
     "2701c4900a944fc6b908acb19c7429e4": {
      "model_module": "@jupyter-widgets/controls",
      "model_module_version": "1.5.0",
      "model_name": "HBoxModel",
      "state": {
       "_dom_classes": [],
       "_model_module": "@jupyter-widgets/controls",
       "_model_module_version": "1.5.0",
       "_model_name": "HBoxModel",
       "_view_count": null,
       "_view_module": "@jupyter-widgets/controls",
       "_view_module_version": "1.5.0",
       "_view_name": "HBoxView",
       "box_style": "",
       "children": [
        "IPY_MODEL_fe5ac318f12846ec91477bcbeac6dcf2",
        "IPY_MODEL_032e491c11f04e9ea3b93ae5a1582f61"
       ],
       "layout": "IPY_MODEL_a22a2a6095204d878872e691dc8f3f47"
      }
     },
     "2986cac2ec95448dbfec2314e29783ca": {
      "model_module": "@jupyter-widgets/controls",
      "model_module_version": "1.5.0",
      "model_name": "HTMLModel",
      "state": {
       "_dom_classes": [],
       "_model_module": "@jupyter-widgets/controls",
       "_model_module_version": "1.5.0",
       "_model_name": "HTMLModel",
       "_view_count": null,
       "_view_module": "@jupyter-widgets/controls",
       "_view_module_version": "1.5.0",
       "_view_name": "HTMLView",
       "description": "",
       "description_tooltip": null,
       "layout": "IPY_MODEL_e04d618aba684e5585171df42a963bc6",
       "placeholder": "​",
       "style": "IPY_MODEL_ef280a1db912479c84f492e798ea24d4",
       "value": " 12472/12472 [08:58&lt;00:00, 23.17it/s]"
      }
     },
     "2bca9cff9cd544268ca4994f2e6232e7": {
      "model_module": "@jupyter-widgets/controls",
      "model_module_version": "1.5.0",
      "model_name": "ProgressStyleModel",
      "state": {
       "_model_module": "@jupyter-widgets/controls",
       "_model_module_version": "1.5.0",
       "_model_name": "ProgressStyleModel",
       "_view_count": null,
       "_view_module": "@jupyter-widgets/base",
       "_view_module_version": "1.2.0",
       "_view_name": "StyleView",
       "bar_color": null,
       "description_width": "initial"
      }
     },
     "2f5451ed82b64822b932a508d5ec3f11": {
      "model_module": "@jupyter-widgets/controls",
      "model_module_version": "1.5.0",
      "model_name": "HBoxModel",
      "state": {
       "_dom_classes": [],
       "_model_module": "@jupyter-widgets/controls",
       "_model_module_version": "1.5.0",
       "_model_name": "HBoxModel",
       "_view_count": null,
       "_view_module": "@jupyter-widgets/controls",
       "_view_module_version": "1.5.0",
       "_view_name": "HBoxView",
       "box_style": "",
       "children": [
        "IPY_MODEL_d0cbe3a2175547b9a9b7de96f9a071dd",
        "IPY_MODEL_8c8a41ffac8b4036a8feff7f933b6e16"
       ],
       "layout": "IPY_MODEL_1cf5a16895974a1e88f9d42d6fa4d681"
      }
     },
     "2f7c07e3ace94060aa603b6bfcc13748": {
      "model_module": "@jupyter-widgets/controls",
      "model_module_version": "1.5.0",
      "model_name": "ProgressStyleModel",
      "state": {
       "_model_module": "@jupyter-widgets/controls",
       "_model_module_version": "1.5.0",
       "_model_name": "ProgressStyleModel",
       "_view_count": null,
       "_view_module": "@jupyter-widgets/base",
       "_view_module_version": "1.2.0",
       "_view_name": "StyleView",
       "bar_color": null,
       "description_width": "initial"
      }
     },
     "2fdf463373e343f8a3640ac5907333c1": {
      "model_module": "@jupyter-widgets/controls",
      "model_module_version": "1.5.0",
      "model_name": "HBoxModel",
      "state": {
       "_dom_classes": [],
       "_model_module": "@jupyter-widgets/controls",
       "_model_module_version": "1.5.0",
       "_model_name": "HBoxModel",
       "_view_count": null,
       "_view_module": "@jupyter-widgets/controls",
       "_view_module_version": "1.5.0",
       "_view_name": "HBoxView",
       "box_style": "",
       "children": [
        "IPY_MODEL_bf3d56c213b842b893e308b152c07e7b",
        "IPY_MODEL_2986cac2ec95448dbfec2314e29783ca"
       ],
       "layout": "IPY_MODEL_40030dba7f8e43a4b8da656d1a3d4818"
      }
     },
     "39a5260e00f249ab974c3b05b50b035e": {
      "model_module": "@jupyter-widgets/controls",
      "model_module_version": "1.5.0",
      "model_name": "IntProgressModel",
      "state": {
       "_dom_classes": [],
       "_model_module": "@jupyter-widgets/controls",
       "_model_module_version": "1.5.0",
       "_model_name": "IntProgressModel",
       "_view_count": null,
       "_view_module": "@jupyter-widgets/controls",
       "_view_module_version": "1.5.0",
       "_view_name": "ProgressView",
       "bar_style": "",
       "description": " 93%",
       "description_tooltip": null,
       "layout": "IPY_MODEL_9fd80741d513419c9d9a8d66e4dc5ef9",
       "max": 1079244,
       "min": 0,
       "orientation": "horizontal",
       "style": "IPY_MODEL_92ddaaab91c74321a8610d7c5274b052",
       "value": 1048508
      }
     },
     "3f03c0a9f1814c248ea313de6052a259": {
      "model_module": "@jupyter-widgets/controls",
      "model_module_version": "1.5.0",
      "model_name": "HTMLModel",
      "state": {
       "_dom_classes": [],
       "_model_module": "@jupyter-widgets/controls",
       "_model_module_version": "1.5.0",
       "_model_name": "HTMLModel",
       "_view_count": null,
       "_view_module": "@jupyter-widgets/controls",
       "_view_module_version": "1.5.0",
       "_view_name": "HTMLView",
       "description": "",
       "description_tooltip": null,
       "layout": "IPY_MODEL_fe9d8b7bd3f346ab9a57ac8ae6361488",
       "placeholder": "​",
       "style": "IPY_MODEL_b6866afc09064c44a2d6d5531bf1c8f4",
       "value": " 1079244/1079244 [07:09&lt;00:00, 2512.62it/s]"
      }
     },
     "3f306f6a753a476d83dcc43d2fe64a43": {
      "model_module": "@jupyter-widgets/controls",
      "model_module_version": "1.5.0",
      "model_name": "IntProgressModel",
      "state": {
       "_dom_classes": [],
       "_model_module": "@jupyter-widgets/controls",
       "_model_module_version": "1.5.0",
       "_model_name": "IntProgressModel",
       "_view_count": null,
       "_view_module": "@jupyter-widgets/controls",
       "_view_module_version": "1.5.0",
       "_view_name": "ProgressView",
       "bar_style": "success",
       "description": "100%",
       "description_tooltip": null,
       "layout": "IPY_MODEL_96a9c9ff47a8450584799ceb12008248",
       "max": 12472,
       "min": 0,
       "orientation": "horizontal",
       "style": "IPY_MODEL_2f7c07e3ace94060aa603b6bfcc13748",
       "value": 12472
      }
     },
     "40030dba7f8e43a4b8da656d1a3d4818": {
      "model_module": "@jupyter-widgets/base",
      "model_module_version": "1.2.0",
      "model_name": "LayoutModel",
      "state": {
       "_model_module": "@jupyter-widgets/base",
       "_model_module_version": "1.2.0",
       "_model_name": "LayoutModel",
       "_view_count": null,
       "_view_module": "@jupyter-widgets/base",
       "_view_module_version": "1.2.0",
       "_view_name": "LayoutView",
       "align_content": null,
       "align_items": null,
       "align_self": null,
       "border": null,
       "bottom": null,
       "display": null,
       "flex": null,
       "flex_flow": null,
       "grid_area": null,
       "grid_auto_columns": null,
       "grid_auto_flow": null,
       "grid_auto_rows": null,
       "grid_column": null,
       "grid_gap": null,
       "grid_row": null,
       "grid_template_areas": null,
       "grid_template_columns": null,
       "grid_template_rows": null,
       "height": null,
       "justify_content": null,
       "justify_items": null,
       "left": null,
       "margin": null,
       "max_height": null,
       "max_width": null,
       "min_height": null,
       "min_width": null,
       "object_fit": null,
       "object_position": null,
       "order": null,
       "overflow": null,
       "overflow_x": null,
       "overflow_y": null,
       "padding": null,
       "right": null,
       "top": null,
       "visibility": null,
       "width": null
      }
     },
     "4172d47f315849f2b7b5c111ca1bf983": {
      "model_module": "@jupyter-widgets/controls",
      "model_module_version": "1.5.0",
      "model_name": "HTMLModel",
      "state": {
       "_dom_classes": [],
       "_model_module": "@jupyter-widgets/controls",
       "_model_module_version": "1.5.0",
       "_model_name": "HTMLModel",
       "_view_count": null,
       "_view_module": "@jupyter-widgets/controls",
       "_view_module_version": "1.5.0",
       "_view_name": "HTMLView",
       "description": "",
       "description_tooltip": null,
       "layout": "IPY_MODEL_1aa5fe70cd9746ebae2d98bb752dd028",
       "placeholder": "​",
       "style": "IPY_MODEL_6e2a8f7366d24aa48ab4b17258d14838",
       "value": " 12472/12472 [07:12&lt;00:00, 28.87it/s]"
      }
     },
     "46254c496e5642d0b2f654b31cfbefba": {
      "model_module": "@jupyter-widgets/base",
      "model_module_version": "1.2.0",
      "model_name": "LayoutModel",
      "state": {
       "_model_module": "@jupyter-widgets/base",
       "_model_module_version": "1.2.0",
       "_model_name": "LayoutModel",
       "_view_count": null,
       "_view_module": "@jupyter-widgets/base",
       "_view_module_version": "1.2.0",
       "_view_name": "LayoutView",
       "align_content": null,
       "align_items": null,
       "align_self": null,
       "border": null,
       "bottom": null,
       "display": null,
       "flex": null,
       "flex_flow": null,
       "grid_area": null,
       "grid_auto_columns": null,
       "grid_auto_flow": null,
       "grid_auto_rows": null,
       "grid_column": null,
       "grid_gap": null,
       "grid_row": null,
       "grid_template_areas": null,
       "grid_template_columns": null,
       "grid_template_rows": null,
       "height": null,
       "justify_content": null,
       "justify_items": null,
       "left": null,
       "margin": null,
       "max_height": null,
       "max_width": null,
       "min_height": null,
       "min_width": null,
       "object_fit": null,
       "object_position": null,
       "order": null,
       "overflow": null,
       "overflow_x": null,
       "overflow_y": null,
       "padding": null,
       "right": null,
       "top": null,
       "visibility": null,
       "width": null
      }
     },
     "4a94726ff2db4a5b84a4e14c216cba25": {
      "model_module": "@jupyter-widgets/base",
      "model_module_version": "1.2.0",
      "model_name": "LayoutModel",
      "state": {
       "_model_module": "@jupyter-widgets/base",
       "_model_module_version": "1.2.0",
       "_model_name": "LayoutModel",
       "_view_count": null,
       "_view_module": "@jupyter-widgets/base",
       "_view_module_version": "1.2.0",
       "_view_name": "LayoutView",
       "align_content": null,
       "align_items": null,
       "align_self": null,
       "border": null,
       "bottom": null,
       "display": null,
       "flex": null,
       "flex_flow": null,
       "grid_area": null,
       "grid_auto_columns": null,
       "grid_auto_flow": null,
       "grid_auto_rows": null,
       "grid_column": null,
       "grid_gap": null,
       "grid_row": null,
       "grid_template_areas": null,
       "grid_template_columns": null,
       "grid_template_rows": null,
       "height": null,
       "justify_content": null,
       "justify_items": null,
       "left": null,
       "margin": null,
       "max_height": null,
       "max_width": null,
       "min_height": null,
       "min_width": null,
       "object_fit": null,
       "object_position": null,
       "order": null,
       "overflow": null,
       "overflow_x": null,
       "overflow_y": null,
       "padding": null,
       "right": null,
       "top": null,
       "visibility": null,
       "width": null
      }
     },
     "4bd0e8bed43e4e209683ee6afed10770": {
      "model_module": "@jupyter-widgets/base",
      "model_module_version": "1.2.0",
      "model_name": "LayoutModel",
      "state": {
       "_model_module": "@jupyter-widgets/base",
       "_model_module_version": "1.2.0",
       "_model_name": "LayoutModel",
       "_view_count": null,
       "_view_module": "@jupyter-widgets/base",
       "_view_module_version": "1.2.0",
       "_view_name": "LayoutView",
       "align_content": null,
       "align_items": null,
       "align_self": null,
       "border": null,
       "bottom": null,
       "display": null,
       "flex": null,
       "flex_flow": null,
       "grid_area": null,
       "grid_auto_columns": null,
       "grid_auto_flow": null,
       "grid_auto_rows": null,
       "grid_column": null,
       "grid_gap": null,
       "grid_row": null,
       "grid_template_areas": null,
       "grid_template_columns": null,
       "grid_template_rows": null,
       "height": null,
       "justify_content": null,
       "justify_items": null,
       "left": null,
       "margin": null,
       "max_height": null,
       "max_width": null,
       "min_height": null,
       "min_width": null,
       "object_fit": null,
       "object_position": null,
       "order": null,
       "overflow": null,
       "overflow_x": null,
       "overflow_y": null,
       "padding": null,
       "right": null,
       "top": null,
       "visibility": null,
       "width": null
      }
     },
     "591c0537e29640e5aa8366b51d5fd9ea": {
      "model_module": "@jupyter-widgets/base",
      "model_module_version": "1.2.0",
      "model_name": "LayoutModel",
      "state": {
       "_model_module": "@jupyter-widgets/base",
       "_model_module_version": "1.2.0",
       "_model_name": "LayoutModel",
       "_view_count": null,
       "_view_module": "@jupyter-widgets/base",
       "_view_module_version": "1.2.0",
       "_view_name": "LayoutView",
       "align_content": null,
       "align_items": null,
       "align_self": null,
       "border": null,
       "bottom": null,
       "display": null,
       "flex": null,
       "flex_flow": null,
       "grid_area": null,
       "grid_auto_columns": null,
       "grid_auto_flow": null,
       "grid_auto_rows": null,
       "grid_column": null,
       "grid_gap": null,
       "grid_row": null,
       "grid_template_areas": null,
       "grid_template_columns": null,
       "grid_template_rows": null,
       "height": null,
       "justify_content": null,
       "justify_items": null,
       "left": null,
       "margin": null,
       "max_height": null,
       "max_width": null,
       "min_height": null,
       "min_width": null,
       "object_fit": null,
       "object_position": null,
       "order": null,
       "overflow": null,
       "overflow_x": null,
       "overflow_y": null,
       "padding": null,
       "right": null,
       "top": null,
       "visibility": null,
       "width": null
      }
     },
     "59a75db730c743c9a382e0901843a4c6": {
      "model_module": "@jupyter-widgets/base",
      "model_module_version": "1.2.0",
      "model_name": "LayoutModel",
      "state": {
       "_model_module": "@jupyter-widgets/base",
       "_model_module_version": "1.2.0",
       "_model_name": "LayoutModel",
       "_view_count": null,
       "_view_module": "@jupyter-widgets/base",
       "_view_module_version": "1.2.0",
       "_view_name": "LayoutView",
       "align_content": null,
       "align_items": null,
       "align_self": null,
       "border": null,
       "bottom": null,
       "display": null,
       "flex": null,
       "flex_flow": null,
       "grid_area": null,
       "grid_auto_columns": null,
       "grid_auto_flow": null,
       "grid_auto_rows": null,
       "grid_column": null,
       "grid_gap": null,
       "grid_row": null,
       "grid_template_areas": null,
       "grid_template_columns": null,
       "grid_template_rows": null,
       "height": null,
       "justify_content": null,
       "justify_items": null,
       "left": null,
       "margin": null,
       "max_height": null,
       "max_width": null,
       "min_height": null,
       "min_width": null,
       "object_fit": null,
       "object_position": null,
       "order": null,
       "overflow": null,
       "overflow_x": null,
       "overflow_y": null,
       "padding": null,
       "right": null,
       "top": null,
       "visibility": null,
       "width": null
      }
     },
     "5cff175ba725401fa931c697773d16bf": {
      "model_module": "@jupyter-widgets/controls",
      "model_module_version": "1.5.0",
      "model_name": "ProgressStyleModel",
      "state": {
       "_model_module": "@jupyter-widgets/controls",
       "_model_module_version": "1.5.0",
       "_model_name": "ProgressStyleModel",
       "_view_count": null,
       "_view_module": "@jupyter-widgets/base",
       "_view_module_version": "1.2.0",
       "_view_name": "StyleView",
       "bar_color": null,
       "description_width": "initial"
      }
     },
     "5de455d3978a41558b585bc048d2fc37": {
      "model_module": "@jupyter-widgets/controls",
      "model_module_version": "1.5.0",
      "model_name": "DescriptionStyleModel",
      "state": {
       "_model_module": "@jupyter-widgets/controls",
       "_model_module_version": "1.5.0",
       "_model_name": "DescriptionStyleModel",
       "_view_count": null,
       "_view_module": "@jupyter-widgets/base",
       "_view_module_version": "1.2.0",
       "_view_name": "StyleView",
       "description_width": ""
      }
     },
     "60cb2771a73e4cb69b7a6eba738b5176": {
      "model_module": "@jupyter-widgets/controls",
      "model_module_version": "1.5.0",
      "model_name": "IntProgressModel",
      "state": {
       "_dom_classes": [],
       "_model_module": "@jupyter-widgets/controls",
       "_model_module_version": "1.5.0",
       "_model_name": "IntProgressModel",
       "_view_count": null,
       "_view_module": "@jupyter-widgets/controls",
       "_view_module_version": "1.5.0",
       "_view_name": "ProgressView",
       "bar_style": "success",
       "description": "100%",
       "description_tooltip": null,
       "layout": "IPY_MODEL_1c888496c0414ab1b0cefc8e1de06b52",
       "max": 1079244,
       "min": 0,
       "orientation": "horizontal",
       "style": "IPY_MODEL_753e694930ec423ba9fab65383bec357",
       "value": 1079244
      }
     },
     "6181849c2cbf4f1fb5d24574811830c7": {
      "model_module": "@jupyter-widgets/controls",
      "model_module_version": "1.5.0",
      "model_name": "HTMLModel",
      "state": {
       "_dom_classes": [],
       "_model_module": "@jupyter-widgets/controls",
       "_model_module_version": "1.5.0",
       "_model_name": "HTMLModel",
       "_view_count": null,
       "_view_module": "@jupyter-widgets/controls",
       "_view_module_version": "1.5.0",
       "_view_name": "HTMLView",
       "description": "",
       "description_tooltip": null,
       "layout": "IPY_MODEL_1875e0c2fc7a4586a6a4d48187d38592",
       "placeholder": "​",
       "style": "IPY_MODEL_881a1da0e23a4f35855ef4f1f9876e43",
       "value": " 1079244/1079244 [3:08:50&lt;00:00, 95.25it/s]"
      }
     },
     "65f538aa75f34497b91cb77acc02a945": {
      "model_module": "@jupyter-widgets/controls",
      "model_module_version": "1.5.0",
      "model_name": "HBoxModel",
      "state": {
       "_dom_classes": [],
       "_model_module": "@jupyter-widgets/controls",
       "_model_module_version": "1.5.0",
       "_model_name": "HBoxModel",
       "_view_count": null,
       "_view_module": "@jupyter-widgets/controls",
       "_view_module_version": "1.5.0",
       "_view_name": "HBoxView",
       "box_style": "",
       "children": [
        "IPY_MODEL_b1cfe2582e2149deb2e6f91800999064",
        "IPY_MODEL_f0ac4a08e383440ca5b377af13c24132"
       ],
       "layout": "IPY_MODEL_7a23c54e8e26407786306753da924c3e"
      }
     },
     "67d27718f3784171a72115692239643b": {
      "model_module": "@jupyter-widgets/base",
      "model_module_version": "1.2.0",
      "model_name": "LayoutModel",
      "state": {
       "_model_module": "@jupyter-widgets/base",
       "_model_module_version": "1.2.0",
       "_model_name": "LayoutModel",
       "_view_count": null,
       "_view_module": "@jupyter-widgets/base",
       "_view_module_version": "1.2.0",
       "_view_name": "LayoutView",
       "align_content": null,
       "align_items": null,
       "align_self": null,
       "border": null,
       "bottom": null,
       "display": null,
       "flex": null,
       "flex_flow": null,
       "grid_area": null,
       "grid_auto_columns": null,
       "grid_auto_flow": null,
       "grid_auto_rows": null,
       "grid_column": null,
       "grid_gap": null,
       "grid_row": null,
       "grid_template_areas": null,
       "grid_template_columns": null,
       "grid_template_rows": null,
       "height": null,
       "justify_content": null,
       "justify_items": null,
       "left": null,
       "margin": null,
       "max_height": null,
       "max_width": null,
       "min_height": null,
       "min_width": null,
       "object_fit": null,
       "object_position": null,
       "order": null,
       "overflow": null,
       "overflow_x": null,
       "overflow_y": null,
       "padding": null,
       "right": null,
       "top": null,
       "visibility": null,
       "width": null
      }
     },
     "6ace4e35094649ab96931db54e7975dc": {
      "model_module": "@jupyter-widgets/controls",
      "model_module_version": "1.5.0",
      "model_name": "HTMLModel",
      "state": {
       "_dom_classes": [],
       "_model_module": "@jupyter-widgets/controls",
       "_model_module_version": "1.5.0",
       "_model_name": "HTMLModel",
       "_view_count": null,
       "_view_module": "@jupyter-widgets/controls",
       "_view_module_version": "1.5.0",
       "_view_name": "HTMLView",
       "description": "",
       "description_tooltip": null,
       "layout": "IPY_MODEL_739ea2e256c44ac482978bfac1f7e5c7",
       "placeholder": "​",
       "style": "IPY_MODEL_76729c0b9a9946ee8a1dd1197f061226",
       "value": " 1079244/1079244 [06:58&lt;00:00, 2577.02it/s]"
      }
     },
     "6e2a8f7366d24aa48ab4b17258d14838": {
      "model_module": "@jupyter-widgets/controls",
      "model_module_version": "1.5.0",
      "model_name": "DescriptionStyleModel",
      "state": {
       "_model_module": "@jupyter-widgets/controls",
       "_model_module_version": "1.5.0",
       "_model_name": "DescriptionStyleModel",
       "_view_count": null,
       "_view_module": "@jupyter-widgets/base",
       "_view_module_version": "1.2.0",
       "_view_name": "StyleView",
       "description_width": ""
      }
     },
     "72f5138902eb42de883138fc41356fae": {
      "model_module": "@jupyter-widgets/controls",
      "model_module_version": "1.5.0",
      "model_name": "IntProgressModel",
      "state": {
       "_dom_classes": [],
       "_model_module": "@jupyter-widgets/controls",
       "_model_module_version": "1.5.0",
       "_model_name": "IntProgressModel",
       "_view_count": null,
       "_view_module": "@jupyter-widgets/controls",
       "_view_module_version": "1.5.0",
       "_view_name": "ProgressView",
       "bar_style": "success",
       "description": "100%",
       "description_tooltip": null,
       "layout": "IPY_MODEL_46254c496e5642d0b2f654b31cfbefba",
       "max": 1079244,
       "min": 0,
       "orientation": "horizontal",
       "style": "IPY_MODEL_08c232f5cc964bfbb4996c4b06978359",
       "value": 1079244
      }
     },
     "730215033c15497c8c787ad6e52c1de8": {
      "model_module": "@jupyter-widgets/controls",
      "model_module_version": "1.5.0",
      "model_name": "ProgressStyleModel",
      "state": {
       "_model_module": "@jupyter-widgets/controls",
       "_model_module_version": "1.5.0",
       "_model_name": "ProgressStyleModel",
       "_view_count": null,
       "_view_module": "@jupyter-widgets/base",
       "_view_module_version": "1.2.0",
       "_view_name": "StyleView",
       "bar_color": null,
       "description_width": "initial"
      }
     },
     "7377142a048e44deb8f7e362d41e6cdf": {
      "model_module": "@jupyter-widgets/controls",
      "model_module_version": "1.5.0",
      "model_name": "HTMLModel",
      "state": {
       "_dom_classes": [],
       "_model_module": "@jupyter-widgets/controls",
       "_model_module_version": "1.5.0",
       "_model_name": "HTMLModel",
       "_view_count": null,
       "_view_module": "@jupyter-widgets/controls",
       "_view_module_version": "1.5.0",
       "_view_name": "HTMLView",
       "description": "",
       "description_tooltip": null,
       "layout": "IPY_MODEL_cb298528e1fd4cc5be25efb5469096c6",
       "placeholder": "​",
       "style": "IPY_MODEL_0089988fcd1748e7b97392df6acd8a5c",
       "value": " 12472/12472 [17:45&lt;00:00, 11.71it/s]"
      }
     },
     "7378a9f7a1174feda2128f441dfbfc00": {
      "model_module": "@jupyter-widgets/controls",
      "model_module_version": "1.5.0",
      "model_name": "IntProgressModel",
      "state": {
       "_dom_classes": [],
       "_model_module": "@jupyter-widgets/controls",
       "_model_module_version": "1.5.0",
       "_model_name": "IntProgressModel",
       "_view_count": null,
       "_view_module": "@jupyter-widgets/controls",
       "_view_module_version": "1.5.0",
       "_view_name": "ProgressView",
       "bar_style": "success",
       "description": "100%",
       "description_tooltip": null,
       "layout": "IPY_MODEL_e10fb48c046646bb95d847e6448f2f2a",
       "max": 1079244,
       "min": 0,
       "orientation": "horizontal",
       "style": "IPY_MODEL_1cf28fc63f0a4fc2abbdd623567af889",
       "value": 1079244
      }
     },
     "739ea2e256c44ac482978bfac1f7e5c7": {
      "model_module": "@jupyter-widgets/base",
      "model_module_version": "1.2.0",
      "model_name": "LayoutModel",
      "state": {
       "_model_module": "@jupyter-widgets/base",
       "_model_module_version": "1.2.0",
       "_model_name": "LayoutModel",
       "_view_count": null,
       "_view_module": "@jupyter-widgets/base",
       "_view_module_version": "1.2.0",
       "_view_name": "LayoutView",
       "align_content": null,
       "align_items": null,
       "align_self": null,
       "border": null,
       "bottom": null,
       "display": null,
       "flex": null,
       "flex_flow": null,
       "grid_area": null,
       "grid_auto_columns": null,
       "grid_auto_flow": null,
       "grid_auto_rows": null,
       "grid_column": null,
       "grid_gap": null,
       "grid_row": null,
       "grid_template_areas": null,
       "grid_template_columns": null,
       "grid_template_rows": null,
       "height": null,
       "justify_content": null,
       "justify_items": null,
       "left": null,
       "margin": null,
       "max_height": null,
       "max_width": null,
       "min_height": null,
       "min_width": null,
       "object_fit": null,
       "object_position": null,
       "order": null,
       "overflow": null,
       "overflow_x": null,
       "overflow_y": null,
       "padding": null,
       "right": null,
       "top": null,
       "visibility": null,
       "width": null
      }
     },
     "753e694930ec423ba9fab65383bec357": {
      "model_module": "@jupyter-widgets/controls",
      "model_module_version": "1.5.0",
      "model_name": "ProgressStyleModel",
      "state": {
       "_model_module": "@jupyter-widgets/controls",
       "_model_module_version": "1.5.0",
       "_model_name": "ProgressStyleModel",
       "_view_count": null,
       "_view_module": "@jupyter-widgets/base",
       "_view_module_version": "1.2.0",
       "_view_name": "StyleView",
       "bar_color": null,
       "description_width": "initial"
      }
     },
     "762cd003b96a4b3bbfa9d435d048f6cd": {
      "model_module": "@jupyter-widgets/base",
      "model_module_version": "1.2.0",
      "model_name": "LayoutModel",
      "state": {
       "_model_module": "@jupyter-widgets/base",
       "_model_module_version": "1.2.0",
       "_model_name": "LayoutModel",
       "_view_count": null,
       "_view_module": "@jupyter-widgets/base",
       "_view_module_version": "1.2.0",
       "_view_name": "LayoutView",
       "align_content": null,
       "align_items": null,
       "align_self": null,
       "border": null,
       "bottom": null,
       "display": null,
       "flex": null,
       "flex_flow": null,
       "grid_area": null,
       "grid_auto_columns": null,
       "grid_auto_flow": null,
       "grid_auto_rows": null,
       "grid_column": null,
       "grid_gap": null,
       "grid_row": null,
       "grid_template_areas": null,
       "grid_template_columns": null,
       "grid_template_rows": null,
       "height": null,
       "justify_content": null,
       "justify_items": null,
       "left": null,
       "margin": null,
       "max_height": null,
       "max_width": null,
       "min_height": null,
       "min_width": null,
       "object_fit": null,
       "object_position": null,
       "order": null,
       "overflow": null,
       "overflow_x": null,
       "overflow_y": null,
       "padding": null,
       "right": null,
       "top": null,
       "visibility": null,
       "width": null
      }
     },
     "76729c0b9a9946ee8a1dd1197f061226": {
      "model_module": "@jupyter-widgets/controls",
      "model_module_version": "1.5.0",
      "model_name": "DescriptionStyleModel",
      "state": {
       "_model_module": "@jupyter-widgets/controls",
       "_model_module_version": "1.5.0",
       "_model_name": "DescriptionStyleModel",
       "_view_count": null,
       "_view_module": "@jupyter-widgets/base",
       "_view_module_version": "1.2.0",
       "_view_name": "StyleView",
       "description_width": ""
      }
     },
     "784128e7946743de9ad3870d618b23cd": {
      "model_module": "@jupyter-widgets/controls",
      "model_module_version": "1.5.0",
      "model_name": "DescriptionStyleModel",
      "state": {
       "_model_module": "@jupyter-widgets/controls",
       "_model_module_version": "1.5.0",
       "_model_name": "DescriptionStyleModel",
       "_view_count": null,
       "_view_module": "@jupyter-widgets/base",
       "_view_module_version": "1.2.0",
       "_view_name": "StyleView",
       "description_width": ""
      }
     },
     "78bb324c30a24f71b5835a7db2f20f18": {
      "model_module": "@jupyter-widgets/controls",
      "model_module_version": "1.5.0",
      "model_name": "ProgressStyleModel",
      "state": {
       "_model_module": "@jupyter-widgets/controls",
       "_model_module_version": "1.5.0",
       "_model_name": "ProgressStyleModel",
       "_view_count": null,
       "_view_module": "@jupyter-widgets/base",
       "_view_module_version": "1.2.0",
       "_view_name": "StyleView",
       "bar_color": null,
       "description_width": "initial"
      }
     },
     "7a23c54e8e26407786306753da924c3e": {
      "model_module": "@jupyter-widgets/base",
      "model_module_version": "1.2.0",
      "model_name": "LayoutModel",
      "state": {
       "_model_module": "@jupyter-widgets/base",
       "_model_module_version": "1.2.0",
       "_model_name": "LayoutModel",
       "_view_count": null,
       "_view_module": "@jupyter-widgets/base",
       "_view_module_version": "1.2.0",
       "_view_name": "LayoutView",
       "align_content": null,
       "align_items": null,
       "align_self": null,
       "border": null,
       "bottom": null,
       "display": null,
       "flex": null,
       "flex_flow": null,
       "grid_area": null,
       "grid_auto_columns": null,
       "grid_auto_flow": null,
       "grid_auto_rows": null,
       "grid_column": null,
       "grid_gap": null,
       "grid_row": null,
       "grid_template_areas": null,
       "grid_template_columns": null,
       "grid_template_rows": null,
       "height": null,
       "justify_content": null,
       "justify_items": null,
       "left": null,
       "margin": null,
       "max_height": null,
       "max_width": null,
       "min_height": null,
       "min_width": null,
       "object_fit": null,
       "object_position": null,
       "order": null,
       "overflow": null,
       "overflow_x": null,
       "overflow_y": null,
       "padding": null,
       "right": null,
       "top": null,
       "visibility": null,
       "width": null
      }
     },
     "7c1f563fd40b450f98189d958c91e457": {
      "model_module": "@jupyter-widgets/base",
      "model_module_version": "1.2.0",
      "model_name": "LayoutModel",
      "state": {
       "_model_module": "@jupyter-widgets/base",
       "_model_module_version": "1.2.0",
       "_model_name": "LayoutModel",
       "_view_count": null,
       "_view_module": "@jupyter-widgets/base",
       "_view_module_version": "1.2.0",
       "_view_name": "LayoutView",
       "align_content": null,
       "align_items": null,
       "align_self": null,
       "border": null,
       "bottom": null,
       "display": null,
       "flex": null,
       "flex_flow": null,
       "grid_area": null,
       "grid_auto_columns": null,
       "grid_auto_flow": null,
       "grid_auto_rows": null,
       "grid_column": null,
       "grid_gap": null,
       "grid_row": null,
       "grid_template_areas": null,
       "grid_template_columns": null,
       "grid_template_rows": null,
       "height": null,
       "justify_content": null,
       "justify_items": null,
       "left": null,
       "margin": null,
       "max_height": null,
       "max_width": null,
       "min_height": null,
       "min_width": null,
       "object_fit": null,
       "object_position": null,
       "order": null,
       "overflow": null,
       "overflow_x": null,
       "overflow_y": null,
       "padding": null,
       "right": null,
       "top": null,
       "visibility": null,
       "width": null
      }
     },
     "7d5be522d6104083a0b667f56d0473d6": {
      "model_module": "@jupyter-widgets/base",
      "model_module_version": "1.2.0",
      "model_name": "LayoutModel",
      "state": {
       "_model_module": "@jupyter-widgets/base",
       "_model_module_version": "1.2.0",
       "_model_name": "LayoutModel",
       "_view_count": null,
       "_view_module": "@jupyter-widgets/base",
       "_view_module_version": "1.2.0",
       "_view_name": "LayoutView",
       "align_content": null,
       "align_items": null,
       "align_self": null,
       "border": null,
       "bottom": null,
       "display": null,
       "flex": null,
       "flex_flow": null,
       "grid_area": null,
       "grid_auto_columns": null,
       "grid_auto_flow": null,
       "grid_auto_rows": null,
       "grid_column": null,
       "grid_gap": null,
       "grid_row": null,
       "grid_template_areas": null,
       "grid_template_columns": null,
       "grid_template_rows": null,
       "height": null,
       "justify_content": null,
       "justify_items": null,
       "left": null,
       "margin": null,
       "max_height": null,
       "max_width": null,
       "min_height": null,
       "min_width": null,
       "object_fit": null,
       "object_position": null,
       "order": null,
       "overflow": null,
       "overflow_x": null,
       "overflow_y": null,
       "padding": null,
       "right": null,
       "top": null,
       "visibility": null,
       "width": null
      }
     },
     "7fed1514979447c8a142b900440c56cb": {
      "model_module": "@jupyter-widgets/controls",
      "model_module_version": "1.5.0",
      "model_name": "HBoxModel",
      "state": {
       "_dom_classes": [],
       "_model_module": "@jupyter-widgets/controls",
       "_model_module_version": "1.5.0",
       "_model_name": "HBoxModel",
       "_view_count": null,
       "_view_module": "@jupyter-widgets/controls",
       "_view_module_version": "1.5.0",
       "_view_name": "HBoxView",
       "box_style": "",
       "children": [
        "IPY_MODEL_7378a9f7a1174feda2128f441dfbfc00",
        "IPY_MODEL_b9908226724e46809833f39f07b93865"
       ],
       "layout": "IPY_MODEL_a966588023984d9c9b94448d6d8559de"
      }
     },
     "881a1da0e23a4f35855ef4f1f9876e43": {
      "model_module": "@jupyter-widgets/controls",
      "model_module_version": "1.5.0",
      "model_name": "DescriptionStyleModel",
      "state": {
       "_model_module": "@jupyter-widgets/controls",
       "_model_module_version": "1.5.0",
       "_model_name": "DescriptionStyleModel",
       "_view_count": null,
       "_view_module": "@jupyter-widgets/base",
       "_view_module_version": "1.2.0",
       "_view_name": "StyleView",
       "description_width": ""
      }
     },
     "8c8a41ffac8b4036a8feff7f933b6e16": {
      "model_module": "@jupyter-widgets/controls",
      "model_module_version": "1.5.0",
      "model_name": "HTMLModel",
      "state": {
       "_dom_classes": [],
       "_model_module": "@jupyter-widgets/controls",
       "_model_module_version": "1.5.0",
       "_model_name": "HTMLModel",
       "_view_count": null,
       "_view_module": "@jupyter-widgets/controls",
       "_view_module_version": "1.5.0",
       "_view_name": "HTMLView",
       "description": "",
       "description_tooltip": null,
       "layout": "IPY_MODEL_f670f8bc1a164401b54b4b88f5e19275",
       "placeholder": "​",
       "style": "IPY_MODEL_226f68d0f9904bd5bc5b45f2fbc72c3d",
       "value": " 1079244/1079244 [2:21:21&lt;00:00, 127.24it/s]"
      }
     },
     "8cdded552560498d994a950cbfc22e99": {
      "model_module": "@jupyter-widgets/base",
      "model_module_version": "1.2.0",
      "model_name": "LayoutModel",
      "state": {
       "_model_module": "@jupyter-widgets/base",
       "_model_module_version": "1.2.0",
       "_model_name": "LayoutModel",
       "_view_count": null,
       "_view_module": "@jupyter-widgets/base",
       "_view_module_version": "1.2.0",
       "_view_name": "LayoutView",
       "align_content": null,
       "align_items": null,
       "align_self": null,
       "border": null,
       "bottom": null,
       "display": null,
       "flex": null,
       "flex_flow": null,
       "grid_area": null,
       "grid_auto_columns": null,
       "grid_auto_flow": null,
       "grid_auto_rows": null,
       "grid_column": null,
       "grid_gap": null,
       "grid_row": null,
       "grid_template_areas": null,
       "grid_template_columns": null,
       "grid_template_rows": null,
       "height": null,
       "justify_content": null,
       "justify_items": null,
       "left": null,
       "margin": null,
       "max_height": null,
       "max_width": null,
       "min_height": null,
       "min_width": null,
       "object_fit": null,
       "object_position": null,
       "order": null,
       "overflow": null,
       "overflow_x": null,
       "overflow_y": null,
       "padding": null,
       "right": null,
       "top": null,
       "visibility": null,
       "width": null
      }
     },
     "8fa5a2d84f6549f781d1a7fda36eacb7": {
      "model_module": "@jupyter-widgets/base",
      "model_module_version": "1.2.0",
      "model_name": "LayoutModel",
      "state": {
       "_model_module": "@jupyter-widgets/base",
       "_model_module_version": "1.2.0",
       "_model_name": "LayoutModel",
       "_view_count": null,
       "_view_module": "@jupyter-widgets/base",
       "_view_module_version": "1.2.0",
       "_view_name": "LayoutView",
       "align_content": null,
       "align_items": null,
       "align_self": null,
       "border": null,
       "bottom": null,
       "display": null,
       "flex": null,
       "flex_flow": null,
       "grid_area": null,
       "grid_auto_columns": null,
       "grid_auto_flow": null,
       "grid_auto_rows": null,
       "grid_column": null,
       "grid_gap": null,
       "grid_row": null,
       "grid_template_areas": null,
       "grid_template_columns": null,
       "grid_template_rows": null,
       "height": null,
       "justify_content": null,
       "justify_items": null,
       "left": null,
       "margin": null,
       "max_height": null,
       "max_width": null,
       "min_height": null,
       "min_width": null,
       "object_fit": null,
       "object_position": null,
       "order": null,
       "overflow": null,
       "overflow_x": null,
       "overflow_y": null,
       "padding": null,
       "right": null,
       "top": null,
       "visibility": null,
       "width": null
      }
     },
     "9027ea4b16794ac9b662575b299d4048": {
      "model_module": "@jupyter-widgets/base",
      "model_module_version": "1.2.0",
      "model_name": "LayoutModel",
      "state": {
       "_model_module": "@jupyter-widgets/base",
       "_model_module_version": "1.2.0",
       "_model_name": "LayoutModel",
       "_view_count": null,
       "_view_module": "@jupyter-widgets/base",
       "_view_module_version": "1.2.0",
       "_view_name": "LayoutView",
       "align_content": null,
       "align_items": null,
       "align_self": null,
       "border": null,
       "bottom": null,
       "display": null,
       "flex": null,
       "flex_flow": null,
       "grid_area": null,
       "grid_auto_columns": null,
       "grid_auto_flow": null,
       "grid_auto_rows": null,
       "grid_column": null,
       "grid_gap": null,
       "grid_row": null,
       "grid_template_areas": null,
       "grid_template_columns": null,
       "grid_template_rows": null,
       "height": null,
       "justify_content": null,
       "justify_items": null,
       "left": null,
       "margin": null,
       "max_height": null,
       "max_width": null,
       "min_height": null,
       "min_width": null,
       "object_fit": null,
       "object_position": null,
       "order": null,
       "overflow": null,
       "overflow_x": null,
       "overflow_y": null,
       "padding": null,
       "right": null,
       "top": null,
       "visibility": null,
       "width": null
      }
     },
     "92ddaaab91c74321a8610d7c5274b052": {
      "model_module": "@jupyter-widgets/controls",
      "model_module_version": "1.5.0",
      "model_name": "ProgressStyleModel",
      "state": {
       "_model_module": "@jupyter-widgets/controls",
       "_model_module_version": "1.5.0",
       "_model_name": "ProgressStyleModel",
       "_view_count": null,
       "_view_module": "@jupyter-widgets/base",
       "_view_module_version": "1.2.0",
       "_view_name": "StyleView",
       "bar_color": null,
       "description_width": "initial"
      }
     },
     "9484aef7af6f477ea5ac2ca727829881": {
      "model_module": "@jupyter-widgets/base",
      "model_module_version": "1.2.0",
      "model_name": "LayoutModel",
      "state": {
       "_model_module": "@jupyter-widgets/base",
       "_model_module_version": "1.2.0",
       "_model_name": "LayoutModel",
       "_view_count": null,
       "_view_module": "@jupyter-widgets/base",
       "_view_module_version": "1.2.0",
       "_view_name": "LayoutView",
       "align_content": null,
       "align_items": null,
       "align_self": null,
       "border": null,
       "bottom": null,
       "display": null,
       "flex": null,
       "flex_flow": null,
       "grid_area": null,
       "grid_auto_columns": null,
       "grid_auto_flow": null,
       "grid_auto_rows": null,
       "grid_column": null,
       "grid_gap": null,
       "grid_row": null,
       "grid_template_areas": null,
       "grid_template_columns": null,
       "grid_template_rows": null,
       "height": null,
       "justify_content": null,
       "justify_items": null,
       "left": null,
       "margin": null,
       "max_height": null,
       "max_width": null,
       "min_height": null,
       "min_width": null,
       "object_fit": null,
       "object_position": null,
       "order": null,
       "overflow": null,
       "overflow_x": null,
       "overflow_y": null,
       "padding": null,
       "right": null,
       "top": null,
       "visibility": null,
       "width": null
      }
     },
     "96a9c9ff47a8450584799ceb12008248": {
      "model_module": "@jupyter-widgets/base",
      "model_module_version": "1.2.0",
      "model_name": "LayoutModel",
      "state": {
       "_model_module": "@jupyter-widgets/base",
       "_model_module_version": "1.2.0",
       "_model_name": "LayoutModel",
       "_view_count": null,
       "_view_module": "@jupyter-widgets/base",
       "_view_module_version": "1.2.0",
       "_view_name": "LayoutView",
       "align_content": null,
       "align_items": null,
       "align_self": null,
       "border": null,
       "bottom": null,
       "display": null,
       "flex": null,
       "flex_flow": null,
       "grid_area": null,
       "grid_auto_columns": null,
       "grid_auto_flow": null,
       "grid_auto_rows": null,
       "grid_column": null,
       "grid_gap": null,
       "grid_row": null,
       "grid_template_areas": null,
       "grid_template_columns": null,
       "grid_template_rows": null,
       "height": null,
       "justify_content": null,
       "justify_items": null,
       "left": null,
       "margin": null,
       "max_height": null,
       "max_width": null,
       "min_height": null,
       "min_width": null,
       "object_fit": null,
       "object_position": null,
       "order": null,
       "overflow": null,
       "overflow_x": null,
       "overflow_y": null,
       "padding": null,
       "right": null,
       "top": null,
       "visibility": null,
       "width": null
      }
     },
     "9d7d7d293d7944ad9d613bc1e66bf7f3": {
      "model_module": "@jupyter-widgets/controls",
      "model_module_version": "1.5.0",
      "model_name": "HTMLModel",
      "state": {
       "_dom_classes": [],
       "_model_module": "@jupyter-widgets/controls",
       "_model_module_version": "1.5.0",
       "_model_name": "HTMLModel",
       "_view_count": null,
       "_view_module": "@jupyter-widgets/controls",
       "_view_module_version": "1.5.0",
       "_view_name": "HTMLView",
       "description": "",
       "description_tooltip": null,
       "layout": "IPY_MODEL_e62e49715ce34ad19b36ba440b0a36ba",
       "placeholder": "​",
       "style": "IPY_MODEL_1b22f89b3da74e119e1f329289028354",
       "value": " 1079244/1079244 [06:29&lt;00:00, 2773.27it/s]"
      }
     },
     "9f82cac23a28492a8705b61e12484327": {
      "model_module": "@jupyter-widgets/base",
      "model_module_version": "1.2.0",
      "model_name": "LayoutModel",
      "state": {
       "_model_module": "@jupyter-widgets/base",
       "_model_module_version": "1.2.0",
       "_model_name": "LayoutModel",
       "_view_count": null,
       "_view_module": "@jupyter-widgets/base",
       "_view_module_version": "1.2.0",
       "_view_name": "LayoutView",
       "align_content": null,
       "align_items": null,
       "align_self": null,
       "border": null,
       "bottom": null,
       "display": null,
       "flex": null,
       "flex_flow": null,
       "grid_area": null,
       "grid_auto_columns": null,
       "grid_auto_flow": null,
       "grid_auto_rows": null,
       "grid_column": null,
       "grid_gap": null,
       "grid_row": null,
       "grid_template_areas": null,
       "grid_template_columns": null,
       "grid_template_rows": null,
       "height": null,
       "justify_content": null,
       "justify_items": null,
       "left": null,
       "margin": null,
       "max_height": null,
       "max_width": null,
       "min_height": null,
       "min_width": null,
       "object_fit": null,
       "object_position": null,
       "order": null,
       "overflow": null,
       "overflow_x": null,
       "overflow_y": null,
       "padding": null,
       "right": null,
       "top": null,
       "visibility": null,
       "width": null
      }
     },
     "9fd80741d513419c9d9a8d66e4dc5ef9": {
      "model_module": "@jupyter-widgets/base",
      "model_module_version": "1.2.0",
      "model_name": "LayoutModel",
      "state": {
       "_model_module": "@jupyter-widgets/base",
       "_model_module_version": "1.2.0",
       "_model_name": "LayoutModel",
       "_view_count": null,
       "_view_module": "@jupyter-widgets/base",
       "_view_module_version": "1.2.0",
       "_view_name": "LayoutView",
       "align_content": null,
       "align_items": null,
       "align_self": null,
       "border": null,
       "bottom": null,
       "display": null,
       "flex": null,
       "flex_flow": null,
       "grid_area": null,
       "grid_auto_columns": null,
       "grid_auto_flow": null,
       "grid_auto_rows": null,
       "grid_column": null,
       "grid_gap": null,
       "grid_row": null,
       "grid_template_areas": null,
       "grid_template_columns": null,
       "grid_template_rows": null,
       "height": null,
       "justify_content": null,
       "justify_items": null,
       "left": null,
       "margin": null,
       "max_height": null,
       "max_width": null,
       "min_height": null,
       "min_width": null,
       "object_fit": null,
       "object_position": null,
       "order": null,
       "overflow": null,
       "overflow_x": null,
       "overflow_y": null,
       "padding": null,
       "right": null,
       "top": null,
       "visibility": null,
       "width": null
      }
     },
     "a09f04c3ba9e453382ba9f8133969e85": {
      "model_module": "@jupyter-widgets/base",
      "model_module_version": "1.2.0",
      "model_name": "LayoutModel",
      "state": {
       "_model_module": "@jupyter-widgets/base",
       "_model_module_version": "1.2.0",
       "_model_name": "LayoutModel",
       "_view_count": null,
       "_view_module": "@jupyter-widgets/base",
       "_view_module_version": "1.2.0",
       "_view_name": "LayoutView",
       "align_content": null,
       "align_items": null,
       "align_self": null,
       "border": null,
       "bottom": null,
       "display": null,
       "flex": null,
       "flex_flow": null,
       "grid_area": null,
       "grid_auto_columns": null,
       "grid_auto_flow": null,
       "grid_auto_rows": null,
       "grid_column": null,
       "grid_gap": null,
       "grid_row": null,
       "grid_template_areas": null,
       "grid_template_columns": null,
       "grid_template_rows": null,
       "height": null,
       "justify_content": null,
       "justify_items": null,
       "left": null,
       "margin": null,
       "max_height": null,
       "max_width": null,
       "min_height": null,
       "min_width": null,
       "object_fit": null,
       "object_position": null,
       "order": null,
       "overflow": null,
       "overflow_x": null,
       "overflow_y": null,
       "padding": null,
       "right": null,
       "top": null,
       "visibility": null,
       "width": null
      }
     },
     "a22a2a6095204d878872e691dc8f3f47": {
      "model_module": "@jupyter-widgets/base",
      "model_module_version": "1.2.0",
      "model_name": "LayoutModel",
      "state": {
       "_model_module": "@jupyter-widgets/base",
       "_model_module_version": "1.2.0",
       "_model_name": "LayoutModel",
       "_view_count": null,
       "_view_module": "@jupyter-widgets/base",
       "_view_module_version": "1.2.0",
       "_view_name": "LayoutView",
       "align_content": null,
       "align_items": null,
       "align_self": null,
       "border": null,
       "bottom": null,
       "display": null,
       "flex": null,
       "flex_flow": null,
       "grid_area": null,
       "grid_auto_columns": null,
       "grid_auto_flow": null,
       "grid_auto_rows": null,
       "grid_column": null,
       "grid_gap": null,
       "grid_row": null,
       "grid_template_areas": null,
       "grid_template_columns": null,
       "grid_template_rows": null,
       "height": null,
       "justify_content": null,
       "justify_items": null,
       "left": null,
       "margin": null,
       "max_height": null,
       "max_width": null,
       "min_height": null,
       "min_width": null,
       "object_fit": null,
       "object_position": null,
       "order": null,
       "overflow": null,
       "overflow_x": null,
       "overflow_y": null,
       "padding": null,
       "right": null,
       "top": null,
       "visibility": null,
       "width": null
      }
     },
     "a966588023984d9c9b94448d6d8559de": {
      "model_module": "@jupyter-widgets/base",
      "model_module_version": "1.2.0",
      "model_name": "LayoutModel",
      "state": {
       "_model_module": "@jupyter-widgets/base",
       "_model_module_version": "1.2.0",
       "_model_name": "LayoutModel",
       "_view_count": null,
       "_view_module": "@jupyter-widgets/base",
       "_view_module_version": "1.2.0",
       "_view_name": "LayoutView",
       "align_content": null,
       "align_items": null,
       "align_self": null,
       "border": null,
       "bottom": null,
       "display": null,
       "flex": null,
       "flex_flow": null,
       "grid_area": null,
       "grid_auto_columns": null,
       "grid_auto_flow": null,
       "grid_auto_rows": null,
       "grid_column": null,
       "grid_gap": null,
       "grid_row": null,
       "grid_template_areas": null,
       "grid_template_columns": null,
       "grid_template_rows": null,
       "height": null,
       "justify_content": null,
       "justify_items": null,
       "left": null,
       "margin": null,
       "max_height": null,
       "max_width": null,
       "min_height": null,
       "min_width": null,
       "object_fit": null,
       "object_position": null,
       "order": null,
       "overflow": null,
       "overflow_x": null,
       "overflow_y": null,
       "padding": null,
       "right": null,
       "top": null,
       "visibility": null,
       "width": null
      }
     },
     "aaf48420e323409d9804f662bcee8566": {
      "model_module": "@jupyter-widgets/controls",
      "model_module_version": "1.5.0",
      "model_name": "HBoxModel",
      "state": {
       "_dom_classes": [],
       "_model_module": "@jupyter-widgets/controls",
       "_model_module_version": "1.5.0",
       "_model_name": "HBoxModel",
       "_view_count": null,
       "_view_module": "@jupyter-widgets/controls",
       "_view_module_version": "1.5.0",
       "_view_name": "HBoxView",
       "box_style": "",
       "children": [
        "IPY_MODEL_3f306f6a753a476d83dcc43d2fe64a43",
        "IPY_MODEL_4172d47f315849f2b7b5c111ca1bf983"
       ],
       "layout": "IPY_MODEL_762cd003b96a4b3bbfa9d435d048f6cd"
      }
     },
     "af8c57c8794b4848a1f1718665e12051": {
      "model_module": "@jupyter-widgets/base",
      "model_module_version": "1.2.0",
      "model_name": "LayoutModel",
      "state": {
       "_model_module": "@jupyter-widgets/base",
       "_model_module_version": "1.2.0",
       "_model_name": "LayoutModel",
       "_view_count": null,
       "_view_module": "@jupyter-widgets/base",
       "_view_module_version": "1.2.0",
       "_view_name": "LayoutView",
       "align_content": null,
       "align_items": null,
       "align_self": null,
       "border": null,
       "bottom": null,
       "display": null,
       "flex": null,
       "flex_flow": null,
       "grid_area": null,
       "grid_auto_columns": null,
       "grid_auto_flow": null,
       "grid_auto_rows": null,
       "grid_column": null,
       "grid_gap": null,
       "grid_row": null,
       "grid_template_areas": null,
       "grid_template_columns": null,
       "grid_template_rows": null,
       "height": null,
       "justify_content": null,
       "justify_items": null,
       "left": null,
       "margin": null,
       "max_height": null,
       "max_width": null,
       "min_height": null,
       "min_width": null,
       "object_fit": null,
       "object_position": null,
       "order": null,
       "overflow": null,
       "overflow_x": null,
       "overflow_y": null,
       "padding": null,
       "right": null,
       "top": null,
       "visibility": null,
       "width": null
      }
     },
     "afc95e678c0a4b008e5857ee3b7927ae": {
      "model_module": "@jupyter-widgets/controls",
      "model_module_version": "1.5.0",
      "model_name": "IntProgressModel",
      "state": {
       "_dom_classes": [],
       "_model_module": "@jupyter-widgets/controls",
       "_model_module_version": "1.5.0",
       "_model_name": "IntProgressModel",
       "_view_count": null,
       "_view_module": "@jupyter-widgets/controls",
       "_view_module_version": "1.5.0",
       "_view_name": "ProgressView",
       "bar_style": "success",
       "description": "100%",
       "description_tooltip": null,
       "layout": "IPY_MODEL_4a94726ff2db4a5b84a4e14c216cba25",
       "max": 1079244,
       "min": 0,
       "orientation": "horizontal",
       "style": "IPY_MODEL_730215033c15497c8c787ad6e52c1de8",
       "value": 1079244
      }
     },
     "b159557fbc114f709d5201fe0f6d5354": {
      "model_module": "@jupyter-widgets/controls",
      "model_module_version": "1.5.0",
      "model_name": "HTMLModel",
      "state": {
       "_dom_classes": [],
       "_model_module": "@jupyter-widgets/controls",
       "_model_module_version": "1.5.0",
       "_model_name": "HTMLModel",
       "_view_count": null,
       "_view_module": "@jupyter-widgets/controls",
       "_view_module_version": "1.5.0",
       "_view_name": "HTMLView",
       "description": "",
       "description_tooltip": null,
       "layout": "IPY_MODEL_24b50dd7190f498c996d0fec095c56dd",
       "placeholder": "​",
       "style": "IPY_MODEL_b5ce7b6721f4459da33c804a71e4a7cf",
       "value": " 1079244/1079244 [01:58&lt;00:00, 9116.83it/s]"
      }
     },
     "b1701fc724d44d02b3e8de6466ca3b6e": {
      "model_module": "@jupyter-widgets/controls",
      "model_module_version": "1.5.0",
      "model_name": "ProgressStyleModel",
      "state": {
       "_model_module": "@jupyter-widgets/controls",
       "_model_module_version": "1.5.0",
       "_model_name": "ProgressStyleModel",
       "_view_count": null,
       "_view_module": "@jupyter-widgets/base",
       "_view_module_version": "1.2.0",
       "_view_name": "StyleView",
       "bar_color": null,
       "description_width": "initial"
      }
     },
     "b1cfe2582e2149deb2e6f91800999064": {
      "model_module": "@jupyter-widgets/controls",
      "model_module_version": "1.5.0",
      "model_name": "IntProgressModel",
      "state": {
       "_dom_classes": [],
       "_model_module": "@jupyter-widgets/controls",
       "_model_module_version": "1.5.0",
       "_model_name": "IntProgressModel",
       "_view_count": null,
       "_view_module": "@jupyter-widgets/controls",
       "_view_module_version": "1.5.0",
       "_view_name": "ProgressView",
       "bar_style": "",
       "description": " 73%",
       "description_tooltip": null,
       "layout": "IPY_MODEL_be289adb91fa4db69c34bc51eb18d4e2",
       "max": 4014626,
       "min": 0,
       "orientation": "horizontal",
       "style": "IPY_MODEL_14ab62c1c3fb4d1cb8f207e58f2b11a2",
       "value": 2926166
      }
     },
     "b5292f0ec841437d97b89cc63a5d4b4f": {
      "model_module": "@jupyter-widgets/controls",
      "model_module_version": "1.5.0",
      "model_name": "HTMLModel",
      "state": {
       "_dom_classes": [],
       "_model_module": "@jupyter-widgets/controls",
       "_model_module_version": "1.5.0",
       "_model_name": "HTMLModel",
       "_view_count": null,
       "_view_module": "@jupyter-widgets/controls",
       "_view_module_version": "1.5.0",
       "_view_name": "HTMLView",
       "description": "",
       "description_tooltip": null,
       "layout": "IPY_MODEL_8fa5a2d84f6549f781d1a7fda36eacb7",
       "placeholder": "​",
       "style": "IPY_MODEL_bd287ae2b0aa4fcf8b0047d2d67a13b2",
       "value": " 12472/12472 [07:11&lt;00:00, 28.91it/s]"
      }
     },
     "b5ce7b6721f4459da33c804a71e4a7cf": {
      "model_module": "@jupyter-widgets/controls",
      "model_module_version": "1.5.0",
      "model_name": "DescriptionStyleModel",
      "state": {
       "_model_module": "@jupyter-widgets/controls",
       "_model_module_version": "1.5.0",
       "_model_name": "DescriptionStyleModel",
       "_view_count": null,
       "_view_module": "@jupyter-widgets/base",
       "_view_module_version": "1.2.0",
       "_view_name": "StyleView",
       "description_width": ""
      }
     },
     "b6866afc09064c44a2d6d5531bf1c8f4": {
      "model_module": "@jupyter-widgets/controls",
      "model_module_version": "1.5.0",
      "model_name": "DescriptionStyleModel",
      "state": {
       "_model_module": "@jupyter-widgets/controls",
       "_model_module_version": "1.5.0",
       "_model_name": "DescriptionStyleModel",
       "_view_count": null,
       "_view_module": "@jupyter-widgets/base",
       "_view_module_version": "1.2.0",
       "_view_name": "StyleView",
       "description_width": ""
      }
     },
     "b7d93743f7f545b3bd01f79fe71f4fa3": {
      "model_module": "@jupyter-widgets/base",
      "model_module_version": "1.2.0",
      "model_name": "LayoutModel",
      "state": {
       "_model_module": "@jupyter-widgets/base",
       "_model_module_version": "1.2.0",
       "_model_name": "LayoutModel",
       "_view_count": null,
       "_view_module": "@jupyter-widgets/base",
       "_view_module_version": "1.2.0",
       "_view_name": "LayoutView",
       "align_content": null,
       "align_items": null,
       "align_self": null,
       "border": null,
       "bottom": null,
       "display": null,
       "flex": null,
       "flex_flow": null,
       "grid_area": null,
       "grid_auto_columns": null,
       "grid_auto_flow": null,
       "grid_auto_rows": null,
       "grid_column": null,
       "grid_gap": null,
       "grid_row": null,
       "grid_template_areas": null,
       "grid_template_columns": null,
       "grid_template_rows": null,
       "height": null,
       "justify_content": null,
       "justify_items": null,
       "left": null,
       "margin": null,
       "max_height": null,
       "max_width": null,
       "min_height": null,
       "min_width": null,
       "object_fit": null,
       "object_position": null,
       "order": null,
       "overflow": null,
       "overflow_x": null,
       "overflow_y": null,
       "padding": null,
       "right": null,
       "top": null,
       "visibility": null,
       "width": null
      }
     },
     "b90748f621a342adaa080602f27c241d": {
      "model_module": "@jupyter-widgets/base",
      "model_module_version": "1.2.0",
      "model_name": "LayoutModel",
      "state": {
       "_model_module": "@jupyter-widgets/base",
       "_model_module_version": "1.2.0",
       "_model_name": "LayoutModel",
       "_view_count": null,
       "_view_module": "@jupyter-widgets/base",
       "_view_module_version": "1.2.0",
       "_view_name": "LayoutView",
       "align_content": null,
       "align_items": null,
       "align_self": null,
       "border": null,
       "bottom": null,
       "display": null,
       "flex": null,
       "flex_flow": null,
       "grid_area": null,
       "grid_auto_columns": null,
       "grid_auto_flow": null,
       "grid_auto_rows": null,
       "grid_column": null,
       "grid_gap": null,
       "grid_row": null,
       "grid_template_areas": null,
       "grid_template_columns": null,
       "grid_template_rows": null,
       "height": null,
       "justify_content": null,
       "justify_items": null,
       "left": null,
       "margin": null,
       "max_height": null,
       "max_width": null,
       "min_height": null,
       "min_width": null,
       "object_fit": null,
       "object_position": null,
       "order": null,
       "overflow": null,
       "overflow_x": null,
       "overflow_y": null,
       "padding": null,
       "right": null,
       "top": null,
       "visibility": null,
       "width": null
      }
     },
     "b9908226724e46809833f39f07b93865": {
      "model_module": "@jupyter-widgets/controls",
      "model_module_version": "1.5.0",
      "model_name": "HTMLModel",
      "state": {
       "_dom_classes": [],
       "_model_module": "@jupyter-widgets/controls",
       "_model_module_version": "1.5.0",
       "_model_name": "HTMLModel",
       "_view_count": null,
       "_view_module": "@jupyter-widgets/controls",
       "_view_module_version": "1.5.0",
       "_view_name": "HTMLView",
       "description": "",
       "description_tooltip": null,
       "layout": "IPY_MODEL_591c0537e29640e5aa8366b51d5fd9ea",
       "placeholder": "​",
       "style": "IPY_MODEL_14899f1719d1419d9edcebf971ecd51c",
       "value": " 1079244/1079244 [01:06&lt;00:00, 16304.60it/s]"
      }
     },
     "bce091841ecc47acb5cced4b8d65c69f": {
      "model_module": "@jupyter-widgets/controls",
      "model_module_version": "1.5.0",
      "model_name": "IntProgressModel",
      "state": {
       "_dom_classes": [],
       "_model_module": "@jupyter-widgets/controls",
       "_model_module_version": "1.5.0",
       "_model_name": "IntProgressModel",
       "_view_count": null,
       "_view_module": "@jupyter-widgets/controls",
       "_view_module_version": "1.5.0",
       "_view_name": "ProgressView",
       "bar_style": "success",
       "description": "100%",
       "description_tooltip": null,
       "layout": "IPY_MODEL_9484aef7af6f477ea5ac2ca727829881",
       "max": 1079244,
       "min": 0,
       "orientation": "horizontal",
       "style": "IPY_MODEL_5cff175ba725401fa931c697773d16bf",
       "value": 1079244
      }
     },
     "bd287ae2b0aa4fcf8b0047d2d67a13b2": {
      "model_module": "@jupyter-widgets/controls",
      "model_module_version": "1.5.0",
      "model_name": "DescriptionStyleModel",
      "state": {
       "_model_module": "@jupyter-widgets/controls",
       "_model_module_version": "1.5.0",
       "_model_name": "DescriptionStyleModel",
       "_view_count": null,
       "_view_module": "@jupyter-widgets/base",
       "_view_module_version": "1.2.0",
       "_view_name": "StyleView",
       "description_width": ""
      }
     },
     "be289adb91fa4db69c34bc51eb18d4e2": {
      "model_module": "@jupyter-widgets/base",
      "model_module_version": "1.2.0",
      "model_name": "LayoutModel",
      "state": {
       "_model_module": "@jupyter-widgets/base",
       "_model_module_version": "1.2.0",
       "_model_name": "LayoutModel",
       "_view_count": null,
       "_view_module": "@jupyter-widgets/base",
       "_view_module_version": "1.2.0",
       "_view_name": "LayoutView",
       "align_content": null,
       "align_items": null,
       "align_self": null,
       "border": null,
       "bottom": null,
       "display": null,
       "flex": null,
       "flex_flow": null,
       "grid_area": null,
       "grid_auto_columns": null,
       "grid_auto_flow": null,
       "grid_auto_rows": null,
       "grid_column": null,
       "grid_gap": null,
       "grid_row": null,
       "grid_template_areas": null,
       "grid_template_columns": null,
       "grid_template_rows": null,
       "height": null,
       "justify_content": null,
       "justify_items": null,
       "left": null,
       "margin": null,
       "max_height": null,
       "max_width": null,
       "min_height": null,
       "min_width": null,
       "object_fit": null,
       "object_position": null,
       "order": null,
       "overflow": null,
       "overflow_x": null,
       "overflow_y": null,
       "padding": null,
       "right": null,
       "top": null,
       "visibility": null,
       "width": null
      }
     },
     "bf3d56c213b842b893e308b152c07e7b": {
      "model_module": "@jupyter-widgets/controls",
      "model_module_version": "1.5.0",
      "model_name": "IntProgressModel",
      "state": {
       "_dom_classes": [],
       "_model_module": "@jupyter-widgets/controls",
       "_model_module_version": "1.5.0",
       "_model_name": "IntProgressModel",
       "_view_count": null,
       "_view_module": "@jupyter-widgets/controls",
       "_view_module_version": "1.5.0",
       "_view_name": "ProgressView",
       "bar_style": "success",
       "description": "100%",
       "description_tooltip": null,
       "layout": "IPY_MODEL_8cdded552560498d994a950cbfc22e99",
       "max": 12472,
       "min": 0,
       "orientation": "horizontal",
       "style": "IPY_MODEL_b1701fc724d44d02b3e8de6466ca3b6e",
       "value": 12472
      }
     },
     "c5e9ab3a2b854a4d870ef402d499814a": {
      "model_module": "@jupyter-widgets/base",
      "model_module_version": "1.2.0",
      "model_name": "LayoutModel",
      "state": {
       "_model_module": "@jupyter-widgets/base",
       "_model_module_version": "1.2.0",
       "_model_name": "LayoutModel",
       "_view_count": null,
       "_view_module": "@jupyter-widgets/base",
       "_view_module_version": "1.2.0",
       "_view_name": "LayoutView",
       "align_content": null,
       "align_items": null,
       "align_self": null,
       "border": null,
       "bottom": null,
       "display": null,
       "flex": null,
       "flex_flow": null,
       "grid_area": null,
       "grid_auto_columns": null,
       "grid_auto_flow": null,
       "grid_auto_rows": null,
       "grid_column": null,
       "grid_gap": null,
       "grid_row": null,
       "grid_template_areas": null,
       "grid_template_columns": null,
       "grid_template_rows": null,
       "height": null,
       "justify_content": null,
       "justify_items": null,
       "left": null,
       "margin": null,
       "max_height": null,
       "max_width": null,
       "min_height": null,
       "min_width": null,
       "object_fit": null,
       "object_position": null,
       "order": null,
       "overflow": null,
       "overflow_x": null,
       "overflow_y": null,
       "padding": null,
       "right": null,
       "top": null,
       "visibility": null,
       "width": null
      }
     },
     "ca1087a2a7bf4c1fa54734bfc2d08713": {
      "model_module": "@jupyter-widgets/controls",
      "model_module_version": "1.5.0",
      "model_name": "HBoxModel",
      "state": {
       "_dom_classes": [],
       "_model_module": "@jupyter-widgets/controls",
       "_model_module_version": "1.5.0",
       "_model_name": "HBoxModel",
       "_view_count": null,
       "_view_module": "@jupyter-widgets/controls",
       "_view_module_version": "1.5.0",
       "_view_name": "HBoxView",
       "box_style": "",
       "children": [
        "IPY_MODEL_afc95e678c0a4b008e5857ee3b7927ae",
        "IPY_MODEL_9d7d7d293d7944ad9d613bc1e66bf7f3"
       ],
       "layout": "IPY_MODEL_59a75db730c743c9a382e0901843a4c6"
      }
     },
     "cb298528e1fd4cc5be25efb5469096c6": {
      "model_module": "@jupyter-widgets/base",
      "model_module_version": "1.2.0",
      "model_name": "LayoutModel",
      "state": {
       "_model_module": "@jupyter-widgets/base",
       "_model_module_version": "1.2.0",
       "_model_name": "LayoutModel",
       "_view_count": null,
       "_view_module": "@jupyter-widgets/base",
       "_view_module_version": "1.2.0",
       "_view_name": "LayoutView",
       "align_content": null,
       "align_items": null,
       "align_self": null,
       "border": null,
       "bottom": null,
       "display": null,
       "flex": null,
       "flex_flow": null,
       "grid_area": null,
       "grid_auto_columns": null,
       "grid_auto_flow": null,
       "grid_auto_rows": null,
       "grid_column": null,
       "grid_gap": null,
       "grid_row": null,
       "grid_template_areas": null,
       "grid_template_columns": null,
       "grid_template_rows": null,
       "height": null,
       "justify_content": null,
       "justify_items": null,
       "left": null,
       "margin": null,
       "max_height": null,
       "max_width": null,
       "min_height": null,
       "min_width": null,
       "object_fit": null,
       "object_position": null,
       "order": null,
       "overflow": null,
       "overflow_x": null,
       "overflow_y": null,
       "padding": null,
       "right": null,
       "top": null,
       "visibility": null,
       "width": null
      }
     },
     "ce98286c157644e0928c81caa82a03d5": {
      "model_module": "@jupyter-widgets/controls",
      "model_module_version": "1.5.0",
      "model_name": "IntProgressModel",
      "state": {
       "_dom_classes": [],
       "_model_module": "@jupyter-widgets/controls",
       "_model_module_version": "1.5.0",
       "_model_name": "IntProgressModel",
       "_view_count": null,
       "_view_module": "@jupyter-widgets/controls",
       "_view_module_version": "1.5.0",
       "_view_name": "ProgressView",
       "bar_style": "success",
       "description": "100%",
       "description_tooltip": null,
       "layout": "IPY_MODEL_17d883bb72924402bceca8d6df9e45c3",
       "max": 1079244,
       "min": 0,
       "orientation": "horizontal",
       "style": "IPY_MODEL_78bb324c30a24f71b5835a7db2f20f18",
       "value": 1079244
      }
     },
     "d0cbe3a2175547b9a9b7de96f9a071dd": {
      "model_module": "@jupyter-widgets/controls",
      "model_module_version": "1.5.0",
      "model_name": "IntProgressModel",
      "state": {
       "_dom_classes": [],
       "_model_module": "@jupyter-widgets/controls",
       "_model_module_version": "1.5.0",
       "_model_name": "IntProgressModel",
       "_view_count": null,
       "_view_module": "@jupyter-widgets/controls",
       "_view_module_version": "1.5.0",
       "_view_name": "ProgressView",
       "bar_style": "",
       "description": " 54%",
       "description_tooltip": null,
       "layout": "IPY_MODEL_7c1f563fd40b450f98189d958c91e457",
       "max": 1079244,
       "min": 0,
       "orientation": "horizontal",
       "style": "IPY_MODEL_f8072bcbf0204974b8a90caf9fad147a",
       "value": 1024764
      }
     },
     "d4514c5e3ede41939e5931b1b4d2df4e": {
      "model_module": "@jupyter-widgets/controls",
      "model_module_version": "1.5.0",
      "model_name": "ProgressStyleModel",
      "state": {
       "_model_module": "@jupyter-widgets/controls",
       "_model_module_version": "1.5.0",
       "_model_name": "ProgressStyleModel",
       "_view_count": null,
       "_view_module": "@jupyter-widgets/base",
       "_view_module_version": "1.2.0",
       "_view_name": "StyleView",
       "bar_color": null,
       "description_width": "initial"
      }
     },
     "daf619a38a4644aeb1e2e4349ec3ae09": {
      "model_module": "@jupyter-widgets/base",
      "model_module_version": "1.2.0",
      "model_name": "LayoutModel",
      "state": {
       "_model_module": "@jupyter-widgets/base",
       "_model_module_version": "1.2.0",
       "_model_name": "LayoutModel",
       "_view_count": null,
       "_view_module": "@jupyter-widgets/base",
       "_view_module_version": "1.2.0",
       "_view_name": "LayoutView",
       "align_content": null,
       "align_items": null,
       "align_self": null,
       "border": null,
       "bottom": null,
       "display": null,
       "flex": null,
       "flex_flow": null,
       "grid_area": null,
       "grid_auto_columns": null,
       "grid_auto_flow": null,
       "grid_auto_rows": null,
       "grid_column": null,
       "grid_gap": null,
       "grid_row": null,
       "grid_template_areas": null,
       "grid_template_columns": null,
       "grid_template_rows": null,
       "height": null,
       "justify_content": null,
       "justify_items": null,
       "left": null,
       "margin": null,
       "max_height": null,
       "max_width": null,
       "min_height": null,
       "min_width": null,
       "object_fit": null,
       "object_position": null,
       "order": null,
       "overflow": null,
       "overflow_x": null,
       "overflow_y": null,
       "padding": null,
       "right": null,
       "top": null,
       "visibility": null,
       "width": null
      }
     },
     "dda4e02b3972454ea0042aea861d3ad3": {
      "model_module": "@jupyter-widgets/controls",
      "model_module_version": "1.5.0",
      "model_name": "HTMLModel",
      "state": {
       "_dom_classes": [],
       "_model_module": "@jupyter-widgets/controls",
       "_model_module_version": "1.5.0",
       "_model_name": "HTMLModel",
       "_view_count": null,
       "_view_module": "@jupyter-widgets/controls",
       "_view_module_version": "1.5.0",
       "_view_name": "HTMLView",
       "description": "",
       "description_tooltip": null,
       "layout": "IPY_MODEL_eb853ca1a7c84c47afe037ca7bc9652b",
       "placeholder": "​",
       "style": "IPY_MODEL_5de455d3978a41558b585bc048d2fc37",
       "value": " 1079244/1079244 [00:56&lt;00:00, 18950.30it/s]"
      }
     },
     "e04d618aba684e5585171df42a963bc6": {
      "model_module": "@jupyter-widgets/base",
      "model_module_version": "1.2.0",
      "model_name": "LayoutModel",
      "state": {
       "_model_module": "@jupyter-widgets/base",
       "_model_module_version": "1.2.0",
       "_model_name": "LayoutModel",
       "_view_count": null,
       "_view_module": "@jupyter-widgets/base",
       "_view_module_version": "1.2.0",
       "_view_name": "LayoutView",
       "align_content": null,
       "align_items": null,
       "align_self": null,
       "border": null,
       "bottom": null,
       "display": null,
       "flex": null,
       "flex_flow": null,
       "grid_area": null,
       "grid_auto_columns": null,
       "grid_auto_flow": null,
       "grid_auto_rows": null,
       "grid_column": null,
       "grid_gap": null,
       "grid_row": null,
       "grid_template_areas": null,
       "grid_template_columns": null,
       "grid_template_rows": null,
       "height": null,
       "justify_content": null,
       "justify_items": null,
       "left": null,
       "margin": null,
       "max_height": null,
       "max_width": null,
       "min_height": null,
       "min_width": null,
       "object_fit": null,
       "object_position": null,
       "order": null,
       "overflow": null,
       "overflow_x": null,
       "overflow_y": null,
       "padding": null,
       "right": null,
       "top": null,
       "visibility": null,
       "width": null
      }
     },
     "e10fb48c046646bb95d847e6448f2f2a": {
      "model_module": "@jupyter-widgets/base",
      "model_module_version": "1.2.0",
      "model_name": "LayoutModel",
      "state": {
       "_model_module": "@jupyter-widgets/base",
       "_model_module_version": "1.2.0",
       "_model_name": "LayoutModel",
       "_view_count": null,
       "_view_module": "@jupyter-widgets/base",
       "_view_module_version": "1.2.0",
       "_view_name": "LayoutView",
       "align_content": null,
       "align_items": null,
       "align_self": null,
       "border": null,
       "bottom": null,
       "display": null,
       "flex": null,
       "flex_flow": null,
       "grid_area": null,
       "grid_auto_columns": null,
       "grid_auto_flow": null,
       "grid_auto_rows": null,
       "grid_column": null,
       "grid_gap": null,
       "grid_row": null,
       "grid_template_areas": null,
       "grid_template_columns": null,
       "grid_template_rows": null,
       "height": null,
       "justify_content": null,
       "justify_items": null,
       "left": null,
       "margin": null,
       "max_height": null,
       "max_width": null,
       "min_height": null,
       "min_width": null,
       "object_fit": null,
       "object_position": null,
       "order": null,
       "overflow": null,
       "overflow_x": null,
       "overflow_y": null,
       "padding": null,
       "right": null,
       "top": null,
       "visibility": null,
       "width": null
      }
     },
     "e4adbff79a5641089a34edfef8ef4f4f": {
      "model_module": "@jupyter-widgets/controls",
      "model_module_version": "1.5.0",
      "model_name": "ProgressStyleModel",
      "state": {
       "_model_module": "@jupyter-widgets/controls",
       "_model_module_version": "1.5.0",
       "_model_name": "ProgressStyleModel",
       "_view_count": null,
       "_view_module": "@jupyter-widgets/base",
       "_view_module_version": "1.2.0",
       "_view_name": "StyleView",
       "bar_color": null,
       "description_width": "initial"
      }
     },
     "e62e49715ce34ad19b36ba440b0a36ba": {
      "model_module": "@jupyter-widgets/base",
      "model_module_version": "1.2.0",
      "model_name": "LayoutModel",
      "state": {
       "_model_module": "@jupyter-widgets/base",
       "_model_module_version": "1.2.0",
       "_model_name": "LayoutModel",
       "_view_count": null,
       "_view_module": "@jupyter-widgets/base",
       "_view_module_version": "1.2.0",
       "_view_name": "LayoutView",
       "align_content": null,
       "align_items": null,
       "align_self": null,
       "border": null,
       "bottom": null,
       "display": null,
       "flex": null,
       "flex_flow": null,
       "grid_area": null,
       "grid_auto_columns": null,
       "grid_auto_flow": null,
       "grid_auto_rows": null,
       "grid_column": null,
       "grid_gap": null,
       "grid_row": null,
       "grid_template_areas": null,
       "grid_template_columns": null,
       "grid_template_rows": null,
       "height": null,
       "justify_content": null,
       "justify_items": null,
       "left": null,
       "margin": null,
       "max_height": null,
       "max_width": null,
       "min_height": null,
       "min_width": null,
       "object_fit": null,
       "object_position": null,
       "order": null,
       "overflow": null,
       "overflow_x": null,
       "overflow_y": null,
       "padding": null,
       "right": null,
       "top": null,
       "visibility": null,
       "width": null
      }
     },
     "e6d6557dd80a4c28a1ea44ce34740765": {
      "model_module": "@jupyter-widgets/controls",
      "model_module_version": "1.5.0",
      "model_name": "IntProgressModel",
      "state": {
       "_dom_classes": [],
       "_model_module": "@jupyter-widgets/controls",
       "_model_module_version": "1.5.0",
       "_model_name": "IntProgressModel",
       "_view_count": null,
       "_view_module": "@jupyter-widgets/controls",
       "_view_module_version": "1.5.0",
       "_view_name": "ProgressView",
       "bar_style": "success",
       "description": "100%",
       "description_tooltip": null,
       "layout": "IPY_MODEL_f2187767ae1b453aaa401a32d9227e8e",
       "max": 12472,
       "min": 0,
       "orientation": "horizontal",
       "style": "IPY_MODEL_d4514c5e3ede41939e5931b1b4d2df4e",
       "value": 12472
      }
     },
     "eb853ca1a7c84c47afe037ca7bc9652b": {
      "model_module": "@jupyter-widgets/base",
      "model_module_version": "1.2.0",
      "model_name": "LayoutModel",
      "state": {
       "_model_module": "@jupyter-widgets/base",
       "_model_module_version": "1.2.0",
       "_model_name": "LayoutModel",
       "_view_count": null,
       "_view_module": "@jupyter-widgets/base",
       "_view_module_version": "1.2.0",
       "_view_name": "LayoutView",
       "align_content": null,
       "align_items": null,
       "align_self": null,
       "border": null,
       "bottom": null,
       "display": null,
       "flex": null,
       "flex_flow": null,
       "grid_area": null,
       "grid_auto_columns": null,
       "grid_auto_flow": null,
       "grid_auto_rows": null,
       "grid_column": null,
       "grid_gap": null,
       "grid_row": null,
       "grid_template_areas": null,
       "grid_template_columns": null,
       "grid_template_rows": null,
       "height": null,
       "justify_content": null,
       "justify_items": null,
       "left": null,
       "margin": null,
       "max_height": null,
       "max_width": null,
       "min_height": null,
       "min_width": null,
       "object_fit": null,
       "object_position": null,
       "order": null,
       "overflow": null,
       "overflow_x": null,
       "overflow_y": null,
       "padding": null,
       "right": null,
       "top": null,
       "visibility": null,
       "width": null
      }
     },
     "ed452bab8f1b41cb821ce307eb7718ed": {
      "model_module": "@jupyter-widgets/controls",
      "model_module_version": "1.5.0",
      "model_name": "HBoxModel",
      "state": {
       "_dom_classes": [],
       "_model_module": "@jupyter-widgets/controls",
       "_model_module_version": "1.5.0",
       "_model_name": "HBoxModel",
       "_view_count": null,
       "_view_module": "@jupyter-widgets/controls",
       "_view_module_version": "1.5.0",
       "_view_name": "HBoxView",
       "box_style": "",
       "children": [
        "IPY_MODEL_60cb2771a73e4cb69b7a6eba738b5176",
        "IPY_MODEL_3f03c0a9f1814c248ea313de6052a259"
       ],
       "layout": "IPY_MODEL_f8346eeefea84008b17a66f264c08664"
      }
     },
     "ef280a1db912479c84f492e798ea24d4": {
      "model_module": "@jupyter-widgets/controls",
      "model_module_version": "1.5.0",
      "model_name": "DescriptionStyleModel",
      "state": {
       "_model_module": "@jupyter-widgets/controls",
       "_model_module_version": "1.5.0",
       "_model_name": "DescriptionStyleModel",
       "_view_count": null,
       "_view_module": "@jupyter-widgets/base",
       "_view_module_version": "1.2.0",
       "_view_name": "StyleView",
       "description_width": ""
      }
     },
     "f01c9a71025e495c8d7b3f64f752ff75": {
      "model_module": "@jupyter-widgets/controls",
      "model_module_version": "1.5.0",
      "model_name": "IntProgressModel",
      "state": {
       "_dom_classes": [],
       "_model_module": "@jupyter-widgets/controls",
       "_model_module_version": "1.5.0",
       "_model_name": "IntProgressModel",
       "_view_count": null,
       "_view_module": "@jupyter-widgets/controls",
       "_view_module_version": "1.5.0",
       "_view_name": "ProgressView",
       "bar_style": "success",
       "description": "100%",
       "description_tooltip": null,
       "layout": "IPY_MODEL_67d27718f3784171a72115692239643b",
       "max": 12472,
       "min": 0,
       "orientation": "horizontal",
       "style": "IPY_MODEL_e4adbff79a5641089a34edfef8ef4f4f",
       "value": 12472
      }
     },
     "f0ac4a08e383440ca5b377af13c24132": {
      "model_module": "@jupyter-widgets/controls",
      "model_module_version": "1.5.0",
      "model_name": "HTMLModel",
      "state": {
       "_dom_classes": [],
       "_model_module": "@jupyter-widgets/controls",
       "_model_module_version": "1.5.0",
       "_model_name": "HTMLModel",
       "_view_count": null,
       "_view_module": "@jupyter-widgets/controls",
       "_view_module_version": "1.5.0",
       "_view_name": "HTMLView",
       "description": "",
       "description_tooltip": null,
       "layout": "IPY_MODEL_f51d9f67c1de46dcadb1df5619f3e914",
       "placeholder": "​",
       "style": "IPY_MODEL_784128e7946743de9ad3870d618b23cd",
       "value": " 2926166/4014626 [07:01&lt;02:34, 7048.22it/s]"
      }
     },
     "f1e57852134a4d36a1cc772f1550bae3": {
      "model_module": "@jupyter-widgets/controls",
      "model_module_version": "1.5.0",
      "model_name": "HTMLModel",
      "state": {
       "_dom_classes": [],
       "_model_module": "@jupyter-widgets/controls",
       "_model_module_version": "1.5.0",
       "_model_name": "HTMLModel",
       "_view_count": null,
       "_view_module": "@jupyter-widgets/controls",
       "_view_module_version": "1.5.0",
       "_view_name": "HTMLView",
       "description": "",
       "description_tooltip": null,
       "layout": "IPY_MODEL_b7d93743f7f545b3bd01f79fe71f4fa3",
       "placeholder": "​",
       "style": "IPY_MODEL_124612df44e94ebab1291520011e86a8",
       "value": " 1048508/1079244 [3:04:13&lt;05:25, 94.29it/s]"
      }
     },
     "f2187767ae1b453aaa401a32d9227e8e": {
      "model_module": "@jupyter-widgets/base",
      "model_module_version": "1.2.0",
      "model_name": "LayoutModel",
      "state": {
       "_model_module": "@jupyter-widgets/base",
       "_model_module_version": "1.2.0",
       "_model_name": "LayoutModel",
       "_view_count": null,
       "_view_module": "@jupyter-widgets/base",
       "_view_module_version": "1.2.0",
       "_view_name": "LayoutView",
       "align_content": null,
       "align_items": null,
       "align_self": null,
       "border": null,
       "bottom": null,
       "display": null,
       "flex": null,
       "flex_flow": null,
       "grid_area": null,
       "grid_auto_columns": null,
       "grid_auto_flow": null,
       "grid_auto_rows": null,
       "grid_column": null,
       "grid_gap": null,
       "grid_row": null,
       "grid_template_areas": null,
       "grid_template_columns": null,
       "grid_template_rows": null,
       "height": null,
       "justify_content": null,
       "justify_items": null,
       "left": null,
       "margin": null,
       "max_height": null,
       "max_width": null,
       "min_height": null,
       "min_width": null,
       "object_fit": null,
       "object_position": null,
       "order": null,
       "overflow": null,
       "overflow_x": null,
       "overflow_y": null,
       "padding": null,
       "right": null,
       "top": null,
       "visibility": null,
       "width": null
      }
     },
     "f51d9f67c1de46dcadb1df5619f3e914": {
      "model_module": "@jupyter-widgets/base",
      "model_module_version": "1.2.0",
      "model_name": "LayoutModel",
      "state": {
       "_model_module": "@jupyter-widgets/base",
       "_model_module_version": "1.2.0",
       "_model_name": "LayoutModel",
       "_view_count": null,
       "_view_module": "@jupyter-widgets/base",
       "_view_module_version": "1.2.0",
       "_view_name": "LayoutView",
       "align_content": null,
       "align_items": null,
       "align_self": null,
       "border": null,
       "bottom": null,
       "display": null,
       "flex": null,
       "flex_flow": null,
       "grid_area": null,
       "grid_auto_columns": null,
       "grid_auto_flow": null,
       "grid_auto_rows": null,
       "grid_column": null,
       "grid_gap": null,
       "grid_row": null,
       "grid_template_areas": null,
       "grid_template_columns": null,
       "grid_template_rows": null,
       "height": null,
       "justify_content": null,
       "justify_items": null,
       "left": null,
       "margin": null,
       "max_height": null,
       "max_width": null,
       "min_height": null,
       "min_width": null,
       "object_fit": null,
       "object_position": null,
       "order": null,
       "overflow": null,
       "overflow_x": null,
       "overflow_y": null,
       "padding": null,
       "right": null,
       "top": null,
       "visibility": null,
       "width": null
      }
     },
     "f670f8bc1a164401b54b4b88f5e19275": {
      "model_module": "@jupyter-widgets/base",
      "model_module_version": "1.2.0",
      "model_name": "LayoutModel",
      "state": {
       "_model_module": "@jupyter-widgets/base",
       "_model_module_version": "1.2.0",
       "_model_name": "LayoutModel",
       "_view_count": null,
       "_view_module": "@jupyter-widgets/base",
       "_view_module_version": "1.2.0",
       "_view_name": "LayoutView",
       "align_content": null,
       "align_items": null,
       "align_self": null,
       "border": null,
       "bottom": null,
       "display": null,
       "flex": null,
       "flex_flow": null,
       "grid_area": null,
       "grid_auto_columns": null,
       "grid_auto_flow": null,
       "grid_auto_rows": null,
       "grid_column": null,
       "grid_gap": null,
       "grid_row": null,
       "grid_template_areas": null,
       "grid_template_columns": null,
       "grid_template_rows": null,
       "height": null,
       "justify_content": null,
       "justify_items": null,
       "left": null,
       "margin": null,
       "max_height": null,
       "max_width": null,
       "min_height": null,
       "min_width": null,
       "object_fit": null,
       "object_position": null,
       "order": null,
       "overflow": null,
       "overflow_x": null,
       "overflow_y": null,
       "padding": null,
       "right": null,
       "top": null,
       "visibility": null,
       "width": null
      }
     },
     "f8072bcbf0204974b8a90caf9fad147a": {
      "model_module": "@jupyter-widgets/controls",
      "model_module_version": "1.5.0",
      "model_name": "ProgressStyleModel",
      "state": {
       "_model_module": "@jupyter-widgets/controls",
       "_model_module_version": "1.5.0",
       "_model_name": "ProgressStyleModel",
       "_view_count": null,
       "_view_module": "@jupyter-widgets/base",
       "_view_module_version": "1.2.0",
       "_view_name": "StyleView",
       "bar_color": null,
       "description_width": "initial"
      }
     },
     "f8346eeefea84008b17a66f264c08664": {
      "model_module": "@jupyter-widgets/base",
      "model_module_version": "1.2.0",
      "model_name": "LayoutModel",
      "state": {
       "_model_module": "@jupyter-widgets/base",
       "_model_module_version": "1.2.0",
       "_model_name": "LayoutModel",
       "_view_count": null,
       "_view_module": "@jupyter-widgets/base",
       "_view_module_version": "1.2.0",
       "_view_name": "LayoutView",
       "align_content": null,
       "align_items": null,
       "align_self": null,
       "border": null,
       "bottom": null,
       "display": null,
       "flex": null,
       "flex_flow": null,
       "grid_area": null,
       "grid_auto_columns": null,
       "grid_auto_flow": null,
       "grid_auto_rows": null,
       "grid_column": null,
       "grid_gap": null,
       "grid_row": null,
       "grid_template_areas": null,
       "grid_template_columns": null,
       "grid_template_rows": null,
       "height": null,
       "justify_content": null,
       "justify_items": null,
       "left": null,
       "margin": null,
       "max_height": null,
       "max_width": null,
       "min_height": null,
       "min_width": null,
       "object_fit": null,
       "object_position": null,
       "order": null,
       "overflow": null,
       "overflow_x": null,
       "overflow_y": null,
       "padding": null,
       "right": null,
       "top": null,
       "visibility": null,
       "width": null
      }
     },
     "fe5ac318f12846ec91477bcbeac6dcf2": {
      "model_module": "@jupyter-widgets/controls",
      "model_module_version": "1.5.0",
      "model_name": "IntProgressModel",
      "state": {
       "_dom_classes": [],
       "_model_module": "@jupyter-widgets/controls",
       "_model_module_version": "1.5.0",
       "_model_name": "IntProgressModel",
       "_view_count": null,
       "_view_module": "@jupyter-widgets/controls",
       "_view_module_version": "1.5.0",
       "_view_name": "ProgressView",
       "bar_style": "",
       "description": " 87%",
       "description_tooltip": null,
       "layout": "IPY_MODEL_b90748f621a342adaa080602f27c241d",
       "max": 1079244,
       "min": 0,
       "orientation": "horizontal",
       "style": "IPY_MODEL_feff504375b147b2b2d5d4796b260085",
       "value": 941802
      }
     },
     "fe9d8b7bd3f346ab9a57ac8ae6361488": {
      "model_module": "@jupyter-widgets/base",
      "model_module_version": "1.2.0",
      "model_name": "LayoutModel",
      "state": {
       "_model_module": "@jupyter-widgets/base",
       "_model_module_version": "1.2.0",
       "_model_name": "LayoutModel",
       "_view_count": null,
       "_view_module": "@jupyter-widgets/base",
       "_view_module_version": "1.2.0",
       "_view_name": "LayoutView",
       "align_content": null,
       "align_items": null,
       "align_self": null,
       "border": null,
       "bottom": null,
       "display": null,
       "flex": null,
       "flex_flow": null,
       "grid_area": null,
       "grid_auto_columns": null,
       "grid_auto_flow": null,
       "grid_auto_rows": null,
       "grid_column": null,
       "grid_gap": null,
       "grid_row": null,
       "grid_template_areas": null,
       "grid_template_columns": null,
       "grid_template_rows": null,
       "height": null,
       "justify_content": null,
       "justify_items": null,
       "left": null,
       "margin": null,
       "max_height": null,
       "max_width": null,
       "min_height": null,
       "min_width": null,
       "object_fit": null,
       "object_position": null,
       "order": null,
       "overflow": null,
       "overflow_x": null,
       "overflow_y": null,
       "padding": null,
       "right": null,
       "top": null,
       "visibility": null,
       "width": null
      }
     },
     "feff504375b147b2b2d5d4796b260085": {
      "model_module": "@jupyter-widgets/controls",
      "model_module_version": "1.5.0",
      "model_name": "ProgressStyleModel",
      "state": {
       "_model_module": "@jupyter-widgets/controls",
       "_model_module_version": "1.5.0",
       "_model_name": "ProgressStyleModel",
       "_view_count": null,
       "_view_module": "@jupyter-widgets/base",
       "_view_module_version": "1.2.0",
       "_view_name": "StyleView",
       "bar_color": null,
       "description_width": "initial"
      }
     }
    },
    "version_major": 2,
    "version_minor": 0
   }
  }
 },
 "nbformat": 4,
 "nbformat_minor": 4
}