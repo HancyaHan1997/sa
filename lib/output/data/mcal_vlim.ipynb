{
 "cells": [
  {
   "cell_type": "code",
   "execution_count": 1,
   "metadata": {
    "papermill": {
     "duration": 0.034761,
     "end_time": "2019-10-28T13:30:14.403333",
     "exception": false,
     "start_time": "2019-10-28T13:30:14.368572",
     "status": "completed"
    },
    "tags": [
     "parameters"
    ]
   },
   "outputs": [],
   "source": [
    "shape_cat=\"\"\n",
    "vol=\"\""
   ]
  },
  {
   "cell_type": "code",
   "execution_count": 2,
   "metadata": {
    "papermill": {
     "duration": 0.032734,
     "end_time": "2019-10-28T13:30:14.465072",
     "exception": false,
     "start_time": "2019-10-28T13:30:14.432338",
     "status": "completed"
    },
    "tags": [
     "injected-parameters"
    ]
   },
   "outputs": [],
   "source": [
    "# Parameters\n",
    "shape_cat = \"mcal\"\n",
    "vol = \"vlim\"\n"
   ]
  },
  {
   "cell_type": "code",
   "execution_count": 3,
   "metadata": {
    "papermill": {
     "duration": 1.939866,
     "end_time": "2019-10-28T13:30:16.432065",
     "exception": false,
     "start_time": "2019-10-28T13:30:14.492199",
     "status": "completed"
    },
    "tags": []
   },
   "outputs": [],
   "source": [
    "from astropy.io import fits\n",
    "from astropy.table import Table\n",
    "import pandas as pd\n",
    "import fitsio as fio\n",
    "import numpy as np\n",
    "import ast\n",
    "\n",
    "import astropy.cosmology\n",
    "from astropy.coordinates import SkyCoord  # High-level coordinates\n",
    "from astropy.coordinates import ICRS, Galactic, FK4, FK5  # Low-level frames\n",
    "from astropy.coordinates import Angle, Latitude, Longitude  # Angles\n",
    "import astropy.units as u\n",
    "from IPython.display import display, Math"
   ]
  },
  {
   "cell_type": "code",
   "execution_count": 4,
   "metadata": {
    "papermill": {
     "duration": 0.641468,
     "end_time": "2019-10-28T13:30:17.102280",
     "exception": false,
     "start_time": "2019-10-28T13:30:16.460812",
     "status": "completed"
    },
    "tags": []
   },
   "outputs": [
    {
     "name": "stdout",
     "output_type": "stream",
     "text": [
      "Number of members:  399002\n",
      "Number of clusters:  7066\n",
      "Number of members associated with multiple clusters:  1427\n"
     ]
    }
   ],
   "source": [
    "if vol==\"vlim\":\n",
    "    cluster_table=Table(fits.open('/lsst/troxel/y1a1/y1a1_gold_1.0.3-d10-mof-001d_run_redmapper_v6.4.17-vlim_lgt20_desformat_catalog.fit')[1].data)\n",
    "    member_table=Table(fits.open('/lsst/troxel/y1a1/y1a1_gold_1.0.3-d10-mof-001d_run_redmapper_v6.4.17-vlim_lgt20_desformat_catalog_members.fit')[1].data)\n",
    "    random_table=Table(fits.open('/lsst/troxel/y1a1/y1a1_gold_1.0.3_wide+d10-mof-001d_run_redmapper_v6.4.17-2_randcat_z0.10-0.95_lgt020_vl50.fit')[1].data)\n",
    "elif vol==\"all\":\n",
    "    cluster_table=Table(fits.open('/lsst/troxel/y1a1/y1a1_gold_1.0.3-d10-mof-001d_run_redmapper_v6.4.17_lgt20_desformat_catalog.fit')[1].data)\n",
    "    member_table=Table(fits.open('/lsst/troxel/y1a1/y1a1_gold_1.0.3-d10-mof-001d_run_redmapper_v6.4.17_lgt20_desformat_catalog_members.fit')[1].data)\n",
    "    random_table=Table(fits.open('/lsst/troxel/y1a1/y1a1_gold_1.0.3_wide+d10-mof-001d_run_redmapper_v6.4.17-2_randcat_z0.10-0.95_lgt020_vl02.fit')[1].data)\n",
    "else:\n",
    "    raise TypeError(\"Wrong vol\")\n",
    "cluster_table.remove_columns(['P_C','C_LAMBDA','C_LAMBDA_ERR','Q_CEN']) #unknown columns\n",
    "\n",
    "print(\"Number of members: \",len(member_table))\n",
    "print(\"Number of clusters: \",len(cluster_table))\n",
    "print(\"Number of members associated with multiple clusters: \",len(member_table['ID'])-len(np.unique(member_table['ID'])))"
   ]
  },
  {
   "cell_type": "code",
   "execution_count": 5,
   "metadata": {
    "papermill": {
     "duration": 107.723774,
     "end_time": "2019-10-28T13:32:04.855089",
     "exception": false,
     "start_time": "2019-10-28T13:30:17.131315",
     "status": "completed"
    },
    "tags": []
   },
   "outputs": [
    {
     "name": "stdout",
     "output_type": "stream",
     "text": [
      "Metacal loaded\n"
     ]
    }
   ],
   "source": [
    "if shape_cat==\"mcal\":\n",
    "    mcal = fio.FITS('/lsst/troxel/y1a1/mcal-y1a1-combined-riz-unblind-v4-matched.fits',memmap=True,mode='r')[1]\n",
    "    print (\"Metacal loaded\")\n",
    "    shape_id=mcal['coadd_objects_id'][:] \n",
    "elif shape_cat==\"im3\":\n",
    "        mcal = fio.FITS('/lsst/troxel/y1a1/y1a1-im3shape_v5_unblind_v2_matched_v4.fits',memmap=True,mode='r')[1]\n",
    "        print (\"Metacal loaded\")\n",
    "        shape_id=mcal['coadd_objects_id'][:] \n",
    "else:\n",
    "    raise "
   ]
  },
  {
   "cell_type": "code",
   "execution_count": 6,
   "metadata": {
    "papermill": {
     "duration": 14.169708,
     "end_time": "2019-10-28T13:32:19.057811",
     "exception": false,
     "start_time": "2019-10-28T13:32:04.888103",
     "status": "completed"
    },
    "tags": []
   },
   "outputs": [
    {
     "name": "stdout",
     "output_type": "stream",
     "text": [
      "Number of members without shape:  3243\n"
     ]
    }
   ],
   "source": [
    "print(\"Number of members without shape: \",len(member_table['ID'])-np.sum(np.in1d(member_table['ID'],shape_id)))"
   ]
  },
  {
   "cell_type": "code",
   "execution_count": 7,
   "metadata": {
    "papermill": {
     "duration": 0.069967,
     "end_time": "2019-10-28T13:32:19.160055",
     "exception": false,
     "start_time": "2019-10-28T13:32:19.090088",
     "status": "completed"
    },
    "tags": []
   },
   "outputs": [
    {
     "data": {
      "text/plain": [
       "{'hdunum': 2,\n",
       " 'extnum': 1,\n",
       " 'hdutype': 2,\n",
       " 'extname': '',\n",
       " 'hduname': '',\n",
       " 'extver': 0,\n",
       " 'hduver': 0,\n",
       " 'is_compressed_image': 0,\n",
       " 'header_start': 2880,\n",
       " 'data_start': 17280,\n",
       " 'data_end': 84075649920,\n",
       " 'nrows': 136930995,\n",
       " 'ncols': 80,\n",
       " 'colinfo': [{'name': 'coadd_objects_id',\n",
       "   'tform': 'K',\n",
       "   'type': 81,\n",
       "   'repeat': 1,\n",
       "   'width': 8,\n",
       "   'eqtype': 81,\n",
       "   'tdim': [1],\n",
       "   'tscale': 1.0,\n",
       "   'tzero': 0.0},\n",
       "  {'name': 'flags',\n",
       "   'tform': 'J',\n",
       "   'type': 41,\n",
       "   'repeat': 1,\n",
       "   'width': 4,\n",
       "   'eqtype': 41,\n",
       "   'tdim': [1],\n",
       "   'tscale': 1.0,\n",
       "   'tzero': 0.0},\n",
       "  {'name': 'mask_frac',\n",
       "   'tform': 'D',\n",
       "   'type': 82,\n",
       "   'repeat': 1,\n",
       "   'width': 8,\n",
       "   'eqtype': 82,\n",
       "   'tdim': [1],\n",
       "   'tscale': 1.0,\n",
       "   'tzero': 0.0},\n",
       "  {'name': 'psf_e1',\n",
       "   'tform': 'D',\n",
       "   'type': 82,\n",
       "   'repeat': 1,\n",
       "   'width': 8,\n",
       "   'eqtype': 82,\n",
       "   'tdim': [1],\n",
       "   'tscale': 1.0,\n",
       "   'tzero': 0.0},\n",
       "  {'name': 'psf_e2',\n",
       "   'tform': 'D',\n",
       "   'type': 82,\n",
       "   'repeat': 1,\n",
       "   'width': 8,\n",
       "   'eqtype': 82,\n",
       "   'tdim': [1],\n",
       "   'tscale': 1.0,\n",
       "   'tzero': 0.0},\n",
       "  {'name': 'psf_size',\n",
       "   'tform': 'D',\n",
       "   'type': 82,\n",
       "   'repeat': 1,\n",
       "   'width': 8,\n",
       "   'eqtype': 82,\n",
       "   'tdim': [1],\n",
       "   'tscale': 1.0,\n",
       "   'tzero': 0.0},\n",
       "  {'name': 'mcal_psf_e1',\n",
       "   'tform': 'D',\n",
       "   'type': 82,\n",
       "   'repeat': 1,\n",
       "   'width': 8,\n",
       "   'eqtype': 82,\n",
       "   'tdim': [1],\n",
       "   'tscale': 1.0,\n",
       "   'tzero': 0.0},\n",
       "  {'name': 'mcal_psf_e2',\n",
       "   'tform': 'D',\n",
       "   'type': 82,\n",
       "   'repeat': 1,\n",
       "   'width': 8,\n",
       "   'eqtype': 82,\n",
       "   'tdim': [1],\n",
       "   'tscale': 1.0,\n",
       "   'tzero': 0.0},\n",
       "  {'name': 'mcal_psf_size',\n",
       "   'tform': 'D',\n",
       "   'type': 82,\n",
       "   'repeat': 1,\n",
       "   'width': 8,\n",
       "   'eqtype': 82,\n",
       "   'tdim': [1],\n",
       "   'tscale': 1.0,\n",
       "   'tzero': 0.0},\n",
       "  {'name': 'e1',\n",
       "   'tform': 'D',\n",
       "   'type': 82,\n",
       "   'repeat': 1,\n",
       "   'width': 8,\n",
       "   'eqtype': 82,\n",
       "   'tdim': [1],\n",
       "   'tscale': 1.0,\n",
       "   'tzero': 0.0},\n",
       "  {'name': 'e1_1p',\n",
       "   'tform': 'D',\n",
       "   'type': 82,\n",
       "   'repeat': 1,\n",
       "   'width': 8,\n",
       "   'eqtype': 82,\n",
       "   'tdim': [1],\n",
       "   'tscale': 1.0,\n",
       "   'tzero': 0.0},\n",
       "  {'name': 'e1_1m',\n",
       "   'tform': 'D',\n",
       "   'type': 82,\n",
       "   'repeat': 1,\n",
       "   'width': 8,\n",
       "   'eqtype': 82,\n",
       "   'tdim': [1],\n",
       "   'tscale': 1.0,\n",
       "   'tzero': 0.0},\n",
       "  {'name': 'e1_2p',\n",
       "   'tform': 'D',\n",
       "   'type': 82,\n",
       "   'repeat': 1,\n",
       "   'width': 8,\n",
       "   'eqtype': 82,\n",
       "   'tdim': [1],\n",
       "   'tscale': 1.0,\n",
       "   'tzero': 0.0},\n",
       "  {'name': 'e1_2m',\n",
       "   'tform': 'D',\n",
       "   'type': 82,\n",
       "   'repeat': 1,\n",
       "   'width': 8,\n",
       "   'eqtype': 82,\n",
       "   'tdim': [1],\n",
       "   'tscale': 1.0,\n",
       "   'tzero': 0.0},\n",
       "  {'name': 'e2',\n",
       "   'tform': 'D',\n",
       "   'type': 82,\n",
       "   'repeat': 1,\n",
       "   'width': 8,\n",
       "   'eqtype': 82,\n",
       "   'tdim': [1],\n",
       "   'tscale': 1.0,\n",
       "   'tzero': 0.0},\n",
       "  {'name': 'e2_1p',\n",
       "   'tform': 'D',\n",
       "   'type': 82,\n",
       "   'repeat': 1,\n",
       "   'width': 8,\n",
       "   'eqtype': 82,\n",
       "   'tdim': [1],\n",
       "   'tscale': 1.0,\n",
       "   'tzero': 0.0},\n",
       "  {'name': 'e2_1m',\n",
       "   'tform': 'D',\n",
       "   'type': 82,\n",
       "   'repeat': 1,\n",
       "   'width': 8,\n",
       "   'eqtype': 82,\n",
       "   'tdim': [1],\n",
       "   'tscale': 1.0,\n",
       "   'tzero': 0.0},\n",
       "  {'name': 'e2_2p',\n",
       "   'tform': 'D',\n",
       "   'type': 82,\n",
       "   'repeat': 1,\n",
       "   'width': 8,\n",
       "   'eqtype': 82,\n",
       "   'tdim': [1],\n",
       "   'tscale': 1.0,\n",
       "   'tzero': 0.0},\n",
       "  {'name': 'e2_2m',\n",
       "   'tform': 'D',\n",
       "   'type': 82,\n",
       "   'repeat': 1,\n",
       "   'width': 8,\n",
       "   'eqtype': 82,\n",
       "   'tdim': [1],\n",
       "   'tscale': 1.0,\n",
       "   'tzero': 0.0},\n",
       "  {'name': 'size',\n",
       "   'tform': 'D',\n",
       "   'type': 82,\n",
       "   'repeat': 1,\n",
       "   'width': 8,\n",
       "   'eqtype': 82,\n",
       "   'tdim': [1],\n",
       "   'tscale': 1.0,\n",
       "   'tzero': 0.0},\n",
       "  {'name': 'size_1p',\n",
       "   'tform': 'D',\n",
       "   'type': 82,\n",
       "   'repeat': 1,\n",
       "   'width': 8,\n",
       "   'eqtype': 82,\n",
       "   'tdim': [1],\n",
       "   'tscale': 1.0,\n",
       "   'tzero': 0.0},\n",
       "  {'name': 'size_1m',\n",
       "   'tform': 'D',\n",
       "   'type': 82,\n",
       "   'repeat': 1,\n",
       "   'width': 8,\n",
       "   'eqtype': 82,\n",
       "   'tdim': [1],\n",
       "   'tscale': 1.0,\n",
       "   'tzero': 0.0},\n",
       "  {'name': 'size_2p',\n",
       "   'tform': 'D',\n",
       "   'type': 82,\n",
       "   'repeat': 1,\n",
       "   'width': 8,\n",
       "   'eqtype': 82,\n",
       "   'tdim': [1],\n",
       "   'tscale': 1.0,\n",
       "   'tzero': 0.0},\n",
       "  {'name': 'size_2m',\n",
       "   'tform': 'D',\n",
       "   'type': 82,\n",
       "   'repeat': 1,\n",
       "   'width': 8,\n",
       "   'eqtype': 82,\n",
       "   'tdim': [1],\n",
       "   'tscale': 1.0,\n",
       "   'tzero': 0.0},\n",
       "  {'name': 'size_err',\n",
       "   'tform': 'D',\n",
       "   'type': 82,\n",
       "   'repeat': 1,\n",
       "   'width': 8,\n",
       "   'eqtype': 82,\n",
       "   'tdim': [1],\n",
       "   'tscale': 1.0,\n",
       "   'tzero': 0.0},\n",
       "  {'name': 'size_err_1p',\n",
       "   'tform': 'D',\n",
       "   'type': 82,\n",
       "   'repeat': 1,\n",
       "   'width': 8,\n",
       "   'eqtype': 82,\n",
       "   'tdim': [1],\n",
       "   'tscale': 1.0,\n",
       "   'tzero': 0.0},\n",
       "  {'name': 'size_err_1m',\n",
       "   'tform': 'D',\n",
       "   'type': 82,\n",
       "   'repeat': 1,\n",
       "   'width': 8,\n",
       "   'eqtype': 82,\n",
       "   'tdim': [1],\n",
       "   'tscale': 1.0,\n",
       "   'tzero': 0.0},\n",
       "  {'name': 'size_err_2p',\n",
       "   'tform': 'D',\n",
       "   'type': 82,\n",
       "   'repeat': 1,\n",
       "   'width': 8,\n",
       "   'eqtype': 82,\n",
       "   'tdim': [1],\n",
       "   'tscale': 1.0,\n",
       "   'tzero': 0.0},\n",
       "  {'name': 'size_err_2m',\n",
       "   'tform': 'D',\n",
       "   'type': 82,\n",
       "   'repeat': 1,\n",
       "   'width': 8,\n",
       "   'eqtype': 82,\n",
       "   'tdim': [1],\n",
       "   'tscale': 1.0,\n",
       "   'tzero': 0.0},\n",
       "  {'name': 'snr',\n",
       "   'tform': 'D',\n",
       "   'type': 82,\n",
       "   'repeat': 1,\n",
       "   'width': 8,\n",
       "   'eqtype': 82,\n",
       "   'tdim': [1],\n",
       "   'tscale': 1.0,\n",
       "   'tzero': 0.0},\n",
       "  {'name': 'snr_1p',\n",
       "   'tform': 'D',\n",
       "   'type': 82,\n",
       "   'repeat': 1,\n",
       "   'width': 8,\n",
       "   'eqtype': 82,\n",
       "   'tdim': [1],\n",
       "   'tscale': 1.0,\n",
       "   'tzero': 0.0},\n",
       "  {'name': 'snr_1m',\n",
       "   'tform': 'D',\n",
       "   'type': 82,\n",
       "   'repeat': 1,\n",
       "   'width': 8,\n",
       "   'eqtype': 82,\n",
       "   'tdim': [1],\n",
       "   'tscale': 1.0,\n",
       "   'tzero': 0.0},\n",
       "  {'name': 'snr_2p',\n",
       "   'tform': 'D',\n",
       "   'type': 82,\n",
       "   'repeat': 1,\n",
       "   'width': 8,\n",
       "   'eqtype': 82,\n",
       "   'tdim': [1],\n",
       "   'tscale': 1.0,\n",
       "   'tzero': 0.0},\n",
       "  {'name': 'snr_2m',\n",
       "   'tform': 'D',\n",
       "   'type': 82,\n",
       "   'repeat': 1,\n",
       "   'width': 8,\n",
       "   'eqtype': 82,\n",
       "   'tdim': [1],\n",
       "   'tscale': 1.0,\n",
       "   'tzero': 0.0},\n",
       "  {'name': 'covmat_0_0',\n",
       "   'tform': 'D',\n",
       "   'type': 82,\n",
       "   'repeat': 1,\n",
       "   'width': 8,\n",
       "   'eqtype': 82,\n",
       "   'tdim': [1],\n",
       "   'tscale': 1.0,\n",
       "   'tzero': 0.0},\n",
       "  {'name': 'covmat_0_0_1p',\n",
       "   'tform': 'D',\n",
       "   'type': 82,\n",
       "   'repeat': 1,\n",
       "   'width': 8,\n",
       "   'eqtype': 82,\n",
       "   'tdim': [1],\n",
       "   'tscale': 1.0,\n",
       "   'tzero': 0.0},\n",
       "  {'name': 'covmat_0_0_1m',\n",
       "   'tform': 'D',\n",
       "   'type': 82,\n",
       "   'repeat': 1,\n",
       "   'width': 8,\n",
       "   'eqtype': 82,\n",
       "   'tdim': [1],\n",
       "   'tscale': 1.0,\n",
       "   'tzero': 0.0},\n",
       "  {'name': 'covmat_0_0_2p',\n",
       "   'tform': 'D',\n",
       "   'type': 82,\n",
       "   'repeat': 1,\n",
       "   'width': 8,\n",
       "   'eqtype': 82,\n",
       "   'tdim': [1],\n",
       "   'tscale': 1.0,\n",
       "   'tzero': 0.0},\n",
       "  {'name': 'covmat_0_0_2m',\n",
       "   'tform': 'D',\n",
       "   'type': 82,\n",
       "   'repeat': 1,\n",
       "   'width': 8,\n",
       "   'eqtype': 82,\n",
       "   'tdim': [1],\n",
       "   'tscale': 1.0,\n",
       "   'tzero': 0.0},\n",
       "  {'name': 'covmat_0_1',\n",
       "   'tform': 'D',\n",
       "   'type': 82,\n",
       "   'repeat': 1,\n",
       "   'width': 8,\n",
       "   'eqtype': 82,\n",
       "   'tdim': [1],\n",
       "   'tscale': 1.0,\n",
       "   'tzero': 0.0},\n",
       "  {'name': 'covmat_0_1_1p',\n",
       "   'tform': 'D',\n",
       "   'type': 82,\n",
       "   'repeat': 1,\n",
       "   'width': 8,\n",
       "   'eqtype': 82,\n",
       "   'tdim': [1],\n",
       "   'tscale': 1.0,\n",
       "   'tzero': 0.0},\n",
       "  {'name': 'covmat_0_1_1m',\n",
       "   'tform': 'D',\n",
       "   'type': 82,\n",
       "   'repeat': 1,\n",
       "   'width': 8,\n",
       "   'eqtype': 82,\n",
       "   'tdim': [1],\n",
       "   'tscale': 1.0,\n",
       "   'tzero': 0.0},\n",
       "  {'name': 'covmat_0_1_2p',\n",
       "   'tform': 'D',\n",
       "   'type': 82,\n",
       "   'repeat': 1,\n",
       "   'width': 8,\n",
       "   'eqtype': 82,\n",
       "   'tdim': [1],\n",
       "   'tscale': 1.0,\n",
       "   'tzero': 0.0},\n",
       "  {'name': 'covmat_0_1_2m',\n",
       "   'tform': 'D',\n",
       "   'type': 82,\n",
       "   'repeat': 1,\n",
       "   'width': 8,\n",
       "   'eqtype': 82,\n",
       "   'tdim': [1],\n",
       "   'tscale': 1.0,\n",
       "   'tzero': 0.0},\n",
       "  {'name': 'covmat_1_1',\n",
       "   'tform': 'D',\n",
       "   'type': 82,\n",
       "   'repeat': 1,\n",
       "   'width': 8,\n",
       "   'eqtype': 82,\n",
       "   'tdim': [1],\n",
       "   'tscale': 1.0,\n",
       "   'tzero': 0.0},\n",
       "  {'name': 'covmat_1_1_1p',\n",
       "   'tform': 'D',\n",
       "   'type': 82,\n",
       "   'repeat': 1,\n",
       "   'width': 8,\n",
       "   'eqtype': 82,\n",
       "   'tdim': [1],\n",
       "   'tscale': 1.0,\n",
       "   'tzero': 0.0},\n",
       "  {'name': 'covmat_1_1_1m',\n",
       "   'tform': 'D',\n",
       "   'type': 82,\n",
       "   'repeat': 1,\n",
       "   'width': 8,\n",
       "   'eqtype': 82,\n",
       "   'tdim': [1],\n",
       "   'tscale': 1.0,\n",
       "   'tzero': 0.0},\n",
       "  {'name': 'covmat_1_1_2p',\n",
       "   'tform': 'D',\n",
       "   'type': 82,\n",
       "   'repeat': 1,\n",
       "   'width': 8,\n",
       "   'eqtype': 82,\n",
       "   'tdim': [1],\n",
       "   'tscale': 1.0,\n",
       "   'tzero': 0.0},\n",
       "  {'name': 'covmat_1_1_2m',\n",
       "   'tform': 'D',\n",
       "   'type': 82,\n",
       "   'repeat': 1,\n",
       "   'width': 8,\n",
       "   'eqtype': 82,\n",
       "   'tdim': [1],\n",
       "   'tscale': 1.0,\n",
       "   'tzero': 0.0},\n",
       "  {'name': 'flux_r',\n",
       "   'tform': 'D',\n",
       "   'type': 82,\n",
       "   'repeat': 1,\n",
       "   'width': 8,\n",
       "   'eqtype': 82,\n",
       "   'tdim': [1],\n",
       "   'tscale': 1.0,\n",
       "   'tzero': 0.0},\n",
       "  {'name': 'flux_r_1p',\n",
       "   'tform': 'D',\n",
       "   'type': 82,\n",
       "   'repeat': 1,\n",
       "   'width': 8,\n",
       "   'eqtype': 82,\n",
       "   'tdim': [1],\n",
       "   'tscale': 1.0,\n",
       "   'tzero': 0.0},\n",
       "  {'name': 'flux_r_1m',\n",
       "   'tform': 'D',\n",
       "   'type': 82,\n",
       "   'repeat': 1,\n",
       "   'width': 8,\n",
       "   'eqtype': 82,\n",
       "   'tdim': [1],\n",
       "   'tscale': 1.0,\n",
       "   'tzero': 0.0},\n",
       "  {'name': 'flux_r_2p',\n",
       "   'tform': 'D',\n",
       "   'type': 82,\n",
       "   'repeat': 1,\n",
       "   'width': 8,\n",
       "   'eqtype': 82,\n",
       "   'tdim': [1],\n",
       "   'tscale': 1.0,\n",
       "   'tzero': 0.0},\n",
       "  {'name': 'flux_r_2m',\n",
       "   'tform': 'D',\n",
       "   'type': 82,\n",
       "   'repeat': 1,\n",
       "   'width': 8,\n",
       "   'eqtype': 82,\n",
       "   'tdim': [1],\n",
       "   'tscale': 1.0,\n",
       "   'tzero': 0.0},\n",
       "  {'name': 'flux_err_r',\n",
       "   'tform': 'D',\n",
       "   'type': 82,\n",
       "   'repeat': 1,\n",
       "   'width': 8,\n",
       "   'eqtype': 82,\n",
       "   'tdim': [1],\n",
       "   'tscale': 1.0,\n",
       "   'tzero': 0.0},\n",
       "  {'name': 'flux_i',\n",
       "   'tform': 'D',\n",
       "   'type': 82,\n",
       "   'repeat': 1,\n",
       "   'width': 8,\n",
       "   'eqtype': 82,\n",
       "   'tdim': [1],\n",
       "   'tscale': 1.0,\n",
       "   'tzero': 0.0},\n",
       "  {'name': 'flux_i_1p',\n",
       "   'tform': 'D',\n",
       "   'type': 82,\n",
       "   'repeat': 1,\n",
       "   'width': 8,\n",
       "   'eqtype': 82,\n",
       "   'tdim': [1],\n",
       "   'tscale': 1.0,\n",
       "   'tzero': 0.0},\n",
       "  {'name': 'flux_i_1m',\n",
       "   'tform': 'D',\n",
       "   'type': 82,\n",
       "   'repeat': 1,\n",
       "   'width': 8,\n",
       "   'eqtype': 82,\n",
       "   'tdim': [1],\n",
       "   'tscale': 1.0,\n",
       "   'tzero': 0.0},\n",
       "  {'name': 'flux_i_2p',\n",
       "   'tform': 'D',\n",
       "   'type': 82,\n",
       "   'repeat': 1,\n",
       "   'width': 8,\n",
       "   'eqtype': 82,\n",
       "   'tdim': [1],\n",
       "   'tscale': 1.0,\n",
       "   'tzero': 0.0},\n",
       "  {'name': 'flux_i_2m',\n",
       "   'tform': 'D',\n",
       "   'type': 82,\n",
       "   'repeat': 1,\n",
       "   'width': 8,\n",
       "   'eqtype': 82,\n",
       "   'tdim': [1],\n",
       "   'tscale': 1.0,\n",
       "   'tzero': 0.0},\n",
       "  {'name': 'flux_err_i',\n",
       "   'tform': 'D',\n",
       "   'type': 82,\n",
       "   'repeat': 1,\n",
       "   'width': 8,\n",
       "   'eqtype': 82,\n",
       "   'tdim': [1],\n",
       "   'tscale': 1.0,\n",
       "   'tzero': 0.0},\n",
       "  {'name': 'flux_z',\n",
       "   'tform': 'D',\n",
       "   'type': 82,\n",
       "   'repeat': 1,\n",
       "   'width': 8,\n",
       "   'eqtype': 82,\n",
       "   'tdim': [1],\n",
       "   'tscale': 1.0,\n",
       "   'tzero': 0.0},\n",
       "  {'name': 'flux_z_1p',\n",
       "   'tform': 'D',\n",
       "   'type': 82,\n",
       "   'repeat': 1,\n",
       "   'width': 8,\n",
       "   'eqtype': 82,\n",
       "   'tdim': [1],\n",
       "   'tscale': 1.0,\n",
       "   'tzero': 0.0},\n",
       "  {'name': 'flux_z_1m',\n",
       "   'tform': 'D',\n",
       "   'type': 82,\n",
       "   'repeat': 1,\n",
       "   'width': 8,\n",
       "   'eqtype': 82,\n",
       "   'tdim': [1],\n",
       "   'tscale': 1.0,\n",
       "   'tzero': 0.0},\n",
       "  {'name': 'flux_z_2p',\n",
       "   'tform': 'D',\n",
       "   'type': 82,\n",
       "   'repeat': 1,\n",
       "   'width': 8,\n",
       "   'eqtype': 82,\n",
       "   'tdim': [1],\n",
       "   'tscale': 1.0,\n",
       "   'tzero': 0.0},\n",
       "  {'name': 'flux_z_2m',\n",
       "   'tform': 'D',\n",
       "   'type': 82,\n",
       "   'repeat': 1,\n",
       "   'width': 8,\n",
       "   'eqtype': 82,\n",
       "   'tdim': [1],\n",
       "   'tscale': 1.0,\n",
       "   'tzero': 0.0},\n",
       "  {'name': 'flux_err_z',\n",
       "   'tform': 'D',\n",
       "   'type': 82,\n",
       "   'repeat': 1,\n",
       "   'width': 8,\n",
       "   'eqtype': 82,\n",
       "   'tdim': [1],\n",
       "   'tscale': 1.0,\n",
       "   'tzero': 0.0},\n",
       "  {'name': 'R11',\n",
       "   'tform': 'D',\n",
       "   'type': 82,\n",
       "   'repeat': 1,\n",
       "   'width': 8,\n",
       "   'eqtype': 82,\n",
       "   'tdim': [1],\n",
       "   'tscale': 1.0,\n",
       "   'tzero': 0.0},\n",
       "  {'name': 'R12',\n",
       "   'tform': 'D',\n",
       "   'type': 82,\n",
       "   'repeat': 1,\n",
       "   'width': 8,\n",
       "   'eqtype': 82,\n",
       "   'tdim': [1],\n",
       "   'tscale': 1.0,\n",
       "   'tzero': 0.0},\n",
       "  {'name': 'R21',\n",
       "   'tform': 'D',\n",
       "   'type': 82,\n",
       "   'repeat': 1,\n",
       "   'width': 8,\n",
       "   'eqtype': 82,\n",
       "   'tdim': [1],\n",
       "   'tscale': 1.0,\n",
       "   'tzero': 0.0},\n",
       "  {'name': 'R22',\n",
       "   'tform': 'D',\n",
       "   'type': 82,\n",
       "   'repeat': 1,\n",
       "   'width': 8,\n",
       "   'eqtype': 82,\n",
       "   'tdim': [1],\n",
       "   'tscale': 1.0,\n",
       "   'tzero': 0.0},\n",
       "  {'name': 'region',\n",
       "   'tform': 'I',\n",
       "   'type': 21,\n",
       "   'repeat': 1,\n",
       "   'width': 2,\n",
       "   'eqtype': 21,\n",
       "   'tdim': [1],\n",
       "   'tscale': 1.0,\n",
       "   'tzero': 0.0},\n",
       "  {'name': 'ra',\n",
       "   'tform': 'D',\n",
       "   'type': 82,\n",
       "   'repeat': 1,\n",
       "   'width': 8,\n",
       "   'eqtype': 82,\n",
       "   'tdim': [1],\n",
       "   'tscale': 1.0,\n",
       "   'tzero': 0.0},\n",
       "  {'name': 'dec',\n",
       "   'tform': 'D',\n",
       "   'type': 82,\n",
       "   'repeat': 1,\n",
       "   'width': 8,\n",
       "   'eqtype': 82,\n",
       "   'tdim': [1],\n",
       "   'tscale': 1.0,\n",
       "   'tzero': 0.0},\n",
       "  {'name': 'tilename',\n",
       "   'tform': '12A',\n",
       "   'type': 16,\n",
       "   'repeat': 12,\n",
       "   'width': 12,\n",
       "   'eqtype': 16,\n",
       "   'tdim': [12],\n",
       "   'tscale': 1.0,\n",
       "   'tzero': 0.0},\n",
       "  {'name': 'flags_select',\n",
       "   'tform': 'J',\n",
       "   'type': 41,\n",
       "   'repeat': 1,\n",
       "   'width': 4,\n",
       "   'eqtype': 41,\n",
       "   'tdim': [1],\n",
       "   'tscale': 1.0,\n",
       "   'tzero': 0.0},\n",
       "  {'name': 'flags_select_1p',\n",
       "   'tform': 'J',\n",
       "   'type': 41,\n",
       "   'repeat': 1,\n",
       "   'width': 4,\n",
       "   'eqtype': 41,\n",
       "   'tdim': [1],\n",
       "   'tscale': 1.0,\n",
       "   'tzero': 0.0},\n",
       "  {'name': 'flags_select_1m',\n",
       "   'tform': 'J',\n",
       "   'type': 41,\n",
       "   'repeat': 1,\n",
       "   'width': 4,\n",
       "   'eqtype': 41,\n",
       "   'tdim': [1],\n",
       "   'tscale': 1.0,\n",
       "   'tzero': 0.0},\n",
       "  {'name': 'flags_select_2p',\n",
       "   'tform': 'J',\n",
       "   'type': 41,\n",
       "   'repeat': 1,\n",
       "   'width': 4,\n",
       "   'eqtype': 41,\n",
       "   'tdim': [1],\n",
       "   'tscale': 1.0,\n",
       "   'tzero': 0.0},\n",
       "  {'name': 'flags_select_2m',\n",
       "   'tform': 'J',\n",
       "   'type': 41,\n",
       "   'repeat': 1,\n",
       "   'width': 4,\n",
       "   'eqtype': 41,\n",
       "   'tdim': [1],\n",
       "   'tscale': 1.0,\n",
       "   'tzero': 0.0}]}"
      ]
     },
     "execution_count": 7,
     "metadata": {},
     "output_type": "execute_result"
    }
   ],
   "source": [
    "mcal.get_info()"
   ]
  },
  {
   "cell_type": "code",
   "execution_count": 8,
   "metadata": {
    "papermill": {
     "duration": 0.03751,
     "end_time": "2019-10-28T13:32:19.227619",
     "exception": false,
     "start_time": "2019-10-28T13:32:19.190109",
     "status": "completed"
    },
    "tags": []
   },
   "outputs": [],
   "source": [
    "problem_list =['MODEL_MAG', 'MODEL_MAGERR', 'MAG_LAMBDA_ERR', 'PZBINS',\n",
    "               'PZ', 'RA_CENT', 'DEC_CENT', 'ID_CENT', 'LAMBDA_CHISQ_CENT',\n",
    "               'ZLAMBDA_CENT', 'P_BCG', 'P_CEN', 'P_FG', 'P_SAT']"
   ]
  },
  {
   "cell_type": "code",
   "execution_count": 9,
   "metadata": {
    "papermill": {
     "duration": 0.041217,
     "end_time": "2019-10-28T13:32:19.298856",
     "exception": false,
     "start_time": "2019-10-28T13:32:19.257639",
     "status": "completed"
    },
    "tags": []
   },
   "outputs": [],
   "source": [
    "band_col_list = []\n",
    "pz_col_list = []\n",
    "alt_col_list =[]\n",
    "for problem in problem_list:\n",
    "    if cluster_table[problem].shape[1]==4:\n",
    "        band_col_list.append(problem)\n",
    "    elif cluster_table[problem].shape[1]==5:\n",
    "        alt_col_list.append(problem)\n",
    "    elif cluster_table[problem].shape[1]==21:\n",
    "        pz_col_list.append(problem)\n",
    "    else:\n",
    "        print (\"error\")"
   ]
  },
  {
   "cell_type": "code",
   "execution_count": 10,
   "metadata": {
    "papermill": {
     "duration": 0.038612,
     "end_time": "2019-10-28T13:32:19.370227",
     "exception": false,
     "start_time": "2019-10-28T13:32:19.331615",
     "status": "completed"
    },
    "tags": []
   },
   "outputs": [],
   "source": [
    "band_list=['g','r','i','z','Y']\n",
    "pz_index_list=['pz'+str(i+1) for i in range(21)]\n",
    "alt_index_list=['Alt'+str(i+1) for i in range(5)]"
   ]
  },
  {
   "cell_type": "code",
   "execution_count": 11,
   "metadata": {
    "papermill": {
     "duration": 0.042077,
     "end_time": "2019-10-28T13:32:19.440491",
     "exception": false,
     "start_time": "2019-10-28T13:32:19.398414",
     "status": "completed"
    },
    "tags": []
   },
   "outputs": [],
   "source": [
    "for j in range(4):\n",
    "    for i,column in enumerate(band_col_list):\n",
    "        cluster_table[str(('Band',band_list[j],column))]=cluster_table[column].data[:,j]\n",
    "cluster_table.remove_columns(band_col_list)"
   ]
  },
  {
   "cell_type": "code",
   "execution_count": 12,
   "metadata": {
    "papermill": {
     "duration": 0.080513,
     "end_time": "2019-10-28T13:32:19.550075",
     "exception": false,
     "start_time": "2019-10-28T13:32:19.469562",
     "status": "completed"
    },
    "tags": []
   },
   "outputs": [],
   "source": [
    "for i,column in enumerate(pz_col_list):\n",
    "    for j in range(21):\n",
    "        cluster_table[str(('PZ',pz_index_list[j],column))]=cluster_table[column].data[:,j]\n",
    "cluster_table.remove_columns(pz_col_list)"
   ]
  },
  {
   "cell_type": "code",
   "execution_count": 13,
   "metadata": {
    "papermill": {
     "duration": 0.097196,
     "end_time": "2019-10-28T13:32:19.683997",
     "exception": false,
     "start_time": "2019-10-28T13:32:19.586801",
     "status": "completed"
    },
    "tags": []
   },
   "outputs": [],
   "source": [
    "for i,column in enumerate(alt_col_list):\n",
    "    for j in range(5):\n",
    "        cluster_table[str(('Alt',alt_index_list[j],column))]=cluster_table[column].data[:,j]\n",
    "cluster_table.remove_columns(alt_col_list)"
   ]
  },
  {
   "cell_type": "code",
   "execution_count": 14,
   "metadata": {
    "papermill": {
     "duration": 0.114353,
     "end_time": "2019-10-28T13:32:19.827601",
     "exception": false,
     "start_time": "2019-10-28T13:32:19.713248",
     "status": "completed"
    },
    "tags": []
   },
   "outputs": [],
   "source": [
    "all_col_list=list(cluster_table.columns[0:54])\n",
    "for i,column in enumerate(all_col_list):\n",
    "    cluster_table[str(('All','All',column))]=cluster_table[column].data[:]\n",
    "cluster_table.remove_columns(all_col_list)"
   ]
  },
  {
   "cell_type": "code",
   "execution_count": 15,
   "metadata": {
    "papermill": {
     "duration": 0.059894,
     "end_time": "2019-10-28T13:32:19.919533",
     "exception": false,
     "start_time": "2019-10-28T13:32:19.859639",
     "status": "completed"
    },
    "tags": []
   },
   "outputs": [],
   "source": [
    "for j in range(4):\n",
    "    for i,column in enumerate(band_col_list[0:2]):\n",
    "        member_table['('+band_list[j]+','+column+')']=member_table[column].data[:,j]\n",
    "member_table.remove_columns(band_col_list[0:2]) "
   ]
  },
  {
   "cell_type": "code",
   "execution_count": 16,
   "metadata": {
    "papermill": {
     "duration": 0.411146,
     "end_time": "2019-10-28T13:32:20.367053",
     "exception": false,
     "start_time": "2019-10-28T13:32:19.955907",
     "status": "completed"
    },
    "tags": []
   },
   "outputs": [],
   "source": [
    "clusters=cluster_table.to_pandas()\n",
    "member=member_table.to_pandas()\n",
    "random=random_table.to_pandas()\n",
    "# center_table=None\n",
    "# member_table=None"
   ]
  },
  {
   "cell_type": "code",
   "execution_count": 17,
   "metadata": {
    "papermill": {
     "duration": 0.037593,
     "end_time": "2019-10-28T13:32:20.437684",
     "exception": false,
     "start_time": "2019-10-28T13:32:20.400091",
     "status": "completed"
    },
    "tags": []
   },
   "outputs": [],
   "source": [
    "member_cols = member.columns[0:22]\n",
    "shape_columns=pd.MultiIndex.from_product([['All'],list(mcal.get_colnames())],names=['Band','Data'])"
   ]
  },
  {
   "cell_type": "code",
   "execution_count": 18,
   "metadata": {
    "papermill": {
     "duration": 0.036131,
     "end_time": "2019-10-28T13:32:20.503723",
     "exception": false,
     "start_time": "2019-10-28T13:32:20.467592",
     "status": "completed"
    },
    "tags": []
   },
   "outputs": [],
   "source": [
    "center_bins=[m+str(n) for m,n in zip(['cen_']*5,np.arange(5)+1)]\n",
    "center=pd.MultiIndex.from_product([['Center'],center_bins,member_cols])"
   ]
  },
  {
   "cell_type": "code",
   "execution_count": 19,
   "metadata": {
    "papermill": {
     "duration": 0.034698,
     "end_time": "2019-10-28T13:32:20.567604",
     "exception": false,
     "start_time": "2019-10-28T13:32:20.532906",
     "status": "completed"
    },
    "tags": []
   },
   "outputs": [],
   "source": [
    "cluster_band_columns=pd.MultiIndex.from_product([['g','r','i','z'],\n",
    "                                       ['MODEL_MAG','MODEL_MAGERR','MAG_LAMBDA_ERR']],\n",
    "                                     names=['band','data'])"
   ]
  },
  {
   "cell_type": "code",
   "execution_count": 20,
   "metadata": {
    "papermill": {
     "duration": 0.032295,
     "end_time": "2019-10-28T13:32:20.627995",
     "exception": false,
     "start_time": "2019-10-28T13:32:20.595700",
     "status": "completed"
    },
    "tags": []
   },
   "outputs": [],
   "source": [
    "# alt_bins=[m+str(n) for m,n in zip(['alt_']*5,np.arange(5)+1)]\n",
    "# alt_columns=pd.MultiIndex.from_product([alt_bins,\n",
    "#                                        alt_col_list.append(shape_names)],\n",
    "#                                      names=['alt_index','data'])"
   ]
  },
  {
   "cell_type": "code",
   "execution_count": 21,
   "metadata": {
    "papermill": {
     "duration": 0.037305,
     "end_time": "2019-10-28T13:32:20.693865",
     "exception": false,
     "start_time": "2019-10-28T13:32:20.656560",
     "status": "completed"
    },
    "tags": []
   },
   "outputs": [],
   "source": [
    "member_band_columns=pd.MultiIndex.from_product([['g','r','i','z'],\n",
    "                                       ['MODEL_MAG','MODEL_MAGERR',]],\n",
    "                                     names=['Band','Data'])"
   ]
  },
  {
   "cell_type": "code",
   "execution_count": 22,
   "metadata": {
    "papermill": {
     "duration": 0.033323,
     "end_time": "2019-10-28T13:32:20.759357",
     "exception": false,
     "start_time": "2019-10-28T13:32:20.726034",
     "status": "completed"
    },
    "tags": []
   },
   "outputs": [],
   "source": [
    "shape_index=pd.MultiIndex.from_tuples([('MEM_MATCH_ID','TYPE')],names=['ClusterID','Type'])"
   ]
  },
  {
   "cell_type": "code",
   "execution_count": 23,
   "metadata": {
    "papermill": {
     "duration": 0.03503,
     "end_time": "2019-10-28T13:32:20.826850",
     "exception": false,
     "start_time": "2019-10-28T13:32:20.791820",
     "status": "completed"
    },
    "tags": []
   },
   "outputs": [],
   "source": [
    "random_columns=pd.MultiIndex.from_product([['All'],['RA', 'DEC', 'Z', 'LAMBDA_IN', 'AVG_LAMBDAOUT', 'SIGMA_LAMBDAOUT', 'WEIGHT']],\n",
    "                                       names=['Band','Data'])"
   ]
  },
  {
   "cell_type": "code",
   "execution_count": 24,
   "metadata": {
    "papermill": {
     "duration": 0.032907,
     "end_time": "2019-10-28T13:32:20.887862",
     "exception": false,
     "start_time": "2019-10-28T13:32:20.854955",
     "status": "completed"
    },
    "tags": []
   },
   "outputs": [],
   "source": [
    "random.columns=random_columns"
   ]
  },
  {
   "cell_type": "code",
   "execution_count": 25,
   "metadata": {
    "papermill": {
     "duration": 0.033651,
     "end_time": "2019-10-28T13:32:20.950501",
     "exception": false,
     "start_time": "2019-10-28T13:32:20.916850",
     "status": "completed"
    },
    "tags": []
   },
   "outputs": [],
   "source": [
    "member_id=member['ID'].values"
   ]
  },
  {
   "cell_type": "code",
   "execution_count": 26,
   "metadata": {
    "papermill": {
     "duration": 0.035299,
     "end_time": "2019-10-28T13:32:21.015771",
     "exception": false,
     "start_time": "2019-10-28T13:32:20.980472",
     "status": "completed"
    },
    "tags": []
   },
   "outputs": [],
   "source": [
    "# for id in member_id:\n",
    "#     mask = pd.Series(shape_id)==id"
   ]
  },
  {
   "cell_type": "code",
   "execution_count": 27,
   "metadata": {
    "papermill": {
     "duration": 0.039725,
     "end_time": "2019-10-28T13:32:21.084374",
     "exception": false,
     "start_time": "2019-10-28T13:32:21.044649",
     "status": "completed"
    },
    "tags": []
   },
   "outputs": [],
   "source": [
    "shape_id_series = pd.Series(shape_id)"
   ]
  },
  {
   "cell_type": "code",
   "execution_count": 28,
   "metadata": {
    "papermill": {
     "duration": 0.038184,
     "end_time": "2019-10-28T13:32:21.155135",
     "exception": false,
     "start_time": "2019-10-28T13:32:21.116951",
     "status": "completed"
    },
    "tags": []
   },
   "outputs": [],
   "source": [
    "def sort2n(x,y):\n",
    "    \"\"\"\n",
    "    Sorts and matches two arrays of object ids where x is unique and y is not (in DES this is coadd_objects_id).\n",
    "    Slower than sort2().\n",
    "    \"\"\"\n",
    "    \n",
    "    xsort = np.argsort(x)\n",
    "    ysort = np.argsort(y)\n",
    "    i_yx = np.sort(y[np.in1d(y, x, assume_unique=False)])\n",
    "    i_x = xsort[x[xsort].searchsorted(i_yx)]\n",
    "    i_y = ysort[y[ysort].searchsorted(i_yx)]\n",
    "    \n",
    "    return i_x, i_y"
   ]
  },
  {
   "cell_type": "code",
   "execution_count": 29,
   "metadata": {
    "papermill": {
     "duration": 25.957203,
     "end_time": "2019-10-28T13:32:47.145046",
     "exception": false,
     "start_time": "2019-10-28T13:32:21.187843",
     "status": "completed"
    },
    "tags": []
   },
   "outputs": [],
   "source": [
    "s2n_index=sort2n(member_id,shape_id)"
   ]
  },
  {
   "cell_type": "code",
   "execution_count": 30,
   "metadata": {
    "papermill": {
     "duration": 0.03892,
     "end_time": "2019-10-28T13:32:47.220346",
     "exception": false,
     "start_time": "2019-10-28T13:32:47.181426",
     "status": "completed"
    },
    "tags": []
   },
   "outputs": [
    {
     "name": "stdout",
     "output_type": "stream",
     "text": [
      "The members that does not have shape measurement:4668\n"
     ]
    }
   ],
   "source": [
    "print(\"The members that does not have shape measurement:{}\".format(len(member_id)-len(s2n_index[0])))"
   ]
  },
  {
   "cell_type": "code",
   "execution_count": 31,
   "metadata": {
    "papermill": {
     "duration": 3.078919,
     "end_time": "2019-10-28T13:32:50.327579",
     "exception": false,
     "start_time": "2019-10-28T13:32:47.248660",
     "status": "completed"
    },
    "tags": []
   },
   "outputs": [],
   "source": [
    "shape_half=pd.DataFrame(mcal.read(rows=[s2n_index[1]]).byteswap().newbyteorder())"
   ]
  },
  {
   "cell_type": "code",
   "execution_count": 32,
   "metadata": {
    "papermill": {
     "duration": 0.121565,
     "end_time": "2019-10-28T13:32:50.482970",
     "exception": false,
     "start_time": "2019-10-28T13:32:50.361405",
     "status": "completed"
    },
    "tags": []
   },
   "outputs": [],
   "source": [
    "member_half=member.iloc[s2n_index[0]]"
   ]
  },
  {
   "cell_type": "code",
   "execution_count": 33,
   "metadata": {
    "papermill": {
     "duration": 0.042837,
     "end_time": "2019-10-28T13:32:50.563984",
     "exception": false,
     "start_time": "2019-10-28T13:32:50.521147",
     "status": "completed"
    },
    "tags": []
   },
   "outputs": [],
   "source": [
    "member_half_index=pd.MultiIndex.from_tuples(list(zip(['All']*23,member_half.columns[0:23]))+list(member_band_columns),names=['Band','Data']) "
   ]
  },
  {
   "cell_type": "code",
   "execution_count": 34,
   "metadata": {
    "papermill": {
     "duration": 0.039349,
     "end_time": "2019-10-28T13:32:50.637468",
     "exception": false,
     "start_time": "2019-10-28T13:32:50.598119",
     "status": "completed"
    },
    "tags": []
   },
   "outputs": [],
   "source": [
    "shape_half.columns=shape_columns\n",
    "member_half.columns=member_half_index\n",
    "shape_half.set_index(('All','coadd_objects_id'),inplace=True)\n",
    "member_half.set_index(('All','ID'),inplace=True)"
   ]
  },
  {
   "cell_type": "code",
   "execution_count": 35,
   "metadata": {
    "papermill": {
     "duration": 0.172631,
     "end_time": "2019-10-28T13:32:50.838970",
     "exception": false,
     "start_time": "2019-10-28T13:32:50.666339",
     "status": "completed"
    },
    "tags": []
   },
   "outputs": [],
   "source": [
    "shapes=pd.concat([member_half,shape_half],axis=1,verify_integrity=True)\n",
    "shapes.index.name=\"ID\""
   ]
  },
  {
   "cell_type": "markdown",
   "metadata": {
    "papermill": {
     "duration": 0.030185,
     "end_time": "2019-10-28T13:32:50.900076",
     "exception": false,
     "start_time": "2019-10-28T13:32:50.869891",
     "status": "completed"
    },
    "tags": []
   },
   "source": [
    "# im3 e correction"
   ]
  },
  {
   "cell_type": "code",
   "execution_count": 36,
   "metadata": {
    "papermill": {
     "duration": 0.041825,
     "end_time": "2019-10-28T13:32:50.970515",
     "exception": false,
     "start_time": "2019-10-28T13:32:50.928690",
     "status": "completed"
    },
    "tags": []
   },
   "outputs": [],
   "source": [
    "if shape_cat == \"im3\":\n",
    "    shapes[('All','e1_old')]=shapes[('All','e1')]\n",
    "    shapes[('All','e2_old')]=shapes[('All','e2')]\n",
    "    shapes[('All','e1')]=shapes.apply(lambda x:x[('All','e1')]-x[('All','c1')],axis=1)\n",
    "    shapes[('All','e2')]=shapes.apply(lambda x:x[('All','e2')]-x[('All','c2')],axis=1)"
   ]
  },
  {
   "cell_type": "code",
   "execution_count": 37,
   "metadata": {
    "papermill": {
     "duration": 0.045509,
     "end_time": "2019-10-28T13:32:51.047786",
     "exception": false,
     "start_time": "2019-10-28T13:32:51.002277",
     "status": "completed"
    },
    "tags": []
   },
   "outputs": [],
   "source": [
    "cluster_col_list=[ast.literal_eval(name) for i,name in enumerate(clusters.columns)]\n",
    "cluster_col=pd.MultiIndex.from_tuples(cluster_col_list, names=['Type','Kind','Data'])"
   ]
  },
  {
   "cell_type": "code",
   "execution_count": 38,
   "metadata": {
    "papermill": {
     "duration": 0.041871,
     "end_time": "2019-10-28T13:32:51.118105",
     "exception": false,
     "start_time": "2019-10-28T13:32:51.076234",
     "status": "completed"
    },
    "tags": []
   },
   "outputs": [],
   "source": [
    "clusters.columns=cluster_col\n",
    "clusters.set_index(('All', 'All', 'MEM_MATCH_ID'),inplace=True);"
   ]
  },
  {
   "cell_type": "markdown",
   "metadata": {
    "papermill": {
     "duration": 0.028676,
     "end_time": "2019-10-28T13:32:51.179783",
     "exception": false,
     "start_time": "2019-10-28T13:32:51.151107",
     "status": "completed"
    },
    "tags": []
   },
   "source": [
    "# Add PP"
   ]
  },
  {
   "cell_type": "code",
   "execution_count": 39,
   "metadata": {
    "papermill": {
     "duration": 15.002673,
     "end_time": "2019-10-28T13:33:06.211314",
     "exception": false,
     "start_time": "2019-10-28T13:32:51.208641",
     "status": "completed"
    },
    "tags": []
   },
   "outputs": [
    {
     "name": "stdout",
     "output_type": "stream",
     "text": [
      "Added PP column.\n"
     ]
    }
   ],
   "source": [
    "shapes[('All','PP')]=shapes.apply(lambda x:x[('All','P')]*x[('All','PFREE')],axis=1)\n",
    "print (\"Added PP column.\")"
   ]
  },
  {
   "cell_type": "markdown",
   "metadata": {
    "papermill": {
     "duration": 0.029046,
     "end_time": "2019-10-28T13:33:06.271847",
     "exception": false,
     "start_time": "2019-10-28T13:33:06.242801",
     "status": "completed"
    },
    "tags": []
   },
   "source": [
    "# Shape and PP masking"
   ]
  },
  {
   "cell_type": "code",
   "execution_count": 40,
   "metadata": {
    "papermill": {
     "duration": 0.47913,
     "end_time": "2019-10-28T13:33:06.779584",
     "exception": false,
     "start_time": "2019-10-28T13:33:06.300454",
     "status": "completed"
    },
    "tags": []
   },
   "outputs": [
    {
     "name": "stdout",
     "output_type": "stream",
     "text": [
      "Members before flag_select mask:  394334\n"
     ]
    },
    {
     "name": "stdout",
     "output_type": "stream",
     "text": [
      "Members after flag_select mask:  262867\n"
     ]
    }
   ],
   "source": [
    "print(\"Members before flag_select mask: \",len(shapes))\n",
    "shapes=shapes[shapes[('All', 'flags_select')]==0]\n",
    "print(\"Members after flag_select mask: \",len(shapes))"
   ]
  },
  {
   "cell_type": "code",
   "execution_count": 41,
   "metadata": {
    "papermill": {
     "duration": 0.13748,
     "end_time": "2019-10-28T13:33:06.952433",
     "exception": false,
     "start_time": "2019-10-28T13:33:06.814953",
     "status": "completed"
    },
    "tags": []
   },
   "outputs": [
    {
     "name": "stdout",
     "output_type": "stream",
     "text": [
      "Members before probability mask:  262867\n",
      "Members after probability mask:  170325\n"
     ]
    }
   ],
   "source": [
    "print(\"Members before probability mask: \",len(shapes))\n",
    "shapes=shapes[shapes[('All','PP')]>=0.55]\n",
    "print(\"Members after probability mask: \",len(shapes))"
   ]
  },
  {
   "cell_type": "markdown",
   "metadata": {
    "papermill": {
     "duration": 0.030284,
     "end_time": "2019-10-28T13:33:07.013185",
     "exception": false,
     "start_time": "2019-10-28T13:33:06.982901",
     "status": "completed"
    },
    "tags": []
   },
   "source": [
    "# No center masking/ no cluster masking"
   ]
  },
  {
   "cell_type": "code",
   "execution_count": 42,
   "metadata": {
    "papermill": {
     "duration": 0.133857,
     "end_time": "2019-10-28T13:33:07.176226",
     "exception": false,
     "start_time": "2019-10-28T13:33:07.042369",
     "status": "completed"
    },
    "tags": []
   },
   "outputs": [
    {
     "name": "stdout",
     "output_type": "stream",
     "text": [
      "The number of clusters before masking 7066\n",
      "The number of clusters with no center shape data 2744\n",
      "The number of clusters after masking 4322\n",
      "The number of members before masking:  170325\n",
      "The number of members without a cluster:  65477\n",
      "Number of galaxies after masking: 104848\n"
     ]
    },
    {
     "name": "stderr",
     "output_type": "stream",
     "text": [
      "/home/cz136/anaconda3/envs/balrog/lib/python3.7/site-packages/ipykernel_launcher.py:5: FutureWarning: \n",
      "Passing list-likes to .loc or [] with any missing label will raise\n",
      "KeyError in the future, you can use .reindex() as an alternative.\n",
      "\n",
      "See the documentation here:\n",
      "https://pandas.pydata.org/pandas-docs/stable/user_guide/indexing.html#deprecate-loc-reindex-listlike\n",
      "  \"\"\"\n"
     ]
    }
   ],
   "source": [
    "# Drop clusters with no center\n",
    "def drop_poor_centers(clusters_cat):\n",
    "    print(\"The number of clusters before masking\", len(clusters_cat))\n",
    "    center_id=clusters_cat[('Alt', 'Alt1', 'ID_CENT')]\n",
    "    p=shapes.loc[center_id][('All','P')].to_numpy()\n",
    "    missing_mem_match_id=clusters_cat[np.isnan(p)].index\n",
    "    cluster_masked=clusters_cat.drop(missing_mem_match_id)\n",
    "    print(\"The number of clusters with no center shape data {}\".format(np.sum(np.isnan(p))))\n",
    "    print(\"The number of clusters after masking\", len(cluster_masked))\n",
    "    return(cluster_masked)\n",
    "\n",
    "clusters=drop_poor_centers(clusters)\n",
    "\n",
    "# Drop members with no cluster\n",
    "def drop_poor_members(clusters_cat,shapes_cat):\n",
    "    print(\"The number of members before masking: \",len(shapes_cat))\n",
    "    valid_clusters_id=clusters_cat.index.to_numpy()\n",
    "    shapes_match_id=shapes_cat[('All','MEM_MATCH_ID')].to_numpy()\n",
    "    valid_members=np.isin(shapes_match_id,valid_clusters_id)\n",
    "    print(\"The number of members without a cluster: \",np.sum(~valid_members))\n",
    "    members_masked=shapes_cat[valid_members]\n",
    "    print(\"Number of galaxies after masking: {}\".format(len(members_masked)))\n",
    "    return(members_masked)\n",
    "    \n",
    "shapes=drop_poor_members(clusters,shapes)"
   ]
  },
  {
   "cell_type": "code",
   "execution_count": 43,
   "metadata": {
    "papermill": {
     "duration": 0.113094,
     "end_time": "2019-10-28T13:33:07.321851",
     "exception": false,
     "start_time": "2019-10-28T13:33:07.208757",
     "status": "completed"
    },
    "tags": []
   },
   "outputs": [
    {
     "name": "stdout",
     "output_type": "stream",
     "text": [
      "The number of clusters before masking 4322\n",
      "The number of clusters with no center shape data 0\n",
      "The number of clusters after masking 4322\n",
      "The number of members before masking:  104848\n",
      "The number of members without a cluster:  0\n"
     ]
    },
    {
     "name": "stdout",
     "output_type": "stream",
     "text": [
      "Number of galaxies after masking: 104848\n"
     ]
    }
   ],
   "source": [
    "clusters=drop_poor_centers(clusters)\n",
    "shapes=drop_poor_members(clusters,shapes)"
   ]
  },
  {
   "cell_type": "markdown",
   "metadata": {
    "papermill": {
     "duration": 0.029705,
     "end_time": "2019-10-28T13:33:07.382670",
     "exception": false,
     "start_time": "2019-10-28T13:33:07.352965",
     "status": "completed"
    },
    "tags": []
   },
   "source": [
    "# Add $\\phi$"
   ]
  },
  {
   "cell_type": "code",
   "execution_count": 44,
   "metadata": {
    "papermill": {
     "duration": 0.039262,
     "end_time": "2019-10-28T13:33:07.451869",
     "exception": false,
     "start_time": "2019-10-28T13:33:07.412607",
     "status": "completed"
    },
    "tags": []
   },
   "outputs": [],
   "source": [
    "def get_theta_for_obj(obj1,obj2):\n",
    "    ra1,dec1=(obj1[('All', 'RA')],obj1[('All', 'DEC')])\n",
    "    ra2,dec2=(obj2[('All', 'RA')],obj2[('All', 'DEC')])\n",
    "    \n",
    "    \n",
    "    \n",
    "    c1=SkyCoord(ra1*u.deg,dec1*u.deg)\n",
    "    c2=SkyCoord(ra2*u.deg,dec2*u.deg)\n",
    "    \n",
    "    \n",
    "    return(90-c1.position_angle(c2).degree)"
   ]
  },
  {
   "cell_type": "code",
   "execution_count": 45,
   "metadata": {
    "papermill": {
     "duration": 0.039688,
     "end_time": "2019-10-28T13:33:07.522272",
     "exception": false,
     "start_time": "2019-10-28T13:33:07.482584",
     "status": "completed"
    },
    "tags": []
   },
   "outputs": [],
   "source": [
    "def get_rel_theta(member):\n",
    "    cluster=clusters.loc[member[('All','MEM_MATCH_ID')]]\n",
    "    center=shapes.loc[cluster[('Alt','Alt1','ID_CENT')]]\n",
    "    theta=get_theta_for_obj(center,member)\n",
    "    return(theta)"
   ]
  },
  {
   "cell_type": "code",
   "execution_count": 46,
   "metadata": {
    "papermill": {
     "duration": 0.040735,
     "end_time": "2019-10-28T13:33:07.592997",
     "exception": false,
     "start_time": "2019-10-28T13:33:07.552262",
     "status": "completed"
    },
    "tags": []
   },
   "outputs": [],
   "source": [
    "def get_pa_for_member(obj):\n",
    "    e1=obj['All']['e1']\n",
    "    e2=obj['All']['e2']\n",
    "    \n",
    "    alpha =0.5*np.arctan2(-e2,-e1)*180/np.pi\n",
    "    if alpha>=0:\n",
    "        alpha=(alpha-90)\n",
    "    elif alpha<0:\n",
    "        alpha=90+alpha\n",
    "    else:\n",
    "        raise \n",
    "    return(alpha)"
   ]
  },
  {
   "cell_type": "code",
   "execution_count": 47,
   "metadata": {
    "papermill": {
     "duration": 56.643791,
     "end_time": "2019-10-28T13:34:04.270895",
     "exception": false,
     "start_time": "2019-10-28T13:33:07.627104",
     "status": "completed"
    },
    "tags": []
   },
   "outputs": [],
   "source": [
    "shapes[('All','alpha')]=shapes.apply(lambda x:get_pa_for_member(x),axis=1)"
   ]
  },
  {
   "cell_type": "code",
   "execution_count": 48,
   "metadata": {
    "papermill": {
     "duration": 0.046099,
     "end_time": "2019-10-28T13:34:04.356648",
     "exception": false,
     "start_time": "2019-10-28T13:34:04.310549",
     "status": "completed"
    },
    "tags": []
   },
   "outputs": [],
   "source": [
    "error_list_phi=[]\n",
    "error_list_e=[]\n",
    "\n",
    "def get_phi_for_member(member):\n",
    "    \n",
    "    \"\"\"Input: cluster series\n",
    "        Output: an array of position angle weighted by PP\n",
    "        Record KeyError in an array (usually caused by uncomplete shape catalog).\n",
    "    \"\"\"\n",
    "    \n",
    "    cluster_id=member[('All','MEM_MATCH_ID')]\n",
    "    cluster=clusters.loc[cluster_id]\n",
    "    center_id=cluster[('Alt', 'Alt1', 'ID_CENT')]\n",
    "    center = shapes.loc[center_id]\n",
    "\n",
    "    pa=member[('All','alpha')]\n",
    "    theta= get_theta_for_obj(member,center)\n",
    "    phi=(pa-theta)\n",
    "    #     print(center.index)\n",
    "    return(phi)    "
   ]
  },
  {
   "cell_type": "code",
   "execution_count": 49,
   "metadata": {
    "papermill": {
     "duration": 211.225825,
     "end_time": "2019-10-28T13:37:35.615337",
     "exception": false,
     "start_time": "2019-10-28T13:34:04.389512",
     "status": "completed"
    },
    "tags": []
   },
   "outputs": [],
   "source": [
    "shapes[('All','phi')]=shapes.apply(lambda x:get_phi_for_member(x),axis=1)"
   ]
  },
  {
   "cell_type": "code",
   "execution_count": 50,
   "metadata": {
    "papermill": {
     "duration": 0.041112,
     "end_time": "2019-10-28T13:37:35.693748",
     "exception": false,
     "start_time": "2019-10-28T13:37:35.652636",
     "status": "completed"
    },
    "tags": []
   },
   "outputs": [],
   "source": [
    "def process_phi(phi_1d):\n",
    "\n",
    "    phi_1d=np.where(phi_1d<=0,-phi_1d,phi_1d)\n",
    "    phi_1d=np.where(phi_1d>=180,phi_1d-180,phi_1d)\n",
    "    phi_1d=np.where(phi_1d>=90,180-phi_1d,phi_1d)\n",
    "\n",
    "    \n",
    "    return(phi_1d)"
   ]
  },
  {
   "cell_type": "code",
   "execution_count": 51,
   "metadata": {
    "papermill": {
     "duration": 0.038006,
     "end_time": "2019-10-28T13:37:35.762008",
     "exception": false,
     "start_time": "2019-10-28T13:37:35.724002",
     "status": "completed"
    },
    "tags": []
   },
   "outputs": [],
   "source": [
    "shapes[('All','phi')]=process_phi(shapes[('All','phi')])"
   ]
  },
  {
   "cell_type": "markdown",
   "metadata": {
    "papermill": {
     "duration": 0.030699,
     "end_time": "2019-10-28T13:37:35.823348",
     "exception": false,
     "start_time": "2019-10-28T13:37:35.792649",
     "status": "completed"
    },
    "tags": []
   },
   "source": [
    "# Add theta"
   ]
  },
  {
   "cell_type": "code",
   "execution_count": 52,
   "metadata": {
    "papermill": {
     "duration": 237.627443,
     "end_time": "2019-10-28T13:41:33.480568",
     "exception": false,
     "start_time": "2019-10-28T13:37:35.853125",
     "status": "completed"
    },
    "tags": []
   },
   "outputs": [],
   "source": [
    "shapes[('All','Theta_cen')]=shapes.apply(lambda x:get_rel_theta(x),axis=1)"
   ]
  },
  {
   "cell_type": "code",
   "execution_count": 53,
   "metadata": {
    "papermill": {
     "duration": 11.985935,
     "end_time": "2019-10-28T13:41:45.499891",
     "exception": false,
     "start_time": "2019-10-28T13:41:33.513956",
     "status": "completed"
    },
    "tags": []
   },
   "outputs": [],
   "source": [
    "shapes[('All','Theta_cen')]=shapes.apply(lambda x:360-x[('All','Theta_cen')] if x[('All','Theta_cen')]>=180 else x[('All','Theta_cen')],axis=1)\n",
    "shapes[('All','Theta_cen')]=shapes.apply(lambda x:360+x[('All','Theta_cen')] if x[('All','Theta_cen')]<=-180 else x[('All','Theta_cen')],axis=1)\n",
    "shapes[('All','Theta_sat')]=shapes.apply(lambda x:-(180-x[('All','Theta_cen')]) if x[('All','Theta_cen')]>=0 else (180+x[('All','Theta_cen')]),axis=1)"
   ]
  },
  {
   "cell_type": "markdown",
   "metadata": {
    "papermill": {
     "duration": 0.031091,
     "end_time": "2019-10-28T13:41:45.567689",
     "exception": false,
     "start_time": "2019-10-28T13:41:45.536598",
     "status": "completed"
    },
    "tags": []
   },
   "source": [
    "# Add angR"
   ]
  },
  {
   "cell_type": "code",
   "execution_count": 54,
   "metadata": {
    "papermill": {
     "duration": 0.041938,
     "end_time": "2019-10-28T13:41:45.639762",
     "exception": false,
     "start_time": "2019-10-28T13:41:45.597824",
     "status": "completed"
    },
    "tags": []
   },
   "outputs": [],
   "source": [
    "H0=100 #km s-1 Mpc-1\n",
    "Om0=0.3\n",
    "Ode0=0.7\n",
    "lcdm=astropy.cosmology.FlatLambdaCDM(H0, Om0)"
   ]
  },
  {
   "cell_type": "code",
   "execution_count": 55,
   "metadata": {
    "papermill": {
     "duration": 412.859621,
     "end_time": "2019-10-28T13:48:38.534574",
     "exception": false,
     "start_time": "2019-10-28T13:41:45.674953",
     "status": "completed"
    },
    "tags": []
   },
   "outputs": [],
   "source": [
    "shapes[('All','angR')]=shapes.apply(lambda x:np.float(lcdm.angular_diameter_distance(x[('All','Z')])/u.Mpc),axis=1)\n",
    "random[('All','angR')]=random.apply(lambda x:np.float(lcdm.angular_diameter_distance(x[('All','Z')])/u.Mpc),axis=1)"
   ]
  },
  {
   "cell_type": "markdown",
   "metadata": {
    "papermill": {
     "duration": 0.032047,
     "end_time": "2019-10-28T13:48:38.608102",
     "exception": false,
     "start_time": "2019-10-28T13:48:38.576055",
     "status": "completed"
    },
    "tags": []
   },
   "source": [
    "# Add e"
   ]
  },
  {
   "cell_type": "code",
   "execution_count": 56,
   "metadata": {
    "papermill": {
     "duration": 0.040719,
     "end_time": "2019-10-28T13:48:38.678842",
     "exception": false,
     "start_time": "2019-10-28T13:48:38.638123",
     "status": "completed"
    },
    "tags": []
   },
   "outputs": [],
   "source": [
    "def get_e(sat):\n",
    "    cluster_id=sat[('All','MEM_MATCH_ID')]\n",
    "    cluster=clusters.loc[cluster_id]\n",
    "    center_id=cluster[('Alt', 'Alt1', 'ID_CENT')]\n",
    "    cen = shapes.loc[center_id]\n",
    "    \n",
    "    e=np.sqrt(sat[('All','e1')]**2+sat[('All','e2')]**2)\n",
    "    delta=get_theta_for_obj(cen,sat)\n",
    "    alpha=sat[('All','alpha')]\n",
    "    ep,ex=(e*np.cos(2*(delta-alpha)),e*np.sin(2*(delta-alpha)))\n",
    "    return(ep,ex,e)"
   ]
  },
  {
   "cell_type": "code",
   "execution_count": 57,
   "metadata": {
    "papermill": {
     "duration": 662.481412,
     "end_time": "2019-10-28T13:59:41.192193",
     "exception": false,
     "start_time": "2019-10-28T13:48:38.710781",
     "status": "completed"
    },
    "tags": []
   },
   "outputs": [],
   "source": [
    "shapes[('All','e')]=shapes.apply(lambda x:get_e(x)[2],axis=1)\n",
    "shapes[('All','ep')]=shapes.apply(lambda x:get_e(x)[0],axis=1)\n",
    "shapes[('All','ex')]=shapes.apply(lambda x:get_e(x)[1],axis=1)"
   ]
  },
  {
   "cell_type": "markdown",
   "metadata": {
    "papermill": {
     "duration": 0.030891,
     "end_time": "2019-10-28T13:59:41.258079",
     "exception": false,
     "start_time": "2019-10-28T13:59:41.227188",
     "status": "completed"
    },
    "tags": []
   },
   "source": [
    "# Calculate cluster elipticity"
   ]
  },
  {
   "cell_type": "code",
   "execution_count": 58,
   "metadata": {
    "papermill": {
     "duration": 0.042953,
     "end_time": "2019-10-28T13:59:41.337648",
     "exception": false,
     "start_time": "2019-10-28T13:59:41.294695",
     "status": "completed"
    },
    "tags": []
   },
   "outputs": [
    {
     "data": {
      "text/latex": [
       "$\\displaystyle M_{\\mathrm{xx}} \\equiv\\left\\langle\\frac{x^{2}}{r^{2}}\\right\\rangle=\\frac{\\sum_{i} p_{\\mathrm{mem}, i} \\frac{x_{i}^{2}}{r_{i}^{2}}}{\\sum_{i} p_{\\mathrm{mem}, i}}$"
      ],
      "text/plain": [
       "<IPython.core.display.Math object>"
      ]
     },
     "metadata": {},
     "output_type": "display_data"
    }
   ],
   "source": [
    "display(Math(r\"$M_{\\mathrm{xx}} \\equiv\\left\\langle\\frac{x^{2}}{r^{2}}\\right\\rangle=\\frac{\\sum_{i} p_{\\mathrm{mem}, i} \\frac{x_{i}^{2}}{r_{i}^{2}}}{\\sum_{i} p_{\\mathrm{mem}, i}}$\"))"
   ]
  },
  {
   "cell_type": "code",
   "execution_count": 59,
   "metadata": {
    "papermill": {
     "duration": 0.059358,
     "end_time": "2019-10-28T13:59:41.433009",
     "exception": false,
     "start_time": "2019-10-28T13:59:41.373651",
     "status": "completed"
    },
    "tags": []
   },
   "outputs": [],
   "source": [
    "def get_Q_U(cluster):\n",
    "    \n",
    "    mem_match_id=cluster.name\n",
    "    members=shapes[shapes['All','MEM_MATCH_ID']==mem_match_id]\n",
    "    \n",
    "    members=members[members[('All','PP')]>=0.2]\n",
    "    \n",
    "    def get_M_for_cluster():\n",
    "        p = members[('All','PP')]\n",
    "        r = members[('All','R')]\n",
    "        pa = members[('All','Theta_cen')]\n",
    "        x = r * np.cos(pa)\n",
    "        y = r * np.sin(pa)\n",
    "        \n",
    "        def mom_2(p,x,y,r):\n",
    "            return(np.sum(p*x*y/r**2)/np.sum(p))\n",
    "        \n",
    "        Mxx=mom_2(p,x,x,r)\n",
    "        Mxy=mom_2(p,x,y,r)\n",
    "        Myy=mom_2(p,y,y,r)\n",
    "        return(Mxx,Mxy,Myy)\n",
    "\n",
    "    Mxx,Mxy,Myy=get_M_for_cluster()\n",
    "    Q,U=Mxx-Myy,2*Mxy\n",
    "    \n",
    "    return (Q,U)\n",
    "\n",
    "\n",
    "def get_pa_from_Q_U(Q,U):\n",
    "    α =0.5*np.arctan2(U,Q)*180/np.pi\n",
    "    return(α)"
   ]
  },
  {
   "cell_type": "code",
   "execution_count": 60,
   "metadata": {
    "papermill": {
     "duration": 33.461571,
     "end_time": "2019-10-28T14:00:14.928614",
     "exception": false,
     "start_time": "2019-10-28T13:59:41.467043",
     "status": "completed"
    },
    "tags": []
   },
   "outputs": [],
   "source": [
    "clusters[('All','All','Q')]=clusters.apply(lambda x:get_Q_U(x)[0],axis=1)\n",
    "clusters[('All','All','U')]=clusters.apply(lambda x:get_Q_U(x)[1],axis=1)\n",
    "clusters[('All','All','Beta')]=clusters.apply(lambda x:get_pa_from_Q_U(x[('All','All','Q')],x[('All','All','U')]),axis=1)\n",
    "clusters[('All','All','Ce')]=clusters.apply(lambda x:np.sqrt(x[('All','All','U')]**2+x[('All','All','U')]**2),axis=1)"
   ]
  },
  {
   "cell_type": "code",
   "execution_count": 61,
   "metadata": {
    "papermill": {
     "duration": 0.040629,
     "end_time": "2019-10-28T14:00:15.005319",
     "exception": false,
     "start_time": "2019-10-28T14:00:14.964690",
     "status": "completed"
    },
    "tags": []
   },
   "outputs": [],
   "source": [
    "def get_normLR(shape):\n",
    "    cluster_id=shape[('All','MEM_MATCH_ID')]\n",
    "    LR = clusters.loc[cluster_id][('All','All','R_LAMBDA')]\n",
    "    angR=shape[('All','angR')]\n",
    "    normR=angR/LR\n",
    "    return(normR)"
   ]
  },
  {
   "cell_type": "code",
   "execution_count": 62,
   "metadata": {
    "papermill": {
     "duration": 32.127056,
     "end_time": "2019-10-28T14:00:47.162129",
     "exception": false,
     "start_time": "2019-10-28T14:00:15.035073",
     "status": "completed"
    },
    "tags": []
   },
   "outputs": [],
   "source": [
    "shapes[('All','normLR')]=shapes.apply(lambda x:get_normLR(x),axis=1)"
   ]
  },
  {
   "cell_type": "code",
   "execution_count": 63,
   "metadata": {
    "papermill": {
     "duration": 0.040988,
     "end_time": "2019-10-28T14:00:47.245128",
     "exception": false,
     "start_time": "2019-10-28T14:00:47.204140",
     "status": "completed"
    },
    "tags": []
   },
   "outputs": [],
   "source": [
    "def add_r_lambda(shape):\n",
    "    cluster_id=shape[('All','MEM_MATCH_ID')]\n",
    "    LR = clusters.loc[cluster_id][('All','All','R_LAMBDA')]\n",
    "    return(LR)"
   ]
  },
  {
   "cell_type": "code",
   "execution_count": 64,
   "metadata": {
    "papermill": {
     "duration": 32.228102,
     "end_time": "2019-10-28T14:01:19.509985",
     "exception": false,
     "start_time": "2019-10-28T14:00:47.281883",
     "status": "completed"
    },
    "tags": []
   },
   "outputs": [],
   "source": [
    "shapes[('All','R_LAMBDA')]=shapes.apply(lambda x:add_r_lambda(x),axis=1)"
   ]
  },
  {
   "cell_type": "markdown",
   "metadata": {
    "papermill": {
     "duration": 0.031183,
     "end_time": "2019-10-28T14:01:19.578170",
     "exception": false,
     "start_time": "2019-10-28T14:01:19.546987",
     "status": "completed"
    },
    "tags": []
   },
   "source": [
    "# Save"
   ]
  },
  {
   "cell_type": "code",
   "execution_count": 65,
   "metadata": {
    "papermill": {
     "duration": 0.067649,
     "end_time": "2019-10-28T14:01:19.676519",
     "exception": false,
     "start_time": "2019-10-28T14:01:19.608870",
     "status": "completed"
    },
    "tags": []
   },
   "outputs": [],
   "source": [
    "clusters.to_pickle('/home/cz136/project/sa/data/{}/{}/clusters.pkl'.format(shape_cat,vol))"
   ]
  },
  {
   "cell_type": "code",
   "execution_count": 66,
   "metadata": {
    "papermill": {
     "duration": 0.648719,
     "end_time": "2019-10-28T14:01:20.357280",
     "exception": false,
     "start_time": "2019-10-28T14:01:19.708561",
     "status": "completed"
    },
    "tags": []
   },
   "outputs": [],
   "source": [
    "shapes.to_pickle('/home/cz136/project/sa/data/{}/{}/shapes.pkl'.format(shape_cat,vol))"
   ]
  },
  {
   "cell_type": "code",
   "execution_count": 67,
   "metadata": {
    "papermill": {
     "duration": 1.039842,
     "end_time": "2019-10-28T14:01:21.442206",
     "exception": false,
     "start_time": "2019-10-28T14:01:20.402364",
     "status": "completed"
    },
    "tags": []
   },
   "outputs": [],
   "source": [
    "random.to_pickle('/home/cz136/project/sa/data/{}/{}/random.pkl'.format(shape_cat,vol))"
   ]
  },
  {
   "cell_type": "markdown",
   "metadata": {
    "papermill": {
     "duration": 0.033081,
     "end_time": "2019-10-28T14:01:21.528966",
     "exception": false,
     "start_time": "2019-10-28T14:01:21.495885",
     "status": "completed"
    },
    "tags": []
   },
   "source": [
    "## z masking"
   ]
  },
  {
   "cell_type": "code",
   "execution_count": 68,
   "metadata": {
    "papermill": {
     "duration": 0.039469,
     "end_time": "2019-10-28T14:01:21.597608",
     "exception": false,
     "start_time": "2019-10-28T14:01:21.558139",
     "status": "completed"
    },
    "tags": []
   },
   "outputs": [],
   "source": [
    "def drop_shapes_wo_cluster(clusters,shapes):\n",
    "    valid_clusters_id=clusters.index.to_numpy()\n",
    "    shapes_match_id=shapes[('All','MEM_MATCH_ID')].to_numpy()\n",
    "    print(\"Number of galaxies before masking: {}\".format(len(shapes_match_id)))\n",
    "    valid_members=np.isin(shapes_match_id,valid_clusters_id)\n",
    "    shapes=shapes[valid_members]\n",
    "    return(shapes)"
   ]
  },
  {
   "cell_type": "code",
   "execution_count": 69,
   "metadata": {
    "papermill": {
     "duration": 0.046386,
     "end_time": "2019-10-28T14:01:21.674909",
     "exception": false,
     "start_time": "2019-10-28T14:01:21.628523",
     "status": "completed"
    },
    "tags": []
   },
   "outputs": [],
   "source": [
    "high_z=clusters[clusters['All','All','Z_LAMBDA']>=0.35]\n",
    "low_z=clusters[(clusters['All','All','Z_LAMBDA']<=0.35) & (clusters['All','All','Z_LAMBDA']>=0.1)]"
   ]
  },
  {
   "cell_type": "code",
   "execution_count": 70,
   "metadata": {
    "papermill": {
     "duration": 0.229251,
     "end_time": "2019-10-28T14:01:21.934413",
     "exception": false,
     "start_time": "2019-10-28T14:01:21.705162",
     "status": "completed"
    },
    "tags": []
   },
   "outputs": [
    {
     "name": "stdout",
     "output_type": "stream",
     "text": [
      "Number of galaxies before masking: 104848\n",
      "Number of galaxies before masking: 104848\n"
     ]
    }
   ],
   "source": [
    "high_z_shapes=drop_shapes_wo_cluster(high_z,shapes)\n",
    "low_z_shapes=drop_shapes_wo_cluster(low_z,shapes)"
   ]
  },
  {
   "cell_type": "code",
   "execution_count": 71,
   "metadata": {
    "papermill": {
     "duration": 0.631572,
     "end_time": "2019-10-28T14:01:22.598745",
     "exception": false,
     "start_time": "2019-10-28T14:01:21.967173",
     "status": "completed"
    },
    "tags": []
   },
   "outputs": [],
   "source": [
    "high_z.to_pickle('/home/cz136/project/sa/data/{}/{}/clusters_high_z.pkl'.format(shape_cat,vol))\n",
    "low_z.to_pickle('/home/cz136/project/sa/data/{}/{}/clusters_low_z.pkl'.format(shape_cat,vol))\n",
    "high_z_shapes.to_pickle('/home/cz136/project/sa/data/{}/{}/shapes_high_z.pkl'.format(shape_cat,vol))\n",
    "low_z_shapes.to_pickle('/home/cz136/project/sa/data/{}/{}/shapes_low_z.pkl'.format(shape_cat,vol))"
   ]
  }
 ],
 "metadata": {
  "kernelspec": {
   "display_name": "Python 3",
   "language": "python",
   "name": "python3"
  },
  "language_info": {
   "codemirror_mode": {
    "name": "ipython",
    "version": 3
   },
   "file_extension": ".py",
   "mimetype": "text/x-python",
   "name": "python",
   "nbconvert_exporter": "python",
   "pygments_lexer": "ipython3",
   "version": "3.7.3"
  },
  "papermill": {
   "duration": 1870.601382,
   "end_time": "2019-10-28T14:01:23.243414",
   "environment_variables": {},
   "exception": null,
   "input_path": "/home/cz136/project/sa/lib/src/data_marshalling.ipynb",
   "output_path": "/home/cz136/project/sa/lib/output/data/mcal_vlim.ipynb",
   "parameters": {
    "shape_cat": "mcal",
    "vol": "vlim"
   },
   "start_time": "2019-10-28T13:30:12.642032",
   "version": "1.2.0"
  }
 },
 "nbformat": 4,
 "nbformat_minor": 4
}