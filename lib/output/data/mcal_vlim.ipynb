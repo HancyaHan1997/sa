{
 "cells": [
  {
   "cell_type": "code",
   "execution_count": 1,
   "metadata": {
    "papermill": {
     "duration": 0.038751,
     "end_time": "2019-10-26T07:57:53.347778",
     "exception": false,
     "start_time": "2019-10-26T07:57:53.309027",
     "status": "completed"
    },
    "tags": [
     "parameters"
    ]
   },
   "outputs": [],
   "source": [
    "shape_cat=\"\"\n",
    "vol=\"\""
   ]
  },
  {
   "cell_type": "code",
   "execution_count": 2,
   "metadata": {
    "papermill": {
     "duration": 0.028621,
     "end_time": "2019-10-26T07:57:53.402368",
     "exception": false,
     "start_time": "2019-10-26T07:57:53.373747",
     "status": "completed"
    },
    "tags": [
     "injected-parameters"
    ]
   },
   "outputs": [],
   "source": [
    "# Parameters\n",
    "shape_cat = \"mcal\"\n",
    "vol = \"vlim\"\n"
   ]
  },
  {
   "cell_type": "code",
   "execution_count": 3,
   "metadata": {
    "papermill": {
     "duration": 1.566848,
     "end_time": "2019-10-26T07:57:54.994574",
     "exception": false,
     "start_time": "2019-10-26T07:57:53.427726",
     "status": "completed"
    },
    "tags": []
   },
   "outputs": [],
   "source": [
    "from astropy.io import fits\n",
    "from astropy.table import Table\n",
    "import pandas as pd\n",
    "import fitsio as fio\n",
    "import numpy as np\n",
    "import ast\n",
    "\n",
    "import astropy.cosmology\n",
    "from astropy.coordinates import SkyCoord  # High-level coordinates\n",
    "from astropy.coordinates import ICRS, Galactic, FK4, FK5  # Low-level frames\n",
    "from astropy.coordinates import Angle, Latitude, Longitude  # Angles\n",
    "import astropy.units as u\n",
    "from IPython.display import display, Math"
   ]
  },
  {
   "cell_type": "code",
   "execution_count": 4,
   "metadata": {
    "papermill": {
     "duration": 0.663031,
     "end_time": "2019-10-26T07:57:55.684022",
     "exception": false,
     "start_time": "2019-10-26T07:57:55.020991",
     "status": "completed"
    },
    "tags": []
   },
   "outputs": [
    {
     "name": "stdout",
     "output_type": "stream",
     "text": [
      "399002\n",
      "7066\n",
      "1427\n"
     ]
    }
   ],
   "source": [
    "if vol==\"vlim\":\n",
    "    cluster_table=Table(fits.open('/lsst/troxel/y1a1/y1a1_gold_1.0.3-d10-mof-001d_run_redmapper_v6.4.17-vlim_lgt20_desformat_catalog.fit')[1].data)\n",
    "    member_table=Table(fits.open('/lsst/troxel/y1a1/y1a1_gold_1.0.3-d10-mof-001d_run_redmapper_v6.4.17-vlim_lgt20_desformat_catalog_members.fit')[1].data)\n",
    "    random_table=Table(fits.open('/lsst/troxel/y1a1/y1a1_gold_1.0.3_wide+d10-mof-001d_run_redmapper_v6.4.17-2_randcat_z0.10-0.95_lgt020_vl50.fit')[1].data)\n",
    "elif vol==\"all\":\n",
    "    cluster_table=Table(fits.open('/lsst/troxel/y1a1/y1a1_gold_1.0.3-d10-mof-001d_run_redmapper_v6.4.17_lgt20_desformat_catalog.fit')[1].data)\n",
    "    member_table=Table(fits.open('/lsst/troxel/y1a1/y1a1_gold_1.0.3-d10-mof-001d_run_redmapper_v6.4.17_lgt20_desformat_catalog_members.fit')[1].data)\n",
    "    random_table=Table(fits.open('/lsst/troxel/y1a1/y1a1_gold_1.0.3_wide+d10-mof-001d_run_redmapper_v6.4.17-2_randcat_z0.10-0.95_lgt020_vl02.fit')[1].data)\n",
    "else:\n",
    "    raise TypeError(\"Wrong vol\")\n",
    "cluster_table.remove_columns(['P_C','C_LAMBDA','C_LAMBDA_ERR','Q_CEN']) #unknown columns\n",
    "\n",
    "print(len(member_table))\n",
    "print(len(cluster_table))\n",
    "print(len(member_table['ID'])-len(np.unique(member_table['ID'])))"
   ]
  },
  {
   "cell_type": "code",
   "execution_count": 5,
   "metadata": {
    "papermill": {
     "duration": 111.544356,
     "end_time": "2019-10-26T07:59:47.259692",
     "exception": false,
     "start_time": "2019-10-26T07:57:55.715336",
     "status": "completed"
    },
    "tags": []
   },
   "outputs": [
    {
     "name": "stdout",
     "output_type": "stream",
     "text": [
      "Metacal loaded\n"
     ]
    }
   ],
   "source": [
    "if shape_cat==\"mcal\":\n",
    "    mcal = fio.FITS('/lsst/troxel/y1a1/mcal-y1a1-combined-riz-unblind-v4-matched.fits',memmap=True,mode='r')[1]\n",
    "    print (\"Metacal loaded\")\n",
    "    shape_id=mcal['coadd_objects_id'][:] \n",
    "elif shape_cat==\"im3\":\n",
    "        mcal = fio.FITS('/lsst/troxel/y1a1/y1a1-im3shape_v5_unblind_v2_matched_v4.fits',memmap=True,mode='r')[1]\n",
    "        print (\"Metacal loaded\")\n",
    "        shape_id=mcal['coadd_objects_id'][:] \n",
    "else:\n",
    "    raise "
   ]
  },
  {
   "cell_type": "code",
   "execution_count": 6,
   "metadata": {
    "papermill": {
     "duration": 0.037865,
     "end_time": "2019-10-26T07:59:47.330228",
     "exception": false,
     "start_time": "2019-10-26T07:59:47.292363",
     "status": "completed"
    },
    "tags": []
   },
   "outputs": [],
   "source": [
    "problem_list =['MODEL_MAG', 'MODEL_MAGERR', 'MAG_LAMBDA_ERR', 'PZBINS',\n",
    "               'PZ', 'RA_CENT', 'DEC_CENT', 'ID_CENT', 'LAMBDA_CHISQ_CENT',\n",
    "               'ZLAMBDA_CENT', 'P_BCG', 'P_CEN', 'P_FG', 'P_SAT']"
   ]
  },
  {
   "cell_type": "code",
   "execution_count": 7,
   "metadata": {
    "papermill": {
     "duration": 0.031518,
     "end_time": "2019-10-26T07:59:47.388398",
     "exception": false,
     "start_time": "2019-10-26T07:59:47.356880",
     "status": "completed"
    },
    "tags": []
   },
   "outputs": [],
   "source": [
    "band_col_list = []\n",
    "pz_col_list = []\n",
    "alt_col_list =[]\n",
    "for problem in problem_list:\n",
    "    if cluster_table[problem].shape[1]==4:\n",
    "        band_col_list.append(problem)\n",
    "    elif cluster_table[problem].shape[1]==5:\n",
    "        alt_col_list.append(problem)\n",
    "    elif cluster_table[problem].shape[1]==21:\n",
    "        pz_col_list.append(problem)\n",
    "    else:\n",
    "        print (\"error\")"
   ]
  },
  {
   "cell_type": "code",
   "execution_count": 8,
   "metadata": {
    "papermill": {
     "duration": 0.031876,
     "end_time": "2019-10-26T07:59:47.445805",
     "exception": false,
     "start_time": "2019-10-26T07:59:47.413929",
     "status": "completed"
    },
    "tags": []
   },
   "outputs": [],
   "source": [
    "band_list=['g','r','i','z','Y']\n",
    "pz_index_list=['pz'+str(i+1) for i in range(21)]\n",
    "alt_index_list=['Alt'+str(i+1) for i in range(5)]"
   ]
  },
  {
   "cell_type": "code",
   "execution_count": 9,
   "metadata": {
    "papermill": {
     "duration": 0.039236,
     "end_time": "2019-10-26T07:59:47.510071",
     "exception": false,
     "start_time": "2019-10-26T07:59:47.470835",
     "status": "completed"
    },
    "tags": []
   },
   "outputs": [],
   "source": [
    "for j in range(4):\n",
    "    for i,column in enumerate(band_col_list):\n",
    "        cluster_table[str(('Band',band_list[j],column))]=cluster_table[column].data[:,j]\n",
    "cluster_table.remove_columns(band_col_list)"
   ]
  },
  {
   "cell_type": "code",
   "execution_count": 10,
   "metadata": {
    "papermill": {
     "duration": 0.069337,
     "end_time": "2019-10-26T07:59:47.608480",
     "exception": false,
     "start_time": "2019-10-26T07:59:47.539143",
     "status": "completed"
    },
    "tags": []
   },
   "outputs": [],
   "source": [
    "for i,column in enumerate(pz_col_list):\n",
    "    for j in range(21):\n",
    "        cluster_table[str(('PZ',pz_index_list[j],column))]=cluster_table[column].data[:,j]\n",
    "cluster_table.remove_columns(pz_col_list)"
   ]
  },
  {
   "cell_type": "code",
   "execution_count": 11,
   "metadata": {
    "papermill": {
     "duration": 0.085067,
     "end_time": "2019-10-26T07:59:47.721627",
     "exception": false,
     "start_time": "2019-10-26T07:59:47.636560",
     "status": "completed"
    },
    "tags": []
   },
   "outputs": [],
   "source": [
    "for i,column in enumerate(alt_col_list):\n",
    "    for j in range(5):\n",
    "        cluster_table[str(('Alt',alt_index_list[j],column))]=cluster_table[column].data[:,j]\n",
    "cluster_table.remove_columns(alt_col_list)"
   ]
  },
  {
   "cell_type": "code",
   "execution_count": 12,
   "metadata": {
    "papermill": {
     "duration": 0.112554,
     "end_time": "2019-10-26T07:59:47.861225",
     "exception": false,
     "start_time": "2019-10-26T07:59:47.748671",
     "status": "completed"
    },
    "tags": []
   },
   "outputs": [],
   "source": [
    "all_col_list=list(cluster_table.columns[0:54])\n",
    "for i,column in enumerate(all_col_list):\n",
    "    cluster_table[str(('All','All',column))]=cluster_table[column].data[:]\n",
    "cluster_table.remove_columns(all_col_list)"
   ]
  },
  {
   "cell_type": "code",
   "execution_count": 13,
   "metadata": {
    "papermill": {
     "duration": 0.04781,
     "end_time": "2019-10-26T07:59:47.942449",
     "exception": false,
     "start_time": "2019-10-26T07:59:47.894639",
     "status": "completed"
    },
    "tags": []
   },
   "outputs": [],
   "source": [
    "for j in range(4):\n",
    "    for i,column in enumerate(band_col_list[0:2]):\n",
    "        member_table['('+band_list[j]+','+column+')']=member_table[column].data[:,j]\n",
    "member_table.remove_columns(band_col_list[0:2]) "
   ]
  },
  {
   "cell_type": "code",
   "execution_count": 14,
   "metadata": {
    "papermill": {
     "duration": 0.498473,
     "end_time": "2019-10-26T07:59:48.465346",
     "exception": false,
     "start_time": "2019-10-26T07:59:47.966873",
     "status": "completed"
    },
    "tags": []
   },
   "outputs": [],
   "source": [
    "clusters=cluster_table.to_pandas()\n",
    "member=member_table.to_pandas()\n",
    "random=random_table.to_pandas()\n",
    "# center_table=None\n",
    "# member_table=None"
   ]
  },
  {
   "cell_type": "code",
   "execution_count": 15,
   "metadata": {
    "papermill": {
     "duration": 0.038617,
     "end_time": "2019-10-26T07:59:48.529876",
     "exception": false,
     "start_time": "2019-10-26T07:59:48.491259",
     "status": "completed"
    },
    "tags": []
   },
   "outputs": [],
   "source": [
    "member_cols = member.columns[0:22]\n",
    "shape_columns=pd.MultiIndex.from_product([['All'],list(mcal.get_colnames())],names=['Band','Data'])"
   ]
  },
  {
   "cell_type": "code",
   "execution_count": 16,
   "metadata": {
    "papermill": {
     "duration": 0.032195,
     "end_time": "2019-10-26T07:59:48.586208",
     "exception": false,
     "start_time": "2019-10-26T07:59:48.554013",
     "status": "completed"
    },
    "tags": []
   },
   "outputs": [],
   "source": [
    "center_bins=[m+str(n) for m,n in zip(['cen_']*5,np.arange(5)+1)]\n",
    "center=pd.MultiIndex.from_product([['Center'],center_bins,member_cols])"
   ]
  },
  {
   "cell_type": "code",
   "execution_count": 17,
   "metadata": {
    "papermill": {
     "duration": 0.031727,
     "end_time": "2019-10-26T07:59:48.645459",
     "exception": false,
     "start_time": "2019-10-26T07:59:48.613732",
     "status": "completed"
    },
    "tags": []
   },
   "outputs": [],
   "source": [
    "cluster_band_columns=pd.MultiIndex.from_product([['g','r','i','z'],\n",
    "                                       ['MODEL_MAG','MODEL_MAGERR','MAG_LAMBDA_ERR']],\n",
    "                                     names=['band','data'])"
   ]
  },
  {
   "cell_type": "code",
   "execution_count": 18,
   "metadata": {
    "papermill": {
     "duration": 0.032064,
     "end_time": "2019-10-26T07:59:48.701790",
     "exception": false,
     "start_time": "2019-10-26T07:59:48.669726",
     "status": "completed"
    },
    "tags": []
   },
   "outputs": [],
   "source": [
    "# alt_bins=[m+str(n) for m,n in zip(['alt_']*5,np.arange(5)+1)]\n",
    "# alt_columns=pd.MultiIndex.from_product([alt_bins,\n",
    "#                                        alt_col_list.append(shape_names)],\n",
    "#                                      names=['alt_index','data'])"
   ]
  },
  {
   "cell_type": "code",
   "execution_count": 19,
   "metadata": {
    "papermill": {
     "duration": 0.037866,
     "end_time": "2019-10-26T07:59:48.770769",
     "exception": false,
     "start_time": "2019-10-26T07:59:48.732903",
     "status": "completed"
    },
    "tags": []
   },
   "outputs": [],
   "source": [
    "member_band_columns=pd.MultiIndex.from_product([['g','r','i','z'],\n",
    "                                       ['MODEL_MAG','MODEL_MAGERR',]],\n",
    "                                     names=['Band','Data'])"
   ]
  },
  {
   "cell_type": "code",
   "execution_count": 20,
   "metadata": {
    "papermill": {
     "duration": 0.034464,
     "end_time": "2019-10-26T07:59:48.835915",
     "exception": false,
     "start_time": "2019-10-26T07:59:48.801451",
     "status": "completed"
    },
    "tags": []
   },
   "outputs": [],
   "source": [
    "shape_index=pd.MultiIndex.from_tuples([('MEM_MATCH_ID','TYPE')],names=['ClusterID','Type'])"
   ]
  },
  {
   "cell_type": "code",
   "execution_count": 21,
   "metadata": {
    "papermill": {
     "duration": 0.03788,
     "end_time": "2019-10-26T07:59:48.898637",
     "exception": false,
     "start_time": "2019-10-26T07:59:48.860757",
     "status": "completed"
    },
    "tags": []
   },
   "outputs": [],
   "source": [
    "random_columns=pd.MultiIndex.from_product([['All'],['RA', 'DEC', 'Z', 'LAMBDA_IN', 'AVG_LAMBDAOUT', 'SIGMA_LAMBDAOUT', 'WEIGHT']],\n",
    "                                       names=['Band','Data'])"
   ]
  },
  {
   "cell_type": "code",
   "execution_count": 22,
   "metadata": {
    "papermill": {
     "duration": 0.032917,
     "end_time": "2019-10-26T07:59:48.958590",
     "exception": false,
     "start_time": "2019-10-26T07:59:48.925673",
     "status": "completed"
    },
    "tags": []
   },
   "outputs": [],
   "source": [
    "random.columns=random_columns"
   ]
  },
  {
   "cell_type": "code",
   "execution_count": 23,
   "metadata": {
    "papermill": {
     "duration": 0.033976,
     "end_time": "2019-10-26T07:59:49.017588",
     "exception": false,
     "start_time": "2019-10-26T07:59:48.983612",
     "status": "completed"
    },
    "tags": []
   },
   "outputs": [],
   "source": [
    "member_id=member['ID'].values"
   ]
  },
  {
   "cell_type": "code",
   "execution_count": 24,
   "metadata": {
    "papermill": {
     "duration": 0.032406,
     "end_time": "2019-10-26T07:59:49.075824",
     "exception": false,
     "start_time": "2019-10-26T07:59:49.043418",
     "status": "completed"
    },
    "tags": []
   },
   "outputs": [],
   "source": [
    "# for id in member_id:\n",
    "#     mask = pd.Series(shape_id)==id"
   ]
  },
  {
   "cell_type": "code",
   "execution_count": 25,
   "metadata": {
    "papermill": {
     "duration": 0.033501,
     "end_time": "2019-10-26T07:59:49.137904",
     "exception": false,
     "start_time": "2019-10-26T07:59:49.104403",
     "status": "completed"
    },
    "tags": []
   },
   "outputs": [],
   "source": [
    "shape_id_series = pd.Series(shape_id)"
   ]
  },
  {
   "cell_type": "code",
   "execution_count": 26,
   "metadata": {
    "papermill": {
     "duration": 0.038817,
     "end_time": "2019-10-26T07:59:49.201399",
     "exception": false,
     "start_time": "2019-10-26T07:59:49.162582",
     "status": "completed"
    },
    "tags": []
   },
   "outputs": [],
   "source": [
    "def sort2n(x,y):\n",
    "    \"\"\"\n",
    "    Sorts and matches two arrays of object ids where x is unique and y is not (in DES this is coadd_objects_id).\n",
    "    Slower than sort2().\n",
    "    \"\"\"\n",
    "    \n",
    "    xsort = np.argsort(x)\n",
    "    ysort = np.argsort(y)\n",
    "    i_yx = np.sort(y[np.in1d(y, x, assume_unique=False)])\n",
    "    i_x = xsort[x[xsort].searchsorted(i_yx)]\n",
    "    i_y = ysort[y[ysort].searchsorted(i_yx)]\n",
    "    \n",
    "    return i_x, i_y"
   ]
  },
  {
   "cell_type": "code",
   "execution_count": 27,
   "metadata": {
    "papermill": {
     "duration": 28.531449,
     "end_time": "2019-10-26T08:00:17.765407",
     "exception": false,
     "start_time": "2019-10-26T07:59:49.233958",
     "status": "completed"
    },
    "tags": []
   },
   "outputs": [],
   "source": [
    "s2n_index=sort2n(member_id,shape_id)"
   ]
  },
  {
   "cell_type": "code",
   "execution_count": 28,
   "metadata": {
    "papermill": {
     "duration": 3.159094,
     "end_time": "2019-10-26T08:00:20.957234",
     "exception": false,
     "start_time": "2019-10-26T08:00:17.798140",
     "status": "completed"
    },
    "tags": []
   },
   "outputs": [],
   "source": [
    "shape_half=pd.DataFrame(mcal.read(rows=[s2n_index[1]]).byteswap().newbyteorder())"
   ]
  },
  {
   "cell_type": "code",
   "execution_count": 29,
   "metadata": {
    "papermill": {
     "duration": 0.095716,
     "end_time": "2019-10-26T08:00:21.080069",
     "exception": false,
     "start_time": "2019-10-26T08:00:20.984353",
     "status": "completed"
    },
    "tags": []
   },
   "outputs": [],
   "source": [
    "member_half=member.iloc[s2n_index[0]]"
   ]
  },
  {
   "cell_type": "code",
   "execution_count": 30,
   "metadata": {
    "papermill": {
     "duration": 0.039753,
     "end_time": "2019-10-26T08:00:21.149855",
     "exception": false,
     "start_time": "2019-10-26T08:00:21.110102",
     "status": "completed"
    },
    "tags": []
   },
   "outputs": [],
   "source": [
    "member_half_index=pd.MultiIndex.from_tuples(list(zip(['All']*23,member_half.columns[0:23]))+list(member_band_columns),names=['Band','Data']) "
   ]
  },
  {
   "cell_type": "code",
   "execution_count": 31,
   "metadata": {
    "papermill": {
     "duration": 0.036459,
     "end_time": "2019-10-26T08:00:21.212598",
     "exception": false,
     "start_time": "2019-10-26T08:00:21.176139",
     "status": "completed"
    },
    "tags": []
   },
   "outputs": [],
   "source": [
    "shape_half.columns=shape_columns\n",
    "member_half.columns=member_half_index\n",
    "shape_half.set_index(('All','coadd_objects_id'),inplace=True)\n",
    "member_half.set_index(('All','ID'),inplace=True)"
   ]
  },
  {
   "cell_type": "code",
   "execution_count": 32,
   "metadata": {
    "papermill": {
     "duration": 0.139708,
     "end_time": "2019-10-26T08:00:21.377198",
     "exception": false,
     "start_time": "2019-10-26T08:00:21.237490",
     "status": "completed"
    },
    "tags": []
   },
   "outputs": [],
   "source": [
    "shapes=pd.concat([member_half,shape_half],axis=1,verify_integrity=True)\n",
    "shapes.index.name=\"ID\""
   ]
  },
  {
   "cell_type": "markdown",
   "metadata": {
    "papermill": {
     "duration": 0.02399,
     "end_time": "2019-10-26T08:00:21.432277",
     "exception": false,
     "start_time": "2019-10-26T08:00:21.408287",
     "status": "completed"
    },
    "tags": []
   },
   "source": [
    "# im3 e correction"
   ]
  },
  {
   "cell_type": "code",
   "execution_count": 33,
   "metadata": {
    "papermill": {
     "duration": 0.031068,
     "end_time": "2019-10-26T08:00:21.487070",
     "exception": false,
     "start_time": "2019-10-26T08:00:21.456002",
     "status": "completed"
    },
    "tags": []
   },
   "outputs": [],
   "source": [
    "if shape_cat == \"im3\":\n",
    "    shapes[('All','e1_old')]=shapes[('All','e1')]\n",
    "    shapes[('All','e2_old')]=shapes[('All','e2')]\n",
    "    shapes[('All','e1')]=shapes.apply(lambda x:x[('All','e1')]-x[('All','c1')],axis=1)\n",
    "    shapes[('All','e2')]=shapes.apply(lambda x:x[('All','e2')]-x[('All','c2')],axis=1)"
   ]
  },
  {
   "cell_type": "code",
   "execution_count": 34,
   "metadata": {
    "papermill": {
     "duration": 0.03288,
     "end_time": "2019-10-26T08:00:21.548920",
     "exception": false,
     "start_time": "2019-10-26T08:00:21.516040",
     "status": "completed"
    },
    "tags": []
   },
   "outputs": [],
   "source": [
    "cluster_col_list=[ast.literal_eval(name) for i,name in enumerate(clusters.columns)]\n",
    "cluster_col=pd.MultiIndex.from_tuples(cluster_col_list, names=['Type','Kind','Data'])"
   ]
  },
  {
   "cell_type": "code",
   "execution_count": 35,
   "metadata": {
    "papermill": {
     "duration": 0.035472,
     "end_time": "2019-10-26T08:00:21.611139",
     "exception": false,
     "start_time": "2019-10-26T08:00:21.575667",
     "status": "completed"
    },
    "tags": []
   },
   "outputs": [],
   "source": [
    "clusters.columns=cluster_col\n",
    "clusters.set_index(('All', 'All', 'MEM_MATCH_ID'),inplace=True);"
   ]
  },
  {
   "cell_type": "code",
   "execution_count": 36,
   "metadata": {
    "papermill": {
     "duration": 0.038223,
     "end_time": "2019-10-26T08:00:21.676624",
     "exception": false,
     "start_time": "2019-10-26T08:00:21.638401",
     "status": "completed"
    },
    "tags": []
   },
   "outputs": [],
   "source": [
    "def get_theta_for_obj(obj1,obj2):\n",
    "    ra1,dec1=(obj1[('All', 'RA')],obj1[('All', 'DEC')])\n",
    "    ra2,dec2=(obj2[('All', 'RA')],obj2[('All', 'DEC')])\n",
    "    \n",
    "    \n",
    "    \n",
    "    c1=SkyCoord(ra1*u.deg,dec1*u.deg)\n",
    "    c2=SkyCoord(ra2*u.deg,dec2*u.deg)\n",
    "    \n",
    "    \n",
    "    return(90-c1.position_angle(c2).degree)"
   ]
  },
  {
   "cell_type": "code",
   "execution_count": 37,
   "metadata": {
    "papermill": {
     "duration": 0.031222,
     "end_time": "2019-10-26T08:00:21.737969",
     "exception": false,
     "start_time": "2019-10-26T08:00:21.706747",
     "status": "completed"
    },
    "tags": []
   },
   "outputs": [],
   "source": [
    "def get_rel_theta(member):\n",
    "    cluster=clusters.loc[member[('All','MEM_MATCH_ID')]]\n",
    "    center=shapes.loc[cluster[('Alt','Alt1','ID_CENT')]]\n",
    "    theta=get_theta_for_obj(center,member)\n",
    "    return(theta)"
   ]
  },
  {
   "cell_type": "code",
   "execution_count": 38,
   "metadata": {
    "papermill": {
     "duration": 16.100671,
     "end_time": "2019-10-26T08:00:37.866506",
     "exception": false,
     "start_time": "2019-10-26T08:00:21.765835",
     "status": "completed"
    },
    "tags": []
   },
   "outputs": [
    {
     "name": "stdout",
     "output_type": "stream",
     "text": [
      "Added PP column.\n"
     ]
    }
   ],
   "source": [
    "shapes[('All','PP')]=shapes.apply(lambda x:x[('All','P')]*x[('All','PFREE')],axis=1)\n",
    "print (\"Added PP column.\")"
   ]
  },
  {
   "cell_type": "code",
   "execution_count": 39,
   "metadata": {
    "papermill": {
     "duration": 0.487546,
     "end_time": "2019-10-26T08:00:38.382669",
     "exception": false,
     "start_time": "2019-10-26T08:00:37.895123",
     "status": "completed"
    },
    "tags": []
   },
   "outputs": [],
   "source": [
    "shapes=shapes[shapes[('All', 'flags_select')]==0]\n",
    "shapes=shapes[shapes[('All','PP')]>=0.55]"
   ]
  },
  {
   "cell_type": "code",
   "execution_count": 40,
   "metadata": {
    "papermill": {
     "duration": 0.191911,
     "end_time": "2019-10-26T08:00:38.601271",
     "exception": false,
     "start_time": "2019-10-26T08:00:38.409360",
     "status": "completed"
    },
    "tags": []
   },
   "outputs": [
    {
     "name": "stdout",
     "output_type": "stream",
     "text": [
      "The number of clusters with no center shape data 2744\n",
      "Number of galaxies before masking: 170325\n",
      "Number of galaxies after masking: 170325\n",
      "The number of clusters with no center shape data 0\n",
      "Number of galaxies before masking: 104848\n",
      "Number of galaxies after masking: 104848\n"
     ]
    },
    {
     "name": "stderr",
     "output_type": "stream",
     "text": [
      "/home/cz136/anaconda3/envs/balrog/lib/python3.7/site-packages/ipykernel_launcher.py:4: FutureWarning: \n",
      "Passing list-likes to .loc or [] with any missing label will raise\n",
      "KeyError in the future, you can use .reindex() as an alternative.\n",
      "\n",
      "See the documentation here:\n",
      "https://pandas.pydata.org/pandas-docs/stable/user_guide/indexing.html#deprecate-loc-reindex-listlike\n",
      "  after removing the cwd from sys.path.\n"
     ]
    }
   ],
   "source": [
    "# Drop clusters with no center\n",
    "def drop_poor_centers():\n",
    "    center_id=clusters[('Alt', 'Alt1', 'ID_CENT')]\n",
    "    p=shapes.loc[center_id][('All','P')].to_numpy()\n",
    "    missing_mem_match_id=clusters[np.isnan(p)].index\n",
    "    clusters.drop(missing_mem_match_id,inplace=True)\n",
    "#     np.save(\"/home/cz136/project/sa/data/missing_centers.npy\",center_id[np.isnan(p)].to_numpy())\n",
    "    print(\"The number of clusters with no center shape data {}\".format(np.sum(np.isnan(p))))\n",
    "drop_poor_centers()\n",
    "\n",
    "# Drop members with no cluster\n",
    "def drop_poor_members():\n",
    "    valid_clusters_id=clusters.index.to_numpy()\n",
    "    shapes_match_id=shapes[('All','MEM_MATCH_ID')].to_numpy()\n",
    "    print(\"Number of galaxies before masking: {}\".format(len(shapes_match_id)))\n",
    "    valid_members=np.isin(shapes_match_id,valid_clusters_id)\n",
    "    return(valid_members)\n",
    "    \n",
    "valid_members_id=drop_poor_members()\n",
    "print(\"Number of galaxies after masking: {}\".format(len(shapes)))\n",
    "shapes=shapes[valid_members_id]\n",
    "\n",
    "drop_poor_centers()\n",
    "valid_members_id=drop_poor_members()\n",
    "print(\"Number of galaxies after masking: {}\".format(len(shapes)))\n",
    "shapes=shapes[valid_members_id]"
   ]
  },
  {
   "cell_type": "code",
   "execution_count": 41,
   "metadata": {
    "papermill": {
     "duration": 211.475968,
     "end_time": "2019-10-26T08:04:10.107924",
     "exception": false,
     "start_time": "2019-10-26T08:00:38.631956",
     "status": "completed"
    },
    "tags": []
   },
   "outputs": [],
   "source": [
    "shapes[('All','Theta_cen')]=shapes.apply(lambda x:get_rel_theta(x),axis=1)"
   ]
  },
  {
   "cell_type": "code",
   "execution_count": 42,
   "metadata": {
    "papermill": {
     "duration": 11.697895,
     "end_time": "2019-10-26T08:04:21.842734",
     "exception": false,
     "start_time": "2019-10-26T08:04:10.144839",
     "status": "completed"
    },
    "tags": []
   },
   "outputs": [],
   "source": [
    "shapes[('All','Theta_cen')]=shapes.apply(lambda x:360-x[('All','Theta_cen')] if x[('All','Theta_cen')]>=180 else x[('All','Theta_cen')],axis=1)\n",
    "shapes[('All','Theta_cen')]=shapes.apply(lambda x:360+x[('All','Theta_cen')] if x[('All','Theta_cen')]<=-180 else x[('All','Theta_cen')],axis=1)\n",
    "shapes[('All','Theta_sat')]=shapes.apply(lambda x:-(180-x[('All','Theta_cen')]) if x[('All','Theta_cen')]>=0 else (180+x[('All','Theta_cen')]),axis=1)"
   ]
  },
  {
   "cell_type": "code",
   "execution_count": 43,
   "metadata": {
    "papermill": {
     "duration": 0.038616,
     "end_time": "2019-10-26T08:04:21.912138",
     "exception": false,
     "start_time": "2019-10-26T08:04:21.873522",
     "status": "completed"
    },
    "tags": []
   },
   "outputs": [],
   "source": [
    "H0=100 #km s-1 Mpc-1\n",
    "Om0=0.3\n",
    "Ode0=0.7\n",
    "lcdm=astropy.cosmology.FlatLambdaCDM(H0, Om0)"
   ]
  },
  {
   "cell_type": "code",
   "execution_count": 44,
   "metadata": {
    "papermill": {
     "duration": 414.612596,
     "end_time": "2019-10-26T08:11:16.553789",
     "exception": false,
     "start_time": "2019-10-26T08:04:21.941193",
     "status": "completed"
    },
    "tags": []
   },
   "outputs": [],
   "source": [
    "shapes[('All','angR')]=shapes.apply(lambda x:np.float(lcdm.angular_diameter_distance(x[('All','Z')])/u.Mpc),axis=1)\n",
    "random[('All','angR')]=random.apply(lambda x:np.float(lcdm.angular_diameter_distance(x[('All','Z')])/u.Mpc),axis=1)"
   ]
  },
  {
   "cell_type": "markdown",
   "metadata": {
    "papermill": {
     "duration": 0.02535,
     "end_time": "2019-10-26T08:11:16.608845",
     "exception": false,
     "start_time": "2019-10-26T08:11:16.583495",
     "status": "completed"
    },
    "tags": []
   },
   "source": [
    "# Add $\\phi$"
   ]
  },
  {
   "cell_type": "code",
   "execution_count": 45,
   "metadata": {
    "papermill": {
     "duration": 0.038159,
     "end_time": "2019-10-26T08:11:16.671794",
     "exception": false,
     "start_time": "2019-10-26T08:11:16.633635",
     "status": "completed"
    },
    "tags": []
   },
   "outputs": [],
   "source": [
    "def get_pa_for_member(obj):\n",
    "    e1=obj['All']['e1']\n",
    "    e2=obj['All']['e2']\n",
    "    \n",
    "    α =0.5*np.arctan2(-e2,-e1)*180/np.pi\n",
    "    return(α)"
   ]
  },
  {
   "cell_type": "code",
   "execution_count": 46,
   "metadata": {
    "papermill": {
     "duration": 0.038991,
     "end_time": "2019-10-26T08:11:16.740683",
     "exception": false,
     "start_time": "2019-10-26T08:11:16.701692",
     "status": "completed"
    },
    "tags": []
   },
   "outputs": [],
   "source": [
    "error_list_phi=[]\n",
    "error_list_e=[]\n",
    "\n",
    "def get_phi_for_member(member):\n",
    "    \n",
    "    \"\"\"Input: cluster series\n",
    "        Output: an array of position angle weighted by PP\n",
    "        Record KeyError in an array (usually caused by uncomplete shape catalog).\n",
    "    \"\"\"\n",
    "    \n",
    "    try:\n",
    "        cluster_id=member[('All','MEM_MATCH_ID')]\n",
    "        cluster=clusters.loc[cluster_id]\n",
    "        center_id=cluster[('Alt', 'Alt1', 'ID_CENT')]\n",
    "        center = shapes.loc[center_id]\n",
    "        \n",
    "        pa=get_pa_for_member(member)\n",
    "        theta= get_theta_for_obj(member,center)\n",
    "        phi=(pa-theta)\n",
    "    #     print(center.index)\n",
    "        return(phi)    \n",
    "    except KeyError as e:\n",
    "        error_list_phi.append(e)\n",
    "        print(e)\n",
    "        return(np.nan)"
   ]
  },
  {
   "cell_type": "code",
   "execution_count": 47,
   "metadata": {
    "papermill": {
     "duration": 288.92289,
     "end_time": "2019-10-26T08:16:05.688563",
     "exception": false,
     "start_time": "2019-10-26T08:11:16.765673",
     "status": "completed"
    },
    "tags": []
   },
   "outputs": [],
   "source": [
    "shapes[('All','phi')]=shapes.apply(lambda x:get_phi_for_member(x),axis=1)"
   ]
  },
  {
   "cell_type": "code",
   "execution_count": 48,
   "metadata": {
    "papermill": {
     "duration": 0.036201,
     "end_time": "2019-10-26T08:16:05.751084",
     "exception": false,
     "start_time": "2019-10-26T08:16:05.714883",
     "status": "completed"
    },
    "tags": []
   },
   "outputs": [],
   "source": [
    "def process_phi(phi_1d):\n",
    "\n",
    "    phi_1d=np.where(phi_1d<=0,-phi_1d,phi_1d)\n",
    "    phi_1d=np.where(phi_1d>=180,phi_1d-180,phi_1d)\n",
    "    phi_1d=np.where(phi_1d>=90,180-phi_1d,phi_1d)\n",
    "\n",
    "    \n",
    "    return(phi_1d)"
   ]
  },
  {
   "cell_type": "code",
   "execution_count": 49,
   "metadata": {
    "papermill": {
     "duration": 0.041377,
     "end_time": "2019-10-26T08:16:05.817178",
     "exception": false,
     "start_time": "2019-10-26T08:16:05.775801",
     "status": "completed"
    },
    "tags": []
   },
   "outputs": [],
   "source": [
    "shapes[('All','phi')]=process_phi(shapes[('All','phi')])"
   ]
  },
  {
   "cell_type": "markdown",
   "metadata": {
    "papermill": {
     "duration": 0.02497,
     "end_time": "2019-10-26T08:16:05.870740",
     "exception": false,
     "start_time": "2019-10-26T08:16:05.845770",
     "status": "completed"
    },
    "tags": []
   },
   "source": [
    "# Add e"
   ]
  },
  {
   "cell_type": "code",
   "execution_count": 50,
   "metadata": {
    "papermill": {
     "duration": 0.032081,
     "end_time": "2019-10-26T08:16:05.927679",
     "exception": false,
     "start_time": "2019-10-26T08:16:05.895598",
     "status": "completed"
    },
    "tags": []
   },
   "outputs": [],
   "source": [
    "def get_e(sat):\n",
    "    cluster_id=sat[('All','MEM_MATCH_ID')]\n",
    "    cluster=clusters.loc[cluster_id]\n",
    "    center_id=cluster[('Alt', 'Alt1', 'ID_CENT')]\n",
    "    cen = shapes.loc[center_id]\n",
    "    \n",
    "    e=np.sqrt(sat[('All','e1')]**2+sat[('All','e2')]**2)\n",
    "    delta=get_theta_for_obj(cen,sat)\n",
    "    alpha=get_pa_for_member(sat)\n",
    "    ep,ex=(e*np.cos(2*(delta-alpha)),e*np.sin(2*(delta-alpha)))\n",
    "    return(ep,ex)"
   ]
  },
  {
   "cell_type": "code",
   "execution_count": 51,
   "metadata": {
    "papermill": {
     "duration": 566.695396,
     "end_time": "2019-10-26T08:25:32.648285",
     "exception": false,
     "start_time": "2019-10-26T08:16:05.952889",
     "status": "completed"
    },
    "tags": []
   },
   "outputs": [],
   "source": [
    "shapes[('All','ep')]=shapes.apply(lambda x:get_e(x)[0],axis=1)\n",
    "shapes[('All','ex')]=shapes.apply(lambda x:get_e(x)[1],axis=1)"
   ]
  },
  {
   "cell_type": "markdown",
   "metadata": {
    "papermill": {
     "duration": 0.0252,
     "end_time": "2019-10-26T08:25:32.708196",
     "exception": false,
     "start_time": "2019-10-26T08:25:32.682996",
     "status": "completed"
    },
    "tags": []
   },
   "source": [
    "# Calculate cluster elipticity"
   ]
  },
  {
   "cell_type": "code",
   "execution_count": 52,
   "metadata": {
    "papermill": {
     "duration": 0.040713,
     "end_time": "2019-10-26T08:25:32.773705",
     "exception": false,
     "start_time": "2019-10-26T08:25:32.732992",
     "status": "completed"
    },
    "tags": []
   },
   "outputs": [
    {
     "data": {
      "text/latex": [
       "$\\displaystyle M_{\\mathrm{xx}} \\equiv\\left\\langle\\frac{x^{2}}{r^{2}}\\right\\rangle=\\frac{\\sum_{i} p_{\\mathrm{mem}, i} \\frac{x_{i}^{2}}{r_{i}^{2}}}{\\sum_{i} p_{\\mathrm{mem}, i}}$"
      ],
      "text/plain": [
       "<IPython.core.display.Math object>"
      ]
     },
     "metadata": {},
     "output_type": "display_data"
    }
   ],
   "source": [
    "display(Math(r\"$M_{\\mathrm{xx}} \\equiv\\left\\langle\\frac{x^{2}}{r^{2}}\\right\\rangle=\\frac{\\sum_{i} p_{\\mathrm{mem}, i} \\frac{x_{i}^{2}}{r_{i}^{2}}}{\\sum_{i} p_{\\mathrm{mem}, i}}$\"))"
   ]
  },
  {
   "cell_type": "code",
   "execution_count": 53,
   "metadata": {
    "papermill": {
     "duration": 0.043848,
     "end_time": "2019-10-26T08:25:32.843780",
     "exception": false,
     "start_time": "2019-10-26T08:25:32.799932",
     "status": "completed"
    },
    "tags": []
   },
   "outputs": [],
   "source": [
    "def get_Q_U(cluster):\n",
    "    \n",
    "    mem_match_id=cluster.name\n",
    "    members=shapes[shapes['All','MEM_MATCH_ID']==mem_match_id]\n",
    "    \n",
    "    members=members[members[('All','PP')]>=0.2]\n",
    "    \n",
    "    def get_M_for_cluster():\n",
    "        p = members[('All','PP')]\n",
    "        r = members[('All','R')]\n",
    "        pa = members[('All','Theta_cen')]\n",
    "        x = r * np.cos(pa)\n",
    "        y = r * np.sin(pa)\n",
    "        \n",
    "        def mom_2(p,x,y,r):\n",
    "            return(np.sum(p*x*y/r**2)/np.sum(p))\n",
    "        \n",
    "        Mxx=mom_2(p,x,x,r)\n",
    "        Mxy=mom_2(p,x,y,r)\n",
    "        Myy=mom_2(p,y,y,r)\n",
    "        return(Mxx,Mxy,Myy)\n",
    "\n",
    "    Mxx,Mxy,Myy=get_M_for_cluster()\n",
    "    Q,U=Mxx-Myy,2*Mxy\n",
    "    \n",
    "    return (Q,U)\n",
    "\n",
    "\n",
    "def get_pa_from_Q_U(Q,U):\n",
    "    α =0.5*np.arctan2(U,Q)*180/np.pi\n",
    "    return(α)"
   ]
  },
  {
   "cell_type": "code",
   "execution_count": 54,
   "metadata": {
    "papermill": {
     "duration": 32.742616,
     "end_time": "2019-10-26T08:26:05.611384",
     "exception": false,
     "start_time": "2019-10-26T08:25:32.868768",
     "status": "completed"
    },
    "tags": []
   },
   "outputs": [],
   "source": [
    "clusters[('All','All','Q')]=clusters.apply(lambda x:get_Q_U(x)[0],axis=1)\n",
    "clusters[('All','All','U')]=clusters.apply(lambda x:get_Q_U(x)[1],axis=1)\n",
    "clusters[('All','All','Beta')]=clusters.apply(lambda x:get_pa_from_Q_U(x[('All','All','Q')],x[('All','All','U')]),axis=1)\n",
    "clusters[('All','All','Ce')]=clusters.apply(lambda x:np.sqrt(x[('All','All','U')]**2+x[('All','All','U')]**2),axis=1)"
   ]
  },
  {
   "cell_type": "code",
   "execution_count": 55,
   "metadata": {
    "papermill": {
     "duration": 0.035436,
     "end_time": "2019-10-26T08:26:05.679606",
     "exception": false,
     "start_time": "2019-10-26T08:26:05.644170",
     "status": "completed"
    },
    "tags": []
   },
   "outputs": [],
   "source": [
    "def get_normLR(shape):\n",
    "    cluster_id=shape[('All','MEM_MATCH_ID')]\n",
    "    LR = clusters.loc[cluster_id][('All','All','R_LAMBDA')]\n",
    "    angR=shape[('All','angR')]\n",
    "    normR=angR/LR\n",
    "    return(normR)"
   ]
  },
  {
   "cell_type": "code",
   "execution_count": 56,
   "metadata": {
    "papermill": {
     "duration": 32.644015,
     "end_time": "2019-10-26T08:26:38.351161",
     "exception": false,
     "start_time": "2019-10-26T08:26:05.707146",
     "status": "completed"
    },
    "tags": []
   },
   "outputs": [],
   "source": [
    "shapes[('All','normLR')]=shapes.apply(lambda x:get_normLR(x),axis=1)"
   ]
  },
  {
   "cell_type": "code",
   "execution_count": 57,
   "metadata": {
    "papermill": {
     "duration": 0.030663,
     "end_time": "2019-10-26T08:26:38.408386",
     "exception": false,
     "start_time": "2019-10-26T08:26:38.377723",
     "status": "completed"
    },
    "tags": []
   },
   "outputs": [],
   "source": [
    "def add_r_lambda(shape):\n",
    "    cluster_id=shape[('All','MEM_MATCH_ID')]\n",
    "    LR = clusters.loc[cluster_id][('All','All','R_LAMBDA')]\n",
    "    return(LR)"
   ]
  },
  {
   "cell_type": "code",
   "execution_count": 58,
   "metadata": {
    "papermill": {
     "duration": 30.866446,
     "end_time": "2019-10-26T08:27:09.299236",
     "exception": false,
     "start_time": "2019-10-26T08:26:38.432790",
     "status": "completed"
    },
    "tags": []
   },
   "outputs": [],
   "source": [
    "shapes[('All','R_LAMBDA')]=shapes.apply(lambda x:add_r_lambda(x),axis=1)"
   ]
  },
  {
   "cell_type": "markdown",
   "metadata": {
    "papermill": {
     "duration": 0.025173,
     "end_time": "2019-10-26T08:27:09.351417",
     "exception": false,
     "start_time": "2019-10-26T08:27:09.326244",
     "status": "completed"
    },
    "tags": []
   },
   "source": [
    "# Save"
   ]
  },
  {
   "cell_type": "code",
   "execution_count": 59,
   "metadata": {
    "papermill": {
     "duration": 0.100177,
     "end_time": "2019-10-26T08:27:09.476681",
     "exception": false,
     "start_time": "2019-10-26T08:27:09.376504",
     "status": "completed"
    },
    "tags": []
   },
   "outputs": [],
   "source": [
    "clusters.to_pickle('/home/cz136/project/sa/data/{}/{}/clusters.pkl'.format(shape_cat,vol))"
   ]
  },
  {
   "cell_type": "code",
   "execution_count": 60,
   "metadata": {
    "papermill": {
     "duration": 0.639586,
     "end_time": "2019-10-26T08:27:10.151238",
     "exception": false,
     "start_time": "2019-10-26T08:27:09.511652",
     "status": "completed"
    },
    "tags": []
   },
   "outputs": [],
   "source": [
    "shapes.to_pickle('/home/cz136/project/sa/data/{}/{}/shapes.pkl'.format(shape_cat,vol))"
   ]
  },
  {
   "cell_type": "code",
   "execution_count": 61,
   "metadata": {
    "papermill": {
     "duration": 0.98547,
     "end_time": "2019-10-26T08:27:11.174959",
     "exception": false,
     "start_time": "2019-10-26T08:27:10.189489",
     "status": "completed"
    },
    "tags": []
   },
   "outputs": [],
   "source": [
    "random.to_pickle('/home/cz136/project/sa/data/{}/{}/random.pkl'.format(shape_cat,vol))"
   ]
  },
  {
   "cell_type": "markdown",
   "metadata": {
    "papermill": {
     "duration": 0.028083,
     "end_time": "2019-10-26T08:27:11.250036",
     "exception": false,
     "start_time": "2019-10-26T08:27:11.221953",
     "status": "completed"
    },
    "tags": []
   },
   "source": [
    "## z masking"
   ]
  },
  {
   "cell_type": "code",
   "execution_count": 62,
   "metadata": {
    "papermill": {
     "duration": 0.03054,
     "end_time": "2019-10-26T08:27:11.305570",
     "exception": false,
     "start_time": "2019-10-26T08:27:11.275030",
     "status": "completed"
    },
    "tags": []
   },
   "outputs": [],
   "source": [
    "def drop_shapes_wo_cluster(clusters,shapes):\n",
    "    valid_clusters_id=clusters.index.to_numpy()\n",
    "    shapes_match_id=shapes[('All','MEM_MATCH_ID')].to_numpy()\n",
    "    print(\"Number of galaxies before masking: {}\".format(len(shapes_match_id)))\n",
    "    valid_members=np.isin(shapes_match_id,valid_clusters_id)\n",
    "    shapes=shapes[valid_members]\n",
    "    return(shapes)"
   ]
  },
  {
   "cell_type": "code",
   "execution_count": 63,
   "metadata": {
    "papermill": {
     "duration": 0.036016,
     "end_time": "2019-10-26T08:27:11.367090",
     "exception": false,
     "start_time": "2019-10-26T08:27:11.331074",
     "status": "completed"
    },
    "tags": []
   },
   "outputs": [],
   "source": [
    "high_z=clusters[clusters['All','All','Z_LAMBDA']>=0.35]\n",
    "low_z=clusters[(clusters['All','All','Z_LAMBDA']<=0.35) & (clusters['All','All','Z_LAMBDA']>=0.1)]"
   ]
  },
  {
   "cell_type": "code",
   "execution_count": 64,
   "metadata": {
    "papermill": {
     "duration": 0.139712,
     "end_time": "2019-10-26T08:27:11.531395",
     "exception": false,
     "start_time": "2019-10-26T08:27:11.391683",
     "status": "completed"
    },
    "tags": []
   },
   "outputs": [
    {
     "name": "stdout",
     "output_type": "stream",
     "text": [
      "Number of galaxies before masking: 104848\n",
      "Number of galaxies before masking: 104848\n"
     ]
    }
   ],
   "source": [
    "high_z_shapes=drop_shapes_wo_cluster(high_z,shapes)\n",
    "low_z_shapes=drop_shapes_wo_cluster(low_z,shapes)"
   ]
  },
  {
   "cell_type": "code",
   "execution_count": 65,
   "metadata": {
    "papermill": {
     "duration": 0.72728,
     "end_time": "2019-10-26T08:27:12.285758",
     "exception": false,
     "start_time": "2019-10-26T08:27:11.558478",
     "status": "completed"
    },
    "tags": []
   },
   "outputs": [],
   "source": [
    "high_z.to_pickle('/home/cz136/project/sa/data/{}/{}/clusters_high_z.pkl'.format(shape_cat,vol))\n",
    "low_z.to_pickle('/home/cz136/project/sa/data/{}/{}/clusters_low_z.pkl'.format(shape_cat,vol))\n",
    "high_z_shapes.to_pickle('/home/cz136/project/sa/data/{}/{}/shapes_high_z.pkl'.format(shape_cat,vol))\n",
    "low_z_shapes.to_pickle('/home/cz136/project/sa/data/{}/{}/shapes_low_z.pkl'.format(shape_cat,vol))"
   ]
  }
 ],
 "metadata": {
  "kernelspec": {
   "display_name": "Python 3",
   "language": "python",
   "name": "python3"
  },
  "language_info": {
   "codemirror_mode": {
    "name": "ipython",
    "version": 3
   },
   "file_extension": ".py",
   "mimetype": "text/x-python",
   "name": "python",
   "nbconvert_exporter": "python",
   "pygments_lexer": "ipython3",
   "version": "3.7.3"
  },
  "papermill": {
   "duration": 1760.691775,
   "end_time": "2019-10-26T08:27:12.820901",
   "environment_variables": {},
   "exception": null,
   "input_path": "/home/cz136/project/sa/lib/src/data_marshalling.ipynb",
   "output_path": "/home/cz136/project/sa/lib/output/data/mcal_vlim.ipynb",
   "parameters": {
    "shape_cat": "mcal",
    "vol": "vlim"
   },
   "start_time": "2019-10-26T07:57:52.129126",
   "version": "1.2.0"
  }
 },
 "nbformat": 4,
 "nbformat_minor": 4
}