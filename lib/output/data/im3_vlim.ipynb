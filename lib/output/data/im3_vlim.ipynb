{
 "cells": [
  {
   "cell_type": "code",
   "execution_count": 1,
   "metadata": {
    "papermill": {
     "duration": 0.037896,
     "end_time": "2019-10-22T03:23:26.401529",
     "exception": false,
     "start_time": "2019-10-22T03:23:26.363633",
     "status": "completed"
    },
    "tags": [
     "parameters"
    ]
   },
   "outputs": [],
   "source": [
    "shape_cat=\"\"\n",
    "vol=\"\""
   ]
  },
  {
   "cell_type": "code",
   "execution_count": 2,
   "metadata": {
    "papermill": {
     "duration": 0.029752,
     "end_time": "2019-10-22T03:23:26.456725",
     "exception": false,
     "start_time": "2019-10-22T03:23:26.426973",
     "status": "completed"
    },
    "tags": [
     "injected-parameters"
    ]
   },
   "outputs": [],
   "source": [
    "# Parameters\n",
    "shape_cat = \"im3\"\n",
    "vol = \"vlim\"\n"
   ]
  },
  {
   "cell_type": "code",
   "execution_count": 3,
   "metadata": {
    "papermill": {
     "duration": 1.810986,
     "end_time": "2019-10-22T03:23:28.293047",
     "exception": false,
     "start_time": "2019-10-22T03:23:26.482061",
     "status": "completed"
    },
    "tags": []
   },
   "outputs": [],
   "source": [
    "from astropy.io import fits\n",
    "from astropy.table import Table\n",
    "import pandas as pd\n",
    "import fitsio as fio\n",
    "import numpy as np\n",
    "import ast\n",
    "\n",
    "import astropy.cosmology\n",
    "from astropy.coordinates import SkyCoord  # High-level coordinates\n",
    "from astropy.coordinates import ICRS, Galactic, FK4, FK5  # Low-level frames\n",
    "from astropy.coordinates import Angle, Latitude, Longitude  # Angles\n",
    "import astropy.units as u\n",
    "from IPython.display import display, Math"
   ]
  },
  {
   "cell_type": "code",
   "execution_count": 4,
   "metadata": {
    "papermill": {
     "duration": 0.651131,
     "end_time": "2019-10-22T03:23:28.970775",
     "exception": false,
     "start_time": "2019-10-22T03:23:28.319644",
     "status": "completed"
    },
    "tags": []
   },
   "outputs": [
    {
     "name": "stdout",
     "output_type": "stream",
     "text": [
      "399002\n",
      "7066\n",
      "1427\n"
     ]
    }
   ],
   "source": [
    "if vol==\"vlim\":\n",
    "    cluster_table=Table(fits.open('/lsst/troxel/y1a1/y1a1_gold_1.0.3-d10-mof-001d_run_redmapper_v6.4.17-vlim_lgt20_desformat_catalog.fit')[1].data)\n",
    "    member_table=Table(fits.open('/lsst/troxel/y1a1/y1a1_gold_1.0.3-d10-mof-001d_run_redmapper_v6.4.17-vlim_lgt20_desformat_catalog_members.fit')[1].data)\n",
    "    random_table=Table(fits.open('/lsst/troxel/y1a1/y1a1_gold_1.0.3_wide+d10-mof-001d_run_redmapper_v6.4.17-2_randcat_z0.10-0.95_lgt020_vl50.fit')[1].data)\n",
    "elif vol==\"all\":\n",
    "    cluster_table=Table(fits.open('/lsst/troxel/y1a1/y1a1_gold_1.0.3-d10-mof-001d_run_redmapper_v6.4.17_lgt20_desformat_catalog.fit')[1].data)\n",
    "    member_table=Table(fits.open('/lsst/troxel/y1a1/y1a1_gold_1.0.3-d10-mof-001d_run_redmapper_v6.4.17_lgt20_desformat_catalog_members.fit')[1].data)\n",
    "    random_table=Table(fits.open('/lsst/troxel/y1a1/y1a1_gold_1.0.3_wide+d10-mof-001d_run_redmapper_v6.4.17-2_randcat_z0.10-0.95_lgt020_vl02.fit')[1].data)\n",
    "else:\n",
    "    raise TypeError(\"Wrong vol\")\n",
    "cluster_table.remove_columns(['P_C','C_LAMBDA','C_LAMBDA_ERR','Q_CEN']) #unknown columns\n",
    "\n",
    "print(len(member_table))\n",
    "print(len(cluster_table))\n",
    "print(len(member_table['ID'])-len(np.unique(member_table['ID'])))"
   ]
  },
  {
   "cell_type": "code",
   "execution_count": 5,
   "metadata": {
    "papermill": {
     "duration": 32.353823,
     "end_time": "2019-10-22T03:24:01.349388",
     "exception": false,
     "start_time": "2019-10-22T03:23:28.995565",
     "status": "completed"
    },
    "tags": []
   },
   "outputs": [
    {
     "name": "stdout",
     "output_type": "stream",
     "text": [
      "Metacal loaded\n"
     ]
    }
   ],
   "source": [
    "if shape_cat==\"mcal\":\n",
    "    mcal = fio.FITS('/lsst/troxel/y1a1/mcal-y1a1-combined-riz-unblind-v4-matched.fits',memmap=True,mode='r')[1]\n",
    "    print (\"Metacal loaded\")\n",
    "    shape_id=mcal['coadd_objects_id'][:] \n",
    "elif shape_cat==\"im3\":\n",
    "        mcal = fio.FITS('/lsst/troxel/y1a1/y1a1-im3shape_v5_unblind_v2_matched_v4.fits',memmap=True,mode='r')[1]\n",
    "        print (\"Metacal loaded\")\n",
    "        shape_id=mcal['coadd_objects_id'][:] \n",
    "else:\n",
    "    raise "
   ]
  },
  {
   "cell_type": "code",
   "execution_count": 6,
   "metadata": {
    "papermill": {
     "duration": 0.031227,
     "end_time": "2019-10-22T03:24:01.412193",
     "exception": false,
     "start_time": "2019-10-22T03:24:01.380966",
     "status": "completed"
    },
    "tags": []
   },
   "outputs": [],
   "source": [
    "problem_list =['MODEL_MAG', 'MODEL_MAGERR', 'MAG_LAMBDA_ERR', 'PZBINS',\n",
    "               'PZ', 'RA_CENT', 'DEC_CENT', 'ID_CENT', 'LAMBDA_CHISQ_CENT',\n",
    "               'ZLAMBDA_CENT', 'P_BCG', 'P_CEN', 'P_FG', 'P_SAT']"
   ]
  },
  {
   "cell_type": "code",
   "execution_count": 7,
   "metadata": {
    "papermill": {
     "duration": 0.029181,
     "end_time": "2019-10-22T03:24:01.464390",
     "exception": false,
     "start_time": "2019-10-22T03:24:01.435209",
     "status": "completed"
    },
    "tags": []
   },
   "outputs": [],
   "source": [
    "band_col_list = []\n",
    "pz_col_list = []\n",
    "alt_col_list =[]\n",
    "for problem in problem_list:\n",
    "    if cluster_table[problem].shape[1]==4:\n",
    "        band_col_list.append(problem)\n",
    "    elif cluster_table[problem].shape[1]==5:\n",
    "        alt_col_list.append(problem)\n",
    "    elif cluster_table[problem].shape[1]==21:\n",
    "        pz_col_list.append(problem)\n",
    "    else:\n",
    "        print (\"error\")"
   ]
  },
  {
   "cell_type": "code",
   "execution_count": 8,
   "metadata": {
    "papermill": {
     "duration": 0.028161,
     "end_time": "2019-10-22T03:24:01.516513",
     "exception": false,
     "start_time": "2019-10-22T03:24:01.488352",
     "status": "completed"
    },
    "tags": []
   },
   "outputs": [],
   "source": [
    "band_list=['g','r','i','z','Y']\n",
    "pz_index_list=['pz'+str(i+1) for i in range(21)]\n",
    "alt_index_list=['Alt'+str(i+1) for i in range(5)]"
   ]
  },
  {
   "cell_type": "code",
   "execution_count": 9,
   "metadata": {
    "papermill": {
     "duration": 0.037456,
     "end_time": "2019-10-22T03:24:01.576875",
     "exception": false,
     "start_time": "2019-10-22T03:24:01.539419",
     "status": "completed"
    },
    "tags": []
   },
   "outputs": [],
   "source": [
    "for j in range(4):\n",
    "    for i,column in enumerate(band_col_list):\n",
    "        cluster_table[str(('Band',band_list[j],column))]=cluster_table[column].data[:,j]\n",
    "cluster_table.remove_columns(band_col_list)"
   ]
  },
  {
   "cell_type": "code",
   "execution_count": 10,
   "metadata": {
    "papermill": {
     "duration": 0.067613,
     "end_time": "2019-10-22T03:24:01.675880",
     "exception": false,
     "start_time": "2019-10-22T03:24:01.608267",
     "status": "completed"
    },
    "tags": []
   },
   "outputs": [],
   "source": [
    "for i,column in enumerate(pz_col_list):\n",
    "    for j in range(21):\n",
    "        cluster_table[str(('PZ',pz_index_list[j],column))]=cluster_table[column].data[:,j]\n",
    "cluster_table.remove_columns(pz_col_list)"
   ]
  },
  {
   "cell_type": "code",
   "execution_count": 11,
   "metadata": {
    "papermill": {
     "duration": 0.082894,
     "end_time": "2019-10-22T03:24:01.784113",
     "exception": false,
     "start_time": "2019-10-22T03:24:01.701219",
     "status": "completed"
    },
    "tags": []
   },
   "outputs": [],
   "source": [
    "for i,column in enumerate(alt_col_list):\n",
    "    for j in range(5):\n",
    "        cluster_table[str(('Alt',alt_index_list[j],column))]=cluster_table[column].data[:,j]\n",
    "cluster_table.remove_columns(alt_col_list)"
   ]
  },
  {
   "cell_type": "code",
   "execution_count": 12,
   "metadata": {
    "papermill": {
     "duration": 0.111101,
     "end_time": "2019-10-22T03:24:01.923169",
     "exception": false,
     "start_time": "2019-10-22T03:24:01.812068",
     "status": "completed"
    },
    "tags": []
   },
   "outputs": [],
   "source": [
    "all_col_list=list(cluster_table.columns[0:54])\n",
    "for i,column in enumerate(all_col_list):\n",
    "    cluster_table[str(('All','All',column))]=cluster_table[column].data[:]\n",
    "cluster_table.remove_columns(all_col_list)"
   ]
  },
  {
   "cell_type": "code",
   "execution_count": 13,
   "metadata": {
    "papermill": {
     "duration": 0.052357,
     "end_time": "2019-10-22T03:24:02.000220",
     "exception": false,
     "start_time": "2019-10-22T03:24:01.947863",
     "status": "completed"
    },
    "tags": []
   },
   "outputs": [],
   "source": [
    "for j in range(4):\n",
    "    for i,column in enumerate(band_col_list[0:2]):\n",
    "        member_table['('+band_list[j]+','+column+')']=member_table[column].data[:,j]\n",
    "member_table.remove_columns(band_col_list[0:2]) "
   ]
  },
  {
   "cell_type": "code",
   "execution_count": 14,
   "metadata": {
    "papermill": {
     "duration": 0.545453,
     "end_time": "2019-10-22T03:24:02.569737",
     "exception": false,
     "start_time": "2019-10-22T03:24:02.024284",
     "status": "completed"
    },
    "tags": []
   },
   "outputs": [],
   "source": [
    "clusters=cluster_table.to_pandas()\n",
    "member=member_table.to_pandas()\n",
    "random=random_table.to_pandas()\n",
    "# center_table=None\n",
    "# member_table=None"
   ]
  },
  {
   "cell_type": "code",
   "execution_count": 15,
   "metadata": {
    "papermill": {
     "duration": 0.037242,
     "end_time": "2019-10-22T03:24:02.632502",
     "exception": false,
     "start_time": "2019-10-22T03:24:02.595260",
     "status": "completed"
    },
    "tags": []
   },
   "outputs": [],
   "source": [
    "member_cols = member.columns[0:22]\n",
    "shape_columns=pd.MultiIndex.from_product([['All'],list(mcal.get_colnames())],names=['Band','Data'])"
   ]
  },
  {
   "cell_type": "code",
   "execution_count": 16,
   "metadata": {
    "papermill": {
     "duration": 0.035977,
     "end_time": "2019-10-22T03:24:02.691625",
     "exception": false,
     "start_time": "2019-10-22T03:24:02.655648",
     "status": "completed"
    },
    "tags": []
   },
   "outputs": [],
   "source": [
    "center_bins=[m+str(n) for m,n in zip(['cen_']*5,np.arange(5)+1)]\n",
    "center=pd.MultiIndex.from_product([['Center'],center_bins,member_cols])"
   ]
  },
  {
   "cell_type": "code",
   "execution_count": 17,
   "metadata": {
    "papermill": {
     "duration": 0.039251,
     "end_time": "2019-10-22T03:24:02.764420",
     "exception": false,
     "start_time": "2019-10-22T03:24:02.725169",
     "status": "completed"
    },
    "tags": []
   },
   "outputs": [],
   "source": [
    "cluster_band_columns=pd.MultiIndex.from_product([['g','r','i','z'],\n",
    "                                       ['MODEL_MAG','MODEL_MAGERR','MAG_LAMBDA_ERR']],\n",
    "                                     names=['band','data'])"
   ]
  },
  {
   "cell_type": "code",
   "execution_count": 18,
   "metadata": {
    "papermill": {
     "duration": 0.027638,
     "end_time": "2019-10-22T03:24:02.815627",
     "exception": false,
     "start_time": "2019-10-22T03:24:02.787989",
     "status": "completed"
    },
    "tags": []
   },
   "outputs": [],
   "source": [
    "# alt_bins=[m+str(n) for m,n in zip(['alt_']*5,np.arange(5)+1)]\n",
    "# alt_columns=pd.MultiIndex.from_product([alt_bins,\n",
    "#                                        alt_col_list.append(shape_names)],\n",
    "#                                      names=['alt_index','data'])"
   ]
  },
  {
   "cell_type": "code",
   "execution_count": 19,
   "metadata": {
    "papermill": {
     "duration": 0.040503,
     "end_time": "2019-10-22T03:24:02.886241",
     "exception": false,
     "start_time": "2019-10-22T03:24:02.845738",
     "status": "completed"
    },
    "tags": []
   },
   "outputs": [],
   "source": [
    "member_band_columns=pd.MultiIndex.from_product([['g','r','i','z'],\n",
    "                                       ['MODEL_MAG','MODEL_MAGERR',]],\n",
    "                                     names=['Band','Data'])"
   ]
  },
  {
   "cell_type": "code",
   "execution_count": 20,
   "metadata": {
    "papermill": {
     "duration": 0.030995,
     "end_time": "2019-10-22T03:24:02.944500",
     "exception": false,
     "start_time": "2019-10-22T03:24:02.913505",
     "status": "completed"
    },
    "tags": []
   },
   "outputs": [],
   "source": [
    "shape_index=pd.MultiIndex.from_tuples([('MEM_MATCH_ID','TYPE')],names=['ClusterID','Type'])"
   ]
  },
  {
   "cell_type": "code",
   "execution_count": 21,
   "metadata": {
    "papermill": {
     "duration": 0.038022,
     "end_time": "2019-10-22T03:24:03.007052",
     "exception": false,
     "start_time": "2019-10-22T03:24:02.969030",
     "status": "completed"
    },
    "tags": []
   },
   "outputs": [],
   "source": [
    "random_columns=pd.MultiIndex.from_product([['All'],['RA', 'DEC', 'Z', 'LAMBDA_IN', 'AVG_LAMBDAOUT', 'SIGMA_LAMBDAOUT', 'WEIGHT']],\n",
    "                                       names=['Band','Data'])"
   ]
  },
  {
   "cell_type": "code",
   "execution_count": 22,
   "metadata": {
    "papermill": {
     "duration": 0.027873,
     "end_time": "2019-10-22T03:24:03.058665",
     "exception": false,
     "start_time": "2019-10-22T03:24:03.030792",
     "status": "completed"
    },
    "tags": []
   },
   "outputs": [],
   "source": [
    "random.columns=random_columns"
   ]
  },
  {
   "cell_type": "code",
   "execution_count": 23,
   "metadata": {
    "papermill": {
     "duration": 0.034168,
     "end_time": "2019-10-22T03:24:03.117575",
     "exception": false,
     "start_time": "2019-10-22T03:24:03.083407",
     "status": "completed"
    },
    "tags": []
   },
   "outputs": [],
   "source": [
    "member_id=member['ID'].values"
   ]
  },
  {
   "cell_type": "code",
   "execution_count": 24,
   "metadata": {
    "papermill": {
     "duration": 0.028657,
     "end_time": "2019-10-22T03:24:03.170071",
     "exception": false,
     "start_time": "2019-10-22T03:24:03.141414",
     "status": "completed"
    },
    "tags": []
   },
   "outputs": [],
   "source": [
    "# for id in member_id:\n",
    "#     mask = pd.Series(shape_id)==id"
   ]
  },
  {
   "cell_type": "code",
   "execution_count": 25,
   "metadata": {
    "papermill": {
     "duration": 0.029281,
     "end_time": "2019-10-22T03:24:03.223781",
     "exception": false,
     "start_time": "2019-10-22T03:24:03.194500",
     "status": "completed"
    },
    "tags": []
   },
   "outputs": [],
   "source": [
    "shape_id_series = pd.Series(shape_id)"
   ]
  },
  {
   "cell_type": "code",
   "execution_count": 26,
   "metadata": {
    "papermill": {
     "duration": 0.029985,
     "end_time": "2019-10-22T03:24:03.277674",
     "exception": false,
     "start_time": "2019-10-22T03:24:03.247689",
     "status": "completed"
    },
    "tags": []
   },
   "outputs": [],
   "source": [
    "def sort2n(x,y):\n",
    "    \"\"\"\n",
    "    Sorts and matches two arrays of object ids where x is unique and y is not (in DES this is coadd_objects_id).\n",
    "    Slower than sort2().\n",
    "    \"\"\"\n",
    "    \n",
    "    xsort = np.argsort(x)\n",
    "    ysort = np.argsort(y)\n",
    "    i_yx = np.sort(y[np.in1d(y, x, assume_unique=False)])\n",
    "    i_x = xsort[x[xsort].searchsorted(i_yx)]\n",
    "    i_y = ysort[y[ysort].searchsorted(i_yx)]\n",
    "    \n",
    "    return i_x, i_y"
   ]
  },
  {
   "cell_type": "code",
   "execution_count": 27,
   "metadata": {
    "papermill": {
     "duration": 28.374851,
     "end_time": "2019-10-22T03:24:31.677124",
     "exception": false,
     "start_time": "2019-10-22T03:24:03.302273",
     "status": "completed"
    },
    "tags": []
   },
   "outputs": [],
   "source": [
    "s2n_index=sort2n(member_id,shape_id)"
   ]
  },
  {
   "cell_type": "code",
   "execution_count": 28,
   "metadata": {
    "papermill": {
     "duration": 1.523383,
     "end_time": "2019-10-22T03:24:33.229448",
     "exception": false,
     "start_time": "2019-10-22T03:24:31.706065",
     "status": "completed"
    },
    "tags": []
   },
   "outputs": [],
   "source": [
    "shape_half=pd.DataFrame(mcal.read(rows=[s2n_index[1]]).byteswap().newbyteorder())"
   ]
  },
  {
   "cell_type": "code",
   "execution_count": 29,
   "metadata": {
    "papermill": {
     "duration": 0.088512,
     "end_time": "2019-10-22T03:24:33.343338",
     "exception": false,
     "start_time": "2019-10-22T03:24:33.254826",
     "status": "completed"
    },
    "tags": []
   },
   "outputs": [],
   "source": [
    "member_half=member.iloc[s2n_index[0]]"
   ]
  },
  {
   "cell_type": "code",
   "execution_count": 30,
   "metadata": {
    "papermill": {
     "duration": 0.033489,
     "end_time": "2019-10-22T03:24:33.407711",
     "exception": false,
     "start_time": "2019-10-22T03:24:33.374222",
     "status": "completed"
    },
    "tags": []
   },
   "outputs": [],
   "source": [
    "member_half_index=pd.MultiIndex.from_tuples(list(zip(['All']*23,member_half.columns[0:23]))+list(member_band_columns),names=['Band','Data']) "
   ]
  },
  {
   "cell_type": "code",
   "execution_count": 31,
   "metadata": {
    "papermill": {
     "duration": 0.031338,
     "end_time": "2019-10-22T03:24:33.463253",
     "exception": false,
     "start_time": "2019-10-22T03:24:33.431915",
     "status": "completed"
    },
    "tags": []
   },
   "outputs": [],
   "source": [
    "shape_half.columns=shape_columns\n",
    "member_half.columns=member_half_index\n",
    "shape_half.set_index(('All','coadd_objects_id'),inplace=True)\n",
    "member_half.set_index(('All','ID'),inplace=True)"
   ]
  },
  {
   "cell_type": "code",
   "execution_count": 32,
   "metadata": {
    "papermill": {
     "duration": 0.098923,
     "end_time": "2019-10-22T03:24:33.592328",
     "exception": false,
     "start_time": "2019-10-22T03:24:33.493405",
     "status": "completed"
    },
    "tags": []
   },
   "outputs": [],
   "source": [
    "shapes=pd.concat([member_half,shape_half],axis=1,verify_integrity=True)\n",
    "shapes.index.name=\"ID\""
   ]
  },
  {
   "cell_type": "code",
   "execution_count": 33,
   "metadata": {
    "papermill": {
     "duration": 0.038298,
     "end_time": "2019-10-22T03:24:33.656135",
     "exception": false,
     "start_time": "2019-10-22T03:24:33.617837",
     "status": "completed"
    },
    "tags": []
   },
   "outputs": [],
   "source": [
    "cluster_col_list=[ast.literal_eval(name) for i,name in enumerate(clusters.columns)]\n",
    "cluster_col=pd.MultiIndex.from_tuples(cluster_col_list, names=['Type','Kind','Data'])"
   ]
  },
  {
   "cell_type": "code",
   "execution_count": 34,
   "metadata": {
    "papermill": {
     "duration": 0.028927,
     "end_time": "2019-10-22T03:24:33.708843",
     "exception": false,
     "start_time": "2019-10-22T03:24:33.679916",
     "status": "completed"
    },
    "tags": []
   },
   "outputs": [],
   "source": [
    "clusters.columns=cluster_col\n",
    "clusters.set_index(('All', 'All', 'MEM_MATCH_ID'),inplace=True);"
   ]
  },
  {
   "cell_type": "code",
   "execution_count": 35,
   "metadata": {
    "papermill": {
     "duration": 0.035243,
     "end_time": "2019-10-22T03:24:33.770646",
     "exception": false,
     "start_time": "2019-10-22T03:24:33.735403",
     "status": "completed"
    },
    "tags": []
   },
   "outputs": [],
   "source": [
    "def get_theta_for_obj(obj1,obj2):\n",
    "    ra1,dec1=(obj1[('All', 'RA')],obj1[('All', 'DEC')])\n",
    "    ra2,dec2=(obj2[('All', 'RA')],obj2[('All', 'DEC')])\n",
    "    \n",
    "    \n",
    "    \n",
    "    c1=SkyCoord(ra1*u.deg,dec1*u.deg)\n",
    "    c2=SkyCoord(ra2*u.deg,dec2*u.deg)\n",
    "    \n",
    "    \n",
    "    return(90-c1.position_angle(c2).degree)"
   ]
  },
  {
   "cell_type": "code",
   "execution_count": 36,
   "metadata": {
    "papermill": {
     "duration": 0.033073,
     "end_time": "2019-10-22T03:24:33.833581",
     "exception": false,
     "start_time": "2019-10-22T03:24:33.800508",
     "status": "completed"
    },
    "tags": []
   },
   "outputs": [],
   "source": [
    "def get_pa(member):\n",
    "    cluster=clusters.loc[member[('All','MEM_MATCH_ID')]]\n",
    "    center=shapes.loc[cluster[('Alt','Alt1','ID_CENT')]]\n",
    "    theta=get_theta_for_obj(center,member)\n",
    "    return(theta)"
   ]
  },
  {
   "cell_type": "code",
   "execution_count": 37,
   "metadata": {
    "papermill": {
     "duration": 13.391872,
     "end_time": "2019-10-22T03:24:47.249377",
     "exception": false,
     "start_time": "2019-10-22T03:24:33.857505",
     "status": "completed"
    },
    "tags": []
   },
   "outputs": [
    {
     "name": "stdout",
     "output_type": "stream",
     "text": [
      "Added PP column.\n"
     ]
    }
   ],
   "source": [
    "shapes[('All','PP')]=shapes.apply(lambda x:x[('All','P')]*x[('All','PFREE')],axis=1)\n",
    "print (\"Added PP column.\")"
   ]
  },
  {
   "cell_type": "code",
   "execution_count": 38,
   "metadata": {
    "papermill": {
     "duration": 0.175256,
     "end_time": "2019-10-22T03:24:47.453023",
     "exception": false,
     "start_time": "2019-10-22T03:24:47.277767",
     "status": "completed"
    },
    "tags": []
   },
   "outputs": [],
   "source": [
    "shapes=shapes[shapes[('All', 'flags_select')]==0]\n",
    "shapes=shapes[shapes[('All','PP')]>=0.55]"
   ]
  },
  {
   "cell_type": "code",
   "execution_count": 39,
   "metadata": {
    "papermill": {
     "duration": 0.069248,
     "end_time": "2019-10-22T03:24:47.554874",
     "exception": false,
     "start_time": "2019-10-22T03:24:47.485626",
     "status": "completed"
    },
    "tags": []
   },
   "outputs": [
    {
     "name": "stdout",
     "output_type": "stream",
     "text": [
      "The number of clusters with no center shape data 6421\n",
      "Number of galaxies before masking: 96828\n",
      "Number of galaxies after masking: 96828\n",
      "The number of clusters with no center shape data 0\n",
      "Number of galaxies before masking: 10072\n",
      "Number of galaxies after masking: 10072\n"
     ]
    },
    {
     "name": "stderr",
     "output_type": "stream",
     "text": [
      "/home/cz136/anaconda3/envs/balrog/lib/python3.7/site-packages/ipykernel_launcher.py:4: FutureWarning: \n",
      "Passing list-likes to .loc or [] with any missing label will raise\n",
      "KeyError in the future, you can use .reindex() as an alternative.\n",
      "\n",
      "See the documentation here:\n",
      "https://pandas.pydata.org/pandas-docs/stable/user_guide/indexing.html#deprecate-loc-reindex-listlike\n",
      "  after removing the cwd from sys.path.\n"
     ]
    }
   ],
   "source": [
    "# Drop clusters with no center\n",
    "def drop_poor_centers():\n",
    "    center_id=clusters[('Alt', 'Alt1', 'ID_CENT')]\n",
    "    p=shapes.loc[center_id][('All','P')].to_numpy()\n",
    "    missing_mem_match_id=clusters[np.isnan(p)].index\n",
    "    clusters.drop(missing_mem_match_id,inplace=True)\n",
    "#     np.save(\"/home/cz136/project/sa/data/missing_centers.npy\",center_id[np.isnan(p)].to_numpy())\n",
    "    print(\"The number of clusters with no center shape data {}\".format(np.sum(np.isnan(p))))\n",
    "drop_poor_centers()\n",
    "\n",
    "# Drop members with no cluster\n",
    "def drop_poor_members():\n",
    "    valid_clusters_id=clusters.index.to_numpy()\n",
    "    shapes_match_id=shapes[('All','MEM_MATCH_ID')].to_numpy()\n",
    "    print(\"Number of galaxies before masking: {}\".format(len(shapes_match_id)))\n",
    "    valid_members=np.isin(shapes_match_id,valid_clusters_id)\n",
    "    return(valid_members)\n",
    "    \n",
    "valid_members_id=drop_poor_members()\n",
    "print(\"Number of galaxies after masking: {}\".format(len(shapes)))\n",
    "shapes=shapes[valid_members_id]\n",
    "\n",
    "drop_poor_centers()\n",
    "valid_members_id=drop_poor_members()\n",
    "print(\"Number of galaxies after masking: {}\".format(len(shapes)))\n",
    "shapes=shapes[valid_members_id]"
   ]
  },
  {
   "cell_type": "code",
   "execution_count": 40,
   "metadata": {
    "papermill": {
     "duration": 20.020794,
     "end_time": "2019-10-22T03:25:07.605248",
     "exception": false,
     "start_time": "2019-10-22T03:24:47.584454",
     "status": "completed"
    },
    "tags": []
   },
   "outputs": [],
   "source": [
    "shapes[('All','Theta_cen')]=shapes.apply(lambda x:get_pa(x),axis=1)"
   ]
  },
  {
   "cell_type": "code",
   "execution_count": 41,
   "metadata": {
    "papermill": {
     "duration": 1.037056,
     "end_time": "2019-10-22T03:25:08.675482",
     "exception": false,
     "start_time": "2019-10-22T03:25:07.638426",
     "status": "completed"
    },
    "tags": []
   },
   "outputs": [],
   "source": [
    "shapes[('All','Theta_cen')]=shapes.apply(lambda x:360-x[('All','Theta_cen')] if x[('All','Theta_cen')]>=180 else x[('All','Theta_cen')],axis=1)\n",
    "shapes[('All','Theta_cen')]=shapes.apply(lambda x:360+x[('All','Theta_cen')] if x[('All','Theta_cen')]<=-180 else x[('All','Theta_cen')],axis=1)\n",
    "shapes[('All','Theta_sat')]=shapes.apply(lambda x:-(180-x[('All','Theta_cen')]) if x[('All','Theta_cen')]>=0 else (180+x[('All','Theta_cen')]),axis=1)"
   ]
  },
  {
   "cell_type": "code",
   "execution_count": 42,
   "metadata": {
    "papermill": {
     "duration": 0.030276,
     "end_time": "2019-10-22T03:25:08.738451",
     "exception": false,
     "start_time": "2019-10-22T03:25:08.708175",
     "status": "completed"
    },
    "tags": []
   },
   "outputs": [],
   "source": [
    "H0=100 #km s-1 Mpc-1\n",
    "Om0=0.3\n",
    "Ode0=0.7\n",
    "lcdm=astropy.cosmology.FlatLambdaCDM(H0, Om0)"
   ]
  },
  {
   "cell_type": "code",
   "execution_count": 43,
   "metadata": {
    "papermill": {
     "duration": 406.130904,
     "end_time": "2019-10-22T03:31:54.893290",
     "exception": false,
     "start_time": "2019-10-22T03:25:08.762386",
     "status": "completed"
    },
    "tags": []
   },
   "outputs": [],
   "source": [
    "shapes[('All','angR')]=shapes.apply(lambda x:np.float(lcdm.angular_diameter_distance(x[('All','Z')])/u.Mpc),axis=1)\n",
    "random[('All','angR')]=random.apply(lambda x:np.float(lcdm.angular_diameter_distance(x[('All','Z')])/u.Mpc),axis=1)"
   ]
  },
  {
   "cell_type": "markdown",
   "metadata": {
    "papermill": {
     "duration": 0.025505,
     "end_time": "2019-10-22T03:31:54.952389",
     "exception": false,
     "start_time": "2019-10-22T03:31:54.926884",
     "status": "completed"
    },
    "tags": []
   },
   "source": [
    "# Add $\\phi$"
   ]
  },
  {
   "cell_type": "code",
   "execution_count": 44,
   "metadata": {
    "papermill": {
     "duration": 0.032909,
     "end_time": "2019-10-22T03:31:55.017110",
     "exception": false,
     "start_time": "2019-10-22T03:31:54.984201",
     "status": "completed"
    },
    "tags": []
   },
   "outputs": [],
   "source": [
    "def get_pa_for_member(obj):\n",
    "    e1=obj['All']['e1']\n",
    "    e2=obj['All']['e1']\n",
    "    \n",
    "    α =0.5*np.arctan2(-e2,-e1)*180/np.pi\n",
    "    return(α)"
   ]
  },
  {
   "cell_type": "code",
   "execution_count": 45,
   "metadata": {
    "papermill": {
     "duration": 0.042654,
     "end_time": "2019-10-22T03:31:55.086896",
     "exception": false,
     "start_time": "2019-10-22T03:31:55.044242",
     "status": "completed"
    },
    "tags": []
   },
   "outputs": [],
   "source": [
    "error_list_phi=[]\n",
    "error_list_e=[]\n",
    "\n",
    "def get_phi_for_member(member):\n",
    "    \n",
    "    \"\"\"Input: cluster series\n",
    "        Output: an array of position angle weighted by PP\n",
    "        Record KeyError in an array (usually caused by uncomplete shape catalog).\n",
    "    \"\"\"\n",
    "    \n",
    "    try:\n",
    "        cluster_id=member[('All','MEM_MATCH_ID')]\n",
    "        cluster=clusters.loc[cluster_id]\n",
    "        center_id=cluster[('Alt', 'Alt1', 'ID_CENT')]\n",
    "        center = shapes.loc[center_id]\n",
    "        \n",
    "        pa=get_pa_for_member(member)\n",
    "        theta= get_theta_for_obj(member,center)\n",
    "        phi=(pa-theta)\n",
    "    #     print(center.index)\n",
    "        return(phi)    \n",
    "    except KeyError as e:\n",
    "        error_list_phi.append(e)\n",
    "        print(e)\n",
    "        return(np.nan)"
   ]
  },
  {
   "cell_type": "code",
   "execution_count": 46,
   "metadata": {
    "papermill": {
     "duration": 26.017343,
     "end_time": "2019-10-22T03:32:21.133208",
     "exception": false,
     "start_time": "2019-10-22T03:31:55.115865",
     "status": "completed"
    },
    "tags": []
   },
   "outputs": [],
   "source": [
    "shapes[('All','phi')]=shapes.apply(lambda x:get_phi_for_member(x),axis=1)"
   ]
  },
  {
   "cell_type": "code",
   "execution_count": 47,
   "metadata": {
    "papermill": {
     "duration": 0.03555,
     "end_time": "2019-10-22T03:32:21.195318",
     "exception": false,
     "start_time": "2019-10-22T03:32:21.159768",
     "status": "completed"
    },
    "tags": []
   },
   "outputs": [],
   "source": [
    "def process_phi(phi_1d):\n",
    "\n",
    "    phi_1d=np.where(phi_1d<=0,-phi_1d,phi_1d)\n",
    "    phi_1d=np.where(phi_1d>=180,phi_1d-180,phi_1d)\n",
    "    phi_1d=np.where(phi_1d>=90,180-phi_1d,phi_1d)\n",
    "\n",
    "    phi_1d=np.sort(phi_1d)\n",
    "    \n",
    "    return(phi_1d)\n"
   ]
  },
  {
   "cell_type": "code",
   "execution_count": 48,
   "metadata": {
    "papermill": {
     "duration": 0.036651,
     "end_time": "2019-10-22T03:32:21.256140",
     "exception": false,
     "start_time": "2019-10-22T03:32:21.219489",
     "status": "completed"
    },
    "tags": []
   },
   "outputs": [],
   "source": [
    "shapes[('All','phi')]=process_phi(shapes[('All','phi')])"
   ]
  },
  {
   "cell_type": "markdown",
   "metadata": {
    "papermill": {
     "duration": 0.024294,
     "end_time": "2019-10-22T03:32:21.312459",
     "exception": false,
     "start_time": "2019-10-22T03:32:21.288165",
     "status": "completed"
    },
    "tags": []
   },
   "source": [
    "# Add e"
   ]
  },
  {
   "cell_type": "code",
   "execution_count": 49,
   "metadata": {
    "papermill": {
     "duration": 0.039051,
     "end_time": "2019-10-22T03:32:21.375618",
     "exception": false,
     "start_time": "2019-10-22T03:32:21.336567",
     "status": "completed"
    },
    "tags": []
   },
   "outputs": [],
   "source": [
    "def get_e(sat):\n",
    "    cluster_id=sat[('All','MEM_MATCH_ID')]\n",
    "    cluster=clusters.loc[cluster_id]\n",
    "    center_id=cluster[('Alt', 'Alt1', 'ID_CENT')]\n",
    "    cen = shapes.loc[center_id]\n",
    "    \n",
    "    e=np.sqrt(sat[('All','e1')]**2+sat[('All','e2')]**2)\n",
    "    delta=get_theta_for_obj(cen,sat)\n",
    "    alpha=get_pa_for_member(sat)\n",
    "    ep,ex=(e*np.cos(2*(delta-alpha)),e*np.sin(2*(delta-alpha)))\n",
    "    return(ep,ex)"
   ]
  },
  {
   "cell_type": "code",
   "execution_count": 50,
   "metadata": {
    "papermill": {
     "duration": 52.895385,
     "end_time": "2019-10-22T03:33:14.303538",
     "exception": false,
     "start_time": "2019-10-22T03:32:21.408153",
     "status": "completed"
    },
    "tags": []
   },
   "outputs": [],
   "source": [
    "shapes[('All','ep')]=shapes.apply(lambda x:get_e(x)[0],axis=1)\n",
    "shapes[('All','ex')]=shapes.apply(lambda x:get_e(x)[1],axis=1)"
   ]
  },
  {
   "cell_type": "markdown",
   "metadata": {
    "papermill": {
     "duration": 0.025527,
     "end_time": "2019-10-22T03:33:14.356861",
     "exception": false,
     "start_time": "2019-10-22T03:33:14.331334",
     "status": "completed"
    },
    "tags": []
   },
   "source": [
    "# Calculate cluster elipticity"
   ]
  },
  {
   "cell_type": "code",
   "execution_count": 51,
   "metadata": {
    "papermill": {
     "duration": 0.044159,
     "end_time": "2019-10-22T03:33:14.426006",
     "exception": false,
     "start_time": "2019-10-22T03:33:14.381847",
     "status": "completed"
    },
    "tags": []
   },
   "outputs": [
    {
     "data": {
      "text/latex": [
       "$\\displaystyle M_{\\mathrm{xx}} \\equiv\\left\\langle\\frac{x^{2}}{r^{2}}\\right\\rangle=\\frac{\\sum_{i} p_{\\mathrm{mem}, i} \\frac{x_{i}^{2}}{r_{i}^{2}}}{\\sum_{i} p_{\\mathrm{mem}, i}}$"
      ],
      "text/plain": [
       "<IPython.core.display.Math object>"
      ]
     },
     "metadata": {},
     "output_type": "display_data"
    }
   ],
   "source": [
    "display(Math(r\"$M_{\\mathrm{xx}} \\equiv\\left\\langle\\frac{x^{2}}{r^{2}}\\right\\rangle=\\frac{\\sum_{i} p_{\\mathrm{mem}, i} \\frac{x_{i}^{2}}{r_{i}^{2}}}{\\sum_{i} p_{\\mathrm{mem}, i}}$\"))"
   ]
  },
  {
   "cell_type": "code",
   "execution_count": 52,
   "metadata": {
    "papermill": {
     "duration": 0.04206,
     "end_time": "2019-10-22T03:33:14.495949",
     "exception": false,
     "start_time": "2019-10-22T03:33:14.453889",
     "status": "completed"
    },
    "tags": []
   },
   "outputs": [],
   "source": [
    "def get_Q_U(cluster):\n",
    "    \n",
    "    mem_match_id=cluster.name\n",
    "    members=shapes[shapes['All','MEM_MATCH_ID']==mem_match_id]\n",
    "    \n",
    "    members=members[members[('All','PP')]>=0.2]\n",
    "    \n",
    "    def get_M_for_cluster():\n",
    "        p = members[('All','PP')]\n",
    "        r = members[('All','R')]\n",
    "        pa = members[('All','Theta_cen')]\n",
    "        x = r * np.cos(pa)\n",
    "        y = r * np.sin(pa)\n",
    "        \n",
    "        def mom_2(p,x,y,r):\n",
    "            return(np.sum(p*x*y/r**2)/np.sum(p))\n",
    "        \n",
    "        Mxx=mom_2(p,x,x,r)\n",
    "        Mxy=mom_2(p,x,y,r)\n",
    "        Myy=mom_2(p,y,y,r)\n",
    "        return(Mxx,Mxy,Myy)\n",
    "\n",
    "    Mxx,Mxy,Myy=get_M_for_cluster()\n",
    "    Q,U=Mxx-Myy,2*Mxy\n",
    "    \n",
    "    return (Q,U)\n",
    "\n",
    "\n",
    "def get_pa_from_Q_U(Q,U):\n",
    "    α =0.5*np.arctan2(U,Q)*180/np.pi\n",
    "    return(α)"
   ]
  },
  {
   "cell_type": "code",
   "execution_count": 53,
   "metadata": {
    "papermill": {
     "duration": 4.750335,
     "end_time": "2019-10-22T03:33:19.271418",
     "exception": false,
     "start_time": "2019-10-22T03:33:14.521083",
     "status": "completed"
    },
    "tags": []
   },
   "outputs": [],
   "source": [
    "clusters[('All','All','Q')]=clusters.apply(lambda x:get_Q_U(x)[0],axis=1)\n",
    "clusters[('All','All','U')]=clusters.apply(lambda x:get_Q_U(x)[1],axis=1)\n",
    "clusters[('All','All','Beta')]=clusters.apply(lambda x:get_pa_from_Q_U(x[('All','All','Q')],x[('All','All','U')]),axis=1)\n",
    "clusters[('All','All','Ce')]=clusters.apply(lambda x:np.sqrt(x[('All','All','U')]**2+x[('All','All','U')]**2),axis=1)"
   ]
  },
  {
   "cell_type": "code",
   "execution_count": 54,
   "metadata": {
    "papermill": {
     "duration": 0.030873,
     "end_time": "2019-10-22T03:33:19.329313",
     "exception": false,
     "start_time": "2019-10-22T03:33:19.298440",
     "status": "completed"
    },
    "tags": []
   },
   "outputs": [],
   "source": [
    "def get_normLR(shape):\n",
    "    cluster_id=shape[('All','MEM_MATCH_ID')]\n",
    "    LR = clusters.loc[cluster_id][('All','All','R_LAMBDA')]\n",
    "    angR=shape[('All','angR')]\n",
    "    normR=angR/LR\n",
    "    return(normR)"
   ]
  },
  {
   "cell_type": "code",
   "execution_count": 55,
   "metadata": {
    "papermill": {
     "duration": 3.10446,
     "end_time": "2019-10-22T03:33:22.458818",
     "exception": false,
     "start_time": "2019-10-22T03:33:19.354358",
     "status": "completed"
    },
    "tags": []
   },
   "outputs": [],
   "source": [
    "shapes[('All','normLR')]=shapes.apply(lambda x:get_normLR(x),axis=1)"
   ]
  },
  {
   "cell_type": "code",
   "execution_count": 56,
   "metadata": {
    "papermill": {
     "duration": 0.038781,
     "end_time": "2019-10-22T03:33:22.525892",
     "exception": false,
     "start_time": "2019-10-22T03:33:22.487111",
     "status": "completed"
    },
    "tags": []
   },
   "outputs": [],
   "source": [
    "def add_r_lambda(shape):\n",
    "    cluster_id=shape[('All','MEM_MATCH_ID')]\n",
    "    LR = clusters.loc[cluster_id][('All','All','R_LAMBDA')]\n",
    "    return(LR)"
   ]
  },
  {
   "cell_type": "code",
   "execution_count": 57,
   "metadata": {
    "papermill": {
     "duration": 2.941379,
     "end_time": "2019-10-22T03:33:25.495925",
     "exception": false,
     "start_time": "2019-10-22T03:33:22.554546",
     "status": "completed"
    },
    "tags": []
   },
   "outputs": [],
   "source": [
    "shapes[('All','R_LAMBDA')]=shapes.apply(lambda x:add_r_lambda(x),axis=1)"
   ]
  },
  {
   "cell_type": "markdown",
   "metadata": {
    "papermill": {
     "duration": 0.02482,
     "end_time": "2019-10-22T03:33:25.551302",
     "exception": false,
     "start_time": "2019-10-22T03:33:25.526482",
     "status": "completed"
    },
    "tags": []
   },
   "source": [
    "# Save"
   ]
  },
  {
   "cell_type": "code",
   "execution_count": 58,
   "metadata": {
    "papermill": {
     "duration": 0.036847,
     "end_time": "2019-10-22T03:33:25.612583",
     "exception": false,
     "start_time": "2019-10-22T03:33:25.575736",
     "status": "completed"
    },
    "tags": []
   },
   "outputs": [],
   "source": [
    "clusters.to_pickle('/home/cz136/project/sa/data/{}/{}/clusters.pkl'.format(shape_cat,vol))"
   ]
  },
  {
   "cell_type": "code",
   "execution_count": 59,
   "metadata": {
    "papermill": {
     "duration": 0.056603,
     "end_time": "2019-10-22T03:33:25.701625",
     "exception": false,
     "start_time": "2019-10-22T03:33:25.645022",
     "status": "completed"
    },
    "tags": []
   },
   "outputs": [],
   "source": [
    "shapes.to_pickle('/home/cz136/project/sa/data/{}/{}/shapes.pkl'.format(shape_cat,vol))"
   ]
  },
  {
   "cell_type": "code",
   "execution_count": 60,
   "metadata": {
    "papermill": {
     "duration": 0.988047,
     "end_time": "2019-10-22T03:33:26.722262",
     "exception": false,
     "start_time": "2019-10-22T03:33:25.734215",
     "status": "completed"
    },
    "tags": []
   },
   "outputs": [],
   "source": [
    "random.to_pickle('/home/cz136/project/sa/data/{}/{}/random.pkl'.format(shape_cat,vol))"
   ]
  },
  {
   "cell_type": "markdown",
   "metadata": {
    "papermill": {
     "duration": 0.025496,
     "end_time": "2019-10-22T03:33:26.797300",
     "exception": false,
     "start_time": "2019-10-22T03:33:26.771804",
     "status": "completed"
    },
    "tags": []
   },
   "source": [
    "## z masking"
   ]
  },
  {
   "cell_type": "code",
   "execution_count": 61,
   "metadata": {
    "papermill": {
     "duration": 0.030452,
     "end_time": "2019-10-22T03:33:26.852201",
     "exception": false,
     "start_time": "2019-10-22T03:33:26.821749",
     "status": "completed"
    },
    "tags": []
   },
   "outputs": [],
   "source": [
    "def drop_shapes_wo_cluster(clusters,shapes):\n",
    "    valid_clusters_id=clusters.index.to_numpy()\n",
    "    shapes_match_id=shapes[('All','MEM_MATCH_ID')].to_numpy()\n",
    "    print(\"Number of galaxies before masking: {}\".format(len(shapes_match_id)))\n",
    "    valid_members=np.isin(shapes_match_id,valid_clusters_id)\n",
    "    shapes=shapes[valid_members]\n",
    "    return(shapes)"
   ]
  },
  {
   "cell_type": "code",
   "execution_count": 62,
   "metadata": {
    "papermill": {
     "duration": 0.032988,
     "end_time": "2019-10-22T03:33:26.910905",
     "exception": false,
     "start_time": "2019-10-22T03:33:26.877917",
     "status": "completed"
    },
    "tags": []
   },
   "outputs": [],
   "source": [
    "high_z=clusters[clusters['All','All','Z_LAMBDA']>=0.35]\n",
    "low_z=clusters[(clusters['All','All','Z_LAMBDA']<=0.35) & (clusters['All','All','Z_LAMBDA']>=0.1)]"
   ]
  },
  {
   "cell_type": "code",
   "execution_count": 63,
   "metadata": {
    "papermill": {
     "duration": 0.034581,
     "end_time": "2019-10-22T03:33:26.969982",
     "exception": false,
     "start_time": "2019-10-22T03:33:26.935401",
     "status": "completed"
    },
    "tags": []
   },
   "outputs": [
    {
     "name": "stdout",
     "output_type": "stream",
     "text": [
      "Number of galaxies before masking: 10072\n",
      "Number of galaxies before masking: 10072\n"
     ]
    }
   ],
   "source": [
    "high_z_shapes=drop_shapes_wo_cluster(high_z,shapes)\n",
    "low_z_shapes=drop_shapes_wo_cluster(low_z,shapes)"
   ]
  },
  {
   "cell_type": "code",
   "execution_count": 64,
   "metadata": {
    "papermill": {
     "duration": 0.064005,
     "end_time": "2019-10-22T03:33:27.059967",
     "exception": false,
     "start_time": "2019-10-22T03:33:26.995962",
     "status": "completed"
    },
    "tags": []
   },
   "outputs": [],
   "source": [
    "high_z.to_pickle('/home/cz136/project/sa/data/{}/{}/clusters_high_z.pkl'.format(shape_cat,vol))\n",
    "low_z.to_pickle('/home/cz136/project/sa/data/{}/{}/clusters_low_z.pkl'.format(shape_cat,vol))\n",
    "high_z_shapes.to_pickle('/home/cz136/project/sa/data/{}/{}/shapes_high_z.pkl'.format(shape_cat,vol))\n",
    "low_z_shapes.to_pickle('/home/cz136/project/sa/data/{}/{}/shapes_low_z.pkl'.format(shape_cat,vol))"
   ]
  }
 ],
 "metadata": {
  "kernelspec": {
   "display_name": "Python 3",
   "language": "python",
   "name": "python3"
  },
  "language_info": {
   "codemirror_mode": {
    "name": "ipython",
    "version": 3
   },
   "file_extension": ".py",
   "mimetype": "text/x-python",
   "name": "python",
   "nbconvert_exporter": "python",
   "pygments_lexer": "ipython3",
   "version": "3.7.3"
  },
  "papermill": {
   "duration": 602.667429,
   "end_time": "2019-10-22T03:33:27.591198",
   "environment_variables": {},
   "exception": null,
   "input_path": "/home/cz136/project/sa/lib/src/data_marshalling.ipynb",
   "output_path": "/home/cz136/project/sa/lib/output/data/im3_vlim.ipynb",
   "parameters": {
    "shape_cat": "im3",
    "vol": "vlim"
   },
   "start_time": "2019-10-22T03:23:24.923769",
   "version": "1.2.0"
  }
 },
 "nbformat": 4,
 "nbformat_minor": 4
}