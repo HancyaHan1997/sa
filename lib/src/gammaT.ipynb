{
 "cells": [
  {
   "cell_type": "code",
   "execution_count": 1,
   "metadata": {
    "tags": [
     "parameters"
    ]
   },
   "outputs": [],
   "source": [
    "shape_cat=\"mcal\"\n",
    "vol=\"vlim\"\n",
    "z_range=\"all_z\"\n",
    "\n",
    "\n",
    "lambda_range=0\n",
    "with_r=True"
   ]
  },
  {
   "cell_type": "code",
   "execution_count": 2,
   "metadata": {},
   "outputs": [
    {
     "name": "stderr",
     "output_type": "stream",
     "text": [
      "/home/cz136/anaconda3/envs/balrog/lib/python3.7/site-packages/tqdm/std.py:658: FutureWarning: The Panel class is removed from pandas. Accessing it from the top-level namespace will also be removed in the next version\n",
      "  from pandas import Panel\n"
     ]
    }
   ],
   "source": [
    "from astropy.io import fits\n",
    "from astropy.table import Table\n",
    "import pandas as pd\n",
    "import fitsio as fio\n",
    "import numpy as np\n",
    "import ast\n",
    "\n",
    "import astropy.cosmology\n",
    "from astropy.coordinates import SkyCoord  # High-level coordinates\n",
    "from astropy.coordinates import ICRS, Galactic, FK4, FK5  # Low-level frames\n",
    "from astropy.coordinates import Angle, Latitude, Longitude  # Angles\n",
    "import astropy.units as u\n",
    "from IPython.display import display, Math\n",
    "from tqdm.notebook import tqdm\n",
    "tqdm.pandas()"
   ]
  },
  {
   "cell_type": "code",
   "execution_count": 3,
   "metadata": {},
   "outputs": [],
   "source": [
    "#This header file contains all the common packages\n",
    "%matplotlib inline\n",
    "%run -i /home/cz136/project/sa/lib/src/header.py $shape_cat $vol $z_range \n",
    "%run -i /home/cz136/project/sa/lib/src/func.py  \n",
    "%run -i /home/cz136/project/sa/lib/src/corr_func.py\n",
    "\n",
    "members= pd.read_pickle(\"/home/cz136/project/sa/data/BPZ.pkl\") #load BPZ catalog\n",
    "red_members=pd.read_pickle(\"/home/cz136/project/sa/data/shape_BPZ.pkl\")\n",
    "red_members_index=red_members.index\n",
    "red_members=None"
   ]
  },
  {
   "cell_type": "code",
   "execution_count": 4,
   "metadata": {},
   "outputs": [
    {
     "name": "stdout",
     "output_type": "stream",
     "text": [
      "The number of total sources is 34714036\n",
      "The number of red sources is 105029\n"
     ]
    }
   ],
   "source": [
    "print(\"The number of total sources is {}\".format(len(members)))\n",
    "print(\"The number of red sources is {}\".format(len(red_members_index)))"
   ]
  },
  {
   "cell_type": "code",
   "execution_count": 5,
   "metadata": {},
   "outputs": [
    {
     "name": "stdout",
     "output_type": "stream",
     "text": [
      "[0.2  0.35 0.5  0.65]\n",
      "[  20   35   50   65 1000]\n"
     ]
    }
   ],
   "source": [
    "NBINS=10\n",
    "\n",
    "z_bins=np.arange(0.2,0.67,0.15)\n",
    "lambda_bins=np.append(np.arange(20,66,15),1000)\n",
    "\n",
    "print(z_bins)\n",
    "print(lambda_bins)"
   ]
  },
  {
   "cell_type": "code",
   "execution_count": 6,
   "metadata": {},
   "outputs": [],
   "source": [
    "woRedMask=~np.isin(members.index,red_members_index)"
   ]
  },
  {
   "cell_type": "code",
   "execution_count": 7,
   "metadata": {},
   "outputs": [
    {
     "name": "stdout",
     "output_type": "stream",
     "text": [
      "The number of sources excluding redMaPPer is 34609603\n",
      "The number of red sources being cut is 104433\n"
     ]
    }
   ],
   "source": [
    "print(\"The number of sources excluding redMaPPer is {}\".format(np.sum(woRedMask)))\n",
    "print(\"The number of red sources being cut is {}\".format(np.sum(~woRedMask)))"
   ]
  },
  {
   "cell_type": "code",
   "execution_count": null,
   "metadata": {},
   "outputs": [
    {
     "data": {
      "application/vnd.jupyter.widget-view+json": {
       "model_id": "05b5c72530764a7c90e0791b3129b268",
       "version_major": 2,
       "version_minor": 0
      },
      "text/plain": [
       "HBox(children=(FloatProgress(value=0.0, max=3.0), HTML(value='')))"
      ]
     },
     "metadata": {},
     "output_type": "display_data"
    },
    {
     "data": {
      "application/vnd.jupyter.widget-view+json": {
       "model_id": "e251f074bd44410f8ff8d1ec5c4407e0",
       "version_major": 2,
       "version_minor": 0
      },
      "text/plain": [
       "HBox(children=(FloatProgress(value=0.0, max=4.0), HTML(value='')))"
      ]
     },
     "metadata": {},
     "output_type": "display_data"
    },
    {
     "name": "stdout",
     "output_type": "stream",
     "text": [
      "The number of sources is 34714036\n",
      "The number of sources is 34714036\n"
     ]
    },
    {
     "name": "stderr",
     "output_type": "stream",
     "text": [
      "/home/cz136/project/sa/lib/src/corr_func.py:174: FutureWarning: \n",
      "Passing list-likes to .loc or [] with any missing label will raise\n",
      "KeyError in the future, you can use .reindex() as an alternative.\n",
      "\n",
      "See the documentation here:\n",
      "https://pandas.pydata.org/pandas-docs/stable/user_guide/indexing.html#deprecate-loc-reindex-listlike\n",
      "  centers=members.loc[center_id]\n"
     ]
    },
    {
     "name": "stdout",
     "output_type": "stream",
     "text": [
      "Warning: NaNs found in ra column.  Skipping rows [17, 44].\n",
      "Warning: NaNs found in dec column.  Skipping rows [17, 44].\n",
      "Warning: NaNs found in r column.  Skipping rows [17, 44].\n",
      "The number of sources is 34714036\n",
      "The number of sources is 34714036\n",
      "\n"
     ]
    },
    {
     "data": {
      "application/vnd.jupyter.widget-view+json": {
       "model_id": "10968bc5be82483ba6885992895e6445",
       "version_major": 2,
       "version_minor": 0
      },
      "text/plain": [
       "HBox(children=(FloatProgress(value=0.0, max=4.0), HTML(value='')))"
      ]
     },
     "metadata": {},
     "output_type": "display_data"
    },
    {
     "name": "stdout",
     "output_type": "stream",
     "text": [
      "The number of sources is 34714036\n",
      "Warning: NaNs found in ra column.  Skipping rows [20, 60, 472, 548, 594, 607, 788, 826, 837, 842, 927, 952, 1180, 1211].\n",
      "Warning: NaNs found in dec column.  Skipping rows [20, 60, 472, 548, 594, 607, 788, 826, 837, 842, 927, 952, 1180, 1211].\n",
      "Warning: NaNs found in r column.  Skipping rows [20, 60, 472, 548, 594, 607, 788, 826, 837, 842, 927, 952, 1180, 1211].\n",
      "The number of sources is 34714036\n",
      "Warning: NaNs found in ra column.  Skipping rows [61, 159].\n",
      "Warning: NaNs found in dec column.  Skipping rows [61, 159].\n",
      "Warning: NaNs found in r column.  Skipping rows [61, 159].\n",
      "The number of sources is 34714036\n",
      "Warning: NaNs found in ra column.  Skipping rows [10, 48].\n",
      "Warning: NaNs found in dec column.  Skipping rows [10, 48].\n",
      "Warning: NaNs found in r column.  Skipping rows [10, 48].\n",
      "The number of sources is 34714036\n",
      "\n"
     ]
    },
    {
     "data": {
      "application/vnd.jupyter.widget-view+json": {
       "model_id": "f8ac13ab437942ad825c20d0a7d48a9c",
       "version_major": 2,
       "version_minor": 0
      },
      "text/plain": [
       "HBox(children=(FloatProgress(value=0.0, max=4.0), HTML(value='')))"
      ]
     },
     "metadata": {},
     "output_type": "display_data"
    },
    {
     "name": "stdout",
     "output_type": "stream",
     "text": [
      "The number of sources is 34714036\n",
      "Warning: NaNs found in ra column.  Skipping rows [207, 470, 830, 904, 991, 1514].\n",
      "Warning: NaNs found in dec column.  Skipping rows [207, 470, 830, 904, 991, 1514].\n",
      "Warning: NaNs found in r column.  Skipping rows [207, 470, 830, 904, 991, 1514].\n"
     ]
    }
   ],
   "source": [
    "## lambda x z = 4x3\n",
    "import gc\n",
    "\n",
    "# def get_ng_values(clusters,members,z_bins_low,z_bins_high,lambda_bins_low,lambda_bins_high,foreback):\n",
    "#     ng=get_ng_source(clusters,members,z_bins_low,z_bins_high,lambda_bins_low,lambda_bins_high,foreback)\n",
    "#     ng_values=np.copy(np.array([ng.meanlogr,ng.xi,ng.varxi]))\n",
    "    \n",
    "#     del ng\n",
    "    \n",
    "#     return(ng_values)\n",
    "    \n",
    "ng_matrix=[[None for i in range(4)] for j in range(3)]\n",
    "\n",
    "for i in trange(3):\n",
    "    for j in trange(4):\n",
    "        ng=get_ng_source(clusters,members,z_bins[i],z_bins[i+1],lambda_bins[j],lambda_bins[j+1],foreback=\"\")\n",
    "        ng_values=np.copy(np.array([ng.meanlogr,ng.xi,ng.varxi]))\n",
    "        ng_matrix[i][j]=ng_values\n",
    "        del ng\n",
    "        gc.collect()"
   ]
  },
  {
   "cell_type": "code",
   "execution_count": null,
   "metadata": {},
   "outputs": [],
   "source": [
    "## lambda x z = 4x3\n",
    "ng_wr_matrix=[[None for i in range(4)] for j in range(3)]\n",
    "\n",
    "for i in trange(4):\n",
    "    for j in trange(3):\n",
    "        ng=get_ng_source(clusters,members,z_bins[j],z_bins[j+1],lambda_bins[i],lambda_bins[i+1],woRed=True,foreback=\"\")\n",
    "        ng_values=np.copy(np.array([ng.meanlogr,ng.xi,ng.varxi]))\n",
    "        ng_wr_matrix[j][i]=ng_values\n",
    "        del ng\n",
    "        gc.collect"
   ]
  },
  {
   "cell_type": "code",
   "execution_count": null,
   "metadata": {},
   "outputs": [],
   "source": [
    "fig, axs = plt.subplots(3, 4,figsize=(20,15))\n",
    "for i in range(3):\n",
    "    for j in range(4):\n",
    "        values=ng_matrix[i][j]\n",
    "        values_wr=ng_wr_matrix[i][j]\n",
    "        axs[i,j].errorbar(np.exp(values[0]),values[1],yerr=np.sqrt(values[2]),label=\"All sources\")\n",
    "        axs[i,j].errorbar(np.exp(values[0]),values_wr[1],yerr=np.sqrt(values_wr[2]),label=\"wo/ redMaPPer\")\n",
    "        axs[i,j].set_xscale(\"log\")\n",
    "        axs[i,j].set_yscale(\"log\")\n",
    "        axs[i,j].legend()\n",
    "#         axs.xscale(\"log\")\n",
    "#         axs[i,j].plot(np.exp(values_wr[0]),values_wr[1])"
   ]
  },
  {
   "cell_type": "code",
   "execution_count": null,
   "metadata": {},
   "outputs": [],
   "source": [
    "fig, axs = plt.subplots(3, 4,figsize=(20,15))\n",
    "for i in range(3):\n",
    "    for j in range(4):\n",
    "        values=ng_matrix[i][j]\n",
    "        values_wr=ng_wr_matrix[i][j]\n",
    "        axs[i,j].plot(np.exp(values[0]),values[1]-values_wr[1])\n",
    "        axs[i,j].set_xscale(\"log\")\n",
    "        axs[i,j].set_yscale(\"log\")"
   ]
  },
  {
   "cell_type": "markdown",
   "metadata": {},
   "source": [
    "# Jackknife variance"
   ]
  },
  {
   "cell_type": "code",
   "execution_count": null,
   "metadata": {},
   "outputs": [],
   "source": [
    "## lambda x z = 4x3\n",
    "import gc\n",
    "    \n",
    "ng_matrix=[[None for i in range(4)] for j in range(3)]\n",
    "\n",
    "for i in trange(3):\n",
    "    for j in trange(4):\n",
    "        ng=get_ng_source(clusters,members,z_bins[i],z_bins[i+1],lambda_bins[j],lambda_bins[j+1],foreback=\"\")\n",
    "        ng_values=np.copy(np.array([ng.meanlogr,ng.xi,ng.varxi]))\n",
    "        ng_matrix[i][j]=ng_values\n",
    "        del ng\n",
    "        gc.collect()"
   ]
  },
  {
   "cell_type": "code",
   "execution_count": null,
   "metadata": {},
   "outputs": [],
   "source": [
    "def get_jk_matrix(z_lower,z_upper,lambda_lower,lambda_upper):\n",
    "    clusters_z_mask=(clusters[('All','All','Z_LAMBDA')]>=z_lower)&(clusters[('All','All','Z_LAMBDA')]<=z_upper)\n",
    "    clusters_lambda_mask=(clusters[('All','All','LAMBDA_CHISQ')]>=lambda_lower)&(clusters[('All','All','LAMBDA_CHISQ')]<=lambda_upper) \n",
    "    clusters_masked=clusters[(clusters_z_mask)&(cluster_lambda_mask)]\n",
    "    \n",
    "    for index,clusters in clusters.iterrows():\n",
    "        "
   ]
  },
  {
   "cell_type": "code",
   "execution_count": null,
   "metadata": {},
   "outputs": [],
   "source": []
  },
  {
   "cell_type": "code",
   "execution_count": null,
   "metadata": {},
   "outputs": [],
   "source": []
  },
  {
   "cell_type": "code",
   "execution_count": null,
   "metadata": {},
   "outputs": [],
   "source": []
  },
  {
   "cell_type": "code",
   "execution_count": null,
   "metadata": {},
   "outputs": [],
   "source": []
  },
  {
   "cell_type": "code",
   "execution_count": null,
   "metadata": {},
   "outputs": [],
   "source": []
  },
  {
   "cell_type": "code",
   "execution_count": null,
   "metadata": {},
   "outputs": [],
   "source": []
  }
 ],
 "metadata": {
  "kernelspec": {
   "display_name": "Python 3",
   "language": "python",
   "name": "python3"
  },
  "language_info": {
   "codemirror_mode": {
    "name": "ipython",
    "version": 3
   },
   "file_extension": ".py",
   "mimetype": "text/x-python",
   "name": "python",
   "nbconvert_exporter": "python",
   "pygments_lexer": "ipython3",
   "version": "3.7.3"
  }
 },
 "nbformat": 4,
 "nbformat_minor": 4
}
