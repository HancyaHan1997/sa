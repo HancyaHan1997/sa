{
 "cells": [
  {
   "cell_type": "code",
   "execution_count": 1,
   "metadata": {
    "tags": [
     "parameters"
    ]
   },
   "outputs": [],
   "source": [
    "shape_cat=\"mcal\"\n",
    "vol=\"vlim\"\n",
    "z_range=\"all_z\"\n",
    "\n",
    "\n",
    "lambda_range=0\n",
    "with_r=True"
   ]
  },
  {
   "cell_type": "code",
   "execution_count": 2,
   "metadata": {},
   "outputs": [],
   "source": [
    "# matplotlib.rcParams.update({'font.size': 11}) # before plotting coode\n",
    "# plt.figure(figsize=(6.2,5))\n",
    "# ...\n",
    "# plt.tight_layout()\n",
    "# plt.subplots_adjust(hspace=0,wspace=0) # if doing multiple panels/subplots\n",
    "# plt.savefig('namee.pdf', bbox_inches='tight')"
   ]
  },
  {
   "cell_type": "code",
   "execution_count": 3,
   "metadata": {},
   "outputs": [
    {
     "name": "stderr",
     "output_type": "stream",
     "text": [
      "/global/homes/z/zchusre/.conda/envs/desdesi/lib/python3.8/site-packages/tqdm/std.py:668: FutureWarning: The Panel class is removed from pandas. Accessing it from the top-level namespace will also be removed in the next version\n",
      "  from pandas import Panel\n"
     ]
    }
   ],
   "source": [
    "from astropy.io import fits\n",
    "from astropy.table import Table\n",
    "import pandas as pd\n",
    "import fitsio as fio\n",
    "import numpy as np\n",
    "import ast\n",
    "\n",
    "import astropy.cosmology\n",
    "from astropy.coordinates import SkyCoord  # High-level coordinates\n",
    "from astropy.coordinates import ICRS, Galactic, FK4, FK5  # Low-level frames\n",
    "from astropy.coordinates import Angle, Latitude, Longitude  # Angles\n",
    "import astropy.units as u\n",
    "from IPython.display import display, Math\n",
    "from tqdm.notebook import tqdm\n",
    "tqdm.pandas()"
   ]
  },
  {
   "cell_type": "code",
   "execution_count": 4,
   "metadata": {},
   "outputs": [],
   "source": [
    "#This header file contains all the common packages\n",
    "%matplotlib inline\n",
    "%run -i /global/project/projectdirs/des/zhou/sa/lib/src/header.py $shape_cat $vol $z_range \n",
    "%run -i /global/project/projectdirs/des/zhou/sa/lib/src/func.py  \n",
    "%run -i /global/project/projectdirs/des/zhou/sa/lib/src/corr_func.py\n",
    "\n",
    "members= pd.read_pickle(\"/global/project/projectdirs/des/zhou/sa/data/BPZ.pkl\") #load BPZ catalog\n",
    "red_members=pd.read_pickle(\"/global/project/projectdirs/des/zhou/sa/data/shape_BPZ.pkl\")\n",
    "red_members_index=red_members.index\n",
    "red_members=None"
   ]
  },
  {
   "cell_type": "code",
   "execution_count": 5,
   "metadata": {},
   "outputs": [
    {
     "name": "stdout",
     "output_type": "stream",
     "text": [
      "The number of total sources is 34714036\n",
      "The number of red sources is 105029\n"
     ]
    }
   ],
   "source": [
    "print(\"The number of total sources is {}\".format(len(members)))\n",
    "print(\"The number of red sources is {}\".format(len(red_members_index)))"
   ]
  },
  {
   "cell_type": "code",
   "execution_count": 6,
   "metadata": {},
   "outputs": [
    {
     "name": "stdout",
     "output_type": "stream",
     "text": [
      "[0.2  0.35 0.5  0.65]\n",
      "[  20   35   50   65 1000]\n"
     ]
    }
   ],
   "source": [
    "NBINS=10\n",
    "\n",
    "z_bins=np.arange(0.2,0.67,0.15)\n",
    "lambda_bins=np.append(np.arange(20,66,15),1000)\n",
    "\n",
    "print(z_bins)\n",
    "print(lambda_bins)"
   ]
  },
  {
   "cell_type": "code",
   "execution_count": 7,
   "metadata": {},
   "outputs": [],
   "source": [
    "woRedMask=~np.isin(members.index,red_members_index)"
   ]
  },
  {
   "cell_type": "code",
   "execution_count": 8,
   "metadata": {},
   "outputs": [
    {
     "name": "stdout",
     "output_type": "stream",
     "text": [
      "The number of sources excluding redMaPPer is 34609603\n",
      "The number of red sources being cut is 104433\n"
     ]
    }
   ],
   "source": [
    "print(\"The number of sources excluding redMaPPer is {}\".format(np.sum(woRedMask)))\n",
    "print(\"The number of red sources being cut is {}\".format(np.sum(~woRedMask)))"
   ]
  },
  {
   "cell_type": "code",
   "execution_count": 25,
   "metadata": {},
   "outputs": [],
   "source": [
    "center_id=clusters[('Alt','Alt1','ID_CENT')]"
   ]
  },
  {
   "cell_type": "code",
   "execution_count": 29,
   "metadata": {},
   "outputs": [
    {
     "data": {
      "text/html": [
       "<div>\n",
       "<style scoped>\n",
       "    .dataframe tbody tr th:only-of-type {\n",
       "        vertical-align: middle;\n",
       "    }\n",
       "\n",
       "    .dataframe tbody tr th {\n",
       "        vertical-align: top;\n",
       "    }\n",
       "\n",
       "    .dataframe thead tr th {\n",
       "        text-align: left;\n",
       "    }\n",
       "\n",
       "    .dataframe thead tr:last-of-type th {\n",
       "        text-align: right;\n",
       "    }\n",
       "</style>\n",
       "<table border=\"1\" class=\"dataframe\">\n",
       "  <thead>\n",
       "    <tr>\n",
       "      <th>Band</th>\n",
       "      <th colspan=\"7\" halign=\"left\">All</th>\n",
       "    </tr>\n",
       "    <tr>\n",
       "      <th>Data</th>\n",
       "      <th>e1</th>\n",
       "      <th>e2</th>\n",
       "      <th>flags_select</th>\n",
       "      <th>RA</th>\n",
       "      <th>DEC</th>\n",
       "      <th>mean_z</th>\n",
       "      <th>angR</th>\n",
       "    </tr>\n",
       "    <tr>\n",
       "      <th>ID</th>\n",
       "      <th></th>\n",
       "      <th></th>\n",
       "      <th></th>\n",
       "      <th></th>\n",
       "      <th></th>\n",
       "      <th></th>\n",
       "      <th></th>\n",
       "    </tr>\n",
       "  </thead>\n",
       "  <tbody>\n",
       "    <tr>\n",
       "      <th>3007825738</th>\n",
       "      <td>-0.067457</td>\n",
       "      <td>-0.108823</td>\n",
       "      <td>0</td>\n",
       "      <td>318.189343</td>\n",
       "      <td>0.373614</td>\n",
       "      <td>0.592499</td>\n",
       "      <td>959.643276</td>\n",
       "    </tr>\n",
       "    <tr>\n",
       "      <th>3007825739</th>\n",
       "      <td>-0.241395</td>\n",
       "      <td>-0.168924</td>\n",
       "      <td>0</td>\n",
       "      <td>317.966101</td>\n",
       "      <td>0.373698</td>\n",
       "      <td>1.144830</td>\n",
       "      <td>1188.569227</td>\n",
       "    </tr>\n",
       "    <tr>\n",
       "      <th>3007825742</th>\n",
       "      <td>-0.003933</td>\n",
       "      <td>0.491628</td>\n",
       "      <td>0</td>\n",
       "      <td>317.586931</td>\n",
       "      <td>0.373745</td>\n",
       "      <td>0.493385</td>\n",
       "      <td>875.095067</td>\n",
       "    </tr>\n",
       "    <tr>\n",
       "      <th>3007825768</th>\n",
       "      <td>-0.005586</td>\n",
       "      <td>-0.118534</td>\n",
       "      <td>0</td>\n",
       "      <td>318.013978</td>\n",
       "      <td>0.374081</td>\n",
       "      <td>1.024960</td>\n",
       "      <td>1162.923418</td>\n",
       "    </tr>\n",
       "    <tr>\n",
       "      <th>3007825777</th>\n",
       "      <td>-0.019404</td>\n",
       "      <td>0.043441</td>\n",
       "      <td>0</td>\n",
       "      <td>317.534582</td>\n",
       "      <td>0.374336</td>\n",
       "      <td>0.417675</td>\n",
       "      <td>796.230941</td>\n",
       "    </tr>\n",
       "    <tr>\n",
       "      <th>...</th>\n",
       "      <td>...</td>\n",
       "      <td>...</td>\n",
       "      <td>...</td>\n",
       "      <td>...</td>\n",
       "      <td>...</td>\n",
       "      <td>...</td>\n",
       "      <td>...</td>\n",
       "    </tr>\n",
       "    <tr>\n",
       "      <th>3172249251</th>\n",
       "      <td>-0.116175</td>\n",
       "      <td>-0.202291</td>\n",
       "      <td>0</td>\n",
       "      <td>150.342516</td>\n",
       "      <td>2.505051</td>\n",
       "      <td>1.049819</td>\n",
       "      <td>1169.027836</td>\n",
       "    </tr>\n",
       "    <tr>\n",
       "      <th>3172249272</th>\n",
       "      <td>0.016469</td>\n",
       "      <td>-0.152172</td>\n",
       "      <td>0</td>\n",
       "      <td>149.846985</td>\n",
       "      <td>2.502264</td>\n",
       "      <td>0.694110</td>\n",
       "      <td>1028.266779</td>\n",
       "    </tr>\n",
       "    <tr>\n",
       "      <th>3172249301</th>\n",
       "      <td>-0.129176</td>\n",
       "      <td>-0.203288</td>\n",
       "      <td>0</td>\n",
       "      <td>149.940544</td>\n",
       "      <td>2.498567</td>\n",
       "      <td>0.619950</td>\n",
       "      <td>979.825672</td>\n",
       "    </tr>\n",
       "    <tr>\n",
       "      <th>3172249302</th>\n",
       "      <td>-0.054150</td>\n",
       "      <td>-0.058570</td>\n",
       "      <td>0</td>\n",
       "      <td>150.311284</td>\n",
       "      <td>2.511910</td>\n",
       "      <td>0.559759</td>\n",
       "      <td>933.825849</td>\n",
       "    </tr>\n",
       "    <tr>\n",
       "      <th>3172249303</th>\n",
       "      <td>0.222809</td>\n",
       "      <td>-0.212190</td>\n",
       "      <td>0</td>\n",
       "      <td>149.872793</td>\n",
       "      <td>2.512517</td>\n",
       "      <td>0.537623</td>\n",
       "      <td>915.227695</td>\n",
       "    </tr>\n",
       "  </tbody>\n",
       "</table>\n",
       "<p>34714036 rows × 7 columns</p>\n",
       "</div>"
      ],
      "text/plain": [
       "Band             All                                                         \\\n",
       "Data              e1        e2 flags_select          RA       DEC    mean_z   \n",
       "ID                                                                            \n",
       "3007825738 -0.067457 -0.108823            0  318.189343  0.373614  0.592499   \n",
       "3007825739 -0.241395 -0.168924            0  317.966101  0.373698  1.144830   \n",
       "3007825742 -0.003933  0.491628            0  317.586931  0.373745  0.493385   \n",
       "3007825768 -0.005586 -0.118534            0  318.013978  0.374081  1.024960   \n",
       "3007825777 -0.019404  0.043441            0  317.534582  0.374336  0.417675   \n",
       "...              ...       ...          ...         ...       ...       ...   \n",
       "3172249251 -0.116175 -0.202291            0  150.342516  2.505051  1.049819   \n",
       "3172249272  0.016469 -0.152172            0  149.846985  2.502264  0.694110   \n",
       "3172249301 -0.129176 -0.203288            0  149.940544  2.498567  0.619950   \n",
       "3172249302 -0.054150 -0.058570            0  150.311284  2.511910  0.559759   \n",
       "3172249303  0.222809 -0.212190            0  149.872793  2.512517  0.537623   \n",
       "\n",
       "Band                     \n",
       "Data               angR  \n",
       "ID                       \n",
       "3007825738   959.643276  \n",
       "3007825739  1188.569227  \n",
       "3007825742   875.095067  \n",
       "3007825768  1162.923418  \n",
       "3007825777   796.230941  \n",
       "...                 ...  \n",
       "3172249251  1169.027836  \n",
       "3172249272  1028.266779  \n",
       "3172249301   979.825672  \n",
       "3172249302   933.825849  \n",
       "3172249303   915.227695  \n",
       "\n",
       "[34714036 rows x 7 columns]"
      ]
     },
     "execution_count": 29,
     "metadata": {},
     "output_type": "execute_result"
    }
   ],
   "source": [
    "members"
   ]
  },
  {
   "cell_type": "code",
   "execution_count": 31,
   "metadata": {},
   "outputs": [
    {
     "data": {
      "text/plain": [
       "True"
      ]
     },
     "execution_count": 31,
     "metadata": {},
     "output_type": "execute_result"
    }
   ],
   "source": [
    "np.all(np.isnan(members.reindex([center_id])[('All','RA')]))"
   ]
  },
  {
   "cell_type": "code",
   "execution_count": 20,
   "metadata": {},
   "outputs": [],
   "source": [
    "def get_ng_source(clusters,sources,z_lower,z_upper,lambda_lower,lambda_upper,foreback,woRed=False):\n",
    "    clusters_z_mask=(clusters[('All','All','Z_LAMBDA')]>=z_lower)&(clusters[('All','All','Z_LAMBDA')]<=z_upper)\n",
    "    clusters_lambda_mask=(clusters[('All','All','LAMBDA_CHISQ')]>=lambda_lower)&(clusters[('All','All','LAMBDA_CHISQ')]<=lambda_upper)\n",
    "    \n",
    "    clusters_masked=clusters[(clusters_z_mask)&(clusters_lambda_mask)]\n",
    "    \n",
    "    if woRed==True:\n",
    "        sources=sources[woRedMask]\n",
    "    \n",
    "    drop_poor_centers(clusters_masked)\n",
    "    \n",
    "    center_id=clusters_masked[('Alt','Alt1','ID_CENT')]\n",
    "    \n",
    "    \n",
    "    centers=members.reindex([center_id])\n",
    "    \n",
    "    \n",
    "    \n",
    "    print(np.any(np.isnan(centers[('All','RA')])))\n",
    "    \n",
    "    print(\"The number of clusters is {}\".format(len(clusters_masked)))\n",
    "    print(\"The number of sources is {}\".format(len(sources)))\n",
    "    \n",
    "    \n",
    "    UPPER_BOUND=10\n",
    "    distance=('All','angR')\n",
    "\n",
    "\n",
    "#     if mode1 == \"s\":\n",
    "#         def get_cluster_cen(cluster):\n",
    "#             return (get_unique_center_for_cluster(cluster))\n",
    "#         def get_cluster_sats(cluster):\n",
    "#             cen_mat_id=cluster.name\n",
    "#             cen_id=cluster[('Alt','Alt1','ID_CENT')]\n",
    "            \n",
    "\n",
    "            \n",
    "#             if source==True:\n",
    "#                 sats=members\n",
    "                \n",
    "#             else: \n",
    "#                 sats=members[members['All','MEM_MATCH_ID']==cen_mat_id]\n",
    "                         \n",
    "#             sats=sats[sats.index!=cen_id]\n",
    "#             return (sats)\n",
    "#     elif mode1=='r':\n",
    "#         def get_cluster_sats(cluster):\n",
    "#             return(shapes)\n",
    "#         def get_cluster_cen(cluster):\n",
    "#             return (random)\n",
    "\n",
    "#     else:\n",
    "#         raise\n",
    "\n",
    "\n",
    "    cen=centers\n",
    "    sats=sources\n",
    "    \n",
    "#     if foreback==\"back\":\n",
    "#         sats=sats[(sats[('All','mean_z')]-z_upper)>=0.1]\n",
    "#         print(\"The number of background sources is {}\".format(len(sats)))\n",
    "#     elif foreback==\"fore\":\n",
    "#         sats=sats[(z_lower-sats[('All','mean_z')])>=0.1]\n",
    "#         print(\"Calculating foreground sources\")\n",
    "#         print(sats[('All','mean_z')].mean())\n",
    "#         print(\"The number of foreground sources is {}\".format(len(sats)))\n",
    "\n",
    "    sats_e1=sats[('All','e1')].to_numpy()\n",
    "    sats_e2=sats[('All','e2')].to_numpy()\n",
    "    sats_angr=sats[distance]\n",
    "\n",
    "#     print(sats_e1,sats_e2)\n",
    "\n",
    "    if type(cen[('All','RA')])==np.float64:\n",
    "        cen_angr=np.array(cen[distance]).reshape(1)\n",
    "        cen_ra=np.array(cen[('All','RA')]).reshape(1)\n",
    "        cen_dec=np.array(cen[('All','DEC')]).reshape(1)\n",
    "    else:\n",
    "#         cen_e1=cen[('All','e1')].to_numpy\n",
    "#         cen_e2=cen[('All','e2')].to_numpy()\n",
    "        cen_angr=cen[distance].to_numpy()\n",
    "        cen_ra=cen[('All','RA')].to_numpy()\n",
    "        print(cen_ra)\n",
    "        cen_dec=cen[('All','DEC')].to_numpy()\n",
    "\n",
    "\n",
    "\n",
    "\n",
    "#     print(cen_e1,cen_e2)\n",
    "\n",
    "    sats_ra=sats[('All','RA')].to_numpy()\n",
    "    sats_dec=sats[('All','DEC')].to_numpy()\n",
    "\n",
    "\n",
    "\n",
    "\n",
    "#     print(np.shape(cen_ra),np.shape(cen_dec))    \n",
    "#     print(cen_ra,cen_dec)    \n",
    "\n",
    "    sats_cat = treecorr.Catalog( g1 = sats_e1, g2   = sats_e2, \n",
    "                                 ra = sats_ra, dec = sats_dec,r=sats_angr,\n",
    "                                 ra_units='deg', dec_units='deg')\n",
    "\n",
    "    cen_cat = treecorr.Catalog( \n",
    "                                 ra = cen_ra, dec = cen_dec, r=cen_angr,\n",
    "                                 ra_units='deg', dec_units='deg')\n",
    "    \n",
    "    MINSEP=0.1\n",
    "    BINSLOP=0.1\n",
    "        \n",
    "\n",
    "    ng = treecorr.NGCorrelation(nbins=NBINS, min_sep=MINSEP, max_sep=UPPER_BOUND, bin_slop=BINSLOP,\n",
    "                               metric=\"Rperp\")\n",
    "    ng.process(cen_cat,sats_cat)\n",
    "\n",
    "    return(ng)"
   ]
  },
  {
   "cell_type": "code",
   "execution_count": 21,
   "metadata": {},
   "outputs": [
    {
     "data": {
      "application/vnd.jupyter.widget-view+json": {
       "model_id": "117ed01c12864bcc9d77256bd7b84e3c",
       "version_major": 2,
       "version_minor": 0
      },
      "text/plain": [
       "HBox(children=(FloatProgress(value=0.0, max=3.0), HTML(value='')))"
      ]
     },
     "metadata": {},
     "output_type": "display_data"
    },
    {
     "data": {
      "application/vnd.jupyter.widget-view+json": {
       "model_id": "556b150f11f34c9a93d05518be42bcdf",
       "version_major": 2,
       "version_minor": 0
      },
      "text/plain": [
       "HBox(children=(FloatProgress(value=0.0, max=4.0), HTML(value='')))"
      ]
     },
     "metadata": {},
     "output_type": "display_data"
    },
    {
     "name": "stdout",
     "output_type": "stream",
     "text": [
      "The number of clusters before masking 371\n",
      "The number of clusters with no center shape data 0\n",
      "The number of clusters after masking 371\n",
      "True\n",
      "The number of clusters is 371\n",
      "The number of sources is 34714036\n",
      "[nan nan nan nan nan nan nan nan nan nan nan nan nan nan nan nan nan nan\n",
      " nan nan nan nan nan nan nan nan nan nan nan nan nan nan nan nan nan nan\n",
      " nan nan nan nan nan nan nan nan nan nan nan nan nan nan nan nan nan nan\n",
      " nan nan nan nan nan nan nan nan nan nan nan nan nan nan nan nan nan nan\n",
      " nan nan nan nan nan nan nan nan nan nan nan nan nan nan nan nan nan nan\n",
      " nan nan nan nan nan nan nan nan nan nan nan nan nan nan nan nan nan nan\n",
      " nan nan nan nan nan nan nan nan nan nan nan nan nan nan nan nan nan nan\n",
      " nan nan nan nan nan nan nan nan nan nan nan nan nan nan nan nan nan nan\n",
      " nan nan nan nan nan nan nan nan nan nan nan nan nan nan nan nan nan nan\n",
      " nan nan nan nan nan nan nan nan nan nan nan nan nan nan nan nan nan nan\n",
      " nan nan nan nan nan nan nan nan nan nan nan nan nan nan nan nan nan nan\n",
      " nan nan nan nan nan nan nan nan nan nan nan nan nan nan nan nan nan nan\n",
      " nan nan nan nan nan nan nan nan nan nan nan nan nan nan nan nan nan nan\n",
      " nan nan nan nan nan nan nan nan nan nan nan nan nan nan nan nan nan nan\n",
      " nan nan nan nan nan nan nan nan nan nan nan nan nan nan nan nan nan nan\n",
      " nan nan nan nan nan nan nan nan nan nan nan nan nan nan nan nan nan nan\n",
      " nan nan nan nan nan nan nan nan nan nan nan nan nan nan nan nan nan nan\n",
      " nan nan nan nan nan nan nan nan nan nan nan nan nan nan nan nan nan nan\n",
      " nan nan nan nan nan nan nan nan nan nan nan nan nan nan nan nan nan nan\n",
      " nan nan nan nan nan nan nan nan nan nan nan nan nan nan nan nan nan nan\n",
      " nan nan nan nan nan nan nan nan nan nan nan]\n",
      "Warning: NaNs found in ra column.  Skipping rows [0, 1, 2, 3, 4, 5, 6, 7, 8, 9, 10, 11, 12, 13, 14, 15, 16, 17, 18, 19, 20, 21, 22, 23, 24, 25, 26, 27, 28, 29, 30, 31, 32, 33, 34, 35, 36, 37, 38, 39, 40, 41, 42, 43, 44, 45, 46, 47, 48, 49, 50, 51, 52, 53, 54, 55, 56, 57, 58, 59, 60, 61, 62, 63, 64, 65, 66, 67, 68, 69, 70, 71, 72, 73, 74, 75, 76, 77, 78, 79, 80, 81, 82, 83, 84, 85, 86, 87, 88, 89, 90, 91, 92, 93, 94, 95, 96, 97, 98, 99, 100, 101, 102, 103, 104, 105, 106, 107, 108, 109, 110, 111, 112, 113, 114, 115, 116, 117, 118, 119, 120, 121, 122, 123, 124, 125, 126, 127, 128, 129, 130, 131, 132, 133, 134, 135, 136, 137, 138, 139, 140, 141, 142, 143, 144, 145, 146, 147, 148, 149, 150, 151, 152, 153, 154, 155, 156, 157, 158, 159, 160, 161, 162, 163, 164, 165, 166, 167, 168, 169, 170, 171, 172, 173, 174, 175, 176, 177, 178, 179, 180, 181, 182, 183, 184, 185, 186, 187, 188, 189, 190, 191, 192, 193, 194, 195, 196, 197, 198, 199, 200, 201, 202, 203, 204, 205, 206, 207, 208, 209, 210, 211, 212, 213, 214, 215, 216, 217, 218, 219, 220, 221, 222, 223, 224, 225, 226, 227, 228, 229, 230, 231, 232, 233, 234, 235, 236, 237, 238, 239, 240, 241, 242, 243, 244, 245, 246, 247, 248, 249, 250, 251, 252, 253, 254, 255, 256, 257, 258, 259, 260, 261, 262, 263, 264, 265, 266, 267, 268, 269, 270, 271, 272, 273, 274, 275, 276, 277, 278, 279, 280, 281, 282, 283, 284, 285, 286, 287, 288, 289, 290, 291, 292, 293, 294, 295, 296, 297, 298, 299, 300, 301, 302, 303, 304, 305, 306, 307, 308, 309, 310, 311, 312, 313, 314, 315, 316, 317, 318, 319, 320, 321, 322, 323, 324, 325, 326, 327, 328, 329, 330, 331, 332, 333, 334, 335, 336, 337, 338, 339, 340, 341, 342, 343, 344, 345, 346, 347, 348, 349, 350, 351, 352, 353, 354, 355, 356, 357, 358, 359, 360, 361, 362, 363, 364, 365, 366, 367, 368, 369, 370].\n",
      "Warning: NaNs found in dec column.  Skipping rows [0, 1, 2, 3, 4, 5, 6, 7, 8, 9, 10, 11, 12, 13, 14, 15, 16, 17, 18, 19, 20, 21, 22, 23, 24, 25, 26, 27, 28, 29, 30, 31, 32, 33, 34, 35, 36, 37, 38, 39, 40, 41, 42, 43, 44, 45, 46, 47, 48, 49, 50, 51, 52, 53, 54, 55, 56, 57, 58, 59, 60, 61, 62, 63, 64, 65, 66, 67, 68, 69, 70, 71, 72, 73, 74, 75, 76, 77, 78, 79, 80, 81, 82, 83, 84, 85, 86, 87, 88, 89, 90, 91, 92, 93, 94, 95, 96, 97, 98, 99, 100, 101, 102, 103, 104, 105, 106, 107, 108, 109, 110, 111, 112, 113, 114, 115, 116, 117, 118, 119, 120, 121, 122, 123, 124, 125, 126, 127, 128, 129, 130, 131, 132, 133, 134, 135, 136, 137, 138, 139, 140, 141, 142, 143, 144, 145, 146, 147, 148, 149, 150, 151, 152, 153, 154, 155, 156, 157, 158, 159, 160, 161, 162, 163, 164, 165, 166, 167, 168, 169, 170, 171, 172, 173, 174, 175, 176, 177, 178, 179, 180, 181, 182, 183, 184, 185, 186, 187, 188, 189, 190, 191, 192, 193, 194, 195, 196, 197, 198, 199, 200, 201, 202, 203, 204, 205, 206, 207, 208, 209, 210, 211, 212, 213, 214, 215, 216, 217, 218, 219, 220, 221, 222, 223, 224, 225, 226, 227, 228, 229, 230, 231, 232, 233, 234, 235, 236, 237, 238, 239, 240, 241, 242, 243, 244, 245, 246, 247, 248, 249, 250, 251, 252, 253, 254, 255, 256, 257, 258, 259, 260, 261, 262, 263, 264, 265, 266, 267, 268, 269, 270, 271, 272, 273, 274, 275, 276, 277, 278, 279, 280, 281, 282, 283, 284, 285, 286, 287, 288, 289, 290, 291, 292, 293, 294, 295, 296, 297, 298, 299, 300, 301, 302, 303, 304, 305, 306, 307, 308, 309, 310, 311, 312, 313, 314, 315, 316, 317, 318, 319, 320, 321, 322, 323, 324, 325, 326, 327, 328, 329, 330, 331, 332, 333, 334, 335, 336, 337, 338, 339, 340, 341, 342, 343, 344, 345, 346, 347, 348, 349, 350, 351, 352, 353, 354, 355, 356, 357, 358, 359, 360, 361, 362, 363, 364, 365, 366, 367, 368, 369, 370].\n",
      "Warning: NaNs found in r column.  Skipping rows [0, 1, 2, 3, 4, 5, 6, 7, 8, 9, 10, 11, 12, 13, 14, 15, 16, 17, 18, 19, 20, 21, 22, 23, 24, 25, 26, 27, 28, 29, 30, 31, 32, 33, 34, 35, 36, 37, 38, 39, 40, 41, 42, 43, 44, 45, 46, 47, 48, 49, 50, 51, 52, 53, 54, 55, 56, 57, 58, 59, 60, 61, 62, 63, 64, 65, 66, 67, 68, 69, 70, 71, 72, 73, 74, 75, 76, 77, 78, 79, 80, 81, 82, 83, 84, 85, 86, 87, 88, 89, 90, 91, 92, 93, 94, 95, 96, 97, 98, 99, 100, 101, 102, 103, 104, 105, 106, 107, 108, 109, 110, 111, 112, 113, 114, 115, 116, 117, 118, 119, 120, 121, 122, 123, 124, 125, 126, 127, 128, 129, 130, 131, 132, 133, 134, 135, 136, 137, 138, 139, 140, 141, 142, 143, 144, 145, 146, 147, 148, 149, 150, 151, 152, 153, 154, 155, 156, 157, 158, 159, 160, 161, 162, 163, 164, 165, 166, 167, 168, 169, 170, 171, 172, 173, 174, 175, 176, 177, 178, 179, 180, 181, 182, 183, 184, 185, 186, 187, 188, 189, 190, 191, 192, 193, 194, 195, 196, 197, 198, 199, 200, 201, 202, 203, 204, 205, 206, 207, 208, 209, 210, 211, 212, 213, 214, 215, 216, 217, 218, 219, 220, 221, 222, 223, 224, 225, 226, 227, 228, 229, 230, 231, 232, 233, 234, 235, 236, 237, 238, 239, 240, 241, 242, 243, 244, 245, 246, 247, 248, 249, 250, 251, 252, 253, 254, 255, 256, 257, 258, 259, 260, 261, 262, 263, 264, 265, 266, 267, 268, 269, 270, 271, 272, 273, 274, 275, 276, 277, 278, 279, 280, 281, 282, 283, 284, 285, 286, 287, 288, 289, 290, 291, 292, 293, 294, 295, 296, 297, 298, 299, 300, 301, 302, 303, 304, 305, 306, 307, 308, 309, 310, 311, 312, 313, 314, 315, 316, 317, 318, 319, 320, 321, 322, 323, 324, 325, 326, 327, 328, 329, 330, 331, 332, 333, 334, 335, 336, 337, 338, 339, 340, 341, 342, 343, 344, 345, 346, 347, 348, 349, 350, 351, 352, 353, 354, 355, 356, 357, 358, 359, 360, 361, 362, 363, 364, 365, 366, 367, 368, 369, 370].\n",
      "\n",
      "\n"
     ]
    },
    {
     "ename": "ValueError",
     "evalue": "Catalog has invalid sumw == 0",
     "output_type": "error",
     "traceback": [
      "\u001b[0;31m---------------------------------------------------------------------------\u001b[0m",
      "\u001b[0;31mValueError\u001b[0m                                Traceback (most recent call last)",
      "\u001b[0;32m/global/project/projectdirs/des/zhou/sa/lib/src/corr_func.py\u001b[0m in \u001b[0;36m<module>\u001b[0;34m\u001b[0m\n\u001b[1;32m     14\u001b[0m \u001b[0;32mfor\u001b[0m \u001b[0mi\u001b[0m \u001b[0;32min\u001b[0m \u001b[0mtrange\u001b[0m\u001b[0;34m(\u001b[0m\u001b[0;36m3\u001b[0m\u001b[0;34m)\u001b[0m\u001b[0;34m:\u001b[0m\u001b[0;34m\u001b[0m\u001b[0;34m\u001b[0m\u001b[0m\n\u001b[1;32m     15\u001b[0m     \u001b[0;32mfor\u001b[0m \u001b[0mj\u001b[0m \u001b[0;32min\u001b[0m \u001b[0mtrange\u001b[0m\u001b[0;34m(\u001b[0m\u001b[0;36m4\u001b[0m\u001b[0;34m)\u001b[0m\u001b[0;34m:\u001b[0m\u001b[0;34m\u001b[0m\u001b[0;34m\u001b[0m\u001b[0m\n\u001b[0;32m---> 16\u001b[0;31m         \u001b[0mng\u001b[0m\u001b[0;34m=\u001b[0m\u001b[0mget_ng_source\u001b[0m\u001b[0;34m(\u001b[0m\u001b[0mclusters\u001b[0m\u001b[0;34m,\u001b[0m\u001b[0mmembers\u001b[0m\u001b[0;34m,\u001b[0m\u001b[0mz_bins\u001b[0m\u001b[0;34m[\u001b[0m\u001b[0mi\u001b[0m\u001b[0;34m]\u001b[0m\u001b[0;34m,\u001b[0m\u001b[0mz_bins\u001b[0m\u001b[0;34m[\u001b[0m\u001b[0mi\u001b[0m\u001b[0;34m+\u001b[0m\u001b[0;36m1\u001b[0m\u001b[0;34m]\u001b[0m\u001b[0;34m,\u001b[0m\u001b[0mlambda_bins\u001b[0m\u001b[0;34m[\u001b[0m\u001b[0mj\u001b[0m\u001b[0;34m]\u001b[0m\u001b[0;34m,\u001b[0m\u001b[0mlambda_bins\u001b[0m\u001b[0;34m[\u001b[0m\u001b[0mj\u001b[0m\u001b[0;34m+\u001b[0m\u001b[0;36m1\u001b[0m\u001b[0;34m]\u001b[0m\u001b[0;34m,\u001b[0m\u001b[0mforeback\u001b[0m\u001b[0;34m=\u001b[0m\u001b[0;34m\"\"\u001b[0m\u001b[0;34m)\u001b[0m\u001b[0;34m\u001b[0m\u001b[0;34m\u001b[0m\u001b[0m\n\u001b[0m\u001b[1;32m     17\u001b[0m         \u001b[0mng_values\u001b[0m\u001b[0;34m=\u001b[0m\u001b[0mnp\u001b[0m\u001b[0;34m.\u001b[0m\u001b[0mcopy\u001b[0m\u001b[0;34m(\u001b[0m\u001b[0mnp\u001b[0m\u001b[0;34m.\u001b[0m\u001b[0marray\u001b[0m\u001b[0;34m(\u001b[0m\u001b[0;34m[\u001b[0m\u001b[0mng\u001b[0m\u001b[0;34m.\u001b[0m\u001b[0mmeanlogr\u001b[0m\u001b[0;34m,\u001b[0m\u001b[0mng\u001b[0m\u001b[0;34m.\u001b[0m\u001b[0mxi\u001b[0m\u001b[0;34m,\u001b[0m\u001b[0mng\u001b[0m\u001b[0;34m.\u001b[0m\u001b[0mvarxi\u001b[0m\u001b[0;34m]\u001b[0m\u001b[0;34m)\u001b[0m\u001b[0;34m)\u001b[0m\u001b[0;34m\u001b[0m\u001b[0;34m\u001b[0m\u001b[0m\n\u001b[1;32m     18\u001b[0m         \u001b[0mng_matrix\u001b[0m\u001b[0;34m[\u001b[0m\u001b[0mi\u001b[0m\u001b[0;34m]\u001b[0m\u001b[0;34m[\u001b[0m\u001b[0mj\u001b[0m\u001b[0;34m]\u001b[0m\u001b[0;34m=\u001b[0m\u001b[0mng_values\u001b[0m\u001b[0;34m\u001b[0m\u001b[0;34m\u001b[0m\u001b[0m\n",
      "\u001b[0;32m/global/project/projectdirs/des/zhou/sa/lib/src/corr_func.py\u001b[0m in \u001b[0;36mget_ng_source\u001b[0;34m(clusters, sources, z_lower, z_upper, lambda_lower, lambda_upper, foreback, woRed)\u001b[0m\n\u001b[1;32m    100\u001b[0m                                  ra_units='deg', dec_units='deg')\n\u001b[1;32m    101\u001b[0m \u001b[0;34m\u001b[0m\u001b[0m\n\u001b[0;32m--> 102\u001b[0;31m     cen_cat = treecorr.Catalog( \n\u001b[0m\u001b[1;32m    103\u001b[0m                                  \u001b[0mra\u001b[0m \u001b[0;34m=\u001b[0m \u001b[0mcen_ra\u001b[0m\u001b[0;34m,\u001b[0m \u001b[0mdec\u001b[0m \u001b[0;34m=\u001b[0m \u001b[0mcen_dec\u001b[0m\u001b[0;34m,\u001b[0m \u001b[0mr\u001b[0m\u001b[0;34m=\u001b[0m\u001b[0mcen_angr\u001b[0m\u001b[0;34m,\u001b[0m\u001b[0;34m\u001b[0m\u001b[0;34m\u001b[0m\u001b[0m\n\u001b[1;32m    104\u001b[0m                                  ra_units='deg', dec_units='deg')\n",
      "\u001b[0;32m~/.conda/envs/desdesi/lib/python3.8/site-packages/treecorr/catalog.py\u001b[0m in \u001b[0;36m__init__\u001b[0;34m(self, file_name, config, num, logger, is_rand, x, y, z, ra, dec, r, w, wpos, flag, g1, g2, k, patch, patch_centers, **kwargs)\u001b[0m\n\u001b[1;32m    689\u001b[0m             \u001b[0;32mif\u001b[0m \u001b[0mself\u001b[0m\u001b[0;34m.\u001b[0m\u001b[0m_single_patch\u001b[0m \u001b[0;32mis\u001b[0m \u001b[0;32mnot\u001b[0m \u001b[0;32mNone\u001b[0m\u001b[0;34m:\u001b[0m\u001b[0;34m\u001b[0m\u001b[0;34m\u001b[0m\u001b[0m\n\u001b[1;32m    690\u001b[0m                 \u001b[0mself\u001b[0m\u001b[0;34m.\u001b[0m\u001b[0m_select_patch\u001b[0m\u001b[0;34m(\u001b[0m\u001b[0mself\u001b[0m\u001b[0;34m.\u001b[0m\u001b[0m_single_patch\u001b[0m\u001b[0;34m)\u001b[0m\u001b[0;34m\u001b[0m\u001b[0;34m\u001b[0m\u001b[0m\n\u001b[0;32m--> 691\u001b[0;31m             \u001b[0mself\u001b[0m\u001b[0;34m.\u001b[0m\u001b[0m_finish_input\u001b[0m\u001b[0;34m(\u001b[0m\u001b[0;34m)\u001b[0m\u001b[0;34m\u001b[0m\u001b[0;34m\u001b[0m\u001b[0m\n\u001b[0m\u001b[1;32m    692\u001b[0m \u001b[0;34m\u001b[0m\u001b[0m\n\u001b[1;32m    693\u001b[0m     \u001b[0;34m@\u001b[0m\u001b[0mproperty\u001b[0m\u001b[0;34m\u001b[0m\u001b[0;34m\u001b[0m\u001b[0m\n",
      "\u001b[0;32m~/.conda/envs/desdesi/lib/python3.8/site-packages/treecorr/catalog.py\u001b[0m in \u001b[0;36m_finish_input\u001b[0;34m(self)\u001b[0m\n\u001b[1;32m    918\u001b[0m             \u001b[0mself\u001b[0m\u001b[0;34m.\u001b[0m\u001b[0m_sumw\u001b[0m \u001b[0;34m=\u001b[0m \u001b[0mnp\u001b[0m\u001b[0;34m.\u001b[0m\u001b[0msum\u001b[0m\u001b[0;34m(\u001b[0m\u001b[0mself\u001b[0m\u001b[0;34m.\u001b[0m\u001b[0m_w\u001b[0m\u001b[0;34m)\u001b[0m\u001b[0;34m\u001b[0m\u001b[0;34m\u001b[0m\u001b[0m\n\u001b[1;32m    919\u001b[0m             \u001b[0;32mif\u001b[0m \u001b[0mself\u001b[0m\u001b[0;34m.\u001b[0m\u001b[0m_sumw\u001b[0m \u001b[0;34m==\u001b[0m \u001b[0;36m0\u001b[0m\u001b[0;34m:\u001b[0m\u001b[0;34m\u001b[0m\u001b[0;34m\u001b[0m\u001b[0m\n\u001b[0;32m--> 920\u001b[0;31m                 \u001b[0;32mraise\u001b[0m \u001b[0mValueError\u001b[0m\u001b[0;34m(\u001b[0m\u001b[0;34m\"Catalog has invalid sumw == 0\"\u001b[0m\u001b[0;34m)\u001b[0m\u001b[0;34m\u001b[0m\u001b[0;34m\u001b[0m\u001b[0m\n\u001b[0m\u001b[1;32m    921\u001b[0m         \u001b[0;32melse\u001b[0m\u001b[0;34m:\u001b[0m\u001b[0;34m\u001b[0m\u001b[0;34m\u001b[0m\u001b[0m\n\u001b[1;32m    922\u001b[0m             \u001b[0mself\u001b[0m\u001b[0;34m.\u001b[0m\u001b[0m_nontrivial_w\u001b[0m \u001b[0;34m=\u001b[0m \u001b[0;32mFalse\u001b[0m\u001b[0;34m\u001b[0m\u001b[0;34m\u001b[0m\u001b[0m\n",
      "\u001b[0;31mValueError\u001b[0m: Catalog has invalid sumw == 0"
     ]
    }
   ],
   "source": [
    "## lambda x z = 4x3\n",
    "import gc\n",
    "\n",
    "# def get_ng_values(clusters,members,z_bins_low,z_bins_high,lambda_bins_low,lambda_bins_high,foreback):\n",
    "#     ng=get_ng_source(clusters,members,z_bins_low,z_bins_high,lambda_bins_low,lambda_bins_high,foreback)\n",
    "#     ng_values=np.copy(np.array([ng.meanlogr,ng.xi,ng.varxi]))\n",
    "    \n",
    "#     del ng\n",
    "    \n",
    "#     return(ng_values)\n",
    "    \n",
    "ng_matrix=[[None for i in range(4)] for j in range(3)]\n",
    "\n",
    "for i in trange(3):\n",
    "    for j in trange(4):\n",
    "        ng=get_ng_source(clusters,members,z_bins[i],z_bins[i+1],lambda_bins[j],lambda_bins[j+1],foreback=\"\")\n",
    "        ng_values=np.copy(np.array([ng.meanlogr,ng.xi,ng.varxi]))\n",
    "        ng_matrix[i][j]=ng_values\n",
    "        del ng\n",
    "        gc.collect()"
   ]
  },
  {
   "cell_type": "code",
   "execution_count": null,
   "metadata": {},
   "outputs": [],
   "source": [
    "np.save(\"/global/project/projectdirs/des/zhou/sa/data/gammaT/ng_matrix.npy\",ng_matrix)\n",
    "ng_matrix=None"
   ]
  },
  {
   "cell_type": "code",
   "execution_count": null,
   "metadata": {},
   "outputs": [],
   "source": [
    "## lambda x z = 4x3\n",
    "ng_wr_matrix=[[None for i in range(4)] for j in range(3)]\n",
    "\n",
    "for i in trange(3):\n",
    "    for j in trange(4):\n",
    "        ng=get_ng_source(clusters,members,z_bins[i],z_bins[i+1],lambda_bins[j],lambda_bins[j+1],woRed=True,foreback=\"\")\n",
    "        ng_values=np.copy(np.array([ng.meanlogr,ng.xi,ng.varxi]))\n",
    "        ng_wr_matrix[i][j]=ng_values\n",
    "        del ng\n",
    "        gc.collect"
   ]
  },
  {
   "cell_type": "code",
   "execution_count": null,
   "metadata": {},
   "outputs": [],
   "source": [
    "np.save(\"/global/project/projectdirs/des/zhou/sa/data/gammaT/ng_wr_matrix.npy\",ng_wr_matrix)\n",
    "ng_wr_matrix=None"
   ]
  },
  {
   "cell_type": "code",
   "execution_count": null,
   "metadata": {},
   "outputs": [],
   "source": [
    "ng_matrix=np.load(\"/global/project/projectdirs/des/zhou/sa/data/gammaT/ng_matrix.npy\");\n",
    "ng_wr_matrix=np.load(\"/global/project/projectdirs/des/zhou/sa/data/gammaT/ng_wr_matrix.npy\");"
   ]
  },
  {
   "cell_type": "code",
   "execution_count": null,
   "metadata": {},
   "outputs": [],
   "source": [
    "fig, axs = plt.subplots(3, 4,figsize=(20,15))\n",
    "for i in range(3):\n",
    "    for j in range(4):\n",
    "        values=ng_matrix[i][j]\n",
    "        values_wr=ng_wr_matrix[i][j]\n",
    "        axs[i,j].errorbar(np.exp(values[0]),values[1],yerr=np.sqrt(values[2]),label=\"All sources\")\n",
    "        axs[i,j].errorbar(np.exp(values[0]),values_wr[1],yerr=np.sqrt(values_wr[2]),label=\"wo/ redMaPPer\")\n",
    "        axs[i,j].set_xscale(\"log\")\n",
    "        axs[i,j].set_yscale(\"log\")\n",
    "        axs[i,j].legend()\n",
    "#         axs.xscale(\"log\")\n",
    "#         axs[i,j].plot(np.exp(values_wr[0]),values_wr[1])"
   ]
  },
  {
   "cell_type": "code",
   "execution_count": null,
   "metadata": {},
   "outputs": [],
   "source": [
    "fig, axs = plt.subplots(3, 4,figsize=(20,15))\n",
    "for i in range(3):\n",
    "    for j in range(4):\n",
    "        values=ng_matrix[i][j]\n",
    "        values_wr=ng_wr_matrix[i][j]\n",
    "        axs[i,j].plot(np.exp(values[0]),values[1]-values_wr[1])\n",
    "        axs[i,j].set_xscale(\"log\")\n",
    "        axs[i,j].set_yscale(\"log\")"
   ]
  },
  {
   "cell_type": "code",
   "execution_count": null,
   "metadata": {},
   "outputs": [],
   "source": [
    "np.mean((values[1]-values_wr[1])/values[1])"
   ]
  },
  {
   "cell_type": "markdown",
   "metadata": {},
   "source": [
    "# Jackknife variance"
   ]
  },
  {
   "cell_type": "code",
   "execution_count": null,
   "metadata": {},
   "outputs": [],
   "source": [
    "## lambda x z = 4x3\n",
    "import gc\n",
    "    \n",
    "ng_matrix=[[None for i in range(4)] for j in range(3)]\n",
    "\n",
    "for i in trange(3):\n",
    "    for j in trange(4):\n",
    "        ng=get_ng_source(clusters,members,z_bins[i],z_bins[i+1],lambda_bins[j],lambda_bins[j+1],foreback=\"\")\n",
    "        ng_values=np.copy(np.array([ng.meanlogr,ng.xi,ng.varxi]))\n",
    "        ng_matrix[i][j]=ng_values\n",
    "        del ng\n",
    "        gc.collect()"
   ]
  },
  {
   "cell_type": "code",
   "execution_count": null,
   "metadata": {},
   "outputs": [],
   "source": [
    "def get_jk_matrix(z_lower,z_upper,lambda_lower,lambda_upper):\n",
    "    clusters_z_mask=(clusters[('All','All','Z_LAMBDA')]>=z_lower)&(clusters[('All','All','Z_LAMBDA')]<=z_upper)\n",
    "    clusters_lambda_mask=(clusters[('All','All','LAMBDA_CHISQ')]>=lambda_lower)&(clusters[('All','All','LAMBDA_CHISQ')]<=lambda_upper) \n",
    "    clusters_masked=clusters[(clusters_z_mask)&(cluster_lambda_mask)]\n",
    "    \n",
    "    for index,clusters in clusters.iterrows():\n",
    "        "
   ]
  },
  {
   "cell_type": "code",
   "execution_count": null,
   "metadata": {},
   "outputs": [],
   "source": []
  },
  {
   "cell_type": "code",
   "execution_count": null,
   "metadata": {},
   "outputs": [],
   "source": []
  },
  {
   "cell_type": "code",
   "execution_count": null,
   "metadata": {},
   "outputs": [],
   "source": []
  },
  {
   "cell_type": "code",
   "execution_count": null,
   "metadata": {},
   "outputs": [],
   "source": []
  },
  {
   "cell_type": "code",
   "execution_count": null,
   "metadata": {},
   "outputs": [],
   "source": []
  }
 ],
 "metadata": {
  "kernelspec": {
   "display_name": "DESDESI",
   "language": "python",
   "name": "desdesi"
  },
  "language_info": {
   "codemirror_mode": {
    "name": "ipython",
    "version": 3
   },
   "file_extension": ".py",
   "mimetype": "text/x-python",
   "name": "python",
   "nbconvert_exporter": "python",
   "pygments_lexer": "ipython3",
   "version": "3.8.3"
  }
 },
 "nbformat": 4,
 "nbformat_minor": 4
}
