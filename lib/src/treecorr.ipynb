{
 "cells": [
  {
   "cell_type": "code",
   "execution_count": 1,
   "metadata": {
    "tags": [
     "parameters"
    ]
   },
   "outputs": [],
   "source": [
    "shape_cat=\"\"\n",
    "vol=\"\"\n",
    "z_range=\"\"\n",
    "key=\"\"\n",
    "quantile=\"\"\n",
    "test=\"\"\n",
    "z_diff=\"\""
   ]
  },
  {
   "cell_type": "code",
   "execution_count": 2,
   "metadata": {},
   "outputs": [],
   "source": [
    "shape_cat=\"mcal\"\n",
    "vol=\"vlim\"\n",
    "z_range=\"all_z\""
   ]
  },
  {
   "cell_type": "code",
   "execution_count": 3,
   "metadata": {},
   "outputs": [],
   "source": [
    "#This header file contains all the common packages\n",
    "%matplotlib inline\n",
    "%run /global/project/projectdirs/des/zhou/sa/lib/src/header.py $shape_cat $vol $z_range \n",
    "%run -i /global/project/projectdirs/des/zhou/sa/lib/src/func.py  \n",
    "%run -i /global/project/projectdirs/des/zhou/sa/lib/src/corr_func.py  "
   ]
  },
  {
   "cell_type": "code",
   "execution_count": 4,
   "metadata": {
    "papermill": {
     "duration": 1.363795,
     "end_time": "2019-11-15T03:19:57.422495",
     "exception": false,
     "start_time": "2019-11-15T03:19:56.058700",
     "status": "completed"
    },
    "tags": []
   },
   "outputs": [],
   "source": [
    "if test==\"foreground\":\n",
    "    members=shapes[(shapes[('All','Z')]-shapes[('All','ZRED2')])>=z_diff]\n",
    "    diff=members[('All','Z')]-members[('All','ZRED2')]\n",
    "    diff.hist()\n",
    "    diff.describe()\n",
    "    \n",
    "elif test==\"background\":\n",
    "    members=shapes[(shapes[('All','Z')]-shapes[('All','ZRED2')])<=-z_diff]\n",
    "    diff=members[('All','Z')]-members[('All','ZRED2')]\n",
    "    diff.hist()\n",
    "    diff.describe()\n",
    "elif test==\"\":\n",
    "    members=shapes\n",
    "else:\n",
    "    raise TypeError"
   ]
  },
  {
   "cell_type": "code",
   "execution_count": 5,
   "metadata": {},
   "outputs": [],
   "source": [
    "if vol!=\"uber\":\n",
    "    members=shapes"
   ]
  },
  {
   "cell_type": "code",
   "execution_count": 6,
   "metadata": {},
   "outputs": [],
   "source": [
    "if quantile!=\"\":\n",
    "    i=int(quantile)"
   ]
  },
  {
   "cell_type": "code",
   "execution_count": 7,
   "metadata": {},
   "outputs": [],
   "source": [
    "if key==\"lambda\":\n",
    "    key=('All','All','LAMBDA_CHISQ')\n",
    "elif key==\"z\":\n",
    "    key=('All','All','Z_LAMBDA')\n",
    "elif key==\"mag\":\n",
    "    key=('All','All','BCG_ZLUM')"
   ]
  },
  {
   "cell_type": "code",
   "execution_count": 8,
   "metadata": {},
   "outputs": [],
   "source": [
    "def thirds_by_key(catalog,key):\n",
    "    step0=catalog[key].quantile(0.0)\n",
    "    step1=catalog[key].quantile(0.333333)\n",
    "    step2=catalog[key].quantile(0.666666)\n",
    "    step3=catalog[key].quantile(1)\n",
    "    \n",
    "    catalog1=catalog[(catalog[key]>step0) & (catalog[key]<step1)]\n",
    "    catalog2=catalog[(catalog[key]>step1) & (catalog[key]<step2)]\n",
    "    catalog3=catalog[(catalog[key]>step2) & (catalog[key]<step3)]\n",
    "    \n",
    "    return (catalog1,catalog2,catalog3)"
   ]
  },
  {
   "cell_type": "code",
   "execution_count": 9,
   "metadata": {},
   "outputs": [],
   "source": [
    "if key!=\"\":\n",
    "    clusters_list=thirds_by_key(clusters,key)\n",
    "    clusters=clusters_list[i]"
   ]
  },
  {
   "cell_type": "code",
   "execution_count": 10,
   "metadata": {},
   "outputs": [],
   "source": [
    "sep=\"------------------------------------------------------------------------------\"\n",
    "np.set_printoptions(precision=4)"
   ]
  },
  {
   "cell_type": "code",
   "execution_count": 11,
   "metadata": {},
   "outputs": [],
   "source": [
    "NBINS=10"
   ]
  },
  {
   "cell_type": "code",
   "execution_count": 12,
   "metadata": {},
   "outputs": [],
   "source": [
    "import treecorr\n",
    "import astropy.cosmology\n",
    "from fastprogress import master_bar, progress_bar\n",
    "from ipywidgets import FloatProgress\n",
    "from IPython.display import display\n",
    "from tqdm import tqdm"
   ]
  },
  {
   "cell_type": "code",
   "execution_count": 13,
   "metadata": {},
   "outputs": [
    {
     "data": {
      "text/plain": [
       "105029"
      ]
     },
     "execution_count": 13,
     "metadata": {},
     "output_type": "execute_result"
    }
   ],
   "source": [
    "len(shapes)"
   ]
  },
  {
   "cell_type": "code",
   "execution_count": 14,
   "metadata": {},
   "outputs": [
    {
     "data": {
      "text/plain": [
       "105029"
      ]
     },
     "execution_count": 14,
     "metadata": {},
     "output_type": "execute_result"
    }
   ],
   "source": [
    "len(members)"
   ]
  },
  {
   "cell_type": "code",
   "execution_count": 15,
   "metadata": {},
   "outputs": [],
   "source": [
    "if key==\"\":\n",
    "    assert np.isin(shapes['All','MEM_MATCH_ID'].to_numpy(),clusters.index.to_numpy()).all()==True"
   ]
  },
  {
   "cell_type": "code",
   "execution_count": 16,
   "metadata": {},
   "outputs": [
    {
     "name": "stderr",
     "output_type": "stream",
     "text": [
      "4322it [03:21, 21.46it/s]\n",
      "0it [00:00, ?it/s]"
     ]
    },
    {
     "name": "stdout",
     "output_type": "stream",
     "text": [
      "Number of empty sat catalogs is 0\n"
     ]
    },
    {
     "name": "stderr",
     "output_type": "stream",
     "text": [
      "4322it [02:53, 24.91it/s]"
     ]
    },
    {
     "name": "stdout",
     "output_type": "stream",
     "text": [
      "Number of empty sat catalogs is 0\n"
     ]
    },
    {
     "name": "stderr",
     "output_type": "stream",
     "text": [
      "\n"
     ]
    }
   ],
   "source": [
    "ng_abs=get_ng_list('abs')\n",
    "ng_rel=get_ng_list('rel')"
   ]
  },
  {
   "cell_type": "code",
   "execution_count": 17,
   "metadata": {},
   "outputs": [],
   "source": [
    "try:\n",
    "    ng_r=get_xi_meanlogr_varxi_npairs(clusters,'r','abs')\n",
    "except ValueError as e:\n",
    "    print(e)\n",
    "    ng_r=np.array([[1],[1],[1],[1]])"
   ]
  },
  {
   "cell_type": "code",
   "execution_count": 18,
   "metadata": {},
   "outputs": [],
   "source": [
    "# ng_list=np.load(\"/global/project/projectdirs/des/zhou/sa/data/{}/ng_list_cross.npy\".format(dir_string))\n",
    "# ng_r=np.load(\"/global/project/projectdirs/des/zhou/sa/data/{}/ng_r_list_cross.npy\".format(dir_string))"
   ]
  },
  {
   "cell_type": "code",
   "execution_count": 19,
   "metadata": {},
   "outputs": [],
   "source": [
    "sum_abs=get_sum(ng_abs)\n",
    "mean_abs=get_mean(ng_abs)\n",
    "sig_abs=get_sigma(ng_abs)\n",
    "\n",
    "sum_rel=get_sum(ng_rel)\n",
    "mean_rel=get_mean(ng_rel)\n",
    "sig_rel=get_sigma(ng_rel)\n",
    "\n",
    "cov_rel=get_cov(ng_rel)"
   ]
  },
  {
   "cell_type": "code",
   "execution_count": 20,
   "metadata": {},
   "outputs": [],
   "source": [
    "r_xi=ng_r[0]/ng_r[3]\n",
    "r_meanlogr=ng_r[1]/ng_r[3]\n",
    "r_sigma=r_xi/np.sqrt(len(clusters))"
   ]
  },
  {
   "cell_type": "code",
   "execution_count": 21,
   "metadata": {},
   "outputs": [],
   "source": [
    "if key!=\"\":\n",
    "    np.savez(\"/global/project/projectdirs/des/zhou/sa/data/2pt/{}_{}_{}_{}.npz\".format(shape_cat,vol,key,quantile),sum_abs=sum_abs,mean_abs=mean_abs,sig_abs=sig_abs,sum_rel=sum_rel,mean_rel=mean_rel,sig_rel=sig_rel,r_xi=r_xi,r_meanlogr=r_meanlogr,r_sigma=r_sigma)"
   ]
  },
  {
   "cell_type": "code",
   "execution_count": 22,
   "metadata": {},
   "outputs": [],
   "source": [
    "# matplotlib.rcParams.update({'font.size': 11}) # before plotting coode\n",
    "# plt.figure(figsize=(6.2,5))\n",
    "# ...\n",
    "# plt.tight_layout()\n",
    "# plt.subplots_adjust(hspace=0,wspace=0) # if doing multiple panels/subplots\n",
    "# plt.savefig('namee.pdf', bbox_inches='tight')\n",
    "\n",
    "def plt_w_error(meanlogr,xi,varxi,title):\n",
    "    matplotlib.rcParams.update({'font.size': 11}) \n",
    "    plt.figure(figsize=(6.2,5))\n",
    "    plt.errorbar(np.exp(meanlogr),xi,yerr=varxi,fmt='o')\n",
    "    plt.title(title)\n",
    "    plt.xscale('log')\n",
    "#     ax.set_ylim(-0.020,0.020)\n",
    "    \n",
    "    if title==r\"$\\gamma_+$ of Clusters, Normalized by R_LAMBDA\":\n",
    "        plt.savefig(\"/global/project/projectdirs/des/zhou/sa/image/rel_{}_{}_{}.png\".format(shape_cat,vol,z_range))\n",
    "#     plt.xscale('log')\n",
    "#     plt.yscale('log')"
   ]
  },
  {
   "cell_type": "markdown",
   "metadata": {},
   "source": [
    "# Statistics"
   ]
  },
  {
   "cell_type": "code",
   "execution_count": 23,
   "metadata": {},
   "outputs": [],
   "source": [
    "def print_data(sum_,mean_):\n",
    "    sum_string=[\"Aggregated xi:\", \"Aggregated meanlogr:\",\"Aggregated npairs:\"]\n",
    "    for i,data in enumerate(sum_):\n",
    "        print(sum_string[i])\n",
    "        print(sum_[i])\n",
    "        print(sep)\n",
    "    mean_string=[\"Mean xi:\", \"Mean meanlogr:\",\"Mean npairs:\"]\n",
    "    for i,data in enumerate(mean_):\n",
    "        print(mean_string[i])\n",
    "        print(mean_[i])\n",
    "        print(sep)"
   ]
  },
  {
   "cell_type": "markdown",
   "metadata": {},
   "source": [
    "# Redshift distribution"
   ]
  },
  {
   "cell_type": "code",
   "execution_count": 147,
   "metadata": {},
   "outputs": [
    {
     "data": {
      "text/plain": [
       "ID\n",
       "3007825827    0.619567\n",
       "3007931336    0.408113\n",
       "3007938592    0.408113\n",
       "3007938814    0.408113\n",
       "3007938890    0.408113\n",
       "                ...   \n",
       "3159944414    0.385452\n",
       "3159944537    0.385452\n",
       "3159945177    0.385452\n",
       "3159945721    0.385452\n",
       "3159946033    0.385452\n",
       "Name: (All, Z), Length: 105029, dtype: float32"
      ]
     },
     "execution_count": 147,
     "metadata": {},
     "output_type": "execute_result"
    }
   ],
   "source": [
    "members[('All','Z')]"
   ]
  },
  {
   "cell_type": "code",
   "execution_count": 170,
   "metadata": {},
   "outputs": [
    {
     "data": {
      "image/png": "[encoded data removed]",
      "text/plain": [
       "<Figure size 1200x900 with 1 Axes>"
      ]
     },
     "metadata": {
      "needs_background": "light"
     },
     "output_type": "display_data"
    }
   ],
   "source": [
    "fig,ax=plt.subplots(figsize=(8,6),dpi=150)\n",
    "ax.hist(members[('All','Z')],histtype='step')\n",
    "ax.set_xlabel(\"Redshift z\")\n",
    "ax.set_ylabel(\"Number of redMaPPer member galaxies\")\n",
    "ax.set_title(\"Redshift Distribution of redMaPPer member galaxies\")\n",
    "plt.savefig(\"/global/project/projectdirs/des/zhou/sa/images/z_hist.pdf\")"
   ]
  },
  {
   "cell_type": "markdown",
   "metadata": {},
   "source": [
    "# Abs Plots"
   ]
  },
  {
   "cell_type": "code",
   "execution_count": 24,
   "metadata": {},
   "outputs": [
    {
     "name": "stdout",
     "output_type": "stream",
     "text": [
      "Aggregated xi:\n",
      "[-32.123  -46.1376 -30.4757 -29.2178 -22.3512  11.1694  58.1169  54.2211\n",
      "  12.7458   4.5475]\n",
      "------------------------------------------------------------------------------\n",
      "Aggregated meanlogr:\n",
      "[ -3292.0816  -6271.9862  -8715.7173 -12389.0767 -17198.4768 -22259.7214\n",
      " -25051.9586 -22523.4493 -12767.2177  -1338.3202]\n",
      "------------------------------------------------------------------------------\n",
      "Aggregated npairs:\n",
      "[  761.  1627.  2572.  4272.  7100. 11481. 17120. 22818. 24649.  8133.]\n",
      "------------------------------------------------------------------------------\n",
      "Mean xi:\n",
      "[-0.0422 -0.0284 -0.0118 -0.0068 -0.0031  0.001   0.0034  0.0024  0.0005\n",
      "  0.0006]\n",
      "------------------------------------------------------------------------------\n",
      "Mean meanlogr:\n",
      "[-4.326  -3.8549 -3.3887 -2.9001 -2.4223 -1.9388 -1.4633 -0.9871 -0.518\n",
      " -0.1646]\n",
      "------------------------------------------------------------------------------\n"
     ]
    },
    {
     "data": {
      "image/png": "[encoded data removed]",
      "text/plain": [
       "<Figure size 446.4x360 with 1 Axes>"
      ]
     },
     "metadata": {
      "needs_background": "light"
     },
     "output_type": "display_data"
    }
   ],
   "source": [
    "plt_w_error(mean_abs[1],-mean_abs[0],sig_abs,r\"$\\gamma_+$ of Clusters On a Absolute Scale \")\n",
    "print_data(sum_abs,mean_abs)"
   ]
  },
  {
   "cell_type": "code",
   "execution_count": 25,
   "metadata": {},
   "outputs": [
    {
     "name": "stdout",
     "output_type": "stream",
     "text": [
      "[ 8.0614e-03 -4.0169e-03  8.0985e-04 -8.0003e-04 -1.1234e-03 -1.6914e-05\n",
      "  3.4635e-04 -8.3508e-05  1.5886e-04  6.9678e-05]\n",
      "[-1.2262e-04  6.1101e-05 -1.2319e-05  1.2169e-05  1.7087e-05  2.5728e-07\n",
      " -5.2684e-06  1.2702e-06 -2.4164e-06 -1.0599e-06]\n"
     ]
    },
    {
     "data": {
      "image/png": "[encoded data removed]",
      "text/plain": [
       "<Figure size 446.4x360 with 1 Axes>"
      ]
     },
     "metadata": {
      "needs_background": "light"
     },
     "output_type": "display_data"
    }
   ],
   "source": [
    "plt_w_error(r_meanlogr,-r_xi,r_sigma,r\"$\\gamma_+$ with Random Catalog\")\n",
    "print(-r_xi)\n",
    "print(r_sigma)"
   ]
  },
  {
   "cell_type": "code",
   "execution_count": 26,
   "metadata": {},
   "outputs": [
    {
     "data": {
      "image/png": "[encoded data removed]",
      "text/plain": [
       "<Figure size 446.4x360 with 1 Axes>"
      ]
     },
     "metadata": {
      "needs_background": "light"
     },
     "output_type": "display_data"
    }
   ],
   "source": [
    "plt_w_error(mean_abs[1],-(mean_abs[0]+r_xi),np.hypot(r_sigma,sig_abs),r\"$\\gamma_+$ of Clusters - $\\gamma_T$ with Random Catalog\")"
   ]
  },
  {
   "cell_type": "markdown",
   "metadata": {},
   "source": [
    "# Rel plots"
   ]
  },
  {
   "cell_type": "code",
   "execution_count": 27,
   "metadata": {},
   "outputs": [
    {
     "name": "stdout",
     "output_type": "stream",
     "text": [
      "Aggregated xi:\n",
      "[-21.1739 -41.1351 -39.9535 -24.3262 -43.191   12.3333  21.7691  46.7462\n",
      "  25.1681  36.4253]\n",
      "------------------------------------------------------------------------------\n",
      "Aggregated meanlogr:\n",
      "[ -1794.2648  -4367.6069  -7203.8497  -9568.6451 -13376.0262 -17685.9487\n",
      " -20861.6353 -20151.127  -13193.8657  -2000.5896]\n",
      "------------------------------------------------------------------------------\n",
      "Aggregated npairs:\n",
      "[  417.  1132.  2123.  3292.  5506.  9063. 14135. 20072. 24791. 20118.]\n",
      "------------------------------------------------------------------------------\n",
      "Mean xi:\n",
      "[-0.0508 -0.0363 -0.0188 -0.0074 -0.0078  0.0014  0.0015  0.0023  0.001\n",
      "  0.0018]\n",
      "------------------------------------------------------------------------------\n",
      "Mean meanlogr:\n",
      "[-4.3028 -3.8583 -3.3932 -2.9066 -2.4294 -1.9514 -1.4759 -1.0039 -0.5322\n",
      " -0.0994]\n",
      "------------------------------------------------------------------------------\n"
     ]
    },
    {
     "data": {
      "image/png": "[encoded data removed]",
      "text/plain": [
       "<Figure size 446.4x360 with 1 Axes>"
      ]
     },
     "metadata": {
      "needs_background": "light"
     },
     "output_type": "display_data"
    }
   ],
   "source": [
    "plt_w_error(mean_rel[1],-mean_rel[0],sig_rel,r\"-$\\gamma_T$ of Clusters, Normalized by R_LAMBDA\")\n",
    "plt.xlabel(\"Distance from BCG [R_LAMBDA]\")\n",
    "plt.ylabel(r\"-$\\gamma_T$\")\n",
    "plt.savefig(\"/global/project/projectdirs/des/zhou/sa/images/gamma_T_rel.pdf\")\n",
    "print_data(sum_rel,mean_rel)"
   ]
  },
  {
   "cell_type": "code",
   "execution_count": 28,
   "metadata": {},
   "outputs": [
    {
     "name": "stdout",
     "output_type": "stream",
     "text": [
      "Error bar size\n",
      "[0.0047 0.0032 0.0026 0.0023 0.0019 0.0016 0.0013 0.0011 0.001  0.0011]\n"
     ]
    }
   ],
   "source": [
    "print(\"Error bar size\")\n",
    "print(sig_rel)"
   ]
  },
  {
   "cell_type": "code",
   "execution_count": 29,
   "metadata": {},
   "outputs": [
    {
     "data": {
      "text/plain": [
       "18.079130895959732"
      ]
     },
     "execution_count": 29,
     "metadata": {},
     "output_type": "execute_result"
    }
   ],
   "source": [
    "np.sqrt(np.dot(np.dot(mean_rel[0],np.linalg.inv(cov_rel)),mean_rel[0]))"
   ]
  },
  {
   "cell_type": "code",
   "execution_count": 30,
   "metadata": {},
   "outputs": [
    {
     "data": {
      "text/plain": [
       "10"
      ]
     },
     "execution_count": 30,
     "metadata": {},
     "output_type": "execute_result"
    }
   ],
   "source": [
    "len(cov_rel)"
   ]
  },
  {
   "cell_type": "code",
   "execution_count": 34,
   "metadata": {},
   "outputs": [
    {
     "data": {
      "text/plain": [
       "array([[ 2.1790e-05, -6.2833e-08,  2.9239e-07,  3.4022e-07, -1.1349e-07,\n",
       "         1.4725e-07, -1.0124e-08,  7.8146e-08,  5.0958e-08,  5.8533e-08],\n",
       "       [-6.2833e-08,  1.0375e-05,  1.6670e-07,  7.6514e-08,  8.0567e-08,\n",
       "         1.6947e-08,  4.7715e-08,  5.9347e-08,  1.5666e-08, -7.9602e-08],\n",
       "       [ 2.9239e-07,  1.6670e-07,  7.0001e-06,  5.1955e-08,  1.1944e-07,\n",
       "        -8.5474e-08,  6.3328e-08,  5.1129e-08, -6.9425e-08,  6.8686e-09],\n",
       "       [ 3.4022e-07,  7.6514e-08,  5.1955e-08,  5.1607e-06, -1.8085e-08,\n",
       "        -3.6357e-08,  5.8089e-08,  3.4636e-08,  1.5998e-09,  5.4483e-09],\n",
       "       [-1.1349e-07,  8.0567e-08,  1.1944e-07, -1.8085e-08,  3.6807e-06,\n",
       "        -2.1827e-08, -1.9179e-08,  2.3699e-08, -4.4246e-08, -3.2119e-08],\n",
       "       [ 1.4725e-07,  1.6947e-08, -8.5474e-08, -3.6357e-08, -2.1827e-08,\n",
       "         2.4065e-06, -2.2190e-08,  1.9548e-10, -6.8319e-08,  4.8395e-08],\n",
       "       [-1.0124e-08,  4.7715e-08,  6.3328e-08,  5.8089e-08, -1.9179e-08,\n",
       "        -2.2190e-08,  1.6472e-06,  2.1654e-08,  2.7868e-08, -3.4693e-08],\n",
       "       [ 7.8146e-08,  5.9347e-08,  5.1129e-08,  3.4636e-08,  2.3699e-08,\n",
       "         1.9548e-10,  2.1654e-08,  1.2086e-06,  2.1886e-09, -1.5303e-08],\n",
       "       [ 5.0958e-08,  1.5666e-08, -6.9425e-08,  1.5998e-09, -4.4246e-08,\n",
       "        -6.8319e-08,  2.7868e-08,  2.1886e-09,  9.6792e-07, -5.1755e-10],\n",
       "       [ 5.8533e-08, -7.9602e-08,  6.8686e-09,  5.4483e-09, -3.2119e-08,\n",
       "         4.8395e-08, -3.4693e-08, -1.5303e-08, -5.1755e-10,  1.2233e-06]])"
      ]
     },
     "execution_count": 34,
     "metadata": {},
     "output_type": "execute_result"
    }
   ],
   "source": [
    "cov_rel"
   ]
  },
  {
   "cell_type": "code",
   "execution_count": 135,
   "metadata": {},
   "outputs": [
    {
     "data": {
      "text/plain": [
       "-1.134898605624446e-07"
      ]
     },
     "execution_count": 135,
     "metadata": {},
     "output_type": "execute_result"
    }
   ],
   "source": [
    "cov_rel.min()"
   ]
  },
  {
   "cell_type": "code",
   "execution_count": 136,
   "metadata": {},
   "outputs": [
    {
     "data": {
      "text/plain": [
       "2.178958815711961e-05"
      ]
     },
     "execution_count": 136,
     "metadata": {},
     "output_type": "execute_result"
    }
   ],
   "source": [
    "cov_rel.max()"
   ]
  },
  {
   "cell_type": "code",
   "execution_count": 97,
   "metadata": {},
   "outputs": [
    {
     "name": "stdout",
     "output_type": "stream",
     "text": [
      "['0.01', '0.02', '0.03', '0.05', '0.09', '0.14', '0.23', '0.37', '0.59', '0.91']\n"
     ]
    }
   ],
   "source": [
    "ticks_val=np.exp(mean_rel[1])\n",
    "ticks_string=[\"{:.2f}\".format(val) for val in ticks_val]\n",
    "print(ticks_string)"
   ]
  },
  {
   "cell_type": "code",
   "execution_count": 139,
   "metadata": {},
   "outputs": [
    {
     "data": {
      "image/png": "[encoded data removed]",
      "text/plain": [
       "<Figure size 446.4x360 with 2 Axes>"
      ]
     },
     "metadata": {
      "needs_background": "light"
     },
     "output_type": "display_data"
    }
   ],
   "source": [
    "fig,ax=plt.subplots(figsize=(6.2,5))\n",
    "\n",
    "from matplotlib.ticker import StrMethodFormatter\n",
    "import matplotlib.ticker as ticker\n",
    "import matplotlib.colors as colors\n",
    "\n",
    "plt.matshow(np.abs(cov_rel),fignum=0,norm=colors.LogNorm(vmin=np.abs(cov_rel).min(),vmax=np.abs(cov_rel).max()))\n",
    "\n",
    "ax.xaxis.set_major_locator(ticker.MultipleLocator(1.00))\n",
    "ax.yaxis.set_major_locator(ticker.MultipleLocator(1.00))\n",
    "\n",
    "ax.set_xticks(range(len(ticks_val)))\n",
    "ax.set_yticks(range(len(ticks_val)))\n",
    "\n",
    "ax.set_xticklabels(ticks_val)\n",
    "\n",
    "\n",
    "ax.xaxis.set_major_formatter(ticker.FixedFormatter(ticks_string))\n",
    "ax.yaxis.set_major_formatter(ticker.FixedFormatter(ticks_string))\n",
    "\n",
    "ax.set_xlabel(\"[R_LAMBDA]\",labelpad=10)\n",
    "\n",
    "def fmt(x, pos):\n",
    "    a, b = '{:.2e}'.format(x).split('e')\n",
    "    b = int(b)\n",
    "    return r'${} \\times 10^{{{}}}$'.format(a, b)\n",
    "\n",
    "\n",
    "cb=plt.colorbar(pad=0.06,format=ticker.FuncFormatter(fmt))\n",
    "\n",
    "\n",
    "\n",
    "\n",
    "ax.set_title('Covariance Matrix of $-\\gamma_T$ at Different R_LAMBDA',fontsize=11,pad=12);\n",
    "plt.savefig('/global/project/projectdirs/des/zhou/sa/images/cov.pdf')"
   ]
  },
  {
   "cell_type": "code",
   "execution_count": 54,
   "metadata": {},
   "outputs": [
    {
     "name": "stdout",
     "output_type": "stream",
     "text": [
      "1\n"
     ]
    }
   ],
   "source": [
    "print(f.number)"
   ]
  },
  {
   "cell_type": "code",
   "execution_count": null,
   "metadata": {},
   "outputs": [],
   "source": [
    "np.dot(mean_rel[0],np.linalg.inv(cov_rel))"
   ]
  },
  {
   "cell_type": "code",
   "execution_count": null,
   "metadata": {},
   "outputs": [],
   "source": [
    "mean_rel[0]"
   ]
  },
  {
   "cell_type": "code",
   "execution_count": null,
   "metadata": {},
   "outputs": [],
   "source": [
    "cov_rel"
   ]
  },
  {
   "cell_type": "code",
   "execution_count": null,
   "metadata": {},
   "outputs": [],
   "source": [
    "np.linalg.inv(cov_rel)"
   ]
  }
 ],
 "metadata": {
  "kernelspec": {
   "display_name": "DESDESI",
   "language": "python",
   "name": "desdesi"
  },
  "language_info": {
   "codemirror_mode": {
    "name": "ipython",
    "version": 3
   },
   "file_extension": ".py",
   "mimetype": "text/x-python",
   "name": "python",
   "nbconvert_exporter": "python",
   "pygments_lexer": "ipython3",
   "version": "3.8.3"
  }
 },
 "nbformat": 4,
 "nbformat_minor": 4
}
