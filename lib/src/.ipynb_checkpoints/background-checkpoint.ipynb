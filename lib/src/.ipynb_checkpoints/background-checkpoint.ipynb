{
 "cells": [
  {
   "cell_type": "code",
   "execution_count": 1,
   "metadata": {
    "tags": [
     "parameters"
    ]
   },
   "outputs": [],
   "source": [
    "shape_cat=\"mcal\"\n",
    "vol=\"vlim\"\n",
    "z_range=\"all_z\"\n",
    "\n",
    "lambda_range=0\n",
    "with_r=True"
   ]
  },
  {
   "cell_type": "code",
   "execution_count": 9,
   "metadata": {},
   "outputs": [
    {
     "name": "stderr",
     "output_type": "stream",
     "text": [
      "/home/cz136/anaconda3/envs/balrog/lib/python3.7/site-packages/tqdm/std.py:648: FutureWarning: The Panel class is removed from pandas. Accessing it from the top-level namespace will also be removed in the next version\n",
      "  from pandas import Panel\n"
     ]
    }
   ],
   "source": [
    "from astropy.io import fits\n",
    "from astropy.table import Table\n",
    "import pandas as pd\n",
    "import fitsio as fio\n",
    "import numpy as np\n",
    "import ast\n",
    "import gc\n",
    "\n",
    "import astropy.cosmology\n",
    "from astropy.coordinates import SkyCoord  # High-level coordinates\n",
    "from astropy.coordinates import ICRS, Galactic, FK4, FK5  # Low-level frames\n",
    "from astropy.coordinates import Angle, Latitude, Longitude  # Angles\n",
    "import astropy.units as u\n",
    "from IPython.display import display, Math\n",
    "from tqdm.notebook import tqdm\n",
    "tqdm.pandas()"
   ]
  },
  {
   "cell_type": "code",
   "execution_count": 10,
   "metadata": {},
   "outputs": [],
   "source": [
    "#This header file contains all the common packages\n",
    "%matplotlib inline\n",
    "%run -i /home/cz136/project/sa/lib/src/header.py $shape_cat $vol $z_range \n",
    "%run -i /home/cz136/project/sa/lib/src/func.py  \n",
    "%run -i /home/cz136/project/sa/lib/src/corr_func.py\n",
    "\n",
    "members= pd.read_pickle(\"/home/cz136/project/sa/data/BPZ.pkl\") #load BPZ catalog\n",
    "red_members=pd.read_pickle(\"/home/cz136/project/sa/data/shape_BPZ.pkl\")\n",
    "red_members_index=red_members.index\n",
    "red_members=None"
   ]
  },
  {
   "cell_type": "code",
   "execution_count": 11,
   "metadata": {},
   "outputs": [
    {
     "name": "stdout",
     "output_type": "stream",
     "text": [
      "The number of total sources is 34714036\n",
      "The number of red sources is 105029\n"
     ]
    }
   ],
   "source": [
    "print(\"The number of total sources is {}\".format(len(members)))\n",
    "print(\"The number of red sources is {}\".format(len(red_members_index)))"
   ]
  },
  {
   "cell_type": "code",
   "execution_count": 12,
   "metadata": {},
   "outputs": [
    {
     "name": "stdout",
     "output_type": "stream",
     "text": [
      "[0.2  0.35 0.5  0.65]\n",
      "[  20   35   50   65 1000]\n"
     ]
    }
   ],
   "source": [
    "NBINS=10\n",
    "\n",
    "z_bins=np.arange(0.2,0.67,0.15)\n",
    "lambda_bins=np.append(np.arange(20,66,15),1000)\n",
    "\n",
    "print(z_bins)\n",
    "print(lambda_bins)"
   ]
  },
  {
   "cell_type": "code",
   "execution_count": 13,
   "metadata": {},
   "outputs": [],
   "source": [
    "woRedMask=~np.isin(members.index,red_members_index)"
   ]
  },
  {
   "cell_type": "code",
   "execution_count": 14,
   "metadata": {},
   "outputs": [
    {
     "name": "stdout",
     "output_type": "stream",
     "text": [
      "The number of sources excluding redMaPPer is 34609603\n",
      "The number of red sources being cut is 104433\n"
     ]
    }
   ],
   "source": [
    "print(\"The number of sources excluding redMaPPer is {}\".format(np.sum(woRedMask)))\n",
    "print(\"The number of red sources being cut is {}\".format(np.sum(~woRedMask)))"
   ]
  },
  {
   "cell_type": "markdown",
   "metadata": {},
   "source": [
    "# foreground background"
   ]
  },
  {
   "cell_type": "code",
   "execution_count": 15,
   "metadata": {},
   "outputs": [
    {
     "data": {
      "application/vnd.jupyter.widget-view+json": {
       "model_id": "6f89928326e54ebaa8d919a8895a9ed3",
       "version_major": 2,
       "version_minor": 0
      },
      "text/plain": [
       "HBox(children=(IntProgress(value=0, max=3), HTML(value='')))"
      ]
     },
     "metadata": {},
     "output_type": "display_data"
    },
    {
     "data": {
      "application/vnd.jupyter.widget-view+json": {
       "model_id": "bb9e7177c9f944bdbc888c2998f7f7e9",
       "version_major": 2,
       "version_minor": 0
      },
      "text/plain": [
       "HBox(children=(IntProgress(value=0, max=4), HTML(value='')))"
      ]
     },
     "metadata": {},
     "output_type": "display_data"
    },
    {
     "name": "stdout",
     "output_type": "stream",
     "text": [
      "The number of sources is 34714036\n",
      "0.06524005299307739\n",
      "155110\n",
      "Warning: NaNs found in ra column.  Skipping rows [62, 91].\n",
      "Warning: NaNs found in dec column.  Skipping rows [62, 91].\n",
      "Warning: NaNs found in r column.  Skipping rows [62, 91].\n"
     ]
    },
    {
     "name": "stderr",
     "output_type": "stream",
     "text": [
      "/home/cz136/project/sa/lib/src/corr_func.py:162: FutureWarning: \n",
      "Passing list-likes to .loc or [] with any missing label will raise\n",
      "KeyError in the future, you can use .reindex() as an alternative.\n",
      "\n",
      "See the documentation here:\n",
      "https://pandas.pydata.org/pandas-docs/stable/user_guide/indexing.html#deprecate-loc-reindex-listlike\n",
      "  centers=members.loc[center_id]\n"
     ]
    },
    {
     "name": "stdout",
     "output_type": "stream",
     "text": [
      "The number of sources is 34714036\n",
      "0.06524005299307739\n",
      "155110\n",
      "Warning: NaNs found in ra column.  Skipping rows [62, 91].\n",
      "Warning: NaNs found in dec column.  Skipping rows [62, 91].\n",
      "Warning: NaNs found in r column.  Skipping rows [62, 91].\n",
      "The number of sources is 34714036\n",
      "0.06524005299307739\n",
      "155110\n",
      "Warning: NaNs found in ra column.  Skipping rows [62, 91].\n",
      "Warning: NaNs found in dec column.  Skipping rows [62, 91].\n",
      "Warning: NaNs found in r column.  Skipping rows [62, 91].\n",
      "The number of sources is 34714036\n",
      "0.06524005299307739\n",
      "155110\n",
      "Warning: NaNs found in ra column.  Skipping rows [62, 91].\n",
      "Warning: NaNs found in dec column.  Skipping rows [62, 91].\n",
      "Warning: NaNs found in r column.  Skipping rows [62, 91].\n",
      "\n"
     ]
    },
    {
     "data": {
      "application/vnd.jupyter.widget-view+json": {
       "model_id": "1ed12099244a44ee94f6b043e792bbf8",
       "version_major": 2,
       "version_minor": 0
      },
      "text/plain": [
       "HBox(children=(IntProgress(value=0, max=4), HTML(value='')))"
      ]
     },
     "metadata": {},
     "output_type": "display_data"
    },
    {
     "name": "stdout",
     "output_type": "stream",
     "text": [
      "The number of sources is 34714036\n",
      "0.17222142903064605\n",
      "1864837\n",
      "Warning: NaNs found in ra column.  Skipping rows [60, 114, 178, 290, 320, 399, 851, 927, 973, 986, 1167, 1205, 1216, 1221, 1306, 1331, 1559, 1590].\n",
      "Warning: NaNs found in dec column.  Skipping rows [60, 114, 178, 290, 320, 399, 851, 927, 973, 986, 1167, 1205, 1216, 1221, 1306, 1331, 1559, 1590].\n",
      "Warning: NaNs found in r column.  Skipping rows [60, 114, 178, 290, 320, 399, 851, 927, 973, 986, 1167, 1205, 1216, 1221, 1306, 1331, 1559, 1590].\n",
      "The number of sources is 34714036\n",
      "0.17222142903064605\n",
      "1864837\n",
      "Warning: NaNs found in ra column.  Skipping rows [60, 114, 178, 290, 320, 399, 851, 927, 973, 986, 1167, 1205, 1216, 1221, 1306, 1331, 1559, 1590].\n",
      "Warning: NaNs found in dec column.  Skipping rows [60, 114, 178, 290, 320, 399, 851, 927, 973, 986, 1167, 1205, 1216, 1221, 1306, 1331, 1559, 1590].\n",
      "Warning: NaNs found in r column.  Skipping rows [60, 114, 178, 290, 320, 399, 851, 927, 973, 986, 1167, 1205, 1216, 1221, 1306, 1331, 1559, 1590].\n",
      "The number of sources is 34714036\n",
      "0.17222142903064605\n",
      "1864837\n",
      "Warning: NaNs found in ra column.  Skipping rows [60, 114, 178, 290, 320, 399, 851, 927, 973, 986, 1167, 1205, 1216, 1221, 1306, 1331, 1559, 1590].\n",
      "Warning: NaNs found in dec column.  Skipping rows [60, 114, 178, 290, 320, 399, 851, 927, 973, 986, 1167, 1205, 1216, 1221, 1306, 1331, 1559, 1590].\n",
      "Warning: NaNs found in r column.  Skipping rows [60, 114, 178, 290, 320, 399, 851, 927, 973, 986, 1167, 1205, 1216, 1221, 1306, 1331, 1559, 1590].\n",
      "The number of sources is 34714036\n",
      "0.17222142903064605\n",
      "1864837\n",
      "Warning: NaNs found in ra column.  Skipping rows [60, 114, 178, 290, 320, 399, 851, 927, 973, 986, 1167, 1205, 1216, 1221, 1306, 1331, 1559, 1590].\n",
      "Warning: NaNs found in dec column.  Skipping rows [60, 114, 178, 290, 320, 399, 851, 927, 973, 986, 1167, 1205, 1216, 1221, 1306, 1331, 1559, 1590].\n",
      "Warning: NaNs found in r column.  Skipping rows [60, 114, 178, 290, 320, 399, 851, 927, 973, 986, 1167, 1205, 1216, 1221, 1306, 1331, 1559, 1590].\n",
      "\n"
     ]
    },
    {
     "data": {
      "application/vnd.jupyter.widget-view+json": {
       "model_id": "007c9549a0754d20b1a6ddd27052edbf",
       "version_major": 2,
       "version_minor": 0
      },
      "text/plain": [
       "HBox(children=(IntProgress(value=0, max=4), HTML(value='')))"
      ]
     },
     "metadata": {},
     "output_type": "display_data"
    },
    {
     "name": "stdout",
     "output_type": "stream",
     "text": [
      "The number of sources is 34714036\n",
      "0.30648329208294056\n",
      "7138568\n",
      "Warning: NaNs found in ra column.  Skipping rows [63, 125, 149, 317, 617, 897, 1260, 1334, 1421, 1946].\n",
      "Warning: NaNs found in dec column.  Skipping rows [63, 125, 149, 317, 617, 897, 1260, 1334, 1421, 1946].\n",
      "Warning: NaNs found in r column.  Skipping rows [63, 125, 149, 317, 617, 897, 1260, 1334, 1421, 1946].\n",
      "The number of sources is 34714036\n",
      "0.30648329208294056\n",
      "7138568\n",
      "Warning: NaNs found in ra column.  Skipping rows [63, 125, 149, 317, 617, 897, 1260, 1334, 1421, 1946].\n",
      "Warning: NaNs found in dec column.  Skipping rows [63, 125, 149, 317, 617, 897, 1260, 1334, 1421, 1946].\n",
      "Warning: NaNs found in r column.  Skipping rows [63, 125, 149, 317, 617, 897, 1260, 1334, 1421, 1946].\n",
      "The number of sources is 34714036\n",
      "0.30648329208294056\n",
      "7138568\n",
      "Warning: NaNs found in ra column.  Skipping rows [63, 125, 149, 317, 617, 897, 1260, 1334, 1421, 1946].\n",
      "Warning: NaNs found in dec column.  Skipping rows [63, 125, 149, 317, 617, 897, 1260, 1334, 1421, 1946].\n",
      "Warning: NaNs found in r column.  Skipping rows [63, 125, 149, 317, 617, 897, 1260, 1334, 1421, 1946].\n",
      "The number of sources is 34714036\n",
      "0.30648329208294056\n",
      "7138568\n",
      "Warning: NaNs found in ra column.  Skipping rows [63, 125, 149, 317, 617, 897, 1260, 1334, 1421, 1946].\n",
      "Warning: NaNs found in dec column.  Skipping rows [63, 125, 149, 317, 617, 897, 1260, 1334, 1421, 1946].\n",
      "Warning: NaNs found in r column.  Skipping rows [63, 125, 149, 317, 617, 897, 1260, 1334, 1421, 1946].\n",
      "\n",
      "\n"
     ]
    }
   ],
   "source": [
    "ng_matrix_fore=[[None for i in range(4)] for j in range(3)]\n",
    "\n",
    "for i in trange(3):\n",
    "    for j in trange(4):\n",
    "        ng=get_ng_source(clusters,members,z_bins[i],z_bins[i+1],lambda_bins[j],lambda_bins[j+1],foreback=\"fore\")\n",
    "        ng_values=np.copy(np.array([ng.meanlogr,ng.xi,ng.varxi]))\n",
    "        ng_matrix_fore[i][j]=ng_values\n",
    "        del ng\n",
    "        gc.collect()"
   ]
  },
  {
   "cell_type": "code",
   "execution_count": 19,
   "metadata": {},
   "outputs": [
    {
     "name": "stdout",
     "output_type": "stream",
     "text": [
      "(0, 0) [ 2.46936686e-02 -5.38825536e-03 -3.66437153e-03 -3.45743361e-04\n",
      " -8.34312457e-04 -1.50196588e-03 -2.60818737e-04 -2.43558122e-05\n",
      "  5.13391084e-04 -1.97320780e-04]\n",
      "(0, 1) [ 2.46936686e-02 -5.38825536e-03 -3.66437153e-03 -3.45743361e-04\n",
      " -8.34312457e-04 -1.50196588e-03 -2.60818737e-04 -2.43558122e-05\n",
      "  5.13391084e-04 -1.97320780e-04]\n",
      "(0, 2) [ 2.46936686e-02 -5.38825536e-03 -3.66437153e-03 -3.45743361e-04\n",
      " -8.34312457e-04 -1.50196588e-03 -2.60818737e-04 -2.43558122e-05\n",
      "  5.13391084e-04 -1.97320780e-04]\n",
      "(0, 3) [ 2.46936686e-02 -5.38825536e-03 -3.66437153e-03 -3.45743361e-04\n",
      " -8.34312457e-04 -1.50196588e-03 -2.60818737e-04 -2.43558122e-05\n",
      "  5.13391084e-04 -1.97320780e-04]\n",
      "(1, 0) [ 3.33220602e-03 -4.49528198e-04  5.66522608e-03  9.55725743e-04\n",
      "  1.49649886e-04  2.44012426e-04  2.54400420e-04 -3.36499597e-04\n",
      "  8.07259090e-05 -2.35081414e-04]\n",
      "(1, 1) [ 3.33220602e-03 -4.49528198e-04  5.66522608e-03  9.55725743e-04\n",
      "  1.49649886e-04  2.44012426e-04  2.54400420e-04 -3.36499597e-04\n",
      "  8.07259090e-05 -2.35081414e-04]\n",
      "(1, 2) [ 3.33220602e-03 -4.49528198e-04  5.66522608e-03  9.55725743e-04\n",
      "  1.49649886e-04  2.44012426e-04  2.54400420e-04 -3.36499597e-04\n",
      "  8.07259090e-05 -2.35081414e-04]\n",
      "(1, 3) [ 3.33220602e-03 -4.49528198e-04  5.66522608e-03  9.55725743e-04\n",
      "  1.49649886e-04  2.44012426e-04  2.54400420e-04 -3.36499597e-04\n",
      "  8.07259090e-05 -2.35081414e-04]\n",
      "(2, 0) [ 5.86505296e-03  4.46776808e-04  1.17461571e-04  4.12896744e-04\n",
      "  1.08796582e-04 -3.43087715e-04  2.07490507e-04  1.82459895e-04\n",
      "  9.89104088e-06 -8.83735934e-05]\n",
      "(2, 1) [ 5.86505296e-03  4.46776808e-04  1.17461571e-04  4.12896744e-04\n",
      "  1.08796582e-04 -3.43087715e-04  2.07490507e-04  1.82459895e-04\n",
      "  9.89104088e-06 -8.83735934e-05]\n",
      "(2, 2) [ 5.86505296e-03  4.46776808e-04  1.17461571e-04  4.12896744e-04\n",
      "  1.08796582e-04 -3.43087715e-04  2.07490507e-04  1.82459895e-04\n",
      "  9.89104088e-06 -8.83735934e-05]\n",
      "(2, 3) [ 5.86505296e-03  4.46776808e-04  1.17461571e-04  4.12896744e-04\n",
      "  1.08796582e-04 -3.43087715e-04  2.07490507e-04  1.82459895e-04\n",
      "  9.89104088e-06 -8.83735934e-05]\n"
     ]
    },
    {
     "data": {
      "image/png": "[encoded data removed]",
      "text/plain": [
       "<Figure size 1440x1080 with 12 Axes>"
      ]
     },
     "metadata": {},
     "output_type": "display_data"
    }
   ],
   "source": [
    "fig, axs = plt.subplots(3, 4,figsize=(20,15))\n",
    "for i in range(3):\n",
    "    for j in range(4):\n",
    "        values=ng_matrix_fore[i][j]\n",
    "        print((i,j),values[1])\n",
    "        axs[i,j].plot(np.exp(values[0]),values[1])\n",
    "        axs[i,j].set_xscale('log')\n",
    "        axs[i,j].set_yscale('log')"
   ]
  },
  {
   "cell_type": "code",
   "execution_count": 17,
   "metadata": {},
   "outputs": [
    {
     "data": {
      "application/vnd.jupyter.widget-view+json": {
       "model_id": "4676469d8e4d4cb1848d5edfcd6be2e8",
       "version_major": 2,
       "version_minor": 0
      },
      "text/plain": [
       "HBox(children=(IntProgress(value=0, max=3), HTML(value='')))"
      ]
     },
     "metadata": {},
     "output_type": "display_data"
    },
    {
     "data": {
      "application/vnd.jupyter.widget-view+json": {
       "model_id": "6daddcaae5b046bab097811bc1cf583f",
       "version_major": 2,
       "version_minor": 0
      },
      "text/plain": [
       "HBox(children=(IntProgress(value=0, max=4), HTML(value='')))"
      ]
     },
     "metadata": {},
     "output_type": "display_data"
    },
    {
     "name": "stdout",
     "output_type": "stream",
     "text": [
      "The number of sources is 34714036\n"
     ]
    },
    {
     "name": "stderr",
     "output_type": "stream",
     "text": [
      "/home/cz136/project/sa/lib/src/corr_func.py:162: FutureWarning: \n",
      "Passing list-likes to .loc or [] with any missing label will raise\n",
      "KeyError in the future, you can use .reindex() as an alternative.\n",
      "\n",
      "See the documentation here:\n",
      "https://pandas.pydata.org/pandas-docs/stable/user_guide/indexing.html#deprecate-loc-reindex-listlike\n",
      "  centers=members.loc[center_id]\n"
     ]
    },
    {
     "name": "stdout",
     "output_type": "stream",
     "text": [
      "Warning: NaNs found in ra column.  Skipping rows [62, 91].\n",
      "Warning: NaNs found in dec column.  Skipping rows [62, 91].\n",
      "Warning: NaNs found in r column.  Skipping rows [62, 91].\n"
     ]
    },
    {
     "ename": "KeyboardInterrupt",
     "evalue": "",
     "output_type": "error",
     "traceback": [
      "\u001b[0;31m---------------------------------------------------------------------------\u001b[0m",
      "\u001b[0;31mKeyboardInterrupt\u001b[0m                         Traceback (most recent call last)",
      "\u001b[0;32m~/project/sa/lib/src/corr_func.py\u001b[0m in \u001b[0;36m<module>\u001b[0;34m\u001b[0m\n\u001b[1;32m      3\u001b[0m \u001b[0;32mfor\u001b[0m \u001b[0mi\u001b[0m \u001b[0;32min\u001b[0m \u001b[0mtrange\u001b[0m\u001b[0;34m(\u001b[0m\u001b[0;36m3\u001b[0m\u001b[0;34m)\u001b[0m\u001b[0;34m:\u001b[0m\u001b[0;34m\u001b[0m\u001b[0;34m\u001b[0m\u001b[0m\n\u001b[1;32m      4\u001b[0m     \u001b[0;32mfor\u001b[0m \u001b[0mj\u001b[0m \u001b[0;32min\u001b[0m \u001b[0mtrange\u001b[0m\u001b[0;34m(\u001b[0m\u001b[0;36m4\u001b[0m\u001b[0;34m)\u001b[0m\u001b[0;34m:\u001b[0m\u001b[0;34m\u001b[0m\u001b[0;34m\u001b[0m\u001b[0m\n\u001b[0;32m----> 5\u001b[0;31m         \u001b[0mng\u001b[0m\u001b[0;34m=\u001b[0m\u001b[0mget_ng_source\u001b[0m\u001b[0;34m(\u001b[0m\u001b[0mclusters\u001b[0m\u001b[0;34m,\u001b[0m\u001b[0mmembers\u001b[0m\u001b[0;34m,\u001b[0m\u001b[0mz_bins\u001b[0m\u001b[0;34m[\u001b[0m\u001b[0mi\u001b[0m\u001b[0;34m]\u001b[0m\u001b[0;34m,\u001b[0m\u001b[0mz_bins\u001b[0m\u001b[0;34m[\u001b[0m\u001b[0mi\u001b[0m\u001b[0;34m+\u001b[0m\u001b[0;36m1\u001b[0m\u001b[0;34m]\u001b[0m\u001b[0;34m,\u001b[0m\u001b[0mlambda_bins\u001b[0m\u001b[0;34m[\u001b[0m\u001b[0mj\u001b[0m\u001b[0;34m]\u001b[0m\u001b[0;34m,\u001b[0m\u001b[0mlambda_bins\u001b[0m\u001b[0;34m[\u001b[0m\u001b[0mj\u001b[0m\u001b[0;34m+\u001b[0m\u001b[0;36m1\u001b[0m\u001b[0;34m]\u001b[0m\u001b[0;34m,\u001b[0m\u001b[0mforeback\u001b[0m\u001b[0;34m=\u001b[0m\u001b[0;34m\"\"\u001b[0m\u001b[0;34m)\u001b[0m\u001b[0;34m\u001b[0m\u001b[0;34m\u001b[0m\u001b[0m\n\u001b[0m\u001b[1;32m      6\u001b[0m         \u001b[0mng_values\u001b[0m\u001b[0;34m=\u001b[0m\u001b[0mnp\u001b[0m\u001b[0;34m.\u001b[0m\u001b[0mcopy\u001b[0m\u001b[0;34m(\u001b[0m\u001b[0mnp\u001b[0m\u001b[0;34m.\u001b[0m\u001b[0marray\u001b[0m\u001b[0;34m(\u001b[0m\u001b[0;34m[\u001b[0m\u001b[0mng\u001b[0m\u001b[0;34m.\u001b[0m\u001b[0mmeanlogr\u001b[0m\u001b[0;34m,\u001b[0m\u001b[0mng\u001b[0m\u001b[0;34m.\u001b[0m\u001b[0mxi\u001b[0m\u001b[0;34m,\u001b[0m\u001b[0mng\u001b[0m\u001b[0;34m.\u001b[0m\u001b[0mvarxi\u001b[0m\u001b[0;34m]\u001b[0m\u001b[0;34m)\u001b[0m\u001b[0;34m)\u001b[0m\u001b[0;34m\u001b[0m\u001b[0;34m\u001b[0m\u001b[0m\n\u001b[1;32m      7\u001b[0m         \u001b[0mng_matrix_back\u001b[0m\u001b[0;34m[\u001b[0m\u001b[0mi\u001b[0m\u001b[0;34m]\u001b[0m\u001b[0;34m[\u001b[0m\u001b[0mj\u001b[0m\u001b[0;34m]\u001b[0m\u001b[0;34m=\u001b[0m\u001b[0mng_values\u001b[0m\u001b[0;34m\u001b[0m\u001b[0;34m\u001b[0m\u001b[0m\n",
      "\u001b[0;32m~/project/sa/lib/src/corr_func.py\u001b[0m in \u001b[0;36mget_ng_source\u001b[0;34m(clusters, sources, z_lower, z_upper, lambda_lower, lambda_upper, foreback, woRed)\u001b[0m\n\u001b[1;32m    250\u001b[0m     ng = treecorr.NGCorrelation(nbins=NBINS, min_sep=MINSEP, max_sep=UPPER_BOUND, bin_slop=BINSLOP,\n\u001b[1;32m    251\u001b[0m                                metric=\"Rperp\")\n\u001b[0;32m--> 252\u001b[0;31m     \u001b[0mng\u001b[0m\u001b[0;34m.\u001b[0m\u001b[0mprocess\u001b[0m\u001b[0;34m(\u001b[0m\u001b[0mcen_cat\u001b[0m\u001b[0;34m,\u001b[0m\u001b[0msats_cat\u001b[0m\u001b[0;34m)\u001b[0m\u001b[0;34m\u001b[0m\u001b[0;34m\u001b[0m\u001b[0m\n\u001b[0m\u001b[1;32m    253\u001b[0m \u001b[0;34m\u001b[0m\u001b[0m\n\u001b[1;32m    254\u001b[0m     \u001b[0;32mreturn\u001b[0m\u001b[0;34m(\u001b[0m\u001b[0mng\u001b[0m\u001b[0;34m)\u001b[0m\u001b[0;34m\u001b[0m\u001b[0;34m\u001b[0m\u001b[0m\n",
      "\u001b[0;32m~/anaconda3/envs/balrog/lib/python3.7/site-packages/treecorr/ngcorrelation.py\u001b[0m in \u001b[0;36mprocess\u001b[0;34m(self, cat1, cat2, metric, num_threads)\u001b[0m\n\u001b[1;32m    316\u001b[0m         \u001b[0mvarg\u001b[0m \u001b[0;34m=\u001b[0m \u001b[0mtreecorr\u001b[0m\u001b[0;34m.\u001b[0m\u001b[0mcalculateVarG\u001b[0m\u001b[0;34m(\u001b[0m\u001b[0mcat2\u001b[0m\u001b[0;34m)\u001b[0m\u001b[0;34m\u001b[0m\u001b[0;34m\u001b[0m\u001b[0m\n\u001b[1;32m    317\u001b[0m         \u001b[0mself\u001b[0m\u001b[0;34m.\u001b[0m\u001b[0mlogger\u001b[0m\u001b[0;34m.\u001b[0m\u001b[0minfo\u001b[0m\u001b[0;34m(\u001b[0m\u001b[0;34m\"varg = %f: sig_sn (per component) = %f\"\u001b[0m\u001b[0;34m,\u001b[0m\u001b[0mvarg\u001b[0m\u001b[0;34m,\u001b[0m\u001b[0mmath\u001b[0m\u001b[0;34m.\u001b[0m\u001b[0msqrt\u001b[0m\u001b[0;34m(\u001b[0m\u001b[0mvarg\u001b[0m\u001b[0;34m)\u001b[0m\u001b[0;34m)\u001b[0m\u001b[0;34m\u001b[0m\u001b[0;34m\u001b[0m\u001b[0m\n\u001b[0;32m--> 318\u001b[0;31m         \u001b[0mself\u001b[0m\u001b[0;34m.\u001b[0m\u001b[0m_process_all_cross\u001b[0m\u001b[0;34m(\u001b[0m\u001b[0mcat1\u001b[0m\u001b[0;34m,\u001b[0m\u001b[0mcat2\u001b[0m\u001b[0;34m,\u001b[0m\u001b[0mmetric\u001b[0m\u001b[0;34m,\u001b[0m\u001b[0mnum_threads\u001b[0m\u001b[0;34m)\u001b[0m\u001b[0;34m\u001b[0m\u001b[0;34m\u001b[0m\u001b[0m\n\u001b[0m\u001b[1;32m    319\u001b[0m         \u001b[0mself\u001b[0m\u001b[0;34m.\u001b[0m\u001b[0mfinalize\u001b[0m\u001b[0;34m(\u001b[0m\u001b[0mvarg\u001b[0m\u001b[0;34m)\u001b[0m\u001b[0;34m\u001b[0m\u001b[0;34m\u001b[0m\u001b[0m\n\u001b[1;32m    320\u001b[0m \u001b[0;34m\u001b[0m\u001b[0m\n",
      "\u001b[0;32m~/anaconda3/envs/balrog/lib/python3.7/site-packages/treecorr/binnedcorr2.py\u001b[0m in \u001b[0;36m_process_all_cross\u001b[0;34m(self, cat1, cat2, metric, num_threads)\u001b[0m\n\u001b[1;32m    452\u001b[0m             \u001b[0;32mfor\u001b[0m \u001b[0mc1\u001b[0m \u001b[0;32min\u001b[0m \u001b[0mcat1\u001b[0m\u001b[0;34m:\u001b[0m\u001b[0;34m\u001b[0m\u001b[0;34m\u001b[0m\u001b[0m\n\u001b[1;32m    453\u001b[0m                 \u001b[0;32mfor\u001b[0m \u001b[0mc2\u001b[0m \u001b[0;32min\u001b[0m \u001b[0mcat2\u001b[0m\u001b[0;34m:\u001b[0m\u001b[0;34m\u001b[0m\u001b[0;34m\u001b[0m\u001b[0m\n\u001b[0;32m--> 454\u001b[0;31m                     \u001b[0mself\u001b[0m\u001b[0;34m.\u001b[0m\u001b[0mprocess_cross\u001b[0m\u001b[0;34m(\u001b[0m\u001b[0mc1\u001b[0m\u001b[0;34m,\u001b[0m\u001b[0mc2\u001b[0m\u001b[0;34m,\u001b[0m\u001b[0mmetric\u001b[0m\u001b[0;34m,\u001b[0m\u001b[0mnum_threads\u001b[0m\u001b[0;34m)\u001b[0m\u001b[0;34m\u001b[0m\u001b[0;34m\u001b[0m\u001b[0m\n\u001b[0m\u001b[1;32m    455\u001b[0m \u001b[0;34m\u001b[0m\u001b[0m\n\u001b[1;32m    456\u001b[0m     \u001b[0;32mdef\u001b[0m \u001b[0m_set_num_threads\u001b[0m\u001b[0;34m(\u001b[0m\u001b[0mself\u001b[0m\u001b[0;34m,\u001b[0m \u001b[0mnum_threads\u001b[0m\u001b[0;34m)\u001b[0m\u001b[0;34m:\u001b[0m\u001b[0;34m\u001b[0m\u001b[0;34m\u001b[0m\u001b[0m\n",
      "\u001b[0;32m~/anaconda3/envs/balrog/lib/python3.7/site-packages/treecorr/ngcorrelation.py\u001b[0m in \u001b[0;36mprocess_cross\u001b[0;34m(self, cat1, cat2, metric, num_threads)\u001b[0m\n\u001b[1;32m    185\u001b[0m         f2 = cat2.getGField(min_size, max_size, self.split_method,\n\u001b[1;32m    186\u001b[0m                             \u001b[0mself\u001b[0m\u001b[0;34m.\u001b[0m\u001b[0mbrute\u001b[0m \u001b[0;32mis\u001b[0m \u001b[0;32mTrue\u001b[0m \u001b[0;32mor\u001b[0m \u001b[0mself\u001b[0m\u001b[0;34m.\u001b[0m\u001b[0mbrute\u001b[0m \u001b[0;32mis\u001b[0m \u001b[0;36m2\u001b[0m\u001b[0;34m,\u001b[0m\u001b[0;34m\u001b[0m\u001b[0;34m\u001b[0m\u001b[0m\n\u001b[0;32m--> 187\u001b[0;31m                             self.min_top, self.max_top, self.coords)\n\u001b[0m\u001b[1;32m    188\u001b[0m \u001b[0;34m\u001b[0m\u001b[0m\n\u001b[1;32m    189\u001b[0m         \u001b[0mself\u001b[0m\u001b[0;34m.\u001b[0m\u001b[0mlogger\u001b[0m\u001b[0;34m.\u001b[0m\u001b[0minfo\u001b[0m\u001b[0;34m(\u001b[0m\u001b[0;34m'Starting %d jobs.'\u001b[0m\u001b[0;34m,\u001b[0m\u001b[0mf1\u001b[0m\u001b[0;34m.\u001b[0m\u001b[0mnTopLevelNodes\u001b[0m\u001b[0;34m)\u001b[0m\u001b[0;34m\u001b[0m\u001b[0;34m\u001b[0m\u001b[0m\n",
      "\u001b[0;32m~/anaconda3/envs/balrog/lib/python3.7/site-packages/treecorr/catalog.py\u001b[0m in \u001b[0;36mgetGField\u001b[0;34m(self, min_size, max_size, split_method, brute, min_top, max_top, coords, logger)\u001b[0m\n\u001b[1;32m   1233\u001b[0m             \u001b[0mlogger\u001b[0m \u001b[0;34m=\u001b[0m \u001b[0mself\u001b[0m\u001b[0;34m.\u001b[0m\u001b[0mlogger\u001b[0m\u001b[0;34m\u001b[0m\u001b[0;34m\u001b[0m\u001b[0m\n\u001b[1;32m   1234\u001b[0m         field = self.gfields(min_size, max_size, split_method, brute, min_top, max_top, coords,\n\u001b[0;32m-> 1235\u001b[0;31m                              logger=logger)\n\u001b[0m\u001b[1;32m   1236\u001b[0m         \u001b[0mself\u001b[0m\u001b[0;34m.\u001b[0m\u001b[0m_field\u001b[0m \u001b[0;34m=\u001b[0m \u001b[0mweakref\u001b[0m\u001b[0;34m.\u001b[0m\u001b[0mref\u001b[0m\u001b[0;34m(\u001b[0m\u001b[0mfield\u001b[0m\u001b[0;34m)\u001b[0m\u001b[0;34m\u001b[0m\u001b[0;34m\u001b[0m\u001b[0m\n\u001b[1;32m   1237\u001b[0m         \u001b[0;32mreturn\u001b[0m \u001b[0mfield\u001b[0m\u001b[0;34m\u001b[0m\u001b[0;34m\u001b[0m\u001b[0m\n",
      "\u001b[0;32m~/anaconda3/envs/balrog/lib/python3.7/site-packages/treecorr/util.py\u001b[0m in \u001b[0;36m__call__\u001b[0;34m(self, *key, **kwargs)\u001b[0m\n\u001b[1;32m    230\u001b[0m         \u001b[0;31m# Cache miss: evaluate and insert new key/value at root, then increment root\u001b[0m\u001b[0;34m\u001b[0m\u001b[0;34m\u001b[0m\u001b[0;34m\u001b[0m\u001b[0m\n\u001b[1;32m    231\u001b[0m         \u001b[0;31m#             so that just-evaluated value is in last position.\u001b[0m\u001b[0;34m\u001b[0m\u001b[0;34m\u001b[0m\u001b[0;34m\u001b[0m\u001b[0m\n\u001b[0;32m--> 232\u001b[0;31m         \u001b[0mresult\u001b[0m \u001b[0;34m=\u001b[0m \u001b[0mself\u001b[0m\u001b[0;34m.\u001b[0m\u001b[0muser_function\u001b[0m\u001b[0;34m(\u001b[0m\u001b[0;34m*\u001b[0m\u001b[0mkey\u001b[0m\u001b[0;34m,\u001b[0m \u001b[0;34m**\u001b[0m\u001b[0mkwargs\u001b[0m\u001b[0;34m)\u001b[0m\u001b[0;34m\u001b[0m\u001b[0;34m\u001b[0m\u001b[0m\n\u001b[0m\u001b[1;32m    233\u001b[0m         \u001b[0mself\u001b[0m\u001b[0;34m.\u001b[0m\u001b[0mroot\u001b[0m\u001b[0;34m[\u001b[0m\u001b[0;36m2\u001b[0m\u001b[0;34m]\u001b[0m \u001b[0;34m=\u001b[0m \u001b[0mkey\u001b[0m\u001b[0;34m\u001b[0m\u001b[0;34m\u001b[0m\u001b[0m\n\u001b[1;32m    234\u001b[0m         \u001b[0mself\u001b[0m\u001b[0;34m.\u001b[0m\u001b[0mroot\u001b[0m\u001b[0;34m[\u001b[0m\u001b[0;36m3\u001b[0m\u001b[0;34m]\u001b[0m \u001b[0;34m=\u001b[0m \u001b[0mresult\u001b[0m\u001b[0;34m\u001b[0m\u001b[0;34m\u001b[0m\u001b[0m\n",
      "\u001b[0;32m~/anaconda3/envs/balrog/lib/python3.7/site-packages/treecorr/catalog.py\u001b[0m in \u001b[0;36mget_gfield\u001b[0;34m(*args, **kwargs)\u001b[0m\n\u001b[1;32m   1020\u001b[0m         \u001b[0;32mdef\u001b[0m \u001b[0mget_nfield\u001b[0m\u001b[0;34m(\u001b[0m\u001b[0;34m*\u001b[0m\u001b[0margs\u001b[0m\u001b[0;34m,\u001b[0m \u001b[0;34m**\u001b[0m\u001b[0mkwargs\u001b[0m\u001b[0;34m)\u001b[0m\u001b[0;34m:\u001b[0m \u001b[0;32mreturn\u001b[0m \u001b[0mtreecorr\u001b[0m\u001b[0;34m.\u001b[0m\u001b[0mNField\u001b[0m\u001b[0;34m(\u001b[0m\u001b[0mself\u001b[0m\u001b[0;34m,\u001b[0m \u001b[0;34m*\u001b[0m\u001b[0margs\u001b[0m\u001b[0;34m,\u001b[0m \u001b[0;34m**\u001b[0m\u001b[0mkwargs\u001b[0m\u001b[0;34m)\u001b[0m\u001b[0;34m\u001b[0m\u001b[0;34m\u001b[0m\u001b[0m\n\u001b[1;32m   1021\u001b[0m         \u001b[0;32mdef\u001b[0m \u001b[0mget_kfield\u001b[0m\u001b[0;34m(\u001b[0m\u001b[0;34m*\u001b[0m\u001b[0margs\u001b[0m\u001b[0;34m,\u001b[0m \u001b[0;34m**\u001b[0m\u001b[0mkwargs\u001b[0m\u001b[0;34m)\u001b[0m\u001b[0;34m:\u001b[0m \u001b[0;32mreturn\u001b[0m \u001b[0mtreecorr\u001b[0m\u001b[0;34m.\u001b[0m\u001b[0mKField\u001b[0m\u001b[0;34m(\u001b[0m\u001b[0mself\u001b[0m\u001b[0;34m,\u001b[0m \u001b[0;34m*\u001b[0m\u001b[0margs\u001b[0m\u001b[0;34m,\u001b[0m \u001b[0;34m**\u001b[0m\u001b[0mkwargs\u001b[0m\u001b[0;34m)\u001b[0m\u001b[0;34m\u001b[0m\u001b[0;34m\u001b[0m\u001b[0m\n\u001b[0;32m-> 1022\u001b[0;31m         \u001b[0;32mdef\u001b[0m \u001b[0mget_gfield\u001b[0m\u001b[0;34m(\u001b[0m\u001b[0;34m*\u001b[0m\u001b[0margs\u001b[0m\u001b[0;34m,\u001b[0m \u001b[0;34m**\u001b[0m\u001b[0mkwargs\u001b[0m\u001b[0;34m)\u001b[0m\u001b[0;34m:\u001b[0m \u001b[0;32mreturn\u001b[0m \u001b[0mtreecorr\u001b[0m\u001b[0;34m.\u001b[0m\u001b[0mGField\u001b[0m\u001b[0;34m(\u001b[0m\u001b[0mself\u001b[0m\u001b[0;34m,\u001b[0m \u001b[0;34m*\u001b[0m\u001b[0margs\u001b[0m\u001b[0;34m,\u001b[0m \u001b[0;34m**\u001b[0m\u001b[0mkwargs\u001b[0m\u001b[0;34m)\u001b[0m\u001b[0;34m\u001b[0m\u001b[0;34m\u001b[0m\u001b[0m\n\u001b[0m\u001b[1;32m   1023\u001b[0m         \u001b[0;32mdef\u001b[0m \u001b[0mget_nsimplefield\u001b[0m\u001b[0;34m(\u001b[0m\u001b[0;34m*\u001b[0m\u001b[0margs\u001b[0m\u001b[0;34m,\u001b[0m \u001b[0;34m**\u001b[0m\u001b[0mkwargs\u001b[0m\u001b[0;34m)\u001b[0m\u001b[0;34m:\u001b[0m \u001b[0;32mreturn\u001b[0m \u001b[0mtreecorr\u001b[0m\u001b[0;34m.\u001b[0m\u001b[0mNSimpleField\u001b[0m\u001b[0;34m(\u001b[0m\u001b[0mself\u001b[0m\u001b[0;34m,\u001b[0m \u001b[0;34m*\u001b[0m\u001b[0margs\u001b[0m\u001b[0;34m,\u001b[0m \u001b[0;34m**\u001b[0m\u001b[0mkwargs\u001b[0m\u001b[0;34m)\u001b[0m\u001b[0;34m\u001b[0m\u001b[0;34m\u001b[0m\u001b[0m\n\u001b[1;32m   1024\u001b[0m         \u001b[0;32mdef\u001b[0m \u001b[0mget_ksimplefield\u001b[0m\u001b[0;34m(\u001b[0m\u001b[0;34m*\u001b[0m\u001b[0margs\u001b[0m\u001b[0;34m,\u001b[0m \u001b[0;34m**\u001b[0m\u001b[0mkwargs\u001b[0m\u001b[0;34m)\u001b[0m\u001b[0;34m:\u001b[0m \u001b[0;32mreturn\u001b[0m \u001b[0mtreecorr\u001b[0m\u001b[0;34m.\u001b[0m\u001b[0mKSimpleField\u001b[0m\u001b[0;34m(\u001b[0m\u001b[0mself\u001b[0m\u001b[0;34m,\u001b[0m \u001b[0;34m*\u001b[0m\u001b[0margs\u001b[0m\u001b[0;34m,\u001b[0m \u001b[0;34m**\u001b[0m\u001b[0mkwargs\u001b[0m\u001b[0;34m)\u001b[0m\u001b[0;34m\u001b[0m\u001b[0;34m\u001b[0m\u001b[0m\n",
      "\u001b[0;32m~/anaconda3/envs/balrog/lib/python3.7/site-packages/treecorr/field.py\u001b[0m in \u001b[0;36m__init__\u001b[0;34m(self, cat, min_size, max_size, split_method, brute, min_top, max_top, coords, logger)\u001b[0m\n\u001b[1;32m    417\u001b[0m                                               \u001b[0mdp\u001b[0m\u001b[0;34m(\u001b[0m\u001b[0mcat\u001b[0m\u001b[0;34m.\u001b[0m\u001b[0mw\u001b[0m\u001b[0;34m)\u001b[0m\u001b[0;34m,\u001b[0m \u001b[0mdp\u001b[0m\u001b[0;34m(\u001b[0m\u001b[0mcat\u001b[0m\u001b[0;34m.\u001b[0m\u001b[0mwpos\u001b[0m\u001b[0;34m)\u001b[0m\u001b[0;34m,\u001b[0m \u001b[0mcat\u001b[0m\u001b[0;34m.\u001b[0m\u001b[0mntot\u001b[0m\u001b[0;34m,\u001b[0m\u001b[0;34m\u001b[0m\u001b[0;34m\u001b[0m\u001b[0m\n\u001b[1;32m    418\u001b[0m                                               \u001b[0mself\u001b[0m\u001b[0;34m.\u001b[0m\u001b[0mmin_size\u001b[0m\u001b[0;34m,\u001b[0m \u001b[0mself\u001b[0m\u001b[0;34m.\u001b[0m\u001b[0mmax_size\u001b[0m\u001b[0;34m,\u001b[0m \u001b[0mself\u001b[0m\u001b[0;34m.\u001b[0m\u001b[0m_sm\u001b[0m\u001b[0;34m,\u001b[0m\u001b[0;34m\u001b[0m\u001b[0;34m\u001b[0m\u001b[0m\n\u001b[0;32m--> 419\u001b[0;31m                                               self.brute, self.min_top, self.max_top, self._coords)\n\u001b[0m\u001b[1;32m    420\u001b[0m         \u001b[0;32mif\u001b[0m \u001b[0mlogger\u001b[0m\u001b[0;34m:\u001b[0m\u001b[0;34m\u001b[0m\u001b[0;34m\u001b[0m\u001b[0m\n\u001b[1;32m    421\u001b[0m             \u001b[0mlogger\u001b[0m\u001b[0;34m.\u001b[0m\u001b[0mdebug\u001b[0m\u001b[0;34m(\u001b[0m\u001b[0;34m'Finished building GField (%s)'\u001b[0m\u001b[0;34m,\u001b[0m\u001b[0mself\u001b[0m\u001b[0;34m.\u001b[0m\u001b[0mcoords\u001b[0m\u001b[0;34m)\u001b[0m\u001b[0;34m\u001b[0m\u001b[0;34m\u001b[0m\u001b[0m\n",
      "\u001b[0;31mKeyboardInterrupt\u001b[0m: "
     ]
    }
   ],
   "source": [
    "ng_matrix_back=[[None for i in range(4)] for j in range(3)]\n",
    "\n",
    "for i in trange(3):\n",
    "    for j in trange(4):\n",
    "        ng=get_ng_source(clusters,members,z_bins[i],z_bins[i+1],lambda_bins[j],lambda_bins[j+1],foreback=\"\")\n",
    "        ng_values=np.copy(np.array([ng.meanlogr,ng.xi,ng.varxi]))\n",
    "        ng_matrix_back[i][j]=ng_values\n",
    "        del ng\n",
    "        gc.collect()"
   ]
  },
  {
   "cell_type": "code",
   "execution_count": null,
   "metadata": {},
   "outputs": [],
   "source": [
    "fig, axs = plt.subplots(3, 4,figsize=(20,15))\n",
    "for i in range(3):\n",
    "    for j in range(4):\n",
    "        values=ng_matrix_fore[i][j]\n",
    "        print((i,j),values[0])\n",
    "        axs[i,j].plot(np.exp(values[0]),values[1])\n",
    "        axs[i,j].set_xscale('log')\n",
    "        axs[i,j].set_yscale('log')"
   ]
  }
 ],
 "metadata": {
  "kernelspec": {
   "display_name": "Python 3",
   "language": "python",
   "name": "python3"
  },
  "language_info": {
   "codemirror_mode": {
    "name": "ipython",
    "version": 3
   },
   "file_extension": ".py",
   "mimetype": "text/x-python",
   "name": "python",
   "nbconvert_exporter": "python",
   "pygments_lexer": "ipython3",
   "version": "3.7.3"
  }
 },
 "nbformat": 4,
 "nbformat_minor": 4
}
