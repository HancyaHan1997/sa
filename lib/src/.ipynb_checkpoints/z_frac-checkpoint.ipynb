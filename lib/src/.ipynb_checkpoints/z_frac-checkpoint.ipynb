{
 "cells": [
  {
   "cell_type": "code",
   "execution_count": 1,
   "metadata": {
    "tags": [
     "parameters"
    ]
   },
   "outputs": [],
   "source": [
    "shape_cat=\"mcal\"\n",
    "vol=\"vlim\"\n",
    "z_range=\"all_z\"\n",
    "key=\"\"\n",
    "quantile=\"\"\n",
    "test=\"\"\n",
    "z_diff=\"\""
   ]
  },
  {
   "cell_type": "code",
   "execution_count": 2,
   "metadata": {},
   "outputs": [
    {
     "name": "stderr",
     "output_type": "stream",
     "text": [
      "/home/cz136/anaconda3/envs/balrog/lib/python3.7/site-packages/tqdm/std.py:648: FutureWarning: The Panel class is removed from pandas. Accessing it from the top-level namespace will also be removed in the next version\n",
      "  from pandas import Panel\n"
     ]
    }
   ],
   "source": [
    "from astropy.io import fits\n",
    "from astropy.table import Table\n",
    "import pandas as pd\n",
    "import fitsio as fio\n",
    "import numpy as np\n",
    "import ast\n",
    "\n",
    "import astropy.cosmology\n",
    "from astropy.coordinates import SkyCoord  # High-level coordinates\n",
    "from astropy.coordinates import ICRS, Galactic, FK4, FK5  # Low-level frames\n",
    "from astropy.coordinates import Angle, Latitude, Longitude  # Angles\n",
    "import astropy.units as u\n",
    "from IPython.display import display, Math\n",
    "from tqdm.notebook import tqdm\n",
    "tqdm.pandas()"
   ]
  },
  {
   "cell_type": "code",
   "execution_count": 3,
   "metadata": {},
   "outputs": [],
   "source": [
    "#This header file contains all the common packages\n",
    "%matplotlib inline\n",
    "%run /home/cz136/project/sa/lib/src/header.py $shape_cat $vol $z_range \n",
    "%run -i /home/cz136/project/sa/lib/src/func.py  "
   ]
  },
  {
   "cell_type": "code",
   "execution_count": 4,
   "metadata": {},
   "outputs": [],
   "source": [
    "mcal = fio.FITS('/lsst/troxel/y1a1/mcal-y1a1-combined-riz-unblind-v4-matched.fits',memmap=True,mode='r')[1]\n",
    "mcal_id=mcal['coadd_objects_id'][:] "
   ]
  },
  {
   "cell_type": "code",
   "execution_count": 5,
   "metadata": {},
   "outputs": [
    {
     "data": {
      "text/plain": [
       "['coadd_objects_id',\n",
       " 'flags',\n",
       " 'mask_frac',\n",
       " 'psf_e1',\n",
       " 'psf_e2',\n",
       " 'psf_size',\n",
       " 'mcal_psf_e1',\n",
       " 'mcal_psf_e2',\n",
       " 'mcal_psf_size',\n",
       " 'e1',\n",
       " 'e1_1p',\n",
       " 'e1_1m',\n",
       " 'e1_2p',\n",
       " 'e1_2m',\n",
       " 'e2',\n",
       " 'e2_1p',\n",
       " 'e2_1m',\n",
       " 'e2_2p',\n",
       " 'e2_2m',\n",
       " 'size',\n",
       " 'size_1p',\n",
       " 'size_1m',\n",
       " 'size_2p',\n",
       " 'size_2m',\n",
       " 'size_err',\n",
       " 'size_err_1p',\n",
       " 'size_err_1m',\n",
       " 'size_err_2p',\n",
       " 'size_err_2m',\n",
       " 'snr',\n",
       " 'snr_1p',\n",
       " 'snr_1m',\n",
       " 'snr_2p',\n",
       " 'snr_2m',\n",
       " 'covmat_0_0',\n",
       " 'covmat_0_0_1p',\n",
       " 'covmat_0_0_1m',\n",
       " 'covmat_0_0_2p',\n",
       " 'covmat_0_0_2m',\n",
       " 'covmat_0_1',\n",
       " 'covmat_0_1_1p',\n",
       " 'covmat_0_1_1m',\n",
       " 'covmat_0_1_2p',\n",
       " 'covmat_0_1_2m',\n",
       " 'covmat_1_1',\n",
       " 'covmat_1_1_1p',\n",
       " 'covmat_1_1_1m',\n",
       " 'covmat_1_1_2p',\n",
       " 'covmat_1_1_2m',\n",
       " 'flux_r',\n",
       " 'flux_r_1p',\n",
       " 'flux_r_1m',\n",
       " 'flux_r_2p',\n",
       " 'flux_r_2m',\n",
       " 'flux_err_r',\n",
       " 'flux_i',\n",
       " 'flux_i_1p',\n",
       " 'flux_i_1m',\n",
       " 'flux_i_2p',\n",
       " 'flux_i_2m',\n",
       " 'flux_err_i',\n",
       " 'flux_z',\n",
       " 'flux_z_1p',\n",
       " 'flux_z_1m',\n",
       " 'flux_z_2p',\n",
       " 'flux_z_2m',\n",
       " 'flux_err_z',\n",
       " 'R11',\n",
       " 'R12',\n",
       " 'R21',\n",
       " 'R22',\n",
       " 'region',\n",
       " 'ra',\n",
       " 'dec',\n",
       " 'tilename',\n",
       " 'flags_select',\n",
       " 'flags_select_1p',\n",
       " 'flags_select_1m',\n",
       " 'flags_select_2p',\n",
       " 'flags_select_2m']"
      ]
     },
     "execution_count": 5,
     "metadata": {},
     "output_type": "execute_result"
    }
   ],
   "source": [
    "mcal.get_colnames()"
   ]
  },
  {
   "cell_type": "code",
   "execution_count": 6,
   "metadata": {},
   "outputs": [],
   "source": [
    "BPZ_table=Table(fits.open('/lsst/troxel/y1a1/mcal-y1a1-combined-griz-blind-v3-matched_BPZbase.fits')[1].data)"
   ]
  },
  {
   "cell_type": "code",
   "execution_count": 7,
   "metadata": {},
   "outputs": [],
   "source": [
    "BPZ_half=BPZ_table.to_pandas()\n",
    "BPZ_table=None"
   ]
  },
  {
   "cell_type": "code",
   "execution_count": 8,
   "metadata": {},
   "outputs": [],
   "source": [
    "BPZ_half.set_index(\"coadd_objects_id\",inplace=True)"
   ]
  },
  {
   "cell_type": "code",
   "execution_count": 9,
   "metadata": {},
   "outputs": [],
   "source": [
    "BPZ_id=BPZ_half.index.to_numpy()\n",
    "shapes_id=shapes.index.to_numpy()"
   ]
  },
  {
   "cell_type": "code",
   "execution_count": 10,
   "metadata": {},
   "outputs": [],
   "source": [
    "i_mcal,i_BPZ=sort2n(mcal_id,BPZ_id)"
   ]
  },
  {
   "cell_type": "code",
   "execution_count": 11,
   "metadata": {},
   "outputs": [],
   "source": [
    "mcal_half=pd.DataFrame(mcal.read(rows=[i_mcal],columns=['coadd_objects_id','ra','dec','e1','e2','flags_select']).byteswap().newbyteorder())\n",
    "mcal_columns=mcal_half.columns\n",
    "mcal_product_col=pd.MultiIndex.from_product([['All'],mcal_columns],names=['Band','Data'])\n",
    "mcal_half.columns=mcal_product_col\n",
    "mcal_half[('All','RA')]=mcal_half[('All','ra')]\n",
    "mcal_half[('All','DEC')]=mcal_half[('All','dec')]\n",
    "mcal_half.drop(columns=[('All','ra'),('All','dec')],inplace=True)\n",
    "mcal_half.set_index(('All','coadd_objects_id'),inplace=True)"
   ]
  },
  {
   "cell_type": "code",
   "execution_count": null,
   "metadata": {},
   "outputs": [],
   "source": []
  },
  {
   "cell_type": "code",
   "execution_count": 12,
   "metadata": {},
   "outputs": [
    {
     "data": {
      "text/html": [
       "<div>\n",
       "<style scoped>\n",
       "    .dataframe tbody tr th:only-of-type {\n",
       "        vertical-align: middle;\n",
       "    }\n",
       "\n",
       "    .dataframe tbody tr th {\n",
       "        vertical-align: top;\n",
       "    }\n",
       "\n",
       "    .dataframe thead tr th {\n",
       "        text-align: left;\n",
       "    }\n",
       "\n",
       "    .dataframe thead tr:last-of-type th {\n",
       "        text-align: right;\n",
       "    }\n",
       "</style>\n",
       "<table border=\"1\" class=\"dataframe\">\n",
       "  <thead>\n",
       "    <tr>\n",
       "      <th>Band</th>\n",
       "      <th colspan=\"5\" halign=\"left\">All</th>\n",
       "    </tr>\n",
       "    <tr>\n",
       "      <th>Data</th>\n",
       "      <th>e1</th>\n",
       "      <th>e2</th>\n",
       "      <th>flags_select</th>\n",
       "      <th>RA</th>\n",
       "      <th>DEC</th>\n",
       "    </tr>\n",
       "    <tr>\n",
       "      <th>(All, coadd_objects_id)</th>\n",
       "      <th></th>\n",
       "      <th></th>\n",
       "      <th></th>\n",
       "      <th></th>\n",
       "      <th></th>\n",
       "    </tr>\n",
       "  </thead>\n",
       "  <tbody>\n",
       "    <tr>\n",
       "      <td>3007825738</td>\n",
       "      <td>-0.067457</td>\n",
       "      <td>-0.108823</td>\n",
       "      <td>0</td>\n",
       "      <td>318.189343</td>\n",
       "      <td>0.373614</td>\n",
       "    </tr>\n",
       "    <tr>\n",
       "      <td>3007825739</td>\n",
       "      <td>-0.241395</td>\n",
       "      <td>-0.168924</td>\n",
       "      <td>0</td>\n",
       "      <td>317.966101</td>\n",
       "      <td>0.373698</td>\n",
       "    </tr>\n",
       "    <tr>\n",
       "      <td>3007825740</td>\n",
       "      <td>0.111211</td>\n",
       "      <td>-0.127569</td>\n",
       "      <td>32</td>\n",
       "      <td>317.927479</td>\n",
       "      <td>0.373648</td>\n",
       "    </tr>\n",
       "    <tr>\n",
       "      <td>3007825741</td>\n",
       "      <td>-0.062816</td>\n",
       "      <td>0.073638</td>\n",
       "      <td>436</td>\n",
       "      <td>317.945480</td>\n",
       "      <td>0.373631</td>\n",
       "    </tr>\n",
       "    <tr>\n",
       "      <td>3007825742</td>\n",
       "      <td>-0.003933</td>\n",
       "      <td>0.491628</td>\n",
       "      <td>0</td>\n",
       "      <td>317.586931</td>\n",
       "      <td>0.373745</td>\n",
       "    </tr>\n",
       "    <tr>\n",
       "      <td>...</td>\n",
       "      <td>...</td>\n",
       "      <td>...</td>\n",
       "      <td>...</td>\n",
       "      <td>...</td>\n",
       "      <td>...</td>\n",
       "    </tr>\n",
       "    <tr>\n",
       "      <td>3172249302</td>\n",
       "      <td>-0.054150</td>\n",
       "      <td>-0.058570</td>\n",
       "      <td>0</td>\n",
       "      <td>150.311284</td>\n",
       "      <td>2.511910</td>\n",
       "    </tr>\n",
       "    <tr>\n",
       "      <td>3172249303</td>\n",
       "      <td>0.222809</td>\n",
       "      <td>-0.212190</td>\n",
       "      <td>0</td>\n",
       "      <td>149.872793</td>\n",
       "      <td>2.512517</td>\n",
       "    </tr>\n",
       "    <tr>\n",
       "      <td>3172249306</td>\n",
       "      <td>-9999.000000</td>\n",
       "      <td>-9999.000000</td>\n",
       "      <td>8</td>\n",
       "      <td>150.112775</td>\n",
       "      <td>2.506420</td>\n",
       "    </tr>\n",
       "    <tr>\n",
       "      <td>3172249307</td>\n",
       "      <td>0.280421</td>\n",
       "      <td>-0.043695</td>\n",
       "      <td>16</td>\n",
       "      <td>150.360717</td>\n",
       "      <td>2.504559</td>\n",
       "    </tr>\n",
       "    <tr>\n",
       "      <td>3172249309</td>\n",
       "      <td>-0.113609</td>\n",
       "      <td>-0.059982</td>\n",
       "      <td>48</td>\n",
       "      <td>149.692507</td>\n",
       "      <td>2.507778</td>\n",
       "    </tr>\n",
       "  </tbody>\n",
       "</table>\n",
       "<p>136930995 rows × 5 columns</p>\n",
       "</div>"
      ],
      "text/plain": [
       "Band                             All                                        \\\n",
       "Data                              e1           e2 flags_select          RA   \n",
       "(All, coadd_objects_id)                                                      \n",
       "3007825738                 -0.067457    -0.108823            0  318.189343   \n",
       "3007825739                 -0.241395    -0.168924            0  317.966101   \n",
       "3007825740                  0.111211    -0.127569           32  317.927479   \n",
       "3007825741                 -0.062816     0.073638          436  317.945480   \n",
       "3007825742                 -0.003933     0.491628            0  317.586931   \n",
       "...                              ...          ...          ...         ...   \n",
       "3172249302                 -0.054150    -0.058570            0  150.311284   \n",
       "3172249303                  0.222809    -0.212190            0  149.872793   \n",
       "3172249306              -9999.000000 -9999.000000            8  150.112775   \n",
       "3172249307                  0.280421    -0.043695           16  150.360717   \n",
       "3172249309                 -0.113609    -0.059982           48  149.692507   \n",
       "\n",
       "Band                               \n",
       "Data                          DEC  \n",
       "(All, coadd_objects_id)            \n",
       "3007825738               0.373614  \n",
       "3007825739               0.373698  \n",
       "3007825740               0.373648  \n",
       "3007825741               0.373631  \n",
       "3007825742               0.373745  \n",
       "...                           ...  \n",
       "3172249302               2.511910  \n",
       "3172249303               2.512517  \n",
       "3172249306               2.506420  \n",
       "3172249307               2.504559  \n",
       "3172249309               2.507778  \n",
       "\n",
       "[136930995 rows x 5 columns]"
      ]
     },
     "execution_count": 12,
     "metadata": {},
     "output_type": "execute_result"
    }
   ],
   "source": [
    "mcal_half"
   ]
  },
  {
   "cell_type": "code",
   "execution_count": 13,
   "metadata": {},
   "outputs": [],
   "source": [
    "BPZ_columns=BPZ_half.columns.to_list()\n",
    "BPZ_product_col=pd.MultiIndex.from_product([['All'],BPZ_columns],names=['Band','Data'])\n",
    "BPZ_half.columns=BPZ_product_col"
   ]
  },
  {
   "cell_type": "code",
   "execution_count": 14,
   "metadata": {},
   "outputs": [],
   "source": [
    "drop_columns=[('All',column) for column in BPZ_columns if column!='mean_z']\n",
    "BPZ_half.drop(columns=drop_columns,inplace=True)"
   ]
  },
  {
   "cell_type": "code",
   "execution_count": 15,
   "metadata": {},
   "outputs": [],
   "source": [
    "assert len(BPZ_half)==len(mcal_half)"
   ]
  },
  {
   "cell_type": "code",
   "execution_count": 16,
   "metadata": {},
   "outputs": [],
   "source": [
    "mcal_half.sort_index(inplace=True)\n",
    "BPZ_half.sort_index(inplace=True)"
   ]
  },
  {
   "cell_type": "code",
   "execution_count": 17,
   "metadata": {},
   "outputs": [],
   "source": [
    "assert np.all(mcal_half.index==BPZ_half.index)\n",
    "mcal_half[('All','mean_z')]=BPZ_half[('All','mean_z')]"
   ]
  },
  {
   "cell_type": "code",
   "execution_count": 18,
   "metadata": {},
   "outputs": [],
   "source": [
    "BPZ=mcal_half\n",
    "BPZ.index.name=\"ID\""
   ]
  },
  {
   "cell_type": "code",
   "execution_count": 19,
   "metadata": {},
   "outputs": [],
   "source": [
    "BPZ_half=None\n",
    "mcal_half=None"
   ]
  },
  {
   "cell_type": "markdown",
   "metadata": {},
   "source": [
    "# BPZ&shape"
   ]
  },
  {
   "cell_type": "code",
   "execution_count": 20,
   "metadata": {},
   "outputs": [],
   "source": [
    "i_BPZ,i_shapes=sort2n(BPZ_id,shapes_id)"
   ]
  },
  {
   "cell_type": "code",
   "execution_count": 21,
   "metadata": {},
   "outputs": [
    {
     "name": "stdout",
     "output_type": "stream",
     "text": [
      "Help on function sort2n in module __main__:\n",
      "\n",
      "sort2n(x, y)\n",
      "    Sorts and matches two arrays of object ids where x is unique and y is not (in DES this is coadd_objects_id).\n",
      "    Slower than sort2().\n",
      "\n"
     ]
    }
   ],
   "source": [
    "help(sort2n)"
   ]
  },
  {
   "cell_type": "code",
   "execution_count": 22,
   "metadata": {},
   "outputs": [],
   "source": [
    "BPZ_half=BPZ.iloc[i_BPZ]"
   ]
  },
  {
   "cell_type": "code",
   "execution_count": 23,
   "metadata": {},
   "outputs": [
    {
     "name": "stderr",
     "output_type": "stream",
     "text": [
      "/home/cz136/anaconda3/envs/balrog/lib/python3.7/site-packages/pandas/core/frame.py:4102: SettingWithCopyWarning: \n",
      "A value is trying to be set on a copy of a slice from a DataFrame\n",
      "\n",
      "See the caveats in the documentation: http://pandas.pydata.org/pandas-docs/stable/user_guide/indexing.html#returning-a-view-versus-a-copy\n",
      "  errors=errors,\n"
     ]
    }
   ],
   "source": [
    "BPZ_half.drop([('All',           'RA'),\n",
    "            ('All',          'DEC'),\n",
    "            ('All',           'e1'),\n",
    "            ('All',           'e2'),\n",
    "            ('All', 'flags_select')],inplace=True,axis=1)"
   ]
  },
  {
   "cell_type": "code",
   "execution_count": 24,
   "metadata": {},
   "outputs": [],
   "source": [
    "shape_BPZ=pd.concat([shapes,BPZ_half],axis=1,verify_integrity=True)"
   ]
  },
  {
   "cell_type": "code",
   "execution_count": 25,
   "metadata": {},
   "outputs": [],
   "source": [
    "members=shape_BPZ[(shape_BPZ[('All','Z')]-shape_BPZ[('All','mean_z')])<=-0.1]"
   ]
  },
  {
   "cell_type": "code",
   "execution_count": 44,
   "metadata": {},
   "outputs": [
    {
     "data": {
      "text/plain": [
       "0.0009325046502803649"
      ]
     },
     "execution_count": 44,
     "metadata": {},
     "output_type": "execute_result"
    }
   ],
   "source": [
    "len(members)/len(BPZ)"
   ]
  },
  {
   "cell_type": "code",
   "execution_count": 27,
   "metadata": {},
   "outputs": [
    {
     "data": {
      "text/plain": [
       "<matplotlib.legend.Legend at 0x7f6eb60dfcc0>"
      ]
     },
     "execution_count": 27,
     "metadata": {},
     "output_type": "execute_result"
    },
    {
     "data": {
      "image/png": "[encoded data removed]",
      "text/plain": [
       "<Figure size 432x288 with 1 Axes>"
      ]
     },
     "metadata": {
      "needs_background": "light"
     },
     "output_type": "display_data"
    }
   ],
   "source": [
    "BINS=np.arange(0,2,0.1)\n",
    "plt.hist(shape_BPZ[('All','Z')],histtype=\"step\",label=\"redmapper\",bins=BINS)\n",
    "plt.hist(shape_BPZ[('All','mean_z')],histtype=\"step\",label=\"BPZ\",bins=BINS)\n",
    "plt.legend()"
   ]
  },
  {
   "cell_type": "code",
   "execution_count": 28,
   "metadata": {},
   "outputs": [
    {
     "data": {
      "text/plain": [
       "Text(0, 0.5, 'BPZ')"
      ]
     },
     "execution_count": 28,
     "metadata": {},
     "output_type": "execute_result"
    },
    {
     "data": {
      "image/png": "[encoded data removed]",
      "text/plain": [
       "<Figure size 432x288 with 1 Axes>"
      ]
     },
     "metadata": {
      "needs_background": "light"
     },
     "output_type": "display_data"
    }
   ],
   "source": [
    "plt.scatter(shape_BPZ[('All','Z')],shape_BPZ[('All','mean_z')],s=1,)\n",
    "# plt.axis('equal')\n",
    "plt.xlim(0,3)\n",
    "plt.ylim(0,3)\n",
    "plt.xlabel(\"red_z\")\n",
    "plt.ylabel(\"BPZ\")"
   ]
  },
  {
   "cell_type": "code",
   "execution_count": 29,
   "metadata": {},
   "outputs": [
    {
     "data": {
      "text/plain": [
       "105029"
      ]
     },
     "execution_count": 29,
     "metadata": {},
     "output_type": "execute_result"
    }
   ],
   "source": [
    "len(shape_BPZ[('All','mean_z')])"
   ]
  },
  {
   "cell_type": "code",
   "execution_count": 30,
   "metadata": {},
   "outputs": [
    {
     "data": {
      "text/plain": [
       "count    105029.000000\n",
       "mean          0.470596\n",
       "std           0.118353\n",
       "min           0.069967\n",
       "25%           0.391294\n",
       "50%           0.479863\n",
       "75%           0.560855\n",
       "max           0.947782\n",
       "Name: (All, ZRED2), dtype: float64"
      ]
     },
     "execution_count": 30,
     "metadata": {},
     "output_type": "execute_result"
    }
   ],
   "source": [
    "shapes[('All','ZRED2')].describe()"
   ]
  },
  {
   "cell_type": "markdown",
   "metadata": {},
   "source": [
    "# Masking &saving"
   ]
  },
  {
   "cell_type": "code",
   "execution_count": 31,
   "metadata": {},
   "outputs": [
    {
     "name": "stderr",
     "output_type": "stream",
     "text": [
      "/home/cz136/project/sa/lib/src/func.py:2: SettingWithCopyWarning: \n",
      "A value is trying to be set on a copy of a slice from a DataFrame\n",
      "\n",
      "See the caveats in the documentation: http://pandas.pydata.org/pandas-docs/stable/user_guide/indexing.html#returning-a-view-versus-a-copy\n",
      "  centers=shapes.loc[cluster[('Alt','Alt1','ID_CENT')]]\n"
     ]
    }
   ],
   "source": [
    "BPZ=BPZ[BPZ['All','flags_select']==0]\n",
    "BPZ.dropna(axis=0,how='any',inplace=True)"
   ]
  },
  {
   "cell_type": "code",
   "execution_count": 32,
   "metadata": {},
   "outputs": [
    {
     "data": {
      "text/plain": [
       "False"
      ]
     },
     "execution_count": 32,
     "metadata": {},
     "output_type": "execute_result"
    }
   ],
   "source": [
    "np.any(np.isnan(BPZ[('All','mean_z')]))"
   ]
  },
  {
   "cell_type": "code",
   "execution_count": 33,
   "metadata": {
    "papermill": {
     "duration": null,
     "end_time": null,
     "exception": null,
     "start_time": null,
     "status": "completed"
    },
    "tags": []
   },
   "outputs": [],
   "source": [
    "H0=100 #km s-1 Mpc-1\n",
    "Om0=0.3\n",
    "Ode0=0.7\n",
    "lcdm=astropy.cosmology.FlatLambdaCDM(H0, Om0)"
   ]
  },
  {
   "cell_type": "code",
   "execution_count": 34,
   "metadata": {
    "papermill": {
     "duration": null,
     "end_time": null,
     "exception": null,
     "start_time": null,
     "status": "completed"
    },
    "tags": []
   },
   "outputs": [
    {
     "data": {
      "application/vnd.jupyter.widget-view+json": {
       "model_id": "5ad523598d1e4387a771e4b0b53fdfd2",
       "version_major": 2,
       "version_minor": 0
      },
      "text/plain": [
       "HBox(children=(IntProgress(value=0, max=34714036), HTML(value='')))"
      ]
     },
     "metadata": {},
     "output_type": "display_data"
    },
    {
     "name": "stdout",
     "output_type": "stream",
     "text": [
      "\n"
     ]
    },
    {
     "name": "stderr",
     "output_type": "stream",
     "text": [
      "/home/cz136/project/sa/lib/src/func.py:1: SettingWithCopyWarning: \n",
      "A value is trying to be set on a copy of a slice from a DataFrame.\n",
      "Try using .loc[row_indexer,col_indexer] = value instead\n",
      "\n",
      "See the caveats in the documentation: http://pandas.pydata.org/pandas-docs/stable/user_guide/indexing.html#returning-a-view-versus-a-copy\n",
      "  def get_unique_center_for_cluster(cluster,member=0):\n"
     ]
    }
   ],
   "source": [
    "BPZ[('All','angR')]=BPZ.progress_apply(lambda x:np.float(lcdm.angular_diameter_distance(x[('All','mean_z')])/u.Mpc),axis=1)"
   ]
  },
  {
   "cell_type": "code",
   "execution_count": 41,
   "metadata": {},
   "outputs": [],
   "source": [
    "shape_BPZ.to_pickle(\"/home/cz136/project/sa/data/shape_BPZ.pkl\")\n",
    "BPZ.to_pickle(\"/home/cz136/project/sa/data/BPZ.pkl\")"
   ]
  }
 ],
 "metadata": {
  "kernelspec": {
   "display_name": "Python 3",
   "language": "python",
   "name": "python3"
  },
  "language_info": {
   "codemirror_mode": {
    "name": "ipython",
    "version": 3
   },
   "file_extension": ".py",
   "mimetype": "text/x-python",
   "name": "python",
   "nbconvert_exporter": "python",
   "pygments_lexer": "ipython3",
   "version": "3.7.3"
  }
 },
 "nbformat": 4,
 "nbformat_minor": 4
}
