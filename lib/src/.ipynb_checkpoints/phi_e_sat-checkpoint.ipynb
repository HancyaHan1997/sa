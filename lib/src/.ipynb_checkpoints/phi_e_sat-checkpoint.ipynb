{
 "cells": [
  {
   "cell_type": "code",
   "execution_count": null,
   "metadata": {
    "tags": [
     "parameters"
    ]
   },
   "outputs": [],
   "source": [
    "shape_cat=\"\"\n",
    "vol=\"\"\n",
    "z_range=\"\""
   ]
  },
  {
   "cell_type": "code",
   "execution_count": null,
   "metadata": {},
   "outputs": [],
   "source": [
    "#This header file contains all the common packages\n",
    "%matplotlib inline\n",
    "%run /home/cz136/project/sa/lib/src/header.py $shape_cat $vol $z_range "
   ]
  },
  {
   "cell_type": "code",
   "execution_count": null,
   "metadata": {},
   "outputs": [],
   "source": [
    "print(len(clusters))\n",
    "print(len(shapes))"
   ]
  },
  {
   "cell_type": "code",
   "execution_count": null,
   "metadata": {},
   "outputs": [],
   "source": [
    "# Print the numbers of galaxies that needed to be masked\n",
    "\n",
    "assert np.sum(shapes[('All','e1')]==-9999)==0\n",
    "assert np.sum(shapes[('All','e2')]==-9999)==0\n",
    "assert np.sum(shapes['All','flags_select'])==0\n",
    "assert np.sum(shapes[('All','PP')]<=0.55)==0"
   ]
  },
  {
   "cell_type": "code",
   "execution_count": null,
   "metadata": {},
   "outputs": [],
   "source": [
    "#masking\n",
    "print(len(clusters))\n",
    "print(len(shapes))"
   ]
  },
  {
   "cell_type": "markdown",
   "metadata": {},
   "source": [
    "# Stats of e1,e2"
   ]
  },
  {
   "cell_type": "code",
   "execution_count": null,
   "metadata": {},
   "outputs": [],
   "source": [
    "from matplotlib.colors import LogNorm \n",
    "plt.hist2d(shapes['All','e1'],shapes['All','e2'],bins=500,norm=LogNorm())\n",
    "plt.axis('equal')\n",
    "plt.title(\"2D Histogram of $e_1$ and $e_2$\")\n",
    "pd.Series(shapes['All','e1']).describe()\n",
    "pd.Series(shapes['All','e2']).describe()"
   ]
  },
  {
   "cell_type": "code",
   "execution_count": null,
   "metadata": {},
   "outputs": [],
   "source": [
    "#statistics and hisgoram of e2/e1\n",
    "plt.hist(shapes['All','e2']/shapes['All','e1'],bins=np.arange(-10,10,0.1))\n",
    "plt.title(\"Histogram of $e_2$/$e_1$\")\n",
    "pd.Series(shapes['All','e2']/shapes['All','e1']).describe()"
   ]
  },
  {
   "cell_type": "markdown",
   "metadata": {
    "papermill": {
     "duration": 0.010839,
     "end_time": "2019-10-27T18:16:11.317280",
     "exception": false,
     "start_time": "2019-10-27T18:16:11.306441",
     "status": "completed"
    },
    "tags": []
   },
   "source": [
    "# Get phi "
   ]
  },
  {
   "cell_type": "code",
   "execution_count": null,
   "metadata": {
    "papermill": {
     "duration": 0.016778,
     "end_time": "2019-10-27T18:16:11.345032",
     "exception": false,
     "start_time": "2019-10-27T18:16:11.328254",
     "status": "completed"
    },
    "tags": []
   },
   "outputs": [],
   "source": [
    "def get_std_err_of_mean(np_array):\n",
    "    mean=np_array.mean()\n",
    "    std=np_array.std()\n",
    "    n=len(np_array)\n",
    "    return(std/np.sqrt(n))"
   ]
  },
  {
   "cell_type": "code",
   "execution_count": null,
   "metadata": {
    "papermill": {
     "duration": 0.016251,
     "end_time": "2019-10-27T18:16:11.372095",
     "exception": false,
     "start_time": "2019-10-27T18:16:11.355844",
     "status": "completed"
    },
    "tags": []
   },
   "outputs": [],
   "source": [
    "phi_1d=shapes[('All','phi')]"
   ]
  },
  {
   "cell_type": "markdown",
   "metadata": {
    "papermill": {
     "duration": 0.010249,
     "end_time": "2019-10-27T18:16:11.393018",
     "exception": false,
     "start_time": "2019-10-27T18:16:11.382769",
     "status": "completed"
    },
    "tags": []
   },
   "source": [
    "## Stats for unweighted"
   ]
  },
  {
   "cell_type": "code",
   "execution_count": null,
   "metadata": {
    "papermill": {
     "duration": 0.027324,
     "end_time": "2019-10-27T18:16:11.430823",
     "exception": false,
     "start_time": "2019-10-27T18:16:11.403499",
     "status": "completed"
    },
    "tags": []
   },
   "outputs": [],
   "source": [
    "pd.Series(phi_1d).describe()\n",
    "print(\"Mean:{:05e} \\nStdE:{:05e} \".format(phi_1d.mean(),phi_1d.std()/np.sqrt(len(phi_1d))))"
   ]
  },
  {
   "cell_type": "code",
   "execution_count": null,
   "metadata": {
    "papermill": {
     "duration": 0.220489,
     "end_time": "2019-10-27T18:16:11.663503",
     "exception": false,
     "start_time": "2019-10-27T18:16:11.443014",
     "status": "completed"
    },
    "tags": []
   },
   "outputs": [],
   "source": [
    "def plt_phi(df):\n",
    "    phi_1d=df[('All','phi')]\n",
    "    plt.hist(phi_1d,bins=9,weights=df[('All','PP')],histtype=\"step\",density=True)\n",
    "    plt.title(\"Histogram of $\\phi_{sat}$ weighted by probability\") \n",
    "    pd.Series(phi_1d).describe()"
   ]
  },
  {
   "cell_type": "code",
   "execution_count": null,
   "metadata": {},
   "outputs": [],
   "source": [
    "plt_phi(shapes)"
   ]
  },
  {
   "cell_type": "markdown",
   "metadata": {},
   "source": [
    "# Get e"
   ]
  },
  {
   "cell_type": "markdown",
   "metadata": {},
   "source": [
    "## Statistics of e1 and e2"
   ]
  },
  {
   "cell_type": "code",
   "execution_count": null,
   "metadata": {},
   "outputs": [],
   "source": [
    "e1=shapes[('All','e1')].to_numpy()\n",
    "shapes[('All','e1')].describe()"
   ]
  },
  {
   "cell_type": "code",
   "execution_count": null,
   "metadata": {},
   "outputs": [],
   "source": [
    "e2=shapes[('All','e1')].to_numpy()\n",
    "shapes[('All','e2')].describe()"
   ]
  },
  {
   "cell_type": "code",
   "execution_count": null,
   "metadata": {},
   "outputs": [],
   "source": [
    "# np.save(\"/home/cz136/project/sa/data/{}/e_array\".format(dir_string),e_list)"
   ]
  },
  {
   "cell_type": "code",
   "execution_count": null,
   "metadata": {},
   "outputs": [],
   "source": [
    "e_p_1d=shapes[('All','ep')]\n",
    "e_x_1d=shapes[('All','ex')]"
   ]
  },
  {
   "cell_type": "code",
   "execution_count": null,
   "metadata": {},
   "outputs": [],
   "source": [
    "ax=sns.distplot(e_p_1d,kde=False)\n",
    "ax.set_title(\"Distribution of $e_{+}$\")\n",
    "print (\"mean={:05e}, std_mean={:05e}\".format(e_p_1d.mean(),get_std_err_of_mean(e_p_1d)))\n",
    "pd.Series(e_p_1d).describe()"
   ]
  },
  {
   "cell_type": "code",
   "execution_count": null,
   "metadata": {},
   "outputs": [],
   "source": [
    "ax=sns.distplot(e_x_1d)\n",
    "ax.set_title(\"Distribution of $e_{x}$\")\n",
    "print (\"mean={:05e}, std_mean={:05e}\".format(e_x_1d.mean(),get_std_err_of_mean(e_x_1d)))\n",
    "pd.Series(e_x_1d).describe()"
   ]
  },
  {
   "cell_type": "markdown",
   "metadata": {
    "papermill": {
     "duration": 0.0157,
     "end_time": "2019-10-28T01:19:25.257532",
     "exception": false,
     "start_time": "2019-10-28T01:19:25.241832",
     "status": "completed"
    },
    "tags": []
   },
   "source": [
    "# Percentile Data"
   ]
  },
  {
   "cell_type": "code",
   "execution_count": null,
   "metadata": {
    "papermill": {
     "duration": 0.02228,
     "end_time": "2019-10-28T01:19:25.295401",
     "exception": false,
     "start_time": "2019-10-28T01:19:25.273121",
     "status": "completed"
    },
    "tags": []
   },
   "outputs": [],
   "source": [
    "def get_R_percent(lower,upper):\n",
    "    R_lower=shapes[('All','R')].quantile(lower)\n",
    "    R_upper=shapes[('All','R')].quantile(upper)\n",
    "    R_selected=shapes[(shapes[('All','R')]>=R_lower)&(shapes[('All','R')]<=R_upper) ]\n",
    "    return(R_selected)"
   ]
  },
  {
   "cell_type": "code",
   "execution_count": null,
   "metadata": {
    "papermill": {
     "duration": 0.451071,
     "end_time": "2019-10-28T01:19:25.761994",
     "exception": false,
     "start_time": "2019-10-28T01:19:25.310923",
     "status": "completed"
    },
    "tags": []
   },
   "outputs": [],
   "source": [
    "plt_phi(get_R_percent(0,0.1))"
   ]
  },
  {
   "cell_type": "code",
   "execution_count": null,
   "metadata": {
    "papermill": {
     "duration": 0.264488,
     "end_time": "2019-10-28T01:19:26.044214",
     "exception": false,
     "start_time": "2019-10-28T01:19:25.779726",
     "status": "completed"
    },
    "tags": []
   },
   "outputs": [],
   "source": [
    "plt.hist(get_R_percent(0,0.05)[('All','ep')],bins=20,density=True,histtype=\"step\")\n",
    "plt.title(r\"$e_+$ for R percentile [0,5%]\")"
   ]
  },
  {
   "cell_type": "code",
   "execution_count": null,
   "metadata": {},
   "outputs": [],
   "source": [
    "get_R_percent(0,0.11)[('All','ep')].mean()"
   ]
  }
 ],
 "metadata": {
  "kernelspec": {
   "display_name": "Python 3",
   "language": "python",
   "name": "python3"
  },
  "language_info": {
   "codemirror_mode": {
    "name": "ipython",
    "version": 3
   },
   "file_extension": ".py",
   "mimetype": "text/x-python",
   "name": "python",
   "nbconvert_exporter": "python",
   "pygments_lexer": "ipython3",
   "version": "3.7.3"
  }
 },
 "nbformat": 4,
 "nbformat_minor": 4
}
