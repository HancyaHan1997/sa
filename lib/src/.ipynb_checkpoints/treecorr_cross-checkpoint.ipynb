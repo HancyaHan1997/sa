{
 "cells": [
  {
   "cell_type": "code",
   "execution_count": 18,
   "metadata": {
    "tags": [
     "parameters"
    ]
   },
   "outputs": [],
   "source": [
    "shape_cat=\"\"\n",
    "vol=\"\"\n",
    "z_range=\"\"\n",
    "r_type=\"\""
   ]
  },
  {
   "cell_type": "code",
   "execution_count": 45,
   "metadata": {},
   "outputs": [],
   "source": [
    "#This header file contains all the common packages\n",
    "%matplotlib inline\n",
    "%run /home/cz136/project/sa/lib/src/header.py $shape_cat $vol $z_range "
   ]
  },
  {
   "cell_type": "code",
   "execution_count": 23,
   "metadata": {},
   "outputs": [],
   "source": [
    "import treecorr\n",
    "import astropy.cosmology\n",
    "from fastprogress import master_bar, progress_bar\n",
    "from ipywidgets import FloatProgress\n",
    "from IPython.display import display\n",
    "from tqdm import tqdm"
   ]
  },
  {
   "cell_type": "code",
   "execution_count": 24,
   "metadata": {},
   "outputs": [
    {
     "data": {
      "text/plain": [
       "True"
      ]
     },
     "execution_count": 24,
     "metadata": {},
     "output_type": "execute_result"
    }
   ],
   "source": [
    "np.isin(shapes['All','MEM_MATCH_ID'].to_numpy(),clusters.index.to_numpy()).all()"
   ]
  },
  {
   "cell_type": "code",
   "execution_count": 25,
   "metadata": {},
   "outputs": [],
   "source": [
    "UPPER_BOUND=np.max(1.5*clusters[('All','All','R_LAMBDA')])"
   ]
  },
  {
   "cell_type": "code",
   "execution_count": 26,
   "metadata": {},
   "outputs": [],
   "source": [
    "if r_type=\"abs\":\n",
    "\n",
    "    def get_ng(cluster,mode):\n",
    "\n",
    "        if mode == \"s\":\n",
    "            def get_cluster_cen(cluster):\n",
    "                cen_id=cluster[('Alt','Alt1','ID_CENT')]\n",
    "                return (shapes.loc[cen_id])\n",
    "            def get_cluster_sats(cluster):\n",
    "                cen_mat_id=cluster.name\n",
    "                sats=shapes[shapes['All','MEM_MATCH_ID']==cen_mat_id]\n",
    "                return (sats)\n",
    "        elif mode=='r':\n",
    "            def get_cluster_sats(cluster):\n",
    "                return(shapes)\n",
    "            def get_cluster_cen(cluster):\n",
    "                return (random)\n",
    "\n",
    "        else:\n",
    "            raise\n",
    "\n",
    "\n",
    "        cen=get_cluster_cen(cluster)\n",
    "        sats=get_cluster_sats(cluster)\n",
    "\n",
    "\n",
    "        sats_e1=sats[('All','e1')].to_numpy()\n",
    "        sats_e2=sats[('All','e2')].to_numpy()\n",
    "        sats_angr=sats[('All','angR')]\n",
    "\n",
    "    #     print(sats_e1,sats_e2)\n",
    "\n",
    "        if type(cen[('All','RA')])==np.float64:\n",
    "    #         cen_e1=np.array(cen[('All','e1')]).reshape(1)\n",
    "    #         cen_e2=np.array(cen[('All','e2')]).reshape(1)\n",
    "            cen_angr=np.array(cen[('All','angR')]).reshape(1)\n",
    "            cen_ra=np.array(cen[('All','RA')]).reshape(1)\n",
    "            cen_dec=np.array(cen[('All','DEC')]).reshape(1)\n",
    "        else:\n",
    "    #         cen_e1=cen[('All','e1')].to_numpy\n",
    "    #         cen_e2=cen[('All','e2')].to_numpy()\n",
    "            cen_angr=cen[('All','angR')].to_numpy()\n",
    "            cen_ra=cen[('All','RA')].to_numpy()\n",
    "            cen_dec=cen[('All','DEC')].to_numpy()\n",
    "\n",
    "\n",
    "\n",
    "\n",
    "    #     print(cen_e1,cen_e2)\n",
    "\n",
    "        sats_ra=sats[('All','RA')].to_numpy()\n",
    "        sats_dec=sats[('All','DEC')].to_numpy()\n",
    "\n",
    "\n",
    "\n",
    "\n",
    "    #     print(np.shape(cen_ra),np.shape(cen_dec))    \n",
    "    #     print(cen_ra,cen_dec)    \n",
    "\n",
    "        sats_cat = treecorr.Catalog( g1 = sats_e1, g2   = sats_e2, \n",
    "                                     ra = sats_ra, dec = sats_dec,r=sats_angr,\n",
    "                                     ra_units='deg', dec_units='deg')\n",
    "        ## divide by R200m\n",
    "\n",
    "        cen_cat = treecorr.Catalog( \n",
    "                                     ra = cen_ra, dec = cen_dec, r=cen_angr,\n",
    "                                     ra_units='deg', dec_units='deg')\n",
    "\n",
    "        ng = treecorr.NGCorrelation(nbins=20, min_sep=0.01, max_sep=UPPER_BOUND, bin_slop=0.0,bin_type=\"Linear\",\n",
    "                                   metric=\"Rperp\")\n",
    "        ng.process_cross(cen_cat,sats_cat)\n",
    "\n",
    "        return(ng)\n",
    "    \n",
    "elif r_type=\"r_lambda\":\n",
    "        def get_ng(cluster,mode):\n",
    "\n",
    "        if mode == \"s\":\n",
    "            def get_cluster_cen(cluster):\n",
    "                cen_id=cluster[('Alt','Alt1','ID_CENT')]\n",
    "                return (shapes.loc[cen_id])\n",
    "            def get_cluster_sats(cluster):\n",
    "                cen_mat_id=cluster.name\n",
    "                sats=shapes[shapes['All','MEM_MATCH_ID']==cen_mat_id]\n",
    "                return (sats)\n",
    "        elif mode=='r':\n",
    "            def get_cluster_sats(cluster):\n",
    "                return(shapes)\n",
    "            def get_cluster_cen(cluster):\n",
    "                return (random)\n",
    "\n",
    "        else:\n",
    "            raise\n",
    "\n",
    "\n",
    "        cen=get_cluster_cen(cluster)\n",
    "        sats=get_cluster_sats(cluster)\n",
    "\n",
    "\n",
    "        sats_e1=sats[('All','e1')].to_numpy()\n",
    "        sats_e2=sats[('All','e2')].to_numpy()\n",
    "        sats_angr=sats[('All','normLR')]\n",
    "\n",
    "    #     print(sats_e1,sats_e2)\n",
    "\n",
    "        if type(cen[('All','RA')])==np.float64:\n",
    "    #         cen_e1=np.array(cen[('All','e1')]).reshape(1)\n",
    "    #         cen_e2=np.array(cen[('All','e2')]).reshape(1)\n",
    "            cen_angr=np.array(cen[('All','normLR')]).reshape(1)\n",
    "            cen_ra=np.array(cen[('All','RA')]).reshape(1)\n",
    "            cen_dec=np.array(cen[('All','DEC')]).reshape(1)\n",
    "        else:\n",
    "    #         cen_e1=cen[('All','e1')].to_numpy\n",
    "    #         cen_e2=cen[('All','e2')].to_numpy()\n",
    "            cen_angr=cen[('All','normLR')].to_numpy()\n",
    "            cen_ra=cen[('All','RA')].to_numpy()\n",
    "            cen_dec=cen[('All','DEC')].to_numpy()\n",
    "\n",
    "\n",
    "\n",
    "\n",
    "    #     print(cen_e1,cen_e2)\n",
    "\n",
    "        sats_ra=sats[('All','RA')].to_numpy()\n",
    "        sats_dec=sats[('All','DEC')].to_numpy()\n",
    "\n",
    "\n",
    "\n",
    "\n",
    "    #     print(np.shape(cen_ra),np.shape(cen_dec))    \n",
    "    #     print(cen_ra,cen_dec)    \n",
    "\n",
    "        sats_cat = treecorr.Catalog( g1 = sats_e1, g2   = sats_e2, \n",
    "                                     ra = sats_ra, dec = sats_dec,r=sats_angr,\n",
    "                                     ra_units='deg', dec_units='deg')\n",
    "        ## divide by R200m\n",
    "\n",
    "        cen_cat = treecorr.Catalog( \n",
    "                                     ra = cen_ra, dec = cen_dec, r=cen_angr,\n",
    "                                     ra_units='deg', dec_units='deg')\n",
    "\n",
    "        ng = treecorr.NGCorrelation(nbins=20, min_sep=0.01, max_sep=UPPER_BOUND, bin_slop=0.0,bin_type=\"Linear\",\n",
    "                                   metric=\"Rperp\")\n",
    "        ng.process_cross(cen_cat,sats_cat)\n",
    "\n",
    "        return(ng)\n",
    "    \n",
    "else:\n",
    "    raise"
   ]
  },
  {
   "cell_type": "code",
   "execution_count": 27,
   "metadata": {},
   "outputs": [],
   "source": [
    "def get_xi_meanlogr_varxi_npairs(cluster):\n",
    "    ng=get_ng(cluster,'s')\n",
    "    return(np.array([ng.xi,ng.meanlogr,ng.varxi,ng.npairs]))"
   ]
  },
  {
   "cell_type": "code",
   "execution_count": 28,
   "metadata": {},
   "outputs": [],
   "source": [
    "def get_r_xi_meanlogr_varxi_npairs(cluster):\n",
    "    ng=get_ng(cluster,'r')\n",
    "    return(np.array([ng.xi,ng.meanlogr,ng.varxi,ng.npairs]))"
   ]
  },
  {
   "cell_type": "code",
   "execution_count": 29,
   "metadata": {},
   "outputs": [
    {
     "name": "stderr",
     "output_type": "stream",
     "text": [
      "12497it [02:14, 93.11it/s]\n"
     ]
    },
    {
     "name": "stdout",
     "output_type": "stream",
     "text": [
      "File saved!\n"
     ]
    }
   ],
   "source": [
    "length=len(clusters)\n",
    "ng_list=np.empty([length,4,20])\n",
    "\n",
    "i=0\n",
    "for index,cluster in tqdm(clusters.iterrows()):\n",
    "    ng_list[(i),:,:]=get_xi_meanlogr_varxi_npairs(cluster)\n",
    "    i=i+1\n",
    "# np.save(\"/home/cz136/project/sa/data/{}/ng_list_cross.npy\".format(dir_string),ng_list)\n",
    "\n",
    "print(\"File saved!\")"
   ]
  },
  {
   "cell_type": "code",
   "execution_count": 30,
   "metadata": {},
   "outputs": [
    {
     "name": "stdout",
     "output_type": "stream",
     "text": [
      "File saved!\n"
     ]
    }
   ],
   "source": [
    "ng_r=get_r_xi_meanlogr_varxi_npairs(cluster.iloc[1])\n",
    "# np.save(\"/home/cz136/project/sa/data/{}/ng_r_list_cross.npy\".format(dir_string),ng_r)\n",
    "print(\"File saved!\")"
   ]
  },
  {
   "cell_type": "code",
   "execution_count": 31,
   "metadata": {},
   "outputs": [],
   "source": [
    "# ng_list=np.load(\"/home/cz136/project/sa/data/{}/ng_list_cross.npy\".format(dir_string))\n",
    "# ng_r=np.load(\"/home/cz136/project/sa/data/{}/ng_r_list_cross.npy\".format(dir_string))\n",
    "length=len(clusters)"
   ]
  },
  {
   "cell_type": "code",
   "execution_count": 32,
   "metadata": {},
   "outputs": [
    {
     "name": "stderr",
     "output_type": "stream",
     "text": [
      "/home/cz136/anaconda3/envs/balrog/lib/python3.7/site-packages/ipykernel_launcher.py:12: RuntimeWarning: invalid value encountered in true_divide\n",
      "  if sys.path[0] == '':\n"
     ]
    }
   ],
   "source": [
    "ng_xi_array=np.empty([length,20])\n",
    "ng_meanlogr_array=np.empty([length,20])\n",
    "ng_varxi_array=np.empty([length,20])\n",
    "ng_npairs_array=np.empty([length,20])\n",
    "for i in range(length):\n",
    "    ng_xi_array[i,:]=ng_list[i,0,:]\n",
    "    ng_meanlogr_array[i,:]=ng_list[i,1,:]\n",
    "    ng_varxi_array[i,:]=ng_list[i,2,:]\n",
    "    ng_npairs_array[i,:]=ng_list[i,3,:]\n",
    "final_xi_cross_array=np.sum(ng_xi_array,axis=0)\n",
    "final_npairs_array=np.sum(ng_npairs_array,axis=0)\n",
    "final_xi_array=final_xi_cross_array/final_npairs_array\n",
    "\n",
    "final_r_xi=ng_r[0]/ng_r[3]\n",
    "\n",
    "final_r_sigma=final_r_xi/np.sqrt(length)"
   ]
  },
  {
   "cell_type": "code",
   "execution_count": 33,
   "metadata": {},
   "outputs": [
    {
     "name": "stderr",
     "output_type": "stream",
     "text": [
      "/home/cz136/anaconda3/envs/balrog/lib/python3.7/site-packages/ipykernel_launcher.py:2: RuntimeWarning: invalid value encountered in true_divide\n",
      "  \n"
     ]
    }
   ],
   "source": [
    "final_xi=final_xi_array-final_r_xi\n",
    "final_meanlogr=np.sum(ng_meanlogr_array,axis=0)/np.sum(ng_npairs_array,axis=0)\n",
    "final_sigma=np.mean(np.sqrt(ng_varxi_array),axis=0)/np.sqrt(length)\n",
    "\n",
    "final_sigma=(final_xi_array-final_r_xi)/np.sqrt(length)"
   ]
  },
  {
   "cell_type": "code",
   "execution_count": 35,
   "metadata": {},
   "outputs": [
    {
     "name": "stderr",
     "output_type": "stream",
     "text": [
      "/home/cz136/anaconda3/envs/balrog/lib/python3.7/site-packages/ipykernel_launcher.py:8: RuntimeWarning: invalid value encountered in true_divide\n",
      "  \n"
     ]
    }
   ],
   "source": [
    "def get_sigma(ng_xi_array,ng_npairs_array):\n",
    "    \n",
    "    N=len(ng_xi_array)\n",
    "    \n",
    "    jk_xi_array=np.empty([N,20])\n",
    "    \n",
    "    def get_xi(drop_1_xi,drop_1_npairs):\n",
    "        return(np.sum(drop_1_xi,axis=0)/np.sum(drop_1_npairs,axis=0))\n",
    "    \n",
    "    for i in range(N):\n",
    "        drop_1_xi=np.delete(ng_xi_array,i,axis=0)\n",
    "        drop_1_npairs=np.delete(ng_npairs_array,i,axis=0)\n",
    "        jk_xi_array[i,:]=get_xi(drop_1_xi,drop_1_npairs)\n",
    "        \n",
    "    return(np.sqrt(N)*np.std(jk_xi_array,axis=0))\n",
    "\n",
    "final_sigma=get_sigma(ng_xi_array,ng_npairs_array)"
   ]
  },
  {
   "cell_type": "code",
   "execution_count": 36,
   "metadata": {},
   "outputs": [],
   "source": [
    "def plt_w_error(meanlogr,xi,varxi,title):\n",
    "    fig,ax=plt.subplots()\n",
    "    ax.errorbar(np.exp(meanlogr),xi,yerr=varxi)\n",
    "    ax.set_title(title)\n",
    "#     plt.xscale('log')\n",
    "#     plt.yscale('log')"
   ]
  },
  {
   "cell_type": "code",
   "execution_count": 37,
   "metadata": {},
   "outputs": [
    {
     "data": {
      "image/png": "[encoded data removed]",
      "text/plain": [
       "<Figure size 432x288 with 1 Axes>"
      ]
     },
     "metadata": {},
     "output_type": "display_data"
    }
   ],
   "source": [
    "plt_w_error(ng_r[1]/ng_r[3],-final_r_xi,final_r_sigma,r\"$\\gamma_T$ with Random Catalog\")"
   ]
  },
  {
   "cell_type": "code",
   "execution_count": 38,
   "metadata": {},
   "outputs": [
    {
     "data": {
      "image/png": "[encoded data removed]",
      "text/plain": [
       "<Figure size 432x288 with 1 Axes>"
      ]
     },
     "metadata": {},
     "output_type": "display_data"
    }
   ],
   "source": [
    "plt_w_error(final_meanlogr,-final_xi,final_sigma,r\"$\\gamma_T$ of Clusters - $\\gamma_T$ with Random Catalog\")"
   ]
  },
  {
   "cell_type": "code",
   "execution_count": 39,
   "metadata": {},
   "outputs": [
    {
     "data": {
      "image/png": "[encoded data removed]",
      "text/plain": [
       "<Figure size 432x288 with 1 Axes>"
      ]
     },
     "metadata": {},
     "output_type": "display_data"
    }
   ],
   "source": [
    "plt_w_error(final_meanlogr,-final_xi_array,final_sigma,r\"$\\gamma_T$ of Clusters \")"
   ]
  }
 ],
 "metadata": {
  "kernelspec": {
   "display_name": "Python 3",
   "language": "python",
   "name": "python3"
  },
  "language_info": {
   "codemirror_mode": {
    "name": "ipython",
    "version": 3
   },
   "file_extension": ".py",
   "mimetype": "text/x-python",
   "name": "python",
   "nbconvert_exporter": "python",
   "pygments_lexer": "ipython3",
   "version": "3.7.3"
  }
 },
 "nbformat": 4,
 "nbformat_minor": 4
}
