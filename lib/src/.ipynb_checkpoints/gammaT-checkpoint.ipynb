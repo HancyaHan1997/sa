{
 "cells": [
  {
   "cell_type": "code",
   "execution_count": 1,
   "metadata": {
    "tags": [
     "parameters"
    ]
   },
   "outputs": [],
   "source": [
    "shape_cat=\"mcal\"\n",
    "vol=\"vlim\"\n",
    "z_range=\"all_z\"\n",
    "\n",
    "\n",
    "lambda_range=0\n",
    "with_r=True"
   ]
  },
  {
   "cell_type": "code",
   "execution_count": 2,
   "metadata": {},
   "outputs": [
    {
     "name": "stderr",
     "output_type": "stream",
     "text": [
      "/home/cz136/anaconda3/envs/balrog/lib/python3.7/site-packages/tqdm/std.py:648: FutureWarning: The Panel class is removed from pandas. Accessing it from the top-level namespace will also be removed in the next version\n",
      "  from pandas import Panel\n"
     ]
    }
   ],
   "source": [
    "from astropy.io import fits\n",
    "from astropy.table import Table\n",
    "import pandas as pd\n",
    "import fitsio as fio\n",
    "import numpy as np\n",
    "import ast\n",
    "\n",
    "import astropy.cosmology\n",
    "from astropy.coordinates import SkyCoord  # High-level coordinates\n",
    "from astropy.coordinates import ICRS, Galactic, FK4, FK5  # Low-level frames\n",
    "from astropy.coordinates import Angle, Latitude, Longitude  # Angles\n",
    "import astropy.units as u\n",
    "from IPython.display import display, Math\n",
    "from tqdm.notebook import tqdm\n",
    "tqdm.pandas()"
   ]
  },
  {
   "cell_type": "code",
   "execution_count": 3,
   "metadata": {},
   "outputs": [],
   "source": [
    "#This header file contains all the common packages\n",
    "%matplotlib inline\n",
    "%run -i /home/cz136/project/sa/lib/src/header.py $shape_cat $vol $z_range \n",
    "%run -i /home/cz136/project/sa/lib/src/func.py  \n",
    "%run -i /home/cz136/project/sa/lib/src/corr_func.py\n",
    "\n",
    "members= pd.read_pickle(\"/home/cz136/project/sa/data/BPZ.pkl\") #load BPZ catalog\n",
    "red_members=pd.read_pickle(\"/home/cz136/project/sa/data/shape_BPZ.pkl\")\n",
    "red_members_index=red_members.index\n",
    "red_members=None"
   ]
  },
  {
   "cell_type": "code",
   "execution_count": 4,
   "metadata": {},
   "outputs": [
    {
     "name": "stdout",
     "output_type": "stream",
     "text": [
      "The number of total sources is 34714036\n",
      "The number of red sources is 105029\n"
     ]
    }
   ],
   "source": [
    "print(\"The number of total sources is {}\".format(len(members)))\n",
    "print(\"The number of red sources is {}\".format(len(red_members_index)))"
   ]
  },
  {
   "cell_type": "code",
   "execution_count": 5,
   "metadata": {},
   "outputs": [
    {
     "name": "stdout",
     "output_type": "stream",
     "text": [
      "[0.2  0.35 0.5  0.65]\n",
      "[  20   35   50   65 1000]\n"
     ]
    }
   ],
   "source": [
    "NBINS=10\n",
    "\n",
    "z_bins=np.arange(0.2,0.67,0.15)\n",
    "lambda_bins=np.append(np.arange(20,66,15),1000)\n",
    "\n",
    "print(z_bins)\n",
    "print(lambda_bins)"
   ]
  },
  {
   "cell_type": "code",
   "execution_count": 6,
   "metadata": {},
   "outputs": [],
   "source": [
    "woRedMask=~np.isin(members.index,red_members_index)"
   ]
  },
  {
   "cell_type": "code",
   "execution_count": 7,
   "metadata": {},
   "outputs": [
    {
     "name": "stdout",
     "output_type": "stream",
     "text": [
      "The number of sources excluding redMaPPer is 34609603\n",
      "The number of red sources being cut is 104433\n"
     ]
    }
   ],
   "source": [
    "print(\"The number of sources excluding redMaPPer is {}\".format(np.sum(woRedMask)))\n",
    "print(\"The number of red sources being cut is {}\".format(np.sum(~woRedMask)))"
   ]
  },
  {
   "cell_type": "code",
   "execution_count": null,
   "metadata": {},
   "outputs": [
    {
     "data": {
      "application/vnd.jupyter.widget-view+json": {
       "model_id": "9feb75c45cfd44e0bf1acbfd6fd64c3e",
       "version_major": 2,
       "version_minor": 0
      },
      "text/plain": [
       "HBox(children=(IntProgress(value=0, max=3), HTML(value='')))"
      ]
     },
     "metadata": {},
     "output_type": "display_data"
    },
    {
     "data": {
      "application/vnd.jupyter.widget-view+json": {
       "model_id": "a9f16d1076074b438173ed49f0f4dd55",
       "version_major": 2,
       "version_minor": 0
      },
      "text/plain": [
       "HBox(children=(IntProgress(value=0, max=4), HTML(value='')))"
      ]
     },
     "metadata": {},
     "output_type": "display_data"
    },
    {
     "name": "stdout",
     "output_type": "stream",
     "text": [
      "The number of sources is \n"
     ]
    },
    {
     "name": "stderr",
     "output_type": "stream",
     "text": [
      "/home/cz136/project/sa/lib/src/corr_func.py:162: FutureWarning: \n",
      "Passing list-likes to .loc or [] with any missing label will raise\n",
      "KeyError in the future, you can use .reindex() as an alternative.\n",
      "\n",
      "See the documentation here:\n",
      "https://pandas.pydata.org/pandas-docs/stable/user_guide/indexing.html#deprecate-loc-reindex-listlike\n",
      "  centers=members.loc[center_id]\n"
     ]
    },
    {
     "name": "stdout",
     "output_type": "stream",
     "text": [
      "Warning: NaNs found in ra column.  Skipping rows [62, 91].\n",
      "Warning: NaNs found in dec column.  Skipping rows [62, 91].\n",
      "Warning: NaNs found in r column.  Skipping rows [62, 91].\n",
      "The number of sources is \n",
      "Warning: NaNs found in ra column.  Skipping rows [62, 91].\n",
      "Warning: NaNs found in dec column.  Skipping rows [62, 91].\n",
      "Warning: NaNs found in r column.  Skipping rows [62, 91].\n",
      "The number of sources is \n",
      "Warning: NaNs found in ra column.  Skipping rows [62, 91].\n",
      "Warning: NaNs found in dec column.  Skipping rows [62, 91].\n",
      "Warning: NaNs found in r column.  Skipping rows [62, 91].\n",
      "The number of sources is \n",
      "Warning: NaNs found in ra column.  Skipping rows [62, 91].\n",
      "Warning: NaNs found in dec column.  Skipping rows [62, 91].\n",
      "Warning: NaNs found in r column.  Skipping rows [62, 91].\n",
      "\n"
     ]
    },
    {
     "data": {
      "application/vnd.jupyter.widget-view+json": {
       "model_id": "cbabfcbc72004bb990b23d8de75b5047",
       "version_major": 2,
       "version_minor": 0
      },
      "text/plain": [
       "HBox(children=(IntProgress(value=0, max=4), HTML(value='')))"
      ]
     },
     "metadata": {},
     "output_type": "display_data"
    },
    {
     "name": "stdout",
     "output_type": "stream",
     "text": [
      "The number of sources is \n",
      "Warning: NaNs found in ra column.  Skipping rows [60, 114, 178, 290, 320, 399, 851, 927, 973, 986, 1167, 1205, 1216, 1221, 1306, 1331, 1559, 1590].\n",
      "Warning: NaNs found in dec column.  Skipping rows [60, 114, 178, 290, 320, 399, 851, 927, 973, 986, 1167, 1205, 1216, 1221, 1306, 1331, 1559, 1590].\n",
      "Warning: NaNs found in r column.  Skipping rows [60, 114, 178, 290, 320, 399, 851, 927, 973, 986, 1167, 1205, 1216, 1221, 1306, 1331, 1559, 1590].\n"
     ]
    }
   ],
   "source": [
    "## lambda x z = 4x3\n",
    "import gc\n",
    "\n",
    "# def get_ng_values(clusters,members,z_bins_low,z_bins_high,lambda_bins_low,lambda_bins_high,foreback):\n",
    "#     ng=get_ng_source(clusters,members,z_bins_low,z_bins_high,lambda_bins_low,lambda_bins_high,foreback)\n",
    "#     ng_values=np.copy(np.array([ng.meanlogr,ng.xi,ng.varxi]))\n",
    "    \n",
    "#     del ng\n",
    "    \n",
    "#     return(ng_values)\n",
    "    \n",
    "ng_matrix=[[None for i in range(4)] for j in range(3)]\n",
    "\n",
    "for i in trange(3):\n",
    "    for j in trange(4):\n",
    "        ng=get_ng_source(clusters,members,z_bins[i],z_bins[i+1],lambda_bins[j],lambda_bins[j+1],foreback=\"\")\n",
    "        ng_values=np.copy(np.array([ng.meanlogr,ng.xi,ng.varxi]))\n",
    "        ng_matrix[i][j]=ng_values\n",
    "        del ng\n",
    "        gc.collect()"
   ]
  },
  {
   "cell_type": "code",
   "execution_count": null,
   "metadata": {},
   "outputs": [],
   "source": [
    "## lambda x z = 4x3\n",
    "ng_wr_matrix=[[None for i in range(4)] for j in range(3)]\n",
    "\n",
    "for i in trange(4):\n",
    "    for j in trange(3):\n",
    "        ng=get_ng_source(clusters,members,z_bins[j],z_bins[j+1],lambda_bins[i],lambda_bins[i+1],woRed=True,foreback=\"\")\n",
    "        ng_values=np.copy(np.array([ng.meanlogr,ng.xi,ng.varxi]))\n",
    "        ng_wr_matrix[j][i]=ng_values\n",
    "        del ng\n",
    "        gc.collect"
   ]
  },
  {
   "cell_type": "code",
   "execution_count": null,
   "metadata": {},
   "outputs": [],
   "source": [
    "fig, axs = plt.subplots(3, 4,figsize=(20,15))\n",
    "for i in range(3):\n",
    "    for j in range(4):\n",
    "        values=ng_matrix[i][j]\n",
    "        values_wr=ng_wr_matrix[i][j]\n",
    "        axs[i,j].errorbar(np.exp(values[0]),values[1],yerr=np.sqrt(values[2]),label=\"All sources\")\n",
    "        axs[i,j].errorbar(np.exp(values[0]),values_wr[1],yerr=np.sqrt(values_wr[2]),label=\"wo/ redMaPPer\")\n",
    "        axs[i,j].set_xscale(\"log\")\n",
    "        axs[i,j].set_yscale(\"log\")\n",
    "        axs[i,j].legend()\n",
    "#         axs.xscale(\"log\")\n",
    "#         axs[i,j].plot(np.exp(values_wr[0]),values_wr[1])"
   ]
  },
  {
   "cell_type": "code",
   "execution_count": null,
   "metadata": {},
   "outputs": [],
   "source": [
    "fig, axs = plt.subplots(3, 4,figsize=(20,15))\n",
    "for i in range(3):\n",
    "    for j in range(4):\n",
    "        values=ng_matrix[i][j]\n",
    "        values_wr=ng_wr_matrix[i][j]\n",
    "        axs[i,j].plot(np.exp(values[0]),values[1]-values_wr[1])\n",
    "        axs[i,j].set_xscale(\"log\")\n",
    "        axs[i,j].set_yscale(\"log\")"
   ]
  },
  {
   "cell_type": "markdown",
   "metadata": {},
   "source": [
    "# foreground background"
   ]
  },
  {
   "cell_type": "code",
   "execution_count": null,
   "metadata": {},
   "outputs": [],
   "source": [
    "ng_matrix_fore=[[None for i in range(4)] for j in range(3)]\n",
    "\n",
    "for i in trange(3):\n",
    "    for j in trange(4):\n",
    "        ng=get_ng_source(clusters,members,z_bins[i],z_bins[i+1],lambda_bins[j],lambda_bins[j+1],foreback=\"fore\")\n",
    "        ng_values=np.copy(np.array([ng.meanlogr,ng.xi,ng.varxi]))\n",
    "        ng_matrix_fore[i][j]=ng_values\n",
    "        del ng\n",
    "        gc.collect()"
   ]
  },
  {
   "cell_type": "code",
   "execution_count": null,
   "metadata": {},
   "outputs": [],
   "source": [
    "fig, axs = plt.subplots(3, 4,figsize=(20,15))\n",
    "for i in range(3):\n",
    "    for j in range(4):\n",
    "        values=ng_matrix_fore[i][j]\n",
    "        axs[i,j].plot(np.exp(values[0]),values[1])\n",
    "        axs[i,j].set_xscale('log')\n",
    "        axs[i,j].set_yscale('log')"
   ]
  },
  {
   "cell_type": "code",
   "execution_count": null,
   "metadata": {},
   "outputs": [],
   "source": [
    "ng_matrix_back=[[None for i in range(4)] for j in range(3)]\n",
    "\n",
    "for i in trange(3):\n",
    "    for j in trange(4):\n",
    "        ng=get_ng_source(clusters,members,z_bins[i],z_bins[i+1],lambda_bins[j],lambda_bins[j+1],foreback=\"back\")\n",
    "        ng_values=np.copy(np.array([ng.meanlogr,ng.xi,ng.varxi]))\n",
    "        ng_matrix_fore[i][j]=ng_values\n",
    "        del ng\n",
    "        gc.collect()"
   ]
  },
  {
   "cell_type": "code",
   "execution_count": null,
   "metadata": {},
   "outputs": [],
   "source": [
    "fig, axs = plt.subplots(3, 4,figsize=(20,15))\n",
    "for i in range(3):\n",
    "    for j in range(4):\n",
    "        values=ng_matrix_fore[i][j]\n",
    "        axs[i,j].plot(np.exp(values[0]),values[1])\n",
    "        axs[i,j].set_xscale('log')\n",
    "        axs[i,j].set_yscale('log')"
   ]
  },
  {
   "cell_type": "code",
   "execution_count": null,
   "metadata": {},
   "outputs": [],
   "source": [
    "ng_matrix_fore[1][1][1]\n",
    "np.exp(ng_matrix_fore[1][1][0])"
   ]
  }
 ],
 "metadata": {
  "kernelspec": {
   "display_name": "Python 3",
   "language": "python",
   "name": "python3"
  },
  "language_info": {
   "codemirror_mode": {
    "name": "ipython",
    "version": 3
   },
   "file_extension": ".py",
   "mimetype": "text/x-python",
   "name": "python",
   "nbconvert_exporter": "python",
   "pygments_lexer": "ipython3",
   "version": "3.7.3"
  }
 },
 "nbformat": 4,
 "nbformat_minor": 4
}
