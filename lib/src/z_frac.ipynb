{
 "cells": [
  {
   "cell_type": "code",
   "execution_count": 46,
   "metadata": {
    "tags": [
     "parameters"
    ]
   },
   "outputs": [],
   "source": [
    "shape_cat=\"mcal\"\n",
    "vol=\"vlim\"\n",
    "z_range=\"all_z\"\n",
    "key=\"\"\n",
    "quantile=\"\"\n",
    "test=\"\"\n",
    "z_diff=\"\""
   ]
  },
  {
   "cell_type": "code",
   "execution_count": 47,
   "metadata": {},
   "outputs": [
    {
     "name": "stderr",
     "output_type": "stream",
     "text": [
      "/global/homes/z/zchusre/.conda/envs/desdesi/lib/python3.8/site-packages/tqdm/std.py:668: FutureWarning: The Panel class is removed from pandas. Accessing it from the top-level namespace will also be removed in the next version\n",
      "  from pandas import Panel\n"
     ]
    }
   ],
   "source": [
    "from astropy.io import fits\n",
    "from astropy.table import Table\n",
    "import pandas as pd\n",
    "import fitsio as fio\n",
    "import numpy as np\n",
    "import ast\n",
    "\n",
    "import astropy.cosmology\n",
    "from astropy.coordinates import SkyCoord  # High-level coordinates\n",
    "from astropy.coordinates import ICRS, Galactic, FK4, FK5  # Low-level frames\n",
    "from astropy.coordinates import Angle, Latitude, Longitude  # Angles\n",
    "import astropy.units as u\n",
    "from IPython.display import display, Math\n",
    "from tqdm.notebook import tqdm\n",
    "tqdm.pandas()"
   ]
  },
  {
   "cell_type": "code",
   "execution_count": 48,
   "metadata": {},
   "outputs": [],
   "source": [
    "#This header file contains all the common packages\n",
    "%matplotlib inline\n",
    "%run -i /global/project/projectdirs/des/zhou/sa/lib/src/header.py $shape_cat $vol $z_range \n",
    "%run -i /global/project/projectdirs/des/zhou/sa/lib/src/func.py  "
   ]
  },
  {
   "cell_type": "code",
   "execution_count": null,
   "metadata": {},
   "outputs": [],
   "source": [
    "BPZ_table=Table(fits.open('/global/project/projectdirs/des/zhou/y1a1_data/mcal-y1a1-combined-griz-blind-v3-matched_BPZbase.fits')[1].data)"
   ]
  },
  {
   "cell_type": "code",
   "execution_count": null,
   "metadata": {},
   "outputs": [],
   "source": [
    "BPZ_table"
   ]
  },
  {
   "cell_type": "code",
   "execution_count": null,
   "metadata": {},
   "outputs": [],
   "source": [
    "BPZ_table=BPZ_table[['mean_z','coadd_objects_id']]"
   ]
  },
  {
   "cell_type": "code",
   "execution_count": null,
   "metadata": {},
   "outputs": [],
   "source": [
    "BPZ_half=BPZ_table.to_pandas()\n",
    "BPZ_table=None"
   ]
  },
  {
   "cell_type": "code",
   "execution_count": null,
   "metadata": {},
   "outputs": [],
   "source": [
    "mcal = fio.FITS('/global/project/projectdirs/des/zhou/y1a1_data/mcal-y1a1-combined-riz-unblind-v4-matched.fits',memmap=True,mode='r')[1]\n",
    "mcal_id=mcal['coadd_objects_id'][:] "
   ]
  },
  {
   "cell_type": "code",
   "execution_count": null,
   "metadata": {},
   "outputs": [],
   "source": [
    "mcal"
   ]
  },
  {
   "cell_type": "code",
   "execution_count": null,
   "metadata": {},
   "outputs": [],
   "source": [
    "BPZ_half.set_index(\"coadd_objects_id\",inplace=True)"
   ]
  },
  {
   "cell_type": "code",
   "execution_count": null,
   "metadata": {},
   "outputs": [],
   "source": [
    "BPZ_id=BPZ_half.index.to_numpy()\n",
    "shapes_id=shapes.index.to_numpy()"
   ]
  },
  {
   "cell_type": "code",
   "execution_count": null,
   "metadata": {},
   "outputs": [],
   "source": [
    "i_mcal,i_BPZ=sort2n(mcal_id,BPZ_id)"
   ]
  },
  {
   "cell_type": "code",
   "execution_count": null,
   "metadata": {},
   "outputs": [],
   "source": [
    "mcal_half=pd.DataFrame(mcal.read(rows=[i_mcal],columns=['coadd_objects_id','ra','dec','e1','e2','flags_select']).byteswap().newbyteorder())\n",
    "mcal_columns=mcal_half.columns\n",
    "mcal_product_col=pd.MultiIndex.from_product([['All'],mcal_columns],names=['Band','Data'])\n",
    "mcal_half.columns=mcal_product_col\n",
    "mcal_half[('All','RA')]=mcal_half[('All','ra')]\n",
    "mcal_half[('All','DEC')]=mcal_half[('All','dec')]\n",
    "mcal_half.drop(columns=[('All','ra'),('All','dec')],inplace=True)\n",
    "mcal_half.set_index(('All','coadd_objects_id'),inplace=True)"
   ]
  },
  {
   "cell_type": "code",
   "execution_count": null,
   "metadata": {},
   "outputs": [],
   "source": [
    "BPZ_columns=BPZ_half.columns.to_list()\n",
    "BPZ_product_col=pd.MultiIndex.from_product([['All'],BPZ_columns],names=['Band','Data'])\n",
    "BPZ_half.columns=BPZ_product_col"
   ]
  },
  {
   "cell_type": "code",
   "execution_count": null,
   "metadata": {},
   "outputs": [],
   "source": [
    "drop_columns=[('All',column) for column in BPZ_columns if column!='mean_z']\n",
    "BPZ_half.drop(columns=drop_columns,inplace=True)"
   ]
  },
  {
   "cell_type": "code",
   "execution_count": null,
   "metadata": {},
   "outputs": [],
   "source": [
    "assert len(BPZ_half)==len(mcal_half)"
   ]
  },
  {
   "cell_type": "code",
   "execution_count": null,
   "metadata": {},
   "outputs": [],
   "source": [
    "mcal_half.sort_index(inplace=True)\n",
    "BPZ_half.sort_index(inplace=True)"
   ]
  },
  {
   "cell_type": "code",
   "execution_count": null,
   "metadata": {},
   "outputs": [],
   "source": [
    "assert np.all(mcal_half.index==BPZ_half.index)\n",
    "mcal_half[('All','mean_z')]=BPZ_half[('All','mean_z')]"
   ]
  },
  {
   "cell_type": "code",
   "execution_count": null,
   "metadata": {},
   "outputs": [],
   "source": [
    "BPZ=mcal_half\n",
    "BPZ.index.name=\"ID\""
   ]
  },
  {
   "cell_type": "code",
   "execution_count": null,
   "metadata": {},
   "outputs": [],
   "source": [
    "BPZ_half=None\n",
    "mcal_half=None"
   ]
  },
  {
   "cell_type": "markdown",
   "metadata": {},
   "source": [
    "# BPZ&shape"
   ]
  },
  {
   "cell_type": "code",
   "execution_count": null,
   "metadata": {},
   "outputs": [],
   "source": [
    "i_BPZ,i_shapes=sort2n(BPZ_id,shapes_id)"
   ]
  },
  {
   "cell_type": "code",
   "execution_count": null,
   "metadata": {},
   "outputs": [],
   "source": [
    "help(sort2n)"
   ]
  },
  {
   "cell_type": "code",
   "execution_count": null,
   "metadata": {},
   "outputs": [],
   "source": [
    "BPZ_half=BPZ.iloc[i_BPZ]"
   ]
  },
  {
   "cell_type": "code",
   "execution_count": null,
   "metadata": {},
   "outputs": [],
   "source": [
    "BPZ_half.drop([('All',           'RA'),\n",
    "            ('All',          'DEC'),\n",
    "            ('All',           'e1'),\n",
    "            ('All',           'e2'),\n",
    "            ('All', 'flags_select')],inplace=True,axis=1)"
   ]
  },
  {
   "cell_type": "code",
   "execution_count": null,
   "metadata": {},
   "outputs": [],
   "source": [
    "shape_BPZ=pd.concat([shapes,BPZ_half],axis=1,verify_integrity=True)"
   ]
  },
  {
   "cell_type": "code",
   "execution_count": null,
   "metadata": {},
   "outputs": [],
   "source": [
    "# This looks like a suspicious criterion to select memebers\n",
    "\n",
    "members=shape_BPZ[(shape_BPZ[('All','Z')]-shape_BPZ[('All','mean_z')])<=-0.1]"
   ]
  },
  {
   "cell_type": "code",
   "execution_count": null,
   "metadata": {},
   "outputs": [],
   "source": [
    "shape_BPZ.columns"
   ]
  },
  {
   "cell_type": "code",
   "execution_count": null,
   "metadata": {},
   "outputs": [],
   "source": [
    "len(members)/len(BPZ)"
   ]
  },
  {
   "cell_type": "code",
   "execution_count": null,
   "metadata": {},
   "outputs": [],
   "source": [
    "BINS=np.arange(0,2,0.1)\n",
    "plt.hist(shape_BPZ[('All','Z')],histtype=\"step\",label=\"redmapper\",bins=BINS)\n",
    "plt.hist(shape_BPZ[('All','mean_z')],histtype=\"step\",label=\"BPZ\",bins=BINS)\n",
    "plt.legend()"
   ]
  },
  {
   "cell_type": "code",
   "execution_count": null,
   "metadata": {},
   "outputs": [],
   "source": [
    "plt.scatter(shape_BPZ[('All','Z')],shape_BPZ[('All','mean_z')],s=1,)\n",
    "# plt.axis('equal')\n",
    "plt.xlim(0,3)\n",
    "plt.ylim(0,3)\n",
    "plt.xlabel(\"red_z\")\n",
    "plt.ylabel(\"BPZ\")"
   ]
  },
  {
   "cell_type": "code",
   "execution_count": null,
   "metadata": {},
   "outputs": [],
   "source": [
    "len(shape_BPZ[('All','mean_z')])"
   ]
  },
  {
   "cell_type": "code",
   "execution_count": null,
   "metadata": {},
   "outputs": [],
   "source": [
    "shapes[('All','ZRED2')].describe()"
   ]
  },
  {
   "cell_type": "markdown",
   "metadata": {},
   "source": [
    "# Masking &saving"
   ]
  },
  {
   "cell_type": "code",
   "execution_count": null,
   "metadata": {},
   "outputs": [],
   "source": [
    "BPZ=BPZ[BPZ['All','flags_select']==0]\n",
    "BPZ.dropna(axis=0,how='any',inplace=True)"
   ]
  },
  {
   "cell_type": "code",
   "execution_count": null,
   "metadata": {},
   "outputs": [],
   "source": [
    "np.any(np.isnan(BPZ[('All','mean_z')]))"
   ]
  },
  {
   "cell_type": "code",
   "execution_count": null,
   "metadata": {
    "papermill": {
     "duration": null,
     "end_time": null,
     "exception": null,
     "start_time": null,
     "status": "completed"
    },
    "tags": []
   },
   "outputs": [],
   "source": [
    "H0=100 #km s-1 Mpc-1\n",
    "Om0=0.3\n",
    "Ode0=0.7\n",
    "lcdm=astropy.cosmology.FlatLambdaCDM(H0, Om0)"
   ]
  },
  {
   "cell_type": "code",
   "execution_count": null,
   "metadata": {
    "papermill": {
     "duration": null,
     "end_time": null,
     "exception": null,
     "start_time": null,
     "status": "completed"
    },
    "tags": []
   },
   "outputs": [],
   "source": [
    "BPZ[('All','angR')]=BPZ.progress_apply(lambda x:np.float(lcdm.angular_diameter_distance(x[('All','mean_z')])/u.Mpc),axis=1)"
   ]
  },
  {
   "cell_type": "code",
   "execution_count": null,
   "metadata": {},
   "outputs": [],
   "source": [
    "shape_BPZ.to_pickle(\"/global/project/projectdirs/des/zhou/sa/shape_BPZ.pkl\")\n",
    "BPZ.to_pickle(\"/global/project/projectdirs/des/zhou/sa/BPZ.pkl\")"
   ]
  },
  {
   "cell_type": "code",
   "execution_count": null,
   "metadata": {},
   "outputs": [],
   "source": []
  }
 ],
 "metadata": {
  "kernelspec": {
   "display_name": "DESDESI",
   "language": "python",
   "name": "desdesi"
  },
  "language_info": {
   "codemirror_mode": {
    "name": "ipython",
    "version": 3
   },
   "file_extension": ".py",
   "mimetype": "text/x-python",
   "name": "python",
   "nbconvert_exporter": "python",
   "pygments_lexer": "ipython3",
   "version": "3.8.3"
  }
 },
 "nbformat": 4,
 "nbformat_minor": 4
}
