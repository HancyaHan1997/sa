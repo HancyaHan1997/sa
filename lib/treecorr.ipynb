{
 "cells": [
  {
   "cell_type": "code",
   "execution_count": 1,
   "metadata": {},
   "outputs": [],
   "source": [
    "%run /home/cz136/project/sa/lib/header.ipynb"
   ]
  },
  {
   "cell_type": "code",
   "execution_count": 26,
   "metadata": {},
   "outputs": [],
   "source": [
    "import treecorr"
   ]
  },
  {
   "cell_type": "code",
   "execution_count": null,
   "metadata": {},
   "outputs": [],
   "source": []
  },
  {
   "cell_type": "code",
   "execution_count": 74,
   "metadata": {},
   "outputs": [
    {
     "data": {
      "text/plain": [
       "array([ 3.20921049e-02,  1.77562343e+03, -3.76407011e+02, -2.59644098e-02,\n",
       "        1.98680676e-02,  2.19478034e-02,  1.09553932e+02,  2.57535321e+02,\n",
       "       -9.42034719e+01,  2.15897192e+02, -1.03044844e-02,  0.00000000e+00,\n",
       "        0.00000000e+00,  0.00000000e+00,  0.00000000e+00,  0.00000000e+00,\n",
       "        0.00000000e+00,  0.00000000e+00,  0.00000000e+00,  0.00000000e+00])"
      ]
     },
     "execution_count": 74,
     "metadata": {},
     "output_type": "execute_result"
    }
   ],
   "source": [
    "def get_ng(cluster):\n",
    "    \n",
    "    def get_cluster_cen(cluster):\n",
    "        cen_id=cluster[('Alt','Alt1','ID_CENT')]\n",
    "        return (shapes.loc[cen_id])\n",
    "    \n",
    "    def get_cluster_sats(cluster):\n",
    "        cen_mat_id=cluster.name\n",
    "        sats=shapes[shapes['All','MEM_MATCH_ID']==cen_mat_id]\n",
    "        return (sats)\n",
    "    \n",
    "    cen=get_cluster_cen(cluster)\n",
    "    sats=get_cluster_sats(cluster)\n",
    "    \n",
    "    \n",
    "    sats_e1=sats[('All','e1')].to_numpy()\n",
    "    sats_e2=sats[('All','e2')].to_numpy()\n",
    "    \n",
    "#     print(sats_e1,sats_e2)\n",
    "    \n",
    "    cen_e1=cen[('All','e1')].reshape(1)\n",
    "    cen_e2=cen[('All','e2')].reshape(1)\n",
    "    \n",
    "#     print(cen_e1,cen_e2)\n",
    "    \n",
    "    sats_ra=sats[('All','RA')].to_numpy()\n",
    "    sats_dec=sats[('All','DEC')].to_numpy()\n",
    "    \n",
    "    cen_ra=np.array(cen[('All','RA')]).reshape(1)\n",
    "    cen_dec=np.array(cen[('All','DEC')]).reshape(1)\n",
    "    \n",
    "    \n",
    "#     print(np.shape(cen_ra),np.shape(cen_dec))    \n",
    "#     print(cen_ra,cen_dec)    \n",
    "        \n",
    "    sats_cat = treecorr.Catalog( g1 = sats_e1, g2   = sats_e2, \n",
    "                                 ra = sats_ra, dec = sats_dec, \n",
    "                                 ra_units='deg', dec_units='deg')\n",
    "    \n",
    "    cen_cat = treecorr.Catalog( g1 = cen_e1, g2   = cen_e2, \n",
    "                                 ra = cen_ra, dec = cen_dec, \n",
    "                                 ra_units='deg', dec_units='deg')\n",
    "    \n",
    "    ng = treecorr.NGCorrelation(nbins=20, min_sep=0.1, max_sep=10, sep_units='arcmin', bin_slop=0.01,bin_type=\"Linear\")\n",
    "    ng.process(cen_cat,sats_cat)\n",
    "    \n",
    "    \n",
    "    return(ng)\n",
    "\n",
    "get_ng(clusters.iloc[0]).xi"
   ]
  },
  {
   "cell_type": "code",
   "execution_count": 19,
   "metadata": {},
   "outputs": [],
   "source": [
    "test_id=clusters.iloc[0][('Alt','Alt1','ID_CENT')]"
   ]
  },
  {
   "cell_type": "code",
   "execution_count": 53,
   "metadata": {},
   "outputs": [],
   "source": [
    "test_members=shapes[shapes[('All','MEM_MATCH_ID')]==1]"
   ]
  },
  {
   "cell_type": "code",
   "execution_count": 21,
   "metadata": {},
   "outputs": [],
   "source": [
    "test_center=shapes.loc[test_id]"
   ]
  },
  {
   "cell_type": "code",
   "execution_count": 24,
   "metadata": {},
   "outputs": [
    {
     "data": {
      "text/plain": [
       "Band  Data           \n",
       "All   MEM_MATCH_ID              1\n",
       "      Z                  0.429804\n",
       "      RA                  43.5646\n",
       "      DEC                 -58.953\n",
       "      R                         0\n",
       "                           ...   \n",
       "      flags_select_2p           2\n",
       "      flags_select_2m           2\n",
       "      PP                        1\n",
       "      Theta_cen                90\n",
       "      Theta_sat               -90\n",
       "Name: 3089939451, Length: 112, dtype: object"
      ]
     },
     "execution_count": 24,
     "metadata": {},
     "output_type": "execute_result"
    }
   ],
   "source": [
    "test_center"
   ]
  }
 ],
 "metadata": {
  "kernelspec": {
   "display_name": "Python 3",
   "language": "python",
   "name": "python3"
  },
  "language_info": {
   "codemirror_mode": {
    "name": "ipython",
    "version": 3
   },
   "file_extension": ".py",
   "mimetype": "text/x-python",
   "name": "python",
   "nbconvert_exporter": "python",
   "pygments_lexer": "ipython3",
   "version": "3.7.3"
  }
 },
 "nbformat": 4,
 "nbformat_minor": 4
}
