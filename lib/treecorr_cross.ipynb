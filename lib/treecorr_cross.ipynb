{
 "cells": [
  {
   "cell_type": "code",
   "execution_count": 34,
   "metadata": {},
   "outputs": [],
   "source": [
    "%run /home/cz136/project/sa/lib/header.ipynb"
   ]
  },
  {
   "cell_type": "code",
   "execution_count": 35,
   "metadata": {},
   "outputs": [],
   "source": [
    "import treecorr\n",
    "import astropy.cosmology\n",
    "from fastprogress import master_bar, progress_bar\n",
    "from ipywidgets import FloatProgress\n",
    "from IPython.display import display\n",
    "from tqdm import tqdm"
   ]
  },
  {
   "cell_type": "code",
   "execution_count": 36,
   "metadata": {},
   "outputs": [
    {
     "data": {
      "text/plain": [
       "True"
      ]
     },
     "execution_count": 36,
     "metadata": {},
     "output_type": "execute_result"
    }
   ],
   "source": [
    "np.isin(shapes['All','MEM_MATCH_ID'].to_numpy(),clusters.index.to_numpy()).all()"
   ]
  },
  {
   "cell_type": "code",
   "execution_count": 37,
   "metadata": {},
   "outputs": [],
   "source": [
    "def get_ng(cluster,mode):\n",
    "    \n",
    "    if mode == \"s\":\n",
    "        def get_cluster_cen(cluster):\n",
    "            cen_id=cluster[('Alt','Alt1','ID_CENT')]\n",
    "            return (shapes.loc[cen_id])\n",
    "        def get_cluster_sats(cluster):\n",
    "            cen_mat_id=cluster.name\n",
    "            sats=shapes[shapes['All','MEM_MATCH_ID']==cen_mat_id]\n",
    "            return (sats)\n",
    "    elif mode=='r':\n",
    "        def get_cluster_sats(cluster):\n",
    "            return(shapes)\n",
    "        def get_cluster_cen(cluster):\n",
    "            return (random)\n",
    "        \n",
    "    else:\n",
    "        raise\n",
    "        \n",
    "    \n",
    "    cen=get_cluster_cen(cluster)\n",
    "    sats=get_cluster_sats(cluster)\n",
    "    \n",
    "    \n",
    "    sats_e1=sats[('All','e1')].to_numpy()\n",
    "    sats_e2=sats[('All','e2')].to_numpy()\n",
    "    sats_angr=sats[('All','angR')]\n",
    "    \n",
    "#     print(sats_e1,sats_e2)\n",
    "\n",
    "    if type(cen[('All','RA')])==np.float64:\n",
    "#         cen_e1=np.array(cen[('All','e1')]).reshape(1)\n",
    "#         cen_e2=np.array(cen[('All','e2')]).reshape(1)\n",
    "        cen_angr=np.array(cen[('All','angR')]).reshape(1)\n",
    "        cen_ra=np.array(cen[('All','RA')]).reshape(1)\n",
    "        cen_dec=np.array(cen[('All','DEC')]).reshape(1)\n",
    "    else:\n",
    "#         cen_e1=cen[('All','e1')].to_numpy\n",
    "#         cen_e2=cen[('All','e2')].to_numpy()\n",
    "        cen_angr=cen[('All','angR')].to_numpy()\n",
    "        cen_ra=cen[('All','RA')].to_numpy()\n",
    "        cen_dec=cen[('All','DEC')].to_numpy()\n",
    "        \n",
    "    \n",
    "\n",
    "    \n",
    "#     print(cen_e1,cen_e2)\n",
    "    \n",
    "    sats_ra=sats[('All','RA')].to_numpy()\n",
    "    sats_dec=sats[('All','DEC')].to_numpy()\n",
    "    \n",
    "\n",
    "    \n",
    "    \n",
    "#     print(np.shape(cen_ra),np.shape(cen_dec))    \n",
    "#     print(cen_ra,cen_dec)    \n",
    "        \n",
    "    sats_cat = treecorr.Catalog( g1 = sats_e1, g2   = sats_e2, \n",
    "                                 ra = sats_ra, dec = sats_dec,r=sats_angr,\n",
    "                                 ra_units='deg', dec_units='deg')\n",
    "    ## divide by R200m\n",
    "    \n",
    "    cen_cat = treecorr.Catalog( \n",
    "                                 ra = cen_ra, dec = cen_dec, r=cen_angr,\n",
    "                                 ra_units='deg', dec_units='deg')\n",
    "    \n",
    "    ng = treecorr.NGCorrelation(nbins=20, min_sep=0.01, max_sep=1.8, bin_slop=0.0,bin_type=\"Linear\",\n",
    "                               metric=\"Rperp\")\n",
    "    ng.process_cross(cen_cat,sats_cat)\n",
    "    \n",
    "    return(ng)"
   ]
  },
  {
   "cell_type": "code",
   "execution_count": 38,
   "metadata": {},
   "outputs": [],
   "source": [
    "def get_xi_meanlogr_varxi_npairs(cluster):\n",
    "    ng=get_ng(cluster,'s')\n",
    "    return(np.array([ng.xi,ng.meanlogr,ng.varxi,ng.npairs]))"
   ]
  },
  {
   "cell_type": "code",
   "execution_count": 39,
   "metadata": {},
   "outputs": [],
   "source": [
    "def get_r_xi_meanlogr_varxi_npairs(cluster):\n",
    "    ng=get_ng(cluster,'r')\n",
    "    return(np.array([ng.xi,ng.meanlogr,ng.varxi,ng.npairs]))"
   ]
  },
  {
   "cell_type": "code",
   "execution_count": 40,
   "metadata": {},
   "outputs": [
    {
     "name": "stderr",
     "output_type": "stream",
     "text": [
      "12497it [00:36, 341.92it/s]"
     ]
    },
    {
     "name": "stdout",
     "output_type": "stream",
     "text": [
      "File saved!\n"
     ]
    },
    {
     "name": "stderr",
     "output_type": "stream",
     "text": [
      "\n"
     ]
    }
   ],
   "source": [
    "length=len(clusters)\n",
    "ng_list=np.empty([length,4,20])\n",
    "\n",
    "i=0\n",
    "for index,cluster in tqdm(clusters.iterrows()):\n",
    "    ng_list[(i),:,:]=get_xi_meanlogr_varxi_npairs(cluster)\n",
    "    i=i+1\n",
    "np.save(\"/home/cz136/project/sa/data/ng_list_cross.npy\",ng_list)\n",
    "\n",
    "print(\"File saved!\")"
   ]
  },
  {
   "cell_type": "code",
   "execution_count": 41,
   "metadata": {},
   "outputs": [
    {
     "name": "stdout",
     "output_type": "stream",
     "text": [
      "File saved!\n"
     ]
    }
   ],
   "source": [
    "ng_r=get_r_xi_meanlogr_varxi_npairs(cluster.iloc[1])\n",
    "np.save(\"/home/cz136/project/sa/data/ng_r_list_cross.npy\",ng_r)\n",
    "print(\"File saved!\")"
   ]
  },
  {
   "cell_type": "code",
   "execution_count": 42,
   "metadata": {},
   "outputs": [],
   "source": [
    "ng_list=np.load(\"/home/cz136/project/sa/data/ng_list_cross.npy\")\n",
    "ng_r=np.load(\"/home/cz136/project/sa/data/ng_r_list_cross.npy\")\n",
    "length=len(clusters)"
   ]
  },
  {
   "cell_type": "code",
   "execution_count": 71,
   "metadata": {},
   "outputs": [
    {
     "name": "stderr",
     "output_type": "stream",
     "text": [
      "/home/cz136/anaconda3/envs/balrog/lib/python3.7/site-packages/ipykernel_launcher.py:12: RuntimeWarning: invalid value encountered in true_divide\n",
      "  if sys.path[0] == '':\n"
     ]
    }
   ],
   "source": [
    "ng_xi_array=np.empty([length,20])\n",
    "ng_meanlogr_array=np.empty([length,20])\n",
    "ng_varxi_array=np.empty([length,20])\n",
    "ng_npairs_array=np.empty([length,20])\n",
    "for i in range(length):\n",
    "    ng_xi_array[i,:]=ng_list[i,0,:]\n",
    "    ng_meanlogr_array[i,:]=ng_list[i,1,:]\n",
    "    ng_varxi_array[i,:]=ng_list[i,2,:]\n",
    "    ng_npairs_array[i,:]=ng_list[i,3,:]\n",
    "final_xi_cross_array=np.sum(ng_xi_array,axis=0)\n",
    "final_npairs_array=np.sum(ng_npairs_array,axis=0)\n",
    "final_xi_array=final_xi_cross_array/final_npairs_array\n",
    "\n",
    "final_r_xi=ng_r[0]/ng_r[3]\n",
    "\n",
    "final_r_sigma=final_r_xi/np.sqrt(length)"
   ]
  },
  {
   "cell_type": "code",
   "execution_count": 65,
   "metadata": {},
   "outputs": [
    {
     "name": "stderr",
     "output_type": "stream",
     "text": [
      "/home/cz136/anaconda3/envs/balrog/lib/python3.7/site-packages/ipykernel_launcher.py:2: RuntimeWarning: invalid value encountered in true_divide\n",
      "  \n"
     ]
    }
   ],
   "source": [
    "final_xi=final_xi_array-final_r_xi\n",
    "final_meanlogr=np.sum(ng_meanlogr_array,axis=0)/np.sum(ng_npairs_array,axis=0)\n",
    "final_sigma=np.mean(np.sqrt(ng_varxi_array),axis=0)/np.sqrt(length)\n",
    "\n",
    "final_sigma=(final_xi_array-final_r_xi)/np.sqrt(length)"
   ]
  },
  {
   "cell_type": "code",
   "execution_count": 66,
   "metadata": {},
   "outputs": [],
   "source": [
    "def plt_w_error(meanlogr,xi,varxi,title):\n",
    "    fig,ax=plt.subplots()\n",
    "    ax.errorbar(np.exp(meanlogr),xi,yerr=varxi)\n",
    "    ax.set_title(title)\n",
    "#     plt.xscale('log')\n",
    "#     plt.yscale('log')"
   ]
  },
  {
   "cell_type": "code",
   "execution_count": 72,
   "metadata": {},
   "outputs": [
    {
     "data": {
      "image/png": "[encoded data removed]",
      "text/plain": [
       "<Figure size 432x288 with 1 Axes>"
      ]
     },
     "metadata": {},
     "output_type": "display_data"
    }
   ],
   "source": [
    "plt_w_error(ng_r[1]/ng_r[3],final_r_xi,final_r_sigma,r\"$\\gamma_T$ with Random Catalog\")"
   ]
  },
  {
   "cell_type": "code",
   "execution_count": 73,
   "metadata": {},
   "outputs": [
    {
     "data": {
      "image/png": "[encoded data removed]",
      "text/plain": [
       "<Figure size 432x288 with 1 Axes>"
      ]
     },
     "metadata": {},
     "output_type": "display_data"
    }
   ],
   "source": [
    "plt_w_error(final_meanlogr,final_xi,final_sigma,r\"$\\gamma_T$ of Clusters - $\\gamma_T$ with Random Catalog\")"
   ]
  },
  {
   "cell_type": "code",
   "execution_count": 69,
   "metadata": {},
   "outputs": [
    {
     "data": {
      "image/png": "[encoded data removed]",
      "text/plain": [
       "<Figure size 432x288 with 1 Axes>"
      ]
     },
     "metadata": {},
     "output_type": "display_data"
    }
   ],
   "source": [
    "plt_w_error(final_meanlogr,final_xi_array,final_sigma,r\"$\\gamma_T$ of Clusters \")"
   ]
  },
  {
   "cell_type": "code",
   "execution_count": 49,
   "metadata": {},
   "outputs": [],
   "source": [
    "def get_rel_ng(cluster,mode):\n",
    "    \n",
    "    if mode == \"s\":\n",
    "        def get_cluster_cen(cluster):\n",
    "            cen_id=cluster[('Alt','Alt1','ID_CENT')]\n",
    "            return (shapes.loc[cen_id])\n",
    "        def get_cluster_sats(cluster):\n",
    "            cen_mat_id=cluster.name\n",
    "            sats=shapes[shapes['All','MEM_MATCH_ID']==cen_mat_id]\n",
    "            return (sats)\n",
    "    elif mode=='r':\n",
    "        def get_cluster_sats(cluster):\n",
    "            return(shapes)\n",
    "        def get_cluster_cen(cluster):\n",
    "            return (random)\n",
    "        \n",
    "    else:\n",
    "        raise\n",
    "        \n",
    "\n",
    "    \n",
    "\n",
    "    \n",
    "\n",
    "    \n",
    "    cen=get_cluster_cen(cluster)\n",
    "    sats=get_cluster_sats(cluster)\n",
    "    \n",
    "    \n",
    "    sats_e1=sats[('All','e1')].to_numpy()\n",
    "    sats_e2=sats[('All','e2')].to_numpy()\n",
    "    sats_angr=sats[('All','angR')]\n",
    "    \n",
    "#     print(sats_e1,sats_e2)\n",
    "\n",
    "    if type(cen[('All','RA')])==np.float64:\n",
    "#         cen_e1=np.array(cen[('All','e1')]).reshape(1)\n",
    "#         cen_e2=np.array(cen[('All','e2')]).reshape(1)\n",
    "        cen_angr=np.array(cen[('All','angR')]).reshape(1)\n",
    "        cen_ra=np.array(cen[('All','RA')]).reshape(1)\n",
    "        cen_dec=np.array(cen[('All','DEC')]).reshape(1)\n",
    "    else:\n",
    "#         cen_e1=cen[('All','e1')].to_numpy\n",
    "#         cen_e2=cen[('All','e2')].to_numpy()\n",
    "        cen_angr=cen[('All','angR')].to_numpy()\n",
    "        cen_ra=cen[('All','RA')].to_numpy()\n",
    "        cen_dec=cen[('All','DEC')].to_numpy()\n",
    "        \n",
    "    \n",
    "\n",
    "    \n",
    "#     print(cen_e1,cen_e2)\n",
    "    \n",
    "    sats_ra=sats[('All','RA')].to_numpy()\n",
    "    sats_dec=sats[('All','DEC')].to_numpy()\n",
    "    \n",
    "\n",
    "    \n",
    "    \n",
    "#     print(np.shape(cen_ra),np.shape(cen_dec))    \n",
    "#     print(cen_ra,cen_dec)    \n",
    "        \n",
    "    sats_cat = treecorr.Catalog( g1 = sats_e1, g2   = sats_e2, \n",
    "                                 ra = sats_ra, dec = sats_dec,r=sats_angr,\n",
    "                                 ra_units='deg', dec_units='deg')\n",
    "    \n",
    "    cen_cat = treecorr.Catalog( \n",
    "                                 ra = cen_ra, dec = cen_dec, r=cen_angr,\n",
    "                                 ra_units='deg', dec_units='deg')\n",
    "    \n",
    "    ng = treecorr.NGCorrelation(nbins=20, min_sep=0.01, max_sep=1.8, bin_slop=0.0,bin_type=\"Linear\",\n",
    "                               metric=\"Rperp\")\n",
    "    ng.process(cen_cat,sats_cat)\n",
    "    \n",
    "    return(ng)"
   ]
  },
  {
   "cell_type": "code",
   "execution_count": 50,
   "metadata": {},
   "outputs": [],
   "source": [
    "# def plt_gg(gg,title=None):\n",
    "#     corrfunc=gg['gg']\n",
    "#     length = gg['length']\n",
    "#     g1avg = gg['g1avg']\n",
    "#     g2avg = gg['g2avg']\n",
    "#     g1sigma=gg['g1sigma']\n",
    "#     g2sigma=gg['g2sigma']\n",
    "    \n",
    "# #     gg_dict={'gg':gg, 'length':len(catalog), 'g1avg':np.mean(catalog['delta_g1']), 'g2_avg':np.mean(catalog['delta_g1']),\n",
    "# #                 'g1sigma':np.std(catalog['delta_g1']),'g2sigma':np.std(catalog['delta_g2'])} \n",
    "        \n",
    "#     textstr = '\\n'.join((\n",
    "#         r'$n=%.2e$' % (length, ),\n",
    "#         r'$g1_{avg}=%.2e$' % (g1avg, ),\n",
    "#         r'$\\sigma_{g1}=%.2e$' % (g1sigma, ),\n",
    "#         r'$g2_{avg}=%.2e$' % (g2avg, ),\n",
    "#         r'$\\sigma_{g2}=%.2e$' % (g2sigma, )))\n",
    "    \n",
    "    \n",
    "#     props = dict(boxstyle='round', facecolor='wheat', alpha=0.5)\n",
    "\n",
    "#     fig,ax = plt.subplots()\n",
    "#     ax.errorbar(np.exp(corrfunc.meanlogr),corrfunc.xip,yerr=np.sqrt(corrfunc.varxip))\n",
    "#     plt.xscale('log')\n",
    "#     plt.yscale('log')\n",
    "#     plt.title(title+'_xip')\n",
    "#     plt.xlabel('$\\\\theta$/arcmin')\n",
    "#     ax.text(0.80, 0.95, textstr, transform=ax.transAxes, fontsize=5,\n",
    "#             verticalalignment='top', bbox=props)\n",
    "#     plt.savefig('/home/cz136/project/balrog/image/corr/{}_xip'.format(title),dpi=150)\n",
    "#     plt.close()\n",
    "    \n",
    "#     fig,ax = plt.subplots()\n",
    "#     plt.errorbar(corrfunc.meanlogr,corrfunc.xim,yerr=np.sqrt(corrfunc.varxim))\n",
    "#     plt.xscale('log')\n",
    "#     plt.yscale('log')\n",
    "#     plt.title(title+'_xim')\n",
    "#     plt.xlabel(r\"$\\theta$ /arcmin\")\n",
    "#     ax.text(0.80, 0.95, textstr, transform=ax.transAxes, fontsize=5,\n",
    "#             verticalalignment='top', bbox=props)\n",
    "#     plt.savefig('/home/cz136/project/balrog/image/corr/{}_xim'.format(title),dpi=150)\n",
    "#     plt.close()"
   ]
  },
  {
   "cell_type": "code",
   "execution_count": null,
   "metadata": {},
   "outputs": [],
   "source": []
  },
  {
   "cell_type": "code",
   "execution_count": null,
   "metadata": {},
   "outputs": [],
   "source": []
  }
 ],
 "metadata": {
  "kernelspec": {
   "display_name": "Python 3",
   "language": "python",
   "name": "python3"
  },
  "language_info": {
   "codemirror_mode": {
    "name": "ipython",
    "version": 3
   },
   "file_extension": ".py",
   "mimetype": "text/x-python",
   "name": "python",
   "nbconvert_exporter": "python",
   "pygments_lexer": "ipython3",
   "version": "3.7.3"
  }
 },
 "nbformat": 4,
 "nbformat_minor": 4
}
