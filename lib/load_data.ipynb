{
 "cells": [
  {
   "cell_type": "code",
   "execution_count": 62,
   "metadata": {},
   "outputs": [],
   "source": [
    "from astropy.io import fits\n",
    "from astropy.table import Table\n",
    "import pandas as pd\n",
    "import fitsio as fio\n",
    "import numpy as np\n",
    "import pyfits as pt\n",
    "import ast"
   ]
  },
  {
   "cell_type": "code",
   "execution_count": 63,
   "metadata": {},
   "outputs": [],
   "source": [
    "cluster_table=Table(fits.open('/lsst/troxel/y1a1/y1a1_gold_1.0.3-d10-mof-001d_run_redmapper_v6.4.17-vlim_lgt20_desformat_catalog.fit')[1].data)\n",
    "member_table=Table(fits.open('/lsst/troxel/y1a1/y1a1_gold_1.0.3-d10-mof-001d_run_redmapper_v6.4.17-vlim_lgt20_desformat_catalog_members.fit')[1].data)\n",
    "\n",
    "cluster_table.remove_columns(['P_C','C_LAMBDA','C_LAMBDA_ERR','Q_CEN']) #unknown columns"
   ]
  },
  {
   "cell_type": "code",
   "execution_count": 64,
   "metadata": {},
   "outputs": [
    {
     "name": "stdout",
     "output_type": "stream",
     "text": [
      "Metacal loaded\n"
     ]
    }
   ],
   "source": [
    "mcal = fio.FITS('/lsst/troxel/y1a1/mcal-y1a1-combined-riz-unblind-v4-matched.fits',memmap=True,mode='r')[1]\n",
    "print (\"Metacal loaded\")\n",
    "shape_id=mcal['coadd_objects_id'][:]"
   ]
  },
  {
   "cell_type": "code",
   "execution_count": 65,
   "metadata": {},
   "outputs": [],
   "source": [
    "problem_list =['MODEL_MAG', 'MODEL_MAGERR', 'MAG_LAMBDA_ERR', 'PZBINS',\n",
    "               'PZ', 'RA_CENT', 'DEC_CENT', 'ID_CENT', 'LAMBDA_CHISQ_CENT',\n",
    "               'ZLAMBDA_CENT', 'P_BCG', 'P_CEN', 'P_FG', 'P_SAT']"
   ]
  },
  {
   "cell_type": "code",
   "execution_count": 66,
   "metadata": {},
   "outputs": [],
   "source": [
    "band_col_list = []\n",
    "pz_col_list = []\n",
    "alt_col_list =[]\n",
    "for problem in problem_list:\n",
    "    if cluster_table[problem].shape[1]==4:\n",
    "        band_col_list.append(problem)\n",
    "    elif cluster_table[problem].shape[1]==5:\n",
    "        alt_col_list.append(problem)\n",
    "    elif cluster_table[problem].shape[1]==21:\n",
    "        pz_col_list.append(problem)\n",
    "    else:\n",
    "        print (\"error\")"
   ]
  },
  {
   "cell_type": "code",
   "execution_count": 67,
   "metadata": {},
   "outputs": [],
   "source": [
    "band_list=['g','r','i','z','Y']\n",
    "pz_index_list=['pz'+str(i+1) for i in range(21)]\n",
    "alt_index_list=['Alt'+str(i+1) for i in range(5)]"
   ]
  },
  {
   "cell_type": "code",
   "execution_count": 68,
   "metadata": {},
   "outputs": [],
   "source": [
    "for j in range(4):\n",
    "    for i,column in enumerate(band_col_list):\n",
    "        cluster_table[str(('Band',band_list[j],column))]=cluster_table[column].data[:,j]\n",
    "cluster_table.remove_columns(band_col_list)"
   ]
  },
  {
   "cell_type": "code",
   "execution_count": 69,
   "metadata": {},
   "outputs": [],
   "source": [
    "for i,column in enumerate(pz_col_list):\n",
    "    for j in range(21):\n",
    "        cluster_table[str(('PZ',pz_index_list[j],column))]=cluster_table[column].data[:,j]\n",
    "cluster_table.remove_columns(pz_col_list)"
   ]
  },
  {
   "cell_type": "code",
   "execution_count": 70,
   "metadata": {},
   "outputs": [],
   "source": [
    "for i,column in enumerate(alt_col_list):\n",
    "    for j in range(5):\n",
    "        cluster_table[str(('Alt',alt_index_list[j],column))]=cluster_table[column].data[:,j]\n",
    "cluster_table.remove_columns(alt_col_list)"
   ]
  },
  {
   "cell_type": "code",
   "execution_count": 71,
   "metadata": {},
   "outputs": [],
   "source": [
    "all_col_list=list(cluster_table.columns[0:54])\n",
    "for i,column in enumerate(all_col_list):\n",
    "    cluster_table[str(('All','All',column))]=cluster_table[column].data[:]\n",
    "cluster_table.remove_columns(all_col_list)"
   ]
  },
  {
   "cell_type": "code",
   "execution_count": 72,
   "metadata": {},
   "outputs": [],
   "source": [
    "for j in range(4):\n",
    "    for i,column in enumerate(band_col_list[0:2]):\n",
    "        member_table['('+band_list[j]+','+column+')']=member_table[column].data[:,j]\n",
    "member_table.remove_columns(band_col_list[0:2]) "
   ]
  },
  {
   "cell_type": "code",
   "execution_count": 73,
   "metadata": {},
   "outputs": [
    {
     "name": "stdout",
     "output_type": "stream",
     "text": [
      "Center& member loaded\n",
      "Memory cleared\n"
     ]
    }
   ],
   "source": [
    "cluster=cluster_table.to_pandas()\n",
    "member=member_table.to_pandas()\n",
    "print (\"Center& member loaded\")\n",
    "# center_table=None\n",
    "# member_table=None\n",
    "print (\"Memory cleared\")"
   ]
  },
  {
   "cell_type": "code",
   "execution_count": 74,
   "metadata": {},
   "outputs": [],
   "source": [
    "member_cols = member.columns[0:22]\n",
    "shape_columns=pd.MultiIndex.from_product([['All'],list(mcal.get_colnames())],names=['Band','Data'])"
   ]
  },
  {
   "cell_type": "code",
   "execution_count": 75,
   "metadata": {},
   "outputs": [],
   "source": [
    "center_bins=[m+str(n) for m,n in zip(['cen_']*5,np.arange(5)+1)]\n",
    "center=pd.MultiIndex.from_product([['Center'],center_bins,member_cols])"
   ]
  },
  {
   "cell_type": "code",
   "execution_count": 76,
   "metadata": {},
   "outputs": [],
   "source": [
    "cluster_band_columns=pd.MultiIndex.from_product([['g','r','i','z'],\n",
    "                                       ['MODEL_MAG','MODEL_MAGERR','MAG_LAMBDA_ERR']],\n",
    "                                     names=['band','data'])"
   ]
  },
  {
   "cell_type": "code",
   "execution_count": 77,
   "metadata": {},
   "outputs": [],
   "source": [
    "# alt_bins=[m+str(n) for m,n in zip(['alt_']*5,np.arange(5)+1)]\n",
    "# alt_columns=pd.MultiIndex.from_product([alt_bins,\n",
    "#                                        alt_col_list.append(shape_names)],\n",
    "#                                      names=['alt_index','data'])"
   ]
  },
  {
   "cell_type": "code",
   "execution_count": 78,
   "metadata": {},
   "outputs": [],
   "source": [
    "member_band_columns=pd.MultiIndex.from_product([['g','r','i','z'],\n",
    "                                       ['MODEL_MAG','MODEL_MAGERR',]],\n",
    "                                     names=['Band','Data'])"
   ]
  },
  {
   "cell_type": "code",
   "execution_count": 79,
   "metadata": {},
   "outputs": [
    {
     "data": {
      "text/plain": [
       "MultiIndex(levels=[[u'g', u'i', u'r', u'z'], [u'MODEL_MAG', u'MODEL_MAGERR']],\n",
       "           labels=[[0, 0, 2, 2, 1, 1, 3, 3], [0, 1, 0, 1, 0, 1, 0, 1]],\n",
       "           names=[u'Band', u'Data'])"
      ]
     },
     "execution_count": 79,
     "metadata": {},
     "output_type": "execute_result"
    }
   ],
   "source": [
    "member_band_columns"
   ]
  },
  {
   "cell_type": "code",
   "execution_count": 80,
   "metadata": {},
   "outputs": [],
   "source": [
    "shape_index=pd.MultiIndex.from_tuples([('MEM_MATCH_ID','TYPE')],names=['ClusterID','Type'])"
   ]
  },
  {
   "cell_type": "code",
   "execution_count": 81,
   "metadata": {},
   "outputs": [],
   "source": [
    "shape_df=pd.DataFrame(index=shape_index,columns=member_band_columns)"
   ]
  },
  {
   "cell_type": "code",
   "execution_count": 82,
   "metadata": {},
   "outputs": [
    {
     "data": {
      "text/html": [
       "<div>\n",
       "<table border=\"1\" class=\"dataframe\">\n",
       "  <thead>\n",
       "    <tr>\n",
       "      <th></th>\n",
       "      <th>Band</th>\n",
       "      <th colspan=\"2\" halign=\"left\">g</th>\n",
       "      <th colspan=\"2\" halign=\"left\">r</th>\n",
       "      <th colspan=\"2\" halign=\"left\">i</th>\n",
       "      <th colspan=\"2\" halign=\"left\">z</th>\n",
       "    </tr>\n",
       "    <tr>\n",
       "      <th></th>\n",
       "      <th>Data</th>\n",
       "      <th>MODEL_MAG</th>\n",
       "      <th>MODEL_MAGERR</th>\n",
       "      <th>MODEL_MAG</th>\n",
       "      <th>MODEL_MAGERR</th>\n",
       "      <th>MODEL_MAG</th>\n",
       "      <th>MODEL_MAGERR</th>\n",
       "      <th>MODEL_MAG</th>\n",
       "      <th>MODEL_MAGERR</th>\n",
       "    </tr>\n",
       "    <tr>\n",
       "      <th>ClusterID</th>\n",
       "      <th>Type</th>\n",
       "      <th></th>\n",
       "      <th></th>\n",
       "      <th></th>\n",
       "      <th></th>\n",
       "      <th></th>\n",
       "      <th></th>\n",
       "      <th></th>\n",
       "      <th></th>\n",
       "    </tr>\n",
       "  </thead>\n",
       "  <tbody>\n",
       "    <tr>\n",
       "      <th>MEM_MATCH_ID</th>\n",
       "      <th>TYPE</th>\n",
       "      <td>1</td>\n",
       "      <td>1</td>\n",
       "      <td>1</td>\n",
       "      <td>1</td>\n",
       "      <td>1</td>\n",
       "      <td>1</td>\n",
       "      <td>1</td>\n",
       "      <td>1</td>\n",
       "    </tr>\n",
       "  </tbody>\n",
       "</table>\n",
       "</div>"
      ],
      "text/plain": [
       "Band                      g                      r                      i  \\\n",
       "Data              MODEL_MAG MODEL_MAGERR MODEL_MAG MODEL_MAGERR MODEL_MAG   \n",
       "ClusterID    Type                                                           \n",
       "MEM_MATCH_ID TYPE         1            1         1            1         1   \n",
       "\n",
       "Band                                   z               \n",
       "Data              MODEL_MAGERR MODEL_MAG MODEL_MAGERR  \n",
       "ClusterID    Type                                      \n",
       "MEM_MATCH_ID TYPE            1         1            1  "
      ]
     },
     "execution_count": 82,
     "metadata": {},
     "output_type": "execute_result"
    }
   ],
   "source": [
    "shape_df.fillna(value=1)"
   ]
  },
  {
   "cell_type": "code",
   "execution_count": 83,
   "metadata": {},
   "outputs": [],
   "source": [
    "mcal_df =pd.DataFrame(index=shape_index,columns=shape_columns) "
   ]
  },
  {
   "cell_type": "code",
   "execution_count": 84,
   "metadata": {},
   "outputs": [
    {
     "data": {
      "text/html": [
       "<div>\n",
       "<table border=\"1\" class=\"dataframe\">\n",
       "  <thead>\n",
       "    <tr>\n",
       "      <th></th>\n",
       "      <th>Band</th>\n",
       "      <th colspan=\"21\" halign=\"left\">All</th>\n",
       "    </tr>\n",
       "    <tr>\n",
       "      <th></th>\n",
       "      <th>Data</th>\n",
       "      <th>coadd_objects_id</th>\n",
       "      <th>flags</th>\n",
       "      <th>mask_frac</th>\n",
       "      <th>psf_e1</th>\n",
       "      <th>psf_e2</th>\n",
       "      <th>psf_size</th>\n",
       "      <th>mcal_psf_e1</th>\n",
       "      <th>mcal_psf_e2</th>\n",
       "      <th>mcal_psf_size</th>\n",
       "      <th>e1</th>\n",
       "      <th>...</th>\n",
       "      <th>R22</th>\n",
       "      <th>region</th>\n",
       "      <th>ra</th>\n",
       "      <th>dec</th>\n",
       "      <th>tilename</th>\n",
       "      <th>flags_select</th>\n",
       "      <th>flags_select_1p</th>\n",
       "      <th>flags_select_1m</th>\n",
       "      <th>flags_select_2p</th>\n",
       "      <th>flags_select_2m</th>\n",
       "    </tr>\n",
       "    <tr>\n",
       "      <th>ClusterID</th>\n",
       "      <th>Type</th>\n",
       "      <th></th>\n",
       "      <th></th>\n",
       "      <th></th>\n",
       "      <th></th>\n",
       "      <th></th>\n",
       "      <th></th>\n",
       "      <th></th>\n",
       "      <th></th>\n",
       "      <th></th>\n",
       "      <th></th>\n",
       "      <th></th>\n",
       "      <th></th>\n",
       "      <th></th>\n",
       "      <th></th>\n",
       "      <th></th>\n",
       "      <th></th>\n",
       "      <th></th>\n",
       "      <th></th>\n",
       "      <th></th>\n",
       "      <th></th>\n",
       "      <th></th>\n",
       "    </tr>\n",
       "  </thead>\n",
       "  <tbody>\n",
       "    <tr>\n",
       "      <th>MEM_MATCH_ID</th>\n",
       "      <th>TYPE</th>\n",
       "      <td>1</td>\n",
       "      <td>1</td>\n",
       "      <td>1</td>\n",
       "      <td>1</td>\n",
       "      <td>1</td>\n",
       "      <td>1</td>\n",
       "      <td>1</td>\n",
       "      <td>1</td>\n",
       "      <td>1</td>\n",
       "      <td>1</td>\n",
       "      <td>...</td>\n",
       "      <td>1</td>\n",
       "      <td>1</td>\n",
       "      <td>1</td>\n",
       "      <td>1</td>\n",
       "      <td>1</td>\n",
       "      <td>1</td>\n",
       "      <td>1</td>\n",
       "      <td>1</td>\n",
       "      <td>1</td>\n",
       "      <td>1</td>\n",
       "    </tr>\n",
       "  </tbody>\n",
       "</table>\n",
       "<p>1 rows × 80 columns</p>\n",
       "</div>"
      ],
      "text/plain": [
       "Band                           All                                         \\\n",
       "Data              coadd_objects_id flags mask_frac psf_e1 psf_e2 psf_size   \n",
       "ClusterID    Type                                                           \n",
       "MEM_MATCH_ID TYPE                1     1         1      1      1        1   \n",
       "\n",
       "Band                                                             ...        \\\n",
       "Data              mcal_psf_e1 mcal_psf_e2 mcal_psf_size e1       ...         \n",
       "ClusterID    Type                                                ...         \n",
       "MEM_MATCH_ID TYPE           1           1             1  1       ...         \n",
       "\n",
       "Band                                                                       \\\n",
       "Data              R22 region ra dec tilename flags_select flags_select_1p   \n",
       "ClusterID    Type                                                           \n",
       "MEM_MATCH_ID TYPE   1      1  1   1        1            1               1   \n",
       "\n",
       "Band                                                               \n",
       "Data              flags_select_1m flags_select_2p flags_select_2m  \n",
       "ClusterID    Type                                                  \n",
       "MEM_MATCH_ID TYPE               1               1               1  \n",
       "\n",
       "[1 rows x 80 columns]"
      ]
     },
     "execution_count": 84,
     "metadata": {},
     "output_type": "execute_result"
    }
   ],
   "source": [
    "mcal_df.fillna(value=1)"
   ]
  },
  {
   "cell_type": "code",
   "execution_count": 85,
   "metadata": {},
   "outputs": [
    {
     "data": {
      "text/html": [
       "<div>\n",
       "<table border=\"1\" class=\"dataframe\">\n",
       "  <thead>\n",
       "    <tr>\n",
       "      <th></th>\n",
       "      <th>Band</th>\n",
       "      <th colspan=\"13\" halign=\"left\">All</th>\n",
       "      <th colspan=\"2\" halign=\"left\">g</th>\n",
       "      <th colspan=\"2\" halign=\"left\">r</th>\n",
       "      <th colspan=\"2\" halign=\"left\">i</th>\n",
       "      <th colspan=\"2\" halign=\"left\">z</th>\n",
       "    </tr>\n",
       "    <tr>\n",
       "      <th></th>\n",
       "      <th>Data</th>\n",
       "      <th>coadd_objects_id</th>\n",
       "      <th>flags</th>\n",
       "      <th>mask_frac</th>\n",
       "      <th>psf_e1</th>\n",
       "      <th>psf_e2</th>\n",
       "      <th>psf_size</th>\n",
       "      <th>mcal_psf_e1</th>\n",
       "      <th>mcal_psf_e2</th>\n",
       "      <th>mcal_psf_size</th>\n",
       "      <th>e1</th>\n",
       "      <th>...</th>\n",
       "      <th>flags_select_2p</th>\n",
       "      <th>flags_select_2m</th>\n",
       "      <th>MODEL_MAG</th>\n",
       "      <th>MODEL_MAGERR</th>\n",
       "      <th>MODEL_MAG</th>\n",
       "      <th>MODEL_MAGERR</th>\n",
       "      <th>MODEL_MAG</th>\n",
       "      <th>MODEL_MAGERR</th>\n",
       "      <th>MODEL_MAG</th>\n",
       "      <th>MODEL_MAGERR</th>\n",
       "    </tr>\n",
       "    <tr>\n",
       "      <th>ClusterID</th>\n",
       "      <th>Type</th>\n",
       "      <th></th>\n",
       "      <th></th>\n",
       "      <th></th>\n",
       "      <th></th>\n",
       "      <th></th>\n",
       "      <th></th>\n",
       "      <th></th>\n",
       "      <th></th>\n",
       "      <th></th>\n",
       "      <th></th>\n",
       "      <th></th>\n",
       "      <th></th>\n",
       "      <th></th>\n",
       "      <th></th>\n",
       "      <th></th>\n",
       "      <th></th>\n",
       "      <th></th>\n",
       "      <th></th>\n",
       "      <th></th>\n",
       "      <th></th>\n",
       "      <th></th>\n",
       "    </tr>\n",
       "  </thead>\n",
       "  <tbody>\n",
       "    <tr>\n",
       "      <th>MEM_MATCH_ID</th>\n",
       "      <th>TYPE</th>\n",
       "      <td>NaN</td>\n",
       "      <td>NaN</td>\n",
       "      <td>NaN</td>\n",
       "      <td>NaN</td>\n",
       "      <td>NaN</td>\n",
       "      <td>NaN</td>\n",
       "      <td>NaN</td>\n",
       "      <td>NaN</td>\n",
       "      <td>NaN</td>\n",
       "      <td>NaN</td>\n",
       "      <td>...</td>\n",
       "      <td>NaN</td>\n",
       "      <td>NaN</td>\n",
       "      <td>NaN</td>\n",
       "      <td>NaN</td>\n",
       "      <td>NaN</td>\n",
       "      <td>NaN</td>\n",
       "      <td>NaN</td>\n",
       "      <td>NaN</td>\n",
       "      <td>NaN</td>\n",
       "      <td>NaN</td>\n",
       "    </tr>\n",
       "  </tbody>\n",
       "</table>\n",
       "<p>1 rows × 88 columns</p>\n",
       "</div>"
      ],
      "text/plain": [
       "Band                           All                                         \\\n",
       "Data              coadd_objects_id flags mask_frac psf_e1 psf_e2 psf_size   \n",
       "ClusterID    Type                                                           \n",
       "MEM_MATCH_ID TYPE              NaN   NaN       NaN    NaN    NaN      NaN   \n",
       "\n",
       "Band                                                             ...       \\\n",
       "Data              mcal_psf_e1 mcal_psf_e2 mcal_psf_size   e1     ...        \n",
       "ClusterID    Type                                                ...        \n",
       "MEM_MATCH_ID TYPE         NaN         NaN           NaN  NaN     ...        \n",
       "\n",
       "Band                                                      g               \\\n",
       "Data              flags_select_2p flags_select_2m MODEL_MAG MODEL_MAGERR   \n",
       "ClusterID    Type                                                          \n",
       "MEM_MATCH_ID TYPE             NaN             NaN       NaN          NaN   \n",
       "\n",
       "Band                      r                      i                      z  \\\n",
       "Data              MODEL_MAG MODEL_MAGERR MODEL_MAG MODEL_MAGERR MODEL_MAG   \n",
       "ClusterID    Type                                                           \n",
       "MEM_MATCH_ID TYPE       NaN          NaN       NaN          NaN       NaN   \n",
       "\n",
       "Band                            \n",
       "Data              MODEL_MAGERR  \n",
       "ClusterID    Type               \n",
       "MEM_MATCH_ID TYPE          NaN  \n",
       "\n",
       "[1 rows x 88 columns]"
      ]
     },
     "execution_count": 85,
     "metadata": {},
     "output_type": "execute_result"
    }
   ],
   "source": [
    "pd.concat([mcal_df,shape_df],axis=1)"
   ]
  },
  {
   "cell_type": "code",
   "execution_count": 86,
   "metadata": {},
   "outputs": [],
   "source": [
    "member_id=member['ID'].values"
   ]
  },
  {
   "cell_type": "code",
   "execution_count": 87,
   "metadata": {},
   "outputs": [],
   "source": [
    "# for id in member_id:\n",
    "#     mask = pd.Series(shape_id)==id"
   ]
  },
  {
   "cell_type": "code",
   "execution_count": 88,
   "metadata": {},
   "outputs": [],
   "source": [
    "shape_id_series = pd.Series(shape_id)"
   ]
  },
  {
   "cell_type": "code",
   "execution_count": 89,
   "metadata": {},
   "outputs": [],
   "source": [
    "iloc=pd.Series(np.arange(len(shape_id_series)))"
   ]
  },
  {
   "cell_type": "code",
   "execution_count": 90,
   "metadata": {},
   "outputs": [],
   "source": [
    "temp=pd.concat([shape_id_series,iloc],axis=1)"
   ]
  },
  {
   "cell_type": "code",
   "execution_count": 91,
   "metadata": {},
   "outputs": [],
   "source": [
    "def sort2n(x,y):\n",
    "    \"\"\"\n",
    "    Sorts and matches two arrays of object ids where x is unique and y is not (in DES this is coadd_objects_id).\n",
    "    Slower than sort2().\n",
    "    \"\"\"\n",
    "    \n",
    "    xsort = np.argsort(x)\n",
    "    ysort = np.argsort(y)\n",
    "    i_yx = np.sort(y[np.in1d(y, x, assume_unique=False)])\n",
    "    i_x = xsort[x[xsort].searchsorted(i_yx)]\n",
    "    i_y = ysort[y[ysort].searchsorted(i_yx)]\n",
    "    \n",
    "    return i_x, i_y"
   ]
  },
  {
   "cell_type": "code",
   "execution_count": 92,
   "metadata": {},
   "outputs": [],
   "source": [
    "s2n_index=sort2n(member_id,shape_id)"
   ]
  },
  {
   "cell_type": "code",
   "execution_count": 93,
   "metadata": {},
   "outputs": [
    {
     "data": {
      "text/plain": [
       "array([       64,        82,       201, ..., 134632602, 134632624,\n",
       "       134632632])"
      ]
     },
     "execution_count": 93,
     "metadata": {},
     "output_type": "execute_result"
    }
   ],
   "source": [
    "s2n_index[1]"
   ]
  },
  {
   "cell_type": "code",
   "execution_count": 94,
   "metadata": {},
   "outputs": [],
   "source": [
    "shape_half=pd.DataFrame(mcal.read(rows=[s2n_index[1]]).byteswap().newbyteorder())"
   ]
  },
  {
   "cell_type": "code",
   "execution_count": 95,
   "metadata": {},
   "outputs": [],
   "source": [
    "member_half=member.iloc[s2n_index[0]]"
   ]
  },
  {
   "cell_type": "code",
   "execution_count": 96,
   "metadata": {},
   "outputs": [],
   "source": [
    "member_half_index=pd.MultiIndex.from_tuples(zip(['All']*23,member_half.columns[0:23])+list(member_band_columns),names=['Band','Data']) "
   ]
  },
  {
   "cell_type": "code",
   "execution_count": 97,
   "metadata": {},
   "outputs": [],
   "source": [
    "shape_half.columns=shape_columns\n",
    "member_half.columns=member_half_index\n",
    "shape_half.set_index(('All','coadd_objects_id'),inplace=True)\n",
    "member_half.set_index(('All','ID'),inplace=True)"
   ]
  },
  {
   "cell_type": "code",
   "execution_count": 98,
   "metadata": {},
   "outputs": [],
   "source": [
    "shape_df=pd.concat([member_half,shape_half],axis=1,verify_integrity=True)\n",
    "shape_df.index.name=\"ID\""
   ]
  },
  {
   "cell_type": "code",
   "execution_count": 99,
   "metadata": {},
   "outputs": [
    {
     "data": {
      "text/plain": [
       "[('All', \"('Band', 'g', 'MODEL_MAG')\"),\n",
       " ('All', \"('Band', 'g', 'MODEL_MAGERR')\"),\n",
       " ('All', \"('Band', 'g', 'MAG_LAMBDA_ERR')\"),\n",
       " ('All', \"('Band', 'r', 'MODEL_MAG')\"),\n",
       " ('All', \"('Band', 'r', 'MODEL_MAGERR')\"),\n",
       " ('All', \"('Band', 'r', 'MAG_LAMBDA_ERR')\"),\n",
       " ('All', \"('Band', 'i', 'MODEL_MAG')\"),\n",
       " ('All', \"('Band', 'i', 'MODEL_MAGERR')\"),\n",
       " ('All', \"('Band', 'i', 'MAG_LAMBDA_ERR')\"),\n",
       " ('All', \"('Band', 'z', 'MODEL_MAG')\"),\n",
       " ('All', \"('Band', 'z', 'MODEL_MAGERR')\"),\n",
       " ('All', \"('Band', 'z', 'MAG_LAMBDA_ERR')\"),\n",
       " ('All', \"('PZ', 'pz1', 'PZBINS')\"),\n",
       " ('All', \"('PZ', 'pz2', 'PZBINS')\"),\n",
       " ('All', \"('PZ', 'pz3', 'PZBINS')\"),\n",
       " ('All', \"('PZ', 'pz4', 'PZBINS')\"),\n",
       " ('All', \"('PZ', 'pz5', 'PZBINS')\"),\n",
       " ('All', \"('PZ', 'pz6', 'PZBINS')\"),\n",
       " ('All', \"('PZ', 'pz7', 'PZBINS')\"),\n",
       " ('All', \"('PZ', 'pz8', 'PZBINS')\"),\n",
       " ('All', \"('PZ', 'pz9', 'PZBINS')\"),\n",
       " ('All', \"('PZ', 'pz10', 'PZBINS')\"),\n",
       " ('All', \"('PZ', 'pz11', 'PZBINS')\"),\n",
       " ('All', \"('PZ', 'pz12', 'PZBINS')\"),\n",
       " ('All', \"('PZ', 'pz13', 'PZBINS')\"),\n",
       " ('All', \"('PZ', 'pz14', 'PZBINS')\"),\n",
       " ('All', \"('PZ', 'pz15', 'PZBINS')\"),\n",
       " ('All', \"('PZ', 'pz16', 'PZBINS')\"),\n",
       " ('All', \"('PZ', 'pz17', 'PZBINS')\"),\n",
       " ('All', \"('PZ', 'pz18', 'PZBINS')\"),\n",
       " ('All', \"('PZ', 'pz19', 'PZBINS')\"),\n",
       " ('All', \"('PZ', 'pz20', 'PZBINS')\"),\n",
       " ('All', \"('PZ', 'pz21', 'PZBINS')\"),\n",
       " ('All', \"('PZ', 'pz1', 'PZ')\"),\n",
       " ('All', \"('PZ', 'pz2', 'PZ')\"),\n",
       " ('All', \"('PZ', 'pz3', 'PZ')\"),\n",
       " ('All', \"('PZ', 'pz4', 'PZ')\"),\n",
       " ('All', \"('PZ', 'pz5', 'PZ')\"),\n",
       " ('All', \"('PZ', 'pz6', 'PZ')\"),\n",
       " ('All', \"('PZ', 'pz7', 'PZ')\"),\n",
       " ('All', \"('PZ', 'pz8', 'PZ')\"),\n",
       " ('All', \"('PZ', 'pz9', 'PZ')\"),\n",
       " ('All', \"('PZ', 'pz10', 'PZ')\"),\n",
       " ('All', \"('PZ', 'pz11', 'PZ')\"),\n",
       " ('All', \"('PZ', 'pz12', 'PZ')\"),\n",
       " ('All', \"('PZ', 'pz13', 'PZ')\"),\n",
       " ('All', \"('PZ', 'pz14', 'PZ')\"),\n",
       " ('All', \"('PZ', 'pz15', 'PZ')\"),\n",
       " ('All', \"('PZ', 'pz16', 'PZ')\"),\n",
       " ('All', \"('PZ', 'pz17', 'PZ')\"),\n",
       " ('All', \"('PZ', 'pz18', 'PZ')\"),\n",
       " ('All', \"('PZ', 'pz19', 'PZ')\"),\n",
       " ('All', \"('PZ', 'pz20', 'PZ')\"),\n",
       " ('All', \"('PZ', 'pz21', 'PZ')\")]"
      ]
     },
     "execution_count": 99,
     "metadata": {},
     "output_type": "execute_result"
    }
   ],
   "source": [
    "zip(['All']*54,cluster.columns[0:54])"
   ]
  },
  {
   "cell_type": "code",
   "execution_count": 101,
   "metadata": {},
   "outputs": [],
   "source": [
    "cluster_col_list=[ast.literal_eval(name) for i,name in enumerate(cluster.columns)]\n",
    "cluster_col=pd.MultiIndex.from_tuples(cluster_col_list, names=['Type','Kind','Data'])"
   ]
  },
  {
   "cell_type": "code",
   "execution_count": 102,
   "metadata": {},
   "outputs": [],
   "source": [
    "cluster.columns=cluster_col"
   ]
  },
  {
   "cell_type": "code",
   "execution_count": 116,
   "metadata": {},
   "outputs": [],
   "source": [
    "cluster.to_pickle('/home/cz136/project/ia/data/cluster.pkl')\n",
    "shape_df.to_pickle('/home/cz136/project/ia/data/shape.pkl')"
   ]
  }
 ],
 "metadata": {
  "kernelspec": {
   "display_name": "Python 2",
   "language": "python",
   "name": "python2"
  },
  "language_info": {
   "codemirror_mode": {
    "name": "ipython",
    "version": 2
   },
   "file_extension": ".py",
   "mimetype": "text/x-python",
   "name": "python",
   "nbconvert_exporter": "python",
   "pygments_lexer": "ipython2",
   "version": "2.7.15"
  }
 },
 "nbformat": 4,
 "nbformat_minor": 2
}
