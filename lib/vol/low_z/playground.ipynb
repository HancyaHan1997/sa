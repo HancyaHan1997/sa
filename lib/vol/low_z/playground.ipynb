{
 "cells": [
  {
   "cell_type": "code",
   "execution_count": 2,
   "metadata": {},
   "outputs": [],
   "source": [
    "import pandas as pd\n",
    "import io\n",
    "import numpy as np"
   ]
  },
  {
   "cell_type": "code",
   "execution_count": 3,
   "metadata": {},
   "outputs": [],
   "source": [
    "arrays = [[1, 1, 2, 2], ['red', 'blue', 'red', 'blue']]"
   ]
  },
  {
   "cell_type": "code",
   "execution_count": 4,
   "metadata": {},
   "outputs": [
    {
     "data": {
      "text/plain": [
       "MultiIndex(levels=[[1, 2], ['blue', 'red']],\n",
       "           codes=[[0, 0, 1, 1], [1, 0, 1, 0]],\n",
       "           names=['number', 'color'])"
      ]
     },
     "execution_count": 4,
     "metadata": {},
     "output_type": "execute_result"
    }
   ],
   "source": [
    "pd.MultiIndex.from_arrays(arrays, names=('number', 'color'))"
   ]
  },
  {
   "cell_type": "code",
   "execution_count": 5,
   "metadata": {},
   "outputs": [
    {
     "data": {
      "text/html": [
       "<div>\n",
       "<style scoped>\n",
       "    .dataframe tbody tr th:only-of-type {\n",
       "        vertical-align: middle;\n",
       "    }\n",
       "\n",
       "    .dataframe tbody tr th {\n",
       "        vertical-align: top;\n",
       "    }\n",
       "\n",
       "    .dataframe thead th {\n",
       "        text-align: right;\n",
       "    }\n",
       "</style>\n",
       "<table border=\"1\" class=\"dataframe\">\n",
       "  <thead>\n",
       "    <tr style=\"text-align: right;\">\n",
       "      <th></th>\n",
       "      <th>Fruit</th>\n",
       "      <th>Color</th>\n",
       "      <th>Count</th>\n",
       "      <th>Price</th>\n",
       "    </tr>\n",
       "  </thead>\n",
       "  <tbody>\n",
       "    <tr>\n",
       "      <th>0</th>\n",
       "      <td>Apple</td>\n",
       "      <td>Red</td>\n",
       "      <td>3</td>\n",
       "      <td>$1.29</td>\n",
       "    </tr>\n",
       "    <tr>\n",
       "      <th>1</th>\n",
       "      <td>Apple</td>\n",
       "      <td>Green</td>\n",
       "      <td>9</td>\n",
       "      <td>$0.99</td>\n",
       "    </tr>\n",
       "    <tr>\n",
       "      <th>2</th>\n",
       "      <td>Pear</td>\n",
       "      <td>Red</td>\n",
       "      <td>25</td>\n",
       "      <td>$2.59</td>\n",
       "    </tr>\n",
       "    <tr>\n",
       "      <th>3</th>\n",
       "      <td>Pear</td>\n",
       "      <td>Green</td>\n",
       "      <td>26</td>\n",
       "      <td>$2.79</td>\n",
       "    </tr>\n",
       "    <tr>\n",
       "      <th>4</th>\n",
       "      <td>Lime</td>\n",
       "      <td>Green</td>\n",
       "      <td>99</td>\n",
       "      <td>$0.39</td>\n",
       "    </tr>\n",
       "  </tbody>\n",
       "</table>\n",
       "</div>"
      ],
      "text/plain": [
       "   Fruit  Color  Count  Price\n",
       "0  Apple    Red      3  $1.29\n",
       "1  Apple  Green      9  $0.99\n",
       "2   Pear    Red     25  $2.59\n",
       "3   Pear  Green     26  $2.79\n",
       "4   Lime  Green     99  $0.39"
      ]
     },
     "execution_count": 5,
     "metadata": {},
     "output_type": "execute_result"
    }
   ],
   "source": [
    "data = io.StringIO('''Fruit,Color,Count,Price\n",
    "Apple,Red,3,$1.29\n",
    "Apple,Green,9,$0.99\n",
    "Pear,Red,25,$2.59\n",
    "Pear,Green,26,$2.79\n",
    "Lime,Green,99,$0.39\n",
    "''')\n",
    "df_unindexed = pd.read_csv(data)\n",
    "df_unindexed"
   ]
  },
  {
   "cell_type": "code",
   "execution_count": 9,
   "metadata": {},
   "outputs": [],
   "source": [
    "band_columns=pd.MultiIndex.from_product([['g','r','i','z'],\n",
    "                                       ['MODEL_MAG','MODEL_MAGERR','MAG_LAMBDA_ERR']],\n",
    "                                     names=['band','data'])"
   ]
  },
  {
   "cell_type": "code",
   "execution_count": 11,
   "metadata": {},
   "outputs": [],
   "source": [
    "pz_bins=[m+str(n) for m,n in zip(['pz_bins_']*21,range(21))]\n",
    "pz_val =[m+str(n) for m,n in zip(['pz_bins_']*21,range(21))]\n",
    "pz_columns=pd.MultiIndex.from_product([pz_bins,\n",
    "                                       ['MODEL_MAG','MODEL_MAGERR','MAG_LAMBDA_ERR']],\n",
    "                                     names=['band','data'])"
   ]
  },
  {
   "cell_type": "code",
   "execution_count": 14,
   "metadata": {},
   "outputs": [],
   "source": [
    "alt_bins=[m+str(n) for m,n in zip(['alt_']*5,range(5))]\n",
    "alt_columns=pd.MultiIndex.from_product([pz_bins,\n",
    "                                       ['MODEL_MAG','MODEL_MAGERR','MAG_LAMBDA_ERR']],\n",
    "                                     names=['band','data'])"
   ]
  },
  {
   "cell_type": "code",
   "execution_count": 30,
   "metadata": {},
   "outputs": [
    {
     "name": "stdout",
     "output_type": "stream",
     "text": [
      "0       3089939451\n",
      "1       3047101906\n",
      "2       3069562192\n",
      "3       3092286075\n",
      "4       3138662814\n",
      "5       3119806344\n",
      "6       3008918135\n",
      "7       3020459591\n",
      "8       3010448045\n",
      "9       3157162066\n",
      "10      3070344110\n",
      "11      3016466598\n",
      "12      3034626206\n",
      "13      3008565300\n",
      "14      3129061131\n",
      "15      3058900488\n",
      "16      3155750926\n",
      "17      3119773430\n",
      "18      3038715907\n",
      "19      3091623101\n",
      "20      3147350726\n",
      "21      3088730045\n",
      "22      3038560090\n",
      "23      3033998639\n",
      "24      3148132353\n",
      "25      3105157976\n",
      "26      3082542813\n",
      "27      3098478675\n",
      "28      3111484896\n",
      "29      3158368426\n",
      "           ...    \n",
      "7036    3049418198\n",
      "7037    3089665500\n",
      "7038    3129320419\n",
      "7039    3032565609\n",
      "7040    3044388739\n",
      "7041    3108788531\n",
      "7042    3028295834\n",
      "7043    3044677347\n",
      "7044    3072219615\n",
      "7045    3032080379\n",
      "7046    3083393436\n",
      "7047    3157143483\n",
      "7048    3048844388\n",
      "7049    3104118364\n",
      "7050    3070443273\n",
      "7051    3158247805\n",
      "7052    3109678113\n",
      "7053    3127212155\n",
      "7054    3034346942\n",
      "7055    3034337303\n",
      "7056    3151673825\n",
      "7057    3156937890\n",
      "7058    3125770845\n",
      "7059    3098630257\n",
      "7060    3119076931\n",
      "7061    3125722960\n",
      "7062    3067653261\n",
      "7063    3067376486\n",
      "7064    3114745735\n",
      "7065    3172662857\n",
      "Name: (ID_CENT,0), Length: 7066, dtype: int64\n"
     ]
    }
   ],
   "source": [
    "print(center['(ID_CENT,0)'])"
   ]
  },
  {
   "cell_type": "code",
   "execution_count": 15,
   "metadata": {},
   "outputs": [
    {
     "ename": "SyntaxError",
     "evalue": "Missing parentheses in call to 'print'. Did you mean print(self.value)? (<ipython-input-15-650d04f893c0>, line 19)",
     "output_type": "error",
     "traceback": [
      "\u001b[0;36m  File \u001b[0;32m\"<ipython-input-15-650d04f893c0>\"\u001b[0;36m, line \u001b[0;32m19\u001b[0m\n\u001b[0;31m    print self.value\u001b[0m\n\u001b[0m             ^\u001b[0m\n\u001b[0;31mSyntaxError\u001b[0m\u001b[0;31m:\u001b[0m Missing parentheses in call to 'print'. Did you mean print(self.value)?\n"
     ]
    }
   ],
   "source": [
    "class Template(object):\n",
    "\n",
    "    def __init__(self):\n",
    "        self.value = \"hello\"\n",
    "        self.other_value = \"bonjour\"\n",
    "        self.constant_value = 42\n",
    "        current_class = self.__class__\n",
    "        inits = []\n",
    "        while (current_class.__name__ != \"Template\"):\n",
    "            inits.append(current_class.init)\n",
    "            current_class = current_class.__bases__[0]\n",
    "        for i in reversed(inits):\n",
    "            i(self)\n",
    "\n",
    "    def init(self):\n",
    "        pass\n",
    "\n",
    "    def info(self):\n",
    "        print self.value\n",
    "        print self.other_value\n",
    "        print self.constant_value\n",
    "        print \"\"    "
   ]
  },
  {
   "cell_type": "code",
   "execution_count": 5,
   "metadata": {},
   "outputs": [],
   "source": [
    "a=np.array([1,2,3])\n",
    "b=np.array([2,3])\n",
    "tlist=[a,b]"
   ]
  },
  {
   "cell_type": "code",
   "execution_count": 6,
   "metadata": {},
   "outputs": [
    {
     "data": {
      "text/plain": [
       "array([1, 2, 3, 2, 3])"
      ]
     },
     "execution_count": 6,
     "metadata": {},
     "output_type": "execute_result"
    }
   ],
   "source": [
    "np.concatenate(tlist)"
   ]
  },
  {
   "cell_type": "code",
   "execution_count": 7,
   "metadata": {},
   "outputs": [
    {
     "data": {
      "text/plain": [
       "list"
      ]
     },
     "execution_count": 7,
     "metadata": {},
     "output_type": "execute_result"
    }
   ],
   "source": [
    "type(tlist)"
   ]
  },
  {
   "cell_type": "code",
   "execution_count": 1,
   "metadata": {},
   "outputs": [],
   "source": [
    "import numpy as np\n",
    "\n",
    "a = np.array([[[1,2],[3,4]],[[5,6],[7,8]],[[9,10],[10,11]]])"
   ]
  },
  {
   "cell_type": "code",
   "execution_count": 5,
   "metadata": {},
   "outputs": [
    {
     "data": {
      "text/plain": [
       "array([[15, 18],\n",
       "       [20, 23]])"
      ]
     },
     "execution_count": 5,
     "metadata": {},
     "output_type": "execute_result"
    }
   ],
   "source": [
    "np.sum(a,axis=0)"
   ]
  },
  {
   "cell_type": "code",
   "execution_count": 9,
   "metadata": {},
   "outputs": [
    {
     "data": {
      "text/plain": [
       "array([[ 2,  4],\n",
       "       [ 6,  8],\n",
       "       [10, 11]])"
      ]
     },
     "execution_count": 9,
     "metadata": {},
     "output_type": "execute_result"
    }
   ],
   "source": [
    "a[:,:,1]"
   ]
  },
  {
   "cell_type": "code",
   "execution_count": 2,
   "metadata": {},
   "outputs": [
    {
     "data": {
      "application/vnd.jupyter.widget-view+json": {
       "model_id": "491a5cc5f83e4f8a958de38fdd6108b8",
       "version_major": 2,
       "version_minor": 0
      },
      "text/plain": [
       "HBox(children=(IntProgress(value=0, description='1st loop', max=3, style=ProgressStyle(description_width='init…"
      ]
     },
     "metadata": {},
     "output_type": "display_data"
    },
    {
     "data": {
      "application/vnd.jupyter.widget-view+json": {
       "model_id": "f18da3f649c44f269bf5caebdfceb69b",
       "version_major": 2,
       "version_minor": 0
      },
      "text/plain": [
       "HBox(children=(IntProgress(value=0, description='2nd loop', style=ProgressStyle(description_width='initial')),…"
      ]
     },
     "metadata": {},
     "output_type": "display_data"
    },
    {
     "name": "stdout",
     "output_type": "stream",
     "text": [
      "\n"
     ]
    },
    {
     "data": {
      "application/vnd.jupyter.widget-view+json": {
       "model_id": "b4c5ff7ad2d64beea859c08ac029cc0a",
       "version_major": 2,
       "version_minor": 0
      },
      "text/plain": [
       "HBox(children=(IntProgress(value=0, description='2nd loop', style=ProgressStyle(description_width='initial')),…"
      ]
     },
     "metadata": {},
     "output_type": "display_data"
    },
    {
     "name": "stdout",
     "output_type": "stream",
     "text": [
      "\n"
     ]
    },
    {
     "data": {
      "application/vnd.jupyter.widget-view+json": {
       "model_id": "7571adf6e45142598a074a72f5ce91a4",
       "version_major": 2,
       "version_minor": 0
      },
      "text/plain": [
       "HBox(children=(IntProgress(value=0, description='2nd loop', style=ProgressStyle(description_width='initial')),…"
      ]
     },
     "metadata": {},
     "output_type": "display_data"
    },
    {
     "name": "stdout",
     "output_type": "stream",
     "text": [
      "\n"
     ]
    },
    {
     "ename": "KeyboardInterrupt",
     "evalue": "",
     "output_type": "error",
     "traceback": [
      "\u001b[0;31m---------------------------------------------------------------------------\u001b[0m",
      "\u001b[0;31mKeyboardInterrupt\u001b[0m                         Traceback (most recent call last)",
      "\u001b[0;32m<ipython-input-2-acbf69e45cbb>\u001b[0m in \u001b[0;36m<module>\u001b[0;34m\u001b[0m\n\u001b[1;32m      4\u001b[0m \u001b[0;32mfor\u001b[0m \u001b[0mi\u001b[0m \u001b[0;32min\u001b[0m \u001b[0mtrange\u001b[0m\u001b[0;34m(\u001b[0m\u001b[0;36m3\u001b[0m\u001b[0;34m,\u001b[0m \u001b[0mdesc\u001b[0m\u001b[0;34m=\u001b[0m\u001b[0;34m'1st loop'\u001b[0m\u001b[0;34m)\u001b[0m\u001b[0;34m:\u001b[0m\u001b[0;34m\u001b[0m\u001b[0;34m\u001b[0m\u001b[0m\n\u001b[1;32m      5\u001b[0m     \u001b[0;32mfor\u001b[0m \u001b[0mj\u001b[0m \u001b[0;32min\u001b[0m \u001b[0mtqdm\u001b[0m\u001b[0;34m(\u001b[0m\u001b[0mrange\u001b[0m\u001b[0;34m(\u001b[0m\u001b[0;36m100\u001b[0m\u001b[0;34m)\u001b[0m\u001b[0;34m,\u001b[0m \u001b[0mdesc\u001b[0m\u001b[0;34m=\u001b[0m\u001b[0;34m'2nd loop'\u001b[0m\u001b[0;34m)\u001b[0m\u001b[0;34m:\u001b[0m\u001b[0;34m\u001b[0m\u001b[0;34m\u001b[0m\u001b[0m\n\u001b[0;32m----> 6\u001b[0;31m         \u001b[0msleep\u001b[0m\u001b[0;34m(\u001b[0m\u001b[0;36m0.01\u001b[0m\u001b[0;34m)\u001b[0m\u001b[0;34m\u001b[0m\u001b[0;34m\u001b[0m\u001b[0m\n\u001b[0m",
      "\u001b[0;31mKeyboardInterrupt\u001b[0m: "
     ]
    }
   ],
   "source": [
    "from tqdm.notebook import trange, tqdm\n",
    "from time import sleep\n",
    "\n",
    "for i in trange(3, desc='1st loop'):\n",
    "    for j in tqdm(range(100), desc='2nd loop'):\n",
    "        sleep(0.01)"
   ]
  },
  {
   "cell_type": "code",
   "execution_count": 1,
   "metadata": {},
   "outputs": [
    {
     "data": {
      "application/vnd.jupyter.widget-view+json": {
       "model_id": "d55333206efb4cd7b991b16b81cb2828",
       "version_major": 2,
       "version_minor": 0
      },
      "text/plain": [
       "Button(style=ButtonStyle())"
      ]
     },
     "metadata": {},
     "output_type": "display_data"
    }
   ],
   "source": [
    "from ipywidgets import Button\n",
    "\n",
    "Button()"
   ]
  },
  {
   "cell_type": "code",
   "execution_count": 7,
   "metadata": {},
   "outputs": [],
   "source": [
    "import numpy as np\n",
    "\n",
    "a=np.array([[1,2],[3,4],[5,6]])\n",
    "b=np.empty([20,3,2])"
   ]
  },
  {
   "cell_type": "code",
   "execution_count": 10,
   "metadata": {},
   "outputs": [],
   "source": [
    "b[0,:,:]=a"
   ]
  },
  {
   "cell_type": "code",
   "execution_count": 11,
   "metadata": {},
   "outputs": [
    {
     "data": {
      "text/plain": [
       "array([[[1.00000000e+000, 2.00000000e+000],\n",
       "        [3.00000000e+000, 4.00000000e+000],\n",
       "        [5.00000000e+000, 6.00000000e+000]],\n",
       "\n",
       "       [[4.94065646e-324, 4.68163598e-310],\n",
       "        [6.92322347e-310, 6.92323407e-310],\n",
       "        [6.92322347e-310, 4.68163598e-310]],\n",
       "\n",
       "       [[1.97626258e-323, 4.68154711e-310],\n",
       "        [6.92322723e-310,             nan],\n",
       "        [4.94065646e-324, 4.24399158e-314]],\n",
       "\n",
       "       [[4.68154711e-310, 4.68163598e-310],\n",
       "        [6.92323405e-310, 4.68154711e-310],\n",
       "        [4.24399158e-314, 4.94065646e-324]],\n",
       "\n",
       "       [[4.68163598e-310, 1.48219694e-323],\n",
       "        [4.68163598e-310, 4.68163598e-310],\n",
       "        [4.68163598e-310, 8.39911598e-323]],\n",
       "\n",
       "       [[4.68163493e-310, 4.68163598e-310],\n",
       "        [4.68154711e-310, 2.54639495e-313],\n",
       "        [8.39911598e-323, 4.68163493e-310]],\n",
       "\n",
       "       [[2.75859453e-313, 4.68154711e-310],\n",
       "        [3.18299369e-313, 8.39911598e-323],\n",
       "        [4.68163493e-310, 3.18299369e-313]],\n",
       "\n",
       "       [[4.68154711e-310, 3.60739284e-313],\n",
       "        [1.43279037e-322, 4.68163598e-310],\n",
       "        [2.54639495e-313, 9.88131292e-324]],\n",
       "\n",
       "       [[2.33419537e-313, 0.00000000e+000],\n",
       "        [0.00000000e+000, 4.68154711e-310],\n",
       "        [4.68163598e-310, 4.68163598e-310]],\n",
       "\n",
       "       [[4.68163598e-310, 4.24399158e-314],\n",
       "        [4.68154711e-310, 4.68163598e-310],\n",
       "        [4.68163598e-310, 4.45619116e-313]],\n",
       "\n",
       "       [[            nan, 4.68163598e-310],\n",
       "        [1.97626258e-323, 4.68154711e-310],\n",
       "        [4.68163598e-310, 9.88131292e-324]],\n",
       "\n",
       "       [[4.68163598e-310, 4.68163598e-310],\n",
       "        [8.39911598e-323, 4.68163493e-310],\n",
       "        [8.39911598e-323, 4.68163493e-310]],\n",
       "\n",
       "       [[5.30498948e-313, 6.92301127e-310],\n",
       "        [4.68163493e-310, 1.43279037e-322],\n",
       "        [4.68163598e-310, 5.72938864e-313]],\n",
       "\n",
       "       [[1.43279037e-322, 4.68163598e-310],\n",
       "        [4.94065646e-324, 4.68163598e-310],\n",
       "        [5.09278990e-313, 1.43279037e-322]],\n",
       "\n",
       "       [[4.68163598e-310, 4.94065646e-324],\n",
       "        [0.00000000e+000, 2.33419537e-313],\n",
       "        [0.00000000e+000, 0.00000000e+000]],\n",
       "\n",
       "       [[7.90505033e-323, 4.68163598e-310],\n",
       "        [4.68163598e-310, 4.68163598e-310],\n",
       "        [4.24399158e-314,             nan]],\n",
       "\n",
       "       [[4.68163598e-310, 4.68163598e-310],\n",
       "        [6.92301127e-310, 4.68163598e-310],\n",
       "        [4.94065646e-324, 1.48219694e-323]],\n",
       "\n",
       "       [[2.33419537e-313, 4.68163598e-310],\n",
       "        [4.68163598e-310, 4.68163598e-310],\n",
       "        [4.68163598e-310, 4.24399158e-314]],\n",
       "\n",
       "       [[2.96439388e-323, 4.68163598e-310],\n",
       "        [4.68163598e-310, 6.92318285e-310],\n",
       "        [4.68163579e-310, 0.00000000e+000]],\n",
       "\n",
       "       [[1.48219694e-323, 4.94065646e-324],\n",
       "        [4.68163598e-310, 1.38338381e-322],\n",
       "        [6.92323407e-310, 6.92301127e-310]]])"
      ]
     },
     "execution_count": 11,
     "metadata": {},
     "output_type": "execute_result"
    }
   ],
   "source": [
    "b"
   ]
  },
  {
   "cell_type": "code",
   "execution_count": null,
   "metadata": {},
   "outputs": [],
   "source": []
  }
 ],
 "metadata": {
  "kernelspec": {
   "display_name": "Python 3",
   "language": "python",
   "name": "python3"
  },
  "language_info": {
   "codemirror_mode": {
    "name": "ipython",
    "version": 3
   },
   "file_extension": ".py",
   "mimetype": "text/x-python",
   "name": "python",
   "nbconvert_exporter": "python",
   "pygments_lexer": "ipython3",
   "version": "3.7.3"
  }
 },
 "nbformat": 4,
 "nbformat_minor": 4
}
