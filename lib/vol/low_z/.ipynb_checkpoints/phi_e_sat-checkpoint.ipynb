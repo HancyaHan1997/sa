{
 "cells": [
  {
   "cell_type": "code",
   "execution_count": 25,
   "metadata": {},
   "outputs": [
    {
     "ename": "FileNotFoundError",
     "evalue": "[Errno 2] No such file or directory: '/home/cz136/project/sa/data/vol_all/phi_1d.npy'",
     "output_type": "error",
     "traceback": [
      "\u001b[0;31m---------------------------------------------------------------------------\u001b[0m",
      "\u001b[0;31mFileNotFoundError\u001b[0m                         Traceback (most recent call last)",
      "\u001b[0;32m<ipython-input-25-70229fb36920>\u001b[0m in \u001b[0;36m<module>\u001b[0;34m\u001b[0m\n\u001b[1;32m      1\u001b[0m \u001b[0;31m#This header file contains all the common packages\u001b[0m\u001b[0;34m\u001b[0m\u001b[0;34m\u001b[0m\u001b[0;34m\u001b[0m\u001b[0m\n\u001b[1;32m      2\u001b[0m \u001b[0mget_ipython\u001b[0m\u001b[0;34m(\u001b[0m\u001b[0;34m)\u001b[0m\u001b[0;34m.\u001b[0m\u001b[0mrun_line_magic\u001b[0m\u001b[0;34m(\u001b[0m\u001b[0;34m'run'\u001b[0m\u001b[0;34m,\u001b[0m \u001b[0;34m'header.ipynb'\u001b[0m\u001b[0;34m)\u001b[0m\u001b[0;34m\u001b[0m\u001b[0;34m\u001b[0m\u001b[0m\n\u001b[0;32m----> 3\u001b[0;31m \u001b[0mphi_1d\u001b[0m\u001b[0;34m=\u001b[0m\u001b[0mnp\u001b[0m\u001b[0;34m.\u001b[0m\u001b[0mload\u001b[0m\u001b[0;34m(\u001b[0m\u001b[0;34m\"/home/cz136/project/sa/data/{}/phi_1d.npy\"\u001b[0m\u001b[0;34m.\u001b[0m\u001b[0mformat\u001b[0m\u001b[0;34m(\u001b[0m\u001b[0mdir_string\u001b[0m\u001b[0;34m)\u001b[0m\u001b[0;34m)\u001b[0m\u001b[0;34m\u001b[0m\u001b[0;34m\u001b[0m\u001b[0m\n\u001b[0m\u001b[1;32m      4\u001b[0m \u001b[0mphi_w_1d\u001b[0m\u001b[0;34m=\u001b[0m\u001b[0mnp\u001b[0m\u001b[0;34m.\u001b[0m\u001b[0mload\u001b[0m\u001b[0;34m(\u001b[0m\u001b[0;34m\"/home/cz136/project/sa/data/{}/phi_1d.npy\"\u001b[0m\u001b[0;34m.\u001b[0m\u001b[0mformat\u001b[0m\u001b[0;34m(\u001b[0m\u001b[0mdir_string\u001b[0m\u001b[0;34m)\u001b[0m\u001b[0;34m)\u001b[0m\u001b[0;34m\u001b[0m\u001b[0;34m\u001b[0m\u001b[0m\n\u001b[1;32m      5\u001b[0m \u001b[0me_list\u001b[0m\u001b[0;34m=\u001b[0m\u001b[0mnp\u001b[0m\u001b[0;34m.\u001b[0m\u001b[0mload\u001b[0m\u001b[0;34m(\u001b[0m\u001b[0;34m\"/home/cz136/project/sa/data/{}/e_array.npy\"\u001b[0m\u001b[0;34m.\u001b[0m\u001b[0mformat\u001b[0m\u001b[0;34m(\u001b[0m\u001b[0mdir_string\u001b[0m\u001b[0;34m)\u001b[0m\u001b[0;34m)\u001b[0m\u001b[0;34m\u001b[0m\u001b[0;34m\u001b[0m\u001b[0m\n",
      "\u001b[0;32m~/anaconda3/envs/balrog/lib/python3.7/site-packages/numpy/lib/npyio.py\u001b[0m in \u001b[0;36mload\u001b[0;34m(file, mmap_mode, allow_pickle, fix_imports, encoding)\u001b[0m\n\u001b[1;32m    420\u001b[0m         \u001b[0mown_fid\u001b[0m \u001b[0;34m=\u001b[0m \u001b[0;32mFalse\u001b[0m\u001b[0;34m\u001b[0m\u001b[0;34m\u001b[0m\u001b[0m\n\u001b[1;32m    421\u001b[0m     \u001b[0;32melse\u001b[0m\u001b[0;34m:\u001b[0m\u001b[0;34m\u001b[0m\u001b[0;34m\u001b[0m\u001b[0m\n\u001b[0;32m--> 422\u001b[0;31m         \u001b[0mfid\u001b[0m \u001b[0;34m=\u001b[0m \u001b[0mopen\u001b[0m\u001b[0;34m(\u001b[0m\u001b[0mos_fspath\u001b[0m\u001b[0;34m(\u001b[0m\u001b[0mfile\u001b[0m\u001b[0;34m)\u001b[0m\u001b[0;34m,\u001b[0m \u001b[0;34m\"rb\"\u001b[0m\u001b[0;34m)\u001b[0m\u001b[0;34m\u001b[0m\u001b[0;34m\u001b[0m\u001b[0m\n\u001b[0m\u001b[1;32m    423\u001b[0m         \u001b[0mown_fid\u001b[0m \u001b[0;34m=\u001b[0m \u001b[0;32mTrue\u001b[0m\u001b[0;34m\u001b[0m\u001b[0;34m\u001b[0m\u001b[0m\n\u001b[1;32m    424\u001b[0m \u001b[0;34m\u001b[0m\u001b[0m\n",
      "\u001b[0;31mFileNotFoundError\u001b[0m: [Errno 2] No such file or directory: '/home/cz136/project/sa/data/vol_all/phi_1d.npy'"
     ]
    }
   ],
   "source": [
    "#This header file contains all the common packages\n",
    "%run header.ipynb\n",
    "phi_1d=np.load(\"/home/cz136/project/sa/data/{}/phi_1d.npy\".format(dir_string))\n",
    "phi_w_1d=np.load(\"/home/cz136/project/sa/data/{}/phi_1d.npy\".format(dir_string))\n",
    "e_list=np.load(\"/home/cz136/project/sa/data/{}/e_array.npy\".format(dir_string))"
   ]
  },
  {
   "cell_type": "code",
   "execution_count": 38,
   "metadata": {},
   "outputs": [
    {
     "name": "stdout",
     "output_type": "stream",
     "text": [
      "12497\n",
      "203147\n"
     ]
    }
   ],
   "source": [
    "print(len(clusters))\n",
    "print(len(shapes))"
   ]
  },
  {
   "cell_type": "code",
   "execution_count": 39,
   "metadata": {},
   "outputs": [
    {
     "name": "stdout",
     "output_type": "stream",
     "text": [
      "The number of clusters with no center shape data 15\n",
      "The number of clusters with low probability center 0\n"
     ]
    },
    {
     "name": "stderr",
     "output_type": "stream",
     "text": [
      "/home/cz136/anaconda3/envs/balrog/lib/python3.7/site-packages/ipykernel_launcher.py:4: FutureWarning: \n",
      "Passing list-likes to .loc or [] with any missing label will raise\n",
      "KeyError in the future, you can use .reindex() as an alternative.\n",
      "\n",
      "See the documentation here:\n",
      "https://pandas.pydata.org/pandas-docs/stable/user_guide/indexing.html#deprecate-loc-reindex-listlike\n",
      "  after removing the cwd from sys.path.\n"
     ]
    }
   ],
   "source": [
    "def drop_poor_centers():\n",
    "    \"\"\"Drop clusters with no center shape data from the cluster dataframe\"\"\"\n",
    "    center_id=clusters[('Alt', 'Alt1', 'ID_CENT')]\n",
    "    pp=shapes.loc[center_id][('All','PP')].to_numpy()\n",
    "    missing_mem_match_id=clusters[np.isnan(pp)].index\n",
    "    clusters.drop(missing_mem_match_id,inplace=True)\n",
    "    np.save(\"/home/cz136/project/sa/data/{}/missing_centers.npy\".format(dir_string),center_id[np.isnan(pp)].to_numpy())\n",
    "    print(\"The number of clusters with no center shape data {}\".format(np.sum(np.isnan(pp))))\n",
    "    print(\"The number of clusters with low probability center {}\".format(np.sum(pp[~np.isnan(pp)]<=0.55)))\n",
    "drop_poor_centers()"
   ]
  },
  {
   "cell_type": "code",
   "execution_count": 40,
   "metadata": {},
   "outputs": [
    {
     "name": "stdout",
     "output_type": "stream",
     "text": [
      "0\n",
      "0\n",
      "203147\n",
      "0\n"
     ]
    }
   ],
   "source": [
    "# Print the numbers of galaxies that needed to be masked\n",
    "\n",
    "\n",
    "print(np.sum(shapes[('All','e1')]==-9999))\n",
    "print(np.sum(shapes[('All','e2')]==-9999))\n",
    "print(np.sum(shapes['All','flags_select']==0))\n",
    "print(np.sum(shapes[('All','PP')]<=0.55))"
   ]
  },
  {
   "cell_type": "code",
   "execution_count": 41,
   "metadata": {},
   "outputs": [
    {
     "name": "stdout",
     "output_type": "stream",
     "text": [
      "12482\n",
      "203147\n"
     ]
    }
   ],
   "source": [
    "#masking\n",
    "\n",
    "\n",
    "shapes=shapes[shapes[('All','PP')]>=0.55]\n",
    "# shapes=shapes[shapes[('All','e1')]!=-9999]\n",
    "# shapes=shapes[shapes[('All','e2')]!=-9999]\n",
    "shapes=shapes[shapes[('All', 'flags_select')]==0]\n",
    "\n",
    "\n",
    "print(len(clusters))\n",
    "print(len(shapes))"
   ]
  },
  {
   "cell_type": "markdown",
   "metadata": {},
   "source": [
    "# Stats of e1,e2"
   ]
  },
  {
   "cell_type": "code",
   "execution_count": 42,
   "metadata": {},
   "outputs": [
    {
     "data": {
      "text/plain": [
       "count    203147.000000\n",
       "mean         -0.000314\n",
       "std           0.147972\n",
       "min          -0.728444\n",
       "25%          -0.080943\n",
       "50%          -0.000227\n",
       "75%           0.080112\n",
       "max           0.852003\n",
       "Name: (All, e2), dtype: float64"
      ]
     },
     "execution_count": 42,
     "metadata": {},
     "output_type": "execute_result"
    },
    {
     "data": {
      "image/png": "[encoded data removed]",
      "text/plain": [
       "<Figure size 432x288 with 1 Axes>"
      ]
     },
     "metadata": {},
     "output_type": "display_data"
    }
   ],
   "source": [
    "from matplotlib.colors import LogNorm \n",
    "plt.hist2d(shapes['All','e1'],shapes['All','e2'],bins=500,norm=LogNorm())\n",
    "plt.axis('equal')\n",
    "plt.title(\"2D Histogram of $e_1$ and $e_2$\")\n",
    "pd.Series(shapes['All','e1']).describe()\n",
    "pd.Series(shapes['All','e2']).describe()"
   ]
  },
  {
   "cell_type": "code",
   "execution_count": 43,
   "metadata": {},
   "outputs": [
    {
     "data": {
      "text/plain": [
       "count    203147.000000\n",
       "mean          0.668211\n",
       "std         274.069209\n",
       "min      -44173.333800\n",
       "25%          -1.006553\n",
       "50%          -0.000025\n",
       "75%           0.998869\n",
       "max       67310.028672\n",
       "dtype: float64"
      ]
     },
     "execution_count": 43,
     "metadata": {},
     "output_type": "execute_result"
    },
    {
     "data": {
      "image/png": "[encoded data removed]",
      "text/plain": [
       "<Figure size 432x288 with 1 Axes>"
      ]
     },
     "metadata": {},
     "output_type": "display_data"
    }
   ],
   "source": [
    "#statistics and hisgoram of e2/e1\n",
    "plt.hist(shapes['All','e2']/shapes['All','e1'],bins=np.arange(-10,10,0.1))\n",
    "plt.title(\"Histogram of $e_2$/$e_1$\")\n",
    "pd.Series(shapes['All','e2']/shapes['All','e1']).describe()"
   ]
  },
  {
   "cell_type": "markdown",
   "metadata": {},
   "source": [
    "# Get phi "
   ]
  },
  {
   "cell_type": "code",
   "execution_count": 44,
   "metadata": {},
   "outputs": [],
   "source": [
    "def get_std_err_of_mean(np_array):\n",
    "    mean=np_array.mean()\n",
    "    std=np_array.std()\n",
    "    n=len(np_array)\n",
    "    return(std/np.sqrt(n))"
   ]
  },
  {
   "cell_type": "code",
   "execution_count": 45,
   "metadata": {},
   "outputs": [],
   "source": [
    "def get_theta_for_obj(obj1,obj2):\n",
    "    \n",
    "    \"\"\"Theta is the position angle of obj2 from north of east of obj1 \"\"\"\n",
    "    \n",
    "    ra1,dec1=(obj1[('All', 'RA')],obj1[('All', 'DEC')])\n",
    "    ra2,dec2=(obj2[('All', 'RA')],obj2[('All', 'DEC')])\n",
    "    \n",
    "    \n",
    "    \n",
    "    c1=SkyCoord(ra1*u.deg,dec1*u.deg)\n",
    "    c2=SkyCoord(ra2*u.deg,dec2*u.deg)\n",
    "    \n",
    "    \n",
    "    return(90-c1.position_angle(c2).degree)\n",
    "    "
   ]
  },
  {
   "cell_type": "code",
   "execution_count": 46,
   "metadata": {},
   "outputs": [],
   "source": [
    "def get_pa_for_obj(obj):\n",
    "    e1=obj['All']['e1']\n",
    "    e2=obj['All']['e1']\n",
    "    \n",
    "    α =0.5*np.arctan2(-e2,-e1)*180/np.pi\n",
    "    return(α)"
   ]
  },
  {
   "cell_type": "code",
   "execution_count": 47,
   "metadata": {},
   "outputs": [],
   "source": [
    "error_list_phi=[]\n",
    "error_list_e=[]\n",
    "\n",
    "def get_phi_for_cluster(cluster):\n",
    "    \n",
    "    \"\"\"Input: cluster series\n",
    "        Output: an array of position angle weighted by PP\n",
    "        Record KeyError in an array (usually caused by uncomplete shape catalog).\n",
    "    \"\"\"\n",
    "    \n",
    "    try:\n",
    "        center_id=cluster[('Alt', 'Alt1', 'ID_CENT')]\n",
    "        center = shapes.loc[center_id]\n",
    "\n",
    "        mem_match_id=cluster.name\n",
    "        members=shapes[shapes['All','MEM_MATCH_ID']==mem_match_id]\n",
    "\n",
    "\n",
    "\n",
    "        pa=np.array([get_pa_for_obj(member[1]) for member in members.iterrows()]).flatten()\n",
    "        theta= np.array([get_theta_for_obj(member[1],center) for member in members.iterrows()]).flatten()\n",
    "        pp=members[('All','PP')]\n",
    "        phi=(pa-theta)\n",
    "        phi_w=(pa-theta)*pp\n",
    "    #     print(center.index)\n",
    "        return(phi,phi_w)    \n",
    "    except KeyError as e:\n",
    "        error_list_phi.append(e)\n",
    "        return(np.array([]),np.array([]))"
   ]
  },
  {
   "cell_type": "code",
   "execution_count": 48,
   "metadata": {},
   "outputs": [
    {
     "data": {
      "application/vnd.jupyter.widget-view+json": {
       "model_id": "37f8d0f985004c77a3a693652ca6feab",
       "version_major": 2,
       "version_minor": 0
      },
      "text/plain": [
       "HBox(children=(IntProgress(value=0, max=12482), HTML(value='')))"
      ]
     },
     "metadata": {},
     "output_type": "display_data"
    },
    {
     "name": "stdout",
     "output_type": "stream",
     "text": [
      "\n"
     ]
    }
   ],
   "source": [
    "phi_list=[]\n",
    "phi_w_list=[]\n",
    "for mem_matching_id in tqdm(clusters.index):\n",
    "    phi_array=get_phi_for_cluster(clusters.loc[mem_matching_id])[0]\n",
    "    phi_w_array=get_phi_for_cluster(clusters.loc[mem_matching_id])[1]\n",
    "    phi_w_list.append(phi_w_array)\n",
    "    phi_list.append(phi_array)\n",
    "phi_list=np.array(phi_list)\n",
    "phi_w_list=np.array(phi_w_list)"
   ]
  },
  {
   "cell_type": "code",
   "execution_count": 49,
   "metadata": {},
   "outputs": [],
   "source": [
    "def process_phi(phi_list):\n",
    "\n",
    "    phi_1d=np.concatenate(phi_list)\n",
    "\n",
    "    phi_1d=np.where(phi_1d<=0,-phi_1d,phi_1d)\n",
    "    phi_1d=np.where(phi_1d>=180,phi_1d-180,phi_1d)\n",
    "    phi_1d=np.where(phi_1d>=90,180-phi_1d,phi_1d)\n",
    "\n",
    "    phi_1d=np.sort(phi_1d)\n",
    "    \n",
    "    return(phi_1d)\n",
    "\n",
    "phi_1d=process_phi(phi_list)\n",
    "phi_w_1d=process_phi(phi_w_list)"
   ]
  },
  {
   "cell_type": "code",
   "execution_count": 51,
   "metadata": {},
   "outputs": [],
   "source": [
    "np.save(\"/home/cz136/project/sa/data/{}/phi_1d.npy\".format(dir_string),phi_1d)\n",
    "np.save(\"/home/cz136/project/sa/data/{}/phi_w_1d.npy\".format(dir_string),phi_w_1d)"
   ]
  },
  {
   "cell_type": "markdown",
   "metadata": {},
   "source": [
    "## Stats for unweighted "
   ]
  },
  {
   "cell_type": "code",
   "execution_count": 52,
   "metadata": {},
   "outputs": [
    {
     "name": "stdout",
     "output_type": "stream",
     "text": [
      "Mean:4.524490e+01 \n",
      "StdE:5.718271e-02 \n"
     ]
    }
   ],
   "source": [
    "# phi_1d=np.load(\"/home/cz136/project/sa/data/phi_1d.npy\")\n",
    "pd.Series(phi_1d).describe()\n",
    "print(\"Mean:{:05e} \\nStdE:{:05e} \".format(phi_1d.mean(),phi_1d.std()/np.sqrt(len(phi_1d))))"
   ]
  },
  {
   "cell_type": "code",
   "execution_count": 53,
   "metadata": {},
   "outputs": [
    {
     "data": {
      "text/plain": [
       "count    203070.000000\n",
       "mean         45.244898\n",
       "std          25.768473\n",
       "min           0.000277\n",
       "25%          22.500000\n",
       "50%          45.390314\n",
       "75%          67.500000\n",
       "max          89.999729\n",
       "dtype: float64"
      ]
     },
     "execution_count": 53,
     "metadata": {},
     "output_type": "execute_result"
    },
    {
     "data": {
      "image/png": "[encoded data removed]",
      "text/plain": [
       "<Figure size 432x288 with 1 Axes>"
      ]
     },
     "metadata": {},
     "output_type": "display_data"
    }
   ],
   "source": [
    "BINS=np.arange(0,90,1)\n",
    "ax = sns.distplot(phi_1d,bins=BINS)\n",
    "ax.set_title(\"Histogram of $\\phi_{sat}$, unweighted\") \n",
    "pd.Series(phi_1d).describe()"
   ]
  },
  {
   "cell_type": "markdown",
   "metadata": {},
   "source": [
    "## Stats for weighted"
   ]
  },
  {
   "cell_type": "code",
   "execution_count": 54,
   "metadata": {},
   "outputs": [
    {
     "name": "stdout",
     "output_type": "stream",
     "text": [
      "Mean:4.524490e+01 \n",
      "StdE:5.718271e-02 \n"
     ]
    }
   ],
   "source": [
    "pd.Series(phi_w_1d).describe()\n",
    "print(\"Mean:{:05e} \\nStdE:{:05e} \".format(phi_1d.mean(),phi_1d.std()/np.sqrt(len(phi_1d))))"
   ]
  },
  {
   "cell_type": "code",
   "execution_count": 55,
   "metadata": {},
   "outputs": [
    {
     "data": {
      "text/plain": [
       "count    203070.000000\n",
       "mean         45.101813\n",
       "std          25.728342\n",
       "min           0.000228\n",
       "25%          22.500000\n",
       "50%          44.983953\n",
       "75%          67.500000\n",
       "max          89.999829\n",
       "dtype: float64"
      ]
     },
     "execution_count": 55,
     "metadata": {},
     "output_type": "execute_result"
    },
    {
     "data": {
      "image/png": "[encoded data removed]",
      "text/plain": [
       "<Figure size 432x288 with 1 Axes>"
      ]
     },
     "metadata": {},
     "output_type": "display_data"
    }
   ],
   "source": [
    "BINS=np.arange(0,90,1)\n",
    "ax = sns.distplot(phi_1d,bins=BINS)\n",
    "ax.set_title(\"Histogram of $\\phi_{sat}$ weighted by probability\") \n",
    "pd.Series(phi_w_1d).describe()"
   ]
  },
  {
   "cell_type": "markdown",
   "metadata": {},
   "source": [
    "# Analysis around 22.5 and 67.5"
   ]
  },
  {
   "cell_type": "code",
   "execution_count": 56,
   "metadata": {},
   "outputs": [
    {
     "name": "stdout",
     "output_type": "stream",
     "text": [
      "[67 22 68 77 71 72 19 61 86 64 46 27 87 56 44 75  9 48 76 65 21 88 59 54\n",
      " 38 82 80 69  0 20 63 40 25 43 66 36 70 84 53 23 85 51 28 47 81 18 30 55\n",
      " 79 62 31 17 57 78 74 32 39 13 34 15  8 16 58 60 10  1  5 52 11  2 12 26\n",
      " 33 42 35 37 83 45 73  6  7 29 49 41 50  4 24  3 14]\n",
      "[8398 8329 2229 2207 2191 2190 2189 2185 2184 2181 2179 2176 2173 2171\n",
      " 2170 2170 2168 2160 2159 2157 2157 2157 2156 2155 2154 2154 2153 2152\n",
      " 2148 2148 2147 2145 2143 2140 2139 2137 2136 2134 2134 2133 2132 2129\n",
      " 2126 2126 2124 2124 2124 2121 2120 2118 2116 2114 2112 2107 2107 2105\n",
      " 2102 2102 2101 2100 2100 2096 2096 2095 2091 2089 2089 2083 2082 2081\n",
      " 2079 2077 2075 2074 2071 2069 2069 2068 2068 2067 2056 2034 2022 2020\n",
      " 2017 2014 2009 2008 1973]\n"
     ]
    }
   ],
   "source": [
    "#Print out the most crowded bins\n",
    "\n",
    "phi_count=np.histogram(phi_1d,bins=BINS)\n",
    "sort=np.argsort(-phi_count[0])\n",
    "print(phi_count[1][sort])\n",
    "print(phi_count[0][sort])"
   ]
  },
  {
   "cell_type": "code",
   "execution_count": 57,
   "metadata": {},
   "outputs": [
    {
     "data": {
      "text/plain": [
       "count    8398.000000\n",
       "mean       22.504255\n",
       "std         0.150717\n",
       "min        22.001008\n",
       "25%        22.500000\n",
       "50%        22.500000\n",
       "75%        22.500000\n",
       "max        23.030620\n",
       "dtype: float64"
      ]
     },
     "execution_count": 57,
     "metadata": {},
     "output_type": "execute_result"
    },
    {
     "data": {
      "image/png": "[encoded data removed]",
      "text/plain": [
       "<Figure size 432x288 with 1 Axes>"
      ]
     },
     "metadata": {},
     "output_type": "display_data"
    }
   ],
   "source": [
    "#Statistics around 22.5\n",
    "first_cluster_left=np.sum(phi_count[0][0:22])\n",
    "first_length=phi_count[0][sort][0]\n",
    "first_cluster=phi_1d[first_cluster_left:first_cluster_left+first_length]\n",
    "ax = sns.distplot(first_cluster)\n",
    "ax.set_title(\"$\\phi_{sat}$ Distribution Around 22.5 $\\degree$\")\n",
    "pd.Series(first_cluster).describe()"
   ]
  },
  {
   "cell_type": "code",
   "execution_count": 58,
   "metadata": {},
   "outputs": [
    {
     "data": {
      "text/plain": [
       "count    8398.000000\n",
       "mean       67.499755\n",
       "std         0.145428\n",
       "min        67.000531\n",
       "25%        67.500000\n",
       "50%        67.500000\n",
       "75%        67.500000\n",
       "max        67.999551\n",
       "dtype: float64"
      ]
     },
     "execution_count": 58,
     "metadata": {},
     "output_type": "execute_result"
    },
    {
     "data": {
      "image/png": "[encoded data removed]",
      "text/plain": [
       "<Figure size 432x288 with 1 Axes>"
      ]
     },
     "metadata": {},
     "output_type": "display_data"
    }
   ],
   "source": [
    "second_cluster_left=np.sum(phi_count[0][0:67])\n",
    "second_length=phi_count[0][sort][0]\n",
    "second_cluster=phi_1d[second_cluster_left:second_cluster_left+second_length]\n",
    "ax = sns.distplot(second_cluster)\n",
    "ax.set_title(\"$\\phi_{sat}$ Distribution Around 67.5 $\\degree$\")\n",
    "pd.Series(second_cluster).describe()"
   ]
  },
  {
   "cell_type": "markdown",
   "metadata": {},
   "source": [
    "# Get e"
   ]
  },
  {
   "cell_type": "markdown",
   "metadata": {},
   "source": [
    "## Statistics of e1 and e2"
   ]
  },
  {
   "cell_type": "code",
   "execution_count": 59,
   "metadata": {},
   "outputs": [
    {
     "data": {
      "text/plain": [
       "count    203147.000000\n",
       "mean          0.000251\n",
       "std           0.147180\n",
       "min          -0.838272\n",
       "25%          -0.079562\n",
       "50%          -0.000224\n",
       "75%           0.080158\n",
       "max           0.789564\n",
       "Name: (All, e1), dtype: float64"
      ]
     },
     "execution_count": 59,
     "metadata": {},
     "output_type": "execute_result"
    }
   ],
   "source": [
    "e1=shapes[('All','e1')].to_numpy()\n",
    "shapes[('All','e1')].describe()"
   ]
  },
  {
   "cell_type": "code",
   "execution_count": 60,
   "metadata": {},
   "outputs": [
    {
     "data": {
      "text/plain": [
       "count    203147.000000\n",
       "mean         -0.000314\n",
       "std           0.147972\n",
       "min          -0.728444\n",
       "25%          -0.080943\n",
       "50%          -0.000227\n",
       "75%           0.080112\n",
       "max           0.852003\n",
       "Name: (All, e2), dtype: float64"
      ]
     },
     "execution_count": 60,
     "metadata": {},
     "output_type": "execute_result"
    }
   ],
   "source": [
    "e2=shapes[('All','e1')].to_numpy()\n",
    "shapes[('All','e2')].describe()"
   ]
  },
  {
   "cell_type": "code",
   "execution_count": 61,
   "metadata": {},
   "outputs": [],
   "source": [
    "def get_e_for_pair(cen,sat):\n",
    "    e=np.sqrt(sat[('All','e1')]**2+sat[('All','e2')]**2)\n",
    "    delta=get_theta_for_obj(cen,sat)\n",
    "    alpha=get_pa_for_obj(sat)\n",
    "    ep,ex=(e*np.cos(2*(delta-alpha)),e*np.sin(2*(delta-alpha)))\n",
    "    return(ep,ex)"
   ]
  },
  {
   "cell_type": "code",
   "execution_count": 62,
   "metadata": {},
   "outputs": [],
   "source": [
    "def get_e_for_cluster(cluster):\n",
    "    \n",
    "    try:\n",
    "        center_id=cluster[('Alt', 'Alt1', 'ID_CENT')]\n",
    "        center = shapes.loc[center_id]\n",
    "\n",
    "        mem_match_id=cluster.name\n",
    "        members=shapes[shapes['All','MEM_MATCH_ID']==mem_match_id]\n",
    "\n",
    "        e_array=np.array([(get_e_for_pair(center,member[1])) for member in members.iterrows()])\n",
    "        return(e_array)    \n",
    "    except KeyError as e:\n",
    "        error_list_e.append(e)\n",
    "        return(np.array([]))"
   ]
  },
  {
   "cell_type": "code",
   "execution_count": 63,
   "metadata": {},
   "outputs": [
    {
     "data": {
      "application/vnd.jupyter.widget-view+json": {
       "model_id": "fdd298a50cef4db4bb0a5626eaa89cfd",
       "version_major": 2,
       "version_minor": 0
      },
      "text/plain": [
       "HBox(children=(IntProgress(value=0, max=12482), HTML(value='')))"
      ]
     },
     "metadata": {},
     "output_type": "display_data"
    },
    {
     "name": "stdout",
     "output_type": "stream",
     "text": [
      "\n"
     ]
    },
    {
     "name": "stderr",
     "output_type": "stream",
     "text": [
      "/home/cz136/anaconda3/envs/balrog/lib/python3.7/site-packages/ipykernel_launcher.py:6: DeprecationWarning: elementwise comparison failed; this will raise an error in the future.\n",
      "  \n"
     ]
    }
   ],
   "source": [
    "e_list=[]\n",
    "for mem_matching_id in tqdm(clusters.index[:]):\n",
    "    e_array=get_e_for_cluster(clusters.loc[mem_matching_id])\n",
    "    e_list.append(e_array)\n",
    "e_list=np.array(e_list)\n",
    "e_list=np.concatenate([e_array for e_array in e_list if e_array!=np.array([])])"
   ]
  },
  {
   "cell_type": "code",
   "execution_count": 64,
   "metadata": {},
   "outputs": [],
   "source": [
    "np.save(\"/home/cz136/project/sa/data/{}/e_array\".format(dir_string),e_list)"
   ]
  },
  {
   "cell_type": "code",
   "execution_count": 65,
   "metadata": {},
   "outputs": [],
   "source": [
    "e_p_1d=e_list[:,0].flatten()\n",
    "e_x_1d=e_list[:,1].flatten()"
   ]
  },
  {
   "cell_type": "code",
   "execution_count": 66,
   "metadata": {},
   "outputs": [
    {
     "name": "stdout",
     "output_type": "stream",
     "text": [
      "mean=-1.079288e-03, std_mean=3.299100e-04\n"
     ]
    },
    {
     "data": {
      "text/plain": [
       "count    203070.000000\n",
       "mean         -0.001079\n",
       "std           0.148669\n",
       "min          -0.707431\n",
       "25%          -0.084116\n",
       "50%          -0.000076\n",
       "75%           0.080769\n",
       "max           0.790708\n",
       "dtype: float64"
      ]
     },
     "execution_count": 66,
     "metadata": {},
     "output_type": "execute_result"
    },
    {
     "data": {
      "image/png": "[encoded data removed]",
      "text/plain": [
       "<Figure size 432x288 with 1 Axes>"
      ]
     },
     "metadata": {},
     "output_type": "display_data"
    }
   ],
   "source": [
    "ax=sns.distplot(e_p_1d)\n",
    "ax.set_title(\"Distribution of $e_{+}$\")\n",
    "print (\"mean={:05e}, std_mean={:05e}\".format(e_p_1d.mean(),get_std_err_of_mean(e_p_1d)))\n",
    "pd.Series(e_p_1d).describe()"
   ]
  },
  {
   "cell_type": "code",
   "execution_count": 67,
   "metadata": {},
   "outputs": [
    {
     "name": "stdout",
     "output_type": "stream",
     "text": [
      "mean=2.529112e-03, std_mean=3.249821e-04\n"
     ]
    },
    {
     "data": {
      "text/plain": [
       "count    203070.000000\n",
       "mean          0.002529\n",
       "std           0.146448\n",
       "min          -0.750668\n",
       "25%          -0.075567\n",
       "50%           0.006091\n",
       "75%           0.080926\n",
       "max           0.786804\n",
       "dtype: float64"
      ]
     },
     "execution_count": 67,
     "metadata": {},
     "output_type": "execute_result"
    },
    {
     "data": {
      "image/png": "[encoded data removed]",
      "text/plain": [
       "<Figure size 432x288 with 1 Axes>"
      ]
     },
     "metadata": {},
     "output_type": "display_data"
    }
   ],
   "source": [
    "ax=sns.distplot(e_x_1d)\n",
    "ax.set_title(\"Distribution of $e_{x}$\")\n",
    "print (\"mean={:05e}, std_mean={:05e}\".format(e_x_1d.mean(),get_std_err_of_mean(e_x_1d)))\n",
    "pd.Series(e_x_1d).describe()"
   ]
  },
  {
   "cell_type": "code",
   "execution_count": null,
   "metadata": {},
   "outputs": [],
   "source": []
  }
 ],
 "metadata": {
  "kernelspec": {
   "display_name": "Python 3",
   "language": "python",
   "name": "python3"
  },
  "language_info": {
   "codemirror_mode": {
    "name": "ipython",
    "version": 3
   },
   "file_extension": ".py",
   "mimetype": "text/x-python",
   "name": "python",
   "nbconvert_exporter": "python",
   "pygments_lexer": "ipython3",
   "version": "3.7.3"
  }
 },
 "nbformat": 4,
 "nbformat_minor": 4
}
